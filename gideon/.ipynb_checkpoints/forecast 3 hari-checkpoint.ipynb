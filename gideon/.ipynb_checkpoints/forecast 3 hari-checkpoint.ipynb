{
 "cells": [
  {
   "cell_type": "markdown",
   "id": "d52784cf-62e9-4422-8c4e-96ae1a4b3c3c",
   "metadata": {},
   "source": [
    "# Forecast Harga Pasar Komoditas Bawang Merah di Brebes"
   ]
  },
  {
   "cell_type": "markdown",
   "id": "c168926e-8e59-4897-881d-868bfafb83ed",
   "metadata": {},
   "source": [
    "## Import Libraries"
   ]
  },
  {
   "cell_type": "code",
   "execution_count": 1,
   "id": "2febd797-71b8-468d-a1dd-e0e408035229",
   "metadata": {},
   "outputs": [],
   "source": [
    "import tensorflow as tf\n",
    "import pandas as pd\n",
    "import numpy as np\n",
    "import matplotlib.pyplot as plt\n",
    "import math\n",
    "from sklearn.metrics import mean_absolute_error, mean_squared_error\n",
    "from tensorflow import keras\n",
    "from tensorflow.keras.layers import Input, LSTM, Dense, Dropout, Flatten"
   ]
  },
  {
   "cell_type": "markdown",
   "id": "a0cfe503-c1bc-47b8-915c-072d111e099b",
   "metadata": {},
   "source": [
    "## Data Collections"
   ]
  },
  {
   "cell_type": "code",
   "execution_count": 2,
   "id": "b5001090-84ee-4281-9c66-8f6523fdbc0a",
   "metadata": {},
   "outputs": [
    {
     "data": {
      "text/html": [
       "<div>\n",
       "<style scoped>\n",
       "    .dataframe tbody tr th:only-of-type {\n",
       "        vertical-align: middle;\n",
       "    }\n",
       "\n",
       "    .dataframe tbody tr th {\n",
       "        vertical-align: top;\n",
       "    }\n",
       "\n",
       "    .dataframe thead th {\n",
       "        text-align: right;\n",
       "    }\n",
       "</style>\n",
       "<table border=\"1\" class=\"dataframe\">\n",
       "  <thead>\n",
       "    <tr style=\"text-align: right;\">\n",
       "      <th></th>\n",
       "      <th>Komoditas (Rp)</th>\n",
       "      <th>15/03/2021</th>\n",
       "      <th>16/03/2021</th>\n",
       "      <th>17/03/2021</th>\n",
       "      <th>18/03/2021</th>\n",
       "      <th>19/03/2021</th>\n",
       "      <th>20/03/2021</th>\n",
       "      <th>21/03/2021</th>\n",
       "      <th>22/03/2021</th>\n",
       "      <th>23/03/2021</th>\n",
       "      <th>...</th>\n",
       "      <th>21/10/2024</th>\n",
       "      <th>22/10/2024</th>\n",
       "      <th>23/10/2024</th>\n",
       "      <th>24/10/2024</th>\n",
       "      <th>25/10/2024</th>\n",
       "      <th>26/10/2024</th>\n",
       "      <th>27/10/2024</th>\n",
       "      <th>28/10/2024</th>\n",
       "      <th>29/10/2024</th>\n",
       "      <th>30/10/2024</th>\n",
       "    </tr>\n",
       "  </thead>\n",
       "  <tbody>\n",
       "    <tr>\n",
       "      <th>0</th>\n",
       "      <td>Beras Premium</td>\n",
       "      <td>11.500</td>\n",
       "      <td>11.500</td>\n",
       "      <td>11.500</td>\n",
       "      <td>11.500</td>\n",
       "      <td>11.500</td>\n",
       "      <td>11.500</td>\n",
       "      <td>-</td>\n",
       "      <td>11.500</td>\n",
       "      <td>-</td>\n",
       "      <td>...</td>\n",
       "      <td>16.0</td>\n",
       "      <td>16.0</td>\n",
       "      <td>16.0</td>\n",
       "      <td>-</td>\n",
       "      <td>-</td>\n",
       "      <td>16.0</td>\n",
       "      <td>16.0</td>\n",
       "      <td>-</td>\n",
       "      <td>16.0</td>\n",
       "      <td>15.0</td>\n",
       "    </tr>\n",
       "    <tr>\n",
       "      <th>1</th>\n",
       "      <td>Beras Medium</td>\n",
       "      <td>9.000</td>\n",
       "      <td>9.000</td>\n",
       "      <td>9.000</td>\n",
       "      <td>9.000</td>\n",
       "      <td>9.000</td>\n",
       "      <td>9.000</td>\n",
       "      <td>-</td>\n",
       "      <td>9.000</td>\n",
       "      <td>-</td>\n",
       "      <td>...</td>\n",
       "      <td>14.0</td>\n",
       "      <td>14.0</td>\n",
       "      <td>14.0</td>\n",
       "      <td>-</td>\n",
       "      <td>-</td>\n",
       "      <td>14.0</td>\n",
       "      <td>14.0</td>\n",
       "      <td>-</td>\n",
       "      <td>14.0</td>\n",
       "      <td>13.5</td>\n",
       "    </tr>\n",
       "    <tr>\n",
       "      <th>2</th>\n",
       "      <td>Kedelai Biji Kering (Impor)</td>\n",
       "      <td>11.000</td>\n",
       "      <td>11.000</td>\n",
       "      <td>11.000</td>\n",
       "      <td>11.000</td>\n",
       "      <td>11.000</td>\n",
       "      <td>11.000</td>\n",
       "      <td>-</td>\n",
       "      <td>10.000</td>\n",
       "      <td>-</td>\n",
       "      <td>...</td>\n",
       "      <td>10.3</td>\n",
       "      <td>10.3</td>\n",
       "      <td>10.3</td>\n",
       "      <td>-</td>\n",
       "      <td>-</td>\n",
       "      <td>10.3</td>\n",
       "      <td>10.3</td>\n",
       "      <td>-</td>\n",
       "      <td>10.3</td>\n",
       "      <td>10.3</td>\n",
       "    </tr>\n",
       "    <tr>\n",
       "      <th>3</th>\n",
       "      <td>Bawang Merah</td>\n",
       "      <td>28.000</td>\n",
       "      <td>28.000</td>\n",
       "      <td>28.000</td>\n",
       "      <td>28.000</td>\n",
       "      <td>28.000</td>\n",
       "      <td>27.000</td>\n",
       "      <td>-</td>\n",
       "      <td>27.000</td>\n",
       "      <td>-</td>\n",
       "      <td>...</td>\n",
       "      <td>22.0</td>\n",
       "      <td>22.0</td>\n",
       "      <td>22.0</td>\n",
       "      <td>-</td>\n",
       "      <td>-</td>\n",
       "      <td>22.0</td>\n",
       "      <td>22.0</td>\n",
       "      <td>-</td>\n",
       "      <td>28.0</td>\n",
       "      <td>28.0</td>\n",
       "    </tr>\n",
       "    <tr>\n",
       "      <th>4</th>\n",
       "      <td>Bawang Putih Bonggol</td>\n",
       "      <td>22.000</td>\n",
       "      <td>22.000</td>\n",
       "      <td>22.000</td>\n",
       "      <td>22.000</td>\n",
       "      <td>22.000</td>\n",
       "      <td>22.000</td>\n",
       "      <td>-</td>\n",
       "      <td>22.000</td>\n",
       "      <td>-</td>\n",
       "      <td>...</td>\n",
       "      <td>35.0</td>\n",
       "      <td>35.0</td>\n",
       "      <td>35.0</td>\n",
       "      <td>-</td>\n",
       "      <td>-</td>\n",
       "      <td>35.0</td>\n",
       "      <td>35.0</td>\n",
       "      <td>-</td>\n",
       "      <td>35.0</td>\n",
       "      <td>35.0</td>\n",
       "    </tr>\n",
       "    <tr>\n",
       "      <th>5</th>\n",
       "      <td>Cabai Merah Keriting</td>\n",
       "      <td>50.000</td>\n",
       "      <td>50.000</td>\n",
       "      <td>50.000</td>\n",
       "      <td>50.000</td>\n",
       "      <td>50.000</td>\n",
       "      <td>50.000</td>\n",
       "      <td>-</td>\n",
       "      <td>50.000</td>\n",
       "      <td>-</td>\n",
       "      <td>...</td>\n",
       "      <td>25.0</td>\n",
       "      <td>25.0</td>\n",
       "      <td>25.0</td>\n",
       "      <td>-</td>\n",
       "      <td>-</td>\n",
       "      <td>25.0</td>\n",
       "      <td>25.0</td>\n",
       "      <td>-</td>\n",
       "      <td>30.0</td>\n",
       "      <td>30.0</td>\n",
       "    </tr>\n",
       "    <tr>\n",
       "      <th>6</th>\n",
       "      <td>Cabai Rawit Merah</td>\n",
       "      <td>115.000</td>\n",
       "      <td>115.000</td>\n",
       "      <td>115.000</td>\n",
       "      <td>115.000</td>\n",
       "      <td>110.000</td>\n",
       "      <td>115.000</td>\n",
       "      <td>-</td>\n",
       "      <td>115.000</td>\n",
       "      <td>-</td>\n",
       "      <td>...</td>\n",
       "      <td>35.0</td>\n",
       "      <td>35.0</td>\n",
       "      <td>35.0</td>\n",
       "      <td>-</td>\n",
       "      <td>-</td>\n",
       "      <td>35.0</td>\n",
       "      <td>35.0</td>\n",
       "      <td>-</td>\n",
       "      <td>40.0</td>\n",
       "      <td>40.0</td>\n",
       "    </tr>\n",
       "    <tr>\n",
       "      <th>7</th>\n",
       "      <td>Daging Sapi Murni</td>\n",
       "      <td>120.000</td>\n",
       "      <td>120.000</td>\n",
       "      <td>120.000</td>\n",
       "      <td>120.000</td>\n",
       "      <td>120.000</td>\n",
       "      <td>120.000</td>\n",
       "      <td>-</td>\n",
       "      <td>120.000</td>\n",
       "      <td>-</td>\n",
       "      <td>...</td>\n",
       "      <td>143.0</td>\n",
       "      <td>143.0</td>\n",
       "      <td>143.0</td>\n",
       "      <td>-</td>\n",
       "      <td>-</td>\n",
       "      <td>143.0</td>\n",
       "      <td>143.0</td>\n",
       "      <td>-</td>\n",
       "      <td>143.0</td>\n",
       "      <td>143.0</td>\n",
       "    </tr>\n",
       "    <tr>\n",
       "      <th>8</th>\n",
       "      <td>Daging Ayam Ras</td>\n",
       "      <td>36.000</td>\n",
       "      <td>36.000</td>\n",
       "      <td>36.000</td>\n",
       "      <td>36.000</td>\n",
       "      <td>36.000</td>\n",
       "      <td>36.000</td>\n",
       "      <td>-</td>\n",
       "      <td>36.000</td>\n",
       "      <td>-</td>\n",
       "      <td>...</td>\n",
       "      <td>37.0</td>\n",
       "      <td>37.0</td>\n",
       "      <td>37.0</td>\n",
       "      <td>-</td>\n",
       "      <td>-</td>\n",
       "      <td>37.0</td>\n",
       "      <td>38.0</td>\n",
       "      <td>-</td>\n",
       "      <td>38.0</td>\n",
       "      <td>37.0</td>\n",
       "    </tr>\n",
       "    <tr>\n",
       "      <th>9</th>\n",
       "      <td>Telur Ayam Ras</td>\n",
       "      <td>22.000</td>\n",
       "      <td>22.000</td>\n",
       "      <td>22.000</td>\n",
       "      <td>22.000</td>\n",
       "      <td>22.000</td>\n",
       "      <td>22.000</td>\n",
       "      <td>-</td>\n",
       "      <td>22.000</td>\n",
       "      <td>-</td>\n",
       "      <td>...</td>\n",
       "      <td>26.5</td>\n",
       "      <td>26.5</td>\n",
       "      <td>26.5</td>\n",
       "      <td>-</td>\n",
       "      <td>-</td>\n",
       "      <td>26.0</td>\n",
       "      <td>26.0</td>\n",
       "      <td>-</td>\n",
       "      <td>26.5</td>\n",
       "      <td>27.0</td>\n",
       "    </tr>\n",
       "    <tr>\n",
       "      <th>10</th>\n",
       "      <td>Gula Konsumsi</td>\n",
       "      <td>12.500</td>\n",
       "      <td>12.500</td>\n",
       "      <td>12.500</td>\n",
       "      <td>12.500</td>\n",
       "      <td>12.500</td>\n",
       "      <td>12.500</td>\n",
       "      <td>-</td>\n",
       "      <td>12.500</td>\n",
       "      <td>-</td>\n",
       "      <td>...</td>\n",
       "      <td>17.5</td>\n",
       "      <td>17.5</td>\n",
       "      <td>17.5</td>\n",
       "      <td>-</td>\n",
       "      <td>-</td>\n",
       "      <td>17.5</td>\n",
       "      <td>17.5</td>\n",
       "      <td>-</td>\n",
       "      <td>17.5</td>\n",
       "      <td>17.5</td>\n",
       "    </tr>\n",
       "    <tr>\n",
       "      <th>11</th>\n",
       "      <td>Minyak Goreng Kemasan Sederhana</td>\n",
       "      <td>14.000</td>\n",
       "      <td>14.000</td>\n",
       "      <td>14.000</td>\n",
       "      <td>14.000</td>\n",
       "      <td>14.000</td>\n",
       "      <td>14.000</td>\n",
       "      <td>-</td>\n",
       "      <td>14.000</td>\n",
       "      <td>-</td>\n",
       "      <td>...</td>\n",
       "      <td>19.0</td>\n",
       "      <td>19.0</td>\n",
       "      <td>19.0</td>\n",
       "      <td>-</td>\n",
       "      <td>-</td>\n",
       "      <td>19.0</td>\n",
       "      <td>19.0</td>\n",
       "      <td>-</td>\n",
       "      <td>19.0</td>\n",
       "      <td>19.0</td>\n",
       "    </tr>\n",
       "    <tr>\n",
       "      <th>12</th>\n",
       "      <td>Tepung Terigu (Curah)</td>\n",
       "      <td>7.000</td>\n",
       "      <td>7.000</td>\n",
       "      <td>7.000</td>\n",
       "      <td>7.000</td>\n",
       "      <td>7.000</td>\n",
       "      <td>7.000</td>\n",
       "      <td>-</td>\n",
       "      <td>7.000</td>\n",
       "      <td>-</td>\n",
       "      <td>...</td>\n",
       "      <td>9.0</td>\n",
       "      <td>9.0</td>\n",
       "      <td>9.0</td>\n",
       "      <td>-</td>\n",
       "      <td>-</td>\n",
       "      <td>9.0</td>\n",
       "      <td>9.0</td>\n",
       "      <td>-</td>\n",
       "      <td>9.0</td>\n",
       "      <td>9.0</td>\n",
       "    </tr>\n",
       "    <tr>\n",
       "      <th>13</th>\n",
       "      <td>Minyak Goreng Curah</td>\n",
       "      <td>-</td>\n",
       "      <td>-</td>\n",
       "      <td>-</td>\n",
       "      <td>-</td>\n",
       "      <td>-</td>\n",
       "      <td>-</td>\n",
       "      <td>-</td>\n",
       "      <td>-</td>\n",
       "      <td>-</td>\n",
       "      <td>...</td>\n",
       "      <td>17.0</td>\n",
       "      <td>17.0</td>\n",
       "      <td>17.0</td>\n",
       "      <td>-</td>\n",
       "      <td>-</td>\n",
       "      <td>17.0</td>\n",
       "      <td>17.0</td>\n",
       "      <td>-</td>\n",
       "      <td>17.0</td>\n",
       "      <td>17.0</td>\n",
       "    </tr>\n",
       "    <tr>\n",
       "      <th>14</th>\n",
       "      <td>Jagung Tk Peternak</td>\n",
       "      <td>-</td>\n",
       "      <td>-</td>\n",
       "      <td>-</td>\n",
       "      <td>-</td>\n",
       "      <td>-</td>\n",
       "      <td>-</td>\n",
       "      <td>-</td>\n",
       "      <td>-</td>\n",
       "      <td>-</td>\n",
       "      <td>...</td>\n",
       "      <td>5.1</td>\n",
       "      <td>5.1</td>\n",
       "      <td>5.1</td>\n",
       "      <td>-</td>\n",
       "      <td>-</td>\n",
       "      <td>5.1</td>\n",
       "      <td>5.1</td>\n",
       "      <td>-</td>\n",
       "      <td>5.1</td>\n",
       "      <td>5.1</td>\n",
       "    </tr>\n",
       "    <tr>\n",
       "      <th>15</th>\n",
       "      <td>Ikan Kembung</td>\n",
       "      <td>-</td>\n",
       "      <td>-</td>\n",
       "      <td>-</td>\n",
       "      <td>-</td>\n",
       "      <td>-</td>\n",
       "      <td>-</td>\n",
       "      <td>-</td>\n",
       "      <td>-</td>\n",
       "      <td>-</td>\n",
       "      <td>...</td>\n",
       "      <td>28.0</td>\n",
       "      <td>28.0</td>\n",
       "      <td>28.0</td>\n",
       "      <td>-</td>\n",
       "      <td>-</td>\n",
       "      <td>28.0</td>\n",
       "      <td>28.0</td>\n",
       "      <td>-</td>\n",
       "      <td>28.0</td>\n",
       "      <td>30.0</td>\n",
       "    </tr>\n",
       "    <tr>\n",
       "      <th>16</th>\n",
       "      <td>Ikan Tongkol</td>\n",
       "      <td>-</td>\n",
       "      <td>-</td>\n",
       "      <td>-</td>\n",
       "      <td>-</td>\n",
       "      <td>-</td>\n",
       "      <td>-</td>\n",
       "      <td>-</td>\n",
       "      <td>-</td>\n",
       "      <td>-</td>\n",
       "      <td>...</td>\n",
       "      <td>28.0</td>\n",
       "      <td>28.0</td>\n",
       "      <td>28.0</td>\n",
       "      <td>-</td>\n",
       "      <td>-</td>\n",
       "      <td>28.0</td>\n",
       "      <td>28.0</td>\n",
       "      <td>-</td>\n",
       "      <td>28.0</td>\n",
       "      <td>30.0</td>\n",
       "    </tr>\n",
       "    <tr>\n",
       "      <th>17</th>\n",
       "      <td>Ikan Bandeng</td>\n",
       "      <td>-</td>\n",
       "      <td>-</td>\n",
       "      <td>-</td>\n",
       "      <td>-</td>\n",
       "      <td>-</td>\n",
       "      <td>-</td>\n",
       "      <td>-</td>\n",
       "      <td>-</td>\n",
       "      <td>-</td>\n",
       "      <td>...</td>\n",
       "      <td>32.0</td>\n",
       "      <td>32.0</td>\n",
       "      <td>32.0</td>\n",
       "      <td>-</td>\n",
       "      <td>-</td>\n",
       "      <td>32.0</td>\n",
       "      <td>32.0</td>\n",
       "      <td>-</td>\n",
       "      <td>30.0</td>\n",
       "      <td>33.0</td>\n",
       "    </tr>\n",
       "    <tr>\n",
       "      <th>18</th>\n",
       "      <td>Garam Halus Beryodium</td>\n",
       "      <td>-</td>\n",
       "      <td>-</td>\n",
       "      <td>-</td>\n",
       "      <td>-</td>\n",
       "      <td>-</td>\n",
       "      <td>-</td>\n",
       "      <td>-</td>\n",
       "      <td>-</td>\n",
       "      <td>-</td>\n",
       "      <td>...</td>\n",
       "      <td>10.0</td>\n",
       "      <td>10.0</td>\n",
       "      <td>10.0</td>\n",
       "      <td>-</td>\n",
       "      <td>-</td>\n",
       "      <td>10.0</td>\n",
       "      <td>10.0</td>\n",
       "      <td>-</td>\n",
       "      <td>10.0</td>\n",
       "      <td>10.0</td>\n",
       "    </tr>\n",
       "    <tr>\n",
       "      <th>19</th>\n",
       "      <td>Tepung Terigu Kemasan (non-curah)</td>\n",
       "      <td>-</td>\n",
       "      <td>-</td>\n",
       "      <td>-</td>\n",
       "      <td>-</td>\n",
       "      <td>-</td>\n",
       "      <td>-</td>\n",
       "      <td>-</td>\n",
       "      <td>-</td>\n",
       "      <td>-</td>\n",
       "      <td>...</td>\n",
       "      <td>12.0</td>\n",
       "      <td>12.0</td>\n",
       "      <td>12.0</td>\n",
       "      <td>-</td>\n",
       "      <td>-</td>\n",
       "      <td>12.0</td>\n",
       "      <td>12.0</td>\n",
       "      <td>-</td>\n",
       "      <td>12.0</td>\n",
       "      <td>12.0</td>\n",
       "    </tr>\n",
       "    <tr>\n",
       "      <th>20</th>\n",
       "      <td>Beras SPHP</td>\n",
       "      <td>-</td>\n",
       "      <td>-</td>\n",
       "      <td>-</td>\n",
       "      <td>-</td>\n",
       "      <td>-</td>\n",
       "      <td>-</td>\n",
       "      <td>-</td>\n",
       "      <td>-</td>\n",
       "      <td>-</td>\n",
       "      <td>...</td>\n",
       "      <td>12.0</td>\n",
       "      <td>12.0</td>\n",
       "      <td>12.0</td>\n",
       "      <td>-</td>\n",
       "      <td>-</td>\n",
       "      <td>12.0</td>\n",
       "      <td>12.0</td>\n",
       "      <td>-</td>\n",
       "      <td>12.0</td>\n",
       "      <td>12.0</td>\n",
       "    </tr>\n",
       "  </tbody>\n",
       "</table>\n",
       "<p>21 rows × 1327 columns</p>\n",
       "</div>"
      ],
      "text/plain": [
       "                      Komoditas (Rp)  15/03/2021 16/03/2021 17/03/2021  \\\n",
       "0                       Beras Premium     11.500     11.500     11.500   \n",
       "1                        Beras Medium      9.000      9.000      9.000   \n",
       "2         Kedelai Biji Kering (Impor)     11.000     11.000     11.000   \n",
       "3                        Bawang Merah     28.000     28.000     28.000   \n",
       "4                Bawang Putih Bonggol     22.000     22.000     22.000   \n",
       "5                Cabai Merah Keriting     50.000     50.000     50.000   \n",
       "6                   Cabai Rawit Merah    115.000    115.000    115.000   \n",
       "7                   Daging Sapi Murni    120.000    120.000    120.000   \n",
       "8                     Daging Ayam Ras     36.000     36.000     36.000   \n",
       "9                      Telur Ayam Ras     22.000     22.000     22.000   \n",
       "10                      Gula Konsumsi     12.500     12.500     12.500   \n",
       "11    Minyak Goreng Kemasan Sederhana     14.000     14.000     14.000   \n",
       "12              Tepung Terigu (Curah)      7.000      7.000      7.000   \n",
       "13                Minyak Goreng Curah          -          -          -   \n",
       "14                 Jagung Tk Peternak          -          -          -   \n",
       "15                       Ikan Kembung          -          -          -   \n",
       "16                       Ikan Tongkol          -          -          -   \n",
       "17                       Ikan Bandeng          -          -          -   \n",
       "18              Garam Halus Beryodium          -          -          -   \n",
       "19  Tepung Terigu Kemasan (non-curah)          -          -          -   \n",
       "20                         Beras SPHP          -          -          -   \n",
       "\n",
       "   18/03/2021 19/03/2021 20/03/2021 21/03/2021 22/03/2021 23/03/2021  ...  \\\n",
       "0      11.500     11.500     11.500          -     11.500          -  ...   \n",
       "1       9.000      9.000      9.000          -      9.000          -  ...   \n",
       "2      11.000     11.000     11.000          -     10.000          -  ...   \n",
       "3      28.000     28.000     27.000          -     27.000          -  ...   \n",
       "4      22.000     22.000     22.000          -     22.000          -  ...   \n",
       "5      50.000     50.000     50.000          -     50.000          -  ...   \n",
       "6     115.000    110.000    115.000          -    115.000          -  ...   \n",
       "7     120.000    120.000    120.000          -    120.000          -  ...   \n",
       "8      36.000     36.000     36.000          -     36.000          -  ...   \n",
       "9      22.000     22.000     22.000          -     22.000          -  ...   \n",
       "10     12.500     12.500     12.500          -     12.500          -  ...   \n",
       "11     14.000     14.000     14.000          -     14.000          -  ...   \n",
       "12      7.000      7.000      7.000          -      7.000          -  ...   \n",
       "13          -          -          -          -          -          -  ...   \n",
       "14          -          -          -          -          -          -  ...   \n",
       "15          -          -          -          -          -          -  ...   \n",
       "16          -          -          -          -          -          -  ...   \n",
       "17          -          -          -          -          -          -  ...   \n",
       "18          -          -          -          -          -          -  ...   \n",
       "19          -          -          -          -          -          -  ...   \n",
       "20          -          -          -          -          -          -  ...   \n",
       "\n",
       "   21/10/2024 22/10/2024 23/10/2024 24/10/2024 25/10/2024 26/10/2024  \\\n",
       "0        16.0       16.0       16.0          -          -       16.0   \n",
       "1        14.0       14.0       14.0          -          -       14.0   \n",
       "2        10.3       10.3       10.3          -          -       10.3   \n",
       "3        22.0       22.0       22.0          -          -       22.0   \n",
       "4        35.0       35.0       35.0          -          -       35.0   \n",
       "5        25.0       25.0       25.0          -          -       25.0   \n",
       "6        35.0       35.0       35.0          -          -       35.0   \n",
       "7       143.0      143.0      143.0          -          -      143.0   \n",
       "8        37.0       37.0       37.0          -          -       37.0   \n",
       "9        26.5       26.5       26.5          -          -       26.0   \n",
       "10       17.5       17.5       17.5          -          -       17.5   \n",
       "11       19.0       19.0       19.0          -          -       19.0   \n",
       "12        9.0        9.0        9.0          -          -        9.0   \n",
       "13       17.0       17.0       17.0          -          -       17.0   \n",
       "14        5.1        5.1        5.1          -          -        5.1   \n",
       "15       28.0       28.0       28.0          -          -       28.0   \n",
       "16       28.0       28.0       28.0          -          -       28.0   \n",
       "17       32.0       32.0       32.0          -          -       32.0   \n",
       "18       10.0       10.0       10.0          -          -       10.0   \n",
       "19       12.0       12.0       12.0          -          -       12.0   \n",
       "20       12.0       12.0       12.0          -          -       12.0   \n",
       "\n",
       "   27/10/2024 28/10/2024 29/10/2024 30/10/2024  \n",
       "0        16.0          -       16.0       15.0  \n",
       "1        14.0          -       14.0       13.5  \n",
       "2        10.3          -       10.3       10.3  \n",
       "3        22.0          -       28.0       28.0  \n",
       "4        35.0          -       35.0       35.0  \n",
       "5        25.0          -       30.0       30.0  \n",
       "6        35.0          -       40.0       40.0  \n",
       "7       143.0          -      143.0      143.0  \n",
       "8        38.0          -       38.0       37.0  \n",
       "9        26.0          -       26.5       27.0  \n",
       "10       17.5          -       17.5       17.5  \n",
       "11       19.0          -       19.0       19.0  \n",
       "12        9.0          -        9.0        9.0  \n",
       "13       17.0          -       17.0       17.0  \n",
       "14        5.1          -        5.1        5.1  \n",
       "15       28.0          -       28.0       30.0  \n",
       "16       28.0          -       28.0       30.0  \n",
       "17       32.0          -       30.0       33.0  \n",
       "18       10.0          -       10.0       10.0  \n",
       "19       12.0          -       12.0       12.0  \n",
       "20       12.0          -       12.0       12.0  \n",
       "\n",
       "[21 rows x 1327 columns]"
      ]
     },
     "execution_count": 2,
     "metadata": {},
     "output_type": "execute_result"
    }
   ],
   "source": [
    "file_path = \"dataset_harga_brebes.csv\"\n",
    "df = pd.read_csv(file_path)\n",
    "df"
   ]
  },
  {
   "cell_type": "markdown",
   "id": "2af51775-851b-4cd2-9cb8-9947e57096fe",
   "metadata": {},
   "source": [
    "## Data Cleaning"
   ]
  },
  {
   "cell_type": "code",
   "execution_count": 3,
   "id": "8f0ad1ee-1d57-4e7c-9a40-be9424dabc7f",
   "metadata": {},
   "outputs": [
    {
     "name": "stdout",
     "output_type": "stream",
     "text": [
      "tanggal                              datetime64[ns]\n",
      "Beras Premium                               float64\n",
      "Beras Medium                                float64\n",
      "Kedelai Biji Kering (Impor)                 float64\n",
      "Bawang Merah                                float64\n",
      "Bawang Putih Bonggol                        float64\n",
      "Cabai Merah Keriting                        float64\n",
      "Cabai Rawit Merah                           float64\n",
      "Daging Sapi Murni                           float64\n",
      "Daging Ayam Ras                             float64\n",
      "Telur Ayam Ras                              float64\n",
      "Gula Konsumsi                               float64\n",
      "Minyak Goreng Kemasan Sederhana             float64\n",
      "Tepung Terigu (Curah)                       float64\n",
      "Minyak Goreng Curah                         float64\n",
      "Jagung Tk Peternak                          float64\n",
      "Ikan Kembung                                float64\n",
      "Ikan Tongkol                                float64\n",
      "Ikan Bandeng                                float64\n",
      "Garam Halus Beryodium                       float64\n",
      "Tepung Terigu Kemasan (non-curah)           float64\n",
      "Beras SPHP                                  float64\n",
      "dtype: object\n",
      "tanggal                                 0\n",
      "Beras Premium                         176\n",
      "Beras Medium                          176\n",
      "Kedelai Biji Kering (Impor)           176\n",
      "Bawang Merah                          176\n",
      "Bawang Putih Bonggol                  176\n",
      "Cabai Merah Keriting                  176\n",
      "Cabai Rawit Merah                     176\n",
      "Daging Sapi Murni                     176\n",
      "Daging Ayam Ras                       176\n",
      "Telur Ayam Ras                        176\n",
      "Gula Konsumsi                         176\n",
      "Minyak Goreng Kemasan Sederhana       176\n",
      "Tepung Terigu (Curah)                 176\n",
      "Minyak Goreng Curah                   537\n",
      "Jagung Tk Peternak                    904\n",
      "Ikan Kembung                          729\n",
      "Ikan Tongkol                          809\n",
      "Ikan Bandeng                          809\n",
      "Garam Halus Beryodium                 809\n",
      "Tepung Terigu Kemasan (non-curah)     809\n",
      "Beras SPHP                           1208\n",
      "dtype: int64\n"
     ]
    },
    {
     "name": "stderr",
     "output_type": "stream",
     "text": [
      "C:\\Users\\ACER\\AppData\\Local\\Temp\\ipykernel_2904\\1358906317.py:12: FutureWarning: Downcasting behavior in `replace` is deprecated and will be removed in a future version. To retain the old behavior, explicitly call `result.infer_objects(copy=False)`. To opt-in to the future behavior, set `pd.set_option('future.no_silent_downcasting', True)`\n",
      "  df_transformed.replace([\"\", \"-\", \" \"], np.nan, inplace=True)\n"
     ]
    },
    {
     "data": {
      "text/html": [
       "<div>\n",
       "<style scoped>\n",
       "    .dataframe tbody tr th:only-of-type {\n",
       "        vertical-align: middle;\n",
       "    }\n",
       "\n",
       "    .dataframe tbody tr th {\n",
       "        vertical-align: top;\n",
       "    }\n",
       "\n",
       "    .dataframe thead th {\n",
       "        text-align: right;\n",
       "    }\n",
       "</style>\n",
       "<table border=\"1\" class=\"dataframe\">\n",
       "  <thead>\n",
       "    <tr style=\"text-align: right;\">\n",
       "      <th></th>\n",
       "      <th>tanggal</th>\n",
       "      <th>Beras Premium</th>\n",
       "      <th>Beras Medium</th>\n",
       "      <th>Kedelai Biji Kering (Impor)</th>\n",
       "      <th>Bawang Merah</th>\n",
       "      <th>Bawang Putih Bonggol</th>\n",
       "      <th>Cabai Merah Keriting</th>\n",
       "      <th>Cabai Rawit Merah</th>\n",
       "      <th>Daging Sapi Murni</th>\n",
       "      <th>Daging Ayam Ras</th>\n",
       "      <th>...</th>\n",
       "      <th>Minyak Goreng Kemasan Sederhana</th>\n",
       "      <th>Tepung Terigu (Curah)</th>\n",
       "      <th>Minyak Goreng Curah</th>\n",
       "      <th>Jagung Tk Peternak</th>\n",
       "      <th>Ikan Kembung</th>\n",
       "      <th>Ikan Tongkol</th>\n",
       "      <th>Ikan Bandeng</th>\n",
       "      <th>Garam Halus Beryodium</th>\n",
       "      <th>Tepung Terigu Kemasan (non-curah)</th>\n",
       "      <th>Beras SPHP</th>\n",
       "    </tr>\n",
       "  </thead>\n",
       "  <tbody>\n",
       "    <tr>\n",
       "      <th>0</th>\n",
       "      <td>2021-03-15</td>\n",
       "      <td>11500.0</td>\n",
       "      <td>9000.0</td>\n",
       "      <td>11000.0</td>\n",
       "      <td>28000.0</td>\n",
       "      <td>22000.0</td>\n",
       "      <td>50000.0</td>\n",
       "      <td>115000.0</td>\n",
       "      <td>120000.0</td>\n",
       "      <td>36000.0</td>\n",
       "      <td>...</td>\n",
       "      <td>14000.0</td>\n",
       "      <td>7000.0</td>\n",
       "      <td>NaN</td>\n",
       "      <td>NaN</td>\n",
       "      <td>NaN</td>\n",
       "      <td>NaN</td>\n",
       "      <td>NaN</td>\n",
       "      <td>NaN</td>\n",
       "      <td>NaN</td>\n",
       "      <td>NaN</td>\n",
       "    </tr>\n",
       "    <tr>\n",
       "      <th>1</th>\n",
       "      <td>2021-03-16</td>\n",
       "      <td>11500.0</td>\n",
       "      <td>9000.0</td>\n",
       "      <td>11000.0</td>\n",
       "      <td>28000.0</td>\n",
       "      <td>22000.0</td>\n",
       "      <td>50000.0</td>\n",
       "      <td>115000.0</td>\n",
       "      <td>120000.0</td>\n",
       "      <td>36000.0</td>\n",
       "      <td>...</td>\n",
       "      <td>14000.0</td>\n",
       "      <td>7000.0</td>\n",
       "      <td>NaN</td>\n",
       "      <td>NaN</td>\n",
       "      <td>NaN</td>\n",
       "      <td>NaN</td>\n",
       "      <td>NaN</td>\n",
       "      <td>NaN</td>\n",
       "      <td>NaN</td>\n",
       "      <td>NaN</td>\n",
       "    </tr>\n",
       "    <tr>\n",
       "      <th>2</th>\n",
       "      <td>2021-03-17</td>\n",
       "      <td>11500.0</td>\n",
       "      <td>9000.0</td>\n",
       "      <td>11000.0</td>\n",
       "      <td>28000.0</td>\n",
       "      <td>22000.0</td>\n",
       "      <td>50000.0</td>\n",
       "      <td>115000.0</td>\n",
       "      <td>120000.0</td>\n",
       "      <td>36000.0</td>\n",
       "      <td>...</td>\n",
       "      <td>14000.0</td>\n",
       "      <td>7000.0</td>\n",
       "      <td>NaN</td>\n",
       "      <td>NaN</td>\n",
       "      <td>NaN</td>\n",
       "      <td>NaN</td>\n",
       "      <td>NaN</td>\n",
       "      <td>NaN</td>\n",
       "      <td>NaN</td>\n",
       "      <td>NaN</td>\n",
       "    </tr>\n",
       "    <tr>\n",
       "      <th>3</th>\n",
       "      <td>2021-03-18</td>\n",
       "      <td>11500.0</td>\n",
       "      <td>9000.0</td>\n",
       "      <td>11000.0</td>\n",
       "      <td>28000.0</td>\n",
       "      <td>22000.0</td>\n",
       "      <td>50000.0</td>\n",
       "      <td>115000.0</td>\n",
       "      <td>120000.0</td>\n",
       "      <td>36000.0</td>\n",
       "      <td>...</td>\n",
       "      <td>14000.0</td>\n",
       "      <td>7000.0</td>\n",
       "      <td>NaN</td>\n",
       "      <td>NaN</td>\n",
       "      <td>NaN</td>\n",
       "      <td>NaN</td>\n",
       "      <td>NaN</td>\n",
       "      <td>NaN</td>\n",
       "      <td>NaN</td>\n",
       "      <td>NaN</td>\n",
       "    </tr>\n",
       "    <tr>\n",
       "      <th>4</th>\n",
       "      <td>2021-03-19</td>\n",
       "      <td>11500.0</td>\n",
       "      <td>9000.0</td>\n",
       "      <td>11000.0</td>\n",
       "      <td>28000.0</td>\n",
       "      <td>22000.0</td>\n",
       "      <td>50000.0</td>\n",
       "      <td>110000.0</td>\n",
       "      <td>120000.0</td>\n",
       "      <td>36000.0</td>\n",
       "      <td>...</td>\n",
       "      <td>14000.0</td>\n",
       "      <td>7000.0</td>\n",
       "      <td>NaN</td>\n",
       "      <td>NaN</td>\n",
       "      <td>NaN</td>\n",
       "      <td>NaN</td>\n",
       "      <td>NaN</td>\n",
       "      <td>NaN</td>\n",
       "      <td>NaN</td>\n",
       "      <td>NaN</td>\n",
       "    </tr>\n",
       "    <tr>\n",
       "      <th>...</th>\n",
       "      <td>...</td>\n",
       "      <td>...</td>\n",
       "      <td>...</td>\n",
       "      <td>...</td>\n",
       "      <td>...</td>\n",
       "      <td>...</td>\n",
       "      <td>...</td>\n",
       "      <td>...</td>\n",
       "      <td>...</td>\n",
       "      <td>...</td>\n",
       "      <td>...</td>\n",
       "      <td>...</td>\n",
       "      <td>...</td>\n",
       "      <td>...</td>\n",
       "      <td>...</td>\n",
       "      <td>...</td>\n",
       "      <td>...</td>\n",
       "      <td>...</td>\n",
       "      <td>...</td>\n",
       "      <td>...</td>\n",
       "      <td>...</td>\n",
       "    </tr>\n",
       "    <tr>\n",
       "      <th>1321</th>\n",
       "      <td>2024-10-26</td>\n",
       "      <td>16000.0</td>\n",
       "      <td>14000.0</td>\n",
       "      <td>10300.0</td>\n",
       "      <td>22000.0</td>\n",
       "      <td>35000.0</td>\n",
       "      <td>25000.0</td>\n",
       "      <td>35000.0</td>\n",
       "      <td>143000.0</td>\n",
       "      <td>37000.0</td>\n",
       "      <td>...</td>\n",
       "      <td>19000.0</td>\n",
       "      <td>9000.0</td>\n",
       "      <td>17000.0</td>\n",
       "      <td>5100.0</td>\n",
       "      <td>28000.0</td>\n",
       "      <td>28000.0</td>\n",
       "      <td>32000.0</td>\n",
       "      <td>10000.0</td>\n",
       "      <td>12000.0</td>\n",
       "      <td>12000.0</td>\n",
       "    </tr>\n",
       "    <tr>\n",
       "      <th>1322</th>\n",
       "      <td>2024-10-27</td>\n",
       "      <td>16000.0</td>\n",
       "      <td>14000.0</td>\n",
       "      <td>10300.0</td>\n",
       "      <td>22000.0</td>\n",
       "      <td>35000.0</td>\n",
       "      <td>25000.0</td>\n",
       "      <td>35000.0</td>\n",
       "      <td>143000.0</td>\n",
       "      <td>38000.0</td>\n",
       "      <td>...</td>\n",
       "      <td>19000.0</td>\n",
       "      <td>9000.0</td>\n",
       "      <td>17000.0</td>\n",
       "      <td>5100.0</td>\n",
       "      <td>28000.0</td>\n",
       "      <td>28000.0</td>\n",
       "      <td>32000.0</td>\n",
       "      <td>10000.0</td>\n",
       "      <td>12000.0</td>\n",
       "      <td>12000.0</td>\n",
       "    </tr>\n",
       "    <tr>\n",
       "      <th>1323</th>\n",
       "      <td>2024-10-28</td>\n",
       "      <td>NaN</td>\n",
       "      <td>NaN</td>\n",
       "      <td>NaN</td>\n",
       "      <td>NaN</td>\n",
       "      <td>NaN</td>\n",
       "      <td>NaN</td>\n",
       "      <td>NaN</td>\n",
       "      <td>NaN</td>\n",
       "      <td>NaN</td>\n",
       "      <td>...</td>\n",
       "      <td>NaN</td>\n",
       "      <td>NaN</td>\n",
       "      <td>NaN</td>\n",
       "      <td>NaN</td>\n",
       "      <td>NaN</td>\n",
       "      <td>NaN</td>\n",
       "      <td>NaN</td>\n",
       "      <td>NaN</td>\n",
       "      <td>NaN</td>\n",
       "      <td>NaN</td>\n",
       "    </tr>\n",
       "    <tr>\n",
       "      <th>1324</th>\n",
       "      <td>2024-10-29</td>\n",
       "      <td>16000.0</td>\n",
       "      <td>14000.0</td>\n",
       "      <td>10300.0</td>\n",
       "      <td>28000.0</td>\n",
       "      <td>35000.0</td>\n",
       "      <td>30000.0</td>\n",
       "      <td>40000.0</td>\n",
       "      <td>143000.0</td>\n",
       "      <td>38000.0</td>\n",
       "      <td>...</td>\n",
       "      <td>19000.0</td>\n",
       "      <td>9000.0</td>\n",
       "      <td>17000.0</td>\n",
       "      <td>5100.0</td>\n",
       "      <td>28000.0</td>\n",
       "      <td>28000.0</td>\n",
       "      <td>30000.0</td>\n",
       "      <td>10000.0</td>\n",
       "      <td>12000.0</td>\n",
       "      <td>12000.0</td>\n",
       "    </tr>\n",
       "    <tr>\n",
       "      <th>1325</th>\n",
       "      <td>2024-10-30</td>\n",
       "      <td>15000.0</td>\n",
       "      <td>13500.0</td>\n",
       "      <td>10300.0</td>\n",
       "      <td>28000.0</td>\n",
       "      <td>35000.0</td>\n",
       "      <td>30000.0</td>\n",
       "      <td>40000.0</td>\n",
       "      <td>143000.0</td>\n",
       "      <td>37000.0</td>\n",
       "      <td>...</td>\n",
       "      <td>19000.0</td>\n",
       "      <td>9000.0</td>\n",
       "      <td>17000.0</td>\n",
       "      <td>5100.0</td>\n",
       "      <td>30000.0</td>\n",
       "      <td>30000.0</td>\n",
       "      <td>33000.0</td>\n",
       "      <td>10000.0</td>\n",
       "      <td>12000.0</td>\n",
       "      <td>12000.0</td>\n",
       "    </tr>\n",
       "  </tbody>\n",
       "</table>\n",
       "<p>1326 rows × 22 columns</p>\n",
       "</div>"
      ],
      "text/plain": [
       "        tanggal  Beras Premium  Beras Medium  Kedelai Biji Kering (Impor)  \\\n",
       "0    2021-03-15        11500.0        9000.0                      11000.0   \n",
       "1    2021-03-16        11500.0        9000.0                      11000.0   \n",
       "2    2021-03-17        11500.0        9000.0                      11000.0   \n",
       "3    2021-03-18        11500.0        9000.0                      11000.0   \n",
       "4    2021-03-19        11500.0        9000.0                      11000.0   \n",
       "...         ...            ...           ...                          ...   \n",
       "1321 2024-10-26        16000.0       14000.0                      10300.0   \n",
       "1322 2024-10-27        16000.0       14000.0                      10300.0   \n",
       "1323 2024-10-28            NaN           NaN                          NaN   \n",
       "1324 2024-10-29        16000.0       14000.0                      10300.0   \n",
       "1325 2024-10-30        15000.0       13500.0                      10300.0   \n",
       "\n",
       "      Bawang Merah  Bawang Putih Bonggol  Cabai Merah Keriting  \\\n",
       "0          28000.0               22000.0               50000.0   \n",
       "1          28000.0               22000.0               50000.0   \n",
       "2          28000.0               22000.0               50000.0   \n",
       "3          28000.0               22000.0               50000.0   \n",
       "4          28000.0               22000.0               50000.0   \n",
       "...            ...                   ...                   ...   \n",
       "1321       22000.0               35000.0               25000.0   \n",
       "1322       22000.0               35000.0               25000.0   \n",
       "1323           NaN                   NaN                   NaN   \n",
       "1324       28000.0               35000.0               30000.0   \n",
       "1325       28000.0               35000.0               30000.0   \n",
       "\n",
       "      Cabai Rawit Merah  Daging Sapi Murni  Daging Ayam Ras  ...  \\\n",
       "0              115000.0           120000.0          36000.0  ...   \n",
       "1              115000.0           120000.0          36000.0  ...   \n",
       "2              115000.0           120000.0          36000.0  ...   \n",
       "3              115000.0           120000.0          36000.0  ...   \n",
       "4              110000.0           120000.0          36000.0  ...   \n",
       "...                 ...                ...              ...  ...   \n",
       "1321            35000.0           143000.0          37000.0  ...   \n",
       "1322            35000.0           143000.0          38000.0  ...   \n",
       "1323                NaN                NaN              NaN  ...   \n",
       "1324            40000.0           143000.0          38000.0  ...   \n",
       "1325            40000.0           143000.0          37000.0  ...   \n",
       "\n",
       "      Minyak Goreng Kemasan Sederhana  Tepung Terigu (Curah)  \\\n",
       "0                             14000.0                 7000.0   \n",
       "1                             14000.0                 7000.0   \n",
       "2                             14000.0                 7000.0   \n",
       "3                             14000.0                 7000.0   \n",
       "4                             14000.0                 7000.0   \n",
       "...                               ...                    ...   \n",
       "1321                          19000.0                 9000.0   \n",
       "1322                          19000.0                 9000.0   \n",
       "1323                              NaN                    NaN   \n",
       "1324                          19000.0                 9000.0   \n",
       "1325                          19000.0                 9000.0   \n",
       "\n",
       "      Minyak Goreng Curah  Jagung Tk Peternak  Ikan Kembung  Ikan Tongkol  \\\n",
       "0                     NaN                 NaN           NaN           NaN   \n",
       "1                     NaN                 NaN           NaN           NaN   \n",
       "2                     NaN                 NaN           NaN           NaN   \n",
       "3                     NaN                 NaN           NaN           NaN   \n",
       "4                     NaN                 NaN           NaN           NaN   \n",
       "...                   ...                 ...           ...           ...   \n",
       "1321              17000.0              5100.0       28000.0       28000.0   \n",
       "1322              17000.0              5100.0       28000.0       28000.0   \n",
       "1323                  NaN                 NaN           NaN           NaN   \n",
       "1324              17000.0              5100.0       28000.0       28000.0   \n",
       "1325              17000.0              5100.0       30000.0       30000.0   \n",
       "\n",
       "      Ikan Bandeng  Garam Halus Beryodium  Tepung Terigu Kemasan (non-curah)  \\\n",
       "0              NaN                    NaN                                NaN   \n",
       "1              NaN                    NaN                                NaN   \n",
       "2              NaN                    NaN                                NaN   \n",
       "3              NaN                    NaN                                NaN   \n",
       "4              NaN                    NaN                                NaN   \n",
       "...            ...                    ...                                ...   \n",
       "1321       32000.0                10000.0                            12000.0   \n",
       "1322       32000.0                10000.0                            12000.0   \n",
       "1323           NaN                    NaN                                NaN   \n",
       "1324       30000.0                10000.0                            12000.0   \n",
       "1325       33000.0                10000.0                            12000.0   \n",
       "\n",
       "      Beras SPHP  \n",
       "0            NaN  \n",
       "1            NaN  \n",
       "2            NaN  \n",
       "3            NaN  \n",
       "4            NaN  \n",
       "...          ...  \n",
       "1321     12000.0  \n",
       "1322     12000.0  \n",
       "1323         NaN  \n",
       "1324     12000.0  \n",
       "1325     12000.0  \n",
       "\n",
       "[1326 rows x 22 columns]"
      ]
     },
     "execution_count": 3,
     "metadata": {},
     "output_type": "execute_result"
    }
   ],
   "source": [
    "# Menambah label \"tanggal\" ke dalam list kolom\n",
    "kolom = [\"tanggal\"] + [x.strip() for x in df[\" Komoditas (Rp) \"]]\n",
    "\n",
    "# Ubah nama kolom pada df_transformed sesuai dengan kolom yang diinginkan\n",
    "df_transformed = df.set_index(\" Komoditas (Rp) \").T.reset_index()\n",
    "\n",
    "df_transformed.columns = kolom\n",
    "# mengubah tanggal menjadi tipe data tanggal\n",
    "df_transformed['tanggal'] = pd.to_datetime(df_transformed['tanggal'], format='%d/%m/%Y')\n",
    "\n",
    "# Mengganti nilai kosong atau tanda tertentu dengan NaN\n",
    "df_transformed.replace([\"\", \"-\", \" \"], np.nan, inplace=True)\n",
    "\n",
    "# Mengonversi kolom data (selain tanggal) menjadi float\n",
    "for col in df_transformed.columns[1:]:  # Mulai dari indeks 1 agar kolom 'tanggal' tidak diubah\n",
    "    df_transformed[col] = pd.to_numeric(df_transformed[col], errors='coerce') * 1000\n",
    "\n",
    "# Memeriksa apakah perubahan berhasil\n",
    "print(df_transformed.dtypes)\n",
    "print(df_transformed.isnull().sum())\n",
    "df_transformed"
   ]
  },
  {
   "cell_type": "code",
   "execution_count": 4,
   "id": "0889ed7a-1b36-4c06-b613-4108e06e8ecf",
   "metadata": {},
   "outputs": [
    {
     "data": {
      "text/html": [
       "<div>\n",
       "<style scoped>\n",
       "    .dataframe tbody tr th:only-of-type {\n",
       "        vertical-align: middle;\n",
       "    }\n",
       "\n",
       "    .dataframe tbody tr th {\n",
       "        vertical-align: top;\n",
       "    }\n",
       "\n",
       "    .dataframe thead th {\n",
       "        text-align: right;\n",
       "    }\n",
       "</style>\n",
       "<table border=\"1\" class=\"dataframe\">\n",
       "  <thead>\n",
       "    <tr style=\"text-align: right;\">\n",
       "      <th></th>\n",
       "      <th>Minggu</th>\n",
       "      <th>Harga/week</th>\n",
       "    </tr>\n",
       "  </thead>\n",
       "  <tbody>\n",
       "    <tr>\n",
       "      <th>0</th>\n",
       "      <td>1</td>\n",
       "      <td>27714.285714</td>\n",
       "    </tr>\n",
       "    <tr>\n",
       "      <th>1</th>\n",
       "      <td>2</td>\n",
       "      <td>28714.285714</td>\n",
       "    </tr>\n",
       "    <tr>\n",
       "      <th>2</th>\n",
       "      <td>3</td>\n",
       "      <td>30000.000000</td>\n",
       "    </tr>\n",
       "    <tr>\n",
       "      <th>3</th>\n",
       "      <td>4</td>\n",
       "      <td>30000.000000</td>\n",
       "    </tr>\n",
       "    <tr>\n",
       "      <th>4</th>\n",
       "      <td>5</td>\n",
       "      <td>20714.285714</td>\n",
       "    </tr>\n",
       "    <tr>\n",
       "      <th>...</th>\n",
       "      <td>...</td>\n",
       "      <td>...</td>\n",
       "    </tr>\n",
       "    <tr>\n",
       "      <th>184</th>\n",
       "      <td>185</td>\n",
       "      <td>20000.000000</td>\n",
       "    </tr>\n",
       "    <tr>\n",
       "      <th>185</th>\n",
       "      <td>186</td>\n",
       "      <td>20000.000000</td>\n",
       "    </tr>\n",
       "    <tr>\n",
       "      <th>186</th>\n",
       "      <td>187</td>\n",
       "      <td>20857.142857</td>\n",
       "    </tr>\n",
       "    <tr>\n",
       "      <th>187</th>\n",
       "      <td>188</td>\n",
       "      <td>22000.000000</td>\n",
       "    </tr>\n",
       "    <tr>\n",
       "      <th>188</th>\n",
       "      <td>189</td>\n",
       "      <td>22000.000000</td>\n",
       "    </tr>\n",
       "  </tbody>\n",
       "</table>\n",
       "<p>189 rows × 2 columns</p>\n",
       "</div>"
      ],
      "text/plain": [
       "     Minggu    Harga/week\n",
       "0         1  27714.285714\n",
       "1         2  28714.285714\n",
       "2         3  30000.000000\n",
       "3         4  30000.000000\n",
       "4         5  20714.285714\n",
       "..      ...           ...\n",
       "184     185  20000.000000\n",
       "185     186  20000.000000\n",
       "186     187  20857.142857\n",
       "187     188  22000.000000\n",
       "188     189  22000.000000\n",
       "\n",
       "[189 rows x 2 columns]"
      ]
     },
     "execution_count": 4,
     "metadata": {},
     "output_type": "execute_result"
    }
   ],
   "source": [
    "# Buat dataframe barang\n",
    "df_barang = pd.DataFrame()\n",
    "df_barang['tanggal'] = df_transformed['tanggal']\n",
    "df_barang['harga'] = df_transformed['Bawang Merah']\n",
    "\n",
    "# Isi null pada data\n",
    "df_barang['harga'] = df_barang['harga'].interpolate(method='linear').ffill()\n",
    "\n",
    "# Buat kolom minggu dari tanggal\n",
    "df_barang['Minggu'] = (df_barang.index // 7) + 1\n",
    "\n",
    "#kelompokkan berdasarkan minggu\n",
    "weekly_data = df_barang.groupby(['Minggu']).agg({\n",
    "    'harga': 'mean'  # Rata-rata harga per minggu\n",
    "}).reset_index()\n",
    "weekly_data.rename(columns={'harga': 'Harga/week'}, inplace=True)\n",
    "weekly_data = weekly_data[weekly_data['Minggu'] < 190]\n",
    "\n",
    "weekly_data"
   ]
  },
  {
   "cell_type": "code",
   "execution_count": 464,
   "id": "87859486-b463-4b2f-a024-eaa04112efd7",
   "metadata": {},
   "outputs": [
    {
     "data": {
      "image/png": "[encoded data removed]",
      "text/plain": [
       "<Figure size 640x480 with 1 Axes>"
      ]
     },
     "metadata": {},
     "output_type": "display_data"
    }
   ],
   "source": [
    "plt.plot(weekly_data['Harga/week'])\n",
    "plt.title('Harga berdasarkan Minggu')\n",
    "plt.grid(True)"
   ]
  },
  {
   "cell_type": "code",
   "execution_count": 6,
   "id": "7e3f6cfd-6791-4c0f-8b7e-17e60d4074aa",
   "metadata": {},
   "outputs": [],
   "source": [
    "# weekly_data.to_csv(\"weekly_data.csv\", index=False)"
   ]
  },
  {
   "cell_type": "markdown",
   "id": "14139852-7e01-457d-a5e9-c7792bf2b739",
   "metadata": {},
   "source": [
    "## Data Preparation"
   ]
  },
  {
   "cell_type": "code",
   "execution_count": 470,
   "id": "e1e34c4c-856d-4700-ae43-0a3846ec4842",
   "metadata": {},
   "outputs": [
    {
     "data": {
      "text/plain": [
       "((189,), (189,))"
      ]
     },
     "execution_count": 470,
     "metadata": {},
     "output_type": "execute_result"
    }
   ],
   "source": [
    "week = np.array(weekly_data[\"Minggu\"])\n",
    "series = np.array(weekly_data['Harga/week'])\n",
    "week.shape, series.shape"
   ]
  },
  {
   "cell_type": "code",
   "execution_count": 471,
   "id": "468ea491-77cb-4180-b957-f5d4c349e59e",
   "metadata": {},
   "outputs": [],
   "source": [
    "def create_sequences(data, window_size):\n",
    "    X, y = [], []\n",
    "    for i in range(len(data) - window_size):\n",
    "        X.append(data[i:(i + window_size)])\n",
    "        y.append(data[i + window_size])\n",
    "    return np.array(X), np.array(y)"
   ]
  },
  {
   "cell_type": "code",
   "execution_count": 472,
   "id": "d6502105-0ac0-4cdf-9892-765fe5defd90",
   "metadata": {},
   "outputs": [],
   "source": [
    "def scaled_price(data):\n",
    "    return data/1000"
   ]
  },
  {
   "cell_type": "code",
   "execution_count": 474,
   "id": "be4ba358-f319-4df9-8828-f932215cb4f6",
   "metadata": {},
   "outputs": [],
   "source": [
    "# Model configuration\n",
    "window_size = 24\n",
    "\n",
    "scaled_series = scaled_price(series)\n",
    "\n",
    "X, y = create_sequences(scaled_series, window_size)"
   ]
  },
  {
   "cell_type": "code",
   "execution_count": 475,
   "id": "30ef7a5c-5d77-4c1e-a30a-80cc5a048128",
   "metadata": {},
   "outputs": [
    {
     "data": {
      "text/plain": [
       "((132, 24), (132,), (33, 24), (33,))"
      ]
     },
     "execution_count": 475,
     "metadata": {},
     "output_type": "execute_result"
    }
   ],
   "source": [
    "split_size1 = int(len(X) * 0.8)\n",
    "\n",
    "week_train = week[:split_size1]\n",
    "X_train = X[:split_size1]\n",
    "y_train = y[:split_size1]\n",
    "\n",
    "week_valid = week[split_size1:]\n",
    "X_val = X[split_size1:]\n",
    "y_val = y[split_size1:]\n",
    "X_train.shape, y_train.shape, X_val.shape, y_val.shape"
   ]
  },
  {
   "cell_type": "code",
   "execution_count": 476,
   "id": "c9f4f75a-bc95-4f76-ac9f-4110561cd60b",
   "metadata": {},
   "outputs": [
    {
     "data": {
      "image/png": "[encoded data removed]",
      "text/plain": [
       "<Figure size 1200x500 with 1 Axes>"
      ]
     },
     "metadata": {},
     "output_type": "display_data"
    }
   ],
   "source": [
    "plt.figure(figsize=(12, 5))\n",
    "plt.plot(np.arange(len(y_train)), y_train, label='Train', color='blue')\n",
    "plt.plot(np.arange(len(y_train), len(y_train) + len(y_val)), y_val, label='Validation', color='green')\n",
    "\n",
    "plt.xlabel('Index')\n",
    "plt.ylabel('Target Value')\n",
    "plt.legend()\n",
    "plt.title('Train, Validation, and Test Splits')\n",
    "plt.show()"
   ]
  },
  {
   "cell_type": "markdown",
   "id": "877a4d43-89ef-4e69-b6db-c45c782a6ef6",
   "metadata": {},
   "source": [
    "## Train Model"
   ]
  },
  {
   "cell_type": "markdown",
   "id": "121e6d5f-3e13-48f1-97bc-9f2dc9fd4cec",
   "metadata": {},
   "source": [
    "### Model 1"
   ]
  },
  {
   "cell_type": "code",
   "execution_count": 522,
   "id": "d5852ad4-0721-4353-8b85-2880c36101f6",
   "metadata": {},
   "outputs": [],
   "source": [
    "def create_model(window_size):\n",
    "    model = keras.Sequential([\n",
    "        Input(shape=(window_size, 1)),\n",
    "        tf.keras.layers.Conv1D(\n",
    "            filters=24,\n",
    "            kernel_size=3,\n",
    "            strides=1,\n",
    "            padding='causal',\n",
    "            activation='relu'\n",
    "        ),\n",
    "        Flatten(),\n",
    "        # Dense(64, activation='relu'),\n",
    "        Dense(32, activation='relu'),\n",
    "        Dense(8, activation='relu'),\n",
    "        Dense(1, activation='linear')\n",
    "    ])\n",
    "    return model"
   ]
  },
  {
   "cell_type": "code",
   "execution_count": 523,
   "id": "f15a6ca5-fae4-4932-b1ea-0c8ae524b042",
   "metadata": {},
   "outputs": [
    {
     "name": "stdout",
     "output_type": "stream",
     "text": [
      "Model: \"sequential_25\"\n",
      "_________________________________________________________________\n",
      " Layer (type)                Output Shape              Param #   \n",
      "=================================================================\n",
      " conv1d_25 (Conv1D)          (None, 24, 24)            96        \n",
      "                                                                 \n",
      " flatten_25 (Flatten)        (None, 576)               0         \n",
      "                                                                 \n",
      " dense_91 (Dense)            (None, 32)                18464     \n",
      "                                                                 \n",
      " dense_92 (Dense)            (None, 8)                 264       \n",
      "                                                                 \n",
      " dense_93 (Dense)            (None, 1)                 9         \n",
      "                                                                 \n",
      "=================================================================\n",
      "Total params: 18,833\n",
      "Trainable params: 18,833\n",
      "Non-trainable params: 0\n",
      "_________________________________________________________________\n"
     ]
    }
   ],
   "source": [
    "model_uncomplete = create_model(window_size)\n",
    "\n",
    "model_uncomplete.summary()"
   ]
  },
  {
   "cell_type": "markdown",
   "id": "6ce8f22a-e791-4773-804f-def5c9b51eef",
   "metadata": {},
   "source": [
    "### Find lr"
   ]
  },
  {
   "cell_type": "code",
   "execution_count": 524,
   "id": "e6267ea4-3a08-48d3-a161-5b8f092d46b0",
   "metadata": {},
   "outputs": [
    {
     "name": "stdout",
     "output_type": "stream",
     "text": [
      "Epoch 1/140\n",
      "33/33 [==============================] - 1s 7ms/step - loss: 834.3965 - val_loss: 746.0538 - lr: 1.0000e-08\n",
      "Epoch 2/140\n",
      "33/33 [==============================] - 0s 2ms/step - loss: 834.3514 - val_loss: 746.0115 - lr: 1.1220e-08\n",
      "Epoch 3/140\n",
      "33/33 [==============================] - 0s 2ms/step - loss: 834.2971 - val_loss: 745.9600 - lr: 1.2589e-08\n",
      "Epoch 4/140\n",
      "33/33 [==============================] - 0s 3ms/step - loss: 834.2346 - val_loss: 745.9017 - lr: 1.4125e-08\n",
      "Epoch 5/140\n",
      "33/33 [==============================] - 0s 3ms/step - loss: 834.1655 - val_loss: 745.8400 - lr: 1.5849e-08\n",
      "Epoch 6/140\n",
      "33/33 [==============================] - 0s 2ms/step - loss: 834.0914 - val_loss: 745.7718 - lr: 1.7783e-08\n",
      "Epoch 7/140\n",
      "33/33 [==============================] - 0s 2ms/step - loss: 834.0060 - val_loss: 745.6901 - lr: 1.9953e-08\n",
      "Epoch 8/140\n",
      "33/33 [==============================] - 0s 2ms/step - loss: 833.9072 - val_loss: 745.6006 - lr: 2.2387e-08\n",
      "Epoch 9/140\n",
      "33/33 [==============================] - 0s 2ms/step - loss: 833.8002 - val_loss: 745.5022 - lr: 2.5119e-08\n",
      "Epoch 10/140\n",
      "33/33 [==============================] - 0s 2ms/step - loss: 833.6788 - val_loss: 745.3878 - lr: 2.8184e-08\n",
      "Epoch 11/140\n",
      "33/33 [==============================] - 0s 2ms/step - loss: 833.5425 - val_loss: 745.2651 - lr: 3.1623e-08\n",
      "Epoch 12/140\n",
      "33/33 [==============================] - 0s 2ms/step - loss: 833.3914 - val_loss: 745.1223 - lr: 3.5481e-08\n",
      "Epoch 13/140\n",
      "33/33 [==============================] - 0s 2ms/step - loss: 833.2201 - val_loss: 744.9675 - lr: 3.9811e-08\n",
      "Epoch 14/140\n",
      "33/33 [==============================] - 0s 2ms/step - loss: 833.0302 - val_loss: 744.7891 - lr: 4.4668e-08\n",
      "Epoch 15/140\n",
      "33/33 [==============================] - 0s 2ms/step - loss: 832.8132 - val_loss: 744.5908 - lr: 5.0119e-08\n",
      "Epoch 16/140\n",
      "33/33 [==============================] - 0s 2ms/step - loss: 832.5728 - val_loss: 744.3644 - lr: 5.6234e-08\n",
      "Epoch 17/140\n",
      "33/33 [==============================] - 0s 2ms/step - loss: 832.3022 - val_loss: 744.1155 - lr: 6.3096e-08\n",
      "Epoch 18/140\n",
      "33/33 [==============================] - 0s 2ms/step - loss: 831.9976 - val_loss: 743.8422 - lr: 7.0795e-08\n",
      "Epoch 19/140\n",
      "33/33 [==============================] - 0s 2ms/step - loss: 831.6602 - val_loss: 743.5227 - lr: 7.9433e-08\n",
      "Epoch 20/140\n",
      "33/33 [==============================] - 0s 2ms/step - loss: 831.2749 - val_loss: 743.1716 - lr: 8.9125e-08\n",
      "Epoch 21/140\n",
      "33/33 [==============================] - 0s 2ms/step - loss: 830.8492 - val_loss: 742.7687 - lr: 1.0000e-07\n",
      "Epoch 22/140\n",
      "33/33 [==============================] - 0s 2ms/step - loss: 830.3643 - val_loss: 742.3264 - lr: 1.1220e-07\n",
      "Epoch 23/140\n",
      "33/33 [==============================] - 0s 2ms/step - loss: 829.8188 - val_loss: 741.8384 - lr: 1.2589e-07\n",
      "Epoch 24/140\n",
      "33/33 [==============================] - 0s 2ms/step - loss: 829.2144 - val_loss: 741.2740 - lr: 1.4125e-07\n",
      "Epoch 25/140\n",
      "33/33 [==============================] - 0s 2ms/step - loss: 828.5297 - val_loss: 740.6465 - lr: 1.5849e-07\n",
      "Epoch 26/140\n",
      "33/33 [==============================] - 0s 2ms/step - loss: 827.7643 - val_loss: 739.9421 - lr: 1.7783e-07\n",
      "Epoch 27/140\n",
      "33/33 [==============================] - 0s 2ms/step - loss: 826.9034 - val_loss: 739.1597 - lr: 1.9953e-07\n",
      "Epoch 28/140\n",
      "33/33 [==============================] - 0s 2ms/step - loss: 825.9427 - val_loss: 738.2720 - lr: 2.2387e-07\n",
      "Epoch 29/140\n",
      "33/33 [==============================] - 0s 2ms/step - loss: 824.8649 - val_loss: 737.2775 - lr: 2.5119e-07\n",
      "Epoch 30/140\n",
      "33/33 [==============================] - 0s 2ms/step - loss: 823.6538 - val_loss: 736.1637 - lr: 2.8184e-07\n",
      "Epoch 31/140\n",
      "33/33 [==============================] - 0s 2ms/step - loss: 822.2871 - val_loss: 734.9352 - lr: 3.1623e-07\n",
      "Epoch 32/140\n",
      "33/33 [==============================] - 0s 2ms/step - loss: 820.7762 - val_loss: 733.5095 - lr: 3.5481e-07\n",
      "Epoch 33/140\n",
      "33/33 [==============================] - 0s 2ms/step - loss: 819.0661 - val_loss: 731.9279 - lr: 3.9811e-07\n",
      "Epoch 34/140\n",
      "33/33 [==============================] - 0s 2ms/step - loss: 817.1475 - val_loss: 730.1872 - lr: 4.4668e-07\n",
      "Epoch 35/140\n",
      "33/33 [==============================] - 0s 2ms/step - loss: 815.0255 - val_loss: 728.1835 - lr: 5.0119e-07\n",
      "Epoch 36/140\n",
      "33/33 [==============================] - 0s 2ms/step - loss: 812.6232 - val_loss: 725.9806 - lr: 5.6234e-07\n",
      "Epoch 37/140\n",
      "33/33 [==============================] - 0s 2ms/step - loss: 809.9648 - val_loss: 723.4719 - lr: 6.3096e-07\n",
      "Epoch 38/140\n",
      "33/33 [==============================] - 0s 3ms/step - loss: 806.9437 - val_loss: 720.7061 - lr: 7.0795e-07\n",
      "Epoch 39/140\n",
      "33/33 [==============================] - 0s 2ms/step - loss: 803.4689 - val_loss: 717.6097 - lr: 7.9433e-07\n",
      "Epoch 40/140\n",
      "33/33 [==============================] - 0s 2ms/step - loss: 799.5224 - val_loss: 714.0408 - lr: 8.9125e-07\n",
      "Epoch 41/140\n",
      "33/33 [==============================] - 0s 2ms/step - loss: 794.8640 - val_loss: 709.9268 - lr: 1.0000e-06\n",
      "Epoch 42/140\n",
      "33/33 [==============================] - 0s 2ms/step - loss: 789.5239 - val_loss: 705.0473 - lr: 1.1220e-06\n",
      "Epoch 43/140\n",
      "33/33 [==============================] - 0s 2ms/step - loss: 783.0582 - val_loss: 698.8973 - lr: 1.2589e-06\n",
      "Epoch 44/140\n",
      "33/33 [==============================] - 0s 2ms/step - loss: 774.5693 - val_loss: 688.5974 - lr: 1.4125e-06\n",
      "Epoch 45/140\n",
      "33/33 [==============================] - 0s 2ms/step - loss: 761.5697 - val_loss: 671.1004 - lr: 1.5849e-06\n",
      "Epoch 46/140\n",
      "33/33 [==============================] - 0s 2ms/step - loss: 738.2172 - val_loss: 639.7132 - lr: 1.7783e-06\n",
      "Epoch 47/140\n",
      "33/33 [==============================] - 0s 2ms/step - loss: 691.5672 - val_loss: 592.4893 - lr: 1.9953e-06\n",
      "Epoch 48/140\n",
      "33/33 [==============================] - 0s 2ms/step - loss: 635.1155 - val_loss: 542.3926 - lr: 2.2387e-06\n",
      "Epoch 49/140\n",
      "33/33 [==============================] - 0s 2ms/step - loss: 580.4709 - val_loss: 496.5524 - lr: 2.5119e-06\n",
      "Epoch 50/140\n",
      "33/33 [==============================] - 0s 2ms/step - loss: 529.8922 - val_loss: 451.7712 - lr: 2.8184e-06\n",
      "Epoch 51/140\n",
      "33/33 [==============================] - 0s 2ms/step - loss: 480.6593 - val_loss: 409.7076 - lr: 3.1623e-06\n",
      "Epoch 52/140\n",
      "33/33 [==============================] - 0s 2ms/step - loss: 433.5517 - val_loss: 367.6957 - lr: 3.5481e-06\n",
      "Epoch 53/140\n",
      "33/33 [==============================] - 0s 3ms/step - loss: 387.7242 - val_loss: 326.9363 - lr: 3.9811e-06\n",
      "Epoch 54/140\n",
      "33/33 [==============================] - 0s 2ms/step - loss: 342.7844 - val_loss: 288.7600 - lr: 4.4668e-06\n",
      "Epoch 55/140\n",
      "33/33 [==============================] - 0s 2ms/step - loss: 298.1922 - val_loss: 253.5264 - lr: 5.0119e-06\n",
      "Epoch 56/140\n",
      "33/33 [==============================] - 0s 2ms/step - loss: 252.9443 - val_loss: 219.0885 - lr: 5.6234e-06\n",
      "Epoch 57/140\n",
      "33/33 [==============================] - 0s 2ms/step - loss: 199.8376 - val_loss: 175.5436 - lr: 6.3096e-06\n",
      "Epoch 58/140\n",
      "33/33 [==============================] - 0s 2ms/step - loss: 146.5449 - val_loss: 136.2979 - lr: 7.0795e-06\n",
      "Epoch 59/140\n",
      "33/33 [==============================] - 0s 2ms/step - loss: 106.0662 - val_loss: 109.8777 - lr: 7.9433e-06\n",
      "Epoch 60/140\n",
      "33/33 [==============================] - 0s 2ms/step - loss: 80.5747 - val_loss: 93.8549 - lr: 8.9125e-06\n",
      "Epoch 61/140\n",
      "33/33 [==============================] - 0s 2ms/step - loss: 64.7120 - val_loss: 85.9106 - lr: 1.0000e-05\n",
      "Epoch 62/140\n",
      "33/33 [==============================] - 0s 2ms/step - loss: 55.7100 - val_loss: 82.4665 - lr: 1.1220e-05\n",
      "Epoch 63/140\n",
      "33/33 [==============================] - 0s 2ms/step - loss: 51.0491 - val_loss: 81.1531 - lr: 1.2589e-05\n",
      "Epoch 64/140\n",
      "33/33 [==============================] - 0s 2ms/step - loss: 48.7965 - val_loss: 80.7419 - lr: 1.4125e-05\n",
      "Epoch 65/140\n",
      "33/33 [==============================] - 0s 2ms/step - loss: 47.8147 - val_loss: 80.7005 - lr: 1.5849e-05\n",
      "Epoch 66/140\n",
      "33/33 [==============================] - 0s 3ms/step - loss: 47.3475 - val_loss: 80.1278 - lr: 1.7783e-05\n",
      "Epoch 67/140\n",
      "33/33 [==============================] - 0s 4ms/step - loss: 47.0490 - val_loss: 80.0832 - lr: 1.9953e-05\n",
      "Epoch 68/140\n",
      "33/33 [==============================] - 0s 2ms/step - loss: 46.6957 - val_loss: 79.3232 - lr: 2.2387e-05\n",
      "Epoch 69/140\n",
      "33/33 [==============================] - 0s 2ms/step - loss: 46.2339 - val_loss: 78.0290 - lr: 2.5119e-05\n",
      "Epoch 70/140\n",
      "33/33 [==============================] - 0s 2ms/step - loss: 45.8957 - val_loss: 77.2367 - lr: 2.8184e-05\n",
      "Epoch 71/140\n",
      "33/33 [==============================] - 0s 2ms/step - loss: 45.2079 - val_loss: 75.9014 - lr: 3.1623e-05\n",
      "Epoch 72/140\n",
      "33/33 [==============================] - 0s 2ms/step - loss: 44.8223 - val_loss: 75.2883 - lr: 3.5481e-05\n",
      "Epoch 73/140\n",
      "33/33 [==============================] - 0s 2ms/step - loss: 44.2014 - val_loss: 73.7235 - lr: 3.9811e-05\n",
      "Epoch 74/140\n",
      "33/33 [==============================] - 0s 2ms/step - loss: 43.5717 - val_loss: 72.3520 - lr: 4.4668e-05\n",
      "Epoch 75/140\n",
      "33/33 [==============================] - 0s 2ms/step - loss: 42.8196 - val_loss: 71.5915 - lr: 5.0119e-05\n",
      "Epoch 76/140\n",
      "33/33 [==============================] - 0s 2ms/step - loss: 42.1638 - val_loss: 70.6504 - lr: 5.6234e-05\n",
      "Epoch 77/140\n",
      "33/33 [==============================] - 0s 2ms/step - loss: 41.4388 - val_loss: 68.7073 - lr: 6.3096e-05\n",
      "Epoch 78/140\n",
      "33/33 [==============================] - 0s 2ms/step - loss: 40.6874 - val_loss: 67.4366 - lr: 7.0795e-05\n",
      "Epoch 79/140\n",
      "33/33 [==============================] - 0s 2ms/step - loss: 39.4176 - val_loss: 65.2593 - lr: 7.9433e-05\n",
      "Epoch 80/140\n",
      "33/33 [==============================] - 0s 2ms/step - loss: 38.7893 - val_loss: 62.0387 - lr: 8.9125e-05\n",
      "Epoch 81/140\n",
      "33/33 [==============================] - 0s 2ms/step - loss: 37.0763 - val_loss: 58.3984 - lr: 1.0000e-04\n",
      "Epoch 82/140\n",
      "33/33 [==============================] - 0s 2ms/step - loss: 37.2004 - val_loss: 52.5732 - lr: 1.1220e-04\n",
      "Epoch 83/140\n",
      "33/33 [==============================] - 0s 2ms/step - loss: 34.0545 - val_loss: 48.5192 - lr: 1.2589e-04\n",
      "Epoch 84/140\n",
      "33/33 [==============================] - 0s 2ms/step - loss: 33.1763 - val_loss: 49.8383 - lr: 1.4125e-04\n",
      "Epoch 85/140\n",
      "33/33 [==============================] - 0s 2ms/step - loss: 29.7776 - val_loss: 44.0314 - lr: 1.5849e-04\n",
      "Epoch 86/140\n",
      "33/33 [==============================] - 0s 3ms/step - loss: 28.9085 - val_loss: 40.5615 - lr: 1.7783e-04\n",
      "Epoch 87/140\n",
      "33/33 [==============================] - 0s 2ms/step - loss: 28.7813 - val_loss: 36.8916 - lr: 1.9953e-04\n",
      "Epoch 88/140\n",
      "33/33 [==============================] - 0s 2ms/step - loss: 28.3022 - val_loss: 35.7523 - lr: 2.2387e-04\n",
      "Epoch 89/140\n",
      "33/33 [==============================] - 0s 2ms/step - loss: 29.6066 - val_loss: 54.9184 - lr: 2.5119e-04\n",
      "Epoch 90/140\n",
      "33/33 [==============================] - 0s 2ms/step - loss: 24.8918 - val_loss: 30.7913 - lr: 2.8184e-04\n",
      "Epoch 91/140\n",
      "33/33 [==============================] - 0s 2ms/step - loss: 24.6298 - val_loss: 47.0111 - lr: 3.1623e-04\n",
      "Epoch 92/140\n",
      "33/33 [==============================] - 0s 2ms/step - loss: 24.1876 - val_loss: 27.3512 - lr: 3.5481e-04\n",
      "Epoch 93/140\n",
      "33/33 [==============================] - 0s 2ms/step - loss: 21.9223 - val_loss: 30.5111 - lr: 3.9811e-04\n",
      "Epoch 94/140\n",
      "33/33 [==============================] - 0s 2ms/step - loss: 23.6270 - val_loss: 21.8249 - lr: 4.4668e-04\n",
      "Epoch 95/140\n",
      "33/33 [==============================] - 0s 2ms/step - loss: 19.6346 - val_loss: 27.0095 - lr: 5.0119e-04\n",
      "Epoch 96/140\n",
      "33/33 [==============================] - 0s 2ms/step - loss: 19.4508 - val_loss: 20.8883 - lr: 5.6234e-04\n",
      "Epoch 97/140\n",
      "33/33 [==============================] - 0s 2ms/step - loss: 23.2854 - val_loss: 18.0598 - lr: 6.3096e-04\n",
      "Epoch 98/140\n",
      "33/33 [==============================] - 0s 2ms/step - loss: 17.8381 - val_loss: 16.1850 - lr: 7.0795e-04\n",
      "Epoch 99/140\n",
      "33/33 [==============================] - 0s 2ms/step - loss: 14.2166 - val_loss: 17.2775 - lr: 7.9433e-04\n",
      "Epoch 100/140\n",
      "33/33 [==============================] - 0s 2ms/step - loss: 13.1665 - val_loss: 16.8814 - lr: 8.9125e-04\n",
      "Epoch 101/140\n",
      "33/33 [==============================] - 0s 2ms/step - loss: 12.6623 - val_loss: 18.8492 - lr: 0.0010\n",
      "Epoch 102/140\n",
      "33/33 [==============================] - 0s 2ms/step - loss: 23.1545 - val_loss: 32.9299 - lr: 0.0011\n",
      "Epoch 103/140\n",
      "33/33 [==============================] - 0s 2ms/step - loss: 26.9703 - val_loss: 31.7069 - lr: 0.0013\n",
      "Epoch 104/140\n",
      "33/33 [==============================] - 0s 2ms/step - loss: 18.3670 - val_loss: 19.3933 - lr: 0.0014\n",
      "Epoch 105/140\n",
      "33/33 [==============================] - 0s 3ms/step - loss: 18.9665 - val_loss: 19.2450 - lr: 0.0016\n",
      "Epoch 106/140\n",
      "33/33 [==============================] - 0s 2ms/step - loss: 12.3451 - val_loss: 17.5283 - lr: 0.0018\n",
      "Epoch 107/140\n",
      "33/33 [==============================] - 0s 2ms/step - loss: 35.1057 - val_loss: 29.8934 - lr: 0.0020\n",
      "Epoch 108/140\n",
      "33/33 [==============================] - 0s 2ms/step - loss: 24.5899 - val_loss: 15.0469 - lr: 0.0022\n",
      "Epoch 109/140\n",
      "33/33 [==============================] - 0s 2ms/step - loss: 19.2731 - val_loss: 15.6893 - lr: 0.0025\n",
      "Epoch 110/140\n",
      "33/33 [==============================] - 0s 2ms/step - loss: 11.4911 - val_loss: 18.1737 - lr: 0.0028\n",
      "Epoch 111/140\n",
      "33/33 [==============================] - 0s 2ms/step - loss: 14.6474 - val_loss: 15.0325 - lr: 0.0032\n",
      "Epoch 112/140\n",
      "33/33 [==============================] - 0s 2ms/step - loss: 13.9919 - val_loss: 13.2825 - lr: 0.0035\n",
      "Epoch 113/140\n",
      "33/33 [==============================] - 0s 2ms/step - loss: 10.7224 - val_loss: 15.8177 - lr: 0.0040\n",
      "Epoch 114/140\n",
      "33/33 [==============================] - 0s 2ms/step - loss: 14.3270 - val_loss: 19.0495 - lr: 0.0045\n",
      "Epoch 115/140\n",
      "33/33 [==============================] - 0s 2ms/step - loss: 19.8926 - val_loss: 24.2176 - lr: 0.0050\n",
      "Epoch 116/140\n",
      "33/33 [==============================] - 0s 2ms/step - loss: 20.0720 - val_loss: 22.7570 - lr: 0.0056\n",
      "Epoch 117/140\n",
      "33/33 [==============================] - 0s 2ms/step - loss: 22.1124 - val_loss: 14.6791 - lr: 0.0063\n",
      "Epoch 118/140\n",
      "33/33 [==============================] - 0s 2ms/step - loss: 12.2608 - val_loss: 20.8857 - lr: 0.0071\n",
      "Epoch 119/140\n",
      "33/33 [==============================] - 0s 2ms/step - loss: 14.4057 - val_loss: 13.2589 - lr: 0.0079\n",
      "Epoch 120/140\n",
      "33/33 [==============================] - 0s 2ms/step - loss: 14.7331 - val_loss: 27.5641 - lr: 0.0089\n",
      "Epoch 121/140\n",
      "33/33 [==============================] - 0s 2ms/step - loss: 24.5676 - val_loss: 12.7149 - lr: 0.0100\n",
      "Epoch 122/140\n",
      "33/33 [==============================] - 0s 2ms/step - loss: 17.6897 - val_loss: 16.6544 - lr: 0.0112\n",
      "Epoch 123/140\n",
      "33/33 [==============================] - 0s 2ms/step - loss: 13.8896 - val_loss: 17.2310 - lr: 0.0126\n",
      "Epoch 124/140\n",
      "33/33 [==============================] - 0s 2ms/step - loss: 40.0220 - val_loss: 17.0802 - lr: 0.0141\n",
      "Epoch 125/140\n",
      "33/33 [==============================] - 0s 2ms/step - loss: 21.7347 - val_loss: 34.2942 - lr: 0.0158\n",
      "Epoch 126/140\n",
      "33/33 [==============================] - 0s 8ms/step - loss: 19.1107 - val_loss: 16.0042 - lr: 0.0178\n",
      "Epoch 127/140\n",
      "33/33 [==============================] - 0s 3ms/step - loss: 11.9384 - val_loss: 14.3581 - lr: 0.0200\n",
      "Epoch 128/140\n",
      "33/33 [==============================] - 0s 3ms/step - loss: 13.5621 - val_loss: 28.9742 - lr: 0.0224\n",
      "Epoch 129/140\n",
      "33/33 [==============================] - 0s 2ms/step - loss: 15.6557 - val_loss: 13.5307 - lr: 0.0251\n",
      "Epoch 130/140\n",
      "33/33 [==============================] - 0s 2ms/step - loss: 17.1258 - val_loss: 16.0087 - lr: 0.0282\n",
      "Epoch 131/140\n",
      "33/33 [==============================] - 0s 2ms/step - loss: 38.2822 - val_loss: 88.9323 - lr: 0.0316\n",
      "Epoch 132/140\n",
      "33/33 [==============================] - 0s 2ms/step - loss: 43.4170 - val_loss: 80.1171 - lr: 0.0355\n",
      "Epoch 133/140\n",
      "33/33 [==============================] - 0s 2ms/step - loss: 96.5614 - val_loss: 62.9989 - lr: 0.0398\n",
      "Epoch 134/140\n",
      "33/33 [==============================] - 0s 2ms/step - loss: 115.7780 - val_loss: 439.1003 - lr: 0.0447\n",
      "Epoch 135/140\n",
      "33/33 [==============================] - 0s 2ms/step - loss: 135.0489 - val_loss: 41.0457 - lr: 0.0501\n",
      "Epoch 136/140\n",
      "33/33 [==============================] - 0s 2ms/step - loss: 45.2559 - val_loss: 22.5840 - lr: 0.0562\n",
      "Epoch 137/140\n",
      "33/33 [==============================] - 0s 2ms/step - loss: 35.0371 - val_loss: 22.7265 - lr: 0.0631\n",
      "Epoch 138/140\n",
      "33/33 [==============================] - 0s 2ms/step - loss: 19.1399 - val_loss: 11.3636 - lr: 0.0708\n",
      "Epoch 139/140\n",
      "33/33 [==============================] - 0s 3ms/step - loss: 36.5164 - val_loss: 18.5603 - lr: 0.0794\n",
      "Epoch 140/140\n",
      "33/33 [==============================] - 0s 2ms/step - loss: 33.9235 - val_loss: 35.3539 - lr: 0.0891\n"
     ]
    }
   ],
   "source": [
    "# Set the learning rate scheduler\n",
    "lr_schedule = tf.keras.callbacks.LearningRateScheduler(\n",
    "    lambda epoch: 1e-8 * 10**(epoch / 20))\n",
    "\n",
    "# Initialize the optimizer\n",
    "optimizer = tf.keras.optimizers.Adam()\n",
    "\n",
    "# Set the training parameters\n",
    "model_uncomplete.compile(loss=tf.keras.losses.MeanSquaredError(), optimizer=optimizer)\n",
    "\n",
    "# Train the model\n",
    "history = model_uncomplete.fit(X_train, y_train, validation_data=(X_val, y_val), epochs=140, batch_size=4, callbacks=[lr_schedule])"
   ]
  },
  {
   "cell_type": "code",
   "execution_count": 525,
   "id": "5e4fa6cc-894c-4c06-bb28-63b13647973d",
   "metadata": {},
   "outputs": [
    {
     "data": {
      "image/png": "[encoded data removed]",
      "text/plain": [
       "<Figure size 1000x600 with 1 Axes>"
      ]
     },
     "metadata": {},
     "output_type": "display_data"
    }
   ],
   "source": [
    "# Define the learning rate array\n",
    "lrs = 1e-8 * (10 ** (np.arange(140) / 20))\n",
    "\n",
    "# Set the figure size\n",
    "plt.figure(figsize=(10, 6))\n",
    "\n",
    "# Set the grid\n",
    "plt.grid(True)\n",
    "\n",
    "# Plot the loss in log scale\n",
    "plt.semilogx(lrs, history.history[\"loss\"])\n",
    "\n",
    "# Increase the tickmarks size\n",
    "plt.tick_params('both', length=10, width=1, which='both')\n",
    "\n",
    "# Set the plot boundaries\n",
    "# plt.axis([1e-8, 1e-3, 0, 50])"
   ]
  },
  {
   "cell_type": "markdown",
   "id": "1781ad40-8686-4314-91ee-ff3a194cfb6e",
   "metadata": {},
   "source": [
    "### fit model 1"
   ]
  },
  {
   "cell_type": "code",
   "execution_count": 526,
   "id": "30a57025-c2ed-4312-82d8-a2b2e29038cc",
   "metadata": {},
   "outputs": [],
   "source": [
    "def custom_mape(y_true, y_pred):\n",
    "    return tf.reduce_mean(tf.abs((y_true - y_pred) / y_true)) * 100"
   ]
  },
  {
   "cell_type": "code",
   "execution_count": 527,
   "id": "725267d3-2d64-4a20-b456-ee37033d92b0",
   "metadata": {},
   "outputs": [],
   "source": [
    "class myCallback(tf.keras.callbacks.Callback):\n",
    "    def on_epoch_end(self, epoch, logs=None):\n",
    "        # Check the loss\n",
    "        if logs['val_loss'] < 9:\n",
    "            # Stop if threshold is met\n",
    "            print(\"\\Validation loss is lower than 10% so cancelling training!\")\n",
    "            self.model.stop_training = True"
   ]
  },
  {
   "cell_type": "code",
   "execution_count": 528,
   "id": "f09f5b80-3f93-4882-8ff4-fdcc8d50d2f5",
   "metadata": {},
   "outputs": [],
   "source": [
    "# Training Parameters\n",
    "model = create_model(window_size)\n",
    "optimizer = tf.keras.optimizers.Adam(learning_rate=0.0708)\n",
    "model.compile(optimizer=optimizer, loss=tf.keras.losses.MeanSquaredError(), metrics=[custom_mape])"
   ]
  },
  {
   "cell_type": "code",
   "execution_count": 529,
   "id": "83a7ce80-ab2c-4463-95c4-468b58d306e0",
   "metadata": {},
   "outputs": [
    {
     "name": "stdout",
     "output_type": "stream",
     "text": [
      "Epoch 1/500\n",
      "33/33 [==============================] - 1s 7ms/step - loss: 4368.0522 - custom_mape: 70.1059 - val_loss: 85.6820 - val_custom_mape: 32.0642\n",
      "Epoch 2/500\n",
      "33/33 [==============================] - 0s 3ms/step - loss: 70.3576 - custom_mape: 22.0782 - val_loss: 76.4087 - val_custom_mape: 25.5647\n",
      "Epoch 3/500\n",
      "33/33 [==============================] - 0s 2ms/step - loss: 67.3817 - custom_mape: 21.0868 - val_loss: 64.5320 - val_custom_mape: 21.2215\n",
      "Epoch 4/500\n",
      "33/33 [==============================] - 0s 2ms/step - loss: 56.4198 - custom_mape: 18.9613 - val_loss: 52.7132 - val_custom_mape: 19.4607\n",
      "Epoch 5/500\n",
      "33/33 [==============================] - 0s 2ms/step - loss: 33.4797 - custom_mape: 15.7263 - val_loss: 38.2402 - val_custom_mape: 18.8439\n",
      "Epoch 6/500\n",
      "33/33 [==============================] - 0s 2ms/step - loss: 32.5399 - custom_mape: 15.9991 - val_loss: 32.9273 - val_custom_mape: 16.1119\n",
      "Epoch 7/500\n",
      "33/33 [==============================] - 0s 2ms/step - loss: 33.1719 - custom_mape: 15.0296 - val_loss: 37.3508 - val_custom_mape: 19.2400\n",
      "Epoch 8/500\n",
      "33/33 [==============================] - 0s 2ms/step - loss: 29.4173 - custom_mape: 13.7955 - val_loss: 60.4611 - val_custom_mape: 20.8039\n",
      "Epoch 9/500\n",
      "33/33 [==============================] - 0s 2ms/step - loss: 38.9751 - custom_mape: 16.2044 - val_loss: 25.1464 - val_custom_mape: 15.2730\n",
      "Epoch 10/500\n",
      "33/33 [==============================] - 0s 2ms/step - loss: 25.9269 - custom_mape: 13.9296 - val_loss: 35.5038 - val_custom_mape: 20.0559\n",
      "Epoch 11/500\n",
      "33/33 [==============================] - 0s 2ms/step - loss: 33.1988 - custom_mape: 16.1455 - val_loss: 43.0029 - val_custom_mape: 22.3927\n",
      "Epoch 12/500\n",
      "33/33 [==============================] - 0s 2ms/step - loss: 30.1019 - custom_mape: 14.7453 - val_loss: 53.7180 - val_custom_mape: 19.0490\n",
      "Epoch 13/500\n",
      "33/33 [==============================] - 0s 3ms/step - loss: 43.7590 - custom_mape: 17.8519 - val_loss: 21.4347 - val_custom_mape: 13.4667\n",
      "Epoch 14/500\n",
      "33/33 [==============================] - 0s 3ms/step - loss: 26.7960 - custom_mape: 13.4451 - val_loss: 22.8093 - val_custom_mape: 11.7050\n",
      "Epoch 15/500\n",
      "33/33 [==============================] - 0s 2ms/step - loss: 28.2640 - custom_mape: 13.9921 - val_loss: 17.5620 - val_custom_mape: 12.1407\n",
      "Epoch 16/500\n",
      "33/33 [==============================] - 0s 2ms/step - loss: 18.3145 - custom_mape: 11.9869 - val_loss: 16.0314 - val_custom_mape: 11.3849\n",
      "Epoch 17/500\n",
      "33/33 [==============================] - 0s 2ms/step - loss: 31.1229 - custom_mape: 14.7954 - val_loss: 23.2867 - val_custom_mape: 11.1401\n",
      "Epoch 18/500\n",
      "33/33 [==============================] - 0s 2ms/step - loss: 21.5420 - custom_mape: 13.5948 - val_loss: 20.3721 - val_custom_mape: 15.1138\n",
      "Epoch 19/500\n",
      "33/33 [==============================] - 0s 2ms/step - loss: 22.3146 - custom_mape: 12.9623 - val_loss: 14.5801 - val_custom_mape: 9.6006\n",
      "Epoch 20/500\n",
      "33/33 [==============================] - 0s 2ms/step - loss: 17.2636 - custom_mape: 11.1459 - val_loss: 11.9438 - val_custom_mape: 8.8510\n",
      "Epoch 21/500\n",
      "33/33 [==============================] - 0s 2ms/step - loss: 21.1664 - custom_mape: 12.2859 - val_loss: 34.8426 - val_custom_mape: 21.0692\n",
      "Epoch 22/500\n",
      "33/33 [==============================] - 0s 2ms/step - loss: 16.0448 - custom_mape: 10.2010 - val_loss: 19.3546 - val_custom_mape: 11.0832\n",
      "Epoch 23/500\n",
      "33/33 [==============================] - 0s 3ms/step - loss: 13.0302 - custom_mape: 9.8709 - val_loss: 11.2266 - val_custom_mape: 8.4605\n",
      "Epoch 24/500\n",
      "33/33 [==============================] - 0s 2ms/step - loss: 10.1519 - custom_mape: 7.7110 - val_loss: 11.0504 - val_custom_mape: 8.5454\n",
      "Epoch 25/500\n",
      "33/33 [==============================] - 0s 2ms/step - loss: 12.8230 - custom_mape: 9.7071 - val_loss: 13.4412 - val_custom_mape: 8.6328\n",
      "Epoch 26/500\n",
      "33/33 [==============================] - 0s 2ms/step - loss: 12.4659 - custom_mape: 9.5688 - val_loss: 12.0910 - val_custom_mape: 9.0032\n",
      "Epoch 27/500\n",
      "33/33 [==============================] - 0s 2ms/step - loss: 10.1554 - custom_mape: 8.3685 - val_loss: 10.6466 - val_custom_mape: 7.8725\n",
      "Epoch 28/500\n",
      "33/33 [==============================] - 0s 2ms/step - loss: 20.2196 - custom_mape: 12.1758 - val_loss: 16.1373 - val_custom_mape: 10.7235\n",
      "Epoch 29/500\n",
      "33/33 [==============================] - 0s 3ms/step - loss: 18.0422 - custom_mape: 12.3535 - val_loss: 18.7612 - val_custom_mape: 15.8321\n",
      "Epoch 30/500\n",
      "33/33 [==============================] - 0s 2ms/step - loss: 12.8672 - custom_mape: 9.4341 - val_loss: 11.3160 - val_custom_mape: 9.4152\n",
      "Epoch 31/500\n",
      "33/33 [==============================] - 0s 2ms/step - loss: 11.6536 - custom_mape: 9.2280 - val_loss: 12.3489 - val_custom_mape: 9.8836\n",
      "Epoch 32/500\n",
      "33/33 [==============================] - 0s 2ms/step - loss: 12.9242 - custom_mape: 9.8556 - val_loss: 10.6864 - val_custom_mape: 7.2817\n",
      "Epoch 33/500\n",
      "33/33 [==============================] - 0s 2ms/step - loss: 11.3647 - custom_mape: 8.6039 - val_loss: 10.6492 - val_custom_mape: 8.0418\n",
      "Epoch 34/500\n",
      "33/33 [==============================] - 0s 2ms/step - loss: 11.7379 - custom_mape: 8.8904 - val_loss: 19.7017 - val_custom_mape: 11.7258\n",
      "Epoch 35/500\n",
      "33/33 [==============================] - 0s 3ms/step - loss: 15.0305 - custom_mape: 10.6509 - val_loss: 14.0921 - val_custom_mape: 11.7457\n",
      "Epoch 36/500\n",
      "33/33 [==============================] - 0s 2ms/step - loss: 12.6353 - custom_mape: 9.0923 - val_loss: 10.6066 - val_custom_mape: 7.9551\n",
      "Epoch 37/500\n",
      "33/33 [==============================] - 0s 2ms/step - loss: 10.4061 - custom_mape: 7.9907 - val_loss: 9.9579 - val_custom_mape: 6.8465\n",
      "Epoch 38/500\n",
      "33/33 [==============================] - 0s 2ms/step - loss: 12.7566 - custom_mape: 9.1676 - val_loss: 16.2401 - val_custom_mape: 8.6685\n",
      "Epoch 39/500\n",
      "33/33 [==============================] - 0s 2ms/step - loss: 21.1768 - custom_mape: 12.2700 - val_loss: 21.5419 - val_custom_mape: 16.6306\n",
      "Epoch 40/500\n",
      "33/33 [==============================] - 0s 2ms/step - loss: 15.4894 - custom_mape: 10.7989 - val_loss: 9.9912 - val_custom_mape: 7.4099\n",
      "Epoch 41/500\n",
      "33/33 [==============================] - 0s 2ms/step - loss: 13.3770 - custom_mape: 9.4531 - val_loss: 14.7392 - val_custom_mape: 7.2321\n",
      "Epoch 42/500\n",
      "33/33 [==============================] - 0s 2ms/step - loss: 9.2892 - custom_mape: 8.5327 - val_loss: 16.9657 - val_custom_mape: 14.0585\n",
      "Epoch 43/500\n",
      "33/33 [==============================] - 0s 2ms/step - loss: 12.8016 - custom_mape: 9.5285 - val_loss: 14.8921 - val_custom_mape: 9.2458\n",
      "Epoch 44/500\n",
      "33/33 [==============================] - 0s 2ms/step - loss: 14.6435 - custom_mape: 10.7240 - val_loss: 56.6042 - val_custom_mape: 24.1036\n",
      "Epoch 45/500\n",
      "33/33 [==============================] - 0s 3ms/step - loss: 17.5395 - custom_mape: 11.5177 - val_loss: 11.2957 - val_custom_mape: 9.1879\n",
      "Epoch 46/500\n",
      "33/33 [==============================] - 0s 2ms/step - loss: 12.1330 - custom_mape: 9.7695 - val_loss: 11.1633 - val_custom_mape: 8.6913\n",
      "Epoch 47/500\n",
      "33/33 [==============================] - 0s 2ms/step - loss: 11.5967 - custom_mape: 9.5770 - val_loss: 15.7341 - val_custom_mape: 12.0856\n",
      "Epoch 48/500\n",
      "33/33 [==============================] - 0s 2ms/step - loss: 10.6099 - custom_mape: 9.1301 - val_loss: 10.5240 - val_custom_mape: 8.7100\n",
      "Epoch 49/500\n",
      "33/33 [==============================] - 0s 3ms/step - loss: 12.6646 - custom_mape: 9.7408 - val_loss: 28.6287 - val_custom_mape: 19.2985\n",
      "Epoch 50/500\n",
      "33/33 [==============================] - 0s 3ms/step - loss: 22.2345 - custom_mape: 12.5828 - val_loss: 32.0494 - val_custom_mape: 19.0574\n",
      "Epoch 51/500\n",
      "33/33 [==============================] - 0s 2ms/step - loss: 17.6593 - custom_mape: 10.9812 - val_loss: 10.3232 - val_custom_mape: 8.1281\n",
      "Epoch 52/500\n",
      "33/33 [==============================] - 0s 2ms/step - loss: 10.3072 - custom_mape: 8.4312 - val_loss: 13.1919 - val_custom_mape: 11.3052\n",
      "Epoch 53/500\n",
      "33/33 [==============================] - 0s 2ms/step - loss: 14.3214 - custom_mape: 10.7669 - val_loss: 30.6452 - val_custom_mape: 19.8660\n",
      "Epoch 54/500\n",
      "33/33 [==============================] - 0s 2ms/step - loss: 15.9089 - custom_mape: 10.8208 - val_loss: 11.2191 - val_custom_mape: 7.5287\n",
      "Epoch 55/500\n",
      "33/33 [==============================] - 0s 2ms/step - loss: 10.9648 - custom_mape: 9.2159 - val_loss: 23.5519 - val_custom_mape: 16.9888\n",
      "Epoch 56/500\n",
      "33/33 [==============================] - 0s 2ms/step - loss: 9.0251 - custom_mape: 7.8107 - val_loss: 9.7260 - val_custom_mape: 7.5665\n",
      "Epoch 57/500\n",
      "33/33 [==============================] - 0s 2ms/step - loss: 8.1737 - custom_mape: 7.2243 - val_loss: 42.2499 - val_custom_mape: 19.7168\n",
      "Epoch 58/500\n",
      "33/33 [==============================] - 0s 2ms/step - loss: 15.1439 - custom_mape: 10.3881 - val_loss: 10.4786 - val_custom_mape: 8.4702\n",
      "Epoch 59/500\n",
      "33/33 [==============================] - 0s 2ms/step - loss: 12.7527 - custom_mape: 9.8003 - val_loss: 13.4225 - val_custom_mape: 7.4116\n",
      "Epoch 60/500\n",
      "33/33 [==============================] - 0s 2ms/step - loss: 17.0536 - custom_mape: 11.3976 - val_loss: 10.6498 - val_custom_mape: 8.2895\n",
      "Epoch 61/500\n",
      "33/33 [==============================] - 0s 2ms/step - loss: 18.2542 - custom_mape: 12.0802 - val_loss: 24.9000 - val_custom_mape: 12.5722\n",
      "Epoch 62/500\n",
      "33/33 [==============================] - 0s 2ms/step - loss: 14.2306 - custom_mape: 10.0255 - val_loss: 18.4967 - val_custom_mape: 10.6730\n",
      "Epoch 63/500\n",
      "33/33 [==============================] - 0s 2ms/step - loss: 12.1392 - custom_mape: 9.4157 - val_loss: 10.5185 - val_custom_mape: 9.2208\n",
      "Epoch 64/500\n",
      "33/33 [==============================] - 0s 3ms/step - loss: 10.8792 - custom_mape: 8.4601 - val_loss: 10.7596 - val_custom_mape: 6.7057\n",
      "Epoch 65/500\n",
      "33/33 [==============================] - 0s 3ms/step - loss: 9.5885 - custom_mape: 7.9782 - val_loss: 15.0293 - val_custom_mape: 12.4217\n",
      "Epoch 66/500\n",
      "33/33 [==============================] - 0s 2ms/step - loss: 17.6641 - custom_mape: 11.4974 - val_loss: 15.5388 - val_custom_mape: 13.2182\n",
      "Epoch 67/500\n",
      "33/33 [==============================] - 0s 2ms/step - loss: 10.6885 - custom_mape: 9.0882 - val_loss: 12.3154 - val_custom_mape: 10.5716\n",
      "Epoch 68/500\n",
      "33/33 [==============================] - 0s 2ms/step - loss: 10.5065 - custom_mape: 9.1305 - val_loss: 10.4741 - val_custom_mape: 6.6305\n",
      "Epoch 69/500\n",
      "33/33 [==============================] - 0s 2ms/step - loss: 10.0034 - custom_mape: 8.5453 - val_loss: 12.0117 - val_custom_mape: 10.5139\n",
      "Epoch 70/500\n",
      "33/33 [==============================] - 0s 2ms/step - loss: 14.4607 - custom_mape: 10.7943 - val_loss: 9.4097 - val_custom_mape: 8.0492\n",
      "Epoch 71/500\n",
      "33/33 [==============================] - 0s 2ms/step - loss: 9.5819 - custom_mape: 7.8170 - val_loss: 9.3160 - val_custom_mape: 7.7717\n",
      "Epoch 72/500\n",
      "33/33 [==============================] - 0s 2ms/step - loss: 11.6274 - custom_mape: 9.3798 - val_loss: 10.0127 - val_custom_mape: 8.3708\n",
      "Epoch 73/500\n",
      "33/33 [==============================] - 0s 2ms/step - loss: 10.7436 - custom_mape: 8.9066 - val_loss: 9.8346 - val_custom_mape: 8.6239\n",
      "Epoch 74/500\n",
      "33/33 [==============================] - 0s 2ms/step - loss: 9.0763 - custom_mape: 8.1252 - val_loss: 10.3040 - val_custom_mape: 9.2251\n",
      "Epoch 75/500\n",
      "33/33 [==============================] - 0s 2ms/step - loss: 10.7774 - custom_mape: 8.8222 - val_loss: 12.9498 - val_custom_mape: 8.6665\n",
      "Epoch 76/500\n",
      "33/33 [==============================] - 0s 2ms/step - loss: 8.9602 - custom_mape: 7.9388 - val_loss: 10.3836 - val_custom_mape: 7.3660\n",
      "Epoch 77/500\n",
      "33/33 [==============================] - 0s 2ms/step - loss: 9.5586 - custom_mape: 8.1956 - val_loss: 13.6787 - val_custom_mape: 7.4163\n",
      "Epoch 78/500\n",
      "33/33 [==============================] - 0s 2ms/step - loss: 10.3768 - custom_mape: 8.9250 - val_loss: 10.2988 - val_custom_mape: 7.9329\n",
      "Epoch 79/500\n",
      "33/33 [==============================] - 0s 2ms/step - loss: 12.1850 - custom_mape: 9.6921 - val_loss: 13.5555 - val_custom_mape: 7.3187\n",
      "Epoch 80/500\n",
      "33/33 [==============================] - 0s 2ms/step - loss: 26.9200 - custom_mape: 14.1786 - val_loss: 10.0417 - val_custom_mape: 7.3156\n",
      "Epoch 81/500\n",
      "33/33 [==============================] - 0s 2ms/step - loss: 7.2439 - custom_mape: 7.2797 - val_loss: 9.5210 - val_custom_mape: 6.6127\n",
      "Epoch 82/500\n",
      "33/33 [==============================] - 0s 2ms/step - loss: 12.0507 - custom_mape: 9.5539 - val_loss: 11.8508 - val_custom_mape: 7.5739\n",
      "Epoch 83/500\n",
      " 1/33 [..............................] - ETA: 0s - loss: 22.3062 - custom_mape: 8.7148\\Validation loss is lower than 10% so cancelling training!\n",
      "33/33 [==============================] - 0s 2ms/step - loss: 9.3599 - custom_mape: 8.3715 - val_loss: 8.9363 - val_custom_mape: 6.8329\n"
     ]
    }
   ],
   "source": [
    "# Model Training\n",
    "history = model.fit(X_train, y_train, validation_data=(X_val, y_val), epochs=500, batch_size=4, verbose=1, callbacks=[myCallback()])"
   ]
  },
  {
   "cell_type": "markdown",
   "id": "f028bfb1-5802-454a-a96c-5099a4a6b94d",
   "metadata": {},
   "source": [
    "### Visualisasi loss"
   ]
  },
  {
   "cell_type": "code",
   "execution_count": 530,
   "id": "1c7d9be8-c33e-4055-aa77-d4f425296985",
   "metadata": {},
   "outputs": [
    {
     "data": {
      "image/png": "[encoded data removed]",
      "text/plain": [
       "<Figure size 1000x500 with 1 Axes>"
      ]
     },
     "metadata": {},
     "output_type": "display_data"
    }
   ],
   "source": [
    "plt.figure(figsize=(10, 5))\n",
    "plt.plot(history.history['loss'], label='Training Loss')\n",
    "plt.plot(history.history['val_loss'], label='Validation Loss')\n",
    "plt.title('Model Loss')\n",
    "plt.xlabel('Epochs')\n",
    "plt.ylabel('Loss')\n",
    "plt.legend()\n",
    "plt.grid(True)\n",
    "plt.show()"
   ]
  },
  {
   "cell_type": "markdown",
   "id": "5e1b4fad-7b8f-45a6-a296-449f16a27417",
   "metadata": {
    "jp-MarkdownHeadingCollapsed": true
   },
   "source": [
    "### Noise Dataset"
   ]
  },
  {
   "cell_type": "code",
   "execution_count": null,
   "id": "02ad9289-7be8-4232-b020-22d78c1b7231",
   "metadata": {},
   "outputs": [],
   "source": [
    "# Data Augmentation (di sini pakai Random Noise)\n",
    "# tambah random noise ke training data\n",
    "noise = np.random.normal(0, 0.1, X_train.shape)\n",
    "X_train_noisy = X_train + noise\n",
    "model.fit(X_train_noisy, y_train, epochs=50, batch_size=32, validation_split=0.2, callbacks=[early_stopping])"
   ]
  },
  {
   "cell_type": "code",
   "execution_count": null,
   "id": "bc2d7aec-8ad8-4312-a5f1-2d469844122e",
   "metadata": {},
   "outputs": [],
   "source": [
    "plt.figure(figsize=(10, 5))\n",
    "plt.plot(history.history['loss'], label='Training Loss')\n",
    "plt.plot(history.history['val_loss'], label='Validation Loss')\n",
    "plt.title('Model Loss')\n",
    "plt.xlabel('Epochs')\n",
    "plt.ylabel('Loss')\n",
    "plt.legend()\n",
    "plt.grid(True)\n",
    "plt.show()"
   ]
  },
  {
   "cell_type": "markdown",
   "id": "dc25f842-076a-473c-90dc-e17c9a6577c7",
   "metadata": {
    "jp-MarkdownHeadingCollapsed": true
   },
   "source": [
    "### Regularization"
   ]
  },
  {
   "cell_type": "code",
   "execution_count": null,
   "id": "1ab8a038-6e77-46ba-96e8-b9b84881765d",
   "metadata": {},
   "outputs": [],
   "source": [
    "# Regularization (L2 Regularization)\n",
    "model = keras.Sequential()\n",
    "model.add(LSTM(128, activation='relu', return_sequences=True, input_shape=(WINDOW_SIZE, 1), kernel_regularizer=l2(0.01)))\n",
    "model.add(LSTM(128, activation='relu', return_sequences=True, kernel_regularizer=l2(0.01)))\n",
    "model.add(LSTM(128, activation='relu', kernel_regularizer=l2(0.01)))\n",
    "model.add(Dense(64, activation='relu', kernel_regularizer=l2(0.01)))\n",
    "model.add(Dense(1))"
   ]
  },
  {
   "cell_type": "markdown",
   "id": "bb005a94-f78e-4d43-a9ae-a623e4c4496e",
   "metadata": {
    "jp-MarkdownHeadingCollapsed": true
   },
   "source": [
    "### Cross Validation"
   ]
  },
  {
   "cell_type": "code",
   "execution_count": null,
   "id": "666081da-5b0d-4726-a777-6ec25a7c2289",
   "metadata": {},
   "outputs": [],
   "source": [
    "# Membuat objek KFold dengan 5 fold\n",
    "kf = KFold(n_splits=5, shuffle=True, random_state=42)\n",
    "\n",
    "# Menyimpan hasil cross-validation\n",
    "cv_results = []\n",
    "true_values = []\n",
    "predictions = []\n",
    "\n",
    "for train_index, val_index in kf.split(X):\n",
    "    # Membagi data menjadi train dan validation set untuk setiap fold\n",
    "    X_train_fold, X_val_fold = X[train_index], X[val_index]\n",
    "    y_train_fold, y_val_fold = y[train_index], y[val_index]\n",
    "\n",
    "    # Membuat model\n",
    "    model = keras.Sequential()\n",
    "    model.add(Dense(128, activation='relu', input_shape=(WINDOW_SIZE, 1)))\n",
    "    model.add(Dropout(0.2))\n",
    "    model.add(Dense(128, activation='relu'))\n",
    "    model.add(Dropout(0.2))\n",
    "    model.add(Dense(128, activation='relu'))\n",
    "    model.add(Dropout(0.2))\n",
    "    model.add(Dense(64, activation='relu'))\n",
    "    model.add(Dropout(0.2))\n",
    "    model.add(Dense(1))\n",
    "\n",
    "    # Kompilasi model\n",
    "    model.compile(optimizer='adam', loss=tf.keras.losses.Huber())\n",
    "\n",
    "    # Latih model\n",
    "    history = model.fit(X_train_fold, y_train_fold, epochs=50, batch_size=8, validation_data=(X_val_fold, y_val_fold), verbose=0)\n",
    "\n",
    "    # Evaluasi model pada data validasi\n",
    "    val_loss = model.evaluate(X_val_fold, y_val_fold, verbose=0)\n",
    "\n",
    "    # Menyimpan hasil evaluasi untuk setiap fold\n",
    "    cv_results.append(val_loss)\n",
    "\n",
    "    # Menyimpan true values dan predictions\n",
    "    y_pred_fold = model.predict(X_val_fold)\n",
    "    true_values.extend(y_val_fold)\n",
    "    predictions.extend(y_pred_fold)\n",
    "\n",
    "# Menghitung rata-rata dan standar deviasi loss dari cross-validation\n",
    "mean_loss = np.mean(cv_results)\n",
    "std_loss = np.std(cv_results)\n",
    "\n",
    "# Menghitung MAE dan RMSE\n",
    "mae = mean_absolute_error(true_values, predictions)\n",
    "rmse = np.sqrt(mean_squared_error(true_values, predictions))\n",
    "\n",
    "print(f'Rata-rata Loss dari Cross-Validation: {mean_loss}')\n",
    "print(f'Standar Deviasi Loss dari Cross-Validation: {std_loss}')\n",
    "print(f'Mean Absolute Error (MAE): {mae}')\n",
    "print(f'Root Mean Squared Error (RMSE): {rmse}')"
   ]
  },
  {
   "cell_type": "markdown",
   "id": "dc4b3cef-6ce8-435a-8713-af0b13bb94b7",
   "metadata": {},
   "source": [
    "## Forecast"
   ]
  },
  {
   "cell_type": "markdown",
   "id": "661baa41-81e5-44a7-a0f6-28b75d534a47",
   "metadata": {},
   "source": [
    "### Train Forecast"
   ]
  },
  {
   "cell_type": "code",
   "execution_count": 531,
   "id": "8e74c1f4-1790-4383-84e2-3691cd66b6d6",
   "metadata": {},
   "outputs": [],
   "source": [
    "def inverse_scale(data):\n",
    "    return data*1000"
   ]
  },
  {
   "cell_type": "code",
   "execution_count": 532,
   "id": "5c0055af-f41d-4769-ab8b-c330f6638e24",
   "metadata": {},
   "outputs": [
    {
     "name": "stdout",
     "output_type": "stream",
     "text": [
      "6/6 [==============================] - 0s 1ms/step\n"
     ]
    }
   ],
   "source": [
    "predict = model.predict(X)\n",
    "predict = inverse_scale(predict.flatten())\n",
    "y_inverse = inverse_scale(y)"
   ]
  },
  {
   "cell_type": "code",
   "execution_count": 533,
   "id": "bdde9fca-d7f7-4106-bde6-a7fc9ecaaab7",
   "metadata": {},
   "outputs": [
    {
     "data": {
      "text/plain": [
       "(165,)"
      ]
     },
     "execution_count": 533,
     "metadata": {},
     "output_type": "execute_result"
    }
   ],
   "source": [
    "predict.shape"
   ]
  },
  {
   "cell_type": "code",
   "execution_count": 534,
   "id": "4abece7d-8338-4df7-bb21-aec6fa053f94",
   "metadata": {},
   "outputs": [
    {
     "data": {
      "text/html": [
       "<div>\n",
       "<style scoped>\n",
       "    .dataframe tbody tr th:only-of-type {\n",
       "        vertical-align: middle;\n",
       "    }\n",
       "\n",
       "    .dataframe tbody tr th {\n",
       "        vertical-align: top;\n",
       "    }\n",
       "\n",
       "    .dataframe thead th {\n",
       "        text-align: right;\n",
       "    }\n",
       "</style>\n",
       "<table border=\"1\" class=\"dataframe\">\n",
       "  <thead>\n",
       "    <tr style=\"text-align: right;\">\n",
       "      <th></th>\n",
       "      <th>Week</th>\n",
       "      <th>Prediction</th>\n",
       "      <th>actuals</th>\n",
       "    </tr>\n",
       "  </thead>\n",
       "  <tbody>\n",
       "    <tr>\n",
       "      <th>0</th>\n",
       "      <td>25</td>\n",
       "      <td>27515.240234</td>\n",
       "      <td>28000.000000</td>\n",
       "    </tr>\n",
       "    <tr>\n",
       "      <th>1</th>\n",
       "      <td>26</td>\n",
       "      <td>27986.351562</td>\n",
       "      <td>27785.714286</td>\n",
       "    </tr>\n",
       "    <tr>\n",
       "      <th>2</th>\n",
       "      <td>27</td>\n",
       "      <td>28383.945312</td>\n",
       "      <td>25000.000000</td>\n",
       "    </tr>\n",
       "    <tr>\n",
       "      <th>3</th>\n",
       "      <td>28</td>\n",
       "      <td>24444.982422</td>\n",
       "      <td>25000.000000</td>\n",
       "    </tr>\n",
       "    <tr>\n",
       "      <th>4</th>\n",
       "      <td>29</td>\n",
       "      <td>24536.500000</td>\n",
       "      <td>25000.000000</td>\n",
       "    </tr>\n",
       "    <tr>\n",
       "      <th>...</th>\n",
       "      <td>...</td>\n",
       "      <td>...</td>\n",
       "      <td>...</td>\n",
       "    </tr>\n",
       "    <tr>\n",
       "      <th>160</th>\n",
       "      <td>185</td>\n",
       "      <td>21104.830078</td>\n",
       "      <td>20000.000000</td>\n",
       "    </tr>\n",
       "    <tr>\n",
       "      <th>161</th>\n",
       "      <td>186</td>\n",
       "      <td>19229.222656</td>\n",
       "      <td>20000.000000</td>\n",
       "    </tr>\n",
       "    <tr>\n",
       "      <th>162</th>\n",
       "      <td>187</td>\n",
       "      <td>19872.007812</td>\n",
       "      <td>20857.142857</td>\n",
       "    </tr>\n",
       "    <tr>\n",
       "      <th>163</th>\n",
       "      <td>188</td>\n",
       "      <td>21563.207031</td>\n",
       "      <td>22000.000000</td>\n",
       "    </tr>\n",
       "    <tr>\n",
       "      <th>164</th>\n",
       "      <td>189</td>\n",
       "      <td>21844.923828</td>\n",
       "      <td>22000.000000</td>\n",
       "    </tr>\n",
       "  </tbody>\n",
       "</table>\n",
       "<p>165 rows × 3 columns</p>\n",
       "</div>"
      ],
      "text/plain": [
       "     Week    Prediction       actuals\n",
       "0      25  27515.240234  28000.000000\n",
       "1      26  27986.351562  27785.714286\n",
       "2      27  28383.945312  25000.000000\n",
       "3      28  24444.982422  25000.000000\n",
       "4      29  24536.500000  25000.000000\n",
       "..    ...           ...           ...\n",
       "160   185  21104.830078  20000.000000\n",
       "161   186  19229.222656  20000.000000\n",
       "162   187  19872.007812  20857.142857\n",
       "163   188  21563.207031  22000.000000\n",
       "164   189  21844.923828  22000.000000\n",
       "\n",
       "[165 rows x 3 columns]"
      ]
     },
     "execution_count": 534,
     "metadata": {},
     "output_type": "execute_result"
    }
   ],
   "source": [
    "predict_result = pd.DataFrame(data={'Week':week[window_size:], 'Prediction':predict, 'actuals':y_inverse})\n",
    "predict_result"
   ]
  },
  {
   "cell_type": "code",
   "execution_count": 535,
   "id": "325ffa88-e5e8-4e49-90c9-8d50f5876151",
   "metadata": {},
   "outputs": [
    {
     "data": {
      "image/png": "[encoded data removed]",
      "text/plain": [
       "<Figure size 1200x600 with 1 Axes>"
      ]
     },
     "metadata": {},
     "output_type": "display_data"
    }
   ],
   "source": [
    "week_selected = 0\n",
    "plt.figure(figsize=(12, 6))\n",
    "plt.plot(predict_result['Week'][week_selected:], predict_result['Prediction'][week_selected:], label='Prediction', color='blue')\n",
    "plt.plot(predict_result['Week'][week_selected:], predict_result['actuals'][week_selected:], label='Actuals', color='orange')\n",
    "\n",
    "plt.xlabel('Date')\n",
    "plt.ylabel('Value')\n",
    "plt.title('Predicted vs Actual Values Over Time')\n",
    "plt.legend()\n",
    "plt.xticks(rotation=45)\n",
    "plt.tight_layout()\n",
    "\n",
    "plt.show()"
   ]
  },
  {
   "cell_type": "markdown",
   "id": "62dd2078-1f21-409d-a417-42ea0e84a7ab",
   "metadata": {},
   "source": [
    "### Validation Forecast"
   ]
  },
  {
   "cell_type": "code",
   "execution_count": 536,
   "id": "ee789e6e-d324-4285-b2af-fd24283ff693",
   "metadata": {},
   "outputs": [
    {
     "name": "stdout",
     "output_type": "stream",
     "text": [
      "mae: 1863.07\n",
      "mse: 6729967.99\n",
      "rmse: 2594.22\n"
     ]
    }
   ],
   "source": [
    "from sklearn.metrics import mean_absolute_error, mean_squared_error\n",
    "\n",
    "mae = mean_absolute_error(y_inverse, predict)\n",
    "mse = mean_squared_error(y_inverse, predict)\n",
    "rmse = np.sqrt(mse)\n",
    "\n",
    "print(f'mae: {mae:.2f}')\n",
    "print(f'mse: {mse:.2f}')\n",
    "print(f'rmse: {rmse:.2f}')"
   ]
  },
  {
   "cell_type": "code",
   "execution_count": 537,
   "id": "6a5d4d86-78c7-4e0c-a5c2-771dc4b75af8",
   "metadata": {},
   "outputs": [
    {
     "name": "stdout",
     "output_type": "stream",
     "text": [
      "Akurasi prediksi: 93.61%\n"
     ]
    }
   ],
   "source": [
    "mape = np.mean(np.abs((y_inverse - predict) / y_inverse)) * 100\n",
    "accuracy = 100 - mape\n",
    "print(f\"Akurasi prediksi: {accuracy:.2f}%\")"
   ]
  },
  {
   "cell_type": "markdown",
   "id": "b838bbac-bc55-4ccc-8baa-116794a96a70",
   "metadata": {},
   "source": [
    "### Future Forecast"
   ]
  },
  {
   "cell_type": "code",
   "execution_count": 351,
   "id": "9fad83f2-a004-4150-98e7-aa3d6dc893ac",
   "metadata": {},
   "outputs": [],
   "source": [
    "def inverse_scale(data):\n",
    "    return data*1000"
   ]
  },
  {
   "cell_type": "code",
   "execution_count": null,
   "id": "b5c4fe6a-14e8-496b-8753-0922bef9ecac",
   "metadata": {},
   "outputs": [],
   "source": [
    "def prediction(data):\n",
    "    # scaling actual data\n",
    "    actual_scaled = scaled_price(data)\n",
    "    # select seq from scaled data\n",
    "    seq = actual_scaled[-window_size:]\n",
    "    # predict\n",
    "    hasil = model.predict(seq.reshape(1, window_size, 1))\n",
    "    # reshape hasil\n",
    "    hasil = inverse_scale(hasil)\n",
    "    # append hasil to result\n",
    "    seq_res.append(hasil.item())"
   ]
  },
  {
   "cell_type": "code",
   "execution_count": null,
   "id": "f885d8e0-7630-4d28-a069-d8adb2538f2f",
   "metadata": {},
   "outputs": [],
   "source": [
    "def predict_2_weeks(data, result):\n",
    "    seq_res = result\n",
    "    act_temp = data.reshape(-1, 1)\n",
    "    for i in range(2):\n",
    "        actual_scaled = scaled_price(act_temp)\n",
    "        seq = actual_scaled[-window_size:]\n",
    "        hasil = model.predict(seq.reshape(1, window_size, 1))\n",
    "        hasil = inverse_scale(hasil)\n",
    "        seq_res = np.append(seq_res, hasil.item())\n",
    "        act_temp = np.append(act_temp, np.expand_dims([hasil.item()], axis=1))\n",
    "    return seq_res"
   ]
  },
  {
   "cell_type": "code",
   "execution_count": null,
   "id": "24f0ec6d-f466-439b-a709-8c6259d46778",
   "metadata": {},
   "outputs": [],
   "source": [
    "print(model.input_shape)"
   ]
  },
  {
   "cell_type": "code",
   "execution_count": 538,
   "id": "8f9a73c1-e7f6-41b5-8830-eed8674d8e3b",
   "metadata": {},
   "outputs": [],
   "source": [
    "actual = series[:-30]\n",
    "seq_res = np.array([])\n",
    "\n",
    "# seq_res = predict_n_weeks(4, actual, seq_res)\n",
    "# prediction(actual)\n",
    "# seq_res"
   ]
  },
  {
   "cell_type": "code",
   "execution_count": 539,
   "id": "5123199a-ab53-47bc-82e4-b2f03392f832",
   "metadata": {},
   "outputs": [],
   "source": [
    "act_temp = actual.reshape(-1, 1)"
   ]
  },
  {
   "cell_type": "code",
   "execution_count": 540,
   "id": "405321ee-8d99-4348-bef5-7bb191fe0f5d",
   "metadata": {},
   "outputs": [
    {
     "name": "stdout",
     "output_type": "stream",
     "text": [
      "1/1 [==============================] - 0s 77ms/step\n"
     ]
    }
   ],
   "source": [
    "actual_scaled = scaled_price(act_temp)\n",
    "seq = actual_scaled[-window_size:]\n",
    "hasil = model.predict(seq.reshape(1, window_size, 1))\n",
    "hasil = inverse_scale(hasil)\n",
    "seq_res = np.append(seq_res, hasil.item())\n",
    "act_temp = np.append(act_temp, np.expand_dims([hasil.item()], axis=1))"
   ]
  },
  {
   "cell_type": "code",
   "execution_count": 541,
   "id": "a838b039-56c1-4fd6-96ac-975d53287ccb",
   "metadata": {},
   "outputs": [
    {
     "data": {
      "text/plain": [
       "array([29016.27929688])"
      ]
     },
     "execution_count": 541,
     "metadata": {},
     "output_type": "execute_result"
    }
   ],
   "source": [
    "seq_res"
   ]
  },
  {
   "cell_type": "code",
   "execution_count": 542,
   "id": "76a702c7-abe7-40d4-a0ab-bcdac15c09c8",
   "metadata": {},
   "outputs": [
    {
     "name": "stdout",
     "output_type": "stream",
     "text": [
      "1/1 [==============================] - 0s 26ms/step\n"
     ]
    }
   ],
   "source": [
    "actual_scaled = scaled_price(act_temp)\n",
    "seq = actual_scaled[-window_size:]\n",
    "hasil = model.predict(seq.reshape(1, window_size, 1))\n",
    "hasil = inverse_scale(hasil)\n",
    "seq_res = np.append(seq_res, hasil.item())\n",
    "act_temp = np.append(act_temp, np.expand_dims([hasil.item()], axis=1))"
   ]
  },
  {
   "cell_type": "code",
   "execution_count": 543,
   "id": "749d0eeb-deb0-46a0-aee6-4b54bae5de9c",
   "metadata": {},
   "outputs": [
    {
     "data": {
      "text/plain": [
       "array([29016.27929688, 28618.86132812])"
      ]
     },
     "execution_count": 543,
     "metadata": {},
     "output_type": "execute_result"
    }
   ],
   "source": [
    "seq_res"
   ]
  },
  {
   "cell_type": "code",
   "execution_count": 544,
   "id": "2dfe1d2b-f4ef-47cc-a9ee-6188840bda7a",
   "metadata": {},
   "outputs": [
    {
     "name": "stdout",
     "output_type": "stream",
     "text": [
      "     Minggu    Harga/week\n",
      "159     160  26142.857143\n",
      "160     161  30714.285714\n"
     ]
    }
   ],
   "source": [
    "print(weekly_data[(weekly_data['Minggu'] > 159) & (weekly_data['Minggu'] <= 161)])"
   ]
  },
  {
   "cell_type": "code",
   "execution_count": 545,
   "id": "dcf9db77-c770-442d-8c82-b4fe803802ff",
   "metadata": {},
   "outputs": [],
   "source": [
    "actual = np.append(actual, [26142.85, 30714.28])"
   ]
  },
  {
   "cell_type": "code",
   "execution_count": 546,
   "id": "7ebc3e48-839e-4979-8b5a-f57f878c7239",
   "metadata": {},
   "outputs": [],
   "source": [
    "act_temp = actual.reshape(-1, 1)\n",
    "# seq_res = np.array([])"
   ]
  },
  {
   "cell_type": "code",
   "execution_count": 547,
   "id": "90885ea2-29d3-44a2-9994-9a714aacd5df",
   "metadata": {},
   "outputs": [
    {
     "name": "stdout",
     "output_type": "stream",
     "text": [
      "1/1 [==============================] - 0s 17ms/step\n"
     ]
    }
   ],
   "source": [
    "actual_scaled = scaled_price(act_temp)\n",
    "seq = actual_scaled[-window_size:]\n",
    "hasil = model.predict(seq.reshape(1, window_size, 1))\n",
    "hasil = inverse_scale(hasil)\n",
    "seq_res = np.append(seq_res, hasil.item())\n",
    "act_temp = np.append(act_temp, np.expand_dims([hasil.item()], axis=1))"
   ]
  },
  {
   "cell_type": "code",
   "execution_count": 548,
   "id": "e150546b-67b9-49db-a0df-7c16a0b985c2",
   "metadata": {},
   "outputs": [
    {
     "data": {
      "text/plain": [
       "array([29016.27929688, 28618.86132812, 29389.24804688])"
      ]
     },
     "execution_count": 548,
     "metadata": {},
     "output_type": "execute_result"
    }
   ],
   "source": [
    "seq_res"
   ]
  },
  {
   "cell_type": "code",
   "execution_count": 549,
   "id": "13c097ca-6876-4ee7-aa65-ec607a517f99",
   "metadata": {},
   "outputs": [
    {
     "name": "stdout",
     "output_type": "stream",
     "text": [
      "1/1 [==============================] - 0s 16ms/step\n"
     ]
    }
   ],
   "source": [
    "actual_scaled = scaled_price(act_temp)\n",
    "seq = actual_scaled[-window_size:]\n",
    "hasil = model.predict(seq.reshape(1, window_size, 1))\n",
    "hasil = inverse_scale(hasil)\n",
    "seq_res = np.append(seq_res, hasil.item())\n",
    "act_temp = np.append(act_temp, np.expand_dims([hasil.item()], axis=1))"
   ]
  },
  {
   "cell_type": "code",
   "execution_count": 550,
   "id": "9d751a90-5abd-4418-80f7-e42292c3eae2",
   "metadata": {},
   "outputs": [
    {
     "data": {
      "text/plain": [
       "array([29016.27929688, 28618.86132812, 29389.24804688, 28846.74023438])"
      ]
     },
     "execution_count": 550,
     "metadata": {},
     "output_type": "execute_result"
    }
   ],
   "source": [
    "seq_res"
   ]
  },
  {
   "cell_type": "code",
   "execution_count": 551,
   "id": "0b1f87d3-ab9d-4678-aa95-2f2c475b4c04",
   "metadata": {},
   "outputs": [
    {
     "name": "stdout",
     "output_type": "stream",
     "text": [
      "     Minggu    Harga/week\n",
      "161     162  39285.714286\n",
      "162     163  35714.285714\n"
     ]
    }
   ],
   "source": [
    "print(weekly_data[(weekly_data['Minggu'] > 161) & (weekly_data['Minggu'] <= 163)])"
   ]
  },
  {
   "cell_type": "code",
   "execution_count": 552,
   "id": "3bd02290-484e-4de9-872f-bd528eddb2fb",
   "metadata": {},
   "outputs": [],
   "source": [
    "actual = np.append(actual, [39285.71, 35714.28])"
   ]
  },
  {
   "cell_type": "code",
   "execution_count": 553,
   "id": "af031b70-9b39-4d77-941b-74dbff2328ed",
   "metadata": {},
   "outputs": [],
   "source": [
    "act_temp = actual.reshape(-1, 1)\n",
    "# seq_res = np.array([])"
   ]
  },
  {
   "cell_type": "code",
   "execution_count": 554,
   "id": "786034d4-3c22-4850-ad0b-f6ae667cd32b",
   "metadata": {},
   "outputs": [
    {
     "name": "stdout",
     "output_type": "stream",
     "text": [
      "1/1 [==============================] - 0s 18ms/step\n"
     ]
    }
   ],
   "source": [
    "actual_scaled = scaled_price(act_temp)\n",
    "seq = actual_scaled[-window_size:]\n",
    "hasil = model.predict(seq.reshape(1, window_size, 1))\n",
    "hasil = inverse_scale(hasil)\n",
    "seq_res = np.append(seq_res, hasil.item())\n",
    "act_temp = np.append(act_temp, np.expand_dims([hasil.item()], axis=1))"
   ]
  },
  {
   "cell_type": "code",
   "execution_count": 555,
   "id": "847397f9-f14c-483f-bfc3-dd8e6caaadcb",
   "metadata": {},
   "outputs": [
    {
     "data": {
      "text/plain": [
       "array([29016.27929688, 28618.86132812, 29389.24804688, 28846.74023438,\n",
       "       35882.1875    ])"
      ]
     },
     "execution_count": 555,
     "metadata": {},
     "output_type": "execute_result"
    }
   ],
   "source": [
    "seq_res"
   ]
  },
  {
   "cell_type": "code",
   "execution_count": 556,
   "id": "9fef105a-691b-4dd1-ab13-acc9cf405cfb",
   "metadata": {},
   "outputs": [
    {
     "name": "stdout",
     "output_type": "stream",
     "text": [
      "1/1 [==============================] - 0s 19ms/step\n"
     ]
    }
   ],
   "source": [
    "actual_scaled = scaled_price(act_temp)\n",
    "seq = actual_scaled[-window_size:]\n",
    "hasil = model.predict(seq.reshape(1, window_size, 1))\n",
    "hasil = inverse_scale(hasil)\n",
    "seq_res = np.append(seq_res, hasil.item())\n",
    "act_temp = np.append(act_temp, np.expand_dims([hasil.item()], axis=1))"
   ]
  },
  {
   "cell_type": "code",
   "execution_count": 557,
   "id": "7a9496eb-6f7a-4a20-9f0f-8a19ddb36f1b",
   "metadata": {},
   "outputs": [
    {
     "data": {
      "text/plain": [
       "array([29016.27929688, 28618.86132812, 29389.24804688, 28846.74023438,\n",
       "       35882.1875    , 34988.73828125])"
      ]
     },
     "execution_count": 557,
     "metadata": {},
     "output_type": "execute_result"
    }
   ],
   "source": [
    "seq_res"
   ]
  },
  {
   "cell_type": "code",
   "execution_count": 558,
   "id": "26eb8e24-3f2b-4679-ba8c-3d1c0c9bdd9d",
   "metadata": {},
   "outputs": [
    {
     "name": "stdout",
     "output_type": "stream",
     "text": [
      "     Minggu    Harga/week\n",
      "163     164  41785.714286\n",
      "164     165  41428.571429\n"
     ]
    }
   ],
   "source": [
    "print(weekly_data[(weekly_data['Minggu'] > 163) & (weekly_data['Minggu'] <= 165)])"
   ]
  },
  {
   "cell_type": "code",
   "execution_count": 559,
   "id": "af1a27b5-5d51-48f9-872d-d5406ec7c019",
   "metadata": {},
   "outputs": [],
   "source": [
    "actual = np.append(actual, [41785.71, 41428.57])"
   ]
  },
  {
   "cell_type": "code",
   "execution_count": 560,
   "id": "c52d20d4-2df9-48bd-a34e-d46cbd05d887",
   "metadata": {},
   "outputs": [],
   "source": [
    "act_temp = actual.reshape(-1, 1)\n",
    "# seq_res = np.array([])"
   ]
  },
  {
   "cell_type": "code",
   "execution_count": 561,
   "id": "256c8571-6d66-41b8-b3a1-38ba2d21006f",
   "metadata": {},
   "outputs": [
    {
     "name": "stdout",
     "output_type": "stream",
     "text": [
      "1/1 [==============================] - 0s 18ms/step\n"
     ]
    }
   ],
   "source": [
    "actual_scaled = scaled_price(act_temp)\n",
    "seq = actual_scaled[-window_size:]\n",
    "hasil = model.predict(seq.reshape(1, window_size, 1))\n",
    "hasil = inverse_scale(hasil)\n",
    "seq_res = np.append(seq_res, hasil.item())\n",
    "act_temp = np.append(act_temp, np.expand_dims([hasil.item()], axis=1))"
   ]
  },
  {
   "cell_type": "code",
   "execution_count": 562,
   "id": "e5628eef-2198-4f2c-a175-678c09f6d1d3",
   "metadata": {},
   "outputs": [
    {
     "data": {
      "text/plain": [
       "array([29016.27929688, 28618.86132812, 29389.24804688, 28846.74023438,\n",
       "       35882.1875    , 34988.73828125, 41540.7734375 ])"
      ]
     },
     "execution_count": 562,
     "metadata": {},
     "output_type": "execute_result"
    }
   ],
   "source": [
    "seq_res"
   ]
  },
  {
   "cell_type": "code",
   "execution_count": 563,
   "id": "14d9ddf6-bf4c-488e-97d1-1f0a6fc99307",
   "metadata": {},
   "outputs": [
    {
     "name": "stdout",
     "output_type": "stream",
     "text": [
      "1/1 [==============================] - 0s 18ms/step\n"
     ]
    }
   ],
   "source": [
    "actual_scaled = scaled_price(act_temp)\n",
    "seq = actual_scaled[-window_size:]\n",
    "hasil = model.predict(seq.reshape(1, window_size, 1))\n",
    "hasil = inverse_scale(hasil)\n",
    "seq_res = np.append(seq_res, hasil.item())\n",
    "act_temp = np.append(act_temp, np.expand_dims([hasil.item()], axis=1))"
   ]
  },
  {
   "cell_type": "code",
   "execution_count": 564,
   "id": "75d5f492-3fdc-41e6-9f7d-2977d641576c",
   "metadata": {},
   "outputs": [
    {
     "data": {
      "text/plain": [
       "array([29016.27929688, 28618.86132812, 29389.24804688, 28846.74023438,\n",
       "       35882.1875    , 34988.73828125, 41540.7734375 , 39018.3203125 ])"
      ]
     },
     "execution_count": 564,
     "metadata": {},
     "output_type": "execute_result"
    }
   ],
   "source": [
    "seq_res"
   ]
  },
  {
   "cell_type": "code",
   "execution_count": 565,
   "id": "93c2fa41-e376-4ca6-aa65-275dfc0feff2",
   "metadata": {},
   "outputs": [
    {
     "name": "stdout",
     "output_type": "stream",
     "text": [
      "     Minggu    Harga/week\n",
      "165     166  38857.142857\n",
      "166     167  40000.000000\n"
     ]
    }
   ],
   "source": [
    "print(weekly_data[(weekly_data['Minggu'] > 165) & (weekly_data['Minggu'] <= 167)])"
   ]
  },
  {
   "cell_type": "code",
   "execution_count": 566,
   "id": "ca597695-6118-498f-a8fb-fe695002aff0",
   "metadata": {},
   "outputs": [],
   "source": [
    "actual = np.append(actual, [38857.14, 40000.00])"
   ]
  },
  {
   "cell_type": "code",
   "execution_count": 567,
   "id": "143ae337-ce65-48a2-b3a7-41aa5d3c2423",
   "metadata": {},
   "outputs": [],
   "source": [
    "act_temp = actual.reshape(-1, 1)\n",
    "# seq_res = np.array([])"
   ]
  },
  {
   "cell_type": "code",
   "execution_count": 568,
   "id": "64b1d72e-6af9-4501-979d-6ff7ecde8fa7",
   "metadata": {},
   "outputs": [
    {
     "name": "stdout",
     "output_type": "stream",
     "text": [
      "1/1 [==============================] - 0s 16ms/step\n"
     ]
    }
   ],
   "source": [
    "actual_scaled = scaled_price(act_temp)\n",
    "seq = actual_scaled[-window_size:]\n",
    "hasil = model.predict(seq.reshape(1, window_size, 1))\n",
    "hasil = inverse_scale(hasil)\n",
    "seq_res = np.append(seq_res, hasil.item())\n",
    "act_temp = np.append(act_temp, np.expand_dims([hasil.item()], axis=1))"
   ]
  },
  {
   "cell_type": "code",
   "execution_count": 569,
   "id": "21f572a5-7d7c-4f94-a543-99412263aba3",
   "metadata": {},
   "outputs": [
    {
     "data": {
      "text/plain": [
       "array([29016.27929688, 28618.86132812, 29389.24804688, 28846.74023438,\n",
       "       35882.1875    , 34988.73828125, 41540.7734375 , 39018.3203125 ,\n",
       "       36845.21875   ])"
      ]
     },
     "execution_count": 569,
     "metadata": {},
     "output_type": "execute_result"
    }
   ],
   "source": [
    "seq_res"
   ]
  },
  {
   "cell_type": "code",
   "execution_count": 570,
   "id": "39aafbc4-f0a8-4dc7-a96e-00baceb23260",
   "metadata": {},
   "outputs": [
    {
     "name": "stdout",
     "output_type": "stream",
     "text": [
      "1/1 [==============================] - 0s 16ms/step\n"
     ]
    }
   ],
   "source": [
    "actual_scaled = scaled_price(act_temp)\n",
    "seq = actual_scaled[-window_size:]\n",
    "hasil = model.predict(seq.reshape(1, window_size, 1))\n",
    "hasil = inverse_scale(hasil)\n",
    "seq_res = np.append(seq_res, hasil.item())\n",
    "act_temp = np.append(act_temp, np.expand_dims([hasil.item()], axis=1))"
   ]
  },
  {
   "cell_type": "code",
   "execution_count": 571,
   "id": "b1889596-ca9e-4b74-b0f9-46144df30ef1",
   "metadata": {},
   "outputs": [
    {
     "data": {
      "text/plain": [
       "array([29016.27929688, 28618.86132812, 29389.24804688, 28846.74023438,\n",
       "       35882.1875    , 34988.73828125, 41540.7734375 , 39018.3203125 ,\n",
       "       36845.21875   , 33957.6328125 ])"
      ]
     },
     "execution_count": 571,
     "metadata": {},
     "output_type": "execute_result"
    }
   ],
   "source": [
    "seq_res"
   ]
  },
  {
   "cell_type": "code",
   "execution_count": 572,
   "id": "aa50e1db-e364-40bc-adef-8c75f071d5d5",
   "metadata": {},
   "outputs": [
    {
     "name": "stdout",
     "output_type": "stream",
     "text": [
      "     Minggu    Harga/week\n",
      "167     168  42857.142857\n",
      "168     169  36857.142857\n"
     ]
    }
   ],
   "source": [
    "print(weekly_data[(weekly_data['Minggu'] > 167) & (weekly_data['Minggu'] <= 169)])"
   ]
  },
  {
   "cell_type": "code",
   "execution_count": 573,
   "id": "4e31ffec-c657-4f63-99fb-413503aa01d6",
   "metadata": {},
   "outputs": [],
   "source": [
    "actual = np.append(actual, [42857.14, 36857.14])"
   ]
  },
  {
   "cell_type": "code",
   "execution_count": 574,
   "id": "24f6bfb7-4a33-4481-9fb2-ed586980a6d8",
   "metadata": {},
   "outputs": [],
   "source": [
    "act_temp = actual.reshape(-1, 1)\n",
    "# seq_res = np.array([])"
   ]
  },
  {
   "cell_type": "code",
   "execution_count": 575,
   "id": "6c894220-c3b8-448b-af57-1db1ca034880",
   "metadata": {},
   "outputs": [
    {
     "name": "stdout",
     "output_type": "stream",
     "text": [
      "1/1 [==============================] - 0s 17ms/step\n"
     ]
    }
   ],
   "source": [
    "actual_scaled = scaled_price(act_temp)\n",
    "seq = actual_scaled[-window_size:]\n",
    "hasil = model.predict(seq.reshape(1, window_size, 1))\n",
    "hasil = inverse_scale(hasil)\n",
    "seq_res = np.append(seq_res, hasil.item())\n",
    "act_temp = np.append(act_temp, np.expand_dims([hasil.item()], axis=1))"
   ]
  },
  {
   "cell_type": "code",
   "execution_count": 576,
   "id": "624d454c-2efa-463b-adf1-995c9989023f",
   "metadata": {},
   "outputs": [
    {
     "data": {
      "text/plain": [
       "array([29016.27929688, 28618.86132812, 29389.24804688, 28846.74023438,\n",
       "       35882.1875    , 34988.73828125, 41540.7734375 , 39018.3203125 ,\n",
       "       36845.21875   , 33957.6328125 , 32925.375     ])"
      ]
     },
     "execution_count": 576,
     "metadata": {},
     "output_type": "execute_result"
    }
   ],
   "source": [
    "seq_res"
   ]
  },
  {
   "cell_type": "code",
   "execution_count": 577,
   "id": "c76af1e8-064f-4216-8c93-41c66fe5b8c2",
   "metadata": {},
   "outputs": [
    {
     "name": "stdout",
     "output_type": "stream",
     "text": [
      "1/1 [==============================] - 0s 18ms/step\n"
     ]
    }
   ],
   "source": [
    "actual_scaled = scaled_price(act_temp)\n",
    "seq = actual_scaled[-window_size:]\n",
    "hasil = model.predict(seq.reshape(1, window_size, 1))\n",
    "hasil = inverse_scale(hasil)\n",
    "seq_res = np.append(seq_res, hasil.item())\n",
    "act_temp = np.append(act_temp, np.expand_dims([hasil.item()], axis=1))"
   ]
  },
  {
   "cell_type": "code",
   "execution_count": 578,
   "id": "938de9f4-e88d-414d-a8fa-d40492ee1859",
   "metadata": {},
   "outputs": [
    {
     "data": {
      "text/plain": [
       "array([29016.27929688, 28618.86132812, 29389.24804688, 28846.74023438,\n",
       "       35882.1875    , 34988.73828125, 41540.7734375 , 39018.3203125 ,\n",
       "       36845.21875   , 33957.6328125 , 32925.375     , 30405.29296875])"
      ]
     },
     "execution_count": 578,
     "metadata": {},
     "output_type": "execute_result"
    }
   ],
   "source": [
    "seq_res"
   ]
  },
  {
   "cell_type": "code",
   "execution_count": 579,
   "id": "8dae9ff7-fedd-4fd5-a437-ec5b3b0fc088",
   "metadata": {},
   "outputs": [
    {
     "name": "stdout",
     "output_type": "stream",
     "text": [
      "     Minggu    Harga/week\n",
      "169     170  30714.285714\n",
      "170     171  30000.000000\n"
     ]
    }
   ],
   "source": [
    "print(weekly_data[(weekly_data['Minggu'] > 169) & (weekly_data['Minggu'] <= 171)])"
   ]
  },
  {
   "cell_type": "code",
   "execution_count": 580,
   "id": "84f7d107-2725-45d0-927c-50f4b4083772",
   "metadata": {},
   "outputs": [],
   "source": [
    "actual = np.append(actual, [30714.28, 30000.00])"
   ]
  },
  {
   "cell_type": "code",
   "execution_count": 581,
   "id": "23d21c34-0347-4b94-8182-f520b4834a59",
   "metadata": {},
   "outputs": [],
   "source": [
    "act_temp = actual.reshape(-1, 1)\n",
    "# seq_res = np.array([])"
   ]
  },
  {
   "cell_type": "code",
   "execution_count": 582,
   "id": "0c68d2ac-68b3-4858-80eb-3e8c4c9f7ad8",
   "metadata": {},
   "outputs": [
    {
     "name": "stdout",
     "output_type": "stream",
     "text": [
      "1/1 [==============================] - 0s 16ms/step\n"
     ]
    }
   ],
   "source": [
    "actual_scaled = scaled_price(act_temp)\n",
    "seq = actual_scaled[-window_size:]\n",
    "hasil = model.predict(seq.reshape(1, window_size, 1))\n",
    "hasil = inverse_scale(hasil)\n",
    "seq_res = np.append(seq_res, hasil.item())\n",
    "act_temp = np.append(act_temp, np.expand_dims([hasil.item()], axis=1))"
   ]
  },
  {
   "cell_type": "code",
   "execution_count": 583,
   "id": "8c732da6-eca4-4664-9f66-1bbcecab31f3",
   "metadata": {},
   "outputs": [
    {
     "data": {
      "text/plain": [
       "array([29016.27929688, 28618.86132812, 29389.24804688, 28846.74023438,\n",
       "       35882.1875    , 34988.73828125, 41540.7734375 , 39018.3203125 ,\n",
       "       36845.21875   , 33957.6328125 , 32925.375     , 30405.29296875,\n",
       "       30100.06835938])"
      ]
     },
     "execution_count": 583,
     "metadata": {},
     "output_type": "execute_result"
    }
   ],
   "source": [
    "seq_res"
   ]
  },
  {
   "cell_type": "code",
   "execution_count": 584,
   "id": "b60c455e-0633-4f9c-bd21-15e150b2033d",
   "metadata": {},
   "outputs": [
    {
     "name": "stdout",
     "output_type": "stream",
     "text": [
      "1/1 [==============================] - 0s 19ms/step\n"
     ]
    }
   ],
   "source": [
    "actual_scaled = scaled_price(act_temp)\n",
    "seq = actual_scaled[-window_size:]\n",
    "hasil = model.predict(seq.reshape(1, window_size, 1))\n",
    "hasil = inverse_scale(hasil)\n",
    "seq_res = np.append(seq_res, hasil.item())\n",
    "act_temp = np.append(act_temp, np.expand_dims([hasil.item()], axis=1))"
   ]
  },
  {
   "cell_type": "code",
   "execution_count": 585,
   "id": "8da9c4cc-f3c7-41a2-9511-b4bdbccf67bd",
   "metadata": {},
   "outputs": [
    {
     "data": {
      "text/plain": [
       "array([29016.27929688, 28618.86132812, 29389.24804688, 28846.74023438,\n",
       "       35882.1875    , 34988.73828125, 41540.7734375 , 39018.3203125 ,\n",
       "       36845.21875   , 33957.6328125 , 32925.375     , 30405.29296875,\n",
       "       30100.06835938, 29466.03320312])"
      ]
     },
     "execution_count": 585,
     "metadata": {},
     "output_type": "execute_result"
    }
   ],
   "source": [
    "seq_res"
   ]
  },
  {
   "cell_type": "code",
   "execution_count": 586,
   "id": "75857a85-2fc7-467a-8ba7-ed6725410313",
   "metadata": {},
   "outputs": [
    {
     "name": "stdout",
     "output_type": "stream",
     "text": [
      "     Minggu    Harga/week\n",
      "171     172  29428.571429\n",
      "172     173  25000.000000\n"
     ]
    }
   ],
   "source": [
    "print(weekly_data[(weekly_data['Minggu'] > 171) & (weekly_data['Minggu'] <= 173)])"
   ]
  },
  {
   "cell_type": "code",
   "execution_count": 587,
   "id": "beb58de1-f469-4ded-9f50-100a00f3d705",
   "metadata": {},
   "outputs": [],
   "source": [
    "actual = np.append(actual, [29428.57, 25000.00])"
   ]
  },
  {
   "cell_type": "code",
   "execution_count": 588,
   "id": "38f7ab21-83e4-4725-ae03-986916aec33b",
   "metadata": {},
   "outputs": [],
   "source": [
    "act_temp = actual.reshape(-1, 1)\n",
    "# seq_res = np.array([])"
   ]
  },
  {
   "cell_type": "code",
   "execution_count": 589,
   "id": "59d3db26-7d23-46c3-8ae2-64eddbd975ea",
   "metadata": {},
   "outputs": [
    {
     "name": "stdout",
     "output_type": "stream",
     "text": [
      "1/1 [==============================] - 0s 20ms/step\n"
     ]
    }
   ],
   "source": [
    "actual_scaled = scaled_price(act_temp)\n",
    "seq = actual_scaled[-window_size:]\n",
    "hasil = model.predict(seq.reshape(1, window_size, 1))\n",
    "hasil = inverse_scale(hasil)\n",
    "seq_res = np.append(seq_res, hasil.item())\n",
    "act_temp = np.append(act_temp, np.expand_dims([hasil.item()], axis=1))"
   ]
  },
  {
   "cell_type": "code",
   "execution_count": 590,
   "id": "4b3ffcf8-44ce-4875-b875-c23380c070b7",
   "metadata": {},
   "outputs": [
    {
     "data": {
      "text/plain": [
       "array([29016.27929688, 28618.86132812, 29389.24804688, 28846.74023438,\n",
       "       35882.1875    , 34988.73828125, 41540.7734375 , 39018.3203125 ,\n",
       "       36845.21875   , 33957.6328125 , 32925.375     , 30405.29296875,\n",
       "       30100.06835938, 29466.03320312, 25741.31054688])"
      ]
     },
     "execution_count": 590,
     "metadata": {},
     "output_type": "execute_result"
    }
   ],
   "source": [
    "seq_res"
   ]
  },
  {
   "cell_type": "code",
   "execution_count": 591,
   "id": "5b9f529d-992c-47e6-88d6-bfb2c4e719dc",
   "metadata": {},
   "outputs": [
    {
     "name": "stdout",
     "output_type": "stream",
     "text": [
      "1/1 [==============================] - 0s 17ms/step\n"
     ]
    }
   ],
   "source": [
    "actual_scaled = scaled_price(act_temp)\n",
    "seq = actual_scaled[-window_size:]\n",
    "hasil = model.predict(seq.reshape(1, window_size, 1))\n",
    "hasil = inverse_scale(hasil)\n",
    "seq_res = np.append(seq_res, hasil.item())\n",
    "act_temp = np.append(act_temp, np.expand_dims([hasil.item()], axis=1))"
   ]
  },
  {
   "cell_type": "code",
   "execution_count": 592,
   "id": "19e9cbc1-2c4f-47f6-917b-81ff7c517a25",
   "metadata": {},
   "outputs": [
    {
     "data": {
      "text/plain": [
       "array([29016.27929688, 28618.86132812, 29389.24804688, 28846.74023438,\n",
       "       35882.1875    , 34988.73828125, 41540.7734375 , 39018.3203125 ,\n",
       "       36845.21875   , 33957.6328125 , 32925.375     , 30405.29296875,\n",
       "       30100.06835938, 29466.03320312, 25741.31054688, 25318.97070312])"
      ]
     },
     "execution_count": 592,
     "metadata": {},
     "output_type": "execute_result"
    }
   ],
   "source": [
    "seq_res"
   ]
  },
  {
   "cell_type": "code",
   "execution_count": 593,
   "id": "354ebeca-23af-47db-84e5-6d9ad8f14df5",
   "metadata": {},
   "outputs": [
    {
     "name": "stdout",
     "output_type": "stream",
     "text": [
      "     Minggu  Harga/week\n",
      "173     174     25000.0\n",
      "174     175     25000.0\n"
     ]
    }
   ],
   "source": [
    "print(weekly_data[(weekly_data['Minggu'] > 173) & (weekly_data['Minggu'] <= 175)])"
   ]
  },
  {
   "cell_type": "code",
   "execution_count": 594,
   "id": "3487f846-d320-46da-a019-3b410a16d0a7",
   "metadata": {},
   "outputs": [],
   "source": [
    "actual = np.append(actual, [25000.00, 25000.00])"
   ]
  },
  {
   "cell_type": "code",
   "execution_count": 595,
   "id": "49b5c2e0-31e0-440a-9468-89fabc72bd49",
   "metadata": {},
   "outputs": [],
   "source": [
    "act_temp = actual.reshape(-1, 1)\n",
    "# seq_res = np.array([])"
   ]
  },
  {
   "cell_type": "code",
   "execution_count": 596,
   "id": "e1947240-05e7-46fe-b65e-c050551fbc30",
   "metadata": {},
   "outputs": [
    {
     "name": "stdout",
     "output_type": "stream",
     "text": [
      "1/1 [==============================] - 0s 18ms/step\n"
     ]
    }
   ],
   "source": [
    "actual_scaled = scaled_price(act_temp)\n",
    "seq = actual_scaled[-window_size:]\n",
    "hasil = model.predict(seq.reshape(1, window_size, 1))\n",
    "hasil = inverse_scale(hasil)\n",
    "seq_res = np.append(seq_res, hasil.item())\n",
    "act_temp = np.append(act_temp, np.expand_dims([hasil.item()], axis=1))"
   ]
  },
  {
   "cell_type": "code",
   "execution_count": 597,
   "id": "a1303ebe-f840-4efb-9e1d-8c3ec3a8dedd",
   "metadata": {},
   "outputs": [
    {
     "data": {
      "text/plain": [
       "array([29016.27929688, 28618.86132812, 29389.24804688, 28846.74023438,\n",
       "       35882.1875    , 34988.73828125, 41540.7734375 , 39018.3203125 ,\n",
       "       36845.21875   , 33957.6328125 , 32925.375     , 30405.29296875,\n",
       "       30100.06835938, 29466.03320312, 25741.31054688, 25318.97070312,\n",
       "       22074.22070312])"
      ]
     },
     "execution_count": 597,
     "metadata": {},
     "output_type": "execute_result"
    }
   ],
   "source": [
    "seq_res"
   ]
  },
  {
   "cell_type": "code",
   "execution_count": 598,
   "id": "2ae7d860-80c4-45df-b452-1891e16473b1",
   "metadata": {},
   "outputs": [
    {
     "name": "stdout",
     "output_type": "stream",
     "text": [
      "1/1 [==============================] - 0s 16ms/step\n"
     ]
    }
   ],
   "source": [
    "actual_scaled = scaled_price(act_temp)\n",
    "seq = actual_scaled[-window_size:]\n",
    "hasil = model.predict(seq.reshape(1, window_size, 1))\n",
    "hasil = inverse_scale(hasil)\n",
    "seq_res = np.append(seq_res, hasil.item())\n",
    "act_temp = np.append(act_temp, np.expand_dims([hasil.item()], axis=1))"
   ]
  },
  {
   "cell_type": "code",
   "execution_count": 599,
   "id": "dbd951dc-10bd-4d14-a635-c54b811d1ee0",
   "metadata": {},
   "outputs": [
    {
     "data": {
      "text/plain": [
       "array([29016.27929688, 28618.86132812, 29389.24804688, 28846.74023438,\n",
       "       35882.1875    , 34988.73828125, 41540.7734375 , 39018.3203125 ,\n",
       "       36845.21875   , 33957.6328125 , 32925.375     , 30405.29296875,\n",
       "       30100.06835938, 29466.03320312, 25741.31054688, 25318.97070312,\n",
       "       22074.22070312, 20357.56054688])"
      ]
     },
     "execution_count": 599,
     "metadata": {},
     "output_type": "execute_result"
    }
   ],
   "source": [
    "seq_res"
   ]
  },
  {
   "cell_type": "code",
   "execution_count": 600,
   "id": "a325f410-b7c3-45d8-b3e9-e59927c6fb60",
   "metadata": {},
   "outputs": [
    {
     "name": "stdout",
     "output_type": "stream",
     "text": [
      "     Minggu    Harga/week\n",
      "175     176  21428.571429\n",
      "176     177  19142.857143\n"
     ]
    }
   ],
   "source": [
    "print(weekly_data[(weekly_data['Minggu'] > 175) & (weekly_data['Minggu'] <= 177)])"
   ]
  },
  {
   "cell_type": "code",
   "execution_count": 601,
   "id": "45db148c-fa80-4704-8d39-5fe2dc2d2aa8",
   "metadata": {},
   "outputs": [],
   "source": [
    "actual = np.append(actual, [21428.57, 19142.85])"
   ]
  },
  {
   "cell_type": "code",
   "execution_count": 602,
   "id": "0b56d6be-ad64-4259-8a2a-d9bb51f80773",
   "metadata": {},
   "outputs": [],
   "source": [
    "act_temp = actual.reshape(-1, 1)\n",
    "# seq_res = np.array([])"
   ]
  },
  {
   "cell_type": "code",
   "execution_count": 603,
   "id": "42b1bb34-e45f-4373-baa4-587977b09b95",
   "metadata": {},
   "outputs": [
    {
     "name": "stdout",
     "output_type": "stream",
     "text": [
      "1/1 [==============================] - 0s 22ms/step\n"
     ]
    }
   ],
   "source": [
    "actual_scaled = scaled_price(act_temp)\n",
    "seq = actual_scaled[-window_size:]\n",
    "hasil = model.predict(seq.reshape(1, window_size, 1))\n",
    "hasil = inverse_scale(hasil)\n",
    "seq_res = np.append(seq_res, hasil.item())\n",
    "act_temp = np.append(act_temp, np.expand_dims([hasil.item()], axis=1))"
   ]
  },
  {
   "cell_type": "code",
   "execution_count": 604,
   "id": "d6da4336-db5d-4f62-9933-be8da721c50b",
   "metadata": {},
   "outputs": [
    {
     "data": {
      "text/plain": [
       "array([29016.27929688, 28618.86132812, 29389.24804688, 28846.74023438,\n",
       "       35882.1875    , 34988.73828125, 41540.7734375 , 39018.3203125 ,\n",
       "       36845.21875   , 33957.6328125 , 32925.375     , 30405.29296875,\n",
       "       30100.06835938, 29466.03320312, 25741.31054688, 25318.97070312,\n",
       "       22074.22070312, 20357.56054688, 20932.49414062])"
      ]
     },
     "execution_count": 604,
     "metadata": {},
     "output_type": "execute_result"
    }
   ],
   "source": [
    "seq_res"
   ]
  },
  {
   "cell_type": "code",
   "execution_count": 605,
   "id": "de0a5c5a-bd95-4179-912c-edf646079ded",
   "metadata": {},
   "outputs": [
    {
     "name": "stdout",
     "output_type": "stream",
     "text": [
      "1/1 [==============================] - 0s 17ms/step\n"
     ]
    }
   ],
   "source": [
    "actual_scaled = scaled_price(act_temp)\n",
    "seq = actual_scaled[-window_size:]\n",
    "hasil = model.predict(seq.reshape(1, window_size, 1))\n",
    "hasil = inverse_scale(hasil)\n",
    "seq_res = np.append(seq_res, hasil.item())\n",
    "act_temp = np.append(act_temp, np.expand_dims([hasil.item()], axis=1))"
   ]
  },
  {
   "cell_type": "code",
   "execution_count": 606,
   "id": "5aa2d730-ee6e-48e1-a076-58422a5f92cf",
   "metadata": {},
   "outputs": [
    {
     "data": {
      "text/plain": [
       "array([29016.27929688, 28618.86132812, 29389.24804688, 28846.74023438,\n",
       "       35882.1875    , 34988.73828125, 41540.7734375 , 39018.3203125 ,\n",
       "       36845.21875   , 33957.6328125 , 32925.375     , 30405.29296875,\n",
       "       30100.06835938, 29466.03320312, 25741.31054688, 25318.97070312,\n",
       "       22074.22070312, 20357.56054688, 20932.49414062, 22427.83398438])"
      ]
     },
     "execution_count": 606,
     "metadata": {},
     "output_type": "execute_result"
    }
   ],
   "source": [
    "seq_res"
   ]
  },
  {
   "cell_type": "code",
   "execution_count": 607,
   "id": "51141f29-d7cb-4ab9-9d92-ec0eddffa7cf",
   "metadata": {},
   "outputs": [
    {
     "name": "stdout",
     "output_type": "stream",
     "text": [
      "     Minggu    Harga/week\n",
      "177     178  18000.000000\n",
      "178     179  17428.571429\n"
     ]
    }
   ],
   "source": [
    "print(weekly_data[(weekly_data['Minggu'] > 177) & (weekly_data['Minggu'] <= 179)])"
   ]
  },
  {
   "cell_type": "code",
   "execution_count": 608,
   "id": "e3b24b46-e747-4132-99b2-c38281e2f383",
   "metadata": {},
   "outputs": [],
   "source": [
    "actual = np.append(actual, [18000.00, 17428.57])"
   ]
  },
  {
   "cell_type": "code",
   "execution_count": 609,
   "id": "44fde3ad-b345-43fe-8225-4706a6b0b7c6",
   "metadata": {},
   "outputs": [],
   "source": [
    "act_temp = actual.reshape(-1, 1)\n",
    "# seq_res = np.array([])"
   ]
  },
  {
   "cell_type": "code",
   "execution_count": 610,
   "id": "8c8b07eb-6944-43ba-b385-e599df873375",
   "metadata": {},
   "outputs": [
    {
     "name": "stdout",
     "output_type": "stream",
     "text": [
      "1/1 [==============================] - 0s 17ms/step\n"
     ]
    }
   ],
   "source": [
    "actual_scaled = scaled_price(act_temp)\n",
    "seq = actual_scaled[-window_size:]\n",
    "hasil = model.predict(seq.reshape(1, window_size, 1))\n",
    "hasil = inverse_scale(hasil)\n",
    "seq_res = np.append(seq_res, hasil.item())\n",
    "act_temp = np.append(act_temp, np.expand_dims([hasil.item()], axis=1))"
   ]
  },
  {
   "cell_type": "code",
   "execution_count": 611,
   "id": "236fd706-ec5e-47e3-83cf-a81036aecabe",
   "metadata": {},
   "outputs": [
    {
     "data": {
      "text/plain": [
       "array([29016.27929688, 28618.86132812, 29389.24804688, 28846.74023438,\n",
       "       35882.1875    , 34988.73828125, 41540.7734375 , 39018.3203125 ,\n",
       "       36845.21875   , 33957.6328125 , 32925.375     , 30405.29296875,\n",
       "       30100.06835938, 29466.03320312, 25741.31054688, 25318.97070312,\n",
       "       22074.22070312, 20357.56054688, 20932.49414062, 22427.83398438,\n",
       "       17644.5859375 ])"
      ]
     },
     "execution_count": 611,
     "metadata": {},
     "output_type": "execute_result"
    }
   ],
   "source": [
    "seq_res"
   ]
  },
  {
   "cell_type": "code",
   "execution_count": 612,
   "id": "bebc2512-e5ff-4d84-8a15-782ab65be19d",
   "metadata": {},
   "outputs": [
    {
     "name": "stdout",
     "output_type": "stream",
     "text": [
      "1/1 [==============================] - 0s 17ms/step\n"
     ]
    }
   ],
   "source": [
    "actual_scaled = scaled_price(act_temp)\n",
    "seq = actual_scaled[-window_size:]\n",
    "hasil = model.predict(seq.reshape(1, window_size, 1))\n",
    "hasil = inverse_scale(hasil)\n",
    "seq_res = np.append(seq_res, hasil.item())\n",
    "act_temp = np.append(act_temp, np.expand_dims([hasil.item()], axis=1))"
   ]
  },
  {
   "cell_type": "code",
   "execution_count": 613,
   "id": "7e532193-e4bb-4e7f-9388-c1d15e12c902",
   "metadata": {},
   "outputs": [
    {
     "data": {
      "text/plain": [
       "array([29016.27929688, 28618.86132812, 29389.24804688, 28846.74023438,\n",
       "       35882.1875    , 34988.73828125, 41540.7734375 , 39018.3203125 ,\n",
       "       36845.21875   , 33957.6328125 , 32925.375     , 30405.29296875,\n",
       "       30100.06835938, 29466.03320312, 25741.31054688, 25318.97070312,\n",
       "       22074.22070312, 20357.56054688, 20932.49414062, 22427.83398438,\n",
       "       17644.5859375 , 19376.76757812])"
      ]
     },
     "execution_count": 613,
     "metadata": {},
     "output_type": "execute_result"
    }
   ],
   "source": [
    "seq_res"
   ]
  },
  {
   "cell_type": "code",
   "execution_count": 614,
   "id": "7391b8ad-adfa-4694-856e-826e0c933952",
   "metadata": {},
   "outputs": [
    {
     "name": "stdout",
     "output_type": "stream",
     "text": [
      "     Minggu    Harga/week\n",
      "179     180  18714.285714\n",
      "180     181  20000.000000\n"
     ]
    }
   ],
   "source": [
    "print(weekly_data[(weekly_data['Minggu'] > 179) & (weekly_data['Minggu'] <= 181)])"
   ]
  },
  {
   "cell_type": "code",
   "execution_count": 615,
   "id": "a63acd13-bbf3-4faa-8ed9-c0914d9e6317",
   "metadata": {},
   "outputs": [],
   "source": [
    "actual = np.append(actual, [18714.28, 20000.00])"
   ]
  },
  {
   "cell_type": "code",
   "execution_count": 616,
   "id": "2b4e09ed-5469-42f6-b4f6-f2aa80a53d04",
   "metadata": {},
   "outputs": [],
   "source": [
    "act_temp = actual.reshape(-1, 1)\n",
    "# seq_res = np.array([])"
   ]
  },
  {
   "cell_type": "code",
   "execution_count": 617,
   "id": "55548f20-39d9-4dda-8f99-3c6a60562a31",
   "metadata": {},
   "outputs": [
    {
     "name": "stdout",
     "output_type": "stream",
     "text": [
      "1/1 [==============================] - 0s 17ms/step\n"
     ]
    }
   ],
   "source": [
    "actual_scaled = scaled_price(act_temp)\n",
    "seq = actual_scaled[-window_size:]\n",
    "hasil = model.predict(seq.reshape(1, window_size, 1))\n",
    "hasil = inverse_scale(hasil)\n",
    "seq_res = np.append(seq_res, hasil.item())\n",
    "act_temp = np.append(act_temp, np.expand_dims([hasil.item()], axis=1))"
   ]
  },
  {
   "cell_type": "code",
   "execution_count": 618,
   "id": "a9aae0db-6839-4ce3-978a-df07cf3ad5d2",
   "metadata": {},
   "outputs": [
    {
     "data": {
      "text/plain": [
       "array([29016.27929688, 28618.86132812, 29389.24804688, 28846.74023438,\n",
       "       35882.1875    , 34988.73828125, 41540.7734375 , 39018.3203125 ,\n",
       "       36845.21875   , 33957.6328125 , 32925.375     , 30405.29296875,\n",
       "       30100.06835938, 29466.03320312, 25741.31054688, 25318.97070312,\n",
       "       22074.22070312, 20357.56054688, 20932.49414062, 22427.83398438,\n",
       "       17644.5859375 , 19376.76757812, 22370.30078125])"
      ]
     },
     "execution_count": 618,
     "metadata": {},
     "output_type": "execute_result"
    }
   ],
   "source": [
    "seq_res"
   ]
  },
  {
   "cell_type": "code",
   "execution_count": 619,
   "id": "44eb5d85-b076-4783-b07c-ae5aff7ae43a",
   "metadata": {},
   "outputs": [
    {
     "name": "stdout",
     "output_type": "stream",
     "text": [
      "1/1 [==============================] - 0s 16ms/step\n"
     ]
    }
   ],
   "source": [
    "actual_scaled = scaled_price(act_temp)\n",
    "seq = actual_scaled[-window_size:]\n",
    "hasil = model.predict(seq.reshape(1, window_size, 1))\n",
    "hasil = inverse_scale(hasil)\n",
    "seq_res = np.append(seq_res, hasil.item())\n",
    "act_temp = np.append(act_temp, np.expand_dims([hasil.item()], axis=1))"
   ]
  },
  {
   "cell_type": "code",
   "execution_count": 620,
   "id": "bc004e76-fe1c-4123-a08a-93143c6f9b74",
   "metadata": {},
   "outputs": [
    {
     "data": {
      "text/plain": [
       "array([29016.27929688, 28618.86132812, 29389.24804688, 28846.74023438,\n",
       "       35882.1875    , 34988.73828125, 41540.7734375 , 39018.3203125 ,\n",
       "       36845.21875   , 33957.6328125 , 32925.375     , 30405.29296875,\n",
       "       30100.06835938, 29466.03320312, 25741.31054688, 25318.97070312,\n",
       "       22074.22070312, 20357.56054688, 20932.49414062, 22427.83398438,\n",
       "       17644.5859375 , 19376.76757812, 22370.30078125, 22247.32421875])"
      ]
     },
     "execution_count": 620,
     "metadata": {},
     "output_type": "execute_result"
    }
   ],
   "source": [
    "seq_res"
   ]
  },
  {
   "cell_type": "code",
   "execution_count": 621,
   "id": "5152137d-3fb7-41b7-8186-340beab8b960",
   "metadata": {},
   "outputs": [
    {
     "name": "stdout",
     "output_type": "stream",
     "text": [
      "     Minggu    Harga/week\n",
      "181     182  21428.571429\n",
      "182     183  19142.857143\n"
     ]
    }
   ],
   "source": [
    "print(weekly_data[(weekly_data['Minggu'] > 181) & (weekly_data['Minggu'] <= 183)])"
   ]
  },
  {
   "cell_type": "code",
   "execution_count": 622,
   "id": "461026f1-3f2d-4d69-8a35-a130a369c08d",
   "metadata": {},
   "outputs": [],
   "source": [
    "actual = np.append(actual, [21428.57, 19142.85])"
   ]
  },
  {
   "cell_type": "code",
   "execution_count": 623,
   "id": "5c4c487c-5f6a-48f5-8ad0-3299dc595365",
   "metadata": {},
   "outputs": [],
   "source": [
    "act_temp = actual.reshape(-1, 1)\n",
    "# seq_res = np.array([])"
   ]
  },
  {
   "cell_type": "code",
   "execution_count": 624,
   "id": "38327050-247a-465a-adeb-90ce865a2569",
   "metadata": {},
   "outputs": [
    {
     "name": "stdout",
     "output_type": "stream",
     "text": [
      "1/1 [==============================] - 0s 17ms/step\n"
     ]
    }
   ],
   "source": [
    "actual_scaled = scaled_price(act_temp)\n",
    "seq = actual_scaled[-window_size:]\n",
    "hasil = model.predict(seq.reshape(1, window_size, 1))\n",
    "hasil = inverse_scale(hasil)\n",
    "seq_res = np.append(seq_res, hasil.item())\n",
    "act_temp = np.append(act_temp, np.expand_dims([hasil.item()], axis=1))"
   ]
  },
  {
   "cell_type": "code",
   "execution_count": 625,
   "id": "1fc1037f-9e91-42a4-bd54-7f813a857d8f",
   "metadata": {},
   "outputs": [
    {
     "name": "stdout",
     "output_type": "stream",
     "text": [
      "1/1 [==============================] - 0s 21ms/step\n"
     ]
    }
   ],
   "source": [
    "actual_scaled = scaled_price(act_temp)\n",
    "seq = actual_scaled[-window_size:]\n",
    "hasil = model.predict(seq.reshape(1, window_size, 1))\n",
    "hasil = inverse_scale(hasil)\n",
    "seq_res = np.append(seq_res, hasil.item())\n",
    "act_temp = np.append(act_temp, np.expand_dims([hasil.item()], axis=1))"
   ]
  },
  {
   "cell_type": "code",
   "execution_count": 626,
   "id": "6807ed05-a58e-4600-91a1-102540a359ab",
   "metadata": {},
   "outputs": [
    {
     "data": {
      "text/plain": [
       "array([29016.27929688, 28618.86132812, 29389.24804688, 28846.74023438,\n",
       "       35882.1875    , 34988.73828125, 41540.7734375 , 39018.3203125 ,\n",
       "       36845.21875   , 33957.6328125 , 32925.375     , 30405.29296875,\n",
       "       30100.06835938, 29466.03320312, 25741.31054688, 25318.97070312,\n",
       "       22074.22070312, 20357.56054688, 20932.49414062, 22427.83398438,\n",
       "       17644.5859375 , 19376.76757812, 22370.30078125, 22247.32421875,\n",
       "       20089.85351562, 21823.68945312])"
      ]
     },
     "execution_count": 626,
     "metadata": {},
     "output_type": "execute_result"
    }
   ],
   "source": [
    "seq_res"
   ]
  },
  {
   "cell_type": "code",
   "execution_count": 627,
   "id": "d0ab0717-47a4-46d6-aa61-d731b209989e",
   "metadata": {},
   "outputs": [
    {
     "name": "stdout",
     "output_type": "stream",
     "text": [
      "     Minggu    Harga/week\n",
      "183     184  19357.142857\n",
      "184     185  20000.000000\n"
     ]
    }
   ],
   "source": [
    "print(weekly_data[(weekly_data['Minggu'] > 183) & (weekly_data['Minggu'] <= 185)])"
   ]
  },
  {
   "cell_type": "code",
   "execution_count": 628,
   "id": "4554a72b-cd61-4f51-bd28-9e108897a3ef",
   "metadata": {},
   "outputs": [],
   "source": [
    "actual = np.append(actual, [19357.14, 20000.00])"
   ]
  },
  {
   "cell_type": "code",
   "execution_count": 629,
   "id": "6b8f58f7-bdea-4c50-8e02-ada66fb110cd",
   "metadata": {},
   "outputs": [],
   "source": [
    "act_temp = actual.reshape(-1, 1)\n",
    "# seq_res = np.array([])"
   ]
  },
  {
   "cell_type": "code",
   "execution_count": 630,
   "id": "debc9648-9501-4114-8d61-346080a88eab",
   "metadata": {},
   "outputs": [
    {
     "name": "stdout",
     "output_type": "stream",
     "text": [
      "1/1 [==============================] - 0s 17ms/step\n"
     ]
    }
   ],
   "source": [
    "actual_scaled = scaled_price(act_temp)\n",
    "seq = actual_scaled[-window_size:]\n",
    "hasil = model.predict(seq.reshape(1, window_size, 1))\n",
    "hasil = inverse_scale(hasil)\n",
    "seq_res = np.append(seq_res, hasil.item())\n",
    "act_temp = np.append(act_temp, np.expand_dims([hasil.item()], axis=1))"
   ]
  },
  {
   "cell_type": "code",
   "execution_count": 631,
   "id": "9b635e6c-70be-4df3-bceb-db59c298bbfd",
   "metadata": {},
   "outputs": [
    {
     "name": "stdout",
     "output_type": "stream",
     "text": [
      "1/1 [==============================] - 0s 18ms/step\n"
     ]
    }
   ],
   "source": [
    "actual_scaled = scaled_price(act_temp)\n",
    "seq = actual_scaled[-window_size:]\n",
    "hasil = model.predict(seq.reshape(1, window_size, 1))\n",
    "hasil = inverse_scale(hasil)\n",
    "seq_res = np.append(seq_res, hasil.item())\n",
    "act_temp = np.append(act_temp, np.expand_dims([hasil.item()], axis=1))"
   ]
  },
  {
   "cell_type": "code",
   "execution_count": 632,
   "id": "c88db887-a080-42d0-a582-df48f885a204",
   "metadata": {},
   "outputs": [
    {
     "data": {
      "text/plain": [
       "array([29016.27929688, 28618.86132812, 29389.24804688, 28846.74023438,\n",
       "       35882.1875    , 34988.73828125, 41540.7734375 , 39018.3203125 ,\n",
       "       36845.21875   , 33957.6328125 , 32925.375     , 30405.29296875,\n",
       "       30100.06835938, 29466.03320312, 25741.31054688, 25318.97070312,\n",
       "       22074.22070312, 20357.56054688, 20932.49414062, 22427.83398438,\n",
       "       17644.5859375 , 19376.76757812, 22370.30078125, 22247.32421875,\n",
       "       20089.85351562, 21823.68945312, 19229.22265625, 19115.80078125])"
      ]
     },
     "execution_count": 632,
     "metadata": {},
     "output_type": "execute_result"
    }
   ],
   "source": [
    "seq_res"
   ]
  },
  {
   "cell_type": "code",
   "execution_count": 633,
   "id": "1fbbbeb2-1360-4222-812f-42fa0ee6c387",
   "metadata": {},
   "outputs": [
    {
     "name": "stdout",
     "output_type": "stream",
     "text": [
      "     Minggu    Harga/week\n",
      "185     186  20000.000000\n",
      "186     187  20857.142857\n"
     ]
    }
   ],
   "source": [
    "print(weekly_data[(weekly_data['Minggu'] > 185) & (weekly_data['Minggu'] <= 187)])"
   ]
  },
  {
   "cell_type": "code",
   "execution_count": 634,
   "id": "d6b2ee73-0418-49df-b8ed-cf28be4b174d",
   "metadata": {},
   "outputs": [],
   "source": [
    "actual = np.append(actual, [20000.00, 20857.14])"
   ]
  },
  {
   "cell_type": "code",
   "execution_count": 635,
   "id": "6880c0b3-2531-4930-a3c7-f833032b772e",
   "metadata": {},
   "outputs": [],
   "source": [
    "act_temp = actual.reshape(-1, 1)\n",
    "# seq_res = np.array([])"
   ]
  },
  {
   "cell_type": "code",
   "execution_count": 636,
   "id": "e7b6a821-70b2-4c0c-9649-95a8c85fa98a",
   "metadata": {},
   "outputs": [
    {
     "name": "stdout",
     "output_type": "stream",
     "text": [
      "1/1 [==============================] - 0s 25ms/step\n"
     ]
    }
   ],
   "source": [
    "actual_scaled = scaled_price(act_temp)\n",
    "seq = actual_scaled[-window_size:]\n",
    "hasil = model.predict(seq.reshape(1, window_size, 1))\n",
    "hasil = inverse_scale(hasil)\n",
    "seq_res = np.append(seq_res, hasil.item())\n",
    "act_temp = np.append(act_temp, np.expand_dims([hasil.item()], axis=1))"
   ]
  },
  {
   "cell_type": "code",
   "execution_count": 637,
   "id": "9ac68741-6bb3-4f09-9f29-20574c98906c",
   "metadata": {},
   "outputs": [
    {
     "name": "stdout",
     "output_type": "stream",
     "text": [
      "1/1 [==============================] - 0s 23ms/step\n"
     ]
    }
   ],
   "source": [
    "actual_scaled = scaled_price(act_temp)\n",
    "seq = actual_scaled[-window_size:]\n",
    "hasil = model.predict(seq.reshape(1, window_size, 1))\n",
    "hasil = inverse_scale(hasil)\n",
    "seq_res = np.append(seq_res, hasil.item())\n",
    "act_temp = np.append(act_temp, np.expand_dims([hasil.item()], axis=1))"
   ]
  },
  {
   "cell_type": "code",
   "execution_count": 638,
   "id": "1b3f00bd-47b5-4267-b184-e2ce0339b5da",
   "metadata": {},
   "outputs": [
    {
     "data": {
      "text/plain": [
       "array([29016.27929688, 28618.86132812, 29389.24804688, 28846.74023438,\n",
       "       35882.1875    , 34988.73828125, 41540.7734375 , 39018.3203125 ,\n",
       "       36845.21875   , 33957.6328125 , 32925.375     , 30405.29296875,\n",
       "       30100.06835938, 29466.03320312, 25741.31054688, 25318.97070312,\n",
       "       22074.22070312, 20357.56054688, 20932.49414062, 22427.83398438,\n",
       "       17644.5859375 , 19376.76757812, 22370.30078125, 22247.32421875,\n",
       "       20089.85351562, 21823.68945312, 19229.22265625, 19115.80078125,\n",
       "       21563.20703125, 21416.38867188])"
      ]
     },
     "execution_count": 638,
     "metadata": {},
     "output_type": "execute_result"
    }
   ],
   "source": [
    "seq_res"
   ]
  },
  {
   "cell_type": "code",
   "execution_count": 639,
   "id": "0d1f14f4-4544-409b-81f3-c39b6b5270d3",
   "metadata": {},
   "outputs": [
    {
     "name": "stdout",
     "output_type": "stream",
     "text": [
      "     Minggu  Harga/week\n",
      "187     188     22000.0\n",
      "188     189     22000.0\n"
     ]
    }
   ],
   "source": [
    "print(weekly_data[(weekly_data['Minggu'] > 187) & (weekly_data['Minggu'] <= 189)])"
   ]
  },
  {
   "cell_type": "code",
   "execution_count": 640,
   "id": "e14b2cf1-bf37-4741-891f-7a3ca4454652",
   "metadata": {},
   "outputs": [],
   "source": [
    "actual = np.append(actual, [22000.00, 22000.00])"
   ]
  },
  {
   "cell_type": "code",
   "execution_count": 641,
   "id": "14627845-afd0-47aa-bf7a-f1c0de5a43b6",
   "metadata": {},
   "outputs": [],
   "source": [
    "act_temp = actual.reshape(-1, 1)\n",
    "# seq_res = np.array([])"
   ]
  },
  {
   "cell_type": "code",
   "execution_count": 642,
   "id": "76855bd2-cb75-407c-a022-0b3944f5574f",
   "metadata": {},
   "outputs": [
    {
     "name": "stdout",
     "output_type": "stream",
     "text": [
      "1/1 [==============================] - 0s 27ms/step\n"
     ]
    }
   ],
   "source": [
    "actual_scaled = scaled_price(act_temp)\n",
    "seq = actual_scaled[-window_size:]\n",
    "hasil = model.predict(seq.reshape(1, window_size, 1))\n",
    "hasil = inverse_scale(hasil)\n",
    "seq_res = np.append(seq_res, hasil.item())\n",
    "act_temp = np.append(act_temp, np.expand_dims([hasil.item()], axis=1))"
   ]
  },
  {
   "cell_type": "code",
   "execution_count": 643,
   "id": "95081973-0892-42a5-870d-c611f1bd3971",
   "metadata": {},
   "outputs": [
    {
     "name": "stdout",
     "output_type": "stream",
     "text": [
      "1/1 [==============================] - 0s 20ms/step\n"
     ]
    }
   ],
   "source": [
    "actual_scaled = scaled_price(act_temp)\n",
    "seq = actual_scaled[-window_size:]\n",
    "hasil = model.predict(seq.reshape(1, window_size, 1))\n",
    "hasil = inverse_scale(hasil)\n",
    "seq_res = np.append(seq_res, hasil.item())\n",
    "act_temp = np.append(act_temp, np.expand_dims([hasil.item()], axis=1))"
   ]
  },
  {
   "cell_type": "code",
   "execution_count": 644,
   "id": "e3a323cd-d4ad-434f-a4da-b13e568805c3",
   "metadata": {},
   "outputs": [
    {
     "data": {
      "text/plain": [
       "array([29016.27929688, 28618.86132812, 29389.24804688, 28846.74023438,\n",
       "       35882.1875    , 34988.73828125, 41540.7734375 , 39018.3203125 ,\n",
       "       36845.21875   , 33957.6328125 , 32925.375     , 30405.29296875,\n",
       "       30100.06835938, 29466.03320312, 25741.31054688, 25318.97070312,\n",
       "       22074.22070312, 20357.56054688, 20932.49414062, 22427.83398438,\n",
       "       17644.5859375 , 19376.76757812, 22370.30078125, 22247.32421875,\n",
       "       20089.85351562, 21823.68945312, 19229.22265625, 19115.80078125,\n",
       "       21563.20703125, 21416.38867188, 21868.3984375 , 23828.8359375 ])"
      ]
     },
     "execution_count": 644,
     "metadata": {},
     "output_type": "execute_result"
    }
   ],
   "source": [
    "seq_res"
   ]
  },
  {
   "cell_type": "code",
   "execution_count": 645,
   "id": "9d95e206-6280-4b75-96b2-cf7a2161c3f0",
   "metadata": {},
   "outputs": [
    {
     "data": {
      "text/plain": [
       "array([28000.        , 29428.57142857, 26142.85      , 30714.28      ,\n",
       "       39285.71      , 35714.28      , 41785.71      , 41428.57      ,\n",
       "       38857.14      , 40000.        , 42857.14      , 36857.14      ,\n",
       "       30714.28      , 30000.        , 29428.57      , 25000.        ,\n",
       "       25000.        , 25000.        , 21428.57      , 19142.85      ,\n",
       "       18000.        , 17428.57      , 18714.28      , 20000.        ,\n",
       "       21428.57      , 19142.85      , 19357.14      , 20000.        ,\n",
       "       20000.        , 20857.14      , 22000.        , 22000.        ])"
      ]
     },
     "execution_count": 645,
     "metadata": {},
     "output_type": "execute_result"
    }
   ],
   "source": [
    "actual[-32:]"
   ]
  },
  {
   "cell_type": "code",
   "execution_count": 646,
   "id": "95a92423-6392-41f8-949c-436c1cdb6e1f",
   "metadata": {},
   "outputs": [],
   "source": [
    "actual = np.append(actual, [28000.00, 28000.00])"
   ]
  },
  {
   "cell_type": "code",
   "execution_count": 647,
   "id": "e7d377e2-ecfc-424b-8c77-950eab907e76",
   "metadata": {},
   "outputs": [
    {
     "data": {
      "text/plain": [
       "<matplotlib.legend.Legend at 0x20044c8fc40>"
      ]
     },
     "execution_count": 647,
     "metadata": {},
     "output_type": "execute_result"
    },
    {
     "data": {
      "image/png": "[encoded data removed]",
      "text/plain": [
       "<Figure size 640x480 with 1 Axes>"
      ]
     },
     "metadata": {},
     "output_type": "display_data"
    }
   ],
   "source": [
    "plt.plot(seq_res, label='prediction')\n",
    "plt.plot(actual[-32:], label='actual')\n",
    "plt.legend()"
   ]
  },
  {
   "cell_type": "code",
   "execution_count": 648,
   "id": "8532e906-6df0-4f51-b616-86b2cc578553",
   "metadata": {},
   "outputs": [
    {
     "name": "stdout",
     "output_type": "stream",
     "text": [
      "mae: 2730.94\n",
      "mse: 13232739.36\n",
      "rmse: 3637.68\n"
     ]
    }
   ],
   "source": [
    "mae = mean_absolute_error(seq_res, actual[-32:])\n",
    "mse = mean_squared_error(seq_res, actual[-32:])\n",
    "rmse = np.sqrt(mse)\n",
    "\n",
    "print(f'mae: {mae:.2f}')\n",
    "print(f'mse: {mse:.2f}')\n",
    "print(f'rmse: {rmse:.2f}')"
   ]
  },
  {
   "cell_type": "code",
   "execution_count": 649,
   "id": "c0327bb2-e4dd-4966-87be-9cc6e4b17368",
   "metadata": {},
   "outputs": [
    {
     "name": "stdout",
     "output_type": "stream",
     "text": [
      "Akurasi prediksi: 89.97%\n"
     ]
    }
   ],
   "source": [
    "mape = np.mean(np.abs((seq_res - actual[-32:]) / seq_res)) * 100\n",
    "accuracy = 100 - mape\n",
    "print(f\"Akurasi prediksi: {accuracy:.2f}%\")"
   ]
  },
  {
   "cell_type": "code",
   "execution_count": null,
   "id": "34529700-cb6f-4824-9311-380e56ed38cc",
   "metadata": {},
   "outputs": [],
   "source": [
    "def predict_2_weeks(actual):\n",
    "    act_temp = actual.reshape(-1, 1)\n",
    "    seq_res = np.array([])\n",
    "    for i in range(2):\n",
    "        actual_scaled = scaled_price(act_temp)\n",
    "        seq = actual_scaled[-window_size:]\n",
    "        hasil = model.predict(seq.reshape(1, window_size, 1))\n",
    "        hasil = inverse_scale(hasil)\n",
    "        seq_res = np.append(seq_res, hasil.item())\n",
    "        act_temp = np.append(act_temp, np.expand_dims([hasil.item()], axis=1))\n",
    "    return act_temp, seq_res"
   ]
  },
  {
   "cell_type": "markdown",
   "id": "152b7597-ccd7-48a4-b580-b7d092c5bc3d",
   "metadata": {},
   "source": [
    "## Deploy Model"
   ]
  },
  {
   "cell_type": "code",
   "execution_count": 652,
   "id": "45cfc3d3-9192-43b2-8f5b-684c4f95cb92",
   "metadata": {},
   "outputs": [
    {
     "name": "stderr",
     "output_type": "stream",
     "text": [
      "WARNING:absl:Found untraced functions such as _jit_compiled_convolution_op, _update_step_xla while saving (showing 2 of 2). These functions will not be directly callable after loading.\n"
     ]
    },
    {
     "name": "stdout",
     "output_type": "stream",
     "text": [
      "INFO:tensorflow:Assets written to: saved_model/1\\assets\n"
     ]
    },
    {
     "name": "stderr",
     "output_type": "stream",
     "text": [
      "INFO:tensorflow:Assets written to: saved_model/1\\assets\n"
     ]
    }
   ],
   "source": [
    "export_dir = 'saved_model/1'\n",
    "\n",
    "tf.saved_model.save(model, export_dir)"
   ]
  },
  {
   "cell_type": "code",
   "execution_count": 653,
   "id": "15a96927-e080-4723-b3f1-495b2b99717b",
   "metadata": {},
   "outputs": [],
   "source": [
    "# Select mode of optimization\n",
    "mode = \"Default\" \n",
    "\n",
    "if mode == 'Storage':\n",
    "    optimization = tf.lite.Optimize.OPTIMIZE_FOR_SIZE\n",
    "elif mode == 'Speed':\n",
    "    optimization = tf.lite.Optimize.OPTIMIZE_FOR_LATENCY\n",
    "else:\n",
    "    optimization = tf.lite.Optimize.DEFAULT"
   ]
  },
  {
   "cell_type": "code",
   "execution_count": 654,
   "id": "9bb80f97-9d0c-47b4-9788-75b9c2797440",
   "metadata": {},
   "outputs": [],
   "source": [
    "converter = tf.lite.TFLiteConverter.from_saved_model(export_dir)\n",
    "\n",
    "# Set the optimzations\n",
    "converter.optimizations = [optimization]\n",
    "\n",
    "# Invoke the converter to finally generate the TFLite model\n",
    "tflite_model = converter.convert();"
   ]
  },
  {
   "cell_type": "code",
   "execution_count": 656,
   "id": "d5bc73bd-f524-404e-ac76-ec00ed0f692c",
   "metadata": {},
   "outputs": [
    {
     "data": {
      "text/plain": [
       "23584"
      ]
     },
     "execution_count": 656,
     "metadata": {},
     "output_type": "execute_result"
    }
   ],
   "source": [
    "import pathlib\n",
    "\n",
    "tflite_model_file = pathlib.Path('./model.tflite')\n",
    "tflite_model_file.write_bytes(tflite_model)"
   ]
  },
  {
   "cell_type": "markdown",
   "id": "2525c094-22dc-4e95-a046-34dcac261888",
   "metadata": {},
   "source": [
    "## Load Model"
   ]
  },
  {
   "cell_type": "code",
   "execution_count": 657,
   "id": "a2fa76cf-9f46-4cf4-8642-06b6a399b828",
   "metadata": {},
   "outputs": [],
   "source": [
    "# Load TFLite model and allocate tensors.\n",
    "interpreter = tf.lite.Interpreter(model_content=tflite_model)\n",
    "interpreter.allocate_tensors()\n",
    "\n",
    "input_index = interpreter.get_input_details()[0][\"index\"]\n",
    "output_index = interpreter.get_output_details()[0][\"index\"]"
   ]
  },
  {
   "cell_type": "code",
   "execution_count": null,
   "id": "5c9d007a-2911-4564-8d64-ebec8adfcbce",
   "metadata": {},
   "outputs": [],
   "source": []
  }
 ],
 "metadata": {
  "kernelspec": {
   "display_name": "Python 3 (ipykernel)",
   "language": "python",
   "name": "python3"
  },
  "language_info": {
   "codemirror_mode": {
    "name": "ipython",
    "version": 3
   },
   "file_extension": ".py",
   "mimetype": "text/x-python",
   "name": "python",
   "nbconvert_exporter": "python",
   "pygments_lexer": "ipython3",
   "version": "3.10.15"
  }
 },
 "nbformat": 4,
 "nbformat_minor": 5
}

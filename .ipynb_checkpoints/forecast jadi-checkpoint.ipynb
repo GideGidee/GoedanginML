{
 "cells": [
  {
   "cell_type": "markdown",
   "id": "d52784cf-62e9-4422-8c4e-96ae1a4b3c3c",
   "metadata": {},
   "source": [
    "# Forecast Harga Pasar Komoditas Bawang Merah di Brebes"
   ]
  },
  {
   "cell_type": "markdown",
   "id": "c168926e-8e59-4897-881d-868bfafb83ed",
   "metadata": {},
   "source": [
    "## Import Libraries"
   ]
  },
  {
   "cell_type": "code",
   "execution_count": 1,
   "id": "2febd797-71b8-468d-a1dd-e0e408035229",
   "metadata": {},
   "outputs": [],
   "source": [
    "import tensorflow as tf\n",
    "import pandas as pd\n",
    "import numpy as np\n",
    "import matplotlib.pyplot as plt\n",
    "import math\n",
    "from sklearn.metrics import mean_absolute_error, mean_squared_error\n",
    "from tensorflow import keras\n",
    "from tensorflow.keras.layers import Input, LSTM, Dense, Dropout, Flatten"
   ]
  },
  {
   "cell_type": "markdown",
   "id": "a0cfe503-c1bc-47b8-915c-072d111e099b",
   "metadata": {},
   "source": [
    "## Data Collections"
   ]
  },
  {
   "cell_type": "code",
   "execution_count": 2,
   "id": "b5001090-84ee-4281-9c66-8f6523fdbc0a",
   "metadata": {},
   "outputs": [
    {
     "data": {
      "text/html": [
       "<div>\n",
       "<style scoped>\n",
       "    .dataframe tbody tr th:only-of-type {\n",
       "        vertical-align: middle;\n",
       "    }\n",
       "\n",
       "    .dataframe tbody tr th {\n",
       "        vertical-align: top;\n",
       "    }\n",
       "\n",
       "    .dataframe thead th {\n",
       "        text-align: right;\n",
       "    }\n",
       "</style>\n",
       "<table border=\"1\" class=\"dataframe\">\n",
       "  <thead>\n",
       "    <tr style=\"text-align: right;\">\n",
       "      <th></th>\n",
       "      <th>Komoditas (Rp)</th>\n",
       "      <th>15/03/2021</th>\n",
       "      <th>16/03/2021</th>\n",
       "      <th>17/03/2021</th>\n",
       "      <th>18/03/2021</th>\n",
       "      <th>19/03/2021</th>\n",
       "      <th>20/03/2021</th>\n",
       "      <th>21/03/2021</th>\n",
       "      <th>22/03/2021</th>\n",
       "      <th>23/03/2021</th>\n",
       "      <th>...</th>\n",
       "      <th>21/10/2024</th>\n",
       "      <th>22/10/2024</th>\n",
       "      <th>23/10/2024</th>\n",
       "      <th>24/10/2024</th>\n",
       "      <th>25/10/2024</th>\n",
       "      <th>26/10/2024</th>\n",
       "      <th>27/10/2024</th>\n",
       "      <th>28/10/2024</th>\n",
       "      <th>29/10/2024</th>\n",
       "      <th>30/10/2024</th>\n",
       "    </tr>\n",
       "  </thead>\n",
       "  <tbody>\n",
       "    <tr>\n",
       "      <th>0</th>\n",
       "      <td>Beras Premium</td>\n",
       "      <td>11.500</td>\n",
       "      <td>11.500</td>\n",
       "      <td>11.500</td>\n",
       "      <td>11.500</td>\n",
       "      <td>11.500</td>\n",
       "      <td>11.500</td>\n",
       "      <td>-</td>\n",
       "      <td>11.500</td>\n",
       "      <td>-</td>\n",
       "      <td>...</td>\n",
       "      <td>16.0</td>\n",
       "      <td>16.0</td>\n",
       "      <td>16.0</td>\n",
       "      <td>-</td>\n",
       "      <td>-</td>\n",
       "      <td>16.0</td>\n",
       "      <td>16.0</td>\n",
       "      <td>-</td>\n",
       "      <td>16.0</td>\n",
       "      <td>15.0</td>\n",
       "    </tr>\n",
       "    <tr>\n",
       "      <th>1</th>\n",
       "      <td>Beras Medium</td>\n",
       "      <td>9.000</td>\n",
       "      <td>9.000</td>\n",
       "      <td>9.000</td>\n",
       "      <td>9.000</td>\n",
       "      <td>9.000</td>\n",
       "      <td>9.000</td>\n",
       "      <td>-</td>\n",
       "      <td>9.000</td>\n",
       "      <td>-</td>\n",
       "      <td>...</td>\n",
       "      <td>14.0</td>\n",
       "      <td>14.0</td>\n",
       "      <td>14.0</td>\n",
       "      <td>-</td>\n",
       "      <td>-</td>\n",
       "      <td>14.0</td>\n",
       "      <td>14.0</td>\n",
       "      <td>-</td>\n",
       "      <td>14.0</td>\n",
       "      <td>13.5</td>\n",
       "    </tr>\n",
       "    <tr>\n",
       "      <th>2</th>\n",
       "      <td>Kedelai Biji Kering (Impor)</td>\n",
       "      <td>11.000</td>\n",
       "      <td>11.000</td>\n",
       "      <td>11.000</td>\n",
       "      <td>11.000</td>\n",
       "      <td>11.000</td>\n",
       "      <td>11.000</td>\n",
       "      <td>-</td>\n",
       "      <td>10.000</td>\n",
       "      <td>-</td>\n",
       "      <td>...</td>\n",
       "      <td>10.3</td>\n",
       "      <td>10.3</td>\n",
       "      <td>10.3</td>\n",
       "      <td>-</td>\n",
       "      <td>-</td>\n",
       "      <td>10.3</td>\n",
       "      <td>10.3</td>\n",
       "      <td>-</td>\n",
       "      <td>10.3</td>\n",
       "      <td>10.3</td>\n",
       "    </tr>\n",
       "    <tr>\n",
       "      <th>3</th>\n",
       "      <td>Bawang Merah</td>\n",
       "      <td>28.000</td>\n",
       "      <td>28.000</td>\n",
       "      <td>28.000</td>\n",
       "      <td>28.000</td>\n",
       "      <td>28.000</td>\n",
       "      <td>27.000</td>\n",
       "      <td>-</td>\n",
       "      <td>27.000</td>\n",
       "      <td>-</td>\n",
       "      <td>...</td>\n",
       "      <td>22.0</td>\n",
       "      <td>22.0</td>\n",
       "      <td>22.0</td>\n",
       "      <td>-</td>\n",
       "      <td>-</td>\n",
       "      <td>22.0</td>\n",
       "      <td>22.0</td>\n",
       "      <td>-</td>\n",
       "      <td>28.0</td>\n",
       "      <td>28.0</td>\n",
       "    </tr>\n",
       "    <tr>\n",
       "      <th>4</th>\n",
       "      <td>Bawang Putih Bonggol</td>\n",
       "      <td>22.000</td>\n",
       "      <td>22.000</td>\n",
       "      <td>22.000</td>\n",
       "      <td>22.000</td>\n",
       "      <td>22.000</td>\n",
       "      <td>22.000</td>\n",
       "      <td>-</td>\n",
       "      <td>22.000</td>\n",
       "      <td>-</td>\n",
       "      <td>...</td>\n",
       "      <td>35.0</td>\n",
       "      <td>35.0</td>\n",
       "      <td>35.0</td>\n",
       "      <td>-</td>\n",
       "      <td>-</td>\n",
       "      <td>35.0</td>\n",
       "      <td>35.0</td>\n",
       "      <td>-</td>\n",
       "      <td>35.0</td>\n",
       "      <td>35.0</td>\n",
       "    </tr>\n",
       "    <tr>\n",
       "      <th>5</th>\n",
       "      <td>Cabai Merah Keriting</td>\n",
       "      <td>50.000</td>\n",
       "      <td>50.000</td>\n",
       "      <td>50.000</td>\n",
       "      <td>50.000</td>\n",
       "      <td>50.000</td>\n",
       "      <td>50.000</td>\n",
       "      <td>-</td>\n",
       "      <td>50.000</td>\n",
       "      <td>-</td>\n",
       "      <td>...</td>\n",
       "      <td>25.0</td>\n",
       "      <td>25.0</td>\n",
       "      <td>25.0</td>\n",
       "      <td>-</td>\n",
       "      <td>-</td>\n",
       "      <td>25.0</td>\n",
       "      <td>25.0</td>\n",
       "      <td>-</td>\n",
       "      <td>30.0</td>\n",
       "      <td>30.0</td>\n",
       "    </tr>\n",
       "    <tr>\n",
       "      <th>6</th>\n",
       "      <td>Cabai Rawit Merah</td>\n",
       "      <td>115.000</td>\n",
       "      <td>115.000</td>\n",
       "      <td>115.000</td>\n",
       "      <td>115.000</td>\n",
       "      <td>110.000</td>\n",
       "      <td>115.000</td>\n",
       "      <td>-</td>\n",
       "      <td>115.000</td>\n",
       "      <td>-</td>\n",
       "      <td>...</td>\n",
       "      <td>35.0</td>\n",
       "      <td>35.0</td>\n",
       "      <td>35.0</td>\n",
       "      <td>-</td>\n",
       "      <td>-</td>\n",
       "      <td>35.0</td>\n",
       "      <td>35.0</td>\n",
       "      <td>-</td>\n",
       "      <td>40.0</td>\n",
       "      <td>40.0</td>\n",
       "    </tr>\n",
       "    <tr>\n",
       "      <th>7</th>\n",
       "      <td>Daging Sapi Murni</td>\n",
       "      <td>120.000</td>\n",
       "      <td>120.000</td>\n",
       "      <td>120.000</td>\n",
       "      <td>120.000</td>\n",
       "      <td>120.000</td>\n",
       "      <td>120.000</td>\n",
       "      <td>-</td>\n",
       "      <td>120.000</td>\n",
       "      <td>-</td>\n",
       "      <td>...</td>\n",
       "      <td>143.0</td>\n",
       "      <td>143.0</td>\n",
       "      <td>143.0</td>\n",
       "      <td>-</td>\n",
       "      <td>-</td>\n",
       "      <td>143.0</td>\n",
       "      <td>143.0</td>\n",
       "      <td>-</td>\n",
       "      <td>143.0</td>\n",
       "      <td>143.0</td>\n",
       "    </tr>\n",
       "    <tr>\n",
       "      <th>8</th>\n",
       "      <td>Daging Ayam Ras</td>\n",
       "      <td>36.000</td>\n",
       "      <td>36.000</td>\n",
       "      <td>36.000</td>\n",
       "      <td>36.000</td>\n",
       "      <td>36.000</td>\n",
       "      <td>36.000</td>\n",
       "      <td>-</td>\n",
       "      <td>36.000</td>\n",
       "      <td>-</td>\n",
       "      <td>...</td>\n",
       "      <td>37.0</td>\n",
       "      <td>37.0</td>\n",
       "      <td>37.0</td>\n",
       "      <td>-</td>\n",
       "      <td>-</td>\n",
       "      <td>37.0</td>\n",
       "      <td>38.0</td>\n",
       "      <td>-</td>\n",
       "      <td>38.0</td>\n",
       "      <td>37.0</td>\n",
       "    </tr>\n",
       "    <tr>\n",
       "      <th>9</th>\n",
       "      <td>Telur Ayam Ras</td>\n",
       "      <td>22.000</td>\n",
       "      <td>22.000</td>\n",
       "      <td>22.000</td>\n",
       "      <td>22.000</td>\n",
       "      <td>22.000</td>\n",
       "      <td>22.000</td>\n",
       "      <td>-</td>\n",
       "      <td>22.000</td>\n",
       "      <td>-</td>\n",
       "      <td>...</td>\n",
       "      <td>26.5</td>\n",
       "      <td>26.5</td>\n",
       "      <td>26.5</td>\n",
       "      <td>-</td>\n",
       "      <td>-</td>\n",
       "      <td>26.0</td>\n",
       "      <td>26.0</td>\n",
       "      <td>-</td>\n",
       "      <td>26.5</td>\n",
       "      <td>27.0</td>\n",
       "    </tr>\n",
       "    <tr>\n",
       "      <th>10</th>\n",
       "      <td>Gula Konsumsi</td>\n",
       "      <td>12.500</td>\n",
       "      <td>12.500</td>\n",
       "      <td>12.500</td>\n",
       "      <td>12.500</td>\n",
       "      <td>12.500</td>\n",
       "      <td>12.500</td>\n",
       "      <td>-</td>\n",
       "      <td>12.500</td>\n",
       "      <td>-</td>\n",
       "      <td>...</td>\n",
       "      <td>17.5</td>\n",
       "      <td>17.5</td>\n",
       "      <td>17.5</td>\n",
       "      <td>-</td>\n",
       "      <td>-</td>\n",
       "      <td>17.5</td>\n",
       "      <td>17.5</td>\n",
       "      <td>-</td>\n",
       "      <td>17.5</td>\n",
       "      <td>17.5</td>\n",
       "    </tr>\n",
       "    <tr>\n",
       "      <th>11</th>\n",
       "      <td>Minyak Goreng Kemasan Sederhana</td>\n",
       "      <td>14.000</td>\n",
       "      <td>14.000</td>\n",
       "      <td>14.000</td>\n",
       "      <td>14.000</td>\n",
       "      <td>14.000</td>\n",
       "      <td>14.000</td>\n",
       "      <td>-</td>\n",
       "      <td>14.000</td>\n",
       "      <td>-</td>\n",
       "      <td>...</td>\n",
       "      <td>19.0</td>\n",
       "      <td>19.0</td>\n",
       "      <td>19.0</td>\n",
       "      <td>-</td>\n",
       "      <td>-</td>\n",
       "      <td>19.0</td>\n",
       "      <td>19.0</td>\n",
       "      <td>-</td>\n",
       "      <td>19.0</td>\n",
       "      <td>19.0</td>\n",
       "    </tr>\n",
       "    <tr>\n",
       "      <th>12</th>\n",
       "      <td>Tepung Terigu (Curah)</td>\n",
       "      <td>7.000</td>\n",
       "      <td>7.000</td>\n",
       "      <td>7.000</td>\n",
       "      <td>7.000</td>\n",
       "      <td>7.000</td>\n",
       "      <td>7.000</td>\n",
       "      <td>-</td>\n",
       "      <td>7.000</td>\n",
       "      <td>-</td>\n",
       "      <td>...</td>\n",
       "      <td>9.0</td>\n",
       "      <td>9.0</td>\n",
       "      <td>9.0</td>\n",
       "      <td>-</td>\n",
       "      <td>-</td>\n",
       "      <td>9.0</td>\n",
       "      <td>9.0</td>\n",
       "      <td>-</td>\n",
       "      <td>9.0</td>\n",
       "      <td>9.0</td>\n",
       "    </tr>\n",
       "    <tr>\n",
       "      <th>13</th>\n",
       "      <td>Minyak Goreng Curah</td>\n",
       "      <td>-</td>\n",
       "      <td>-</td>\n",
       "      <td>-</td>\n",
       "      <td>-</td>\n",
       "      <td>-</td>\n",
       "      <td>-</td>\n",
       "      <td>-</td>\n",
       "      <td>-</td>\n",
       "      <td>-</td>\n",
       "      <td>...</td>\n",
       "      <td>17.0</td>\n",
       "      <td>17.0</td>\n",
       "      <td>17.0</td>\n",
       "      <td>-</td>\n",
       "      <td>-</td>\n",
       "      <td>17.0</td>\n",
       "      <td>17.0</td>\n",
       "      <td>-</td>\n",
       "      <td>17.0</td>\n",
       "      <td>17.0</td>\n",
       "    </tr>\n",
       "    <tr>\n",
       "      <th>14</th>\n",
       "      <td>Jagung Tk Peternak</td>\n",
       "      <td>-</td>\n",
       "      <td>-</td>\n",
       "      <td>-</td>\n",
       "      <td>-</td>\n",
       "      <td>-</td>\n",
       "      <td>-</td>\n",
       "      <td>-</td>\n",
       "      <td>-</td>\n",
       "      <td>-</td>\n",
       "      <td>...</td>\n",
       "      <td>5.1</td>\n",
       "      <td>5.1</td>\n",
       "      <td>5.1</td>\n",
       "      <td>-</td>\n",
       "      <td>-</td>\n",
       "      <td>5.1</td>\n",
       "      <td>5.1</td>\n",
       "      <td>-</td>\n",
       "      <td>5.1</td>\n",
       "      <td>5.1</td>\n",
       "    </tr>\n",
       "    <tr>\n",
       "      <th>15</th>\n",
       "      <td>Ikan Kembung</td>\n",
       "      <td>-</td>\n",
       "      <td>-</td>\n",
       "      <td>-</td>\n",
       "      <td>-</td>\n",
       "      <td>-</td>\n",
       "      <td>-</td>\n",
       "      <td>-</td>\n",
       "      <td>-</td>\n",
       "      <td>-</td>\n",
       "      <td>...</td>\n",
       "      <td>28.0</td>\n",
       "      <td>28.0</td>\n",
       "      <td>28.0</td>\n",
       "      <td>-</td>\n",
       "      <td>-</td>\n",
       "      <td>28.0</td>\n",
       "      <td>28.0</td>\n",
       "      <td>-</td>\n",
       "      <td>28.0</td>\n",
       "      <td>30.0</td>\n",
       "    </tr>\n",
       "    <tr>\n",
       "      <th>16</th>\n",
       "      <td>Ikan Tongkol</td>\n",
       "      <td>-</td>\n",
       "      <td>-</td>\n",
       "      <td>-</td>\n",
       "      <td>-</td>\n",
       "      <td>-</td>\n",
       "      <td>-</td>\n",
       "      <td>-</td>\n",
       "      <td>-</td>\n",
       "      <td>-</td>\n",
       "      <td>...</td>\n",
       "      <td>28.0</td>\n",
       "      <td>28.0</td>\n",
       "      <td>28.0</td>\n",
       "      <td>-</td>\n",
       "      <td>-</td>\n",
       "      <td>28.0</td>\n",
       "      <td>28.0</td>\n",
       "      <td>-</td>\n",
       "      <td>28.0</td>\n",
       "      <td>30.0</td>\n",
       "    </tr>\n",
       "    <tr>\n",
       "      <th>17</th>\n",
       "      <td>Ikan Bandeng</td>\n",
       "      <td>-</td>\n",
       "      <td>-</td>\n",
       "      <td>-</td>\n",
       "      <td>-</td>\n",
       "      <td>-</td>\n",
       "      <td>-</td>\n",
       "      <td>-</td>\n",
       "      <td>-</td>\n",
       "      <td>-</td>\n",
       "      <td>...</td>\n",
       "      <td>32.0</td>\n",
       "      <td>32.0</td>\n",
       "      <td>32.0</td>\n",
       "      <td>-</td>\n",
       "      <td>-</td>\n",
       "      <td>32.0</td>\n",
       "      <td>32.0</td>\n",
       "      <td>-</td>\n",
       "      <td>30.0</td>\n",
       "      <td>33.0</td>\n",
       "    </tr>\n",
       "    <tr>\n",
       "      <th>18</th>\n",
       "      <td>Garam Halus Beryodium</td>\n",
       "      <td>-</td>\n",
       "      <td>-</td>\n",
       "      <td>-</td>\n",
       "      <td>-</td>\n",
       "      <td>-</td>\n",
       "      <td>-</td>\n",
       "      <td>-</td>\n",
       "      <td>-</td>\n",
       "      <td>-</td>\n",
       "      <td>...</td>\n",
       "      <td>10.0</td>\n",
       "      <td>10.0</td>\n",
       "      <td>10.0</td>\n",
       "      <td>-</td>\n",
       "      <td>-</td>\n",
       "      <td>10.0</td>\n",
       "      <td>10.0</td>\n",
       "      <td>-</td>\n",
       "      <td>10.0</td>\n",
       "      <td>10.0</td>\n",
       "    </tr>\n",
       "    <tr>\n",
       "      <th>19</th>\n",
       "      <td>Tepung Terigu Kemasan (non-curah)</td>\n",
       "      <td>-</td>\n",
       "      <td>-</td>\n",
       "      <td>-</td>\n",
       "      <td>-</td>\n",
       "      <td>-</td>\n",
       "      <td>-</td>\n",
       "      <td>-</td>\n",
       "      <td>-</td>\n",
       "      <td>-</td>\n",
       "      <td>...</td>\n",
       "      <td>12.0</td>\n",
       "      <td>12.0</td>\n",
       "      <td>12.0</td>\n",
       "      <td>-</td>\n",
       "      <td>-</td>\n",
       "      <td>12.0</td>\n",
       "      <td>12.0</td>\n",
       "      <td>-</td>\n",
       "      <td>12.0</td>\n",
       "      <td>12.0</td>\n",
       "    </tr>\n",
       "    <tr>\n",
       "      <th>20</th>\n",
       "      <td>Beras SPHP</td>\n",
       "      <td>-</td>\n",
       "      <td>-</td>\n",
       "      <td>-</td>\n",
       "      <td>-</td>\n",
       "      <td>-</td>\n",
       "      <td>-</td>\n",
       "      <td>-</td>\n",
       "      <td>-</td>\n",
       "      <td>-</td>\n",
       "      <td>...</td>\n",
       "      <td>12.0</td>\n",
       "      <td>12.0</td>\n",
       "      <td>12.0</td>\n",
       "      <td>-</td>\n",
       "      <td>-</td>\n",
       "      <td>12.0</td>\n",
       "      <td>12.0</td>\n",
       "      <td>-</td>\n",
       "      <td>12.0</td>\n",
       "      <td>12.0</td>\n",
       "    </tr>\n",
       "  </tbody>\n",
       "</table>\n",
       "<p>21 rows × 1327 columns</p>\n",
       "</div>"
      ],
      "text/plain": [
       "                      Komoditas (Rp)  15/03/2021 16/03/2021 17/03/2021  \\\n",
       "0                       Beras Premium     11.500     11.500     11.500   \n",
       "1                        Beras Medium      9.000      9.000      9.000   \n",
       "2         Kedelai Biji Kering (Impor)     11.000     11.000     11.000   \n",
       "3                        Bawang Merah     28.000     28.000     28.000   \n",
       "4                Bawang Putih Bonggol     22.000     22.000     22.000   \n",
       "5                Cabai Merah Keriting     50.000     50.000     50.000   \n",
       "6                   Cabai Rawit Merah    115.000    115.000    115.000   \n",
       "7                   Daging Sapi Murni    120.000    120.000    120.000   \n",
       "8                     Daging Ayam Ras     36.000     36.000     36.000   \n",
       "9                      Telur Ayam Ras     22.000     22.000     22.000   \n",
       "10                      Gula Konsumsi     12.500     12.500     12.500   \n",
       "11    Minyak Goreng Kemasan Sederhana     14.000     14.000     14.000   \n",
       "12              Tepung Terigu (Curah)      7.000      7.000      7.000   \n",
       "13                Minyak Goreng Curah          -          -          -   \n",
       "14                 Jagung Tk Peternak          -          -          -   \n",
       "15                       Ikan Kembung          -          -          -   \n",
       "16                       Ikan Tongkol          -          -          -   \n",
       "17                       Ikan Bandeng          -          -          -   \n",
       "18              Garam Halus Beryodium          -          -          -   \n",
       "19  Tepung Terigu Kemasan (non-curah)          -          -          -   \n",
       "20                         Beras SPHP          -          -          -   \n",
       "\n",
       "   18/03/2021 19/03/2021 20/03/2021 21/03/2021 22/03/2021 23/03/2021  ...  \\\n",
       "0      11.500     11.500     11.500          -     11.500          -  ...   \n",
       "1       9.000      9.000      9.000          -      9.000          -  ...   \n",
       "2      11.000     11.000     11.000          -     10.000          -  ...   \n",
       "3      28.000     28.000     27.000          -     27.000          -  ...   \n",
       "4      22.000     22.000     22.000          -     22.000          -  ...   \n",
       "5      50.000     50.000     50.000          -     50.000          -  ...   \n",
       "6     115.000    110.000    115.000          -    115.000          -  ...   \n",
       "7     120.000    120.000    120.000          -    120.000          -  ...   \n",
       "8      36.000     36.000     36.000          -     36.000          -  ...   \n",
       "9      22.000     22.000     22.000          -     22.000          -  ...   \n",
       "10     12.500     12.500     12.500          -     12.500          -  ...   \n",
       "11     14.000     14.000     14.000          -     14.000          -  ...   \n",
       "12      7.000      7.000      7.000          -      7.000          -  ...   \n",
       "13          -          -          -          -          -          -  ...   \n",
       "14          -          -          -          -          -          -  ...   \n",
       "15          -          -          -          -          -          -  ...   \n",
       "16          -          -          -          -          -          -  ...   \n",
       "17          -          -          -          -          -          -  ...   \n",
       "18          -          -          -          -          -          -  ...   \n",
       "19          -          -          -          -          -          -  ...   \n",
       "20          -          -          -          -          -          -  ...   \n",
       "\n",
       "   21/10/2024 22/10/2024 23/10/2024 24/10/2024 25/10/2024 26/10/2024  \\\n",
       "0        16.0       16.0       16.0          -          -       16.0   \n",
       "1        14.0       14.0       14.0          -          -       14.0   \n",
       "2        10.3       10.3       10.3          -          -       10.3   \n",
       "3        22.0       22.0       22.0          -          -       22.0   \n",
       "4        35.0       35.0       35.0          -          -       35.0   \n",
       "5        25.0       25.0       25.0          -          -       25.0   \n",
       "6        35.0       35.0       35.0          -          -       35.0   \n",
       "7       143.0      143.0      143.0          -          -      143.0   \n",
       "8        37.0       37.0       37.0          -          -       37.0   \n",
       "9        26.5       26.5       26.5          -          -       26.0   \n",
       "10       17.5       17.5       17.5          -          -       17.5   \n",
       "11       19.0       19.0       19.0          -          -       19.0   \n",
       "12        9.0        9.0        9.0          -          -        9.0   \n",
       "13       17.0       17.0       17.0          -          -       17.0   \n",
       "14        5.1        5.1        5.1          -          -        5.1   \n",
       "15       28.0       28.0       28.0          -          -       28.0   \n",
       "16       28.0       28.0       28.0          -          -       28.0   \n",
       "17       32.0       32.0       32.0          -          -       32.0   \n",
       "18       10.0       10.0       10.0          -          -       10.0   \n",
       "19       12.0       12.0       12.0          -          -       12.0   \n",
       "20       12.0       12.0       12.0          -          -       12.0   \n",
       "\n",
       "   27/10/2024 28/10/2024 29/10/2024 30/10/2024  \n",
       "0        16.0          -       16.0       15.0  \n",
       "1        14.0          -       14.0       13.5  \n",
       "2        10.3          -       10.3       10.3  \n",
       "3        22.0          -       28.0       28.0  \n",
       "4        35.0          -       35.0       35.0  \n",
       "5        25.0          -       30.0       30.0  \n",
       "6        35.0          -       40.0       40.0  \n",
       "7       143.0          -      143.0      143.0  \n",
       "8        38.0          -       38.0       37.0  \n",
       "9        26.0          -       26.5       27.0  \n",
       "10       17.5          -       17.5       17.5  \n",
       "11       19.0          -       19.0       19.0  \n",
       "12        9.0          -        9.0        9.0  \n",
       "13       17.0          -       17.0       17.0  \n",
       "14        5.1          -        5.1        5.1  \n",
       "15       28.0          -       28.0       30.0  \n",
       "16       28.0          -       28.0       30.0  \n",
       "17       32.0          -       30.0       33.0  \n",
       "18       10.0          -       10.0       10.0  \n",
       "19       12.0          -       12.0       12.0  \n",
       "20       12.0          -       12.0       12.0  \n",
       "\n",
       "[21 rows x 1327 columns]"
      ]
     },
     "execution_count": 2,
     "metadata": {},
     "output_type": "execute_result"
    }
   ],
   "source": [
    "file_path = \"dataset_harga_brebes.csv\"\n",
    "df = pd.read_csv(file_path)\n",
    "df"
   ]
  },
  {
   "cell_type": "markdown",
   "id": "2af51775-851b-4cd2-9cb8-9947e57096fe",
   "metadata": {},
   "source": [
    "## Data Cleaning"
   ]
  },
  {
   "cell_type": "code",
   "execution_count": 3,
   "id": "8f0ad1ee-1d57-4e7c-9a40-be9424dabc7f",
   "metadata": {},
   "outputs": [
    {
     "name": "stdout",
     "output_type": "stream",
     "text": [
      "tanggal                              datetime64[ns]\n",
      "Beras Premium                               float64\n",
      "Beras Medium                                float64\n",
      "Kedelai Biji Kering (Impor)                 float64\n",
      "Bawang Merah                                float64\n",
      "Bawang Putih Bonggol                        float64\n",
      "Cabai Merah Keriting                        float64\n",
      "Cabai Rawit Merah                           float64\n",
      "Daging Sapi Murni                           float64\n",
      "Daging Ayam Ras                             float64\n",
      "Telur Ayam Ras                              float64\n",
      "Gula Konsumsi                               float64\n",
      "Minyak Goreng Kemasan Sederhana             float64\n",
      "Tepung Terigu (Curah)                       float64\n",
      "Minyak Goreng Curah                         float64\n",
      "Jagung Tk Peternak                          float64\n",
      "Ikan Kembung                                float64\n",
      "Ikan Tongkol                                float64\n",
      "Ikan Bandeng                                float64\n",
      "Garam Halus Beryodium                       float64\n",
      "Tepung Terigu Kemasan (non-curah)           float64\n",
      "Beras SPHP                                  float64\n",
      "dtype: object\n",
      "tanggal                                 0\n",
      "Beras Premium                         176\n",
      "Beras Medium                          176\n",
      "Kedelai Biji Kering (Impor)           176\n",
      "Bawang Merah                          176\n",
      "Bawang Putih Bonggol                  176\n",
      "Cabai Merah Keriting                  176\n",
      "Cabai Rawit Merah                     176\n",
      "Daging Sapi Murni                     176\n",
      "Daging Ayam Ras                       176\n",
      "Telur Ayam Ras                        176\n",
      "Gula Konsumsi                         176\n",
      "Minyak Goreng Kemasan Sederhana       176\n",
      "Tepung Terigu (Curah)                 176\n",
      "Minyak Goreng Curah                   537\n",
      "Jagung Tk Peternak                    904\n",
      "Ikan Kembung                          729\n",
      "Ikan Tongkol                          809\n",
      "Ikan Bandeng                          809\n",
      "Garam Halus Beryodium                 809\n",
      "Tepung Terigu Kemasan (non-curah)     809\n",
      "Beras SPHP                           1208\n",
      "dtype: int64\n"
     ]
    },
    {
     "name": "stderr",
     "output_type": "stream",
     "text": [
      "C:\\Users\\ACER\\AppData\\Local\\Temp\\ipykernel_14364\\1358906317.py:12: FutureWarning: Downcasting behavior in `replace` is deprecated and will be removed in a future version. To retain the old behavior, explicitly call `result.infer_objects(copy=False)`. To opt-in to the future behavior, set `pd.set_option('future.no_silent_downcasting', True)`\n",
      "  df_transformed.replace([\"\", \"-\", \" \"], np.nan, inplace=True)\n"
     ]
    },
    {
     "data": {
      "text/html": [
       "<div>\n",
       "<style scoped>\n",
       "    .dataframe tbody tr th:only-of-type {\n",
       "        vertical-align: middle;\n",
       "    }\n",
       "\n",
       "    .dataframe tbody tr th {\n",
       "        vertical-align: top;\n",
       "    }\n",
       "\n",
       "    .dataframe thead th {\n",
       "        text-align: right;\n",
       "    }\n",
       "</style>\n",
       "<table border=\"1\" class=\"dataframe\">\n",
       "  <thead>\n",
       "    <tr style=\"text-align: right;\">\n",
       "      <th></th>\n",
       "      <th>tanggal</th>\n",
       "      <th>Beras Premium</th>\n",
       "      <th>Beras Medium</th>\n",
       "      <th>Kedelai Biji Kering (Impor)</th>\n",
       "      <th>Bawang Merah</th>\n",
       "      <th>Bawang Putih Bonggol</th>\n",
       "      <th>Cabai Merah Keriting</th>\n",
       "      <th>Cabai Rawit Merah</th>\n",
       "      <th>Daging Sapi Murni</th>\n",
       "      <th>Daging Ayam Ras</th>\n",
       "      <th>...</th>\n",
       "      <th>Minyak Goreng Kemasan Sederhana</th>\n",
       "      <th>Tepung Terigu (Curah)</th>\n",
       "      <th>Minyak Goreng Curah</th>\n",
       "      <th>Jagung Tk Peternak</th>\n",
       "      <th>Ikan Kembung</th>\n",
       "      <th>Ikan Tongkol</th>\n",
       "      <th>Ikan Bandeng</th>\n",
       "      <th>Garam Halus Beryodium</th>\n",
       "      <th>Tepung Terigu Kemasan (non-curah)</th>\n",
       "      <th>Beras SPHP</th>\n",
       "    </tr>\n",
       "  </thead>\n",
       "  <tbody>\n",
       "    <tr>\n",
       "      <th>0</th>\n",
       "      <td>2021-03-15</td>\n",
       "      <td>11500.0</td>\n",
       "      <td>9000.0</td>\n",
       "      <td>11000.0</td>\n",
       "      <td>28000.0</td>\n",
       "      <td>22000.0</td>\n",
       "      <td>50000.0</td>\n",
       "      <td>115000.0</td>\n",
       "      <td>120000.0</td>\n",
       "      <td>36000.0</td>\n",
       "      <td>...</td>\n",
       "      <td>14000.0</td>\n",
       "      <td>7000.0</td>\n",
       "      <td>NaN</td>\n",
       "      <td>NaN</td>\n",
       "      <td>NaN</td>\n",
       "      <td>NaN</td>\n",
       "      <td>NaN</td>\n",
       "      <td>NaN</td>\n",
       "      <td>NaN</td>\n",
       "      <td>NaN</td>\n",
       "    </tr>\n",
       "    <tr>\n",
       "      <th>1</th>\n",
       "      <td>2021-03-16</td>\n",
       "      <td>11500.0</td>\n",
       "      <td>9000.0</td>\n",
       "      <td>11000.0</td>\n",
       "      <td>28000.0</td>\n",
       "      <td>22000.0</td>\n",
       "      <td>50000.0</td>\n",
       "      <td>115000.0</td>\n",
       "      <td>120000.0</td>\n",
       "      <td>36000.0</td>\n",
       "      <td>...</td>\n",
       "      <td>14000.0</td>\n",
       "      <td>7000.0</td>\n",
       "      <td>NaN</td>\n",
       "      <td>NaN</td>\n",
       "      <td>NaN</td>\n",
       "      <td>NaN</td>\n",
       "      <td>NaN</td>\n",
       "      <td>NaN</td>\n",
       "      <td>NaN</td>\n",
       "      <td>NaN</td>\n",
       "    </tr>\n",
       "    <tr>\n",
       "      <th>2</th>\n",
       "      <td>2021-03-17</td>\n",
       "      <td>11500.0</td>\n",
       "      <td>9000.0</td>\n",
       "      <td>11000.0</td>\n",
       "      <td>28000.0</td>\n",
       "      <td>22000.0</td>\n",
       "      <td>50000.0</td>\n",
       "      <td>115000.0</td>\n",
       "      <td>120000.0</td>\n",
       "      <td>36000.0</td>\n",
       "      <td>...</td>\n",
       "      <td>14000.0</td>\n",
       "      <td>7000.0</td>\n",
       "      <td>NaN</td>\n",
       "      <td>NaN</td>\n",
       "      <td>NaN</td>\n",
       "      <td>NaN</td>\n",
       "      <td>NaN</td>\n",
       "      <td>NaN</td>\n",
       "      <td>NaN</td>\n",
       "      <td>NaN</td>\n",
       "    </tr>\n",
       "    <tr>\n",
       "      <th>3</th>\n",
       "      <td>2021-03-18</td>\n",
       "      <td>11500.0</td>\n",
       "      <td>9000.0</td>\n",
       "      <td>11000.0</td>\n",
       "      <td>28000.0</td>\n",
       "      <td>22000.0</td>\n",
       "      <td>50000.0</td>\n",
       "      <td>115000.0</td>\n",
       "      <td>120000.0</td>\n",
       "      <td>36000.0</td>\n",
       "      <td>...</td>\n",
       "      <td>14000.0</td>\n",
       "      <td>7000.0</td>\n",
       "      <td>NaN</td>\n",
       "      <td>NaN</td>\n",
       "      <td>NaN</td>\n",
       "      <td>NaN</td>\n",
       "      <td>NaN</td>\n",
       "      <td>NaN</td>\n",
       "      <td>NaN</td>\n",
       "      <td>NaN</td>\n",
       "    </tr>\n",
       "    <tr>\n",
       "      <th>4</th>\n",
       "      <td>2021-03-19</td>\n",
       "      <td>11500.0</td>\n",
       "      <td>9000.0</td>\n",
       "      <td>11000.0</td>\n",
       "      <td>28000.0</td>\n",
       "      <td>22000.0</td>\n",
       "      <td>50000.0</td>\n",
       "      <td>110000.0</td>\n",
       "      <td>120000.0</td>\n",
       "      <td>36000.0</td>\n",
       "      <td>...</td>\n",
       "      <td>14000.0</td>\n",
       "      <td>7000.0</td>\n",
       "      <td>NaN</td>\n",
       "      <td>NaN</td>\n",
       "      <td>NaN</td>\n",
       "      <td>NaN</td>\n",
       "      <td>NaN</td>\n",
       "      <td>NaN</td>\n",
       "      <td>NaN</td>\n",
       "      <td>NaN</td>\n",
       "    </tr>\n",
       "    <tr>\n",
       "      <th>...</th>\n",
       "      <td>...</td>\n",
       "      <td>...</td>\n",
       "      <td>...</td>\n",
       "      <td>...</td>\n",
       "      <td>...</td>\n",
       "      <td>...</td>\n",
       "      <td>...</td>\n",
       "      <td>...</td>\n",
       "      <td>...</td>\n",
       "      <td>...</td>\n",
       "      <td>...</td>\n",
       "      <td>...</td>\n",
       "      <td>...</td>\n",
       "      <td>...</td>\n",
       "      <td>...</td>\n",
       "      <td>...</td>\n",
       "      <td>...</td>\n",
       "      <td>...</td>\n",
       "      <td>...</td>\n",
       "      <td>...</td>\n",
       "      <td>...</td>\n",
       "    </tr>\n",
       "    <tr>\n",
       "      <th>1321</th>\n",
       "      <td>2024-10-26</td>\n",
       "      <td>16000.0</td>\n",
       "      <td>14000.0</td>\n",
       "      <td>10300.0</td>\n",
       "      <td>22000.0</td>\n",
       "      <td>35000.0</td>\n",
       "      <td>25000.0</td>\n",
       "      <td>35000.0</td>\n",
       "      <td>143000.0</td>\n",
       "      <td>37000.0</td>\n",
       "      <td>...</td>\n",
       "      <td>19000.0</td>\n",
       "      <td>9000.0</td>\n",
       "      <td>17000.0</td>\n",
       "      <td>5100.0</td>\n",
       "      <td>28000.0</td>\n",
       "      <td>28000.0</td>\n",
       "      <td>32000.0</td>\n",
       "      <td>10000.0</td>\n",
       "      <td>12000.0</td>\n",
       "      <td>12000.0</td>\n",
       "    </tr>\n",
       "    <tr>\n",
       "      <th>1322</th>\n",
       "      <td>2024-10-27</td>\n",
       "      <td>16000.0</td>\n",
       "      <td>14000.0</td>\n",
       "      <td>10300.0</td>\n",
       "      <td>22000.0</td>\n",
       "      <td>35000.0</td>\n",
       "      <td>25000.0</td>\n",
       "      <td>35000.0</td>\n",
       "      <td>143000.0</td>\n",
       "      <td>38000.0</td>\n",
       "      <td>...</td>\n",
       "      <td>19000.0</td>\n",
       "      <td>9000.0</td>\n",
       "      <td>17000.0</td>\n",
       "      <td>5100.0</td>\n",
       "      <td>28000.0</td>\n",
       "      <td>28000.0</td>\n",
       "      <td>32000.0</td>\n",
       "      <td>10000.0</td>\n",
       "      <td>12000.0</td>\n",
       "      <td>12000.0</td>\n",
       "    </tr>\n",
       "    <tr>\n",
       "      <th>1323</th>\n",
       "      <td>2024-10-28</td>\n",
       "      <td>NaN</td>\n",
       "      <td>NaN</td>\n",
       "      <td>NaN</td>\n",
       "      <td>NaN</td>\n",
       "      <td>NaN</td>\n",
       "      <td>NaN</td>\n",
       "      <td>NaN</td>\n",
       "      <td>NaN</td>\n",
       "      <td>NaN</td>\n",
       "      <td>...</td>\n",
       "      <td>NaN</td>\n",
       "      <td>NaN</td>\n",
       "      <td>NaN</td>\n",
       "      <td>NaN</td>\n",
       "      <td>NaN</td>\n",
       "      <td>NaN</td>\n",
       "      <td>NaN</td>\n",
       "      <td>NaN</td>\n",
       "      <td>NaN</td>\n",
       "      <td>NaN</td>\n",
       "    </tr>\n",
       "    <tr>\n",
       "      <th>1324</th>\n",
       "      <td>2024-10-29</td>\n",
       "      <td>16000.0</td>\n",
       "      <td>14000.0</td>\n",
       "      <td>10300.0</td>\n",
       "      <td>28000.0</td>\n",
       "      <td>35000.0</td>\n",
       "      <td>30000.0</td>\n",
       "      <td>40000.0</td>\n",
       "      <td>143000.0</td>\n",
       "      <td>38000.0</td>\n",
       "      <td>...</td>\n",
       "      <td>19000.0</td>\n",
       "      <td>9000.0</td>\n",
       "      <td>17000.0</td>\n",
       "      <td>5100.0</td>\n",
       "      <td>28000.0</td>\n",
       "      <td>28000.0</td>\n",
       "      <td>30000.0</td>\n",
       "      <td>10000.0</td>\n",
       "      <td>12000.0</td>\n",
       "      <td>12000.0</td>\n",
       "    </tr>\n",
       "    <tr>\n",
       "      <th>1325</th>\n",
       "      <td>2024-10-30</td>\n",
       "      <td>15000.0</td>\n",
       "      <td>13500.0</td>\n",
       "      <td>10300.0</td>\n",
       "      <td>28000.0</td>\n",
       "      <td>35000.0</td>\n",
       "      <td>30000.0</td>\n",
       "      <td>40000.0</td>\n",
       "      <td>143000.0</td>\n",
       "      <td>37000.0</td>\n",
       "      <td>...</td>\n",
       "      <td>19000.0</td>\n",
       "      <td>9000.0</td>\n",
       "      <td>17000.0</td>\n",
       "      <td>5100.0</td>\n",
       "      <td>30000.0</td>\n",
       "      <td>30000.0</td>\n",
       "      <td>33000.0</td>\n",
       "      <td>10000.0</td>\n",
       "      <td>12000.0</td>\n",
       "      <td>12000.0</td>\n",
       "    </tr>\n",
       "  </tbody>\n",
       "</table>\n",
       "<p>1326 rows × 22 columns</p>\n",
       "</div>"
      ],
      "text/plain": [
       "        tanggal  Beras Premium  Beras Medium  Kedelai Biji Kering (Impor)  \\\n",
       "0    2021-03-15        11500.0        9000.0                      11000.0   \n",
       "1    2021-03-16        11500.0        9000.0                      11000.0   \n",
       "2    2021-03-17        11500.0        9000.0                      11000.0   \n",
       "3    2021-03-18        11500.0        9000.0                      11000.0   \n",
       "4    2021-03-19        11500.0        9000.0                      11000.0   \n",
       "...         ...            ...           ...                          ...   \n",
       "1321 2024-10-26        16000.0       14000.0                      10300.0   \n",
       "1322 2024-10-27        16000.0       14000.0                      10300.0   \n",
       "1323 2024-10-28            NaN           NaN                          NaN   \n",
       "1324 2024-10-29        16000.0       14000.0                      10300.0   \n",
       "1325 2024-10-30        15000.0       13500.0                      10300.0   \n",
       "\n",
       "      Bawang Merah  Bawang Putih Bonggol  Cabai Merah Keriting  \\\n",
       "0          28000.0               22000.0               50000.0   \n",
       "1          28000.0               22000.0               50000.0   \n",
       "2          28000.0               22000.0               50000.0   \n",
       "3          28000.0               22000.0               50000.0   \n",
       "4          28000.0               22000.0               50000.0   \n",
       "...            ...                   ...                   ...   \n",
       "1321       22000.0               35000.0               25000.0   \n",
       "1322       22000.0               35000.0               25000.0   \n",
       "1323           NaN                   NaN                   NaN   \n",
       "1324       28000.0               35000.0               30000.0   \n",
       "1325       28000.0               35000.0               30000.0   \n",
       "\n",
       "      Cabai Rawit Merah  Daging Sapi Murni  Daging Ayam Ras  ...  \\\n",
       "0              115000.0           120000.0          36000.0  ...   \n",
       "1              115000.0           120000.0          36000.0  ...   \n",
       "2              115000.0           120000.0          36000.0  ...   \n",
       "3              115000.0           120000.0          36000.0  ...   \n",
       "4              110000.0           120000.0          36000.0  ...   \n",
       "...                 ...                ...              ...  ...   \n",
       "1321            35000.0           143000.0          37000.0  ...   \n",
       "1322            35000.0           143000.0          38000.0  ...   \n",
       "1323                NaN                NaN              NaN  ...   \n",
       "1324            40000.0           143000.0          38000.0  ...   \n",
       "1325            40000.0           143000.0          37000.0  ...   \n",
       "\n",
       "      Minyak Goreng Kemasan Sederhana  Tepung Terigu (Curah)  \\\n",
       "0                             14000.0                 7000.0   \n",
       "1                             14000.0                 7000.0   \n",
       "2                             14000.0                 7000.0   \n",
       "3                             14000.0                 7000.0   \n",
       "4                             14000.0                 7000.0   \n",
       "...                               ...                    ...   \n",
       "1321                          19000.0                 9000.0   \n",
       "1322                          19000.0                 9000.0   \n",
       "1323                              NaN                    NaN   \n",
       "1324                          19000.0                 9000.0   \n",
       "1325                          19000.0                 9000.0   \n",
       "\n",
       "      Minyak Goreng Curah  Jagung Tk Peternak  Ikan Kembung  Ikan Tongkol  \\\n",
       "0                     NaN                 NaN           NaN           NaN   \n",
       "1                     NaN                 NaN           NaN           NaN   \n",
       "2                     NaN                 NaN           NaN           NaN   \n",
       "3                     NaN                 NaN           NaN           NaN   \n",
       "4                     NaN                 NaN           NaN           NaN   \n",
       "...                   ...                 ...           ...           ...   \n",
       "1321              17000.0              5100.0       28000.0       28000.0   \n",
       "1322              17000.0              5100.0       28000.0       28000.0   \n",
       "1323                  NaN                 NaN           NaN           NaN   \n",
       "1324              17000.0              5100.0       28000.0       28000.0   \n",
       "1325              17000.0              5100.0       30000.0       30000.0   \n",
       "\n",
       "      Ikan Bandeng  Garam Halus Beryodium  Tepung Terigu Kemasan (non-curah)  \\\n",
       "0              NaN                    NaN                                NaN   \n",
       "1              NaN                    NaN                                NaN   \n",
       "2              NaN                    NaN                                NaN   \n",
       "3              NaN                    NaN                                NaN   \n",
       "4              NaN                    NaN                                NaN   \n",
       "...            ...                    ...                                ...   \n",
       "1321       32000.0                10000.0                            12000.0   \n",
       "1322       32000.0                10000.0                            12000.0   \n",
       "1323           NaN                    NaN                                NaN   \n",
       "1324       30000.0                10000.0                            12000.0   \n",
       "1325       33000.0                10000.0                            12000.0   \n",
       "\n",
       "      Beras SPHP  \n",
       "0            NaN  \n",
       "1            NaN  \n",
       "2            NaN  \n",
       "3            NaN  \n",
       "4            NaN  \n",
       "...          ...  \n",
       "1321     12000.0  \n",
       "1322     12000.0  \n",
       "1323         NaN  \n",
       "1324     12000.0  \n",
       "1325     12000.0  \n",
       "\n",
       "[1326 rows x 22 columns]"
      ]
     },
     "execution_count": 3,
     "metadata": {},
     "output_type": "execute_result"
    }
   ],
   "source": [
    "# Menambah label \"tanggal\" ke dalam list kolom\n",
    "kolom = [\"tanggal\"] + [x.strip() for x in df[\" Komoditas (Rp) \"]]\n",
    "\n",
    "# Ubah nama kolom pada df_transformed sesuai dengan kolom yang diinginkan\n",
    "df_transformed = df.set_index(\" Komoditas (Rp) \").T.reset_index()\n",
    "\n",
    "df_transformed.columns = kolom\n",
    "# mengubah tanggal menjadi tipe data tanggal\n",
    "df_transformed['tanggal'] = pd.to_datetime(df_transformed['tanggal'], format='%d/%m/%Y')\n",
    "\n",
    "# Mengganti nilai kosong atau tanda tertentu dengan NaN\n",
    "df_transformed.replace([\"\", \"-\", \" \"], np.nan, inplace=True)\n",
    "\n",
    "# Mengonversi kolom data (selain tanggal) menjadi float\n",
    "for col in df_transformed.columns[1:]:  # Mulai dari indeks 1 agar kolom 'tanggal' tidak diubah\n",
    "    df_transformed[col] = pd.to_numeric(df_transformed[col], errors='coerce') * 1000\n",
    "\n",
    "# Memeriksa apakah perubahan berhasil\n",
    "print(df_transformed.dtypes)\n",
    "print(df_transformed.isnull().sum())\n",
    "df_transformed"
   ]
  },
  {
   "cell_type": "code",
   "execution_count": 4,
   "id": "0889ed7a-1b36-4c06-b613-4108e06e8ecf",
   "metadata": {},
   "outputs": [
    {
     "data": {
      "text/html": [
       "<div>\n",
       "<style scoped>\n",
       "    .dataframe tbody tr th:only-of-type {\n",
       "        vertical-align: middle;\n",
       "    }\n",
       "\n",
       "    .dataframe tbody tr th {\n",
       "        vertical-align: top;\n",
       "    }\n",
       "\n",
       "    .dataframe thead th {\n",
       "        text-align: right;\n",
       "    }\n",
       "</style>\n",
       "<table border=\"1\" class=\"dataframe\">\n",
       "  <thead>\n",
       "    <tr style=\"text-align: right;\">\n",
       "      <th></th>\n",
       "      <th>Minggu</th>\n",
       "      <th>Harga/week</th>\n",
       "    </tr>\n",
       "  </thead>\n",
       "  <tbody>\n",
       "    <tr>\n",
       "      <th>0</th>\n",
       "      <td>1</td>\n",
       "      <td>27714.285714</td>\n",
       "    </tr>\n",
       "    <tr>\n",
       "      <th>1</th>\n",
       "      <td>2</td>\n",
       "      <td>28714.285714</td>\n",
       "    </tr>\n",
       "    <tr>\n",
       "      <th>2</th>\n",
       "      <td>3</td>\n",
       "      <td>30000.000000</td>\n",
       "    </tr>\n",
       "    <tr>\n",
       "      <th>3</th>\n",
       "      <td>4</td>\n",
       "      <td>30000.000000</td>\n",
       "    </tr>\n",
       "    <tr>\n",
       "      <th>4</th>\n",
       "      <td>5</td>\n",
       "      <td>20714.285714</td>\n",
       "    </tr>\n",
       "    <tr>\n",
       "      <th>...</th>\n",
       "      <td>...</td>\n",
       "      <td>...</td>\n",
       "    </tr>\n",
       "    <tr>\n",
       "      <th>184</th>\n",
       "      <td>185</td>\n",
       "      <td>20000.000000</td>\n",
       "    </tr>\n",
       "    <tr>\n",
       "      <th>185</th>\n",
       "      <td>186</td>\n",
       "      <td>20000.000000</td>\n",
       "    </tr>\n",
       "    <tr>\n",
       "      <th>186</th>\n",
       "      <td>187</td>\n",
       "      <td>20857.142857</td>\n",
       "    </tr>\n",
       "    <tr>\n",
       "      <th>187</th>\n",
       "      <td>188</td>\n",
       "      <td>22000.000000</td>\n",
       "    </tr>\n",
       "    <tr>\n",
       "      <th>188</th>\n",
       "      <td>189</td>\n",
       "      <td>22000.000000</td>\n",
       "    </tr>\n",
       "  </tbody>\n",
       "</table>\n",
       "<p>189 rows × 2 columns</p>\n",
       "</div>"
      ],
      "text/plain": [
       "     Minggu    Harga/week\n",
       "0         1  27714.285714\n",
       "1         2  28714.285714\n",
       "2         3  30000.000000\n",
       "3         4  30000.000000\n",
       "4         5  20714.285714\n",
       "..      ...           ...\n",
       "184     185  20000.000000\n",
       "185     186  20000.000000\n",
       "186     187  20857.142857\n",
       "187     188  22000.000000\n",
       "188     189  22000.000000\n",
       "\n",
       "[189 rows x 2 columns]"
      ]
     },
     "execution_count": 4,
     "metadata": {},
     "output_type": "execute_result"
    }
   ],
   "source": [
    "# Buat dataframe barang\n",
    "df_barang = pd.DataFrame()\n",
    "df_barang['tanggal'] = df_transformed['tanggal']\n",
    "df_barang['harga'] = df_transformed['Bawang Merah']\n",
    "\n",
    "# Isi null pada data\n",
    "df_barang['harga'] = df_barang['harga'].interpolate(method='linear').ffill()\n",
    "\n",
    "# Buat kolom minggu dari tanggal\n",
    "df_barang['Minggu'] = (df_barang.index // 7) + 1\n",
    "\n",
    "#kelompokkan berdasarkan minggu\n",
    "weekly_data = df_barang.groupby(['Minggu']).agg({\n",
    "    'harga': 'mean'  # Rata-rata harga per minggu\n",
    "}).reset_index()\n",
    "weekly_data.rename(columns={'harga': 'Harga/week'}, inplace=True)\n",
    "weekly_data = weekly_data[weekly_data['Minggu'] < 190]\n",
    "\n",
    "weekly_data"
   ]
  },
  {
   "cell_type": "code",
   "execution_count": 5,
   "id": "87859486-b463-4b2f-a024-eaa04112efd7",
   "metadata": {},
   "outputs": [
    {
     "data": {
      "text/plain": [
       "[<matplotlib.lines.Line2D at 0x1f5ce5294b0>]"
      ]
     },
     "execution_count": 5,
     "metadata": {},
     "output_type": "execute_result"
    },
    {
     "data": {
      "image/png": "[encoded data removed]",
      "text/plain": [
       "<Figure size 640x480 with 1 Axes>"
      ]
     },
     "metadata": {},
     "output_type": "display_data"
    }
   ],
   "source": [
    "plt.plot(weekly_data['Harga/week'])"
   ]
  },
  {
   "cell_type": "code",
   "execution_count": null,
   "id": "7e3f6cfd-6791-4c0f-8b7e-17e60d4074aa",
   "metadata": {},
   "outputs": [],
   "source": [
    "# weekly_data.to_csv(\"weekly_data.csv\", index=False)"
   ]
  },
  {
   "cell_type": "markdown",
   "id": "14139852-7e01-457d-a5e9-c7792bf2b739",
   "metadata": {},
   "source": [
    "## Data Preparation"
   ]
  },
  {
   "cell_type": "code",
   "execution_count": 6,
   "id": "e1e34c4c-856d-4700-ae43-0a3846ec4842",
   "metadata": {},
   "outputs": [
    {
     "data": {
      "text/plain": [
       "((189,), (189,))"
      ]
     },
     "execution_count": 6,
     "metadata": {},
     "output_type": "execute_result"
    }
   ],
   "source": [
    "week = np.array(weekly_data[\"Minggu\"])\n",
    "series = np.array(weekly_data['Harga/week'])\n",
    "week.shape, series.shape"
   ]
  },
  {
   "cell_type": "code",
   "execution_count": 7,
   "id": "468ea491-77cb-4180-b957-f5d4c349e59e",
   "metadata": {},
   "outputs": [],
   "source": [
    "def create_sequences(data, window_size):\n",
    "    X, y = [], []\n",
    "    for i in range(len(data) - window_size):\n",
    "        X.append(data[i:(i + window_size)])\n",
    "        y.append(data[i + window_size])\n",
    "    return np.array(X), np.array(y)"
   ]
  },
  {
   "cell_type": "code",
   "execution_count": 8,
   "id": "d6502105-0ac0-4cdf-9892-765fe5defd90",
   "metadata": {},
   "outputs": [],
   "source": [
    "def scaled_price(data):\n",
    "    return data/10000"
   ]
  },
  {
   "cell_type": "code",
   "execution_count": 28,
   "id": "be4ba358-f319-4df9-8828-f932215cb4f6",
   "metadata": {},
   "outputs": [],
   "source": [
    "# Model configuration\n",
    "window_size = 24\n",
    "\n",
    "scaled_series = scaled_price(series)\n",
    "\n",
    "X, y = create_sequences(scaled_series, window_size)"
   ]
  },
  {
   "cell_type": "code",
   "execution_count": 29,
   "id": "30ef7a5c-5d77-4c1e-a30a-80cc5a048128",
   "metadata": {},
   "outputs": [
    {
     "data": {
      "text/plain": [
       "((132, 24), (132,), (33, 24), (33,))"
      ]
     },
     "execution_count": 29,
     "metadata": {},
     "output_type": "execute_result"
    }
   ],
   "source": [
    "split_size1 = int(len(X) * 0.8)\n",
    "\n",
    "week_train = week[:split_size1]\n",
    "X_train = X[:split_size1]\n",
    "y_train = y[:split_size1]\n",
    "\n",
    "week_valid = week[split_size1:]\n",
    "X_val = X[split_size1:]\n",
    "y_val = y[split_size1:]\n",
    "X_train.shape, y_train.shape, X_val.shape, y_val.shape"
   ]
  },
  {
   "cell_type": "code",
   "execution_count": 30,
   "id": "c9f4f75a-bc95-4f76-ac9f-4110561cd60b",
   "metadata": {},
   "outputs": [
    {
     "data": {
      "image/png": "[encoded data removed]",
      "text/plain": [
       "<Figure size 1200x500 with 1 Axes>"
      ]
     },
     "metadata": {},
     "output_type": "display_data"
    }
   ],
   "source": [
    "plt.figure(figsize=(12, 5))\n",
    "plt.plot(np.arange(len(y_train)), y_train, label='Train', color='blue')\n",
    "plt.plot(np.arange(len(y_train), len(y_train) + len(y_val)), y_val, label='Validation', color='green')\n",
    "\n",
    "plt.xlabel('Index')\n",
    "plt.ylabel('Target Value')\n",
    "plt.legend()\n",
    "plt.title('Train, Validation, and Test Splits')\n",
    "plt.show()"
   ]
  },
  {
   "cell_type": "markdown",
   "id": "877a4d43-89ef-4e69-b6db-c45c782a6ef6",
   "metadata": {},
   "source": [
    "## Train Model"
   ]
  },
  {
   "cell_type": "markdown",
   "id": "121e6d5f-3e13-48f1-97bc-9f2dc9fd4cec",
   "metadata": {},
   "source": [
    "### Model 1"
   ]
  },
  {
   "cell_type": "code",
   "execution_count": 31,
   "id": "d5852ad4-0721-4353-8b85-2880c36101f6",
   "metadata": {},
   "outputs": [],
   "source": [
    "def create_model(window_size):\n",
    "    model = keras.Sequential([\n",
    "        Input(shape=(window_size, 1)),\n",
    "        tf.keras.layers.Conv1D(\n",
    "            filters=12,\n",
    "            kernel_size=3,\n",
    "            strides=1,\n",
    "            padding='causal',\n",
    "            activation='relu'\n",
    "        ),\n",
    "        Flatten(),\n",
    "        Dense(64, activation='relu'),\n",
    "        Dense(64, activation='relu'),\n",
    "        Dense(16, activation='relu'),\n",
    "        Dense(1, activation='linear')\n",
    "    ])\n",
    "    return model"
   ]
  },
  {
   "cell_type": "code",
   "execution_count": 56,
   "id": "f15a6ca5-fae4-4932-b1ea-0c8ae524b042",
   "metadata": {},
   "outputs": [
    {
     "name": "stdout",
     "output_type": "stream",
     "text": [
      "Model: \"sequential_7\"\n",
      "_________________________________________________________________\n",
      " Layer (type)                Output Shape              Param #   \n",
      "=================================================================\n",
      " conv1d_7 (Conv1D)           (None, 24, 12)            48        \n",
      "                                                                 \n",
      " flatten_7 (Flatten)         (None, 288)               0         \n",
      "                                                                 \n",
      " dense_28 (Dense)            (None, 64)                18496     \n",
      "                                                                 \n",
      " dense_29 (Dense)            (None, 64)                4160      \n",
      "                                                                 \n",
      " dense_30 (Dense)            (None, 16)                1040      \n",
      "                                                                 \n",
      " dense_31 (Dense)            (None, 1)                 17        \n",
      "                                                                 \n",
      "=================================================================\n",
      "Total params: 23,761\n",
      "Trainable params: 23,761\n",
      "Non-trainable params: 0\n",
      "_________________________________________________________________\n"
     ]
    }
   ],
   "source": [
    "model_uncomplete = create_model(window_size)\n",
    "\n",
    "model_uncomplete.summary()"
   ]
  },
  {
   "cell_type": "markdown",
   "id": "6ce8f22a-e791-4773-804f-def5c9b51eef",
   "metadata": {},
   "source": [
    "### Find lr"
   ]
  },
  {
   "cell_type": "code",
   "execution_count": 57,
   "id": "e6267ea4-3a08-48d3-a161-5b8f092d46b0",
   "metadata": {},
   "outputs": [
    {
     "name": "stdout",
     "output_type": "stream",
     "text": [
      "Epoch 1/140\n",
      "5/5 [==============================] - 1s 39ms/step - loss: 2.5221 - val_loss: 2.3281 - lr: 1.0000e-08\n",
      "Epoch 2/140\n",
      "5/5 [==============================] - 0s 9ms/step - loss: 2.5221 - val_loss: 2.3281 - lr: 1.1220e-08\n",
      "Epoch 3/140\n",
      "5/5 [==============================] - 0s 8ms/step - loss: 2.5221 - val_loss: 2.3281 - lr: 1.2589e-08\n",
      "Epoch 4/140\n",
      "5/5 [==============================] - 0s 8ms/step - loss: 2.5221 - val_loss: 2.3280 - lr: 1.4125e-08\n",
      "Epoch 5/140\n",
      "5/5 [==============================] - 0s 8ms/step - loss: 2.5220 - val_loss: 2.3280 - lr: 1.5849e-08\n",
      "Epoch 6/140\n",
      "5/5 [==============================] - 0s 9ms/step - loss: 2.5220 - val_loss: 2.3280 - lr: 1.7783e-08\n",
      "Epoch 7/140\n",
      "5/5 [==============================] - 0s 8ms/step - loss: 2.5220 - val_loss: 2.3279 - lr: 1.9953e-08\n",
      "Epoch 8/140\n",
      "5/5 [==============================] - 0s 8ms/step - loss: 2.5219 - val_loss: 2.3279 - lr: 2.2387e-08\n",
      "Epoch 9/140\n",
      "5/5 [==============================] - 0s 8ms/step - loss: 2.5219 - val_loss: 2.3278 - lr: 2.5119e-08\n",
      "Epoch 10/140\n",
      "5/5 [==============================] - 0s 7ms/step - loss: 2.5218 - val_loss: 2.3278 - lr: 2.8184e-08\n",
      "Epoch 11/140\n",
      "5/5 [==============================] - 0s 8ms/step - loss: 2.5218 - val_loss: 2.3277 - lr: 3.1623e-08\n",
      "Epoch 12/140\n",
      "5/5 [==============================] - 0s 7ms/step - loss: 2.5217 - val_loss: 2.3276 - lr: 3.5481e-08\n",
      "Epoch 13/140\n",
      "5/5 [==============================] - 0s 7ms/step - loss: 2.5216 - val_loss: 2.3276 - lr: 3.9811e-08\n",
      "Epoch 14/140\n",
      "5/5 [==============================] - 0s 8ms/step - loss: 2.5215 - val_loss: 2.3275 - lr: 4.4668e-08\n",
      "Epoch 15/140\n",
      "5/5 [==============================] - 0s 8ms/step - loss: 2.5214 - val_loss: 2.3274 - lr: 5.0119e-08\n",
      "Epoch 16/140\n",
      "5/5 [==============================] - 0s 8ms/step - loss: 2.5213 - val_loss: 2.3272 - lr: 5.6234e-08\n",
      "Epoch 17/140\n",
      "5/5 [==============================] - 0s 8ms/step - loss: 2.5212 - val_loss: 2.3271 - lr: 6.3096e-08\n",
      "Epoch 18/140\n",
      "5/5 [==============================] - 0s 8ms/step - loss: 2.5211 - val_loss: 2.3270 - lr: 7.0795e-08\n",
      "Epoch 19/140\n",
      "5/5 [==============================] - 0s 8ms/step - loss: 2.5209 - val_loss: 2.3268 - lr: 7.9433e-08\n",
      "Epoch 20/140\n",
      "5/5 [==============================] - 0s 9ms/step - loss: 2.5208 - val_loss: 2.3266 - lr: 8.9125e-08\n",
      "Epoch 21/140\n",
      "5/5 [==============================] - 0s 8ms/step - loss: 2.5206 - val_loss: 2.3264 - lr: 1.0000e-07\n",
      "Epoch 22/140\n",
      "5/5 [==============================] - 0s 8ms/step - loss: 2.5204 - val_loss: 2.3262 - lr: 1.1220e-07\n",
      "Epoch 23/140\n",
      "5/5 [==============================] - 0s 8ms/step - loss: 2.5201 - val_loss: 2.3259 - lr: 1.2589e-07\n",
      "Epoch 24/140\n",
      "5/5 [==============================] - 0s 10ms/step - loss: 2.5199 - val_loss: 2.3256 - lr: 1.4125e-07\n",
      "Epoch 25/140\n",
      "5/5 [==============================] - 0s 10ms/step - loss: 2.5195 - val_loss: 2.3253 - lr: 1.5849e-07\n",
      "Epoch 26/140\n",
      "5/5 [==============================] - 0s 8ms/step - loss: 2.5192 - val_loss: 2.3249 - lr: 1.7783e-07\n",
      "Epoch 27/140\n",
      "5/5 [==============================] - 0s 8ms/step - loss: 2.5188 - val_loss: 2.3244 - lr: 1.9953e-07\n",
      "Epoch 28/140\n",
      "5/5 [==============================] - 0s 8ms/step - loss: 2.5184 - val_loss: 2.3240 - lr: 2.2387e-07\n",
      "Epoch 29/140\n",
      "5/5 [==============================] - 0s 9ms/step - loss: 2.5179 - val_loss: 2.3234 - lr: 2.5119e-07\n",
      "Epoch 30/140\n",
      "5/5 [==============================] - 0s 8ms/step - loss: 2.5174 - val_loss: 2.3228 - lr: 2.8184e-07\n",
      "Epoch 31/140\n",
      "5/5 [==============================] - 0s 8ms/step - loss: 2.5168 - val_loss: 2.3221 - lr: 3.1623e-07\n",
      "Epoch 32/140\n",
      "5/5 [==============================] - 0s 9ms/step - loss: 2.5161 - val_loss: 2.3214 - lr: 3.5481e-07\n",
      "Epoch 33/140\n",
      "5/5 [==============================] - 0s 10ms/step - loss: 2.5153 - val_loss: 2.3205 - lr: 3.9811e-07\n",
      "Epoch 34/140\n",
      "5/5 [==============================] - 0s 8ms/step - loss: 2.5145 - val_loss: 2.3196 - lr: 4.4668e-07\n",
      "Epoch 35/140\n",
      "5/5 [==============================] - 0s 7ms/step - loss: 2.5135 - val_loss: 2.3185 - lr: 5.0119e-07\n",
      "Epoch 36/140\n",
      "5/5 [==============================] - 0s 8ms/step - loss: 2.5125 - val_loss: 2.3173 - lr: 5.6234e-07\n",
      "Epoch 37/140\n",
      "5/5 [==============================] - 0s 7ms/step - loss: 2.5112 - val_loss: 2.3160 - lr: 6.3096e-07\n",
      "Epoch 38/140\n",
      "5/5 [==============================] - 0s 8ms/step - loss: 2.5099 - val_loss: 2.3145 - lr: 7.0795e-07\n",
      "Epoch 39/140\n",
      "5/5 [==============================] - 0s 8ms/step - loss: 2.5084 - val_loss: 2.3128 - lr: 7.9433e-07\n",
      "Epoch 40/140\n",
      "5/5 [==============================] - 0s 9ms/step - loss: 2.5067 - val_loss: 2.3109 - lr: 8.9125e-07\n",
      "Epoch 41/140\n",
      "5/5 [==============================] - 0s 10ms/step - loss: 2.5048 - val_loss: 2.3087 - lr: 1.0000e-06\n",
      "Epoch 42/140\n",
      "5/5 [==============================] - 0s 17ms/step - loss: 2.5026 - val_loss: 2.3063 - lr: 1.1220e-06\n",
      "Epoch 43/140\n",
      "5/5 [==============================] - 0s 12ms/step - loss: 2.5002 - val_loss: 2.3035 - lr: 1.2589e-06\n",
      "Epoch 44/140\n",
      "5/5 [==============================] - 0s 12ms/step - loss: 2.4975 - val_loss: 2.3004 - lr: 1.4125e-06\n",
      "Epoch 45/140\n",
      "5/5 [==============================] - 0s 8ms/step - loss: 2.4944 - val_loss: 2.2969 - lr: 1.5849e-06\n",
      "Epoch 46/140\n",
      "5/5 [==============================] - 0s 9ms/step - loss: 2.4909 - val_loss: 2.2930 - lr: 1.7783e-06\n",
      "Epoch 47/140\n",
      "5/5 [==============================] - 0s 8ms/step - loss: 2.4869 - val_loss: 2.2887 - lr: 1.9953e-06\n",
      "Epoch 48/140\n",
      "5/5 [==============================] - 0s 9ms/step - loss: 2.4825 - val_loss: 2.2837 - lr: 2.2387e-06\n",
      "Epoch 49/140\n",
      "5/5 [==============================] - 0s 9ms/step - loss: 2.4776 - val_loss: 2.2781 - lr: 2.5119e-06\n",
      "Epoch 50/140\n",
      "5/5 [==============================] - 0s 8ms/step - loss: 2.4719 - val_loss: 2.2718 - lr: 2.8184e-06\n",
      "Epoch 51/140\n",
      "5/5 [==============================] - 0s 8ms/step - loss: 2.4657 - val_loss: 2.2647 - lr: 3.1623e-06\n",
      "Epoch 52/140\n",
      "5/5 [==============================] - 0s 9ms/step - loss: 2.4586 - val_loss: 2.2567 - lr: 3.5481e-06\n",
      "Epoch 53/140\n",
      "5/5 [==============================] - 0s 8ms/step - loss: 2.4505 - val_loss: 2.2476 - lr: 3.9811e-06\n",
      "Epoch 54/140\n",
      "5/5 [==============================] - 0s 9ms/step - loss: 2.4413 - val_loss: 2.2373 - lr: 4.4668e-06\n",
      "Epoch 55/140\n",
      "5/5 [==============================] - 0s 9ms/step - loss: 2.4308 - val_loss: 2.2256 - lr: 5.0119e-06\n",
      "Epoch 56/140\n",
      "5/5 [==============================] - 0s 8ms/step - loss: 2.4189 - val_loss: 2.2125 - lr: 5.6234e-06\n",
      "Epoch 57/140\n",
      "5/5 [==============================] - 0s 8ms/step - loss: 2.4054 - val_loss: 2.1974 - lr: 6.3096e-06\n",
      "Epoch 58/140\n",
      "5/5 [==============================] - 0s 8ms/step - loss: 2.3899 - val_loss: 2.1804 - lr: 7.0795e-06\n",
      "Epoch 59/140\n",
      "5/5 [==============================] - 0s 9ms/step - loss: 2.3724 - val_loss: 2.1612 - lr: 7.9433e-06\n",
      "Epoch 60/140\n",
      "5/5 [==============================] - 0s 8ms/step - loss: 2.3526 - val_loss: 2.1392 - lr: 8.9125e-06\n",
      "Epoch 61/140\n",
      "5/5 [==============================] - 0s 8ms/step - loss: 2.3299 - val_loss: 2.1142 - lr: 1.0000e-05\n",
      "Epoch 62/140\n",
      "5/5 [==============================] - 0s 7ms/step - loss: 2.3038 - val_loss: 2.0856 - lr: 1.1220e-05\n",
      "Epoch 63/140\n",
      "5/5 [==============================] - 0s 7ms/step - loss: 2.2743 - val_loss: 2.0527 - lr: 1.2589e-05\n",
      "Epoch 64/140\n",
      "5/5 [==============================] - 0s 7ms/step - loss: 2.2399 - val_loss: 2.0154 - lr: 1.4125e-05\n",
      "Epoch 65/140\n",
      "5/5 [==============================] - 0s 7ms/step - loss: 2.2005 - val_loss: 1.9723 - lr: 1.5849e-05\n",
      "Epoch 66/140\n",
      "5/5 [==============================] - 0s 7ms/step - loss: 2.1549 - val_loss: 1.9240 - lr: 1.7783e-05\n",
      "Epoch 67/140\n",
      "5/5 [==============================] - 0s 7ms/step - loss: 2.1035 - val_loss: 1.8675 - lr: 1.9953e-05\n",
      "Epoch 68/140\n",
      "5/5 [==============================] - 0s 7ms/step - loss: 2.0425 - val_loss: 1.8008 - lr: 2.2387e-05\n",
      "Epoch 69/140\n",
      "5/5 [==============================] - 0s 7ms/step - loss: 1.9712 - val_loss: 1.7200 - lr: 2.5119e-05\n",
      "Epoch 70/140\n",
      "5/5 [==============================] - 0s 8ms/step - loss: 1.8859 - val_loss: 1.6236 - lr: 2.8184e-05\n",
      "Epoch 71/140\n",
      "5/5 [==============================] - 0s 8ms/step - loss: 1.7833 - val_loss: 1.5088 - lr: 3.1623e-05\n",
      "Epoch 72/140\n",
      "5/5 [==============================] - 0s 9ms/step - loss: 1.6579 - val_loss: 1.3701 - lr: 3.5481e-05\n",
      "Epoch 73/140\n",
      "5/5 [==============================] - 0s 9ms/step - loss: 1.5069 - val_loss: 1.2012 - lr: 3.9811e-05\n",
      "Epoch 74/140\n",
      "5/5 [==============================] - 0s 8ms/step - loss: 1.3237 - val_loss: 1.0064 - lr: 4.4668e-05\n",
      "Epoch 75/140\n",
      "5/5 [==============================] - 0s 9ms/step - loss: 1.1053 - val_loss: 0.8349 - lr: 5.0119e-05\n",
      "Epoch 76/140\n",
      "5/5 [==============================] - 0s 8ms/step - loss: 0.8558 - val_loss: 0.7451 - lr: 5.6234e-05\n",
      "Epoch 77/140\n",
      "5/5 [==============================] - 0s 7ms/step - loss: 0.6161 - val_loss: 0.7289 - lr: 6.3096e-05\n",
      "Epoch 78/140\n",
      "5/5 [==============================] - 0s 8ms/step - loss: 0.4677 - val_loss: 0.7681 - lr: 7.0795e-05\n",
      "Epoch 79/140\n",
      "5/5 [==============================] - 0s 9ms/step - loss: 0.4826 - val_loss: 0.8135 - lr: 7.9433e-05\n",
      "Epoch 80/140\n",
      "5/5 [==============================] - 0s 7ms/step - loss: 0.5070 - val_loss: 0.7935 - lr: 8.9125e-05\n",
      "Epoch 81/140\n",
      "5/5 [==============================] - 0s 7ms/step - loss: 0.4722 - val_loss: 0.7512 - lr: 1.0000e-04\n",
      "Epoch 82/140\n",
      "5/5 [==============================] - 0s 7ms/step - loss: 0.4533 - val_loss: 0.7225 - lr: 1.1220e-04\n",
      "Epoch 83/140\n",
      "5/5 [==============================] - 0s 7ms/step - loss: 0.4502 - val_loss: 0.7097 - lr: 1.2589e-04\n",
      "Epoch 84/140\n",
      "5/5 [==============================] - 0s 7ms/step - loss: 0.4464 - val_loss: 0.7106 - lr: 1.4125e-04\n",
      "Epoch 85/140\n",
      "5/5 [==============================] - 0s 8ms/step - loss: 0.4386 - val_loss: 0.7157 - lr: 1.5849e-04\n",
      "Epoch 86/140\n",
      "5/5 [==============================] - 0s 8ms/step - loss: 0.4454 - val_loss: 0.7068 - lr: 1.7783e-04\n",
      "Epoch 87/140\n",
      "5/5 [==============================] - 0s 8ms/step - loss: 0.4272 - val_loss: 0.6716 - lr: 1.9953e-04\n",
      "Epoch 88/140\n",
      "5/5 [==============================] - 0s 8ms/step - loss: 0.4703 - val_loss: 0.6696 - lr: 2.2387e-04\n",
      "Epoch 89/140\n",
      "5/5 [==============================] - 0s 8ms/step - loss: 0.4596 - val_loss: 0.6615 - lr: 2.5119e-04\n",
      "Epoch 90/140\n",
      "5/5 [==============================] - 0s 8ms/step - loss: 0.4178 - val_loss: 0.6798 - lr: 2.8184e-04\n",
      "Epoch 91/140\n",
      "5/5 [==============================] - 0s 8ms/step - loss: 0.4560 - val_loss: 0.7017 - lr: 3.1623e-04\n",
      "Epoch 92/140\n",
      "5/5 [==============================] - 0s 7ms/step - loss: 0.4429 - val_loss: 0.6213 - lr: 3.5481e-04\n",
      "Epoch 93/140\n",
      "5/5 [==============================] - 0s 7ms/step - loss: 0.4466 - val_loss: 0.6001 - lr: 3.9811e-04\n",
      "Epoch 94/140\n",
      "5/5 [==============================] - 0s 8ms/step - loss: 0.4191 - val_loss: 0.6191 - lr: 4.4668e-04\n",
      "Epoch 95/140\n",
      "5/5 [==============================] - 0s 7ms/step - loss: 0.4099 - val_loss: 0.5725 - lr: 5.0119e-04\n",
      "Epoch 96/140\n",
      "5/5 [==============================] - 0s 7ms/step - loss: 0.4430 - val_loss: 0.5511 - lr: 5.6234e-04\n",
      "Epoch 97/140\n",
      "5/5 [==============================] - 0s 7ms/step - loss: 0.4037 - val_loss: 0.6209 - lr: 6.3096e-04\n",
      "Epoch 98/140\n",
      "5/5 [==============================] - 0s 7ms/step - loss: 0.4306 - val_loss: 0.5485 - lr: 7.0795e-04\n",
      "Epoch 99/140\n",
      "5/5 [==============================] - 0s 7ms/step - loss: 0.3922 - val_loss: 0.5492 - lr: 7.9433e-04\n",
      "Epoch 100/140\n",
      "5/5 [==============================] - 0s 7ms/step - loss: 0.3956 - val_loss: 0.5283 - lr: 8.9125e-04\n",
      "Epoch 101/140\n",
      "5/5 [==============================] - 0s 15ms/step - loss: 0.3879 - val_loss: 0.4601 - lr: 0.0010\n",
      "Epoch 102/140\n",
      "5/5 [==============================] - 0s 10ms/step - loss: 0.4129 - val_loss: 0.5053 - lr: 0.0011\n",
      "Epoch 103/140\n",
      "5/5 [==============================] - 0s 9ms/step - loss: 0.3620 - val_loss: 0.4401 - lr: 0.0013\n",
      "Epoch 104/140\n",
      "5/5 [==============================] - 0s 8ms/step - loss: 0.3470 - val_loss: 0.4408 - lr: 0.0014\n",
      "Epoch 105/140\n",
      "5/5 [==============================] - 0s 8ms/step - loss: 0.3525 - val_loss: 0.4059 - lr: 0.0016\n",
      "Epoch 106/140\n",
      "5/5 [==============================] - 0s 8ms/step - loss: 0.3593 - val_loss: 0.3633 - lr: 0.0018\n",
      "Epoch 107/140\n",
      "5/5 [==============================] - 0s 8ms/step - loss: 0.3357 - val_loss: 0.3994 - lr: 0.0020\n",
      "Epoch 108/140\n",
      "5/5 [==============================] - 0s 7ms/step - loss: 0.3861 - val_loss: 0.4697 - lr: 0.0022\n",
      "Epoch 109/140\n",
      "5/5 [==============================] - 0s 8ms/step - loss: 0.4418 - val_loss: 0.5206 - lr: 0.0025\n",
      "Epoch 110/140\n",
      "5/5 [==============================] - 0s 8ms/step - loss: 0.3874 - val_loss: 0.4507 - lr: 0.0028\n",
      "Epoch 111/140\n",
      "5/5 [==============================] - 0s 8ms/step - loss: 0.4535 - val_loss: 0.5331 - lr: 0.0032\n",
      "Epoch 112/140\n",
      "5/5 [==============================] - 0s 8ms/step - loss: 0.3800 - val_loss: 0.6193 - lr: 0.0035\n",
      "Epoch 113/140\n",
      "5/5 [==============================] - 0s 7ms/step - loss: 0.4819 - val_loss: 0.8398 - lr: 0.0040\n",
      "Epoch 114/140\n",
      "5/5 [==============================] - 0s 8ms/step - loss: 0.5639 - val_loss: 0.5682 - lr: 0.0045\n",
      "Epoch 115/140\n",
      "5/5 [==============================] - 0s 7ms/step - loss: 0.4437 - val_loss: 0.5816 - lr: 0.0050\n",
      "Epoch 116/140\n",
      "5/5 [==============================] - 0s 7ms/step - loss: 0.5949 - val_loss: 0.5926 - lr: 0.0056\n",
      "Epoch 117/140\n",
      "5/5 [==============================] - 0s 8ms/step - loss: 0.4512 - val_loss: 0.5102 - lr: 0.0063\n",
      "Epoch 118/140\n",
      "5/5 [==============================] - 0s 9ms/step - loss: 0.3611 - val_loss: 0.4320 - lr: 0.0071\n",
      "Epoch 119/140\n",
      "5/5 [==============================] - 0s 9ms/step - loss: 0.3837 - val_loss: 0.9444 - lr: 0.0079\n",
      "Epoch 120/140\n",
      "5/5 [==============================] - 0s 10ms/step - loss: 0.6391 - val_loss: 0.4346 - lr: 0.0089\n",
      "Epoch 121/140\n",
      "5/5 [==============================] - 0s 10ms/step - loss: 0.5109 - val_loss: 0.5115 - lr: 0.0100\n",
      "Epoch 122/140\n",
      "5/5 [==============================] - 0s 9ms/step - loss: 0.5259 - val_loss: 0.5818 - lr: 0.0112\n",
      "Epoch 123/140\n",
      "5/5 [==============================] - 0s 8ms/step - loss: 0.4150 - val_loss: 0.5134 - lr: 0.0126\n",
      "Epoch 124/140\n",
      "5/5 [==============================] - 0s 8ms/step - loss: 0.4520 - val_loss: 0.4877 - lr: 0.0141\n",
      "Epoch 125/140\n",
      "5/5 [==============================] - 0s 7ms/step - loss: 0.4560 - val_loss: 0.4326 - lr: 0.0158\n",
      "Epoch 126/140\n",
      "5/5 [==============================] - 0s 8ms/step - loss: 0.4268 - val_loss: 0.4557 - lr: 0.0178\n",
      "Epoch 127/140\n",
      "5/5 [==============================] - 0s 7ms/step - loss: 0.3181 - val_loss: 0.5524 - lr: 0.0200\n",
      "Epoch 128/140\n",
      "5/5 [==============================] - 0s 7ms/step - loss: 0.6058 - val_loss: 0.5009 - lr: 0.0224\n",
      "Epoch 129/140\n",
      "5/5 [==============================] - 0s 8ms/step - loss: 0.5325 - val_loss: 0.5726 - lr: 0.0251\n",
      "Epoch 130/140\n",
      "5/5 [==============================] - 0s 8ms/step - loss: 0.5316 - val_loss: 0.6302 - lr: 0.0282\n",
      "Epoch 131/140\n",
      "5/5 [==============================] - 0s 8ms/step - loss: 0.5121 - val_loss: 0.5731 - lr: 0.0316\n",
      "Epoch 132/140\n",
      "5/5 [==============================] - 0s 7ms/step - loss: 0.4716 - val_loss: 0.5016 - lr: 0.0355\n",
      "Epoch 133/140\n",
      "5/5 [==============================] - 0s 7ms/step - loss: 0.7809 - val_loss: 0.8431 - lr: 0.0398\n",
      "Epoch 134/140\n",
      "5/5 [==============================] - 0s 8ms/step - loss: 1.0897 - val_loss: 1.3791 - lr: 0.0447\n",
      "Epoch 135/140\n",
      "5/5 [==============================] - 0s 7ms/step - loss: 0.8901 - val_loss: 0.6440 - lr: 0.0501\n",
      "Epoch 136/140\n",
      "5/5 [==============================] - 0s 7ms/step - loss: 1.4677 - val_loss: 0.9384 - lr: 0.0562\n",
      "Epoch 137/140\n",
      "5/5 [==============================] - 0s 7ms/step - loss: 0.8116 - val_loss: 0.6734 - lr: 0.0631\n",
      "Epoch 138/140\n",
      "5/5 [==============================] - 0s 7ms/step - loss: 0.5654 - val_loss: 0.6913 - lr: 0.0708\n",
      "Epoch 139/140\n",
      "5/5 [==============================] - 0s 7ms/step - loss: 0.6806 - val_loss: 0.9393 - lr: 0.0794\n",
      "Epoch 140/140\n",
      "5/5 [==============================] - 0s 7ms/step - loss: 0.9561 - val_loss: 1.1675 - lr: 0.0891\n"
     ]
    }
   ],
   "source": [
    "# Set the learning rate scheduler\n",
    "lr_schedule = tf.keras.callbacks.LearningRateScheduler(\n",
    "    lambda epoch: 1e-8 * 10**(epoch / 20))\n",
    "\n",
    "# Initialize the optimizer\n",
    "optimizer = tf.keras.optimizers.Adam()\n",
    "\n",
    "# Set the training parameters\n",
    "model_uncomplete.compile(loss='mae', optimizer=optimizer)\n",
    "\n",
    "# Train the model\n",
    "history = model_uncomplete.fit(X_train, y_train, validation_data=(X_val, y_val), epochs=140, callbacks=[lr_schedule])"
   ]
  },
  {
   "cell_type": "code",
   "execution_count": 58,
   "id": "5e4fa6cc-894c-4c06-bb28-63b13647973d",
   "metadata": {},
   "outputs": [
    {
     "data": {
      "image/png": "[encoded data removed]",
      "text/plain": [
       "<Figure size 1000x600 with 1 Axes>"
      ]
     },
     "metadata": {},
     "output_type": "display_data"
    }
   ],
   "source": [
    "# Define the learning rate array\n",
    "lrs = 1e-8 * (10 ** (np.arange(140) / 20))\n",
    "\n",
    "# Set the figure size\n",
    "plt.figure(figsize=(10, 6))\n",
    "\n",
    "# Set the grid\n",
    "plt.grid(True)\n",
    "\n",
    "# Plot the loss in log scale\n",
    "plt.semilogx(lrs, history.history[\"loss\"])\n",
    "\n",
    "# Increase the tickmarks size\n",
    "plt.tick_params('both', length=10, width=1, which='both')\n",
    "\n",
    "# Set the plot boundaries\n",
    "# plt.axis([1e-8, 1e-3, 0, 50])"
   ]
  },
  {
   "cell_type": "markdown",
   "id": "c50505ea-69fc-4d6c-a838-4caaa32b9ae7",
   "metadata": {
    "jp-MarkdownHeadingCollapsed": true
   },
   "source": [
    "### Fit model 2"
   ]
  },
  {
   "cell_type": "code",
   "execution_count": null,
   "id": "5e8a2841-1065-4b25-9032-ea2cdf6a9c15",
   "metadata": {},
   "outputs": [],
   "source": [
    "model.compile(optimizer='adam', loss='mae', metrics=['mae'])"
   ]
  },
  {
   "cell_type": "code",
   "execution_count": null,
   "id": "1d5e64bb-f906-43f4-b6f8-9da10198497d",
   "metadata": {},
   "outputs": [],
   "source": [
    "early_stopping = EarlyStopping(monitor='val_loss', patience=10, restore_best_weights=True)\n",
    "history = model.fit(X_train, y_train, \n",
    "                    validation_data=(X_val, y_val), \n",
    "                    epochs=100, \n",
    "                    batch_size=16, \n",
    "                    callbacks=[early_stopping], \n",
    "                    verbose=1)"
   ]
  },
  {
   "cell_type": "markdown",
   "id": "1781ad40-8686-4314-91ee-ff3a194cfb6e",
   "metadata": {},
   "source": [
    "### fit model 1"
   ]
  },
  {
   "cell_type": "code",
   "execution_count": 59,
   "id": "30a57025-c2ed-4312-82d8-a2b2e29038cc",
   "metadata": {},
   "outputs": [],
   "source": [
    "def custom_mape(y_true, y_pred):\n",
    "    return tf.reduce_mean(tf.abs((y_true - y_pred) / y_true)) * 100"
   ]
  },
  {
   "cell_type": "code",
   "execution_count": 60,
   "id": "725267d3-2d64-4a20-b456-ee37033d92b0",
   "metadata": {},
   "outputs": [],
   "source": [
    "class myCallback(tf.keras.callbacks.Callback):\n",
    "    def on_epoch_end(self, epoch, logs=None):\n",
    "        # Check the loss\n",
    "        if logs['val_custom_mape'] < 7:\n",
    "            # Stop if threshold is met\n",
    "            print(\"\\MAPE is lower than 7% so cancelling training!\")\n",
    "            self.model.stop_training = True"
   ]
  },
  {
   "cell_type": "code",
   "execution_count": 61,
   "id": "f09f5b80-3f93-4882-8ff4-fdcc8d50d2f5",
   "metadata": {},
   "outputs": [],
   "source": [
    "# Training Parameters\n",
    "model = create_model(window_size)\n",
    "optimizer = tf.keras.optimizers.Adam(learning_rate=0.0018)\n",
    "model.compile(optimizer=optimizer, loss='mae', metrics=[custom_mape])"
   ]
  },
  {
   "cell_type": "code",
   "execution_count": 62,
   "id": "83a7ce80-ab2c-4463-95c4-468b58d306e0",
   "metadata": {},
   "outputs": [
    {
     "name": "stdout",
     "output_type": "stream",
     "text": [
      "Epoch 1/200\n",
      "33/33 [==============================] - 1s 7ms/step - loss: 0.5458 - custom_mape: 18.4449 - val_loss: 0.8350 - val_custom_mape: 34.6149\n",
      "Epoch 2/200\n",
      "33/33 [==============================] - 0s 2ms/step - loss: 0.6383 - custom_mape: 22.2010 - val_loss: 0.7405 - val_custom_mape: 28.5234\n",
      "Epoch 3/200\n",
      "33/33 [==============================] - 0s 2ms/step - loss: 0.5124 - custom_mape: 17.3956 - val_loss: 0.6187 - val_custom_mape: 20.6049\n",
      "Epoch 4/200\n",
      "33/33 [==============================] - 0s 2ms/step - loss: 0.4191 - custom_mape: 14.2514 - val_loss: 0.6116 - val_custom_mape: 22.4088\n",
      "Epoch 5/200\n",
      "33/33 [==============================] - 0s 2ms/step - loss: 0.4212 - custom_mape: 14.3794 - val_loss: 0.5011 - val_custom_mape: 16.3949\n",
      "Epoch 6/200\n",
      "33/33 [==============================] - 0s 2ms/step - loss: 0.3868 - custom_mape: 13.1818 - val_loss: 0.5991 - val_custom_mape: 24.6618\n",
      "Epoch 7/200\n",
      "33/33 [==============================] - 0s 2ms/step - loss: 0.4811 - custom_mape: 16.2336 - val_loss: 0.4553 - val_custom_mape: 15.3072\n",
      "Epoch 8/200\n",
      "33/33 [==============================] - 0s 2ms/step - loss: 0.4180 - custom_mape: 14.1574 - val_loss: 0.4800 - val_custom_mape: 17.4543\n",
      "Epoch 9/200\n",
      "33/33 [==============================] - 0s 2ms/step - loss: 0.3207 - custom_mape: 11.0600 - val_loss: 0.3777 - val_custom_mape: 12.6393\n",
      "Epoch 10/200\n",
      "33/33 [==============================] - 0s 3ms/step - loss: 0.2906 - custom_mape: 9.8242 - val_loss: 0.3523 - val_custom_mape: 12.3236\n",
      "Epoch 11/200\n",
      "33/33 [==============================] - 0s 2ms/step - loss: 0.2955 - custom_mape: 9.9161 - val_loss: 0.3221 - val_custom_mape: 10.5607\n",
      "Epoch 12/200\n",
      "33/33 [==============================] - 0s 2ms/step - loss: 0.2940 - custom_mape: 10.0853 - val_loss: 0.4103 - val_custom_mape: 16.2212\n",
      "Epoch 13/200\n",
      "33/33 [==============================] - 0s 2ms/step - loss: 0.2520 - custom_mape: 8.7384 - val_loss: 0.4304 - val_custom_mape: 17.6504\n",
      "Epoch 14/200\n",
      "33/33 [==============================] - 0s 2ms/step - loss: 0.3351 - custom_mape: 11.6768 - val_loss: 0.3688 - val_custom_mape: 14.0617\n",
      "Epoch 15/200\n",
      "33/33 [==============================] - 0s 2ms/step - loss: 0.2553 - custom_mape: 8.7622 - val_loss: 0.2913 - val_custom_mape: 9.0731\n",
      "Epoch 16/200\n",
      "33/33 [==============================] - 0s 3ms/step - loss: 0.2563 - custom_mape: 8.8655 - val_loss: 0.2604 - val_custom_mape: 8.4281\n",
      "Epoch 17/200\n",
      "33/33 [==============================] - 0s 3ms/step - loss: 0.2722 - custom_mape: 9.3816 - val_loss: 0.3329 - val_custom_mape: 12.7240\n",
      "Epoch 18/200\n",
      "33/33 [==============================] - 0s 4ms/step - loss: 0.2239 - custom_mape: 7.7443 - val_loss: 0.2613 - val_custom_mape: 8.6078\n",
      "Epoch 19/200\n",
      "33/33 [==============================] - 0s 2ms/step - loss: 0.2455 - custom_mape: 8.6697 - val_loss: 0.3574 - val_custom_mape: 14.0442\n",
      "Epoch 20/200\n",
      "33/33 [==============================] - 0s 2ms/step - loss: 0.2456 - custom_mape: 8.8238 - val_loss: 0.3460 - val_custom_mape: 12.4891\n",
      "Epoch 21/200\n",
      "33/33 [==============================] - 0s 4ms/step - loss: 0.2189 - custom_mape: 7.7340 - val_loss: 0.2488 - val_custom_mape: 8.3126\n",
      "Epoch 22/200\n",
      "33/33 [==============================] - 0s 2ms/step - loss: 0.2025 - custom_mape: 7.0392 - val_loss: 0.2326 - val_custom_mape: 7.7072\n",
      "Epoch 23/200\n",
      "33/33 [==============================] - 0s 2ms/step - loss: 0.2079 - custom_mape: 7.2608 - val_loss: 0.2728 - val_custom_mape: 9.5952\n",
      "Epoch 24/200\n",
      "33/33 [==============================] - 0s 4ms/step - loss: 0.2211 - custom_mape: 7.6261 - val_loss: 0.2893 - val_custom_mape: 10.3271\n",
      "Epoch 25/200\n",
      "33/33 [==============================] - 0s 3ms/step - loss: 0.3045 - custom_mape: 10.2725 - val_loss: 0.2861 - val_custom_mape: 9.0651\n",
      "Epoch 26/200\n",
      "33/33 [==============================] - 0s 2ms/step - loss: 0.2274 - custom_mape: 7.9558 - val_loss: 0.3085 - val_custom_mape: 11.4551\n",
      "Epoch 27/200\n",
      "33/33 [==============================] - 0s 2ms/step - loss: 0.2536 - custom_mape: 8.7457 - val_loss: 0.2579 - val_custom_mape: 7.8011\n",
      "Epoch 28/200\n",
      "33/33 [==============================] - 0s 2ms/step - loss: 0.2715 - custom_mape: 9.7191 - val_loss: 0.5049 - val_custom_mape: 21.0509\n",
      "Epoch 29/200\n",
      "33/33 [==============================] - 0s 2ms/step - loss: 0.2902 - custom_mape: 10.1493 - val_loss: 0.2945 - val_custom_mape: 10.9689\n",
      "Epoch 30/200\n",
      "33/33 [==============================] - 0s 2ms/step - loss: 0.1986 - custom_mape: 6.8789 - val_loss: 0.2902 - val_custom_mape: 11.0950\n",
      "Epoch 31/200\n",
      "33/33 [==============================] - 0s 2ms/step - loss: 0.1861 - custom_mape: 6.5232 - val_loss: 0.2311 - val_custom_mape: 7.8597\n",
      "Epoch 32/200\n",
      "33/33 [==============================] - 0s 2ms/step - loss: 0.1834 - custom_mape: 6.3568 - val_loss: 0.2679 - val_custom_mape: 9.8390\n",
      "Epoch 33/200\n",
      "33/33 [==============================] - 0s 3ms/step - loss: 0.2274 - custom_mape: 7.9887 - val_loss: 0.2665 - val_custom_mape: 9.4841\n",
      "Epoch 34/200\n",
      "33/33 [==============================] - 0s 2ms/step - loss: 0.1863 - custom_mape: 6.6529 - val_loss: 0.3193 - val_custom_mape: 11.8555\n",
      "Epoch 35/200\n",
      "33/33 [==============================] - 0s 2ms/step - loss: 0.2385 - custom_mape: 8.2699 - val_loss: 0.3528 - val_custom_mape: 13.3522\n",
      "Epoch 36/200\n",
      "33/33 [==============================] - 0s 2ms/step - loss: 0.1784 - custom_mape: 6.2888 - val_loss: 0.2597 - val_custom_mape: 9.0180\n",
      "Epoch 37/200\n",
      "33/33 [==============================] - 0s 2ms/step - loss: 0.2408 - custom_mape: 8.4490 - val_loss: 0.2649 - val_custom_mape: 9.6828\n",
      "Epoch 38/200\n",
      "33/33 [==============================] - 0s 2ms/step - loss: 0.1743 - custom_mape: 6.0534 - val_loss: 0.2318 - val_custom_mape: 7.6665\n",
      "Epoch 39/200\n",
      "33/33 [==============================] - 0s 3ms/step - loss: 0.1694 - custom_mape: 5.9583 - val_loss: 0.2286 - val_custom_mape: 7.4775\n",
      "Epoch 40/200\n",
      "33/33 [==============================] - 0s 3ms/step - loss: 0.1820 - custom_mape: 6.3667 - val_loss: 0.2213 - val_custom_mape: 7.0595\n",
      "Epoch 41/200\n",
      "33/33 [==============================] - 0s 2ms/step - loss: 0.1938 - custom_mape: 6.8590 - val_loss: 0.2459 - val_custom_mape: 8.1360\n",
      "Epoch 42/200\n",
      "33/33 [==============================] - 0s 2ms/step - loss: 0.1875 - custom_mape: 6.6407 - val_loss: 0.3313 - val_custom_mape: 12.5150\n",
      "Epoch 43/200\n",
      "33/33 [==============================] - 0s 2ms/step - loss: 0.1978 - custom_mape: 6.9810 - val_loss: 0.2728 - val_custom_mape: 9.8234\n",
      "Epoch 44/200\n",
      " 1/33 [..............................] - ETA: 0s - loss: 0.2564 - custom_mape: 6.9990\\MAPE is lower than 7% so cancelling training!\n",
      "33/33 [==============================] - 0s 2ms/step - loss: 0.1870 - custom_mape: 6.5089 - val_loss: 0.2137 - val_custom_mape: 6.7175\n"
     ]
    }
   ],
   "source": [
    "# Model Training\n",
    "history = model.fit(X_train, y_train, validation_data=(X_val, y_val), epochs=200, batch_size=4, verbose=1, callbacks=[myCallback()])"
   ]
  },
  {
   "cell_type": "markdown",
   "id": "f028bfb1-5802-454a-a96c-5099a4a6b94d",
   "metadata": {},
   "source": [
    "### Visualisasi loss"
   ]
  },
  {
   "cell_type": "code",
   "execution_count": 63,
   "id": "1c7d9be8-c33e-4055-aa77-d4f425296985",
   "metadata": {},
   "outputs": [
    {
     "data": {
      "image/png": "[encoded data removed]",
      "text/plain": [
       "<Figure size 1000x500 with 1 Axes>"
      ]
     },
     "metadata": {},
     "output_type": "display_data"
    }
   ],
   "source": [
    "plt.figure(figsize=(10, 5))\n",
    "plt.plot(history.history['loss'], label='Training Loss')\n",
    "plt.plot(history.history['val_loss'], label='Validation Loss')\n",
    "plt.title('Model Loss')\n",
    "plt.xlabel('Epochs')\n",
    "plt.ylabel('Loss')\n",
    "plt.legend()\n",
    "plt.grid(True)\n",
    "plt.show()"
   ]
  },
  {
   "cell_type": "markdown",
   "id": "5e1b4fad-7b8f-45a6-a296-449f16a27417",
   "metadata": {
    "jp-MarkdownHeadingCollapsed": true
   },
   "source": [
    "### Noise Dataset"
   ]
  },
  {
   "cell_type": "code",
   "execution_count": null,
   "id": "02ad9289-7be8-4232-b020-22d78c1b7231",
   "metadata": {},
   "outputs": [],
   "source": [
    "# Data Augmentation (di sini pakai Random Noise)\n",
    "# tambah random noise ke training data\n",
    "noise = np.random.normal(0, 0.1, X_train.shape)\n",
    "X_train_noisy = X_train + noise\n",
    "model.fit(X_train_noisy, y_train, epochs=50, batch_size=32, validation_split=0.2, callbacks=[early_stopping])"
   ]
  },
  {
   "cell_type": "code",
   "execution_count": null,
   "id": "bc2d7aec-8ad8-4312-a5f1-2d469844122e",
   "metadata": {},
   "outputs": [],
   "source": [
    "plt.figure(figsize=(10, 5))\n",
    "plt.plot(history.history['loss'], label='Training Loss')\n",
    "plt.plot(history.history['val_loss'], label='Validation Loss')\n",
    "plt.title('Model Loss')\n",
    "plt.xlabel('Epochs')\n",
    "plt.ylabel('Loss')\n",
    "plt.legend()\n",
    "plt.grid(True)\n",
    "plt.show()"
   ]
  },
  {
   "cell_type": "markdown",
   "id": "dc25f842-076a-473c-90dc-e17c9a6577c7",
   "metadata": {
    "jp-MarkdownHeadingCollapsed": true
   },
   "source": [
    "### Regularization"
   ]
  },
  {
   "cell_type": "code",
   "execution_count": null,
   "id": "1ab8a038-6e77-46ba-96e8-b9b84881765d",
   "metadata": {},
   "outputs": [],
   "source": [
    "# Regularization (L2 Regularization)\n",
    "model = keras.Sequential()\n",
    "model.add(LSTM(128, activation='relu', return_sequences=True, input_shape=(WINDOW_SIZE, 1), kernel_regularizer=l2(0.01)))\n",
    "model.add(LSTM(128, activation='relu', return_sequences=True, kernel_regularizer=l2(0.01)))\n",
    "model.add(LSTM(128, activation='relu', kernel_regularizer=l2(0.01)))\n",
    "model.add(Dense(64, activation='relu', kernel_regularizer=l2(0.01)))\n",
    "model.add(Dense(1))"
   ]
  },
  {
   "cell_type": "markdown",
   "id": "bb005a94-f78e-4d43-a9ae-a623e4c4496e",
   "metadata": {
    "jp-MarkdownHeadingCollapsed": true
   },
   "source": [
    "### Cross Validation"
   ]
  },
  {
   "cell_type": "code",
   "execution_count": null,
   "id": "666081da-5b0d-4726-a777-6ec25a7c2289",
   "metadata": {},
   "outputs": [],
   "source": [
    "# Membuat objek KFold dengan 5 fold\n",
    "kf = KFold(n_splits=5, shuffle=True, random_state=42)\n",
    "\n",
    "# Menyimpan hasil cross-validation\n",
    "cv_results = []\n",
    "true_values = []\n",
    "predictions = []\n",
    "\n",
    "for train_index, val_index in kf.split(X):\n",
    "    # Membagi data menjadi train dan validation set untuk setiap fold\n",
    "    X_train_fold, X_val_fold = X[train_index], X[val_index]\n",
    "    y_train_fold, y_val_fold = y[train_index], y[val_index]\n",
    "\n",
    "    # Membuat model\n",
    "    model = keras.Sequential()\n",
    "    model.add(Dense(128, activation='relu', input_shape=(WINDOW_SIZE, 1)))\n",
    "    model.add(Dropout(0.2))\n",
    "    model.add(Dense(128, activation='relu'))\n",
    "    model.add(Dropout(0.2))\n",
    "    model.add(Dense(128, activation='relu'))\n",
    "    model.add(Dropout(0.2))\n",
    "    model.add(Dense(64, activation='relu'))\n",
    "    model.add(Dropout(0.2))\n",
    "    model.add(Dense(1))\n",
    "\n",
    "    # Kompilasi model\n",
    "    model.compile(optimizer='adam', loss=tf.keras.losses.Huber())\n",
    "\n",
    "    # Latih model\n",
    "    history = model.fit(X_train_fold, y_train_fold, epochs=50, batch_size=8, validation_data=(X_val_fold, y_val_fold), verbose=0)\n",
    "\n",
    "    # Evaluasi model pada data validasi\n",
    "    val_loss = model.evaluate(X_val_fold, y_val_fold, verbose=0)\n",
    "\n",
    "    # Menyimpan hasil evaluasi untuk setiap fold\n",
    "    cv_results.append(val_loss)\n",
    "\n",
    "    # Menyimpan true values dan predictions\n",
    "    y_pred_fold = model.predict(X_val_fold)\n",
    "    true_values.extend(y_val_fold)\n",
    "    predictions.extend(y_pred_fold)\n",
    "\n",
    "# Menghitung rata-rata dan standar deviasi loss dari cross-validation\n",
    "mean_loss = np.mean(cv_results)\n",
    "std_loss = np.std(cv_results)\n",
    "\n",
    "# Menghitung MAE dan RMSE\n",
    "mae = mean_absolute_error(true_values, predictions)\n",
    "rmse = np.sqrt(mean_squared_error(true_values, predictions))\n",
    "\n",
    "print(f'Rata-rata Loss dari Cross-Validation: {mean_loss}')\n",
    "print(f'Standar Deviasi Loss dari Cross-Validation: {std_loss}')\n",
    "print(f'Mean Absolute Error (MAE): {mae}')\n",
    "print(f'Root Mean Squared Error (RMSE): {rmse}')"
   ]
  },
  {
   "cell_type": "markdown",
   "id": "dc4b3cef-6ce8-435a-8713-af0b13bb94b7",
   "metadata": {},
   "source": [
    "## Forecast"
   ]
  },
  {
   "cell_type": "markdown",
   "id": "661baa41-81e5-44a7-a0f6-28b75d534a47",
   "metadata": {},
   "source": [
    "### Train Forecast"
   ]
  },
  {
   "cell_type": "code",
   "execution_count": 64,
   "id": "8e74c1f4-1790-4383-84e2-3691cd66b6d6",
   "metadata": {},
   "outputs": [],
   "source": [
    "def inverse_scale(data):\n",
    "    return data*10000"
   ]
  },
  {
   "cell_type": "code",
   "execution_count": 65,
   "id": "5c0055af-f41d-4769-ab8b-c330f6638e24",
   "metadata": {},
   "outputs": [
    {
     "name": "stdout",
     "output_type": "stream",
     "text": [
      "6/6 [==============================] - 0s 1ms/step\n"
     ]
    }
   ],
   "source": [
    "predict = model.predict(X)\n",
    "predict = inverse_scale(predict.flatten())\n",
    "y_inverse = inverse_scale(y)"
   ]
  },
  {
   "cell_type": "code",
   "execution_count": 66,
   "id": "bdde9fca-d7f7-4106-bde6-a7fc9ecaaab7",
   "metadata": {},
   "outputs": [
    {
     "data": {
      "text/plain": [
       "(165,)"
      ]
     },
     "execution_count": 66,
     "metadata": {},
     "output_type": "execute_result"
    }
   ],
   "source": [
    "predict.shape"
   ]
  },
  {
   "cell_type": "code",
   "execution_count": 67,
   "id": "4abece7d-8338-4df7-bb21-aec6fa053f94",
   "metadata": {},
   "outputs": [
    {
     "data": {
      "text/html": [
       "<div>\n",
       "<style scoped>\n",
       "    .dataframe tbody tr th:only-of-type {\n",
       "        vertical-align: middle;\n",
       "    }\n",
       "\n",
       "    .dataframe tbody tr th {\n",
       "        vertical-align: top;\n",
       "    }\n",
       "\n",
       "    .dataframe thead th {\n",
       "        text-align: right;\n",
       "    }\n",
       "</style>\n",
       "<table border=\"1\" class=\"dataframe\">\n",
       "  <thead>\n",
       "    <tr style=\"text-align: right;\">\n",
       "      <th></th>\n",
       "      <th>Week</th>\n",
       "      <th>Prediction</th>\n",
       "      <th>actuals</th>\n",
       "    </tr>\n",
       "  </thead>\n",
       "  <tbody>\n",
       "    <tr>\n",
       "      <th>0</th>\n",
       "      <td>25</td>\n",
       "      <td>27269.429688</td>\n",
       "      <td>28000.000000</td>\n",
       "    </tr>\n",
       "    <tr>\n",
       "      <th>1</th>\n",
       "      <td>26</td>\n",
       "      <td>27556.900391</td>\n",
       "      <td>27785.714286</td>\n",
       "    </tr>\n",
       "    <tr>\n",
       "      <th>2</th>\n",
       "      <td>27</td>\n",
       "      <td>26474.759766</td>\n",
       "      <td>25000.000000</td>\n",
       "    </tr>\n",
       "    <tr>\n",
       "      <th>3</th>\n",
       "      <td>28</td>\n",
       "      <td>24784.083984</td>\n",
       "      <td>25000.000000</td>\n",
       "    </tr>\n",
       "    <tr>\n",
       "      <th>4</th>\n",
       "      <td>29</td>\n",
       "      <td>24221.984375</td>\n",
       "      <td>25000.000000</td>\n",
       "    </tr>\n",
       "    <tr>\n",
       "      <th>...</th>\n",
       "      <td>...</td>\n",
       "      <td>...</td>\n",
       "      <td>...</td>\n",
       "    </tr>\n",
       "    <tr>\n",
       "      <th>160</th>\n",
       "      <td>185</td>\n",
       "      <td>19801.039062</td>\n",
       "      <td>20000.000000</td>\n",
       "    </tr>\n",
       "    <tr>\n",
       "      <th>161</th>\n",
       "      <td>186</td>\n",
       "      <td>19148.863281</td>\n",
       "      <td>20000.000000</td>\n",
       "    </tr>\n",
       "    <tr>\n",
       "      <th>162</th>\n",
       "      <td>187</td>\n",
       "      <td>19886.326172</td>\n",
       "      <td>20857.142857</td>\n",
       "    </tr>\n",
       "    <tr>\n",
       "      <th>163</th>\n",
       "      <td>188</td>\n",
       "      <td>21443.867188</td>\n",
       "      <td>22000.000000</td>\n",
       "    </tr>\n",
       "    <tr>\n",
       "      <th>164</th>\n",
       "      <td>189</td>\n",
       "      <td>21595.214844</td>\n",
       "      <td>22000.000000</td>\n",
       "    </tr>\n",
       "  </tbody>\n",
       "</table>\n",
       "<p>165 rows × 3 columns</p>\n",
       "</div>"
      ],
      "text/plain": [
       "     Week    Prediction       actuals\n",
       "0      25  27269.429688  28000.000000\n",
       "1      26  27556.900391  27785.714286\n",
       "2      27  26474.759766  25000.000000\n",
       "3      28  24784.083984  25000.000000\n",
       "4      29  24221.984375  25000.000000\n",
       "..    ...           ...           ...\n",
       "160   185  19801.039062  20000.000000\n",
       "161   186  19148.863281  20000.000000\n",
       "162   187  19886.326172  20857.142857\n",
       "163   188  21443.867188  22000.000000\n",
       "164   189  21595.214844  22000.000000\n",
       "\n",
       "[165 rows x 3 columns]"
      ]
     },
     "execution_count": 67,
     "metadata": {},
     "output_type": "execute_result"
    }
   ],
   "source": [
    "predict_result = pd.DataFrame(data={'Week':week[window_size:], 'Prediction':predict, 'actuals':y_inverse})\n",
    "predict_result"
   ]
  },
  {
   "cell_type": "code",
   "execution_count": 68,
   "id": "325ffa88-e5e8-4e49-90c9-8d50f5876151",
   "metadata": {},
   "outputs": [
    {
     "data": {
      "image/png": "[encoded data removed]",
      "text/plain": [
       "<Figure size 1200x600 with 1 Axes>"
      ]
     },
     "metadata": {},
     "output_type": "display_data"
    }
   ],
   "source": [
    "week_selected = 0\n",
    "plt.figure(figsize=(12, 6))\n",
    "plt.plot(predict_result['Week'][week_selected:], predict_result['Prediction'][week_selected:], label='Prediction', color='blue')\n",
    "plt.plot(predict_result['Week'][week_selected:], predict_result['actuals'][week_selected:], label='Actuals', color='orange')\n",
    "\n",
    "plt.xlabel('Date')\n",
    "plt.ylabel('Value')\n",
    "plt.title('Predicted vs Actual Values Over Time')\n",
    "plt.legend()\n",
    "plt.xticks(rotation=45)\n",
    "plt.tight_layout()\n",
    "\n",
    "plt.show()"
   ]
  },
  {
   "cell_type": "markdown",
   "id": "62dd2078-1f21-409d-a417-42ea0e84a7ab",
   "metadata": {},
   "source": [
    "### Validation Forecast"
   ]
  },
  {
   "cell_type": "code",
   "execution_count": 69,
   "id": "ee789e6e-d324-4285-b2af-fd24283ff693",
   "metadata": {},
   "outputs": [
    {
     "name": "stdout",
     "output_type": "stream",
     "text": [
      "mae: 1866.65\n",
      "mse: 7058571.73\n",
      "rmse: 2656.80\n"
     ]
    }
   ],
   "source": [
    "from sklearn.metrics import mean_absolute_error, mean_squared_error\n",
    "\n",
    "mae = mean_absolute_error(y_inverse, predict)\n",
    "mse = mean_squared_error(y_inverse, predict)\n",
    "rmse = np.sqrt(mse)\n",
    "\n",
    "print(f'mae: {mae:.2f}')\n",
    "print(f'mse: {mse:.2f}')\n",
    "print(f'rmse: {rmse:.2f}')"
   ]
  },
  {
   "cell_type": "code",
   "execution_count": 72,
   "id": "6a5d4d86-78c7-4e0c-a5c2-771dc4b75af8",
   "metadata": {},
   "outputs": [
    {
     "name": "stdout",
     "output_type": "stream",
     "text": [
      "Akurasi prediksi: 93.67%\n"
     ]
    }
   ],
   "source": [
    "mape = np.mean(np.abs((y_inverse - predict) / y_inverse)) * 100\n",
    "accuracy = 100 - mape\n",
    "print(f\"Akurasi prediksi: {accuracy:.2f}%\")"
   ]
  },
  {
   "cell_type": "markdown",
   "id": "b838bbac-bc55-4ccc-8baa-116794a96a70",
   "metadata": {},
   "source": [
    "### Future Forecast"
   ]
  },
  {
   "cell_type": "code",
   "execution_count": 89,
   "id": "9fad83f2-a004-4150-98e7-aa3d6dc893ac",
   "metadata": {},
   "outputs": [],
   "source": [
    "def inverse_scale(data):\n",
    "    return data*10000"
   ]
  },
  {
   "cell_type": "code",
   "execution_count": null,
   "id": "b5c4fe6a-14e8-496b-8753-0922bef9ecac",
   "metadata": {},
   "outputs": [],
   "source": [
    "def prediction(data):\n",
    "    # scaling actual data\n",
    "    actual_scaled = scaled_price(data)\n",
    "    # select seq from scaled data\n",
    "    seq = actual_scaled[-window_size:]\n",
    "    # predict\n",
    "    hasil = model.predict(seq.reshape(1, window_size, 1))\n",
    "    # reshape hasil\n",
    "    hasil = inverse_scale(hasil)\n",
    "    # append hasil to result\n",
    "    seq_res.append(hasil.item())"
   ]
  },
  {
   "cell_type": "code",
   "execution_count": null,
   "id": "f885d8e0-7630-4d28-a069-d8adb2538f2f",
   "metadata": {},
   "outputs": [],
   "source": [
    "def predict_n_weeks(n, data, result):\n",
    "    seq_res = result\n",
    "    act_temp = data.reshape(-1, 1)\n",
    "    for i in range(n):\n",
    "        # scaling actual data\n",
    "        actual_scaled = scaled_price(act_temp)\n",
    "        # select seq from scaled data\n",
    "        seq = actual_scaled[-window_size:]\n",
    "        # predict\n",
    "        hasil = model.predict(seq.reshape(1, window_size, 1))\n",
    "        # reshape hasil\n",
    "        hasil = inverse_scale(hasil)\n",
    "        # append hasil to result\n",
    "        seq_res.append(hasil.item())\n",
    "        # append hasil to actual temporary\n",
    "        hasil_to_append = np.expand_dims([hasil.item()], axis=1)\n",
    "        act_temp = np.concatenate((act_temp, hasil_to_append), axis=0)\n",
    "    return seq_res"
   ]
  },
  {
   "cell_type": "code",
   "execution_count": null,
   "id": "24f0ec6d-f466-439b-a709-8c6259d46778",
   "metadata": {},
   "outputs": [],
   "source": [
    "print(model.input_shape)"
   ]
  },
  {
   "cell_type": "code",
   "execution_count": 283,
   "id": "8f9a73c1-e7f6-41b5-8830-eed8674d8e3b",
   "metadata": {},
   "outputs": [],
   "source": [
    "actual = series[:-30]\n",
    "seq_res = np.array([])\n",
    "\n",
    "# seq_res = predict_n_weeks(4, actual, seq_res)\n",
    "# prediction(actual)\n",
    "# seq_res"
   ]
  },
  {
   "cell_type": "code",
   "execution_count": 284,
   "id": "5123199a-ab53-47bc-82e4-b2f03392f832",
   "metadata": {},
   "outputs": [],
   "source": [
    "act_temp = actual.reshape(-1, 1)"
   ]
  },
  {
   "cell_type": "code",
   "execution_count": 285,
   "id": "405321ee-8d99-4348-bef5-7bb191fe0f5d",
   "metadata": {},
   "outputs": [
    {
     "name": "stdout",
     "output_type": "stream",
     "text": [
      "1/1 [==============================] - 0s 21ms/step\n"
     ]
    }
   ],
   "source": [
    "actual_scaled = scaled_price(act_temp)\n",
    "seq = actual_scaled[-window_size:]\n",
    "hasil = model.predict(seq.reshape(1, window_size, 1))\n",
    "hasil = inverse_scale(hasil)\n",
    "seq_res = np.append(seq_res, hasil.item())\n",
    "act_temp = np.append(act_temp, np.expand_dims([hasil.item()], axis=1))"
   ]
  },
  {
   "cell_type": "code",
   "execution_count": 286,
   "id": "a838b039-56c1-4fd6-96ac-975d53287ccb",
   "metadata": {},
   "outputs": [
    {
     "data": {
      "text/plain": [
       "array([29157.11328125])"
      ]
     },
     "execution_count": 286,
     "metadata": {},
     "output_type": "execute_result"
    }
   ],
   "source": [
    "seq_res"
   ]
  },
  {
   "cell_type": "code",
   "execution_count": 287,
   "id": "76a702c7-abe7-40d4-a0ab-bcdac15c09c8",
   "metadata": {},
   "outputs": [
    {
     "name": "stdout",
     "output_type": "stream",
     "text": [
      "1/1 [==============================] - 0s 24ms/step\n"
     ]
    }
   ],
   "source": [
    "actual_scaled = scaled_price(act_temp)\n",
    "seq = actual_scaled[-window_size:]\n",
    "hasil = model.predict(seq.reshape(1, window_size, 1))\n",
    "hasil = inverse_scale(hasil)\n",
    "seq_res = np.append(seq_res, hasil.item())\n",
    "act_temp = np.append(act_temp, np.expand_dims([hasil.item()], axis=1))"
   ]
  },
  {
   "cell_type": "code",
   "execution_count": 288,
   "id": "749d0eeb-deb0-46a0-aee6-4b54bae5de9c",
   "metadata": {},
   "outputs": [
    {
     "data": {
      "text/plain": [
       "array([29157.11328125, 29655.62304688])"
      ]
     },
     "execution_count": 288,
     "metadata": {},
     "output_type": "execute_result"
    }
   ],
   "source": [
    "seq_res"
   ]
  },
  {
   "cell_type": "code",
   "execution_count": 289,
   "id": "2dfe1d2b-f4ef-47cc-a9ee-6188840bda7a",
   "metadata": {},
   "outputs": [
    {
     "name": "stdout",
     "output_type": "stream",
     "text": [
      "     Minggu    Harga/week\n",
      "159     160  26142.857143\n",
      "160     161  30714.285714\n"
     ]
    }
   ],
   "source": [
    "print(weekly_data[(weekly_data['Minggu'] > 159) & (weekly_data['Minggu'] <= 161)])"
   ]
  },
  {
   "cell_type": "code",
   "execution_count": 290,
   "id": "dcf9db77-c770-442d-8c82-b4fe803802ff",
   "metadata": {},
   "outputs": [],
   "source": [
    "actual = np.append(actual, [26142.85, 30714.28])"
   ]
  },
  {
   "cell_type": "code",
   "execution_count": 291,
   "id": "7ebc3e48-839e-4979-8b5a-f57f878c7239",
   "metadata": {},
   "outputs": [],
   "source": [
    "act_temp = actual.reshape(-1, 1)\n",
    "# seq_res = np.array([])"
   ]
  },
  {
   "cell_type": "code",
   "execution_count": 292,
   "id": "90885ea2-29d3-44a2-9994-9a714aacd5df",
   "metadata": {},
   "outputs": [
    {
     "name": "stdout",
     "output_type": "stream",
     "text": [
      "1/1 [==============================] - 0s 22ms/step\n"
     ]
    }
   ],
   "source": [
    "actual_scaled = scaled_price(act_temp)\n",
    "seq = actual_scaled[-window_size:]\n",
    "hasil = model.predict(seq.reshape(1, window_size, 1))\n",
    "hasil = inverse_scale(hasil)\n",
    "seq_res = np.append(seq_res, hasil.item())\n",
    "act_temp = np.append(act_temp, np.expand_dims([hasil.item()], axis=1))"
   ]
  },
  {
   "cell_type": "code",
   "execution_count": 293,
   "id": "e150546b-67b9-49db-a0df-7c16a0b985c2",
   "metadata": {},
   "outputs": [
    {
     "data": {
      "text/plain": [
       "array([29157.11328125, 29655.62304688, 29699.2890625 ])"
      ]
     },
     "execution_count": 293,
     "metadata": {},
     "output_type": "execute_result"
    }
   ],
   "source": [
    "seq_res"
   ]
  },
  {
   "cell_type": "code",
   "execution_count": 294,
   "id": "13c097ca-6876-4ee7-aa65-ec607a517f99",
   "metadata": {},
   "outputs": [
    {
     "name": "stdout",
     "output_type": "stream",
     "text": [
      "1/1 [==============================] - 0s 21ms/step\n"
     ]
    }
   ],
   "source": [
    "actual_scaled = scaled_price(act_temp)\n",
    "seq = actual_scaled[-window_size:]\n",
    "hasil = model.predict(seq.reshape(1, window_size, 1))\n",
    "hasil = inverse_scale(hasil)\n",
    "seq_res = np.append(seq_res, hasil.item())\n",
    "act_temp = np.append(act_temp, np.expand_dims([hasil.item()], axis=1))"
   ]
  },
  {
   "cell_type": "code",
   "execution_count": 295,
   "id": "9d751a90-5abd-4418-80f7-e42292c3eae2",
   "metadata": {},
   "outputs": [
    {
     "data": {
      "text/plain": [
       "array([29157.11328125, 29655.62304688, 29699.2890625 , 28961.10742188])"
      ]
     },
     "execution_count": 295,
     "metadata": {},
     "output_type": "execute_result"
    }
   ],
   "source": [
    "seq_res"
   ]
  },
  {
   "cell_type": "code",
   "execution_count": 296,
   "id": "0b1f87d3-ab9d-4678-aa95-2f2c475b4c04",
   "metadata": {},
   "outputs": [
    {
     "name": "stdout",
     "output_type": "stream",
     "text": [
      "     Minggu    Harga/week\n",
      "161     162  39285.714286\n",
      "162     163  35714.285714\n"
     ]
    }
   ],
   "source": [
    "print(weekly_data[(weekly_data['Minggu'] > 161) & (weekly_data['Minggu'] <= 163)])"
   ]
  },
  {
   "cell_type": "code",
   "execution_count": 297,
   "id": "3bd02290-484e-4de9-872f-bd528eddb2fb",
   "metadata": {},
   "outputs": [],
   "source": [
    "actual = np.append(actual, [39285.71, 35714.28])"
   ]
  },
  {
   "cell_type": "code",
   "execution_count": 298,
   "id": "af031b70-9b39-4d77-941b-74dbff2328ed",
   "metadata": {},
   "outputs": [],
   "source": [
    "act_temp = actual.reshape(-1, 1)\n",
    "# seq_res = np.array([])"
   ]
  },
  {
   "cell_type": "code",
   "execution_count": 299,
   "id": "786034d4-3c22-4850-ad0b-f6ae667cd32b",
   "metadata": {},
   "outputs": [
    {
     "name": "stdout",
     "output_type": "stream",
     "text": [
      "1/1 [==============================] - 0s 22ms/step\n"
     ]
    }
   ],
   "source": [
    "actual_scaled = scaled_price(act_temp)\n",
    "seq = actual_scaled[-window_size:]\n",
    "hasil = model.predict(seq.reshape(1, window_size, 1))\n",
    "hasil = inverse_scale(hasil)\n",
    "seq_res = np.append(seq_res, hasil.item())\n",
    "act_temp = np.append(act_temp, np.expand_dims([hasil.item()], axis=1))"
   ]
  },
  {
   "cell_type": "code",
   "execution_count": 300,
   "id": "847397f9-f14c-483f-bfc3-dd8e6caaadcb",
   "metadata": {},
   "outputs": [
    {
     "data": {
      "text/plain": [
       "array([29157.11328125, 29655.62304688, 29699.2890625 , 28961.10742188,\n",
       "       33543.70703125])"
      ]
     },
     "execution_count": 300,
     "metadata": {},
     "output_type": "execute_result"
    }
   ],
   "source": [
    "seq_res"
   ]
  },
  {
   "cell_type": "code",
   "execution_count": 301,
   "id": "9fef105a-691b-4dd1-ab13-acc9cf405cfb",
   "metadata": {},
   "outputs": [
    {
     "name": "stdout",
     "output_type": "stream",
     "text": [
      "1/1 [==============================] - 0s 23ms/step\n"
     ]
    }
   ],
   "source": [
    "actual_scaled = scaled_price(act_temp)\n",
    "seq = actual_scaled[-window_size:]\n",
    "hasil = model.predict(seq.reshape(1, window_size, 1))\n",
    "hasil = inverse_scale(hasil)\n",
    "seq_res = np.append(seq_res, hasil.item())\n",
    "act_temp = np.append(act_temp, np.expand_dims([hasil.item()], axis=1))"
   ]
  },
  {
   "cell_type": "code",
   "execution_count": 302,
   "id": "7a9496eb-6f7a-4a20-9f0f-8a19ddb36f1b",
   "metadata": {},
   "outputs": [
    {
     "data": {
      "text/plain": [
       "array([29157.11328125, 29655.62304688, 29699.2890625 , 28961.10742188,\n",
       "       33543.70703125, 31400.21484375])"
      ]
     },
     "execution_count": 302,
     "metadata": {},
     "output_type": "execute_result"
    }
   ],
   "source": [
    "seq_res"
   ]
  },
  {
   "cell_type": "code",
   "execution_count": 303,
   "id": "26eb8e24-3f2b-4679-ba8c-3d1c0c9bdd9d",
   "metadata": {},
   "outputs": [
    {
     "name": "stdout",
     "output_type": "stream",
     "text": [
      "     Minggu    Harga/week\n",
      "163     164  41785.714286\n",
      "164     165  41428.571429\n"
     ]
    }
   ],
   "source": [
    "print(weekly_data[(weekly_data['Minggu'] > 163) & (weekly_data['Minggu'] <= 165)])"
   ]
  },
  {
   "cell_type": "code",
   "execution_count": 304,
   "id": "af1a27b5-5d51-48f9-872d-d5406ec7c019",
   "metadata": {},
   "outputs": [],
   "source": [
    "actual = np.append(actual, [41785.71, 41428.57])"
   ]
  },
  {
   "cell_type": "code",
   "execution_count": 305,
   "id": "c52d20d4-2df9-48bd-a34e-d46cbd05d887",
   "metadata": {},
   "outputs": [],
   "source": [
    "act_temp = actual.reshape(-1, 1)\n",
    "# seq_res = np.array([])"
   ]
  },
  {
   "cell_type": "code",
   "execution_count": 306,
   "id": "256c8571-6d66-41b8-b3a1-38ba2d21006f",
   "metadata": {},
   "outputs": [
    {
     "name": "stdout",
     "output_type": "stream",
     "text": [
      "1/1 [==============================] - 0s 21ms/step\n"
     ]
    }
   ],
   "source": [
    "actual_scaled = scaled_price(act_temp)\n",
    "seq = actual_scaled[-window_size:]\n",
    "hasil = model.predict(seq.reshape(1, window_size, 1))\n",
    "hasil = inverse_scale(hasil)\n",
    "seq_res = np.append(seq_res, hasil.item())\n",
    "act_temp = np.append(act_temp, np.expand_dims([hasil.item()], axis=1))"
   ]
  },
  {
   "cell_type": "code",
   "execution_count": 307,
   "id": "e5628eef-2198-4f2c-a175-678c09f6d1d3",
   "metadata": {},
   "outputs": [
    {
     "data": {
      "text/plain": [
       "array([29157.11328125, 29655.62304688, 29699.2890625 , 28961.10742188,\n",
       "       33543.70703125, 31400.21484375, 41739.34375   ])"
      ]
     },
     "execution_count": 307,
     "metadata": {},
     "output_type": "execute_result"
    }
   ],
   "source": [
    "seq_res"
   ]
  },
  {
   "cell_type": "code",
   "execution_count": 308,
   "id": "14d9ddf6-bf4c-488e-97d1-1f0a6fc99307",
   "metadata": {},
   "outputs": [
    {
     "name": "stdout",
     "output_type": "stream",
     "text": [
      "1/1 [==============================] - 0s 22ms/step\n"
     ]
    }
   ],
   "source": [
    "actual_scaled = scaled_price(act_temp)\n",
    "seq = actual_scaled[-window_size:]\n",
    "hasil = model.predict(seq.reshape(1, window_size, 1))\n",
    "hasil = inverse_scale(hasil)\n",
    "seq_res = np.append(seq_res, hasil.item())\n",
    "act_temp = np.append(act_temp, np.expand_dims([hasil.item()], axis=1))"
   ]
  },
  {
   "cell_type": "code",
   "execution_count": 309,
   "id": "75d5f492-3fdc-41e6-9f7d-2977d641576c",
   "metadata": {},
   "outputs": [
    {
     "data": {
      "text/plain": [
       "array([29157.11328125, 29655.62304688, 29699.2890625 , 28961.10742188,\n",
       "       33543.70703125, 31400.21484375, 41739.34375   , 41159.20703125])"
      ]
     },
     "execution_count": 309,
     "metadata": {},
     "output_type": "execute_result"
    }
   ],
   "source": [
    "seq_res"
   ]
  },
  {
   "cell_type": "code",
   "execution_count": 310,
   "id": "93c2fa41-e376-4ca6-aa65-275dfc0feff2",
   "metadata": {},
   "outputs": [
    {
     "name": "stdout",
     "output_type": "stream",
     "text": [
      "     Minggu    Harga/week\n",
      "165     166  38857.142857\n",
      "166     167  40000.000000\n"
     ]
    }
   ],
   "source": [
    "print(weekly_data[(weekly_data['Minggu'] > 165) & (weekly_data['Minggu'] <= 167)])"
   ]
  },
  {
   "cell_type": "code",
   "execution_count": 311,
   "id": "ca597695-6118-498f-a8fb-fe695002aff0",
   "metadata": {},
   "outputs": [],
   "source": [
    "actual = np.append(actual, [38857.14, 40000.00])"
   ]
  },
  {
   "cell_type": "code",
   "execution_count": 312,
   "id": "143ae337-ce65-48a2-b3a7-41aa5d3c2423",
   "metadata": {},
   "outputs": [],
   "source": [
    "act_temp = actual.reshape(-1, 1)\n",
    "# seq_res = np.array([])"
   ]
  },
  {
   "cell_type": "code",
   "execution_count": 313,
   "id": "64b1d72e-6af9-4501-979d-6ff7ecde8fa7",
   "metadata": {},
   "outputs": [
    {
     "name": "stdout",
     "output_type": "stream",
     "text": [
      "1/1 [==============================] - 0s 21ms/step\n"
     ]
    }
   ],
   "source": [
    "actual_scaled = scaled_price(act_temp)\n",
    "seq = actual_scaled[-window_size:]\n",
    "hasil = model.predict(seq.reshape(1, window_size, 1))\n",
    "hasil = inverse_scale(hasil)\n",
    "seq_res = np.append(seq_res, hasil.item())\n",
    "act_temp = np.append(act_temp, np.expand_dims([hasil.item()], axis=1))"
   ]
  },
  {
   "cell_type": "code",
   "execution_count": 314,
   "id": "21f572a5-7d7c-4f94-a543-99412263aba3",
   "metadata": {},
   "outputs": [
    {
     "data": {
      "text/plain": [
       "array([29157.11328125, 29655.62304688, 29699.2890625 , 28961.10742188,\n",
       "       33543.70703125, 31400.21484375, 41739.34375   , 41159.20703125,\n",
       "       38901.41796875])"
      ]
     },
     "execution_count": 314,
     "metadata": {},
     "output_type": "execute_result"
    }
   ],
   "source": [
    "seq_res"
   ]
  },
  {
   "cell_type": "code",
   "execution_count": 315,
   "id": "39aafbc4-f0a8-4dc7-a96e-00baceb23260",
   "metadata": {},
   "outputs": [
    {
     "name": "stdout",
     "output_type": "stream",
     "text": [
      "1/1 [==============================] - 0s 23ms/step\n"
     ]
    }
   ],
   "source": [
    "actual_scaled = scaled_price(act_temp)\n",
    "seq = actual_scaled[-window_size:]\n",
    "hasil = model.predict(seq.reshape(1, window_size, 1))\n",
    "hasil = inverse_scale(hasil)\n",
    "seq_res = np.append(seq_res, hasil.item())\n",
    "act_temp = np.append(act_temp, np.expand_dims([hasil.item()], axis=1))"
   ]
  },
  {
   "cell_type": "code",
   "execution_count": 316,
   "id": "b1889596-ca9e-4b74-b0f9-46144df30ef1",
   "metadata": {},
   "outputs": [
    {
     "data": {
      "text/plain": [
       "array([29157.11328125, 29655.62304688, 29699.2890625 , 28961.10742188,\n",
       "       33543.70703125, 31400.21484375, 41739.34375   , 41159.20703125,\n",
       "       38901.41796875, 37667.19140625])"
      ]
     },
     "execution_count": 316,
     "metadata": {},
     "output_type": "execute_result"
    }
   ],
   "source": [
    "seq_res"
   ]
  },
  {
   "cell_type": "code",
   "execution_count": 317,
   "id": "aa50e1db-e364-40bc-adef-8c75f071d5d5",
   "metadata": {},
   "outputs": [
    {
     "name": "stdout",
     "output_type": "stream",
     "text": [
      "     Minggu    Harga/week\n",
      "167     168  42857.142857\n",
      "168     169  36857.142857\n"
     ]
    }
   ],
   "source": [
    "print(weekly_data[(weekly_data['Minggu'] > 167) & (weekly_data['Minggu'] <= 169)])"
   ]
  },
  {
   "cell_type": "code",
   "execution_count": 318,
   "id": "4e31ffec-c657-4f63-99fb-413503aa01d6",
   "metadata": {},
   "outputs": [],
   "source": [
    "actual = np.append(actual, [42857.14, 36857.14])"
   ]
  },
  {
   "cell_type": "code",
   "execution_count": 319,
   "id": "24f6bfb7-4a33-4481-9fb2-ed586980a6d8",
   "metadata": {},
   "outputs": [],
   "source": [
    "act_temp = actual.reshape(-1, 1)\n",
    "# seq_res = np.array([])"
   ]
  },
  {
   "cell_type": "code",
   "execution_count": 320,
   "id": "6c894220-c3b8-448b-af57-1db1ca034880",
   "metadata": {},
   "outputs": [
    {
     "name": "stdout",
     "output_type": "stream",
     "text": [
      "1/1 [==============================] - 0s 21ms/step\n"
     ]
    }
   ],
   "source": [
    "actual_scaled = scaled_price(act_temp)\n",
    "seq = actual_scaled[-window_size:]\n",
    "hasil = model.predict(seq.reshape(1, window_size, 1))\n",
    "hasil = inverse_scale(hasil)\n",
    "seq_res = np.append(seq_res, hasil.item())\n",
    "act_temp = np.append(act_temp, np.expand_dims([hasil.item()], axis=1))"
   ]
  },
  {
   "cell_type": "code",
   "execution_count": 321,
   "id": "624d454c-2efa-463b-adf1-995c9989023f",
   "metadata": {},
   "outputs": [
    {
     "data": {
      "text/plain": [
       "array([29157.11328125, 29655.62304688, 29699.2890625 , 28961.10742188,\n",
       "       33543.70703125, 31400.21484375, 41739.34375   , 41159.20703125,\n",
       "       38901.41796875, 37667.19140625, 34105.76171875])"
      ]
     },
     "execution_count": 321,
     "metadata": {},
     "output_type": "execute_result"
    }
   ],
   "source": [
    "seq_res"
   ]
  },
  {
   "cell_type": "code",
   "execution_count": 322,
   "id": "c76af1e8-064f-4216-8c93-41c66fe5b8c2",
   "metadata": {},
   "outputs": [
    {
     "name": "stdout",
     "output_type": "stream",
     "text": [
      "1/1 [==============================] - 0s 19ms/step\n"
     ]
    }
   ],
   "source": [
    "actual_scaled = scaled_price(act_temp)\n",
    "seq = actual_scaled[-window_size:]\n",
    "hasil = model.predict(seq.reshape(1, window_size, 1))\n",
    "hasil = inverse_scale(hasil)\n",
    "seq_res = np.append(seq_res, hasil.item())\n",
    "act_temp = np.append(act_temp, np.expand_dims([hasil.item()], axis=1))"
   ]
  },
  {
   "cell_type": "code",
   "execution_count": 323,
   "id": "938de9f4-e88d-414d-a8fa-d40492ee1859",
   "metadata": {},
   "outputs": [
    {
     "data": {
      "text/plain": [
       "array([29157.11328125, 29655.62304688, 29699.2890625 , 28961.10742188,\n",
       "       33543.70703125, 31400.21484375, 41739.34375   , 41159.20703125,\n",
       "       38901.41796875, 37667.19140625, 34105.76171875, 32857.40625   ])"
      ]
     },
     "execution_count": 323,
     "metadata": {},
     "output_type": "execute_result"
    }
   ],
   "source": [
    "seq_res"
   ]
  },
  {
   "cell_type": "code",
   "execution_count": 324,
   "id": "8dae9ff7-fedd-4fd5-a437-ec5b3b0fc088",
   "metadata": {},
   "outputs": [
    {
     "name": "stdout",
     "output_type": "stream",
     "text": [
      "     Minggu    Harga/week\n",
      "169     170  30714.285714\n",
      "170     171  30000.000000\n"
     ]
    }
   ],
   "source": [
    "print(weekly_data[(weekly_data['Minggu'] > 169) & (weekly_data['Minggu'] <= 171)])"
   ]
  },
  {
   "cell_type": "code",
   "execution_count": 325,
   "id": "84f7d107-2725-45d0-927c-50f4b4083772",
   "metadata": {},
   "outputs": [],
   "source": [
    "actual = np.append(actual, [30714.28, 30000.00])"
   ]
  },
  {
   "cell_type": "code",
   "execution_count": 326,
   "id": "23d21c34-0347-4b94-8182-f520b4834a59",
   "metadata": {},
   "outputs": [],
   "source": [
    "act_temp = actual.reshape(-1, 1)\n",
    "# seq_res = np.array([])"
   ]
  },
  {
   "cell_type": "code",
   "execution_count": 327,
   "id": "0c68d2ac-68b3-4858-80eb-3e8c4c9f7ad8",
   "metadata": {},
   "outputs": [
    {
     "name": "stdout",
     "output_type": "stream",
     "text": [
      "1/1 [==============================] - 0s 64ms/step\n"
     ]
    }
   ],
   "source": [
    "actual_scaled = scaled_price(act_temp)\n",
    "seq = actual_scaled[-window_size:]\n",
    "hasil = model.predict(seq.reshape(1, window_size, 1))\n",
    "hasil = inverse_scale(hasil)\n",
    "seq_res = np.append(seq_res, hasil.item())\n",
    "act_temp = np.append(act_temp, np.expand_dims([hasil.item()], axis=1))"
   ]
  },
  {
   "cell_type": "code",
   "execution_count": 328,
   "id": "8c732da6-eca4-4664-9f66-1bbcecab31f3",
   "metadata": {},
   "outputs": [
    {
     "data": {
      "text/plain": [
       "array([29157.11328125, 29655.62304688, 29699.2890625 , 28961.10742188,\n",
       "       33543.70703125, 31400.21484375, 41739.34375   , 41159.20703125,\n",
       "       38901.41796875, 37667.19140625, 34105.76171875, 32857.40625   ,\n",
       "       29110.14257812])"
      ]
     },
     "execution_count": 328,
     "metadata": {},
     "output_type": "execute_result"
    }
   ],
   "source": [
    "seq_res"
   ]
  },
  {
   "cell_type": "code",
   "execution_count": 329,
   "id": "b60c455e-0633-4f9c-bd21-15e150b2033d",
   "metadata": {},
   "outputs": [
    {
     "name": "stdout",
     "output_type": "stream",
     "text": [
      "1/1 [==============================] - 0s 16ms/step\n"
     ]
    }
   ],
   "source": [
    "actual_scaled = scaled_price(act_temp)\n",
    "seq = actual_scaled[-window_size:]\n",
    "hasil = model.predict(seq.reshape(1, window_size, 1))\n",
    "hasil = inverse_scale(hasil)\n",
    "seq_res = np.append(seq_res, hasil.item())\n",
    "act_temp = np.append(act_temp, np.expand_dims([hasil.item()], axis=1))"
   ]
  },
  {
   "cell_type": "code",
   "execution_count": 330,
   "id": "8da9c4cc-f3c7-41a2-9511-b4bdbccf67bd",
   "metadata": {},
   "outputs": [
    {
     "data": {
      "text/plain": [
       "array([29157.11328125, 29655.62304688, 29699.2890625 , 28961.10742188,\n",
       "       33543.70703125, 31400.21484375, 41739.34375   , 41159.20703125,\n",
       "       38901.41796875, 37667.19140625, 34105.76171875, 32857.40625   ,\n",
       "       29110.14257812, 28607.42578125])"
      ]
     },
     "execution_count": 330,
     "metadata": {},
     "output_type": "execute_result"
    }
   ],
   "source": [
    "seq_res"
   ]
  },
  {
   "cell_type": "code",
   "execution_count": 331,
   "id": "75857a85-2fc7-467a-8ba7-ed6725410313",
   "metadata": {},
   "outputs": [
    {
     "name": "stdout",
     "output_type": "stream",
     "text": [
      "     Minggu    Harga/week\n",
      "171     172  29428.571429\n",
      "172     173  25000.000000\n"
     ]
    }
   ],
   "source": [
    "print(weekly_data[(weekly_data['Minggu'] > 171) & (weekly_data['Minggu'] <= 173)])"
   ]
  },
  {
   "cell_type": "code",
   "execution_count": 332,
   "id": "beb58de1-f469-4ded-9f50-100a00f3d705",
   "metadata": {},
   "outputs": [],
   "source": [
    "actual = np.append(actual, [29428.57, 25000.00])"
   ]
  },
  {
   "cell_type": "code",
   "execution_count": 333,
   "id": "38f7ab21-83e4-4725-ae03-986916aec33b",
   "metadata": {},
   "outputs": [],
   "source": [
    "act_temp = actual.reshape(-1, 1)\n",
    "# seq_res = np.array([])"
   ]
  },
  {
   "cell_type": "code",
   "execution_count": 334,
   "id": "59d3db26-7d23-46c3-8ae2-64eddbd975ea",
   "metadata": {},
   "outputs": [
    {
     "name": "stdout",
     "output_type": "stream",
     "text": [
      "1/1 [==============================] - 0s 21ms/step\n"
     ]
    }
   ],
   "source": [
    "actual_scaled = scaled_price(act_temp)\n",
    "seq = actual_scaled[-window_size:]\n",
    "hasil = model.predict(seq.reshape(1, window_size, 1))\n",
    "hasil = inverse_scale(hasil)\n",
    "seq_res = np.append(seq_res, hasil.item())\n",
    "act_temp = np.append(act_temp, np.expand_dims([hasil.item()], axis=1))"
   ]
  },
  {
   "cell_type": "code",
   "execution_count": 335,
   "id": "4b3ffcf8-44ce-4875-b875-c23380c070b7",
   "metadata": {},
   "outputs": [
    {
     "data": {
      "text/plain": [
       "array([29157.11328125, 29655.62304688, 29699.2890625 , 28961.10742188,\n",
       "       33543.70703125, 31400.21484375, 41739.34375   , 41159.20703125,\n",
       "       38901.41796875, 37667.19140625, 34105.76171875, 32857.40625   ,\n",
       "       29110.14257812, 28607.42578125, 25268.015625  ])"
      ]
     },
     "execution_count": 335,
     "metadata": {},
     "output_type": "execute_result"
    }
   ],
   "source": [
    "seq_res"
   ]
  },
  {
   "cell_type": "code",
   "execution_count": 336,
   "id": "5b9f529d-992c-47e6-88d6-bfb2c4e719dc",
   "metadata": {},
   "outputs": [
    {
     "name": "stdout",
     "output_type": "stream",
     "text": [
      "1/1 [==============================] - 0s 24ms/step\n"
     ]
    }
   ],
   "source": [
    "actual_scaled = scaled_price(act_temp)\n",
    "seq = actual_scaled[-window_size:]\n",
    "hasil = model.predict(seq.reshape(1, window_size, 1))\n",
    "hasil = inverse_scale(hasil)\n",
    "seq_res = np.append(seq_res, hasil.item())\n",
    "act_temp = np.append(act_temp, np.expand_dims([hasil.item()], axis=1))"
   ]
  },
  {
   "cell_type": "code",
   "execution_count": 337,
   "id": "19e9cbc1-2c4f-47f6-917b-81ff7c517a25",
   "metadata": {},
   "outputs": [
    {
     "data": {
      "text/plain": [
       "array([29157.11328125, 29655.62304688, 29699.2890625 , 28961.10742188,\n",
       "       33543.70703125, 31400.21484375, 41739.34375   , 41159.20703125,\n",
       "       38901.41796875, 37667.19140625, 34105.76171875, 32857.40625   ,\n",
       "       29110.14257812, 28607.42578125, 25268.015625  , 25216.24609375])"
      ]
     },
     "execution_count": 337,
     "metadata": {},
     "output_type": "execute_result"
    }
   ],
   "source": [
    "seq_res"
   ]
  },
  {
   "cell_type": "code",
   "execution_count": 338,
   "id": "354ebeca-23af-47db-84e5-6d9ad8f14df5",
   "metadata": {},
   "outputs": [
    {
     "name": "stdout",
     "output_type": "stream",
     "text": [
      "     Minggu  Harga/week\n",
      "173     174     25000.0\n",
      "174     175     25000.0\n"
     ]
    }
   ],
   "source": [
    "print(weekly_data[(weekly_data['Minggu'] > 173) & (weekly_data['Minggu'] <= 175)])"
   ]
  },
  {
   "cell_type": "code",
   "execution_count": 339,
   "id": "3487f846-d320-46da-a019-3b410a16d0a7",
   "metadata": {},
   "outputs": [],
   "source": [
    "actual = np.append(actual, [25000.00, 25000.00])"
   ]
  },
  {
   "cell_type": "code",
   "execution_count": 340,
   "id": "49b5c2e0-31e0-440a-9468-89fabc72bd49",
   "metadata": {},
   "outputs": [],
   "source": [
    "act_temp = actual.reshape(-1, 1)\n",
    "# seq_res = np.array([])"
   ]
  },
  {
   "cell_type": "code",
   "execution_count": 341,
   "id": "e1947240-05e7-46fe-b65e-c050551fbc30",
   "metadata": {},
   "outputs": [
    {
     "name": "stdout",
     "output_type": "stream",
     "text": [
      "1/1 [==============================] - 0s 21ms/step\n"
     ]
    }
   ],
   "source": [
    "actual_scaled = scaled_price(act_temp)\n",
    "seq = actual_scaled[-window_size:]\n",
    "hasil = model.predict(seq.reshape(1, window_size, 1))\n",
    "hasil = inverse_scale(hasil)\n",
    "seq_res = np.append(seq_res, hasil.item())\n",
    "act_temp = np.append(act_temp, np.expand_dims([hasil.item()], axis=1))"
   ]
  },
  {
   "cell_type": "code",
   "execution_count": 342,
   "id": "a1303ebe-f840-4efb-9e1d-8c3ec3a8dedd",
   "metadata": {},
   "outputs": [
    {
     "data": {
      "text/plain": [
       "array([29157.11328125, 29655.62304688, 29699.2890625 , 28961.10742188,\n",
       "       33543.70703125, 31400.21484375, 41739.34375   , 41159.20703125,\n",
       "       38901.41796875, 37667.19140625, 34105.76171875, 32857.40625   ,\n",
       "       29110.14257812, 28607.42578125, 25268.015625  , 25216.24609375,\n",
       "       23754.2265625 ])"
      ]
     },
     "execution_count": 342,
     "metadata": {},
     "output_type": "execute_result"
    }
   ],
   "source": [
    "seq_res"
   ]
  },
  {
   "cell_type": "code",
   "execution_count": 343,
   "id": "2ae7d860-80c4-45df-b452-1891e16473b1",
   "metadata": {},
   "outputs": [
    {
     "name": "stdout",
     "output_type": "stream",
     "text": [
      "1/1 [==============================] - 0s 21ms/step\n"
     ]
    }
   ],
   "source": [
    "actual_scaled = scaled_price(act_temp)\n",
    "seq = actual_scaled[-window_size:]\n",
    "hasil = model.predict(seq.reshape(1, window_size, 1))\n",
    "hasil = inverse_scale(hasil)\n",
    "seq_res = np.append(seq_res, hasil.item())\n",
    "act_temp = np.append(act_temp, np.expand_dims([hasil.item()], axis=1))"
   ]
  },
  {
   "cell_type": "code",
   "execution_count": 344,
   "id": "dbd951dc-10bd-4d14-a635-c54b811d1ee0",
   "metadata": {},
   "outputs": [
    {
     "data": {
      "text/plain": [
       "array([29157.11328125, 29655.62304688, 29699.2890625 , 28961.10742188,\n",
       "       33543.70703125, 31400.21484375, 41739.34375   , 41159.20703125,\n",
       "       38901.41796875, 37667.19140625, 34105.76171875, 32857.40625   ,\n",
       "       29110.14257812, 28607.42578125, 25268.015625  , 25216.24609375,\n",
       "       23754.2265625 , 23405.18945312])"
      ]
     },
     "execution_count": 344,
     "metadata": {},
     "output_type": "execute_result"
    }
   ],
   "source": [
    "seq_res"
   ]
  },
  {
   "cell_type": "code",
   "execution_count": 345,
   "id": "a325f410-b7c3-45d8-b3e9-e59927c6fb60",
   "metadata": {},
   "outputs": [
    {
     "name": "stdout",
     "output_type": "stream",
     "text": [
      "     Minggu    Harga/week\n",
      "175     176  21428.571429\n",
      "176     177  19142.857143\n"
     ]
    }
   ],
   "source": [
    "print(weekly_data[(weekly_data['Minggu'] > 175) & (weekly_data['Minggu'] <= 177)])"
   ]
  },
  {
   "cell_type": "code",
   "execution_count": 346,
   "id": "45db148c-fa80-4704-8d39-5fe2dc2d2aa8",
   "metadata": {},
   "outputs": [],
   "source": [
    "actual = np.append(actual, [21428.57, 19142.85])"
   ]
  },
  {
   "cell_type": "code",
   "execution_count": 347,
   "id": "0b56d6be-ad64-4259-8a2a-d9bb51f80773",
   "metadata": {},
   "outputs": [],
   "source": [
    "act_temp = actual.reshape(-1, 1)\n",
    "# seq_res = np.array([])"
   ]
  },
  {
   "cell_type": "code",
   "execution_count": 348,
   "id": "42b1bb34-e45f-4373-baa4-587977b09b95",
   "metadata": {},
   "outputs": [
    {
     "name": "stdout",
     "output_type": "stream",
     "text": [
      "1/1 [==============================] - 0s 33ms/step\n"
     ]
    }
   ],
   "source": [
    "actual_scaled = scaled_price(act_temp)\n",
    "seq = actual_scaled[-window_size:]\n",
    "hasil = model.predict(seq.reshape(1, window_size, 1))\n",
    "hasil = inverse_scale(hasil)\n",
    "seq_res = np.append(seq_res, hasil.item())\n",
    "act_temp = np.append(act_temp, np.expand_dims([hasil.item()], axis=1))"
   ]
  },
  {
   "cell_type": "code",
   "execution_count": 349,
   "id": "d6da4336-db5d-4f62-9933-be8da721c50b",
   "metadata": {},
   "outputs": [
    {
     "data": {
      "text/plain": [
       "array([29157.11328125, 29655.62304688, 29699.2890625 , 28961.10742188,\n",
       "       33543.70703125, 31400.21484375, 41739.34375   , 41159.20703125,\n",
       "       38901.41796875, 37667.19140625, 34105.76171875, 32857.40625   ,\n",
       "       29110.14257812, 28607.42578125, 25268.015625  , 25216.24609375,\n",
       "       23754.2265625 , 23405.18945312, 19386.05859375])"
      ]
     },
     "execution_count": 349,
     "metadata": {},
     "output_type": "execute_result"
    }
   ],
   "source": [
    "seq_res"
   ]
  },
  {
   "cell_type": "code",
   "execution_count": 350,
   "id": "de0a5c5a-bd95-4179-912c-edf646079ded",
   "metadata": {},
   "outputs": [
    {
     "name": "stdout",
     "output_type": "stream",
     "text": [
      "1/1 [==============================] - 0s 27ms/step\n"
     ]
    }
   ],
   "source": [
    "actual_scaled = scaled_price(act_temp)\n",
    "seq = actual_scaled[-window_size:]\n",
    "hasil = model.predict(seq.reshape(1, window_size, 1))\n",
    "hasil = inverse_scale(hasil)\n",
    "seq_res = np.append(seq_res, hasil.item())\n",
    "act_temp = np.append(act_temp, np.expand_dims([hasil.item()], axis=1))"
   ]
  },
  {
   "cell_type": "code",
   "execution_count": 351,
   "id": "5aa2d730-ee6e-48e1-a076-58422a5f92cf",
   "metadata": {},
   "outputs": [
    {
     "data": {
      "text/plain": [
       "array([29157.11328125, 29655.62304688, 29699.2890625 , 28961.10742188,\n",
       "       33543.70703125, 31400.21484375, 41739.34375   , 41159.20703125,\n",
       "       38901.41796875, 37667.19140625, 34105.76171875, 32857.40625   ,\n",
       "       29110.14257812, 28607.42578125, 25268.015625  , 25216.24609375,\n",
       "       23754.2265625 , 23405.18945312, 19386.05859375, 18789.60546875])"
      ]
     },
     "execution_count": 351,
     "metadata": {},
     "output_type": "execute_result"
    }
   ],
   "source": [
    "seq_res"
   ]
  },
  {
   "cell_type": "code",
   "execution_count": 352,
   "id": "51141f29-d7cb-4ab9-9d92-ec0eddffa7cf",
   "metadata": {},
   "outputs": [
    {
     "name": "stdout",
     "output_type": "stream",
     "text": [
      "     Minggu    Harga/week\n",
      "177     178  18000.000000\n",
      "178     179  17428.571429\n"
     ]
    }
   ],
   "source": [
    "print(weekly_data[(weekly_data['Minggu'] > 177) & (weekly_data['Minggu'] <= 179)])"
   ]
  },
  {
   "cell_type": "code",
   "execution_count": 353,
   "id": "e3b24b46-e747-4132-99b2-c38281e2f383",
   "metadata": {},
   "outputs": [],
   "source": [
    "actual = np.append(actual, [18000.00, 17428.57])"
   ]
  },
  {
   "cell_type": "code",
   "execution_count": 354,
   "id": "44fde3ad-b345-43fe-8225-4706a6b0b7c6",
   "metadata": {},
   "outputs": [],
   "source": [
    "act_temp = actual.reshape(-1, 1)\n",
    "# seq_res = np.array([])"
   ]
  },
  {
   "cell_type": "code",
   "execution_count": 355,
   "id": "8c8b07eb-6944-43ba-b385-e599df873375",
   "metadata": {},
   "outputs": [
    {
     "name": "stdout",
     "output_type": "stream",
     "text": [
      "1/1 [==============================] - 0s 18ms/step\n"
     ]
    }
   ],
   "source": [
    "actual_scaled = scaled_price(act_temp)\n",
    "seq = actual_scaled[-window_size:]\n",
    "hasil = model.predict(seq.reshape(1, window_size, 1))\n",
    "hasil = inverse_scale(hasil)\n",
    "seq_res = np.append(seq_res, hasil.item())\n",
    "act_temp = np.append(act_temp, np.expand_dims([hasil.item()], axis=1))"
   ]
  },
  {
   "cell_type": "code",
   "execution_count": 356,
   "id": "236fd706-ec5e-47e3-83cf-a81036aecabe",
   "metadata": {},
   "outputs": [
    {
     "data": {
      "text/plain": [
       "array([29157.11328125, 29655.62304688, 29699.2890625 , 28961.10742188,\n",
       "       33543.70703125, 31400.21484375, 41739.34375   , 41159.20703125,\n",
       "       38901.41796875, 37667.19140625, 34105.76171875, 32857.40625   ,\n",
       "       29110.14257812, 28607.42578125, 25268.015625  , 25216.24609375,\n",
       "       23754.2265625 , 23405.18945312, 19386.05859375, 18789.60546875,\n",
       "       16771.8359375 ])"
      ]
     },
     "execution_count": 356,
     "metadata": {},
     "output_type": "execute_result"
    }
   ],
   "source": [
    "seq_res"
   ]
  },
  {
   "cell_type": "code",
   "execution_count": 357,
   "id": "bebc2512-e5ff-4d84-8a15-782ab65be19d",
   "metadata": {},
   "outputs": [
    {
     "name": "stdout",
     "output_type": "stream",
     "text": [
      "1/1 [==============================] - 0s 18ms/step\n"
     ]
    }
   ],
   "source": [
    "actual_scaled = scaled_price(act_temp)\n",
    "seq = actual_scaled[-window_size:]\n",
    "hasil = model.predict(seq.reshape(1, window_size, 1))\n",
    "hasil = inverse_scale(hasil)\n",
    "seq_res = np.append(seq_res, hasil.item())\n",
    "act_temp = np.append(act_temp, np.expand_dims([hasil.item()], axis=1))"
   ]
  },
  {
   "cell_type": "code",
   "execution_count": 358,
   "id": "7e532193-e4bb-4e7f-9388-c1d15e12c902",
   "metadata": {},
   "outputs": [
    {
     "data": {
      "text/plain": [
       "array([29157.11328125, 29655.62304688, 29699.2890625 , 28961.10742188,\n",
       "       33543.70703125, 31400.21484375, 41739.34375   , 41159.20703125,\n",
       "       38901.41796875, 37667.19140625, 34105.76171875, 32857.40625   ,\n",
       "       29110.14257812, 28607.42578125, 25268.015625  , 25216.24609375,\n",
       "       23754.2265625 , 23405.18945312, 19386.05859375, 18789.60546875,\n",
       "       16771.8359375 , 17299.93164062])"
      ]
     },
     "execution_count": 358,
     "metadata": {},
     "output_type": "execute_result"
    }
   ],
   "source": [
    "seq_res"
   ]
  },
  {
   "cell_type": "code",
   "execution_count": 359,
   "id": "7391b8ad-adfa-4694-856e-826e0c933952",
   "metadata": {},
   "outputs": [
    {
     "name": "stdout",
     "output_type": "stream",
     "text": [
      "     Minggu    Harga/week\n",
      "179     180  18714.285714\n",
      "180     181  20000.000000\n"
     ]
    }
   ],
   "source": [
    "print(weekly_data[(weekly_data['Minggu'] > 179) & (weekly_data['Minggu'] <= 181)])"
   ]
  },
  {
   "cell_type": "code",
   "execution_count": 360,
   "id": "a63acd13-bbf3-4faa-8ed9-c0914d9e6317",
   "metadata": {},
   "outputs": [],
   "source": [
    "actual = np.append(actual, [18714.28, 20000.00])"
   ]
  },
  {
   "cell_type": "code",
   "execution_count": 361,
   "id": "2b4e09ed-5469-42f6-b4f6-f2aa80a53d04",
   "metadata": {},
   "outputs": [],
   "source": [
    "act_temp = actual.reshape(-1, 1)\n",
    "# seq_res = np.array([])"
   ]
  },
  {
   "cell_type": "code",
   "execution_count": 362,
   "id": "55548f20-39d9-4dda-8f99-3c6a60562a31",
   "metadata": {},
   "outputs": [
    {
     "name": "stdout",
     "output_type": "stream",
     "text": [
      "1/1 [==============================] - 0s 21ms/step\n"
     ]
    }
   ],
   "source": [
    "actual_scaled = scaled_price(act_temp)\n",
    "seq = actual_scaled[-window_size:]\n",
    "hasil = model.predict(seq.reshape(1, window_size, 1))\n",
    "hasil = inverse_scale(hasil)\n",
    "seq_res = np.append(seq_res, hasil.item())\n",
    "act_temp = np.append(act_temp, np.expand_dims([hasil.item()], axis=1))"
   ]
  },
  {
   "cell_type": "code",
   "execution_count": 363,
   "id": "a9aae0db-6839-4ce3-978a-df07cf3ad5d2",
   "metadata": {},
   "outputs": [
    {
     "data": {
      "text/plain": [
       "array([29157.11328125, 29655.62304688, 29699.2890625 , 28961.10742188,\n",
       "       33543.70703125, 31400.21484375, 41739.34375   , 41159.20703125,\n",
       "       38901.41796875, 37667.19140625, 34105.76171875, 32857.40625   ,\n",
       "       29110.14257812, 28607.42578125, 25268.015625  , 25216.24609375,\n",
       "       23754.2265625 , 23405.18945312, 19386.05859375, 18789.60546875,\n",
       "       16771.8359375 , 17299.93164062, 19882.23242188])"
      ]
     },
     "execution_count": 363,
     "metadata": {},
     "output_type": "execute_result"
    }
   ],
   "source": [
    "seq_res"
   ]
  },
  {
   "cell_type": "code",
   "execution_count": 364,
   "id": "44eb5d85-b076-4783-b07c-ae5aff7ae43a",
   "metadata": {},
   "outputs": [
    {
     "name": "stdout",
     "output_type": "stream",
     "text": [
      "1/1 [==============================] - 0s 25ms/step\n"
     ]
    }
   ],
   "source": [
    "actual_scaled = scaled_price(act_temp)\n",
    "seq = actual_scaled[-window_size:]\n",
    "hasil = model.predict(seq.reshape(1, window_size, 1))\n",
    "hasil = inverse_scale(hasil)\n",
    "seq_res = np.append(seq_res, hasil.item())\n",
    "act_temp = np.append(act_temp, np.expand_dims([hasil.item()], axis=1))"
   ]
  },
  {
   "cell_type": "code",
   "execution_count": 365,
   "id": "bc004e76-fe1c-4123-a08a-93143c6f9b74",
   "metadata": {},
   "outputs": [
    {
     "data": {
      "text/plain": [
       "array([29157.11328125, 29655.62304688, 29699.2890625 , 28961.10742188,\n",
       "       33543.70703125, 31400.21484375, 41739.34375   , 41159.20703125,\n",
       "       38901.41796875, 37667.19140625, 34105.76171875, 32857.40625   ,\n",
       "       29110.14257812, 28607.42578125, 25268.015625  , 25216.24609375,\n",
       "       23754.2265625 , 23405.18945312, 19386.05859375, 18789.60546875,\n",
       "       16771.8359375 , 17299.93164062, 19882.23242188, 19422.15234375])"
      ]
     },
     "execution_count": 365,
     "metadata": {},
     "output_type": "execute_result"
    }
   ],
   "source": [
    "seq_res"
   ]
  },
  {
   "cell_type": "code",
   "execution_count": 366,
   "id": "5152137d-3fb7-41b7-8186-340beab8b960",
   "metadata": {},
   "outputs": [
    {
     "name": "stdout",
     "output_type": "stream",
     "text": [
      "     Minggu    Harga/week\n",
      "181     182  21428.571429\n",
      "182     183  19142.857143\n"
     ]
    }
   ],
   "source": [
    "print(weekly_data[(weekly_data['Minggu'] > 181) & (weekly_data['Minggu'] <= 183)])"
   ]
  },
  {
   "cell_type": "code",
   "execution_count": 367,
   "id": "461026f1-3f2d-4d69-8a35-a130a369c08d",
   "metadata": {},
   "outputs": [],
   "source": [
    "actual = np.append(actual, [21428.57, 19142.85])"
   ]
  },
  {
   "cell_type": "code",
   "execution_count": 368,
   "id": "5c4c487c-5f6a-48f5-8ad0-3299dc595365",
   "metadata": {},
   "outputs": [],
   "source": [
    "act_temp = actual.reshape(-1, 1)\n",
    "# seq_res = np.array([])"
   ]
  },
  {
   "cell_type": "code",
   "execution_count": 369,
   "id": "38327050-247a-465a-adeb-90ce865a2569",
   "metadata": {},
   "outputs": [
    {
     "name": "stdout",
     "output_type": "stream",
     "text": [
      "1/1 [==============================] - 0s 23ms/step\n"
     ]
    }
   ],
   "source": [
    "actual_scaled = scaled_price(act_temp)\n",
    "seq = actual_scaled[-window_size:]\n",
    "hasil = model.predict(seq.reshape(1, window_size, 1))\n",
    "hasil = inverse_scale(hasil)\n",
    "seq_res = np.append(seq_res, hasil.item())\n",
    "act_temp = np.append(act_temp, np.expand_dims([hasil.item()], axis=1))"
   ]
  },
  {
   "cell_type": "code",
   "execution_count": 370,
   "id": "1fc1037f-9e91-42a4-bd54-7f813a857d8f",
   "metadata": {},
   "outputs": [
    {
     "name": "stdout",
     "output_type": "stream",
     "text": [
      "1/1 [==============================] - 0s 20ms/step\n"
     ]
    }
   ],
   "source": [
    "actual_scaled = scaled_price(act_temp)\n",
    "seq = actual_scaled[-window_size:]\n",
    "hasil = model.predict(seq.reshape(1, window_size, 1))\n",
    "hasil = inverse_scale(hasil)\n",
    "seq_res = np.append(seq_res, hasil.item())\n",
    "act_temp = np.append(act_temp, np.expand_dims([hasil.item()], axis=1))"
   ]
  },
  {
   "cell_type": "code",
   "execution_count": 371,
   "id": "6807ed05-a58e-4600-91a1-102540a359ab",
   "metadata": {},
   "outputs": [
    {
     "data": {
      "text/plain": [
       "array([29157.11328125, 29655.62304688, 29699.2890625 , 28961.10742188,\n",
       "       33543.70703125, 31400.21484375, 41739.34375   , 41159.20703125,\n",
       "       38901.41796875, 37667.19140625, 34105.76171875, 32857.40625   ,\n",
       "       29110.14257812, 28607.42578125, 25268.015625  , 25216.24609375,\n",
       "       23754.2265625 , 23405.18945312, 19386.05859375, 18789.60546875,\n",
       "       16771.8359375 , 17299.93164062, 19882.23242188, 19422.15234375,\n",
       "       20146.06445312, 20619.42382812])"
      ]
     },
     "execution_count": 371,
     "metadata": {},
     "output_type": "execute_result"
    }
   ],
   "source": [
    "seq_res"
   ]
  },
  {
   "cell_type": "code",
   "execution_count": 372,
   "id": "d0ab0717-47a4-46d6-aa61-d731b209989e",
   "metadata": {},
   "outputs": [
    {
     "name": "stdout",
     "output_type": "stream",
     "text": [
      "     Minggu    Harga/week\n",
      "183     184  19357.142857\n",
      "184     185  20000.000000\n"
     ]
    }
   ],
   "source": [
    "print(weekly_data[(weekly_data['Minggu'] > 183) & (weekly_data['Minggu'] <= 185)])"
   ]
  },
  {
   "cell_type": "code",
   "execution_count": 373,
   "id": "4554a72b-cd61-4f51-bd28-9e108897a3ef",
   "metadata": {},
   "outputs": [],
   "source": [
    "actual = np.append(actual, [19357.14, 20000.00])"
   ]
  },
  {
   "cell_type": "code",
   "execution_count": 374,
   "id": "6b8f58f7-bdea-4c50-8e02-ada66fb110cd",
   "metadata": {},
   "outputs": [],
   "source": [
    "act_temp = actual.reshape(-1, 1)\n",
    "# seq_res = np.array([])"
   ]
  },
  {
   "cell_type": "code",
   "execution_count": 375,
   "id": "debc9648-9501-4114-8d61-346080a88eab",
   "metadata": {},
   "outputs": [
    {
     "name": "stdout",
     "output_type": "stream",
     "text": [
      "1/1 [==============================] - 0s 24ms/step\n"
     ]
    }
   ],
   "source": [
    "actual_scaled = scaled_price(act_temp)\n",
    "seq = actual_scaled[-window_size:]\n",
    "hasil = model.predict(seq.reshape(1, window_size, 1))\n",
    "hasil = inverse_scale(hasil)\n",
    "seq_res = np.append(seq_res, hasil.item())\n",
    "act_temp = np.append(act_temp, np.expand_dims([hasil.item()], axis=1))"
   ]
  },
  {
   "cell_type": "code",
   "execution_count": 376,
   "id": "9b635e6c-70be-4df3-bceb-db59c298bbfd",
   "metadata": {},
   "outputs": [
    {
     "name": "stdout",
     "output_type": "stream",
     "text": [
      "1/1 [==============================] - 0s 17ms/step\n"
     ]
    }
   ],
   "source": [
    "actual_scaled = scaled_price(act_temp)\n",
    "seq = actual_scaled[-window_size:]\n",
    "hasil = model.predict(seq.reshape(1, window_size, 1))\n",
    "hasil = inverse_scale(hasil)\n",
    "seq_res = np.append(seq_res, hasil.item())\n",
    "act_temp = np.append(act_temp, np.expand_dims([hasil.item()], axis=1))"
   ]
  },
  {
   "cell_type": "code",
   "execution_count": 377,
   "id": "c88db887-a080-42d0-a582-df48f885a204",
   "metadata": {},
   "outputs": [
    {
     "data": {
      "text/plain": [
       "array([29157.11328125, 29655.62304688, 29699.2890625 , 28961.10742188,\n",
       "       33543.70703125, 31400.21484375, 41739.34375   , 41159.20703125,\n",
       "       38901.41796875, 37667.19140625, 34105.76171875, 32857.40625   ,\n",
       "       29110.14257812, 28607.42578125, 25268.015625  , 25216.24609375,\n",
       "       23754.2265625 , 23405.18945312, 19386.05859375, 18789.60546875,\n",
       "       16771.8359375 , 17299.93164062, 19882.23242188, 19422.15234375,\n",
       "       20146.06445312, 20619.42382812, 19148.859375  , 19049.95898438])"
      ]
     },
     "execution_count": 377,
     "metadata": {},
     "output_type": "execute_result"
    }
   ],
   "source": [
    "seq_res"
   ]
  },
  {
   "cell_type": "code",
   "execution_count": 378,
   "id": "1fbbbeb2-1360-4222-812f-42fa0ee6c387",
   "metadata": {},
   "outputs": [
    {
     "name": "stdout",
     "output_type": "stream",
     "text": [
      "     Minggu    Harga/week\n",
      "185     186  20000.000000\n",
      "186     187  20857.142857\n"
     ]
    }
   ],
   "source": [
    "print(weekly_data[(weekly_data['Minggu'] > 185) & (weekly_data['Minggu'] <= 187)])"
   ]
  },
  {
   "cell_type": "code",
   "execution_count": 379,
   "id": "d6b2ee73-0418-49df-b8ed-cf28be4b174d",
   "metadata": {},
   "outputs": [],
   "source": [
    "actual = np.append(actual, [20000.00, 20857.14])"
   ]
  },
  {
   "cell_type": "code",
   "execution_count": 380,
   "id": "6880c0b3-2531-4930-a3c7-f833032b772e",
   "metadata": {},
   "outputs": [],
   "source": [
    "act_temp = actual.reshape(-1, 1)\n",
    "# seq_res = np.array([])"
   ]
  },
  {
   "cell_type": "code",
   "execution_count": 381,
   "id": "e7b6a821-70b2-4c0c-9649-95a8c85fa98a",
   "metadata": {},
   "outputs": [
    {
     "name": "stdout",
     "output_type": "stream",
     "text": [
      "1/1 [==============================] - 0s 23ms/step\n"
     ]
    }
   ],
   "source": [
    "actual_scaled = scaled_price(act_temp)\n",
    "seq = actual_scaled[-window_size:]\n",
    "hasil = model.predict(seq.reshape(1, window_size, 1))\n",
    "hasil = inverse_scale(hasil)\n",
    "seq_res = np.append(seq_res, hasil.item())\n",
    "act_temp = np.append(act_temp, np.expand_dims([hasil.item()], axis=1))"
   ]
  },
  {
   "cell_type": "code",
   "execution_count": 382,
   "id": "9ac68741-6bb3-4f09-9f29-20574c98906c",
   "metadata": {},
   "outputs": [
    {
     "name": "stdout",
     "output_type": "stream",
     "text": [
      "1/1 [==============================] - 0s 23ms/step\n"
     ]
    }
   ],
   "source": [
    "actual_scaled = scaled_price(act_temp)\n",
    "seq = actual_scaled[-window_size:]\n",
    "hasil = model.predict(seq.reshape(1, window_size, 1))\n",
    "hasil = inverse_scale(hasil)\n",
    "seq_res = np.append(seq_res, hasil.item())\n",
    "act_temp = np.append(act_temp, np.expand_dims([hasil.item()], axis=1))"
   ]
  },
  {
   "cell_type": "code",
   "execution_count": 383,
   "id": "1b3f00bd-47b5-4267-b184-e2ce0339b5da",
   "metadata": {},
   "outputs": [
    {
     "data": {
      "text/plain": [
       "array([29157.11328125, 29655.62304688, 29699.2890625 , 28961.10742188,\n",
       "       33543.70703125, 31400.21484375, 41739.34375   , 41159.20703125,\n",
       "       38901.41796875, 37667.19140625, 34105.76171875, 32857.40625   ,\n",
       "       29110.14257812, 28607.42578125, 25268.015625  , 25216.24609375,\n",
       "       23754.2265625 , 23405.18945312, 19386.05859375, 18789.60546875,\n",
       "       16771.8359375 , 17299.93164062, 19882.23242188, 19422.15234375,\n",
       "       20146.06445312, 20619.42382812, 19148.859375  , 19049.95898438,\n",
       "       21443.86523438, 21029.56835938])"
      ]
     },
     "execution_count": 383,
     "metadata": {},
     "output_type": "execute_result"
    }
   ],
   "source": [
    "seq_res"
   ]
  },
  {
   "cell_type": "code",
   "execution_count": 384,
   "id": "0d1f14f4-4544-409b-81f3-c39b6b5270d3",
   "metadata": {},
   "outputs": [
    {
     "name": "stdout",
     "output_type": "stream",
     "text": [
      "     Minggu  Harga/week\n",
      "187     188     22000.0\n",
      "188     189     22000.0\n"
     ]
    }
   ],
   "source": [
    "print(weekly_data[(weekly_data['Minggu'] > 187) & (weekly_data['Minggu'] <= 189)])"
   ]
  },
  {
   "cell_type": "code",
   "execution_count": 385,
   "id": "e14b2cf1-bf37-4741-891f-7a3ca4454652",
   "metadata": {},
   "outputs": [],
   "source": [
    "actual = np.append(actual, [22000.00, 22000.00])"
   ]
  },
  {
   "cell_type": "code",
   "execution_count": 386,
   "id": "14627845-afd0-47aa-bf7a-f1c0de5a43b6",
   "metadata": {},
   "outputs": [],
   "source": [
    "act_temp = actual.reshape(-1, 1)\n",
    "# seq_res = np.array([])"
   ]
  },
  {
   "cell_type": "code",
   "execution_count": 387,
   "id": "76855bd2-cb75-407c-a022-0b3944f5574f",
   "metadata": {},
   "outputs": [
    {
     "name": "stdout",
     "output_type": "stream",
     "text": [
      "1/1 [==============================] - 0s 128ms/step\n"
     ]
    }
   ],
   "source": [
    "actual_scaled = scaled_price(act_temp)\n",
    "seq = actual_scaled[-window_size:]\n",
    "hasil = model.predict(seq.reshape(1, window_size, 1))\n",
    "hasil = inverse_scale(hasil)\n",
    "seq_res = np.append(seq_res, hasil.item())\n",
    "act_temp = np.append(act_temp, np.expand_dims([hasil.item()], axis=1))"
   ]
  },
  {
   "cell_type": "code",
   "execution_count": 388,
   "id": "95081973-0892-42a5-870d-c611f1bd3971",
   "metadata": {},
   "outputs": [
    {
     "name": "stdout",
     "output_type": "stream",
     "text": [
      "1/1 [==============================] - 0s 22ms/step\n"
     ]
    }
   ],
   "source": [
    "actual_scaled = scaled_price(act_temp)\n",
    "seq = actual_scaled[-window_size:]\n",
    "hasil = model.predict(seq.reshape(1, window_size, 1))\n",
    "hasil = inverse_scale(hasil)\n",
    "seq_res = np.append(seq_res, hasil.item())\n",
    "act_temp = np.append(act_temp, np.expand_dims([hasil.item()], axis=1))"
   ]
  },
  {
   "cell_type": "code",
   "execution_count": 389,
   "id": "e3a323cd-d4ad-434f-a4da-b13e568805c3",
   "metadata": {},
   "outputs": [
    {
     "data": {
      "text/plain": [
       "array([29157.11328125, 29655.62304688, 29699.2890625 , 28961.10742188,\n",
       "       33543.70703125, 31400.21484375, 41739.34375   , 41159.20703125,\n",
       "       38901.41796875, 37667.19140625, 34105.76171875, 32857.40625   ,\n",
       "       29110.14257812, 28607.42578125, 25268.015625  , 25216.24609375,\n",
       "       23754.2265625 , 23405.18945312, 19386.05859375, 18789.60546875,\n",
       "       16771.8359375 , 17299.93164062, 19882.23242188, 19422.15234375,\n",
       "       20146.06445312, 20619.42382812, 19148.859375  , 19049.95898438,\n",
       "       21443.86523438, 21029.56835938, 21327.18554688, 21515.01367188])"
      ]
     },
     "execution_count": 389,
     "metadata": {},
     "output_type": "execute_result"
    }
   ],
   "source": [
    "seq_res"
   ]
  },
  {
   "cell_type": "code",
   "execution_count": 404,
   "id": "9d95e206-6280-4b75-96b2-cf7a2161c3f0",
   "metadata": {},
   "outputs": [
    {
     "data": {
      "text/plain": [
       "array([26142.85, 30714.28, 39285.71, 35714.28, 41785.71, 41428.57,\n",
       "       38857.14, 40000.  , 42857.14, 36857.14, 30714.28, 30000.  ,\n",
       "       29428.57, 25000.  , 25000.  , 25000.  , 21428.57, 19142.85,\n",
       "       18000.  , 17428.57, 18714.28, 20000.  , 21428.57, 19142.85,\n",
       "       19357.14, 20000.  , 20000.  , 20857.14, 22000.  , 22000.  ,\n",
       "       28000.  , 28000.  ])"
      ]
     },
     "execution_count": 404,
     "metadata": {},
     "output_type": "execute_result"
    }
   ],
   "source": [
    "actual[-32:]"
   ]
  },
  {
   "cell_type": "code",
   "execution_count": 390,
   "id": "95a92423-6392-41f8-949c-436c1cdb6e1f",
   "metadata": {},
   "outputs": [],
   "source": [
    "actual = np.append(actual, [28000.00, 28000.00])"
   ]
  },
  {
   "cell_type": "code",
   "execution_count": 405,
   "id": "e7d377e2-ecfc-424b-8c77-950eab907e76",
   "metadata": {},
   "outputs": [
    {
     "data": {
      "text/plain": [
       "<matplotlib.legend.Legend at 0x1f5dbd415a0>"
      ]
     },
     "execution_count": 405,
     "metadata": {},
     "output_type": "execute_result"
    },
    {
     "data": {
      "image/png": "[encoded data removed]",
      "text/plain": [
       "<Figure size 640x480 with 1 Axes>"
      ]
     },
     "metadata": {},
     "output_type": "display_data"
    }
   ],
   "source": [
    "plt.plot(seq_res, label='prediction')\n",
    "plt.plot(actual[-32:], label='actual')\n",
    "plt.legend()"
   ]
  },
  {
   "cell_type": "code",
   "execution_count": 406,
   "id": "8532e906-6df0-4f51-b616-86b2cc578553",
   "metadata": {},
   "outputs": [
    {
     "name": "stdout",
     "output_type": "stream",
     "text": [
      "mae: 2896.98\n",
      "mse: 15899264.02\n",
      "rmse: 3987.39\n"
     ]
    }
   ],
   "source": [
    "mae = mean_absolute_error(seq_res, actual[-32:])\n",
    "mse = mean_squared_error(seq_res, actual[-32:])\n",
    "rmse = np.sqrt(mse)\n",
    "\n",
    "print(f'mae: {mae:.2f}')\n",
    "print(f'mse: {mse:.2f}')\n",
    "print(f'rmse: {rmse:.2f}')"
   ]
  },
  {
   "cell_type": "code",
   "execution_count": 407,
   "id": "c0327bb2-e4dd-4966-87be-9cc6e4b17368",
   "metadata": {},
   "outputs": [
    {
     "name": "stdout",
     "output_type": "stream",
     "text": [
      "Akurasi prediksi: 89.04%\n"
     ]
    }
   ],
   "source": [
    "mape = np.mean(np.abs((seq_res - actual[-32:]) / seq_res)) * 100\n",
    "accuracy = 100 - mape\n",
    "print(f\"Akurasi prediksi: {accuracy:.2f}%\")"
   ]
  },
  {
   "cell_type": "code",
   "execution_count": 274,
   "id": "86977e30-793c-49f9-bfe2-231c3045cb1c",
   "metadata": {},
   "outputs": [],
   "source": [
    "act_temp = actual.reshape(-1, 1)\n",
    "# seq_res = np.array([])"
   ]
  },
  {
   "cell_type": "code",
   "execution_count": 275,
   "id": "1f4e2878-1705-4d05-80f5-d107acf6cefe",
   "metadata": {},
   "outputs": [
    {
     "name": "stdout",
     "output_type": "stream",
     "text": [
      "1/1 [==============================] - 0s 23ms/step\n"
     ]
    }
   ],
   "source": [
    "actual_scaled = scaled_price(act_temp)\n",
    "seq = actual_scaled[-window_size:]\n",
    "hasil = model.predict(seq.reshape(1, window_size, 1))\n",
    "hasil = inverse_scale(hasil)\n",
    "seq_res = np.append(seq_res, hasil.item())\n",
    "act_temp = np.append(act_temp, np.expand_dims([hasil.item()], axis=1))"
   ]
  },
  {
   "cell_type": "code",
   "execution_count": 276,
   "id": "2c26647d-7761-4ebf-b452-00e4452f839a",
   "metadata": {},
   "outputs": [
    {
     "name": "stdout",
     "output_type": "stream",
     "text": [
      "1/1 [==============================] - 0s 24ms/step\n"
     ]
    }
   ],
   "source": [
    "actual_scaled = scaled_price(act_temp)\n",
    "seq = actual_scaled[-window_size:]\n",
    "hasil = model.predict(seq.reshape(1, window_size, 1))\n",
    "hasil = inverse_scale(hasil)\n",
    "seq_res = np.append(seq_res, hasil.item())\n",
    "act_temp = np.append(act_temp, np.expand_dims([hasil.item()], axis=1))"
   ]
  },
  {
   "cell_type": "code",
   "execution_count": 277,
   "id": "9570ddf2-ed81-4763-9cfe-0756e5593891",
   "metadata": {},
   "outputs": [
    {
     "data": {
      "text/plain": [
       "array([28283.56445312, 27232.94726562])"
      ]
     },
     "execution_count": 277,
     "metadata": {},
     "output_type": "execute_result"
    }
   ],
   "source": [
    "seq_res"
   ]
  },
  {
   "cell_type": "code",
   "execution_count": 278,
   "id": "742a101f-581c-49a9-900f-ddd54d801fbd",
   "metadata": {},
   "outputs": [],
   "source": [
    "actual = np.append(actual, [32000.00, 35000.00])"
   ]
  },
  {
   "cell_type": "code",
   "execution_count": 279,
   "id": "38783b22-06e6-4220-b56a-c82642ecc988",
   "metadata": {},
   "outputs": [],
   "source": [
    "act_temp = actual.reshape(-1, 1)\n",
    "seq_res = np.array([])"
   ]
  },
  {
   "cell_type": "code",
   "execution_count": 280,
   "id": "7480cdd6-7dbf-402d-abf8-a8057d855a10",
   "metadata": {},
   "outputs": [
    {
     "name": "stdout",
     "output_type": "stream",
     "text": [
      "1/1 [==============================] - 0s 23ms/step\n"
     ]
    }
   ],
   "source": [
    "actual_scaled = scaled_price(act_temp)\n",
    "seq = actual_scaled[-window_size:]\n",
    "hasil = model.predict(seq.reshape(1, window_size, 1))\n",
    "hasil = inverse_scale(hasil)\n",
    "seq_res = np.append(seq_res, hasil.item())\n",
    "act_temp = np.append(act_temp, np.expand_dims([hasil.item()], axis=1))"
   ]
  },
  {
   "cell_type": "code",
   "execution_count": 281,
   "id": "dfeb72e5-3077-4404-b2f3-a33f220fcfa4",
   "metadata": {},
   "outputs": [
    {
     "name": "stdout",
     "output_type": "stream",
     "text": [
      "1/1 [==============================] - 0s 55ms/step\n"
     ]
    }
   ],
   "source": [
    "actual_scaled = scaled_price(act_temp)\n",
    "seq = actual_scaled[-window_size:]\n",
    "hasil = model.predict(seq.reshape(1, window_size, 1))\n",
    "hasil = inverse_scale(hasil)\n",
    "seq_res = np.append(seq_res, hasil.item())\n",
    "act_temp = np.append(act_temp, np.expand_dims([hasil.item()], axis=1))"
   ]
  },
  {
   "cell_type": "code",
   "execution_count": 282,
   "id": "3e042a43-63ae-475f-9637-f277fe247664",
   "metadata": {},
   "outputs": [
    {
     "data": {
      "text/plain": [
       "array([33956.0234375 , 32661.50976562])"
      ]
     },
     "execution_count": 282,
     "metadata": {},
     "output_type": "execute_result"
    }
   ],
   "source": [
    "seq_res"
   ]
  },
  {
   "cell_type": "code",
   "execution_count": null,
   "id": "d50b5bf9-fc6b-4d86-a5a7-07af04b4142f",
   "metadata": {},
   "outputs": [],
   "source": []
  }
 ],
 "metadata": {
  "kernelspec": {
   "display_name": "Python 3 (ipykernel)",
   "language": "python",
   "name": "python3"
  },
  "language_info": {
   "codemirror_mode": {
    "name": "ipython",
    "version": 3
   },
   "file_extension": ".py",
   "mimetype": "text/x-python",
   "name": "python",
   "nbconvert_exporter": "python",
   "pygments_lexer": "ipython3",
   "version": "3.10.15"
  }
 },
 "nbformat": 4,
 "nbformat_minor": 5
}

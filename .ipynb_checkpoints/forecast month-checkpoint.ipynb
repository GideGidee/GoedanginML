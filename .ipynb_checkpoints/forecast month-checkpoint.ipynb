{
 "cells": [
  {
   "cell_type": "markdown",
   "id": "d52784cf-62e9-4422-8c4e-96ae1a4b3c3c",
   "metadata": {},
   "source": [
    "# Forecast Harga Pasar Komoditas Bawang Merah di Brebes"
   ]
  },
  {
   "cell_type": "markdown",
   "id": "c168926e-8e59-4897-881d-868bfafb83ed",
   "metadata": {},
   "source": [
    "## Import Libraries"
   ]
  },
  {
   "cell_type": "code",
   "execution_count": 1,
   "id": "2febd797-71b8-468d-a1dd-e0e408035229",
   "metadata": {},
   "outputs": [],
   "source": [
    "import tensorflow as tf\n",
    "import pandas as pd\n",
    "import numpy as np\n",
    "import matplotlib.pyplot as plt\n",
    "import math\n",
    "from sklearn.metrics import mean_absolute_error, mean_squared_error\n",
    "from tensorflow import keras\n",
    "from tensorflow.keras.layers import Input, LSTM, Dense, Dropout, Flatten"
   ]
  },
  {
   "cell_type": "markdown",
   "id": "a0cfe503-c1bc-47b8-915c-072d111e099b",
   "metadata": {},
   "source": [
    "## Data Collections"
   ]
  },
  {
   "cell_type": "code",
   "execution_count": 2,
   "id": "b5001090-84ee-4281-9c66-8f6523fdbc0a",
   "metadata": {},
   "outputs": [
    {
     "data": {
      "text/html": [
       "<div>\n",
       "<style scoped>\n",
       "    .dataframe tbody tr th:only-of-type {\n",
       "        vertical-align: middle;\n",
       "    }\n",
       "\n",
       "    .dataframe tbody tr th {\n",
       "        vertical-align: top;\n",
       "    }\n",
       "\n",
       "    .dataframe thead th {\n",
       "        text-align: right;\n",
       "    }\n",
       "</style>\n",
       "<table border=\"1\" class=\"dataframe\">\n",
       "  <thead>\n",
       "    <tr style=\"text-align: right;\">\n",
       "      <th></th>\n",
       "      <th>Komoditas (Rp)</th>\n",
       "      <th>15/03/2021</th>\n",
       "      <th>16/03/2021</th>\n",
       "      <th>17/03/2021</th>\n",
       "      <th>18/03/2021</th>\n",
       "      <th>19/03/2021</th>\n",
       "      <th>20/03/2021</th>\n",
       "      <th>21/03/2021</th>\n",
       "      <th>22/03/2021</th>\n",
       "      <th>23/03/2021</th>\n",
       "      <th>...</th>\n",
       "      <th>21/10/2024</th>\n",
       "      <th>22/10/2024</th>\n",
       "      <th>23/10/2024</th>\n",
       "      <th>24/10/2024</th>\n",
       "      <th>25/10/2024</th>\n",
       "      <th>26/10/2024</th>\n",
       "      <th>27/10/2024</th>\n",
       "      <th>28/10/2024</th>\n",
       "      <th>29/10/2024</th>\n",
       "      <th>30/10/2024</th>\n",
       "    </tr>\n",
       "  </thead>\n",
       "  <tbody>\n",
       "    <tr>\n",
       "      <th>0</th>\n",
       "      <td>Beras Premium</td>\n",
       "      <td>11.500</td>\n",
       "      <td>11.500</td>\n",
       "      <td>11.500</td>\n",
       "      <td>11.500</td>\n",
       "      <td>11.500</td>\n",
       "      <td>11.500</td>\n",
       "      <td>-</td>\n",
       "      <td>11.500</td>\n",
       "      <td>-</td>\n",
       "      <td>...</td>\n",
       "      <td>16.0</td>\n",
       "      <td>16.0</td>\n",
       "      <td>16.0</td>\n",
       "      <td>-</td>\n",
       "      <td>-</td>\n",
       "      <td>16.0</td>\n",
       "      <td>16.0</td>\n",
       "      <td>-</td>\n",
       "      <td>16.0</td>\n",
       "      <td>15.0</td>\n",
       "    </tr>\n",
       "    <tr>\n",
       "      <th>1</th>\n",
       "      <td>Beras Medium</td>\n",
       "      <td>9.000</td>\n",
       "      <td>9.000</td>\n",
       "      <td>9.000</td>\n",
       "      <td>9.000</td>\n",
       "      <td>9.000</td>\n",
       "      <td>9.000</td>\n",
       "      <td>-</td>\n",
       "      <td>9.000</td>\n",
       "      <td>-</td>\n",
       "      <td>...</td>\n",
       "      <td>14.0</td>\n",
       "      <td>14.0</td>\n",
       "      <td>14.0</td>\n",
       "      <td>-</td>\n",
       "      <td>-</td>\n",
       "      <td>14.0</td>\n",
       "      <td>14.0</td>\n",
       "      <td>-</td>\n",
       "      <td>14.0</td>\n",
       "      <td>13.5</td>\n",
       "    </tr>\n",
       "    <tr>\n",
       "      <th>2</th>\n",
       "      <td>Kedelai Biji Kering (Impor)</td>\n",
       "      <td>11.000</td>\n",
       "      <td>11.000</td>\n",
       "      <td>11.000</td>\n",
       "      <td>11.000</td>\n",
       "      <td>11.000</td>\n",
       "      <td>11.000</td>\n",
       "      <td>-</td>\n",
       "      <td>10.000</td>\n",
       "      <td>-</td>\n",
       "      <td>...</td>\n",
       "      <td>10.3</td>\n",
       "      <td>10.3</td>\n",
       "      <td>10.3</td>\n",
       "      <td>-</td>\n",
       "      <td>-</td>\n",
       "      <td>10.3</td>\n",
       "      <td>10.3</td>\n",
       "      <td>-</td>\n",
       "      <td>10.3</td>\n",
       "      <td>10.3</td>\n",
       "    </tr>\n",
       "    <tr>\n",
       "      <th>3</th>\n",
       "      <td>Bawang Merah</td>\n",
       "      <td>28.000</td>\n",
       "      <td>28.000</td>\n",
       "      <td>28.000</td>\n",
       "      <td>28.000</td>\n",
       "      <td>28.000</td>\n",
       "      <td>27.000</td>\n",
       "      <td>-</td>\n",
       "      <td>27.000</td>\n",
       "      <td>-</td>\n",
       "      <td>...</td>\n",
       "      <td>22.0</td>\n",
       "      <td>22.0</td>\n",
       "      <td>22.0</td>\n",
       "      <td>-</td>\n",
       "      <td>-</td>\n",
       "      <td>22.0</td>\n",
       "      <td>22.0</td>\n",
       "      <td>-</td>\n",
       "      <td>28.0</td>\n",
       "      <td>28.0</td>\n",
       "    </tr>\n",
       "    <tr>\n",
       "      <th>4</th>\n",
       "      <td>Bawang Putih Bonggol</td>\n",
       "      <td>22.000</td>\n",
       "      <td>22.000</td>\n",
       "      <td>22.000</td>\n",
       "      <td>22.000</td>\n",
       "      <td>22.000</td>\n",
       "      <td>22.000</td>\n",
       "      <td>-</td>\n",
       "      <td>22.000</td>\n",
       "      <td>-</td>\n",
       "      <td>...</td>\n",
       "      <td>35.0</td>\n",
       "      <td>35.0</td>\n",
       "      <td>35.0</td>\n",
       "      <td>-</td>\n",
       "      <td>-</td>\n",
       "      <td>35.0</td>\n",
       "      <td>35.0</td>\n",
       "      <td>-</td>\n",
       "      <td>35.0</td>\n",
       "      <td>35.0</td>\n",
       "    </tr>\n",
       "    <tr>\n",
       "      <th>5</th>\n",
       "      <td>Cabai Merah Keriting</td>\n",
       "      <td>50.000</td>\n",
       "      <td>50.000</td>\n",
       "      <td>50.000</td>\n",
       "      <td>50.000</td>\n",
       "      <td>50.000</td>\n",
       "      <td>50.000</td>\n",
       "      <td>-</td>\n",
       "      <td>50.000</td>\n",
       "      <td>-</td>\n",
       "      <td>...</td>\n",
       "      <td>25.0</td>\n",
       "      <td>25.0</td>\n",
       "      <td>25.0</td>\n",
       "      <td>-</td>\n",
       "      <td>-</td>\n",
       "      <td>25.0</td>\n",
       "      <td>25.0</td>\n",
       "      <td>-</td>\n",
       "      <td>30.0</td>\n",
       "      <td>30.0</td>\n",
       "    </tr>\n",
       "    <tr>\n",
       "      <th>6</th>\n",
       "      <td>Cabai Rawit Merah</td>\n",
       "      <td>115.000</td>\n",
       "      <td>115.000</td>\n",
       "      <td>115.000</td>\n",
       "      <td>115.000</td>\n",
       "      <td>110.000</td>\n",
       "      <td>115.000</td>\n",
       "      <td>-</td>\n",
       "      <td>115.000</td>\n",
       "      <td>-</td>\n",
       "      <td>...</td>\n",
       "      <td>35.0</td>\n",
       "      <td>35.0</td>\n",
       "      <td>35.0</td>\n",
       "      <td>-</td>\n",
       "      <td>-</td>\n",
       "      <td>35.0</td>\n",
       "      <td>35.0</td>\n",
       "      <td>-</td>\n",
       "      <td>40.0</td>\n",
       "      <td>40.0</td>\n",
       "    </tr>\n",
       "    <tr>\n",
       "      <th>7</th>\n",
       "      <td>Daging Sapi Murni</td>\n",
       "      <td>120.000</td>\n",
       "      <td>120.000</td>\n",
       "      <td>120.000</td>\n",
       "      <td>120.000</td>\n",
       "      <td>120.000</td>\n",
       "      <td>120.000</td>\n",
       "      <td>-</td>\n",
       "      <td>120.000</td>\n",
       "      <td>-</td>\n",
       "      <td>...</td>\n",
       "      <td>143.0</td>\n",
       "      <td>143.0</td>\n",
       "      <td>143.0</td>\n",
       "      <td>-</td>\n",
       "      <td>-</td>\n",
       "      <td>143.0</td>\n",
       "      <td>143.0</td>\n",
       "      <td>-</td>\n",
       "      <td>143.0</td>\n",
       "      <td>143.0</td>\n",
       "    </tr>\n",
       "    <tr>\n",
       "      <th>8</th>\n",
       "      <td>Daging Ayam Ras</td>\n",
       "      <td>36.000</td>\n",
       "      <td>36.000</td>\n",
       "      <td>36.000</td>\n",
       "      <td>36.000</td>\n",
       "      <td>36.000</td>\n",
       "      <td>36.000</td>\n",
       "      <td>-</td>\n",
       "      <td>36.000</td>\n",
       "      <td>-</td>\n",
       "      <td>...</td>\n",
       "      <td>37.0</td>\n",
       "      <td>37.0</td>\n",
       "      <td>37.0</td>\n",
       "      <td>-</td>\n",
       "      <td>-</td>\n",
       "      <td>37.0</td>\n",
       "      <td>38.0</td>\n",
       "      <td>-</td>\n",
       "      <td>38.0</td>\n",
       "      <td>37.0</td>\n",
       "    </tr>\n",
       "    <tr>\n",
       "      <th>9</th>\n",
       "      <td>Telur Ayam Ras</td>\n",
       "      <td>22.000</td>\n",
       "      <td>22.000</td>\n",
       "      <td>22.000</td>\n",
       "      <td>22.000</td>\n",
       "      <td>22.000</td>\n",
       "      <td>22.000</td>\n",
       "      <td>-</td>\n",
       "      <td>22.000</td>\n",
       "      <td>-</td>\n",
       "      <td>...</td>\n",
       "      <td>26.5</td>\n",
       "      <td>26.5</td>\n",
       "      <td>26.5</td>\n",
       "      <td>-</td>\n",
       "      <td>-</td>\n",
       "      <td>26.0</td>\n",
       "      <td>26.0</td>\n",
       "      <td>-</td>\n",
       "      <td>26.5</td>\n",
       "      <td>27.0</td>\n",
       "    </tr>\n",
       "    <tr>\n",
       "      <th>10</th>\n",
       "      <td>Gula Konsumsi</td>\n",
       "      <td>12.500</td>\n",
       "      <td>12.500</td>\n",
       "      <td>12.500</td>\n",
       "      <td>12.500</td>\n",
       "      <td>12.500</td>\n",
       "      <td>12.500</td>\n",
       "      <td>-</td>\n",
       "      <td>12.500</td>\n",
       "      <td>-</td>\n",
       "      <td>...</td>\n",
       "      <td>17.5</td>\n",
       "      <td>17.5</td>\n",
       "      <td>17.5</td>\n",
       "      <td>-</td>\n",
       "      <td>-</td>\n",
       "      <td>17.5</td>\n",
       "      <td>17.5</td>\n",
       "      <td>-</td>\n",
       "      <td>17.5</td>\n",
       "      <td>17.5</td>\n",
       "    </tr>\n",
       "    <tr>\n",
       "      <th>11</th>\n",
       "      <td>Minyak Goreng Kemasan Sederhana</td>\n",
       "      <td>14.000</td>\n",
       "      <td>14.000</td>\n",
       "      <td>14.000</td>\n",
       "      <td>14.000</td>\n",
       "      <td>14.000</td>\n",
       "      <td>14.000</td>\n",
       "      <td>-</td>\n",
       "      <td>14.000</td>\n",
       "      <td>-</td>\n",
       "      <td>...</td>\n",
       "      <td>19.0</td>\n",
       "      <td>19.0</td>\n",
       "      <td>19.0</td>\n",
       "      <td>-</td>\n",
       "      <td>-</td>\n",
       "      <td>19.0</td>\n",
       "      <td>19.0</td>\n",
       "      <td>-</td>\n",
       "      <td>19.0</td>\n",
       "      <td>19.0</td>\n",
       "    </tr>\n",
       "    <tr>\n",
       "      <th>12</th>\n",
       "      <td>Tepung Terigu (Curah)</td>\n",
       "      <td>7.000</td>\n",
       "      <td>7.000</td>\n",
       "      <td>7.000</td>\n",
       "      <td>7.000</td>\n",
       "      <td>7.000</td>\n",
       "      <td>7.000</td>\n",
       "      <td>-</td>\n",
       "      <td>7.000</td>\n",
       "      <td>-</td>\n",
       "      <td>...</td>\n",
       "      <td>9.0</td>\n",
       "      <td>9.0</td>\n",
       "      <td>9.0</td>\n",
       "      <td>-</td>\n",
       "      <td>-</td>\n",
       "      <td>9.0</td>\n",
       "      <td>9.0</td>\n",
       "      <td>-</td>\n",
       "      <td>9.0</td>\n",
       "      <td>9.0</td>\n",
       "    </tr>\n",
       "    <tr>\n",
       "      <th>13</th>\n",
       "      <td>Minyak Goreng Curah</td>\n",
       "      <td>-</td>\n",
       "      <td>-</td>\n",
       "      <td>-</td>\n",
       "      <td>-</td>\n",
       "      <td>-</td>\n",
       "      <td>-</td>\n",
       "      <td>-</td>\n",
       "      <td>-</td>\n",
       "      <td>-</td>\n",
       "      <td>...</td>\n",
       "      <td>17.0</td>\n",
       "      <td>17.0</td>\n",
       "      <td>17.0</td>\n",
       "      <td>-</td>\n",
       "      <td>-</td>\n",
       "      <td>17.0</td>\n",
       "      <td>17.0</td>\n",
       "      <td>-</td>\n",
       "      <td>17.0</td>\n",
       "      <td>17.0</td>\n",
       "    </tr>\n",
       "    <tr>\n",
       "      <th>14</th>\n",
       "      <td>Jagung Tk Peternak</td>\n",
       "      <td>-</td>\n",
       "      <td>-</td>\n",
       "      <td>-</td>\n",
       "      <td>-</td>\n",
       "      <td>-</td>\n",
       "      <td>-</td>\n",
       "      <td>-</td>\n",
       "      <td>-</td>\n",
       "      <td>-</td>\n",
       "      <td>...</td>\n",
       "      <td>5.1</td>\n",
       "      <td>5.1</td>\n",
       "      <td>5.1</td>\n",
       "      <td>-</td>\n",
       "      <td>-</td>\n",
       "      <td>5.1</td>\n",
       "      <td>5.1</td>\n",
       "      <td>-</td>\n",
       "      <td>5.1</td>\n",
       "      <td>5.1</td>\n",
       "    </tr>\n",
       "    <tr>\n",
       "      <th>15</th>\n",
       "      <td>Ikan Kembung</td>\n",
       "      <td>-</td>\n",
       "      <td>-</td>\n",
       "      <td>-</td>\n",
       "      <td>-</td>\n",
       "      <td>-</td>\n",
       "      <td>-</td>\n",
       "      <td>-</td>\n",
       "      <td>-</td>\n",
       "      <td>-</td>\n",
       "      <td>...</td>\n",
       "      <td>28.0</td>\n",
       "      <td>28.0</td>\n",
       "      <td>28.0</td>\n",
       "      <td>-</td>\n",
       "      <td>-</td>\n",
       "      <td>28.0</td>\n",
       "      <td>28.0</td>\n",
       "      <td>-</td>\n",
       "      <td>28.0</td>\n",
       "      <td>30.0</td>\n",
       "    </tr>\n",
       "    <tr>\n",
       "      <th>16</th>\n",
       "      <td>Ikan Tongkol</td>\n",
       "      <td>-</td>\n",
       "      <td>-</td>\n",
       "      <td>-</td>\n",
       "      <td>-</td>\n",
       "      <td>-</td>\n",
       "      <td>-</td>\n",
       "      <td>-</td>\n",
       "      <td>-</td>\n",
       "      <td>-</td>\n",
       "      <td>...</td>\n",
       "      <td>28.0</td>\n",
       "      <td>28.0</td>\n",
       "      <td>28.0</td>\n",
       "      <td>-</td>\n",
       "      <td>-</td>\n",
       "      <td>28.0</td>\n",
       "      <td>28.0</td>\n",
       "      <td>-</td>\n",
       "      <td>28.0</td>\n",
       "      <td>30.0</td>\n",
       "    </tr>\n",
       "    <tr>\n",
       "      <th>17</th>\n",
       "      <td>Ikan Bandeng</td>\n",
       "      <td>-</td>\n",
       "      <td>-</td>\n",
       "      <td>-</td>\n",
       "      <td>-</td>\n",
       "      <td>-</td>\n",
       "      <td>-</td>\n",
       "      <td>-</td>\n",
       "      <td>-</td>\n",
       "      <td>-</td>\n",
       "      <td>...</td>\n",
       "      <td>32.0</td>\n",
       "      <td>32.0</td>\n",
       "      <td>32.0</td>\n",
       "      <td>-</td>\n",
       "      <td>-</td>\n",
       "      <td>32.0</td>\n",
       "      <td>32.0</td>\n",
       "      <td>-</td>\n",
       "      <td>30.0</td>\n",
       "      <td>33.0</td>\n",
       "    </tr>\n",
       "    <tr>\n",
       "      <th>18</th>\n",
       "      <td>Garam Halus Beryodium</td>\n",
       "      <td>-</td>\n",
       "      <td>-</td>\n",
       "      <td>-</td>\n",
       "      <td>-</td>\n",
       "      <td>-</td>\n",
       "      <td>-</td>\n",
       "      <td>-</td>\n",
       "      <td>-</td>\n",
       "      <td>-</td>\n",
       "      <td>...</td>\n",
       "      <td>10.0</td>\n",
       "      <td>10.0</td>\n",
       "      <td>10.0</td>\n",
       "      <td>-</td>\n",
       "      <td>-</td>\n",
       "      <td>10.0</td>\n",
       "      <td>10.0</td>\n",
       "      <td>-</td>\n",
       "      <td>10.0</td>\n",
       "      <td>10.0</td>\n",
       "    </tr>\n",
       "    <tr>\n",
       "      <th>19</th>\n",
       "      <td>Tepung Terigu Kemasan (non-curah)</td>\n",
       "      <td>-</td>\n",
       "      <td>-</td>\n",
       "      <td>-</td>\n",
       "      <td>-</td>\n",
       "      <td>-</td>\n",
       "      <td>-</td>\n",
       "      <td>-</td>\n",
       "      <td>-</td>\n",
       "      <td>-</td>\n",
       "      <td>...</td>\n",
       "      <td>12.0</td>\n",
       "      <td>12.0</td>\n",
       "      <td>12.0</td>\n",
       "      <td>-</td>\n",
       "      <td>-</td>\n",
       "      <td>12.0</td>\n",
       "      <td>12.0</td>\n",
       "      <td>-</td>\n",
       "      <td>12.0</td>\n",
       "      <td>12.0</td>\n",
       "    </tr>\n",
       "    <tr>\n",
       "      <th>20</th>\n",
       "      <td>Beras SPHP</td>\n",
       "      <td>-</td>\n",
       "      <td>-</td>\n",
       "      <td>-</td>\n",
       "      <td>-</td>\n",
       "      <td>-</td>\n",
       "      <td>-</td>\n",
       "      <td>-</td>\n",
       "      <td>-</td>\n",
       "      <td>-</td>\n",
       "      <td>...</td>\n",
       "      <td>12.0</td>\n",
       "      <td>12.0</td>\n",
       "      <td>12.0</td>\n",
       "      <td>-</td>\n",
       "      <td>-</td>\n",
       "      <td>12.0</td>\n",
       "      <td>12.0</td>\n",
       "      <td>-</td>\n",
       "      <td>12.0</td>\n",
       "      <td>12.0</td>\n",
       "    </tr>\n",
       "  </tbody>\n",
       "</table>\n",
       "<p>21 rows × 1327 columns</p>\n",
       "</div>"
      ],
      "text/plain": [
       "                      Komoditas (Rp)  15/03/2021 16/03/2021 17/03/2021  \\\n",
       "0                       Beras Premium     11.500     11.500     11.500   \n",
       "1                        Beras Medium      9.000      9.000      9.000   \n",
       "2         Kedelai Biji Kering (Impor)     11.000     11.000     11.000   \n",
       "3                        Bawang Merah     28.000     28.000     28.000   \n",
       "4                Bawang Putih Bonggol     22.000     22.000     22.000   \n",
       "5                Cabai Merah Keriting     50.000     50.000     50.000   \n",
       "6                   Cabai Rawit Merah    115.000    115.000    115.000   \n",
       "7                   Daging Sapi Murni    120.000    120.000    120.000   \n",
       "8                     Daging Ayam Ras     36.000     36.000     36.000   \n",
       "9                      Telur Ayam Ras     22.000     22.000     22.000   \n",
       "10                      Gula Konsumsi     12.500     12.500     12.500   \n",
       "11    Minyak Goreng Kemasan Sederhana     14.000     14.000     14.000   \n",
       "12              Tepung Terigu (Curah)      7.000      7.000      7.000   \n",
       "13                Minyak Goreng Curah          -          -          -   \n",
       "14                 Jagung Tk Peternak          -          -          -   \n",
       "15                       Ikan Kembung          -          -          -   \n",
       "16                       Ikan Tongkol          -          -          -   \n",
       "17                       Ikan Bandeng          -          -          -   \n",
       "18              Garam Halus Beryodium          -          -          -   \n",
       "19  Tepung Terigu Kemasan (non-curah)          -          -          -   \n",
       "20                         Beras SPHP          -          -          -   \n",
       "\n",
       "   18/03/2021 19/03/2021 20/03/2021 21/03/2021 22/03/2021 23/03/2021  ...  \\\n",
       "0      11.500     11.500     11.500          -     11.500          -  ...   \n",
       "1       9.000      9.000      9.000          -      9.000          -  ...   \n",
       "2      11.000     11.000     11.000          -     10.000          -  ...   \n",
       "3      28.000     28.000     27.000          -     27.000          -  ...   \n",
       "4      22.000     22.000     22.000          -     22.000          -  ...   \n",
       "5      50.000     50.000     50.000          -     50.000          -  ...   \n",
       "6     115.000    110.000    115.000          -    115.000          -  ...   \n",
       "7     120.000    120.000    120.000          -    120.000          -  ...   \n",
       "8      36.000     36.000     36.000          -     36.000          -  ...   \n",
       "9      22.000     22.000     22.000          -     22.000          -  ...   \n",
       "10     12.500     12.500     12.500          -     12.500          -  ...   \n",
       "11     14.000     14.000     14.000          -     14.000          -  ...   \n",
       "12      7.000      7.000      7.000          -      7.000          -  ...   \n",
       "13          -          -          -          -          -          -  ...   \n",
       "14          -          -          -          -          -          -  ...   \n",
       "15          -          -          -          -          -          -  ...   \n",
       "16          -          -          -          -          -          -  ...   \n",
       "17          -          -          -          -          -          -  ...   \n",
       "18          -          -          -          -          -          -  ...   \n",
       "19          -          -          -          -          -          -  ...   \n",
       "20          -          -          -          -          -          -  ...   \n",
       "\n",
       "   21/10/2024 22/10/2024 23/10/2024 24/10/2024 25/10/2024 26/10/2024  \\\n",
       "0        16.0       16.0       16.0          -          -       16.0   \n",
       "1        14.0       14.0       14.0          -          -       14.0   \n",
       "2        10.3       10.3       10.3          -          -       10.3   \n",
       "3        22.0       22.0       22.0          -          -       22.0   \n",
       "4        35.0       35.0       35.0          -          -       35.0   \n",
       "5        25.0       25.0       25.0          -          -       25.0   \n",
       "6        35.0       35.0       35.0          -          -       35.0   \n",
       "7       143.0      143.0      143.0          -          -      143.0   \n",
       "8        37.0       37.0       37.0          -          -       37.0   \n",
       "9        26.5       26.5       26.5          -          -       26.0   \n",
       "10       17.5       17.5       17.5          -          -       17.5   \n",
       "11       19.0       19.0       19.0          -          -       19.0   \n",
       "12        9.0        9.0        9.0          -          -        9.0   \n",
       "13       17.0       17.0       17.0          -          -       17.0   \n",
       "14        5.1        5.1        5.1          -          -        5.1   \n",
       "15       28.0       28.0       28.0          -          -       28.0   \n",
       "16       28.0       28.0       28.0          -          -       28.0   \n",
       "17       32.0       32.0       32.0          -          -       32.0   \n",
       "18       10.0       10.0       10.0          -          -       10.0   \n",
       "19       12.0       12.0       12.0          -          -       12.0   \n",
       "20       12.0       12.0       12.0          -          -       12.0   \n",
       "\n",
       "   27/10/2024 28/10/2024 29/10/2024 30/10/2024  \n",
       "0        16.0          -       16.0       15.0  \n",
       "1        14.0          -       14.0       13.5  \n",
       "2        10.3          -       10.3       10.3  \n",
       "3        22.0          -       28.0       28.0  \n",
       "4        35.0          -       35.0       35.0  \n",
       "5        25.0          -       30.0       30.0  \n",
       "6        35.0          -       40.0       40.0  \n",
       "7       143.0          -      143.0      143.0  \n",
       "8        38.0          -       38.0       37.0  \n",
       "9        26.0          -       26.5       27.0  \n",
       "10       17.5          -       17.5       17.5  \n",
       "11       19.0          -       19.0       19.0  \n",
       "12        9.0          -        9.0        9.0  \n",
       "13       17.0          -       17.0       17.0  \n",
       "14        5.1          -        5.1        5.1  \n",
       "15       28.0          -       28.0       30.0  \n",
       "16       28.0          -       28.0       30.0  \n",
       "17       32.0          -       30.0       33.0  \n",
       "18       10.0          -       10.0       10.0  \n",
       "19       12.0          -       12.0       12.0  \n",
       "20       12.0          -       12.0       12.0  \n",
       "\n",
       "[21 rows x 1327 columns]"
      ]
     },
     "execution_count": 2,
     "metadata": {},
     "output_type": "execute_result"
    }
   ],
   "source": [
    "file_path = \"dataset_harga_brebes.csv\"\n",
    "df = pd.read_csv(file_path)\n",
    "df"
   ]
  },
  {
   "cell_type": "markdown",
   "id": "2af51775-851b-4cd2-9cb8-9947e57096fe",
   "metadata": {},
   "source": [
    "## Data Cleaning"
   ]
  },
  {
   "cell_type": "code",
   "execution_count": 3,
   "id": "8f0ad1ee-1d57-4e7c-9a40-be9424dabc7f",
   "metadata": {},
   "outputs": [
    {
     "name": "stdout",
     "output_type": "stream",
     "text": [
      "tanggal                              datetime64[ns]\n",
      "Beras Premium                               float64\n",
      "Beras Medium                                float64\n",
      "Kedelai Biji Kering (Impor)                 float64\n",
      "Bawang Merah                                float64\n",
      "Bawang Putih Bonggol                        float64\n",
      "Cabai Merah Keriting                        float64\n",
      "Cabai Rawit Merah                           float64\n",
      "Daging Sapi Murni                           float64\n",
      "Daging Ayam Ras                             float64\n",
      "Telur Ayam Ras                              float64\n",
      "Gula Konsumsi                               float64\n",
      "Minyak Goreng Kemasan Sederhana             float64\n",
      "Tepung Terigu (Curah)                       float64\n",
      "Minyak Goreng Curah                         float64\n",
      "Jagung Tk Peternak                          float64\n",
      "Ikan Kembung                                float64\n",
      "Ikan Tongkol                                float64\n",
      "Ikan Bandeng                                float64\n",
      "Garam Halus Beryodium                       float64\n",
      "Tepung Terigu Kemasan (non-curah)           float64\n",
      "Beras SPHP                                  float64\n",
      "dtype: object\n",
      "tanggal                                 0\n",
      "Beras Premium                         176\n",
      "Beras Medium                          176\n",
      "Kedelai Biji Kering (Impor)           176\n",
      "Bawang Merah                          176\n",
      "Bawang Putih Bonggol                  176\n",
      "Cabai Merah Keriting                  176\n",
      "Cabai Rawit Merah                     176\n",
      "Daging Sapi Murni                     176\n",
      "Daging Ayam Ras                       176\n",
      "Telur Ayam Ras                        176\n",
      "Gula Konsumsi                         176\n",
      "Minyak Goreng Kemasan Sederhana       176\n",
      "Tepung Terigu (Curah)                 176\n",
      "Minyak Goreng Curah                   537\n",
      "Jagung Tk Peternak                    904\n",
      "Ikan Kembung                          729\n",
      "Ikan Tongkol                          809\n",
      "Ikan Bandeng                          809\n",
      "Garam Halus Beryodium                 809\n",
      "Tepung Terigu Kemasan (non-curah)     809\n",
      "Beras SPHP                           1208\n",
      "dtype: int64\n"
     ]
    },
    {
     "name": "stderr",
     "output_type": "stream",
     "text": [
      "C:\\Users\\ACER\\AppData\\Local\\Temp\\ipykernel_2904\\1358906317.py:12: FutureWarning: Downcasting behavior in `replace` is deprecated and will be removed in a future version. To retain the old behavior, explicitly call `result.infer_objects(copy=False)`. To opt-in to the future behavior, set `pd.set_option('future.no_silent_downcasting', True)`\n",
      "  df_transformed.replace([\"\", \"-\", \" \"], np.nan, inplace=True)\n"
     ]
    },
    {
     "data": {
      "text/html": [
       "<div>\n",
       "<style scoped>\n",
       "    .dataframe tbody tr th:only-of-type {\n",
       "        vertical-align: middle;\n",
       "    }\n",
       "\n",
       "    .dataframe tbody tr th {\n",
       "        vertical-align: top;\n",
       "    }\n",
       "\n",
       "    .dataframe thead th {\n",
       "        text-align: right;\n",
       "    }\n",
       "</style>\n",
       "<table border=\"1\" class=\"dataframe\">\n",
       "  <thead>\n",
       "    <tr style=\"text-align: right;\">\n",
       "      <th></th>\n",
       "      <th>tanggal</th>\n",
       "      <th>Beras Premium</th>\n",
       "      <th>Beras Medium</th>\n",
       "      <th>Kedelai Biji Kering (Impor)</th>\n",
       "      <th>Bawang Merah</th>\n",
       "      <th>Bawang Putih Bonggol</th>\n",
       "      <th>Cabai Merah Keriting</th>\n",
       "      <th>Cabai Rawit Merah</th>\n",
       "      <th>Daging Sapi Murni</th>\n",
       "      <th>Daging Ayam Ras</th>\n",
       "      <th>...</th>\n",
       "      <th>Minyak Goreng Kemasan Sederhana</th>\n",
       "      <th>Tepung Terigu (Curah)</th>\n",
       "      <th>Minyak Goreng Curah</th>\n",
       "      <th>Jagung Tk Peternak</th>\n",
       "      <th>Ikan Kembung</th>\n",
       "      <th>Ikan Tongkol</th>\n",
       "      <th>Ikan Bandeng</th>\n",
       "      <th>Garam Halus Beryodium</th>\n",
       "      <th>Tepung Terigu Kemasan (non-curah)</th>\n",
       "      <th>Beras SPHP</th>\n",
       "    </tr>\n",
       "  </thead>\n",
       "  <tbody>\n",
       "    <tr>\n",
       "      <th>0</th>\n",
       "      <td>2021-03-15</td>\n",
       "      <td>11500.0</td>\n",
       "      <td>9000.0</td>\n",
       "      <td>11000.0</td>\n",
       "      <td>28000.0</td>\n",
       "      <td>22000.0</td>\n",
       "      <td>50000.0</td>\n",
       "      <td>115000.0</td>\n",
       "      <td>120000.0</td>\n",
       "      <td>36000.0</td>\n",
       "      <td>...</td>\n",
       "      <td>14000.0</td>\n",
       "      <td>7000.0</td>\n",
       "      <td>NaN</td>\n",
       "      <td>NaN</td>\n",
       "      <td>NaN</td>\n",
       "      <td>NaN</td>\n",
       "      <td>NaN</td>\n",
       "      <td>NaN</td>\n",
       "      <td>NaN</td>\n",
       "      <td>NaN</td>\n",
       "    </tr>\n",
       "    <tr>\n",
       "      <th>1</th>\n",
       "      <td>2021-03-16</td>\n",
       "      <td>11500.0</td>\n",
       "      <td>9000.0</td>\n",
       "      <td>11000.0</td>\n",
       "      <td>28000.0</td>\n",
       "      <td>22000.0</td>\n",
       "      <td>50000.0</td>\n",
       "      <td>115000.0</td>\n",
       "      <td>120000.0</td>\n",
       "      <td>36000.0</td>\n",
       "      <td>...</td>\n",
       "      <td>14000.0</td>\n",
       "      <td>7000.0</td>\n",
       "      <td>NaN</td>\n",
       "      <td>NaN</td>\n",
       "      <td>NaN</td>\n",
       "      <td>NaN</td>\n",
       "      <td>NaN</td>\n",
       "      <td>NaN</td>\n",
       "      <td>NaN</td>\n",
       "      <td>NaN</td>\n",
       "    </tr>\n",
       "    <tr>\n",
       "      <th>2</th>\n",
       "      <td>2021-03-17</td>\n",
       "      <td>11500.0</td>\n",
       "      <td>9000.0</td>\n",
       "      <td>11000.0</td>\n",
       "      <td>28000.0</td>\n",
       "      <td>22000.0</td>\n",
       "      <td>50000.0</td>\n",
       "      <td>115000.0</td>\n",
       "      <td>120000.0</td>\n",
       "      <td>36000.0</td>\n",
       "      <td>...</td>\n",
       "      <td>14000.0</td>\n",
       "      <td>7000.0</td>\n",
       "      <td>NaN</td>\n",
       "      <td>NaN</td>\n",
       "      <td>NaN</td>\n",
       "      <td>NaN</td>\n",
       "      <td>NaN</td>\n",
       "      <td>NaN</td>\n",
       "      <td>NaN</td>\n",
       "      <td>NaN</td>\n",
       "    </tr>\n",
       "    <tr>\n",
       "      <th>3</th>\n",
       "      <td>2021-03-18</td>\n",
       "      <td>11500.0</td>\n",
       "      <td>9000.0</td>\n",
       "      <td>11000.0</td>\n",
       "      <td>28000.0</td>\n",
       "      <td>22000.0</td>\n",
       "      <td>50000.0</td>\n",
       "      <td>115000.0</td>\n",
       "      <td>120000.0</td>\n",
       "      <td>36000.0</td>\n",
       "      <td>...</td>\n",
       "      <td>14000.0</td>\n",
       "      <td>7000.0</td>\n",
       "      <td>NaN</td>\n",
       "      <td>NaN</td>\n",
       "      <td>NaN</td>\n",
       "      <td>NaN</td>\n",
       "      <td>NaN</td>\n",
       "      <td>NaN</td>\n",
       "      <td>NaN</td>\n",
       "      <td>NaN</td>\n",
       "    </tr>\n",
       "    <tr>\n",
       "      <th>4</th>\n",
       "      <td>2021-03-19</td>\n",
       "      <td>11500.0</td>\n",
       "      <td>9000.0</td>\n",
       "      <td>11000.0</td>\n",
       "      <td>28000.0</td>\n",
       "      <td>22000.0</td>\n",
       "      <td>50000.0</td>\n",
       "      <td>110000.0</td>\n",
       "      <td>120000.0</td>\n",
       "      <td>36000.0</td>\n",
       "      <td>...</td>\n",
       "      <td>14000.0</td>\n",
       "      <td>7000.0</td>\n",
       "      <td>NaN</td>\n",
       "      <td>NaN</td>\n",
       "      <td>NaN</td>\n",
       "      <td>NaN</td>\n",
       "      <td>NaN</td>\n",
       "      <td>NaN</td>\n",
       "      <td>NaN</td>\n",
       "      <td>NaN</td>\n",
       "    </tr>\n",
       "    <tr>\n",
       "      <th>...</th>\n",
       "      <td>...</td>\n",
       "      <td>...</td>\n",
       "      <td>...</td>\n",
       "      <td>...</td>\n",
       "      <td>...</td>\n",
       "      <td>...</td>\n",
       "      <td>...</td>\n",
       "      <td>...</td>\n",
       "      <td>...</td>\n",
       "      <td>...</td>\n",
       "      <td>...</td>\n",
       "      <td>...</td>\n",
       "      <td>...</td>\n",
       "      <td>...</td>\n",
       "      <td>...</td>\n",
       "      <td>...</td>\n",
       "      <td>...</td>\n",
       "      <td>...</td>\n",
       "      <td>...</td>\n",
       "      <td>...</td>\n",
       "      <td>...</td>\n",
       "    </tr>\n",
       "    <tr>\n",
       "      <th>1321</th>\n",
       "      <td>2024-10-26</td>\n",
       "      <td>16000.0</td>\n",
       "      <td>14000.0</td>\n",
       "      <td>10300.0</td>\n",
       "      <td>22000.0</td>\n",
       "      <td>35000.0</td>\n",
       "      <td>25000.0</td>\n",
       "      <td>35000.0</td>\n",
       "      <td>143000.0</td>\n",
       "      <td>37000.0</td>\n",
       "      <td>...</td>\n",
       "      <td>19000.0</td>\n",
       "      <td>9000.0</td>\n",
       "      <td>17000.0</td>\n",
       "      <td>5100.0</td>\n",
       "      <td>28000.0</td>\n",
       "      <td>28000.0</td>\n",
       "      <td>32000.0</td>\n",
       "      <td>10000.0</td>\n",
       "      <td>12000.0</td>\n",
       "      <td>12000.0</td>\n",
       "    </tr>\n",
       "    <tr>\n",
       "      <th>1322</th>\n",
       "      <td>2024-10-27</td>\n",
       "      <td>16000.0</td>\n",
       "      <td>14000.0</td>\n",
       "      <td>10300.0</td>\n",
       "      <td>22000.0</td>\n",
       "      <td>35000.0</td>\n",
       "      <td>25000.0</td>\n",
       "      <td>35000.0</td>\n",
       "      <td>143000.0</td>\n",
       "      <td>38000.0</td>\n",
       "      <td>...</td>\n",
       "      <td>19000.0</td>\n",
       "      <td>9000.0</td>\n",
       "      <td>17000.0</td>\n",
       "      <td>5100.0</td>\n",
       "      <td>28000.0</td>\n",
       "      <td>28000.0</td>\n",
       "      <td>32000.0</td>\n",
       "      <td>10000.0</td>\n",
       "      <td>12000.0</td>\n",
       "      <td>12000.0</td>\n",
       "    </tr>\n",
       "    <tr>\n",
       "      <th>1323</th>\n",
       "      <td>2024-10-28</td>\n",
       "      <td>NaN</td>\n",
       "      <td>NaN</td>\n",
       "      <td>NaN</td>\n",
       "      <td>NaN</td>\n",
       "      <td>NaN</td>\n",
       "      <td>NaN</td>\n",
       "      <td>NaN</td>\n",
       "      <td>NaN</td>\n",
       "      <td>NaN</td>\n",
       "      <td>...</td>\n",
       "      <td>NaN</td>\n",
       "      <td>NaN</td>\n",
       "      <td>NaN</td>\n",
       "      <td>NaN</td>\n",
       "      <td>NaN</td>\n",
       "      <td>NaN</td>\n",
       "      <td>NaN</td>\n",
       "      <td>NaN</td>\n",
       "      <td>NaN</td>\n",
       "      <td>NaN</td>\n",
       "    </tr>\n",
       "    <tr>\n",
       "      <th>1324</th>\n",
       "      <td>2024-10-29</td>\n",
       "      <td>16000.0</td>\n",
       "      <td>14000.0</td>\n",
       "      <td>10300.0</td>\n",
       "      <td>28000.0</td>\n",
       "      <td>35000.0</td>\n",
       "      <td>30000.0</td>\n",
       "      <td>40000.0</td>\n",
       "      <td>143000.0</td>\n",
       "      <td>38000.0</td>\n",
       "      <td>...</td>\n",
       "      <td>19000.0</td>\n",
       "      <td>9000.0</td>\n",
       "      <td>17000.0</td>\n",
       "      <td>5100.0</td>\n",
       "      <td>28000.0</td>\n",
       "      <td>28000.0</td>\n",
       "      <td>30000.0</td>\n",
       "      <td>10000.0</td>\n",
       "      <td>12000.0</td>\n",
       "      <td>12000.0</td>\n",
       "    </tr>\n",
       "    <tr>\n",
       "      <th>1325</th>\n",
       "      <td>2024-10-30</td>\n",
       "      <td>15000.0</td>\n",
       "      <td>13500.0</td>\n",
       "      <td>10300.0</td>\n",
       "      <td>28000.0</td>\n",
       "      <td>35000.0</td>\n",
       "      <td>30000.0</td>\n",
       "      <td>40000.0</td>\n",
       "      <td>143000.0</td>\n",
       "      <td>37000.0</td>\n",
       "      <td>...</td>\n",
       "      <td>19000.0</td>\n",
       "      <td>9000.0</td>\n",
       "      <td>17000.0</td>\n",
       "      <td>5100.0</td>\n",
       "      <td>30000.0</td>\n",
       "      <td>30000.0</td>\n",
       "      <td>33000.0</td>\n",
       "      <td>10000.0</td>\n",
       "      <td>12000.0</td>\n",
       "      <td>12000.0</td>\n",
       "    </tr>\n",
       "  </tbody>\n",
       "</table>\n",
       "<p>1326 rows × 22 columns</p>\n",
       "</div>"
      ],
      "text/plain": [
       "        tanggal  Beras Premium  Beras Medium  Kedelai Biji Kering (Impor)  \\\n",
       "0    2021-03-15        11500.0        9000.0                      11000.0   \n",
       "1    2021-03-16        11500.0        9000.0                      11000.0   \n",
       "2    2021-03-17        11500.0        9000.0                      11000.0   \n",
       "3    2021-03-18        11500.0        9000.0                      11000.0   \n",
       "4    2021-03-19        11500.0        9000.0                      11000.0   \n",
       "...         ...            ...           ...                          ...   \n",
       "1321 2024-10-26        16000.0       14000.0                      10300.0   \n",
       "1322 2024-10-27        16000.0       14000.0                      10300.0   \n",
       "1323 2024-10-28            NaN           NaN                          NaN   \n",
       "1324 2024-10-29        16000.0       14000.0                      10300.0   \n",
       "1325 2024-10-30        15000.0       13500.0                      10300.0   \n",
       "\n",
       "      Bawang Merah  Bawang Putih Bonggol  Cabai Merah Keriting  \\\n",
       "0          28000.0               22000.0               50000.0   \n",
       "1          28000.0               22000.0               50000.0   \n",
       "2          28000.0               22000.0               50000.0   \n",
       "3          28000.0               22000.0               50000.0   \n",
       "4          28000.0               22000.0               50000.0   \n",
       "...            ...                   ...                   ...   \n",
       "1321       22000.0               35000.0               25000.0   \n",
       "1322       22000.0               35000.0               25000.0   \n",
       "1323           NaN                   NaN                   NaN   \n",
       "1324       28000.0               35000.0               30000.0   \n",
       "1325       28000.0               35000.0               30000.0   \n",
       "\n",
       "      Cabai Rawit Merah  Daging Sapi Murni  Daging Ayam Ras  ...  \\\n",
       "0              115000.0           120000.0          36000.0  ...   \n",
       "1              115000.0           120000.0          36000.0  ...   \n",
       "2              115000.0           120000.0          36000.0  ...   \n",
       "3              115000.0           120000.0          36000.0  ...   \n",
       "4              110000.0           120000.0          36000.0  ...   \n",
       "...                 ...                ...              ...  ...   \n",
       "1321            35000.0           143000.0          37000.0  ...   \n",
       "1322            35000.0           143000.0          38000.0  ...   \n",
       "1323                NaN                NaN              NaN  ...   \n",
       "1324            40000.0           143000.0          38000.0  ...   \n",
       "1325            40000.0           143000.0          37000.0  ...   \n",
       "\n",
       "      Minyak Goreng Kemasan Sederhana  Tepung Terigu (Curah)  \\\n",
       "0                             14000.0                 7000.0   \n",
       "1                             14000.0                 7000.0   \n",
       "2                             14000.0                 7000.0   \n",
       "3                             14000.0                 7000.0   \n",
       "4                             14000.0                 7000.0   \n",
       "...                               ...                    ...   \n",
       "1321                          19000.0                 9000.0   \n",
       "1322                          19000.0                 9000.0   \n",
       "1323                              NaN                    NaN   \n",
       "1324                          19000.0                 9000.0   \n",
       "1325                          19000.0                 9000.0   \n",
       "\n",
       "      Minyak Goreng Curah  Jagung Tk Peternak  Ikan Kembung  Ikan Tongkol  \\\n",
       "0                     NaN                 NaN           NaN           NaN   \n",
       "1                     NaN                 NaN           NaN           NaN   \n",
       "2                     NaN                 NaN           NaN           NaN   \n",
       "3                     NaN                 NaN           NaN           NaN   \n",
       "4                     NaN                 NaN           NaN           NaN   \n",
       "...                   ...                 ...           ...           ...   \n",
       "1321              17000.0              5100.0       28000.0       28000.0   \n",
       "1322              17000.0              5100.0       28000.0       28000.0   \n",
       "1323                  NaN                 NaN           NaN           NaN   \n",
       "1324              17000.0              5100.0       28000.0       28000.0   \n",
       "1325              17000.0              5100.0       30000.0       30000.0   \n",
       "\n",
       "      Ikan Bandeng  Garam Halus Beryodium  Tepung Terigu Kemasan (non-curah)  \\\n",
       "0              NaN                    NaN                                NaN   \n",
       "1              NaN                    NaN                                NaN   \n",
       "2              NaN                    NaN                                NaN   \n",
       "3              NaN                    NaN                                NaN   \n",
       "4              NaN                    NaN                                NaN   \n",
       "...            ...                    ...                                ...   \n",
       "1321       32000.0                10000.0                            12000.0   \n",
       "1322       32000.0                10000.0                            12000.0   \n",
       "1323           NaN                    NaN                                NaN   \n",
       "1324       30000.0                10000.0                            12000.0   \n",
       "1325       33000.0                10000.0                            12000.0   \n",
       "\n",
       "      Beras SPHP  \n",
       "0            NaN  \n",
       "1            NaN  \n",
       "2            NaN  \n",
       "3            NaN  \n",
       "4            NaN  \n",
       "...          ...  \n",
       "1321     12000.0  \n",
       "1322     12000.0  \n",
       "1323         NaN  \n",
       "1324     12000.0  \n",
       "1325     12000.0  \n",
       "\n",
       "[1326 rows x 22 columns]"
      ]
     },
     "execution_count": 3,
     "metadata": {},
     "output_type": "execute_result"
    }
   ],
   "source": [
    "# Menambah label \"tanggal\" ke dalam list kolom\n",
    "kolom = [\"tanggal\"] + [x.strip() for x in df[\" Komoditas (Rp) \"]]\n",
    "\n",
    "# Ubah nama kolom pada df_transformed sesuai dengan kolom yang diinginkan\n",
    "df_transformed = df.set_index(\" Komoditas (Rp) \").T.reset_index()\n",
    "\n",
    "df_transformed.columns = kolom\n",
    "# mengubah tanggal menjadi tipe data tanggal\n",
    "df_transformed['tanggal'] = pd.to_datetime(df_transformed['tanggal'], format='%d/%m/%Y')\n",
    "\n",
    "# Mengganti nilai kosong atau tanda tertentu dengan NaN\n",
    "df_transformed.replace([\"\", \"-\", \" \"], np.nan, inplace=True)\n",
    "\n",
    "# Mengonversi kolom data (selain tanggal) menjadi float\n",
    "for col in df_transformed.columns[1:]:  # Mulai dari indeks 1 agar kolom 'tanggal' tidak diubah\n",
    "    df_transformed[col] = pd.to_numeric(df_transformed[col], errors='coerce') * 1000\n",
    "\n",
    "# Memeriksa apakah perubahan berhasil\n",
    "print(df_transformed.dtypes)\n",
    "print(df_transformed.isnull().sum())\n",
    "df_transformed"
   ]
  },
  {
   "cell_type": "code",
   "execution_count": 4,
   "id": "0889ed7a-1b36-4c06-b613-4108e06e8ecf",
   "metadata": {},
   "outputs": [
    {
     "data": {
      "text/html": [
       "<div>\n",
       "<style scoped>\n",
       "    .dataframe tbody tr th:only-of-type {\n",
       "        vertical-align: middle;\n",
       "    }\n",
       "\n",
       "    .dataframe tbody tr th {\n",
       "        vertical-align: top;\n",
       "    }\n",
       "\n",
       "    .dataframe thead th {\n",
       "        text-align: right;\n",
       "    }\n",
       "</style>\n",
       "<table border=\"1\" class=\"dataframe\">\n",
       "  <thead>\n",
       "    <tr style=\"text-align: right;\">\n",
       "      <th></th>\n",
       "      <th>Minggu</th>\n",
       "      <th>Harga/week</th>\n",
       "    </tr>\n",
       "  </thead>\n",
       "  <tbody>\n",
       "    <tr>\n",
       "      <th>0</th>\n",
       "      <td>1</td>\n",
       "      <td>27714.285714</td>\n",
       "    </tr>\n",
       "    <tr>\n",
       "      <th>1</th>\n",
       "      <td>2</td>\n",
       "      <td>28714.285714</td>\n",
       "    </tr>\n",
       "    <tr>\n",
       "      <th>2</th>\n",
       "      <td>3</td>\n",
       "      <td>30000.000000</td>\n",
       "    </tr>\n",
       "    <tr>\n",
       "      <th>3</th>\n",
       "      <td>4</td>\n",
       "      <td>30000.000000</td>\n",
       "    </tr>\n",
       "    <tr>\n",
       "      <th>4</th>\n",
       "      <td>5</td>\n",
       "      <td>20714.285714</td>\n",
       "    </tr>\n",
       "    <tr>\n",
       "      <th>...</th>\n",
       "      <td>...</td>\n",
       "      <td>...</td>\n",
       "    </tr>\n",
       "    <tr>\n",
       "      <th>184</th>\n",
       "      <td>185</td>\n",
       "      <td>20000.000000</td>\n",
       "    </tr>\n",
       "    <tr>\n",
       "      <th>185</th>\n",
       "      <td>186</td>\n",
       "      <td>20000.000000</td>\n",
       "    </tr>\n",
       "    <tr>\n",
       "      <th>186</th>\n",
       "      <td>187</td>\n",
       "      <td>20857.142857</td>\n",
       "    </tr>\n",
       "    <tr>\n",
       "      <th>187</th>\n",
       "      <td>188</td>\n",
       "      <td>22000.000000</td>\n",
       "    </tr>\n",
       "    <tr>\n",
       "      <th>188</th>\n",
       "      <td>189</td>\n",
       "      <td>22000.000000</td>\n",
       "    </tr>\n",
       "  </tbody>\n",
       "</table>\n",
       "<p>189 rows × 2 columns</p>\n",
       "</div>"
      ],
      "text/plain": [
       "     Minggu    Harga/week\n",
       "0         1  27714.285714\n",
       "1         2  28714.285714\n",
       "2         3  30000.000000\n",
       "3         4  30000.000000\n",
       "4         5  20714.285714\n",
       "..      ...           ...\n",
       "184     185  20000.000000\n",
       "185     186  20000.000000\n",
       "186     187  20857.142857\n",
       "187     188  22000.000000\n",
       "188     189  22000.000000\n",
       "\n",
       "[189 rows x 2 columns]"
      ]
     },
     "execution_count": 4,
     "metadata": {},
     "output_type": "execute_result"
    }
   ],
   "source": [
    "# Buat dataframe barang\n",
    "df_barang = pd.DataFrame()\n",
    "df_barang['tanggal'] = df_transformed['tanggal']\n",
    "df_barang['harga'] = df_transformed['Bawang Merah']\n",
    "\n",
    "# Isi null pada data\n",
    "df_barang['harga'] = df_barang['harga'].interpolate(method='linear').ffill()\n",
    "\n",
    "# Buat kolom minggu dari tanggal\n",
    "df_barang['Minggu'] = (df_barang.index // 7) + 1\n",
    "\n",
    "#kelompokkan berdasarkan minggu\n",
    "weekly_data = df_barang.groupby(['Minggu']).agg({\n",
    "    'harga': 'mean'  # Rata-rata harga per minggu\n",
    "}).reset_index()\n",
    "weekly_data.rename(columns={'harga': 'Harga/week'}, inplace=True)\n",
    "weekly_data = weekly_data[weekly_data['Minggu'] < 190]\n",
    "\n",
    "weekly_data"
   ]
  },
  {
   "cell_type": "code",
   "execution_count": 5,
   "id": "87859486-b463-4b2f-a024-eaa04112efd7",
   "metadata": {},
   "outputs": [
    {
     "data": {
      "text/plain": [
       "[<matplotlib.lines.Line2D at 0x2003b2c20b0>]"
      ]
     },
     "execution_count": 5,
     "metadata": {},
     "output_type": "execute_result"
    },
    {
     "data": {
      "image/png": "[encoded data removed]",
      "text/plain": [
       "<Figure size 640x480 with 1 Axes>"
      ]
     },
     "metadata": {},
     "output_type": "display_data"
    }
   ],
   "source": [
    "plt.plot(weekly_data['Harga/week'])"
   ]
  },
  {
   "cell_type": "code",
   "execution_count": 6,
   "id": "7e3f6cfd-6791-4c0f-8b7e-17e60d4074aa",
   "metadata": {},
   "outputs": [],
   "source": [
    "# weekly_data.to_csv(\"weekly_data.csv\", index=False)"
   ]
  },
  {
   "cell_type": "markdown",
   "id": "14139852-7e01-457d-a5e9-c7792bf2b739",
   "metadata": {},
   "source": [
    "## Data Preparation"
   ]
  },
  {
   "cell_type": "code",
   "execution_count": 329,
   "id": "e1e34c4c-856d-4700-ae43-0a3846ec4842",
   "metadata": {},
   "outputs": [
    {
     "data": {
      "text/plain": [
       "((189,), (189,))"
      ]
     },
     "execution_count": 329,
     "metadata": {},
     "output_type": "execute_result"
    }
   ],
   "source": [
    "week = np.array(weekly_data[\"Minggu\"])\n",
    "series = np.array(weekly_data['Harga/week'])\n",
    "week.shape, series.shape"
   ]
  },
  {
   "cell_type": "code",
   "execution_count": 330,
   "id": "468ea491-77cb-4180-b957-f5d4c349e59e",
   "metadata": {},
   "outputs": [],
   "source": [
    "def create_sequences(data, window_size):\n",
    "    X, y = [], []\n",
    "    for i in range(len(data) - window_size):\n",
    "        X.append(data[i:(i + window_size)])\n",
    "        y.append(data[i + window_size])\n",
    "    return np.array(X), np.array(y)"
   ]
  },
  {
   "cell_type": "code",
   "execution_count": 331,
   "id": "d6502105-0ac0-4cdf-9892-765fe5defd90",
   "metadata": {},
   "outputs": [],
   "source": [
    "def scaled_price(data):\n",
    "    return data/1000"
   ]
  },
  {
   "cell_type": "code",
   "execution_count": 332,
   "id": "be4ba358-f319-4df9-8828-f932215cb4f6",
   "metadata": {},
   "outputs": [],
   "source": [
    "# Model configuration\n",
    "window_size = 12\n",
    "\n",
    "scaled_series = scaled_price(series)\n",
    "\n",
    "X, y = create_sequences(scaled_series, window_size)"
   ]
  },
  {
   "cell_type": "code",
   "execution_count": 333,
   "id": "30ef7a5c-5d77-4c1e-a30a-80cc5a048128",
   "metadata": {},
   "outputs": [
    {
     "data": {
      "text/plain": [
       "((141, 12), (141,), (36, 12), (36,))"
      ]
     },
     "execution_count": 333,
     "metadata": {},
     "output_type": "execute_result"
    }
   ],
   "source": [
    "split_size1 = int(len(X) * 0.8)\n",
    "\n",
    "week_train = week[:split_size1]\n",
    "X_train = X[:split_size1]\n",
    "y_train = y[:split_size1]\n",
    "\n",
    "week_valid = week[split_size1:]\n",
    "X_val = X[split_size1:]\n",
    "y_val = y[split_size1:]\n",
    "X_train.shape, y_train.shape, X_val.shape, y_val.shape"
   ]
  },
  {
   "cell_type": "code",
   "execution_count": 334,
   "id": "c9f4f75a-bc95-4f76-ac9f-4110561cd60b",
   "metadata": {},
   "outputs": [
    {
     "data": {
      "image/png": "[encoded data removed]",
      "text/plain": [
       "<Figure size 1200x500 with 1 Axes>"
      ]
     },
     "metadata": {},
     "output_type": "display_data"
    }
   ],
   "source": [
    "plt.figure(figsize=(12, 5))\n",
    "plt.plot(np.arange(len(y_train)), y_train, label='Train', color='blue')\n",
    "plt.plot(np.arange(len(y_train), len(y_train) + len(y_val)), y_val, label='Validation', color='green')\n",
    "\n",
    "plt.xlabel('Index')\n",
    "plt.ylabel('Target Value')\n",
    "plt.legend()\n",
    "plt.title('Train, Validation, and Test Splits')\n",
    "plt.show()"
   ]
  },
  {
   "cell_type": "markdown",
   "id": "877a4d43-89ef-4e69-b6db-c45c782a6ef6",
   "metadata": {},
   "source": [
    "## Train Model"
   ]
  },
  {
   "cell_type": "markdown",
   "id": "121e6d5f-3e13-48f1-97bc-9f2dc9fd4cec",
   "metadata": {},
   "source": [
    "### Model 1"
   ]
  },
  {
   "cell_type": "code",
   "execution_count": 335,
   "id": "d5852ad4-0721-4353-8b85-2880c36101f6",
   "metadata": {},
   "outputs": [],
   "source": [
    "def create_model(window_size):\n",
    "    model = keras.Sequential([\n",
    "        Input(shape=(window_size, 1)),\n",
    "        tf.keras.layers.Conv1D(\n",
    "            filters=12,\n",
    "            kernel_size=3,\n",
    "            strides=1,\n",
    "            padding='causal',\n",
    "            activation='relu'\n",
    "        ),\n",
    "        Flatten(),\n",
    "        Dense(64, activation='relu'),\n",
    "        Dense(32, activation='relu'),\n",
    "        Dense(8, activation='relu'),\n",
    "        Dense(1, activation='linear')\n",
    "    ])\n",
    "    return model"
   ]
  },
  {
   "cell_type": "code",
   "execution_count": 336,
   "id": "f15a6ca5-fae4-4932-b1ea-0c8ae524b042",
   "metadata": {},
   "outputs": [
    {
     "name": "stdout",
     "output_type": "stream",
     "text": [
      "Model: \"sequential_14\"\n",
      "_________________________________________________________________\n",
      " Layer (type)                Output Shape              Param #   \n",
      "=================================================================\n",
      " conv1d_14 (Conv1D)          (None, 12, 12)            48        \n",
      "                                                                 \n",
      " flatten_14 (Flatten)        (None, 144)               0         \n",
      "                                                                 \n",
      " dense_56 (Dense)            (None, 64)                9280      \n",
      "                                                                 \n",
      " dense_57 (Dense)            (None, 32)                2080      \n",
      "                                                                 \n",
      " dense_58 (Dense)            (None, 8)                 264       \n",
      "                                                                 \n",
      " dense_59 (Dense)            (None, 1)                 9         \n",
      "                                                                 \n",
      "=================================================================\n",
      "Total params: 11,681\n",
      "Trainable params: 11,681\n",
      "Non-trainable params: 0\n",
      "_________________________________________________________________\n"
     ]
    }
   ],
   "source": [
    "model_uncomplete = create_model(window_size)\n",
    "\n",
    "model_uncomplete.summary()"
   ]
  },
  {
   "cell_type": "markdown",
   "id": "6ce8f22a-e791-4773-804f-def5c9b51eef",
   "metadata": {},
   "source": [
    "### Find lr"
   ]
  },
  {
   "cell_type": "code",
   "execution_count": 337,
   "id": "e6267ea4-3a08-48d3-a161-5b8f092d46b0",
   "metadata": {},
   "outputs": [
    {
     "name": "stdout",
     "output_type": "stream",
     "text": [
      "Epoch 1/140\n",
      "36/36 [==============================] - 1s 6ms/step - loss: 30.7095 - val_loss: 29.0743 - lr: 1.0000e-08\n",
      "Epoch 2/140\n",
      "36/36 [==============================] - 0s 2ms/step - loss: 30.7091 - val_loss: 29.0739 - lr: 1.1220e-08\n",
      "Epoch 3/140\n",
      "36/36 [==============================] - 0s 2ms/step - loss: 30.7086 - val_loss: 29.0734 - lr: 1.2589e-08\n",
      "Epoch 4/140\n",
      "36/36 [==============================] - 0s 2ms/step - loss: 30.7081 - val_loss: 29.0729 - lr: 1.4125e-08\n",
      "Epoch 5/140\n",
      "36/36 [==============================] - 0s 2ms/step - loss: 30.7075 - val_loss: 29.0724 - lr: 1.5849e-08\n",
      "Epoch 6/140\n",
      "36/36 [==============================] - 0s 2ms/step - loss: 30.7069 - val_loss: 29.0718 - lr: 1.7783e-08\n",
      "Epoch 7/140\n",
      "36/36 [==============================] - 0s 2ms/step - loss: 30.7063 - val_loss: 29.0711 - lr: 1.9953e-08\n",
      "Epoch 8/140\n",
      "36/36 [==============================] - 0s 2ms/step - loss: 30.7055 - val_loss: 29.0704 - lr: 2.2387e-08\n",
      "Epoch 9/140\n",
      "36/36 [==============================] - 0s 2ms/step - loss: 30.7047 - val_loss: 29.0695 - lr: 2.5119e-08\n",
      "Epoch 10/140\n",
      "36/36 [==============================] - 0s 2ms/step - loss: 30.7037 - val_loss: 29.0684 - lr: 2.8184e-08\n",
      "Epoch 11/140\n",
      "36/36 [==============================] - 0s 2ms/step - loss: 30.7025 - val_loss: 29.0674 - lr: 3.1623e-08\n",
      "Epoch 12/140\n",
      "36/36 [==============================] - 0s 2ms/step - loss: 30.7014 - val_loss: 29.0662 - lr: 3.5481e-08\n",
      "Epoch 13/140\n",
      "36/36 [==============================] - 0s 2ms/step - loss: 30.7000 - val_loss: 29.0648 - lr: 3.9811e-08\n",
      "Epoch 14/140\n",
      "36/36 [==============================] - 0s 2ms/step - loss: 30.6985 - val_loss: 29.0632 - lr: 4.4668e-08\n",
      "Epoch 15/140\n",
      "36/36 [==============================] - 0s 2ms/step - loss: 30.6967 - val_loss: 29.0615 - lr: 5.0119e-08\n",
      "Epoch 16/140\n",
      "36/36 [==============================] - 0s 2ms/step - loss: 30.6948 - val_loss: 29.0596 - lr: 5.6234e-08\n",
      "Epoch 17/140\n",
      "36/36 [==============================] - 0s 2ms/step - loss: 30.6927 - val_loss: 29.0574 - lr: 6.3096e-08\n",
      "Epoch 18/140\n",
      "36/36 [==============================] - 0s 2ms/step - loss: 30.6902 - val_loss: 29.0549 - lr: 7.0795e-08\n",
      "Epoch 19/140\n",
      "36/36 [==============================] - 0s 2ms/step - loss: 30.6875 - val_loss: 29.0522 - lr: 7.9433e-08\n",
      "Epoch 20/140\n",
      "36/36 [==============================] - 0s 2ms/step - loss: 30.6845 - val_loss: 29.0491 - lr: 8.9125e-08\n",
      "Epoch 21/140\n",
      "36/36 [==============================] - 0s 2ms/step - loss: 30.6812 - val_loss: 29.0456 - lr: 1.0000e-07\n",
      "Epoch 22/140\n",
      "36/36 [==============================] - 0s 2ms/step - loss: 30.6774 - val_loss: 29.0418 - lr: 1.1220e-07\n",
      "Epoch 23/140\n",
      "36/36 [==============================] - 0s 3ms/step - loss: 30.6732 - val_loss: 29.0374 - lr: 1.2589e-07\n",
      "Epoch 24/140\n",
      "36/36 [==============================] - 0s 3ms/step - loss: 30.6685 - val_loss: 29.0325 - lr: 1.4125e-07\n",
      "Epoch 25/140\n",
      "36/36 [==============================] - 0s 2ms/step - loss: 30.6632 - val_loss: 29.0271 - lr: 1.5849e-07\n",
      "Epoch 26/140\n",
      "36/36 [==============================] - 0s 2ms/step - loss: 30.6574 - val_loss: 29.0209 - lr: 1.7783e-07\n",
      "Epoch 27/140\n",
      "36/36 [==============================] - 0s 2ms/step - loss: 30.6507 - val_loss: 29.0139 - lr: 1.9953e-07\n",
      "Epoch 28/140\n",
      "36/36 [==============================] - 0s 2ms/step - loss: 30.6432 - val_loss: 29.0062 - lr: 2.2387e-07\n",
      "Epoch 29/140\n",
      "36/36 [==============================] - 0s 2ms/step - loss: 30.6348 - val_loss: 28.9974 - lr: 2.5119e-07\n",
      "Epoch 30/140\n",
      "36/36 [==============================] - 0s 2ms/step - loss: 30.6254 - val_loss: 28.9878 - lr: 2.8184e-07\n",
      "Epoch 31/140\n",
      "36/36 [==============================] - 0s 2ms/step - loss: 30.6148 - val_loss: 28.9769 - lr: 3.1623e-07\n",
      "Epoch 32/140\n",
      "36/36 [==============================] - 0s 2ms/step - loss: 30.6030 - val_loss: 28.9649 - lr: 3.5481e-07\n",
      "Epoch 33/140\n",
      "36/36 [==============================] - 0s 2ms/step - loss: 30.5896 - val_loss: 28.9512 - lr: 3.9811e-07\n",
      "Epoch 34/140\n",
      "36/36 [==============================] - 0s 2ms/step - loss: 30.5742 - val_loss: 28.9361 - lr: 4.4668e-07\n",
      "Epoch 35/140\n",
      "36/36 [==============================] - 0s 2ms/step - loss: 30.5568 - val_loss: 28.9185 - lr: 5.0119e-07\n",
      "Epoch 36/140\n",
      "36/36 [==============================] - 0s 2ms/step - loss: 30.5370 - val_loss: 28.8993 - lr: 5.6234e-07\n",
      "Epoch 37/140\n",
      "36/36 [==============================] - 0s 2ms/step - loss: 30.5151 - val_loss: 28.8776 - lr: 6.3096e-07\n",
      "Epoch 38/140\n",
      "36/36 [==============================] - 0s 2ms/step - loss: 30.4904 - val_loss: 28.8533 - lr: 7.0795e-07\n",
      "Epoch 39/140\n",
      "36/36 [==============================] - 0s 2ms/step - loss: 30.4621 - val_loss: 28.8268 - lr: 7.9433e-07\n",
      "Epoch 40/140\n",
      "36/36 [==============================] - 0s 2ms/step - loss: 30.4299 - val_loss: 28.7962 - lr: 8.9125e-07\n",
      "Epoch 41/140\n",
      "36/36 [==============================] - 0s 2ms/step - loss: 30.3939 - val_loss: 28.7617 - lr: 1.0000e-06\n",
      "Epoch 42/140\n",
      "36/36 [==============================] - 0s 2ms/step - loss: 30.3532 - val_loss: 28.7244 - lr: 1.1220e-06\n",
      "Epoch 43/140\n",
      "36/36 [==============================] - 0s 2ms/step - loss: 30.3092 - val_loss: 28.6826 - lr: 1.2589e-06\n",
      "Epoch 44/140\n",
      "36/36 [==============================] - 0s 2ms/step - loss: 30.2601 - val_loss: 28.6360 - lr: 1.4125e-06\n",
      "Epoch 45/140\n",
      "36/36 [==============================] - 0s 2ms/step - loss: 30.2051 - val_loss: 28.5847 - lr: 1.5849e-06\n",
      "Epoch 46/140\n",
      "36/36 [==============================] - 0s 2ms/step - loss: 30.1441 - val_loss: 28.5266 - lr: 1.7783e-06\n",
      "Epoch 47/140\n",
      "36/36 [==============================] - 0s 2ms/step - loss: 30.0771 - val_loss: 28.4634 - lr: 1.9953e-06\n",
      "Epoch 48/140\n",
      "36/36 [==============================] - 0s 2ms/step - loss: 30.0035 - val_loss: 28.3914 - lr: 2.2387e-06\n",
      "Epoch 49/140\n",
      "36/36 [==============================] - 0s 2ms/step - loss: 29.9221 - val_loss: 28.3100 - lr: 2.5119e-06\n",
      "Epoch 50/140\n",
      "36/36 [==============================] - 0s 2ms/step - loss: 29.8316 - val_loss: 28.2190 - lr: 2.8184e-06\n",
      "Epoch 51/140\n",
      "36/36 [==============================] - 0s 2ms/step - loss: 29.7320 - val_loss: 28.1179 - lr: 3.1623e-06\n",
      "Epoch 52/140\n",
      "36/36 [==============================] - 0s 2ms/step - loss: 29.6227 - val_loss: 28.0059 - lr: 3.5481e-06\n",
      "Epoch 53/140\n",
      "36/36 [==============================] - 0s 2ms/step - loss: 29.5015 - val_loss: 27.8808 - lr: 3.9811e-06\n",
      "Epoch 54/140\n",
      "36/36 [==============================] - 0s 2ms/step - loss: 29.3681 - val_loss: 27.7385 - lr: 4.4668e-06\n",
      "Epoch 55/140\n",
      "36/36 [==============================] - 0s 2ms/step - loss: 29.2176 - val_loss: 27.5805 - lr: 5.0119e-06\n",
      "Epoch 56/140\n",
      "36/36 [==============================] - 0s 2ms/step - loss: 29.0483 - val_loss: 27.3948 - lr: 5.6234e-06\n",
      "Epoch 57/140\n",
      "36/36 [==============================] - 0s 2ms/step - loss: 28.8572 - val_loss: 27.1855 - lr: 6.3096e-06\n",
      "Epoch 58/140\n",
      "36/36 [==============================] - 0s 2ms/step - loss: 28.6393 - val_loss: 26.9528 - lr: 7.0795e-06\n",
      "Epoch 59/140\n",
      "36/36 [==============================] - 0s 2ms/step - loss: 28.3904 - val_loss: 26.6819 - lr: 7.9433e-06\n",
      "Epoch 60/140\n",
      "36/36 [==============================] - 0s 4ms/step - loss: 28.1053 - val_loss: 26.3762 - lr: 8.9125e-06\n",
      "Epoch 61/140\n",
      "36/36 [==============================] - 0s 2ms/step - loss: 27.7787 - val_loss: 26.0272 - lr: 1.0000e-05\n",
      "Epoch 62/140\n",
      "36/36 [==============================] - 0s 2ms/step - loss: 27.4055 - val_loss: 25.6377 - lr: 1.1220e-05\n",
      "Epoch 63/140\n",
      "36/36 [==============================] - 0s 2ms/step - loss: 26.9931 - val_loss: 25.2118 - lr: 1.2589e-05\n",
      "Epoch 64/140\n",
      "36/36 [==============================] - 0s 2ms/step - loss: 26.5729 - val_loss: 24.7715 - lr: 1.4125e-05\n",
      "Epoch 65/140\n",
      "36/36 [==============================] - 0s 2ms/step - loss: 26.1002 - val_loss: 24.2236 - lr: 1.5849e-05\n",
      "Epoch 66/140\n",
      "36/36 [==============================] - 0s 3ms/step - loss: 25.4038 - val_loss: 23.2211 - lr: 1.7783e-05\n",
      "Epoch 67/140\n",
      "36/36 [==============================] - 0s 2ms/step - loss: 23.3667 - val_loss: 20.3589 - lr: 1.9953e-05\n",
      "Epoch 68/140\n",
      "36/36 [==============================] - 0s 2ms/step - loss: 20.1877 - val_loss: 17.1137 - lr: 2.2387e-05\n",
      "Epoch 69/140\n",
      "36/36 [==============================] - 0s 2ms/step - loss: 16.7696 - val_loss: 13.6698 - lr: 2.5119e-05\n",
      "Epoch 70/140\n",
      "36/36 [==============================] - 0s 2ms/step - loss: 12.9873 - val_loss: 9.7871 - lr: 2.8184e-05\n",
      "Epoch 71/140\n",
      "36/36 [==============================] - 0s 2ms/step - loss: 8.5288 - val_loss: 6.8541 - lr: 3.1623e-05\n",
      "Epoch 72/140\n",
      "36/36 [==============================] - 0s 3ms/step - loss: 4.9198 - val_loss: 5.9191 - lr: 3.5481e-05\n",
      "Epoch 73/140\n",
      "36/36 [==============================] - 0s 2ms/step - loss: 4.1305 - val_loss: 5.8824 - lr: 3.9811e-05\n",
      "Epoch 74/140\n",
      "36/36 [==============================] - 0s 2ms/step - loss: 4.1012 - val_loss: 5.8505 - lr: 4.4668e-05\n",
      "Epoch 75/140\n",
      "36/36 [==============================] - 0s 2ms/step - loss: 4.0442 - val_loss: 5.7852 - lr: 5.0119e-05\n",
      "Epoch 76/140\n",
      "36/36 [==============================] - 0s 2ms/step - loss: 3.9868 - val_loss: 5.7034 - lr: 5.6234e-05\n",
      "Epoch 77/140\n",
      "36/36 [==============================] - 0s 2ms/step - loss: 3.9374 - val_loss: 5.5927 - lr: 6.3096e-05\n",
      "Epoch 78/140\n",
      "36/36 [==============================] - 0s 2ms/step - loss: 3.8511 - val_loss: 5.4775 - lr: 7.0795e-05\n",
      "Epoch 79/140\n",
      "36/36 [==============================] - 0s 2ms/step - loss: 3.7863 - val_loss: 5.3515 - lr: 7.9433e-05\n",
      "Epoch 80/140\n",
      "36/36 [==============================] - 0s 2ms/step - loss: 3.6934 - val_loss: 5.2135 - lr: 8.9125e-05\n",
      "Epoch 81/140\n",
      "36/36 [==============================] - 0s 2ms/step - loss: 3.6088 - val_loss: 5.0529 - lr: 1.0000e-04\n",
      "Epoch 82/140\n",
      "36/36 [==============================] - 0s 2ms/step - loss: 3.5793 - val_loss: 4.8870 - lr: 1.1220e-04\n",
      "Epoch 83/140\n",
      "36/36 [==============================] - 0s 2ms/step - loss: 3.3726 - val_loss: 4.8048 - lr: 1.2589e-04\n",
      "Epoch 84/140\n",
      "36/36 [==============================] - 0s 2ms/step - loss: 3.5429 - val_loss: 4.5489 - lr: 1.4125e-04\n",
      "Epoch 85/140\n",
      "36/36 [==============================] - 0s 2ms/step - loss: 3.2375 - val_loss: 4.3574 - lr: 1.5849e-04\n",
      "Epoch 86/140\n",
      "36/36 [==============================] - 0s 2ms/step - loss: 3.1082 - val_loss: 4.1261 - lr: 1.7783e-04\n",
      "Epoch 87/140\n",
      "36/36 [==============================] - 0s 2ms/step - loss: 2.9428 - val_loss: 3.8843 - lr: 1.9953e-04\n",
      "Epoch 88/140\n",
      "36/36 [==============================] - 0s 2ms/step - loss: 2.7736 - val_loss: 3.5829 - lr: 2.2387e-04\n",
      "Epoch 89/140\n",
      "36/36 [==============================] - 0s 2ms/step - loss: 2.7074 - val_loss: 3.3031 - lr: 2.5119e-04\n",
      "Epoch 90/140\n",
      "36/36 [==============================] - 0s 2ms/step - loss: 2.6981 - val_loss: 3.1298 - lr: 2.8184e-04\n",
      "Epoch 91/140\n",
      "36/36 [==============================] - 0s 2ms/step - loss: 2.3561 - val_loss: 2.8079 - lr: 3.1623e-04\n",
      "Epoch 92/140\n",
      "36/36 [==============================] - 0s 3ms/step - loss: 2.1927 - val_loss: 2.9155 - lr: 3.5481e-04\n",
      "Epoch 93/140\n",
      "36/36 [==============================] - 0s 2ms/step - loss: 2.3175 - val_loss: 2.6696 - lr: 3.9811e-04\n",
      "Epoch 94/140\n",
      "36/36 [==============================] - 0s 2ms/step - loss: 2.1133 - val_loss: 3.4904 - lr: 4.4668e-04\n",
      "Epoch 95/140\n",
      "36/36 [==============================] - 0s 1ms/step - loss: 2.5681 - val_loss: 2.5452 - lr: 5.0119e-04\n",
      "Epoch 96/140\n",
      "36/36 [==============================] - 0s 2ms/step - loss: 2.1456 - val_loss: 2.4357 - lr: 5.6234e-04\n",
      "Epoch 97/140\n",
      "36/36 [==============================] - 0s 2ms/step - loss: 2.0461 - val_loss: 2.3511 - lr: 6.3096e-04\n",
      "Epoch 98/140\n",
      "36/36 [==============================] - 0s 2ms/step - loss: 2.3496 - val_loss: 2.4622 - lr: 7.0795e-04\n",
      "Epoch 99/140\n",
      "36/36 [==============================] - 0s 2ms/step - loss: 2.4510 - val_loss: 4.2180 - lr: 7.9433e-04\n",
      "Epoch 100/140\n",
      "36/36 [==============================] - 0s 2ms/step - loss: 2.2898 - val_loss: 2.5517 - lr: 8.9125e-04\n",
      "Epoch 101/140\n",
      "36/36 [==============================] - 0s 2ms/step - loss: 1.7898 - val_loss: 2.1761 - lr: 0.0010\n",
      "Epoch 102/140\n",
      "36/36 [==============================] - 0s 2ms/step - loss: 1.8342 - val_loss: 2.2308 - lr: 0.0011\n",
      "Epoch 103/140\n",
      "36/36 [==============================] - 0s 2ms/step - loss: 1.7473 - val_loss: 2.8956 - lr: 0.0013\n",
      "Epoch 104/140\n",
      "36/36 [==============================] - 0s 2ms/step - loss: 2.1874 - val_loss: 2.6456 - lr: 0.0014\n",
      "Epoch 105/140\n",
      "36/36 [==============================] - 0s 2ms/step - loss: 3.5486 - val_loss: 2.7137 - lr: 0.0016\n",
      "Epoch 106/140\n",
      "36/36 [==============================] - 0s 2ms/step - loss: 2.0183 - val_loss: 2.4957 - lr: 0.0018\n",
      "Epoch 107/140\n",
      "36/36 [==============================] - 0s 2ms/step - loss: 2.0653 - val_loss: 6.1229 - lr: 0.0020\n",
      "Epoch 108/140\n",
      "36/36 [==============================] - 0s 2ms/step - loss: 3.0645 - val_loss: 3.0545 - lr: 0.0022\n",
      "Epoch 109/140\n",
      "36/36 [==============================] - 0s 2ms/step - loss: 2.0605 - val_loss: 2.0903 - lr: 0.0025\n",
      "Epoch 110/140\n",
      "36/36 [==============================] - 0s 2ms/step - loss: 1.7553 - val_loss: 2.9175 - lr: 0.0028\n",
      "Epoch 111/140\n",
      "36/36 [==============================] - 0s 2ms/step - loss: 2.0371 - val_loss: 2.6395 - lr: 0.0032\n",
      "Epoch 112/140\n",
      "36/36 [==============================] - 0s 2ms/step - loss: 2.0317 - val_loss: 3.8060 - lr: 0.0035\n",
      "Epoch 113/140\n",
      "36/36 [==============================] - 0s 2ms/step - loss: 3.0617 - val_loss: 2.3894 - lr: 0.0040\n",
      "Epoch 114/140\n",
      "36/36 [==============================] - 0s 2ms/step - loss: 2.2474 - val_loss: 2.4115 - lr: 0.0045\n",
      "Epoch 115/140\n",
      "36/36 [==============================] - 0s 2ms/step - loss: 2.6144 - val_loss: 6.3957 - lr: 0.0050\n",
      "Epoch 116/140\n",
      "36/36 [==============================] - 0s 2ms/step - loss: 3.5921 - val_loss: 4.0326 - lr: 0.0056\n",
      "Epoch 117/140\n",
      "36/36 [==============================] - 0s 2ms/step - loss: 3.5204 - val_loss: 2.7914 - lr: 0.0063\n",
      "Epoch 118/140\n",
      "36/36 [==============================] - 0s 2ms/step - loss: 2.3434 - val_loss: 3.3480 - lr: 0.0071\n",
      "Epoch 119/140\n",
      "36/36 [==============================] - 0s 2ms/step - loss: 3.3088 - val_loss: 4.1162 - lr: 0.0079\n",
      "Epoch 120/140\n",
      "36/36 [==============================] - 0s 2ms/step - loss: 2.6162 - val_loss: 1.9677 - lr: 0.0089\n",
      "Epoch 121/140\n",
      "36/36 [==============================] - 0s 2ms/step - loss: 1.7184 - val_loss: 1.9534 - lr: 0.0100\n",
      "Epoch 122/140\n",
      "36/36 [==============================] - 0s 2ms/step - loss: 3.6094 - val_loss: 6.1883 - lr: 0.0112\n",
      "Epoch 123/140\n",
      "36/36 [==============================] - 0s 2ms/step - loss: 2.6990 - val_loss: 2.2501 - lr: 0.0126\n",
      "Epoch 124/140\n",
      "36/36 [==============================] - 0s 2ms/step - loss: 2.4771 - val_loss: 2.3014 - lr: 0.0141\n",
      "Epoch 125/140\n",
      "36/36 [==============================] - 0s 1ms/step - loss: 2.9293 - val_loss: 2.8608 - lr: 0.0158\n",
      "Epoch 126/140\n",
      "36/36 [==============================] - 0s 2ms/step - loss: 3.1278 - val_loss: 2.9778 - lr: 0.0178\n",
      "Epoch 127/140\n",
      "36/36 [==============================] - 0s 2ms/step - loss: 2.8345 - val_loss: 3.5406 - lr: 0.0200\n",
      "Epoch 128/140\n",
      "36/36 [==============================] - 0s 2ms/step - loss: 3.5568 - val_loss: 2.5135 - lr: 0.0224\n",
      "Epoch 129/140\n",
      "36/36 [==============================] - 0s 2ms/step - loss: 2.6106 - val_loss: 3.5104 - lr: 0.0251\n",
      "Epoch 130/140\n",
      "36/36 [==============================] - 0s 2ms/step - loss: 2.8804 - val_loss: 3.1168 - lr: 0.0282\n",
      "Epoch 131/140\n",
      "36/36 [==============================] - 0s 2ms/step - loss: 3.1012 - val_loss: 2.2788 - lr: 0.0316\n",
      "Epoch 132/140\n",
      "36/36 [==============================] - 0s 2ms/step - loss: 3.1240 - val_loss: 2.3388 - lr: 0.0355\n",
      "Epoch 133/140\n",
      "36/36 [==============================] - 0s 2ms/step - loss: 4.0215 - val_loss: 2.6176 - lr: 0.0398\n",
      "Epoch 134/140\n",
      "36/36 [==============================] - 0s 2ms/step - loss: 4.4863 - val_loss: 10.0896 - lr: 0.0447\n",
      "Epoch 135/140\n",
      "36/36 [==============================] - 0s 2ms/step - loss: 4.9957 - val_loss: 2.9928 - lr: 0.0501\n",
      "Epoch 136/140\n",
      "36/36 [==============================] - 0s 2ms/step - loss: 8.0095 - val_loss: 8.0114 - lr: 0.0562\n",
      "Epoch 137/140\n",
      "36/36 [==============================] - 0s 2ms/step - loss: 6.0240 - val_loss: 3.2822 - lr: 0.0631\n",
      "Epoch 138/140\n",
      "36/36 [==============================] - 0s 2ms/step - loss: 3.3405 - val_loss: 3.6593 - lr: 0.0708\n",
      "Epoch 139/140\n",
      "36/36 [==============================] - 0s 2ms/step - loss: 5.4783 - val_loss: 3.3498 - lr: 0.0794\n",
      "Epoch 140/140\n",
      "36/36 [==============================] - 0s 2ms/step - loss: 5.8863 - val_loss: 2.6544 - lr: 0.0891\n"
     ]
    }
   ],
   "source": [
    "# Set the learning rate scheduler\n",
    "lr_schedule = tf.keras.callbacks.LearningRateScheduler(\n",
    "    lambda epoch: 1e-8 * 10**(epoch / 20))\n",
    "\n",
    "# Initialize the optimizer\n",
    "optimizer = tf.keras.optimizers.Adam()\n",
    "\n",
    "# Set the training parameters\n",
    "model_uncomplete.compile(loss=tf.keras.losses.Huber(), optimizer=optimizer)\n",
    "\n",
    "# Train the model\n",
    "history = model_uncomplete.fit(X_train, y_train, validation_data=(X_val, y_val), epochs=140, batch_size=4, callbacks=[lr_schedule])"
   ]
  },
  {
   "cell_type": "code",
   "execution_count": 338,
   "id": "5e4fa6cc-894c-4c06-bb28-63b13647973d",
   "metadata": {},
   "outputs": [
    {
     "data": {
      "image/png": "[encoded data removed]",
      "text/plain": [
       "<Figure size 1000x600 with 1 Axes>"
      ]
     },
     "metadata": {},
     "output_type": "display_data"
    }
   ],
   "source": [
    "# Define the learning rate array\n",
    "lrs = 1e-8 * (10 ** (np.arange(140) / 20))\n",
    "\n",
    "# Set the figure size\n",
    "plt.figure(figsize=(10, 6))\n",
    "\n",
    "# Set the grid\n",
    "plt.grid(True)\n",
    "\n",
    "# Plot the loss in log scale\n",
    "plt.semilogx(lrs, history.history[\"loss\"])\n",
    "\n",
    "# Increase the tickmarks size\n",
    "plt.tick_params('both', length=10, width=1, which='both')\n",
    "\n",
    "# Set the plot boundaries\n",
    "# plt.axis([1e-8, 1e-3, 0, 50])"
   ]
  },
  {
   "cell_type": "markdown",
   "id": "1781ad40-8686-4314-91ee-ff3a194cfb6e",
   "metadata": {},
   "source": [
    "### fit model 1"
   ]
  },
  {
   "cell_type": "code",
   "execution_count": 339,
   "id": "30a57025-c2ed-4312-82d8-a2b2e29038cc",
   "metadata": {},
   "outputs": [],
   "source": [
    "def custom_mape(y_true, y_pred):\n",
    "    return tf.reduce_mean(tf.abs((y_true - y_pred) / y_true)) * 100"
   ]
  },
  {
   "cell_type": "code",
   "execution_count": 340,
   "id": "725267d3-2d64-4a20-b456-ee37033d92b0",
   "metadata": {},
   "outputs": [],
   "source": [
    "class myCallback(tf.keras.callbacks.Callback):\n",
    "    def on_epoch_end(self, epoch, logs=None):\n",
    "        # Check the loss\n",
    "        if logs['val_custom_mape'] < 7:\n",
    "            # Stop if threshold is met\n",
    "            print(\"\\MAPE is lower than 7% so cancelling training!\")\n",
    "            self.model.stop_training = True"
   ]
  },
  {
   "cell_type": "code",
   "execution_count": 341,
   "id": "f09f5b80-3f93-4882-8ff4-fdcc8d50d2f5",
   "metadata": {},
   "outputs": [],
   "source": [
    "# Training Parameters\n",
    "model = create_model(window_size)\n",
    "optimizer = tf.keras.optimizers.Adam(learning_rate=0.0100)\n",
    "model.compile(optimizer=optimizer, loss=tf.keras.losses.Huber(), metrics=[custom_mape])"
   ]
  },
  {
   "cell_type": "code",
   "execution_count": 342,
   "id": "83a7ce80-ab2c-4463-95c4-468b58d306e0",
   "metadata": {},
   "outputs": [
    {
     "name": "stdout",
     "output_type": "stream",
     "text": [
      "Epoch 1/200\n",
      "36/36 [==============================] - 1s 6ms/step - loss: 5.5225 - custom_mape: 20.2111 - val_loss: 5.6935 - val_custom_mape: 25.7477\n",
      "Epoch 2/200\n",
      "36/36 [==============================] - 0s 5ms/step - loss: 5.4062 - custom_mape: 19.9390 - val_loss: 4.3621 - val_custom_mape: 19.1331\n",
      "Epoch 3/200\n",
      "36/36 [==============================] - 0s 2ms/step - loss: 3.5013 - custom_mape: 13.2170 - val_loss: 4.2489 - val_custom_mape: 19.1130\n",
      "Epoch 4/200\n",
      "36/36 [==============================] - 0s 2ms/step - loss: 2.7651 - custom_mape: 11.2330 - val_loss: 3.7086 - val_custom_mape: 16.6298\n",
      "Epoch 5/200\n",
      "36/36 [==============================] - 0s 2ms/step - loss: 3.6104 - custom_mape: 13.9661 - val_loss: 4.0896 - val_custom_mape: 18.2090\n",
      "Epoch 6/200\n",
      "36/36 [==============================] - 0s 2ms/step - loss: 3.0059 - custom_mape: 11.8539 - val_loss: 2.6586 - val_custom_mape: 11.6030\n",
      "Epoch 7/200\n",
      "36/36 [==============================] - 0s 2ms/step - loss: 2.3038 - custom_mape: 9.8915 - val_loss: 6.0782 - val_custom_mape: 23.2415\n",
      "Epoch 8/200\n",
      "36/36 [==============================] - 0s 2ms/step - loss: 3.2258 - custom_mape: 12.9325 - val_loss: 2.8924 - val_custom_mape: 11.3227\n",
      "Epoch 9/200\n",
      "36/36 [==============================] - 0s 2ms/step - loss: 2.4271 - custom_mape: 10.2072 - val_loss: 1.9391 - val_custom_mape: 8.4628\n",
      "Epoch 10/200\n",
      "36/36 [==============================] - 0s 2ms/step - loss: 2.4563 - custom_mape: 9.9892 - val_loss: 3.0641 - val_custom_mape: 14.1941\n",
      "Epoch 11/200\n",
      "36/36 [==============================] - 0s 2ms/step - loss: 3.0652 - custom_mape: 12.2086 - val_loss: 2.1892 - val_custom_mape: 9.2581\n",
      "Epoch 12/200\n",
      "36/36 [==============================] - 0s 2ms/step - loss: 2.4405 - custom_mape: 10.0362 - val_loss: 2.0241 - val_custom_mape: 8.5954\n",
      "Epoch 13/200\n",
      "36/36 [==============================] - 0s 2ms/step - loss: 2.0966 - custom_mape: 8.9295 - val_loss: 3.1994 - val_custom_mape: 14.9066\n",
      "Epoch 14/200\n",
      "36/36 [==============================] - 0s 2ms/step - loss: 2.3554 - custom_mape: 9.4760 - val_loss: 2.6289 - val_custom_mape: 10.4105\n",
      "Epoch 15/200\n",
      "36/36 [==============================] - 0s 2ms/step - loss: 1.9653 - custom_mape: 8.2897 - val_loss: 1.9992 - val_custom_mape: 8.3996\n",
      "Epoch 16/200\n",
      "36/36 [==============================] - 0s 2ms/step - loss: 1.9745 - custom_mape: 8.2962 - val_loss: 2.0112 - val_custom_mape: 8.4965\n",
      "Epoch 17/200\n",
      "36/36 [==============================] - 0s 2ms/step - loss: 1.8181 - custom_mape: 7.9075 - val_loss: 1.9817 - val_custom_mape: 8.8996\n",
      "Epoch 18/200\n",
      "36/36 [==============================] - 0s 2ms/step - loss: 2.8129 - custom_mape: 10.5723 - val_loss: 2.1413 - val_custom_mape: 9.1419\n",
      "Epoch 19/200\n",
      "36/36 [==============================] - 0s 2ms/step - loss: 1.9392 - custom_mape: 8.7077 - val_loss: 2.8082 - val_custom_mape: 11.0287\n",
      "Epoch 20/200\n",
      "36/36 [==============================] - 0s 2ms/step - loss: 2.3716 - custom_mape: 10.0880 - val_loss: 3.8014 - val_custom_mape: 15.0376\n",
      "Epoch 21/200\n",
      "36/36 [==============================] - 0s 2ms/step - loss: 2.1790 - custom_mape: 9.2483 - val_loss: 2.0704 - val_custom_mape: 9.1751\n",
      "Epoch 22/200\n",
      "36/36 [==============================] - 0s 2ms/step - loss: 1.9243 - custom_mape: 8.0616 - val_loss: 1.7996 - val_custom_mape: 7.6006\n",
      "Epoch 23/200\n",
      "36/36 [==============================] - 0s 2ms/step - loss: 2.3267 - custom_mape: 9.6177 - val_loss: 2.0229 - val_custom_mape: 8.3591\n",
      "Epoch 24/200\n",
      "36/36 [==============================] - 0s 2ms/step - loss: 1.7538 - custom_mape: 7.4722 - val_loss: 2.9562 - val_custom_mape: 13.4371\n",
      "Epoch 25/200\n",
      "36/36 [==============================] - 0s 2ms/step - loss: 1.9775 - custom_mape: 8.8224 - val_loss: 3.5296 - val_custom_mape: 16.2174\n",
      "Epoch 26/200\n",
      "36/36 [==============================] - 0s 2ms/step - loss: 1.8570 - custom_mape: 8.0991 - val_loss: 3.2753 - val_custom_mape: 14.7287\n",
      "Epoch 27/200\n",
      "36/36 [==============================] - 0s 2ms/step - loss: 2.3645 - custom_mape: 10.6226 - val_loss: 3.3906 - val_custom_mape: 13.0571\n",
      "Epoch 28/200\n",
      "36/36 [==============================] - 0s 2ms/step - loss: 2.4064 - custom_mape: 9.7683 - val_loss: 1.9229 - val_custom_mape: 8.1617\n",
      "Epoch 29/200\n",
      "36/36 [==============================] - 0s 2ms/step - loss: 1.4365 - custom_mape: 6.3528 - val_loss: 2.0947 - val_custom_mape: 8.4997\n",
      "Epoch 30/200\n",
      "36/36 [==============================] - 0s 2ms/step - loss: 1.4907 - custom_mape: 6.6377 - val_loss: 2.9012 - val_custom_mape: 13.1537\n",
      "Epoch 31/200\n",
      "36/36 [==============================] - 0s 2ms/step - loss: 1.6652 - custom_mape: 7.1942 - val_loss: 2.0163 - val_custom_mape: 8.9563\n",
      "Epoch 32/200\n",
      "36/36 [==============================] - 0s 2ms/step - loss: 2.2279 - custom_mape: 9.3527 - val_loss: 3.3451 - val_custom_mape: 14.9588\n",
      "Epoch 33/200\n",
      "36/36 [==============================] - 0s 2ms/step - loss: 1.7577 - custom_mape: 7.6630 - val_loss: 2.0681 - val_custom_mape: 8.4917\n",
      "Epoch 34/200\n",
      "36/36 [==============================] - 0s 2ms/step - loss: 2.4493 - custom_mape: 9.9713 - val_loss: 3.4402 - val_custom_mape: 15.5220\n",
      "Epoch 35/200\n",
      "36/36 [==============================] - 0s 2ms/step - loss: 1.9978 - custom_mape: 8.3451 - val_loss: 2.0326 - val_custom_mape: 8.9182\n",
      "Epoch 36/200\n",
      "36/36 [==============================] - 0s 2ms/step - loss: 2.3461 - custom_mape: 9.5949 - val_loss: 1.8123 - val_custom_mape: 7.7218\n",
      "Epoch 37/200\n",
      "36/36 [==============================] - 0s 2ms/step - loss: 1.5017 - custom_mape: 7.2152 - val_loss: 2.7008 - val_custom_mape: 11.7682\n",
      "Epoch 38/200\n",
      "36/36 [==============================] - 0s 2ms/step - loss: 1.8283 - custom_mape: 7.9263 - val_loss: 1.8086 - val_custom_mape: 7.6783\n",
      "Epoch 39/200\n",
      "36/36 [==============================] - 0s 2ms/step - loss: 1.4013 - custom_mape: 6.3047 - val_loss: 2.5920 - val_custom_mape: 11.4007\n",
      "Epoch 40/200\n",
      "36/36 [==============================] - 0s 2ms/step - loss: 1.8534 - custom_mape: 8.1497 - val_loss: 1.9527 - val_custom_mape: 8.4846\n",
      "Epoch 41/200\n",
      "36/36 [==============================] - 0s 2ms/step - loss: 1.6675 - custom_mape: 7.2579 - val_loss: 3.1153 - val_custom_mape: 14.0163\n",
      "Epoch 42/200\n",
      "36/36 [==============================] - 0s 2ms/step - loss: 1.5781 - custom_mape: 7.3490 - val_loss: 2.7472 - val_custom_mape: 12.2668\n",
      "Epoch 43/200\n",
      "36/36 [==============================] - 0s 2ms/step - loss: 1.9332 - custom_mape: 8.1927 - val_loss: 3.2438 - val_custom_mape: 14.1006\n",
      "Epoch 44/200\n",
      "36/36 [==============================] - 0s 2ms/step - loss: 2.4388 - custom_mape: 10.2803 - val_loss: 3.0084 - val_custom_mape: 13.2875\n",
      "Epoch 45/200\n",
      "36/36 [==============================] - 0s 2ms/step - loss: 1.5237 - custom_mape: 6.4872 - val_loss: 1.8664 - val_custom_mape: 7.6168\n",
      "Epoch 46/200\n",
      "36/36 [==============================] - 0s 2ms/step - loss: 1.3064 - custom_mape: 6.2022 - val_loss: 2.5128 - val_custom_mape: 11.0243\n",
      "Epoch 47/200\n",
      "36/36 [==============================] - 0s 2ms/step - loss: 1.4713 - custom_mape: 6.5400 - val_loss: 2.1209 - val_custom_mape: 8.6455\n",
      "Epoch 48/200\n",
      "36/36 [==============================] - 0s 2ms/step - loss: 1.5789 - custom_mape: 6.8996 - val_loss: 1.9643 - val_custom_mape: 8.1222\n",
      "Epoch 49/200\n",
      "36/36 [==============================] - 0s 2ms/step - loss: 1.6421 - custom_mape: 7.1057 - val_loss: 1.7149 - val_custom_mape: 7.2134\n",
      "Epoch 50/200\n",
      "36/36 [==============================] - 0s 2ms/step - loss: 1.6794 - custom_mape: 7.1615 - val_loss: 1.9048 - val_custom_mape: 7.8638\n",
      "Epoch 51/200\n",
      "36/36 [==============================] - 0s 2ms/step - loss: 1.9799 - custom_mape: 8.3017 - val_loss: 1.9845 - val_custom_mape: 8.7278\n",
      "Epoch 52/200\n",
      "36/36 [==============================] - 0s 2ms/step - loss: 1.8000 - custom_mape: 8.2085 - val_loss: 2.3589 - val_custom_mape: 9.5217\n",
      "Epoch 53/200\n",
      "36/36 [==============================] - 0s 2ms/step - loss: 1.8629 - custom_mape: 8.1684 - val_loss: 2.3575 - val_custom_mape: 10.4767\n",
      "Epoch 54/200\n",
      "36/36 [==============================] - 0s 2ms/step - loss: 1.4757 - custom_mape: 6.7531 - val_loss: 2.4264 - val_custom_mape: 9.7325\n",
      "Epoch 55/200\n",
      "36/36 [==============================] - 0s 2ms/step - loss: 1.8166 - custom_mape: 7.7804 - val_loss: 2.5902 - val_custom_mape: 11.4249\n",
      "Epoch 56/200\n",
      "36/36 [==============================] - 0s 2ms/step - loss: 1.4253 - custom_mape: 6.2982 - val_loss: 1.7663 - val_custom_mape: 7.4370\n",
      "Epoch 57/200\n",
      "36/36 [==============================] - 0s 3ms/step - loss: 1.3442 - custom_mape: 5.9404 - val_loss: 1.8484 - val_custom_mape: 7.8986\n",
      "Epoch 58/200\n",
      "36/36 [==============================] - 0s 2ms/step - loss: 1.5535 - custom_mape: 7.3221 - val_loss: 1.9951 - val_custom_mape: 8.7741\n",
      "Epoch 59/200\n",
      "36/36 [==============================] - 0s 2ms/step - loss: 1.5584 - custom_mape: 7.0251 - val_loss: 1.6964 - val_custom_mape: 7.1945\n",
      "Epoch 60/200\n",
      "36/36 [==============================] - 0s 2ms/step - loss: 1.3716 - custom_mape: 6.0674 - val_loss: 1.8458 - val_custom_mape: 7.9826\n",
      "Epoch 61/200\n",
      "36/36 [==============================] - 0s 2ms/step - loss: 1.9289 - custom_mape: 8.2980 - val_loss: 2.5721 - val_custom_mape: 10.2551\n",
      "Epoch 62/200\n",
      "36/36 [==============================] - 0s 2ms/step - loss: 1.6009 - custom_mape: 7.0895 - val_loss: 2.3878 - val_custom_mape: 9.4938\n",
      "Epoch 63/200\n",
      "36/36 [==============================] - 0s 2ms/step - loss: 1.7951 - custom_mape: 7.7178 - val_loss: 2.3114 - val_custom_mape: 9.3138\n",
      "Epoch 64/200\n",
      "36/36 [==============================] - 0s 2ms/step - loss: 1.5435 - custom_mape: 6.7189 - val_loss: 3.9869 - val_custom_mape: 17.4205\n",
      "Epoch 65/200\n",
      "36/36 [==============================] - 0s 2ms/step - loss: 2.1651 - custom_mape: 8.9755 - val_loss: 1.8347 - val_custom_mape: 8.0709\n",
      "Epoch 66/200\n",
      "36/36 [==============================] - 0s 2ms/step - loss: 1.7831 - custom_mape: 7.7509 - val_loss: 2.1617 - val_custom_mape: 8.7875\n",
      "Epoch 67/200\n",
      "36/36 [==============================] - 0s 2ms/step - loss: 2.5801 - custom_mape: 10.6044 - val_loss: 3.0690 - val_custom_mape: 11.9462\n",
      "Epoch 68/200\n",
      "36/36 [==============================] - 0s 2ms/step - loss: 2.0149 - custom_mape: 8.8058 - val_loss: 3.0110 - val_custom_mape: 11.7101\n",
      "Epoch 69/200\n",
      "36/36 [==============================] - 0s 2ms/step - loss: 2.1759 - custom_mape: 9.2006 - val_loss: 1.8341 - val_custom_mape: 7.5177\n",
      "Epoch 70/200\n",
      "36/36 [==============================] - 0s 2ms/step - loss: 1.4523 - custom_mape: 6.3880 - val_loss: 1.7150 - val_custom_mape: 7.5356\n",
      "Epoch 71/200\n",
      "36/36 [==============================] - 0s 2ms/step - loss: 1.2826 - custom_mape: 5.7722 - val_loss: 1.6869 - val_custom_mape: 7.0049\n",
      "Epoch 72/200\n",
      "36/36 [==============================] - 0s 2ms/step - loss: 1.2761 - custom_mape: 5.8914 - val_loss: 1.7300 - val_custom_mape: 7.5612\n",
      "Epoch 73/200\n",
      "36/36 [==============================] - 0s 2ms/step - loss: 1.4590 - custom_mape: 6.5829 - val_loss: 2.3180 - val_custom_mape: 10.4842\n",
      "Epoch 74/200\n",
      "36/36 [==============================] - 0s 2ms/step - loss: 1.4694 - custom_mape: 6.4420 - val_loss: 1.7565 - val_custom_mape: 7.3378\n",
      "Epoch 75/200\n",
      "36/36 [==============================] - 0s 2ms/step - loss: 2.0454 - custom_mape: 8.5055 - val_loss: 1.9715 - val_custom_mape: 8.7656\n",
      "Epoch 76/200\n",
      "36/36 [==============================] - 0s 2ms/step - loss: 1.5779 - custom_mape: 6.9484 - val_loss: 1.7325 - val_custom_mape: 7.2858\n",
      "Epoch 77/200\n",
      "36/36 [==============================] - 0s 2ms/step - loss: 1.8547 - custom_mape: 7.9034 - val_loss: 2.1966 - val_custom_mape: 9.6751\n",
      "Epoch 78/200\n",
      "36/36 [==============================] - 0s 2ms/step - loss: 1.6465 - custom_mape: 7.2920 - val_loss: 1.9585 - val_custom_mape: 8.5854\n",
      "Epoch 79/200\n",
      "36/36 [==============================] - 0s 2ms/step - loss: 1.3902 - custom_mape: 5.9651 - val_loss: 1.6750 - val_custom_mape: 7.0173\n",
      "Epoch 80/200\n",
      "36/36 [==============================] - 0s 2ms/step - loss: 1.7617 - custom_mape: 7.6419 - val_loss: 2.2615 - val_custom_mape: 10.0007\n",
      "Epoch 81/200\n",
      "36/36 [==============================] - 0s 2ms/step - loss: 1.8934 - custom_mape: 8.2154 - val_loss: 1.7069 - val_custom_mape: 7.1882\n",
      "Epoch 82/200\n",
      "36/36 [==============================] - 0s 2ms/step - loss: 1.9762 - custom_mape: 8.2920 - val_loss: 1.7858 - val_custom_mape: 7.4840\n",
      "Epoch 83/200\n",
      "36/36 [==============================] - 0s 2ms/step - loss: 1.4478 - custom_mape: 6.3976 - val_loss: 2.2447 - val_custom_mape: 9.8297\n",
      "Epoch 84/200\n",
      "36/36 [==============================] - 0s 2ms/step - loss: 1.8723 - custom_mape: 8.3320 - val_loss: 2.5015 - val_custom_mape: 10.0319\n",
      "Epoch 85/200\n",
      "36/36 [==============================] - 0s 2ms/step - loss: 1.7588 - custom_mape: 7.7648 - val_loss: 2.4861 - val_custom_mape: 11.0058\n",
      "Epoch 86/200\n",
      "36/36 [==============================] - 0s 2ms/step - loss: 1.6184 - custom_mape: 7.0667 - val_loss: 2.1149 - val_custom_mape: 9.2016\n",
      "Epoch 87/200\n",
      "36/36 [==============================] - 0s 2ms/step - loss: 1.2756 - custom_mape: 5.8355 - val_loss: 3.1317 - val_custom_mape: 13.8989\n",
      "Epoch 88/200\n",
      "36/36 [==============================] - 0s 2ms/step - loss: 1.6041 - custom_mape: 6.9589 - val_loss: 2.1951 - val_custom_mape: 9.7034\n",
      "Epoch 89/200\n",
      "36/36 [==============================] - 0s 2ms/step - loss: 1.3573 - custom_mape: 6.3353 - val_loss: 2.0122 - val_custom_mape: 8.6796\n",
      "Epoch 90/200\n",
      "36/36 [==============================] - 0s 2ms/step - loss: 1.4176 - custom_mape: 6.2643 - val_loss: 1.7005 - val_custom_mape: 7.1753\n",
      "Epoch 91/200\n",
      "36/36 [==============================] - 0s 2ms/step - loss: 1.2618 - custom_mape: 5.6761 - val_loss: 1.8043 - val_custom_mape: 7.7143\n",
      "Epoch 92/200\n",
      "36/36 [==============================] - 0s 2ms/step - loss: 1.8675 - custom_mape: 8.2273 - val_loss: 1.8549 - val_custom_mape: 7.6325\n",
      "Epoch 93/200\n",
      "36/36 [==============================] - 0s 2ms/step - loss: 1.4447 - custom_mape: 6.5254 - val_loss: 2.6425 - val_custom_mape: 11.8213\n",
      "Epoch 94/200\n",
      "36/36 [==============================] - 0s 2ms/step - loss: 1.6326 - custom_mape: 7.0487 - val_loss: 1.7072 - val_custom_mape: 7.1667\n",
      "Epoch 95/200\n",
      "36/36 [==============================] - 0s 2ms/step - loss: 1.7252 - custom_mape: 7.7129 - val_loss: 1.8513 - val_custom_mape: 8.0643\n",
      "Epoch 96/200\n",
      "36/36 [==============================] - 0s 2ms/step - loss: 1.4142 - custom_mape: 6.1238 - val_loss: 1.6831 - val_custom_mape: 7.1606\n",
      "Epoch 97/200\n",
      "36/36 [==============================] - 0s 2ms/step - loss: 1.2733 - custom_mape: 5.9886 - val_loss: 1.7601 - val_custom_mape: 7.5235\n",
      "Epoch 98/200\n",
      "36/36 [==============================] - 0s 2ms/step - loss: 1.4348 - custom_mape: 6.3134 - val_loss: 1.7601 - val_custom_mape: 7.3924\n",
      "Epoch 99/200\n",
      "36/36 [==============================] - 0s 2ms/step - loss: 1.2190 - custom_mape: 5.6242 - val_loss: 1.7531 - val_custom_mape: 7.3255\n",
      "Epoch 100/200\n",
      "36/36 [==============================] - 0s 2ms/step - loss: 1.3517 - custom_mape: 6.0890 - val_loss: 2.4390 - val_custom_mape: 10.7704\n",
      "Epoch 101/200\n",
      "36/36 [==============================] - 0s 2ms/step - loss: 1.3945 - custom_mape: 6.3980 - val_loss: 1.8892 - val_custom_mape: 8.2647\n",
      "Epoch 102/200\n",
      "36/36 [==============================] - 0s 2ms/step - loss: 1.1805 - custom_mape: 5.5654 - val_loss: 1.8520 - val_custom_mape: 7.8773\n",
      "Epoch 103/200\n",
      "36/36 [==============================] - 0s 2ms/step - loss: 1.3949 - custom_mape: 6.0880 - val_loss: 1.7355 - val_custom_mape: 7.4162\n",
      "Epoch 104/200\n",
      "36/36 [==============================] - 0s 2ms/step - loss: 1.6430 - custom_mape: 7.1733 - val_loss: 2.4140 - val_custom_mape: 10.8578\n",
      "Epoch 105/200\n",
      "36/36 [==============================] - 0s 2ms/step - loss: 1.4350 - custom_mape: 6.2488 - val_loss: 2.4442 - val_custom_mape: 10.6993\n",
      "Epoch 106/200\n",
      "36/36 [==============================] - 0s 2ms/step - loss: 1.6186 - custom_mape: 7.0800 - val_loss: 1.7224 - val_custom_mape: 7.0877\n",
      "Epoch 107/200\n",
      " 1/36 [..............................] - ETA: 0s - loss: 2.9331 - custom_mape: 15.3908\\MAPE is lower than 7% so cancelling training!\n",
      "36/36 [==============================] - 0s 2ms/step - loss: 1.1396 - custom_mape: 5.1657 - val_loss: 1.6639 - val_custom_mape: 6.9269\n"
     ]
    }
   ],
   "source": [
    "# Model Training\n",
    "history = model.fit(X_train, y_train, validation_data=(X_val, y_val), epochs=200, batch_size=4, verbose=1, callbacks=[myCallback()])"
   ]
  },
  {
   "cell_type": "markdown",
   "id": "f028bfb1-5802-454a-a96c-5099a4a6b94d",
   "metadata": {},
   "source": [
    "### Visualisasi loss"
   ]
  },
  {
   "cell_type": "code",
   "execution_count": 343,
   "id": "1c7d9be8-c33e-4055-aa77-d4f425296985",
   "metadata": {},
   "outputs": [
    {
     "data": {
      "image/png": "[encoded data removed]",
      "text/plain": [
       "<Figure size 1000x500 with 1 Axes>"
      ]
     },
     "metadata": {},
     "output_type": "display_data"
    }
   ],
   "source": [
    "plt.figure(figsize=(10, 5))\n",
    "plt.plot(history.history['loss'], label='Training Loss')\n",
    "plt.plot(history.history['val_loss'], label='Validation Loss')\n",
    "plt.title('Model Loss')\n",
    "plt.xlabel('Epochs')\n",
    "plt.ylabel('Loss')\n",
    "plt.legend()\n",
    "plt.grid(True)\n",
    "plt.show()"
   ]
  },
  {
   "cell_type": "markdown",
   "id": "5e1b4fad-7b8f-45a6-a296-449f16a27417",
   "metadata": {
    "jp-MarkdownHeadingCollapsed": true
   },
   "source": [
    "### Noise Dataset"
   ]
  },
  {
   "cell_type": "code",
   "execution_count": null,
   "id": "02ad9289-7be8-4232-b020-22d78c1b7231",
   "metadata": {},
   "outputs": [],
   "source": [
    "# Data Augmentation (di sini pakai Random Noise)\n",
    "# tambah random noise ke training data\n",
    "noise = np.random.normal(0, 0.1, X_train.shape)\n",
    "X_train_noisy = X_train + noise\n",
    "model.fit(X_train_noisy, y_train, epochs=50, batch_size=32, validation_split=0.2, callbacks=[early_stopping])"
   ]
  },
  {
   "cell_type": "code",
   "execution_count": null,
   "id": "bc2d7aec-8ad8-4312-a5f1-2d469844122e",
   "metadata": {},
   "outputs": [],
   "source": [
    "plt.figure(figsize=(10, 5))\n",
    "plt.plot(history.history['loss'], label='Training Loss')\n",
    "plt.plot(history.history['val_loss'], label='Validation Loss')\n",
    "plt.title('Model Loss')\n",
    "plt.xlabel('Epochs')\n",
    "plt.ylabel('Loss')\n",
    "plt.legend()\n",
    "plt.grid(True)\n",
    "plt.show()"
   ]
  },
  {
   "cell_type": "markdown",
   "id": "dc25f842-076a-473c-90dc-e17c9a6577c7",
   "metadata": {
    "jp-MarkdownHeadingCollapsed": true
   },
   "source": [
    "### Regularization"
   ]
  },
  {
   "cell_type": "code",
   "execution_count": null,
   "id": "1ab8a038-6e77-46ba-96e8-b9b84881765d",
   "metadata": {},
   "outputs": [],
   "source": [
    "# Regularization (L2 Regularization)\n",
    "model = keras.Sequential()\n",
    "model.add(LSTM(128, activation='relu', return_sequences=True, input_shape=(WINDOW_SIZE, 1), kernel_regularizer=l2(0.01)))\n",
    "model.add(LSTM(128, activation='relu', return_sequences=True, kernel_regularizer=l2(0.01)))\n",
    "model.add(LSTM(128, activation='relu', kernel_regularizer=l2(0.01)))\n",
    "model.add(Dense(64, activation='relu', kernel_regularizer=l2(0.01)))\n",
    "model.add(Dense(1))"
   ]
  },
  {
   "cell_type": "markdown",
   "id": "bb005a94-f78e-4d43-a9ae-a623e4c4496e",
   "metadata": {
    "jp-MarkdownHeadingCollapsed": true
   },
   "source": [
    "### Cross Validation"
   ]
  },
  {
   "cell_type": "code",
   "execution_count": null,
   "id": "666081da-5b0d-4726-a777-6ec25a7c2289",
   "metadata": {},
   "outputs": [],
   "source": [
    "# Membuat objek KFold dengan 5 fold\n",
    "kf = KFold(n_splits=5, shuffle=True, random_state=42)\n",
    "\n",
    "# Menyimpan hasil cross-validation\n",
    "cv_results = []\n",
    "true_values = []\n",
    "predictions = []\n",
    "\n",
    "for train_index, val_index in kf.split(X):\n",
    "    # Membagi data menjadi train dan validation set untuk setiap fold\n",
    "    X_train_fold, X_val_fold = X[train_index], X[val_index]\n",
    "    y_train_fold, y_val_fold = y[train_index], y[val_index]\n",
    "\n",
    "    # Membuat model\n",
    "    model = keras.Sequential()\n",
    "    model.add(Dense(128, activation='relu', input_shape=(WINDOW_SIZE, 1)))\n",
    "    model.add(Dropout(0.2))\n",
    "    model.add(Dense(128, activation='relu'))\n",
    "    model.add(Dropout(0.2))\n",
    "    model.add(Dense(128, activation='relu'))\n",
    "    model.add(Dropout(0.2))\n",
    "    model.add(Dense(64, activation='relu'))\n",
    "    model.add(Dropout(0.2))\n",
    "    model.add(Dense(1))\n",
    "\n",
    "    # Kompilasi model\n",
    "    model.compile(optimizer='adam', loss=tf.keras.losses.Huber())\n",
    "\n",
    "    # Latih model\n",
    "    history = model.fit(X_train_fold, y_train_fold, epochs=50, batch_size=8, validation_data=(X_val_fold, y_val_fold), verbose=0)\n",
    "\n",
    "    # Evaluasi model pada data validasi\n",
    "    val_loss = model.evaluate(X_val_fold, y_val_fold, verbose=0)\n",
    "\n",
    "    # Menyimpan hasil evaluasi untuk setiap fold\n",
    "    cv_results.append(val_loss)\n",
    "\n",
    "    # Menyimpan true values dan predictions\n",
    "    y_pred_fold = model.predict(X_val_fold)\n",
    "    true_values.extend(y_val_fold)\n",
    "    predictions.extend(y_pred_fold)\n",
    "\n",
    "# Menghitung rata-rata dan standar deviasi loss dari cross-validation\n",
    "mean_loss = np.mean(cv_results)\n",
    "std_loss = np.std(cv_results)\n",
    "\n",
    "# Menghitung MAE dan RMSE\n",
    "mae = mean_absolute_error(true_values, predictions)\n",
    "rmse = np.sqrt(mean_squared_error(true_values, predictions))\n",
    "\n",
    "print(f'Rata-rata Loss dari Cross-Validation: {mean_loss}')\n",
    "print(f'Standar Deviasi Loss dari Cross-Validation: {std_loss}')\n",
    "print(f'Mean Absolute Error (MAE): {mae}')\n",
    "print(f'Root Mean Squared Error (RMSE): {rmse}')"
   ]
  },
  {
   "cell_type": "markdown",
   "id": "dc4b3cef-6ce8-435a-8713-af0b13bb94b7",
   "metadata": {},
   "source": [
    "## Forecast"
   ]
  },
  {
   "cell_type": "markdown",
   "id": "661baa41-81e5-44a7-a0f6-28b75d534a47",
   "metadata": {},
   "source": [
    "### Train Forecast"
   ]
  },
  {
   "cell_type": "code",
   "execution_count": 344,
   "id": "8e74c1f4-1790-4383-84e2-3691cd66b6d6",
   "metadata": {},
   "outputs": [],
   "source": [
    "def inverse_scale(data):\n",
    "    return data*1000"
   ]
  },
  {
   "cell_type": "code",
   "execution_count": 345,
   "id": "5c0055af-f41d-4769-ab8b-c330f6638e24",
   "metadata": {},
   "outputs": [
    {
     "name": "stdout",
     "output_type": "stream",
     "text": [
      "6/6 [==============================] - 0s 1ms/step\n"
     ]
    }
   ],
   "source": [
    "predict = model.predict(X)\n",
    "predict = inverse_scale(predict.flatten())\n",
    "y_inverse = inverse_scale(y)"
   ]
  },
  {
   "cell_type": "code",
   "execution_count": 346,
   "id": "bdde9fca-d7f7-4106-bde6-a7fc9ecaaab7",
   "metadata": {},
   "outputs": [
    {
     "data": {
      "text/plain": [
       "(177,)"
      ]
     },
     "execution_count": 346,
     "metadata": {},
     "output_type": "execute_result"
    }
   ],
   "source": [
    "predict.shape"
   ]
  },
  {
   "cell_type": "code",
   "execution_count": 347,
   "id": "4abece7d-8338-4df7-bb21-aec6fa053f94",
   "metadata": {},
   "outputs": [
    {
     "data": {
      "text/html": [
       "<div>\n",
       "<style scoped>\n",
       "    .dataframe tbody tr th:only-of-type {\n",
       "        vertical-align: middle;\n",
       "    }\n",
       "\n",
       "    .dataframe tbody tr th {\n",
       "        vertical-align: top;\n",
       "    }\n",
       "\n",
       "    .dataframe thead th {\n",
       "        text-align: right;\n",
       "    }\n",
       "</style>\n",
       "<table border=\"1\" class=\"dataframe\">\n",
       "  <thead>\n",
       "    <tr style=\"text-align: right;\">\n",
       "      <th></th>\n",
       "      <th>Week</th>\n",
       "      <th>Prediction</th>\n",
       "      <th>actuals</th>\n",
       "    </tr>\n",
       "  </thead>\n",
       "  <tbody>\n",
       "    <tr>\n",
       "      <th>0</th>\n",
       "      <td>13</td>\n",
       "      <td>21631.296875</td>\n",
       "      <td>22000.000000</td>\n",
       "    </tr>\n",
       "    <tr>\n",
       "      <th>1</th>\n",
       "      <td>14</td>\n",
       "      <td>22930.722656</td>\n",
       "      <td>24357.142857</td>\n",
       "    </tr>\n",
       "    <tr>\n",
       "      <th>2</th>\n",
       "      <td>15</td>\n",
       "      <td>24281.021484</td>\n",
       "      <td>25000.000000</td>\n",
       "    </tr>\n",
       "    <tr>\n",
       "      <th>3</th>\n",
       "      <td>16</td>\n",
       "      <td>25534.195312</td>\n",
       "      <td>25000.000000</td>\n",
       "    </tr>\n",
       "    <tr>\n",
       "      <th>4</th>\n",
       "      <td>17</td>\n",
       "      <td>25078.083984</td>\n",
       "      <td>25000.000000</td>\n",
       "    </tr>\n",
       "    <tr>\n",
       "      <th>...</th>\n",
       "      <td>...</td>\n",
       "      <td>...</td>\n",
       "      <td>...</td>\n",
       "    </tr>\n",
       "    <tr>\n",
       "      <th>172</th>\n",
       "      <td>185</td>\n",
       "      <td>20061.808594</td>\n",
       "      <td>20000.000000</td>\n",
       "    </tr>\n",
       "    <tr>\n",
       "      <th>173</th>\n",
       "      <td>186</td>\n",
       "      <td>20408.265625</td>\n",
       "      <td>20000.000000</td>\n",
       "    </tr>\n",
       "    <tr>\n",
       "      <th>174</th>\n",
       "      <td>187</td>\n",
       "      <td>20693.357422</td>\n",
       "      <td>20857.142857</td>\n",
       "    </tr>\n",
       "    <tr>\n",
       "      <th>175</th>\n",
       "      <td>188</td>\n",
       "      <td>21909.287109</td>\n",
       "      <td>22000.000000</td>\n",
       "    </tr>\n",
       "    <tr>\n",
       "      <th>176</th>\n",
       "      <td>189</td>\n",
       "      <td>22588.898438</td>\n",
       "      <td>22000.000000</td>\n",
       "    </tr>\n",
       "  </tbody>\n",
       "</table>\n",
       "<p>177 rows × 3 columns</p>\n",
       "</div>"
      ],
      "text/plain": [
       "     Week    Prediction       actuals\n",
       "0      13  21631.296875  22000.000000\n",
       "1      14  22930.722656  24357.142857\n",
       "2      15  24281.021484  25000.000000\n",
       "3      16  25534.195312  25000.000000\n",
       "4      17  25078.083984  25000.000000\n",
       "..    ...           ...           ...\n",
       "172   185  20061.808594  20000.000000\n",
       "173   186  20408.265625  20000.000000\n",
       "174   187  20693.357422  20857.142857\n",
       "175   188  21909.287109  22000.000000\n",
       "176   189  22588.898438  22000.000000\n",
       "\n",
       "[177 rows x 3 columns]"
      ]
     },
     "execution_count": 347,
     "metadata": {},
     "output_type": "execute_result"
    }
   ],
   "source": [
    "predict_result = pd.DataFrame(data={'Week':week[window_size:], 'Prediction':predict, 'actuals':y_inverse})\n",
    "predict_result"
   ]
  },
  {
   "cell_type": "code",
   "execution_count": 348,
   "id": "325ffa88-e5e8-4e49-90c9-8d50f5876151",
   "metadata": {},
   "outputs": [
    {
     "data": {
      "image/png": "[encoded data removed]",
      "text/plain": [
       "<Figure size 1200x600 with 1 Axes>"
      ]
     },
     "metadata": {},
     "output_type": "display_data"
    }
   ],
   "source": [
    "week_selected = 0\n",
    "plt.figure(figsize=(12, 6))\n",
    "plt.plot(predict_result['Week'][week_selected:], predict_result['Prediction'][week_selected:], label='Prediction', color='blue')\n",
    "plt.plot(predict_result['Week'][week_selected:], predict_result['actuals'][week_selected:], label='Actuals', color='orange')\n",
    "\n",
    "plt.xlabel('Date')\n",
    "plt.ylabel('Value')\n",
    "plt.title('Predicted vs Actual Values Over Time')\n",
    "plt.legend()\n",
    "plt.xticks(rotation=45)\n",
    "plt.tight_layout()\n",
    "\n",
    "plt.show()"
   ]
  },
  {
   "cell_type": "markdown",
   "id": "62dd2078-1f21-409d-a417-42ea0e84a7ab",
   "metadata": {},
   "source": [
    "### Validation Forecast"
   ]
  },
  {
   "cell_type": "code",
   "execution_count": 349,
   "id": "ee789e6e-d324-4285-b2af-fd24283ff693",
   "metadata": {},
   "outputs": [
    {
     "name": "stdout",
     "output_type": "stream",
     "text": [
      "mae: 1548.91\n",
      "mse: 5813014.56\n",
      "rmse: 2411.02\n"
     ]
    }
   ],
   "source": [
    "from sklearn.metrics import mean_absolute_error, mean_squared_error\n",
    "\n",
    "mae = mean_absolute_error(y_inverse, predict)\n",
    "mse = mean_squared_error(y_inverse, predict)\n",
    "rmse = np.sqrt(mse)\n",
    "\n",
    "print(f'mae: {mae:.2f}')\n",
    "print(f'mse: {mse:.2f}')\n",
    "print(f'rmse: {rmse:.2f}')"
   ]
  },
  {
   "cell_type": "code",
   "execution_count": 350,
   "id": "6a5d4d86-78c7-4e0c-a5c2-771dc4b75af8",
   "metadata": {},
   "outputs": [
    {
     "name": "stdout",
     "output_type": "stream",
     "text": [
      "Akurasi prediksi: 94.77%\n"
     ]
    }
   ],
   "source": [
    "mape = np.mean(np.abs((y_inverse - predict) / y_inverse)) * 100\n",
    "accuracy = 100 - mape\n",
    "print(f\"Akurasi prediksi: {accuracy:.2f}%\")"
   ]
  },
  {
   "cell_type": "markdown",
   "id": "b838bbac-bc55-4ccc-8baa-116794a96a70",
   "metadata": {},
   "source": [
    "### Future Forecast"
   ]
  },
  {
   "cell_type": "code",
   "execution_count": 351,
   "id": "9fad83f2-a004-4150-98e7-aa3d6dc893ac",
   "metadata": {},
   "outputs": [],
   "source": [
    "def inverse_scale(data):\n",
    "    return data*1000"
   ]
  },
  {
   "cell_type": "code",
   "execution_count": null,
   "id": "b5c4fe6a-14e8-496b-8753-0922bef9ecac",
   "metadata": {},
   "outputs": [],
   "source": [
    "def prediction(data):\n",
    "    # scaling actual data\n",
    "    actual_scaled = scaled_price(data)\n",
    "    # select seq from scaled data\n",
    "    seq = actual_scaled[-window_size:]\n",
    "    # predict\n",
    "    hasil = model.predict(seq.reshape(1, window_size, 1))\n",
    "    # reshape hasil\n",
    "    hasil = inverse_scale(hasil)\n",
    "    # append hasil to result\n",
    "    seq_res.append(hasil.item())"
   ]
  },
  {
   "cell_type": "code",
   "execution_count": null,
   "id": "f885d8e0-7630-4d28-a069-d8adb2538f2f",
   "metadata": {},
   "outputs": [],
   "source": [
    "def predict_2_weeks(data, result):\n",
    "    seq_res = result\n",
    "    act_temp = data.reshape(-1, 1)\n",
    "    for i in range(2):\n",
    "        actual_scaled = scaled_price(act_temp)\n",
    "        seq = actual_scaled[-window_size:]\n",
    "        hasil = model.predict(seq.reshape(1, window_size, 1))\n",
    "        hasil = inverse_scale(hasil)\n",
    "        seq_res = np.append(seq_res, hasil.item())\n",
    "        act_temp = np.append(act_temp, np.expand_dims([hasil.item()], axis=1))\n",
    "    return seq_res"
   ]
  },
  {
   "cell_type": "code",
   "execution_count": null,
   "id": "24f0ec6d-f466-439b-a709-8c6259d46778",
   "metadata": {},
   "outputs": [],
   "source": [
    "print(model.input_shape)"
   ]
  },
  {
   "cell_type": "code",
   "execution_count": 352,
   "id": "8f9a73c1-e7f6-41b5-8830-eed8674d8e3b",
   "metadata": {},
   "outputs": [],
   "source": [
    "actual = series[:-30]\n",
    "seq_res = np.array([])\n",
    "\n",
    "# seq_res = predict_n_weeks(4, actual, seq_res)\n",
    "# prediction(actual)\n",
    "# seq_res"
   ]
  },
  {
   "cell_type": "code",
   "execution_count": 353,
   "id": "5123199a-ab53-47bc-82e4-b2f03392f832",
   "metadata": {},
   "outputs": [],
   "source": [
    "act_temp = actual.reshape(-1, 1)"
   ]
  },
  {
   "cell_type": "code",
   "execution_count": 354,
   "id": "405321ee-8d99-4348-bef5-7bb191fe0f5d",
   "metadata": {},
   "outputs": [
    {
     "name": "stdout",
     "output_type": "stream",
     "text": [
      "1/1 [==============================] - 0s 76ms/step\n"
     ]
    }
   ],
   "source": [
    "actual_scaled = scaled_price(act_temp)\n",
    "seq = actual_scaled[-window_size:]\n",
    "hasil = model.predict(seq.reshape(1, window_size, 1))\n",
    "hasil = inverse_scale(hasil)\n",
    "seq_res = np.append(seq_res, hasil.item())\n",
    "act_temp = np.append(act_temp, np.expand_dims([hasil.item()], axis=1))"
   ]
  },
  {
   "cell_type": "code",
   "execution_count": 355,
   "id": "a838b039-56c1-4fd6-96ac-975d53287ccb",
   "metadata": {},
   "outputs": [
    {
     "data": {
      "text/plain": [
       "array([28907.18554688])"
      ]
     },
     "execution_count": 355,
     "metadata": {},
     "output_type": "execute_result"
    }
   ],
   "source": [
    "seq_res"
   ]
  },
  {
   "cell_type": "code",
   "execution_count": 356,
   "id": "76a702c7-abe7-40d4-a0ab-bcdac15c09c8",
   "metadata": {},
   "outputs": [
    {
     "name": "stdout",
     "output_type": "stream",
     "text": [
      "1/1 [==============================] - 0s 17ms/step\n"
     ]
    }
   ],
   "source": [
    "actual_scaled = scaled_price(act_temp)\n",
    "seq = actual_scaled[-window_size:]\n",
    "hasil = model.predict(seq.reshape(1, window_size, 1))\n",
    "hasil = inverse_scale(hasil)\n",
    "seq_res = np.append(seq_res, hasil.item())\n",
    "act_temp = np.append(act_temp, np.expand_dims([hasil.item()], axis=1))"
   ]
  },
  {
   "cell_type": "code",
   "execution_count": 357,
   "id": "749d0eeb-deb0-46a0-aee6-4b54bae5de9c",
   "metadata": {},
   "outputs": [
    {
     "data": {
      "text/plain": [
       "array([28907.18554688, 28949.04882812])"
      ]
     },
     "execution_count": 357,
     "metadata": {},
     "output_type": "execute_result"
    }
   ],
   "source": [
    "seq_res"
   ]
  },
  {
   "cell_type": "code",
   "execution_count": 358,
   "id": "2dfe1d2b-f4ef-47cc-a9ee-6188840bda7a",
   "metadata": {},
   "outputs": [
    {
     "name": "stdout",
     "output_type": "stream",
     "text": [
      "     Minggu    Harga/week\n",
      "159     160  26142.857143\n",
      "160     161  30714.285714\n"
     ]
    }
   ],
   "source": [
    "print(weekly_data[(weekly_data['Minggu'] > 159) & (weekly_data['Minggu'] <= 161)])"
   ]
  },
  {
   "cell_type": "code",
   "execution_count": 359,
   "id": "dcf9db77-c770-442d-8c82-b4fe803802ff",
   "metadata": {},
   "outputs": [],
   "source": [
    "actual = np.append(actual, [26142.85, 30714.28])"
   ]
  },
  {
   "cell_type": "code",
   "execution_count": 360,
   "id": "7ebc3e48-839e-4979-8b5a-f57f878c7239",
   "metadata": {},
   "outputs": [],
   "source": [
    "act_temp = actual.reshape(-1, 1)\n",
    "# seq_res = np.array([])"
   ]
  },
  {
   "cell_type": "code",
   "execution_count": 361,
   "id": "90885ea2-29d3-44a2-9994-9a714aacd5df",
   "metadata": {},
   "outputs": [
    {
     "name": "stdout",
     "output_type": "stream",
     "text": [
      "1/1 [==============================] - 0s 17ms/step\n"
     ]
    }
   ],
   "source": [
    "actual_scaled = scaled_price(act_temp)\n",
    "seq = actual_scaled[-window_size:]\n",
    "hasil = model.predict(seq.reshape(1, window_size, 1))\n",
    "hasil = inverse_scale(hasil)\n",
    "seq_res = np.append(seq_res, hasil.item())\n",
    "act_temp = np.append(act_temp, np.expand_dims([hasil.item()], axis=1))"
   ]
  },
  {
   "cell_type": "code",
   "execution_count": 362,
   "id": "e150546b-67b9-49db-a0df-7c16a0b985c2",
   "metadata": {},
   "outputs": [
    {
     "data": {
      "text/plain": [
       "array([28907.18554688, 28949.04882812, 31540.05859375])"
      ]
     },
     "execution_count": 362,
     "metadata": {},
     "output_type": "execute_result"
    }
   ],
   "source": [
    "seq_res"
   ]
  },
  {
   "cell_type": "code",
   "execution_count": 363,
   "id": "13c097ca-6876-4ee7-aa65-ec607a517f99",
   "metadata": {},
   "outputs": [
    {
     "name": "stdout",
     "output_type": "stream",
     "text": [
      "1/1 [==============================] - 0s 16ms/step\n"
     ]
    }
   ],
   "source": [
    "actual_scaled = scaled_price(act_temp)\n",
    "seq = actual_scaled[-window_size:]\n",
    "hasil = model.predict(seq.reshape(1, window_size, 1))\n",
    "hasil = inverse_scale(hasil)\n",
    "seq_res = np.append(seq_res, hasil.item())\n",
    "act_temp = np.append(act_temp, np.expand_dims([hasil.item()], axis=1))"
   ]
  },
  {
   "cell_type": "code",
   "execution_count": 364,
   "id": "9d751a90-5abd-4418-80f7-e42292c3eae2",
   "metadata": {},
   "outputs": [
    {
     "data": {
      "text/plain": [
       "array([28907.18554688, 28949.04882812, 31540.05859375, 31491.31835938])"
      ]
     },
     "execution_count": 364,
     "metadata": {},
     "output_type": "execute_result"
    }
   ],
   "source": [
    "seq_res"
   ]
  },
  {
   "cell_type": "code",
   "execution_count": 365,
   "id": "0b1f87d3-ab9d-4678-aa95-2f2c475b4c04",
   "metadata": {},
   "outputs": [
    {
     "name": "stdout",
     "output_type": "stream",
     "text": [
      "     Minggu    Harga/week\n",
      "161     162  39285.714286\n",
      "162     163  35714.285714\n"
     ]
    }
   ],
   "source": [
    "print(weekly_data[(weekly_data['Minggu'] > 161) & (weekly_data['Minggu'] <= 163)])"
   ]
  },
  {
   "cell_type": "code",
   "execution_count": 366,
   "id": "3bd02290-484e-4de9-872f-bd528eddb2fb",
   "metadata": {},
   "outputs": [],
   "source": [
    "actual = np.append(actual, [39285.71, 35714.28])"
   ]
  },
  {
   "cell_type": "code",
   "execution_count": 367,
   "id": "af031b70-9b39-4d77-941b-74dbff2328ed",
   "metadata": {},
   "outputs": [],
   "source": [
    "act_temp = actual.reshape(-1, 1)\n",
    "# seq_res = np.array([])"
   ]
  },
  {
   "cell_type": "code",
   "execution_count": 368,
   "id": "786034d4-3c22-4850-ad0b-f6ae667cd32b",
   "metadata": {},
   "outputs": [
    {
     "name": "stdout",
     "output_type": "stream",
     "text": [
      "1/1 [==============================] - 0s 16ms/step\n"
     ]
    }
   ],
   "source": [
    "actual_scaled = scaled_price(act_temp)\n",
    "seq = actual_scaled[-window_size:]\n",
    "hasil = model.predict(seq.reshape(1, window_size, 1))\n",
    "hasil = inverse_scale(hasil)\n",
    "seq_res = np.append(seq_res, hasil.item())\n",
    "act_temp = np.append(act_temp, np.expand_dims([hasil.item()], axis=1))"
   ]
  },
  {
   "cell_type": "code",
   "execution_count": 369,
   "id": "847397f9-f14c-483f-bfc3-dd8e6caaadcb",
   "metadata": {},
   "outputs": [
    {
     "data": {
      "text/plain": [
       "array([28907.18554688, 28949.04882812, 31540.05859375, 31491.31835938,\n",
       "       34230.859375  ])"
      ]
     },
     "execution_count": 369,
     "metadata": {},
     "output_type": "execute_result"
    }
   ],
   "source": [
    "seq_res"
   ]
  },
  {
   "cell_type": "code",
   "execution_count": 370,
   "id": "9fef105a-691b-4dd1-ab13-acc9cf405cfb",
   "metadata": {},
   "outputs": [
    {
     "name": "stdout",
     "output_type": "stream",
     "text": [
      "1/1 [==============================] - 0s 16ms/step\n"
     ]
    }
   ],
   "source": [
    "actual_scaled = scaled_price(act_temp)\n",
    "seq = actual_scaled[-window_size:]\n",
    "hasil = model.predict(seq.reshape(1, window_size, 1))\n",
    "hasil = inverse_scale(hasil)\n",
    "seq_res = np.append(seq_res, hasil.item())\n",
    "act_temp = np.append(act_temp, np.expand_dims([hasil.item()], axis=1))"
   ]
  },
  {
   "cell_type": "code",
   "execution_count": 371,
   "id": "7a9496eb-6f7a-4a20-9f0f-8a19ddb36f1b",
   "metadata": {},
   "outputs": [
    {
     "data": {
      "text/plain": [
       "array([28907.18554688, 28949.04882812, 31540.05859375, 31491.31835938,\n",
       "       34230.859375  , 33296.8046875 ])"
      ]
     },
     "execution_count": 371,
     "metadata": {},
     "output_type": "execute_result"
    }
   ],
   "source": [
    "seq_res"
   ]
  },
  {
   "cell_type": "code",
   "execution_count": 372,
   "id": "26eb8e24-3f2b-4679-ba8c-3d1c0c9bdd9d",
   "metadata": {},
   "outputs": [
    {
     "name": "stdout",
     "output_type": "stream",
     "text": [
      "     Minggu    Harga/week\n",
      "163     164  41785.714286\n",
      "164     165  41428.571429\n"
     ]
    }
   ],
   "source": [
    "print(weekly_data[(weekly_data['Minggu'] > 163) & (weekly_data['Minggu'] <= 165)])"
   ]
  },
  {
   "cell_type": "code",
   "execution_count": 373,
   "id": "af1a27b5-5d51-48f9-872d-d5406ec7c019",
   "metadata": {},
   "outputs": [],
   "source": [
    "actual = np.append(actual, [41785.71, 41428.57])"
   ]
  },
  {
   "cell_type": "code",
   "execution_count": 374,
   "id": "c52d20d4-2df9-48bd-a34e-d46cbd05d887",
   "metadata": {},
   "outputs": [],
   "source": [
    "act_temp = actual.reshape(-1, 1)\n",
    "# seq_res = np.array([])"
   ]
  },
  {
   "cell_type": "code",
   "execution_count": 375,
   "id": "256c8571-6d66-41b8-b3a1-38ba2d21006f",
   "metadata": {},
   "outputs": [
    {
     "name": "stdout",
     "output_type": "stream",
     "text": [
      "1/1 [==============================] - 0s 23ms/step\n"
     ]
    }
   ],
   "source": [
    "actual_scaled = scaled_price(act_temp)\n",
    "seq = actual_scaled[-window_size:]\n",
    "hasil = model.predict(seq.reshape(1, window_size, 1))\n",
    "hasil = inverse_scale(hasil)\n",
    "seq_res = np.append(seq_res, hasil.item())\n",
    "act_temp = np.append(act_temp, np.expand_dims([hasil.item()], axis=1))"
   ]
  },
  {
   "cell_type": "code",
   "execution_count": 376,
   "id": "e5628eef-2198-4f2c-a175-678c09f6d1d3",
   "metadata": {},
   "outputs": [
    {
     "data": {
      "text/plain": [
       "array([28907.18554688, 28949.04882812, 31540.05859375, 31491.31835938,\n",
       "       34230.859375  , 33296.8046875 , 39866.578125  ])"
      ]
     },
     "execution_count": 376,
     "metadata": {},
     "output_type": "execute_result"
    }
   ],
   "source": [
    "seq_res"
   ]
  },
  {
   "cell_type": "code",
   "execution_count": 377,
   "id": "14d9ddf6-bf4c-488e-97d1-1f0a6fc99307",
   "metadata": {},
   "outputs": [
    {
     "name": "stdout",
     "output_type": "stream",
     "text": [
      "1/1 [==============================] - 0s 17ms/step\n"
     ]
    }
   ],
   "source": [
    "actual_scaled = scaled_price(act_temp)\n",
    "seq = actual_scaled[-window_size:]\n",
    "hasil = model.predict(seq.reshape(1, window_size, 1))\n",
    "hasil = inverse_scale(hasil)\n",
    "seq_res = np.append(seq_res, hasil.item())\n",
    "act_temp = np.append(act_temp, np.expand_dims([hasil.item()], axis=1))"
   ]
  },
  {
   "cell_type": "code",
   "execution_count": 378,
   "id": "75d5f492-3fdc-41e6-9f7d-2977d641576c",
   "metadata": {},
   "outputs": [
    {
     "data": {
      "text/plain": [
       "array([28907.18554688, 28949.04882812, 31540.05859375, 31491.31835938,\n",
       "       34230.859375  , 33296.8046875 , 39866.578125  , 37182.96875   ])"
      ]
     },
     "execution_count": 378,
     "metadata": {},
     "output_type": "execute_result"
    }
   ],
   "source": [
    "seq_res"
   ]
  },
  {
   "cell_type": "code",
   "execution_count": 379,
   "id": "93c2fa41-e376-4ca6-aa65-275dfc0feff2",
   "metadata": {},
   "outputs": [
    {
     "name": "stdout",
     "output_type": "stream",
     "text": [
      "     Minggu    Harga/week\n",
      "165     166  38857.142857\n",
      "166     167  40000.000000\n"
     ]
    }
   ],
   "source": [
    "print(weekly_data[(weekly_data['Minggu'] > 165) & (weekly_data['Minggu'] <= 167)])"
   ]
  },
  {
   "cell_type": "code",
   "execution_count": 380,
   "id": "ca597695-6118-498f-a8fb-fe695002aff0",
   "metadata": {},
   "outputs": [],
   "source": [
    "actual = np.append(actual, [38857.14, 40000.00])"
   ]
  },
  {
   "cell_type": "code",
   "execution_count": 381,
   "id": "143ae337-ce65-48a2-b3a7-41aa5d3c2423",
   "metadata": {},
   "outputs": [],
   "source": [
    "act_temp = actual.reshape(-1, 1)\n",
    "# seq_res = np.array([])"
   ]
  },
  {
   "cell_type": "code",
   "execution_count": 382,
   "id": "64b1d72e-6af9-4501-979d-6ff7ecde8fa7",
   "metadata": {},
   "outputs": [
    {
     "name": "stdout",
     "output_type": "stream",
     "text": [
      "1/1 [==============================] - 0s 21ms/step\n"
     ]
    }
   ],
   "source": [
    "actual_scaled = scaled_price(act_temp)\n",
    "seq = actual_scaled[-window_size:]\n",
    "hasil = model.predict(seq.reshape(1, window_size, 1))\n",
    "hasil = inverse_scale(hasil)\n",
    "seq_res = np.append(seq_res, hasil.item())\n",
    "act_temp = np.append(act_temp, np.expand_dims([hasil.item()], axis=1))"
   ]
  },
  {
   "cell_type": "code",
   "execution_count": 383,
   "id": "21f572a5-7d7c-4f94-a543-99412263aba3",
   "metadata": {},
   "outputs": [
    {
     "data": {
      "text/plain": [
       "array([28907.18554688, 28949.04882812, 31540.05859375, 31491.31835938,\n",
       "       34230.859375  , 33296.8046875 , 39866.578125  , 37182.96875   ,\n",
       "       39809.39453125])"
      ]
     },
     "execution_count": 383,
     "metadata": {},
     "output_type": "execute_result"
    }
   ],
   "source": [
    "seq_res"
   ]
  },
  {
   "cell_type": "code",
   "execution_count": 384,
   "id": "39aafbc4-f0a8-4dc7-a96e-00baceb23260",
   "metadata": {},
   "outputs": [
    {
     "name": "stdout",
     "output_type": "stream",
     "text": [
      "1/1 [==============================] - 0s 53ms/step\n"
     ]
    }
   ],
   "source": [
    "actual_scaled = scaled_price(act_temp)\n",
    "seq = actual_scaled[-window_size:]\n",
    "hasil = model.predict(seq.reshape(1, window_size, 1))\n",
    "hasil = inverse_scale(hasil)\n",
    "seq_res = np.append(seq_res, hasil.item())\n",
    "act_temp = np.append(act_temp, np.expand_dims([hasil.item()], axis=1))"
   ]
  },
  {
   "cell_type": "code",
   "execution_count": 385,
   "id": "b1889596-ca9e-4b74-b0f9-46144df30ef1",
   "metadata": {},
   "outputs": [
    {
     "data": {
      "text/plain": [
       "array([28907.18554688, 28949.04882812, 31540.05859375, 31491.31835938,\n",
       "       34230.859375  , 33296.8046875 , 39866.578125  , 37182.96875   ,\n",
       "       39809.39453125, 38608.22265625])"
      ]
     },
     "execution_count": 385,
     "metadata": {},
     "output_type": "execute_result"
    }
   ],
   "source": [
    "seq_res"
   ]
  },
  {
   "cell_type": "code",
   "execution_count": 386,
   "id": "aa50e1db-e364-40bc-adef-8c75f071d5d5",
   "metadata": {},
   "outputs": [
    {
     "name": "stdout",
     "output_type": "stream",
     "text": [
      "     Minggu    Harga/week\n",
      "167     168  42857.142857\n",
      "168     169  36857.142857\n"
     ]
    }
   ],
   "source": [
    "print(weekly_data[(weekly_data['Minggu'] > 167) & (weekly_data['Minggu'] <= 169)])"
   ]
  },
  {
   "cell_type": "code",
   "execution_count": 387,
   "id": "4e31ffec-c657-4f63-99fb-413503aa01d6",
   "metadata": {},
   "outputs": [],
   "source": [
    "actual = np.append(actual, [42857.14, 36857.14])"
   ]
  },
  {
   "cell_type": "code",
   "execution_count": 388,
   "id": "24f6bfb7-4a33-4481-9fb2-ed586980a6d8",
   "metadata": {},
   "outputs": [],
   "source": [
    "act_temp = actual.reshape(-1, 1)\n",
    "# seq_res = np.array([])"
   ]
  },
  {
   "cell_type": "code",
   "execution_count": 389,
   "id": "6c894220-c3b8-448b-af57-1db1ca034880",
   "metadata": {},
   "outputs": [
    {
     "name": "stdout",
     "output_type": "stream",
     "text": [
      "1/1 [==============================] - 0s 17ms/step\n"
     ]
    }
   ],
   "source": [
    "actual_scaled = scaled_price(act_temp)\n",
    "seq = actual_scaled[-window_size:]\n",
    "hasil = model.predict(seq.reshape(1, window_size, 1))\n",
    "hasil = inverse_scale(hasil)\n",
    "seq_res = np.append(seq_res, hasil.item())\n",
    "act_temp = np.append(act_temp, np.expand_dims([hasil.item()], axis=1))"
   ]
  },
  {
   "cell_type": "code",
   "execution_count": 390,
   "id": "624d454c-2efa-463b-adf1-995c9989023f",
   "metadata": {},
   "outputs": [
    {
     "data": {
      "text/plain": [
       "array([28907.18554688, 28949.04882812, 31540.05859375, 31491.31835938,\n",
       "       34230.859375  , 33296.8046875 , 39866.578125  , 37182.96875   ,\n",
       "       39809.39453125, 38608.22265625, 32819.09375   ])"
      ]
     },
     "execution_count": 390,
     "metadata": {},
     "output_type": "execute_result"
    }
   ],
   "source": [
    "seq_res"
   ]
  },
  {
   "cell_type": "code",
   "execution_count": 391,
   "id": "c76af1e8-064f-4216-8c93-41c66fe5b8c2",
   "metadata": {},
   "outputs": [
    {
     "name": "stdout",
     "output_type": "stream",
     "text": [
      "1/1 [==============================] - 0s 19ms/step\n"
     ]
    }
   ],
   "source": [
    "actual_scaled = scaled_price(act_temp)\n",
    "seq = actual_scaled[-window_size:]\n",
    "hasil = model.predict(seq.reshape(1, window_size, 1))\n",
    "hasil = inverse_scale(hasil)\n",
    "seq_res = np.append(seq_res, hasil.item())\n",
    "act_temp = np.append(act_temp, np.expand_dims([hasil.item()], axis=1))"
   ]
  },
  {
   "cell_type": "code",
   "execution_count": 392,
   "id": "938de9f4-e88d-414d-a8fa-d40492ee1859",
   "metadata": {},
   "outputs": [
    {
     "data": {
      "text/plain": [
       "array([28907.18554688, 28949.04882812, 31540.05859375, 31491.31835938,\n",
       "       34230.859375  , 33296.8046875 , 39866.578125  , 37182.96875   ,\n",
       "       39809.39453125, 38608.22265625, 32819.09375   , 31902.87304688])"
      ]
     },
     "execution_count": 392,
     "metadata": {},
     "output_type": "execute_result"
    }
   ],
   "source": [
    "seq_res"
   ]
  },
  {
   "cell_type": "code",
   "execution_count": 393,
   "id": "8dae9ff7-fedd-4fd5-a437-ec5b3b0fc088",
   "metadata": {},
   "outputs": [
    {
     "name": "stdout",
     "output_type": "stream",
     "text": [
      "     Minggu    Harga/week\n",
      "169     170  30714.285714\n",
      "170     171  30000.000000\n"
     ]
    }
   ],
   "source": [
    "print(weekly_data[(weekly_data['Minggu'] > 169) & (weekly_data['Minggu'] <= 171)])"
   ]
  },
  {
   "cell_type": "code",
   "execution_count": 394,
   "id": "84f7d107-2725-45d0-927c-50f4b4083772",
   "metadata": {},
   "outputs": [],
   "source": [
    "actual = np.append(actual, [30714.28, 30000.00])"
   ]
  },
  {
   "cell_type": "code",
   "execution_count": 395,
   "id": "23d21c34-0347-4b94-8182-f520b4834a59",
   "metadata": {},
   "outputs": [],
   "source": [
    "act_temp = actual.reshape(-1, 1)\n",
    "# seq_res = np.array([])"
   ]
  },
  {
   "cell_type": "code",
   "execution_count": 396,
   "id": "0c68d2ac-68b3-4858-80eb-3e8c4c9f7ad8",
   "metadata": {},
   "outputs": [
    {
     "name": "stdout",
     "output_type": "stream",
     "text": [
      "1/1 [==============================] - 0s 18ms/step\n"
     ]
    }
   ],
   "source": [
    "actual_scaled = scaled_price(act_temp)\n",
    "seq = actual_scaled[-window_size:]\n",
    "hasil = model.predict(seq.reshape(1, window_size, 1))\n",
    "hasil = inverse_scale(hasil)\n",
    "seq_res = np.append(seq_res, hasil.item())\n",
    "act_temp = np.append(act_temp, np.expand_dims([hasil.item()], axis=1))"
   ]
  },
  {
   "cell_type": "code",
   "execution_count": 397,
   "id": "8c732da6-eca4-4664-9f66-1bbcecab31f3",
   "metadata": {},
   "outputs": [
    {
     "data": {
      "text/plain": [
       "array([28907.18554688, 28949.04882812, 31540.05859375, 31491.31835938,\n",
       "       34230.859375  , 33296.8046875 , 39866.578125  , 37182.96875   ,\n",
       "       39809.39453125, 38608.22265625, 32819.09375   , 31902.87304688,\n",
       "       29372.68554688])"
      ]
     },
     "execution_count": 397,
     "metadata": {},
     "output_type": "execute_result"
    }
   ],
   "source": [
    "seq_res"
   ]
  },
  {
   "cell_type": "code",
   "execution_count": 398,
   "id": "b60c455e-0633-4f9c-bd21-15e150b2033d",
   "metadata": {},
   "outputs": [
    {
     "name": "stdout",
     "output_type": "stream",
     "text": [
      "1/1 [==============================] - 0s 18ms/step\n"
     ]
    }
   ],
   "source": [
    "actual_scaled = scaled_price(act_temp)\n",
    "seq = actual_scaled[-window_size:]\n",
    "hasil = model.predict(seq.reshape(1, window_size, 1))\n",
    "hasil = inverse_scale(hasil)\n",
    "seq_res = np.append(seq_res, hasil.item())\n",
    "act_temp = np.append(act_temp, np.expand_dims([hasil.item()], axis=1))"
   ]
  },
  {
   "cell_type": "code",
   "execution_count": 399,
   "id": "8da9c4cc-f3c7-41a2-9511-b4bdbccf67bd",
   "metadata": {},
   "outputs": [
    {
     "data": {
      "text/plain": [
       "array([28907.18554688, 28949.04882812, 31540.05859375, 31491.31835938,\n",
       "       34230.859375  , 33296.8046875 , 39866.578125  , 37182.96875   ,\n",
       "       39809.39453125, 38608.22265625, 32819.09375   , 31902.87304688,\n",
       "       29372.68554688, 27563.94140625])"
      ]
     },
     "execution_count": 399,
     "metadata": {},
     "output_type": "execute_result"
    }
   ],
   "source": [
    "seq_res"
   ]
  },
  {
   "cell_type": "code",
   "execution_count": 400,
   "id": "75857a85-2fc7-467a-8ba7-ed6725410313",
   "metadata": {},
   "outputs": [
    {
     "name": "stdout",
     "output_type": "stream",
     "text": [
      "     Minggu    Harga/week\n",
      "171     172  29428.571429\n",
      "172     173  25000.000000\n"
     ]
    }
   ],
   "source": [
    "print(weekly_data[(weekly_data['Minggu'] > 171) & (weekly_data['Minggu'] <= 173)])"
   ]
  },
  {
   "cell_type": "code",
   "execution_count": 401,
   "id": "beb58de1-f469-4ded-9f50-100a00f3d705",
   "metadata": {},
   "outputs": [],
   "source": [
    "actual = np.append(actual, [29428.57, 25000.00])"
   ]
  },
  {
   "cell_type": "code",
   "execution_count": 402,
   "id": "38f7ab21-83e4-4725-ae03-986916aec33b",
   "metadata": {},
   "outputs": [],
   "source": [
    "act_temp = actual.reshape(-1, 1)\n",
    "# seq_res = np.array([])"
   ]
  },
  {
   "cell_type": "code",
   "execution_count": 403,
   "id": "59d3db26-7d23-46c3-8ae2-64eddbd975ea",
   "metadata": {},
   "outputs": [
    {
     "name": "stdout",
     "output_type": "stream",
     "text": [
      "1/1 [==============================] - 0s 17ms/step\n"
     ]
    }
   ],
   "source": [
    "actual_scaled = scaled_price(act_temp)\n",
    "seq = actual_scaled[-window_size:]\n",
    "hasil = model.predict(seq.reshape(1, window_size, 1))\n",
    "hasil = inverse_scale(hasil)\n",
    "seq_res = np.append(seq_res, hasil.item())\n",
    "act_temp = np.append(act_temp, np.expand_dims([hasil.item()], axis=1))"
   ]
  },
  {
   "cell_type": "code",
   "execution_count": 404,
   "id": "4b3ffcf8-44ce-4875-b875-c23380c070b7",
   "metadata": {},
   "outputs": [
    {
     "data": {
      "text/plain": [
       "array([28907.18554688, 28949.04882812, 31540.05859375, 31491.31835938,\n",
       "       34230.859375  , 33296.8046875 , 39866.578125  , 37182.96875   ,\n",
       "       39809.39453125, 38608.22265625, 32819.09375   , 31902.87304688,\n",
       "       29372.68554688, 27563.94140625, 25861.77539062])"
      ]
     },
     "execution_count": 404,
     "metadata": {},
     "output_type": "execute_result"
    }
   ],
   "source": [
    "seq_res"
   ]
  },
  {
   "cell_type": "code",
   "execution_count": 405,
   "id": "5b9f529d-992c-47e6-88d6-bfb2c4e719dc",
   "metadata": {},
   "outputs": [
    {
     "name": "stdout",
     "output_type": "stream",
     "text": [
      "1/1 [==============================] - 0s 22ms/step\n"
     ]
    }
   ],
   "source": [
    "actual_scaled = scaled_price(act_temp)\n",
    "seq = actual_scaled[-window_size:]\n",
    "hasil = model.predict(seq.reshape(1, window_size, 1))\n",
    "hasil = inverse_scale(hasil)\n",
    "seq_res = np.append(seq_res, hasil.item())\n",
    "act_temp = np.append(act_temp, np.expand_dims([hasil.item()], axis=1))"
   ]
  },
  {
   "cell_type": "code",
   "execution_count": 406,
   "id": "19e9cbc1-2c4f-47f6-917b-81ff7c517a25",
   "metadata": {},
   "outputs": [
    {
     "data": {
      "text/plain": [
       "array([28907.18554688, 28949.04882812, 31540.05859375, 31491.31835938,\n",
       "       34230.859375  , 33296.8046875 , 39866.578125  , 37182.96875   ,\n",
       "       39809.39453125, 38608.22265625, 32819.09375   , 31902.87304688,\n",
       "       29372.68554688, 27563.94140625, 25861.77539062, 26431.5546875 ])"
      ]
     },
     "execution_count": 406,
     "metadata": {},
     "output_type": "execute_result"
    }
   ],
   "source": [
    "seq_res"
   ]
  },
  {
   "cell_type": "code",
   "execution_count": 407,
   "id": "354ebeca-23af-47db-84e5-6d9ad8f14df5",
   "metadata": {},
   "outputs": [
    {
     "name": "stdout",
     "output_type": "stream",
     "text": [
      "     Minggu  Harga/week\n",
      "173     174     25000.0\n",
      "174     175     25000.0\n"
     ]
    }
   ],
   "source": [
    "print(weekly_data[(weekly_data['Minggu'] > 173) & (weekly_data['Minggu'] <= 175)])"
   ]
  },
  {
   "cell_type": "code",
   "execution_count": 408,
   "id": "3487f846-d320-46da-a019-3b410a16d0a7",
   "metadata": {},
   "outputs": [],
   "source": [
    "actual = np.append(actual, [25000.00, 25000.00])"
   ]
  },
  {
   "cell_type": "code",
   "execution_count": 409,
   "id": "49b5c2e0-31e0-440a-9468-89fabc72bd49",
   "metadata": {},
   "outputs": [],
   "source": [
    "act_temp = actual.reshape(-1, 1)\n",
    "# seq_res = np.array([])"
   ]
  },
  {
   "cell_type": "code",
   "execution_count": 410,
   "id": "e1947240-05e7-46fe-b65e-c050551fbc30",
   "metadata": {},
   "outputs": [
    {
     "name": "stdout",
     "output_type": "stream",
     "text": [
      "1/1 [==============================] - 0s 19ms/step\n"
     ]
    }
   ],
   "source": [
    "actual_scaled = scaled_price(act_temp)\n",
    "seq = actual_scaled[-window_size:]\n",
    "hasil = model.predict(seq.reshape(1, window_size, 1))\n",
    "hasil = inverse_scale(hasil)\n",
    "seq_res = np.append(seq_res, hasil.item())\n",
    "act_temp = np.append(act_temp, np.expand_dims([hasil.item()], axis=1))"
   ]
  },
  {
   "cell_type": "code",
   "execution_count": 411,
   "id": "a1303ebe-f840-4efb-9e1d-8c3ec3a8dedd",
   "metadata": {},
   "outputs": [
    {
     "data": {
      "text/plain": [
       "array([28907.18554688, 28949.04882812, 31540.05859375, 31491.31835938,\n",
       "       34230.859375  , 33296.8046875 , 39866.578125  , 37182.96875   ,\n",
       "       39809.39453125, 38608.22265625, 32819.09375   , 31902.87304688,\n",
       "       29372.68554688, 27563.94140625, 25861.77539062, 26431.5546875 ,\n",
       "       23637.1484375 ])"
      ]
     },
     "execution_count": 411,
     "metadata": {},
     "output_type": "execute_result"
    }
   ],
   "source": [
    "seq_res"
   ]
  },
  {
   "cell_type": "code",
   "execution_count": 412,
   "id": "2ae7d860-80c4-45df-b452-1891e16473b1",
   "metadata": {},
   "outputs": [
    {
     "name": "stdout",
     "output_type": "stream",
     "text": [
      "1/1 [==============================] - 0s 17ms/step\n"
     ]
    }
   ],
   "source": [
    "actual_scaled = scaled_price(act_temp)\n",
    "seq = actual_scaled[-window_size:]\n",
    "hasil = model.predict(seq.reshape(1, window_size, 1))\n",
    "hasil = inverse_scale(hasil)\n",
    "seq_res = np.append(seq_res, hasil.item())\n",
    "act_temp = np.append(act_temp, np.expand_dims([hasil.item()], axis=1))"
   ]
  },
  {
   "cell_type": "code",
   "execution_count": 413,
   "id": "dbd951dc-10bd-4d14-a635-c54b811d1ee0",
   "metadata": {},
   "outputs": [
    {
     "data": {
      "text/plain": [
       "array([28907.18554688, 28949.04882812, 31540.05859375, 31491.31835938,\n",
       "       34230.859375  , 33296.8046875 , 39866.578125  , 37182.96875   ,\n",
       "       39809.39453125, 38608.22265625, 32819.09375   , 31902.87304688,\n",
       "       29372.68554688, 27563.94140625, 25861.77539062, 26431.5546875 ,\n",
       "       23637.1484375 , 23510.765625  ])"
      ]
     },
     "execution_count": 413,
     "metadata": {},
     "output_type": "execute_result"
    }
   ],
   "source": [
    "seq_res"
   ]
  },
  {
   "cell_type": "code",
   "execution_count": 414,
   "id": "a325f410-b7c3-45d8-b3e9-e59927c6fb60",
   "metadata": {},
   "outputs": [
    {
     "name": "stdout",
     "output_type": "stream",
     "text": [
      "     Minggu    Harga/week\n",
      "175     176  21428.571429\n",
      "176     177  19142.857143\n"
     ]
    }
   ],
   "source": [
    "print(weekly_data[(weekly_data['Minggu'] > 175) & (weekly_data['Minggu'] <= 177)])"
   ]
  },
  {
   "cell_type": "code",
   "execution_count": 415,
   "id": "45db148c-fa80-4704-8d39-5fe2dc2d2aa8",
   "metadata": {},
   "outputs": [],
   "source": [
    "actual = np.append(actual, [21428.57, 19142.85])"
   ]
  },
  {
   "cell_type": "code",
   "execution_count": 416,
   "id": "0b56d6be-ad64-4259-8a2a-d9bb51f80773",
   "metadata": {},
   "outputs": [],
   "source": [
    "act_temp = actual.reshape(-1, 1)\n",
    "# seq_res = np.array([])"
   ]
  },
  {
   "cell_type": "code",
   "execution_count": 417,
   "id": "42b1bb34-e45f-4373-baa4-587977b09b95",
   "metadata": {},
   "outputs": [
    {
     "name": "stdout",
     "output_type": "stream",
     "text": [
      "1/1 [==============================] - 0s 17ms/step\n"
     ]
    }
   ],
   "source": [
    "actual_scaled = scaled_price(act_temp)\n",
    "seq = actual_scaled[-window_size:]\n",
    "hasil = model.predict(seq.reshape(1, window_size, 1))\n",
    "hasil = inverse_scale(hasil)\n",
    "seq_res = np.append(seq_res, hasil.item())\n",
    "act_temp = np.append(act_temp, np.expand_dims([hasil.item()], axis=1))"
   ]
  },
  {
   "cell_type": "code",
   "execution_count": 418,
   "id": "d6da4336-db5d-4f62-9933-be8da721c50b",
   "metadata": {},
   "outputs": [
    {
     "data": {
      "text/plain": [
       "array([28907.18554688, 28949.04882812, 31540.05859375, 31491.31835938,\n",
       "       34230.859375  , 33296.8046875 , 39866.578125  , 37182.96875   ,\n",
       "       39809.39453125, 38608.22265625, 32819.09375   , 31902.87304688,\n",
       "       29372.68554688, 27563.94140625, 25861.77539062, 26431.5546875 ,\n",
       "       23637.1484375 , 23510.765625  , 20535.9765625 ])"
      ]
     },
     "execution_count": 418,
     "metadata": {},
     "output_type": "execute_result"
    }
   ],
   "source": [
    "seq_res"
   ]
  },
  {
   "cell_type": "code",
   "execution_count": 419,
   "id": "de0a5c5a-bd95-4179-912c-edf646079ded",
   "metadata": {},
   "outputs": [
    {
     "name": "stdout",
     "output_type": "stream",
     "text": [
      "1/1 [==============================] - 0s 16ms/step\n"
     ]
    }
   ],
   "source": [
    "actual_scaled = scaled_price(act_temp)\n",
    "seq = actual_scaled[-window_size:]\n",
    "hasil = model.predict(seq.reshape(1, window_size, 1))\n",
    "hasil = inverse_scale(hasil)\n",
    "seq_res = np.append(seq_res, hasil.item())\n",
    "act_temp = np.append(act_temp, np.expand_dims([hasil.item()], axis=1))"
   ]
  },
  {
   "cell_type": "code",
   "execution_count": 420,
   "id": "5aa2d730-ee6e-48e1-a076-58422a5f92cf",
   "metadata": {},
   "outputs": [
    {
     "data": {
      "text/plain": [
       "array([28907.18554688, 28949.04882812, 31540.05859375, 31491.31835938,\n",
       "       34230.859375  , 33296.8046875 , 39866.578125  , 37182.96875   ,\n",
       "       39809.39453125, 38608.22265625, 32819.09375   , 31902.87304688,\n",
       "       29372.68554688, 27563.94140625, 25861.77539062, 26431.5546875 ,\n",
       "       23637.1484375 , 23510.765625  , 20535.9765625 , 20686.99804688])"
      ]
     },
     "execution_count": 420,
     "metadata": {},
     "output_type": "execute_result"
    }
   ],
   "source": [
    "seq_res"
   ]
  },
  {
   "cell_type": "code",
   "execution_count": 421,
   "id": "51141f29-d7cb-4ab9-9d92-ec0eddffa7cf",
   "metadata": {},
   "outputs": [
    {
     "name": "stdout",
     "output_type": "stream",
     "text": [
      "     Minggu    Harga/week\n",
      "177     178  18000.000000\n",
      "178     179  17428.571429\n"
     ]
    }
   ],
   "source": [
    "print(weekly_data[(weekly_data['Minggu'] > 177) & (weekly_data['Minggu'] <= 179)])"
   ]
  },
  {
   "cell_type": "code",
   "execution_count": 422,
   "id": "e3b24b46-e747-4132-99b2-c38281e2f383",
   "metadata": {},
   "outputs": [],
   "source": [
    "actual = np.append(actual, [18000.00, 17428.57])"
   ]
  },
  {
   "cell_type": "code",
   "execution_count": 423,
   "id": "44fde3ad-b345-43fe-8225-4706a6b0b7c6",
   "metadata": {},
   "outputs": [],
   "source": [
    "act_temp = actual.reshape(-1, 1)\n",
    "# seq_res = np.array([])"
   ]
  },
  {
   "cell_type": "code",
   "execution_count": 424,
   "id": "8c8b07eb-6944-43ba-b385-e599df873375",
   "metadata": {},
   "outputs": [
    {
     "name": "stdout",
     "output_type": "stream",
     "text": [
      "1/1 [==============================] - 0s 20ms/step\n"
     ]
    }
   ],
   "source": [
    "actual_scaled = scaled_price(act_temp)\n",
    "seq = actual_scaled[-window_size:]\n",
    "hasil = model.predict(seq.reshape(1, window_size, 1))\n",
    "hasil = inverse_scale(hasil)\n",
    "seq_res = np.append(seq_res, hasil.item())\n",
    "act_temp = np.append(act_temp, np.expand_dims([hasil.item()], axis=1))"
   ]
  },
  {
   "cell_type": "code",
   "execution_count": 425,
   "id": "236fd706-ec5e-47e3-83cf-a81036aecabe",
   "metadata": {},
   "outputs": [
    {
     "data": {
      "text/plain": [
       "array([28907.18554688, 28949.04882812, 31540.05859375, 31491.31835938,\n",
       "       34230.859375  , 33296.8046875 , 39866.578125  , 37182.96875   ,\n",
       "       39809.39453125, 38608.22265625, 32819.09375   , 31902.87304688,\n",
       "       29372.68554688, 27563.94140625, 25861.77539062, 26431.5546875 ,\n",
       "       23637.1484375 , 23510.765625  , 20535.9765625 , 20686.99804688,\n",
       "       17152.83007812])"
      ]
     },
     "execution_count": 425,
     "metadata": {},
     "output_type": "execute_result"
    }
   ],
   "source": [
    "seq_res"
   ]
  },
  {
   "cell_type": "code",
   "execution_count": 426,
   "id": "bebc2512-e5ff-4d84-8a15-782ab65be19d",
   "metadata": {},
   "outputs": [
    {
     "name": "stdout",
     "output_type": "stream",
     "text": [
      "1/1 [==============================] - 0s 17ms/step\n"
     ]
    }
   ],
   "source": [
    "actual_scaled = scaled_price(act_temp)\n",
    "seq = actual_scaled[-window_size:]\n",
    "hasil = model.predict(seq.reshape(1, window_size, 1))\n",
    "hasil = inverse_scale(hasil)\n",
    "seq_res = np.append(seq_res, hasil.item())\n",
    "act_temp = np.append(act_temp, np.expand_dims([hasil.item()], axis=1))"
   ]
  },
  {
   "cell_type": "code",
   "execution_count": 427,
   "id": "7e532193-e4bb-4e7f-9388-c1d15e12c902",
   "metadata": {},
   "outputs": [
    {
     "data": {
      "text/plain": [
       "array([28907.18554688, 28949.04882812, 31540.05859375, 31491.31835938,\n",
       "       34230.859375  , 33296.8046875 , 39866.578125  , 37182.96875   ,\n",
       "       39809.39453125, 38608.22265625, 32819.09375   , 31902.87304688,\n",
       "       29372.68554688, 27563.94140625, 25861.77539062, 26431.5546875 ,\n",
       "       23637.1484375 , 23510.765625  , 20535.9765625 , 20686.99804688,\n",
       "       17152.83007812, 18760.50390625])"
      ]
     },
     "execution_count": 427,
     "metadata": {},
     "output_type": "execute_result"
    }
   ],
   "source": [
    "seq_res"
   ]
  },
  {
   "cell_type": "code",
   "execution_count": 428,
   "id": "7391b8ad-adfa-4694-856e-826e0c933952",
   "metadata": {},
   "outputs": [
    {
     "name": "stdout",
     "output_type": "stream",
     "text": [
      "     Minggu    Harga/week\n",
      "179     180  18714.285714\n",
      "180     181  20000.000000\n"
     ]
    }
   ],
   "source": [
    "print(weekly_data[(weekly_data['Minggu'] > 179) & (weekly_data['Minggu'] <= 181)])"
   ]
  },
  {
   "cell_type": "code",
   "execution_count": 429,
   "id": "a63acd13-bbf3-4faa-8ed9-c0914d9e6317",
   "metadata": {},
   "outputs": [],
   "source": [
    "actual = np.append(actual, [18714.28, 20000.00])"
   ]
  },
  {
   "cell_type": "code",
   "execution_count": 430,
   "id": "2b4e09ed-5469-42f6-b4f6-f2aa80a53d04",
   "metadata": {},
   "outputs": [],
   "source": [
    "act_temp = actual.reshape(-1, 1)\n",
    "# seq_res = np.array([])"
   ]
  },
  {
   "cell_type": "code",
   "execution_count": 431,
   "id": "55548f20-39d9-4dda-8f99-3c6a60562a31",
   "metadata": {},
   "outputs": [
    {
     "name": "stdout",
     "output_type": "stream",
     "text": [
      "1/1 [==============================] - 0s 19ms/step\n"
     ]
    }
   ],
   "source": [
    "actual_scaled = scaled_price(act_temp)\n",
    "seq = actual_scaled[-window_size:]\n",
    "hasil = model.predict(seq.reshape(1, window_size, 1))\n",
    "hasil = inverse_scale(hasil)\n",
    "seq_res = np.append(seq_res, hasil.item())\n",
    "act_temp = np.append(act_temp, np.expand_dims([hasil.item()], axis=1))"
   ]
  },
  {
   "cell_type": "code",
   "execution_count": 432,
   "id": "a9aae0db-6839-4ce3-978a-df07cf3ad5d2",
   "metadata": {},
   "outputs": [
    {
     "data": {
      "text/plain": [
       "array([28907.18554688, 28949.04882812, 31540.05859375, 31491.31835938,\n",
       "       34230.859375  , 33296.8046875 , 39866.578125  , 37182.96875   ,\n",
       "       39809.39453125, 38608.22265625, 32819.09375   , 31902.87304688,\n",
       "       29372.68554688, 27563.94140625, 25861.77539062, 26431.5546875 ,\n",
       "       23637.1484375 , 23510.765625  , 20535.9765625 , 20686.99804688,\n",
       "       17152.83007812, 18760.50390625, 21348.99023438])"
      ]
     },
     "execution_count": 432,
     "metadata": {},
     "output_type": "execute_result"
    }
   ],
   "source": [
    "seq_res"
   ]
  },
  {
   "cell_type": "code",
   "execution_count": 433,
   "id": "44eb5d85-b076-4783-b07c-ae5aff7ae43a",
   "metadata": {},
   "outputs": [
    {
     "name": "stdout",
     "output_type": "stream",
     "text": [
      "1/1 [==============================] - 0s 62ms/step\n"
     ]
    }
   ],
   "source": [
    "actual_scaled = scaled_price(act_temp)\n",
    "seq = actual_scaled[-window_size:]\n",
    "hasil = model.predict(seq.reshape(1, window_size, 1))\n",
    "hasil = inverse_scale(hasil)\n",
    "seq_res = np.append(seq_res, hasil.item())\n",
    "act_temp = np.append(act_temp, np.expand_dims([hasil.item()], axis=1))"
   ]
  },
  {
   "cell_type": "code",
   "execution_count": 434,
   "id": "bc004e76-fe1c-4123-a08a-93143c6f9b74",
   "metadata": {},
   "outputs": [
    {
     "data": {
      "text/plain": [
       "array([28907.18554688, 28949.04882812, 31540.05859375, 31491.31835938,\n",
       "       34230.859375  , 33296.8046875 , 39866.578125  , 37182.96875   ,\n",
       "       39809.39453125, 38608.22265625, 32819.09375   , 31902.87304688,\n",
       "       29372.68554688, 27563.94140625, 25861.77539062, 26431.5546875 ,\n",
       "       23637.1484375 , 23510.765625  , 20535.9765625 , 20686.99804688,\n",
       "       17152.83007812, 18760.50390625, 21348.99023438, 21415.30078125])"
      ]
     },
     "execution_count": 434,
     "metadata": {},
     "output_type": "execute_result"
    }
   ],
   "source": [
    "seq_res"
   ]
  },
  {
   "cell_type": "code",
   "execution_count": 435,
   "id": "5152137d-3fb7-41b7-8186-340beab8b960",
   "metadata": {},
   "outputs": [
    {
     "name": "stdout",
     "output_type": "stream",
     "text": [
      "     Minggu    Harga/week\n",
      "181     182  21428.571429\n",
      "182     183  19142.857143\n"
     ]
    }
   ],
   "source": [
    "print(weekly_data[(weekly_data['Minggu'] > 181) & (weekly_data['Minggu'] <= 183)])"
   ]
  },
  {
   "cell_type": "code",
   "execution_count": 436,
   "id": "461026f1-3f2d-4d69-8a35-a130a369c08d",
   "metadata": {},
   "outputs": [],
   "source": [
    "actual = np.append(actual, [21428.57, 19142.85])"
   ]
  },
  {
   "cell_type": "code",
   "execution_count": 437,
   "id": "5c4c487c-5f6a-48f5-8ad0-3299dc595365",
   "metadata": {},
   "outputs": [],
   "source": [
    "act_temp = actual.reshape(-1, 1)\n",
    "# seq_res = np.array([])"
   ]
  },
  {
   "cell_type": "code",
   "execution_count": 438,
   "id": "38327050-247a-465a-adeb-90ce865a2569",
   "metadata": {},
   "outputs": [
    {
     "name": "stdout",
     "output_type": "stream",
     "text": [
      "1/1 [==============================] - 0s 16ms/step\n"
     ]
    }
   ],
   "source": [
    "actual_scaled = scaled_price(act_temp)\n",
    "seq = actual_scaled[-window_size:]\n",
    "hasil = model.predict(seq.reshape(1, window_size, 1))\n",
    "hasil = inverse_scale(hasil)\n",
    "seq_res = np.append(seq_res, hasil.item())\n",
    "act_temp = np.append(act_temp, np.expand_dims([hasil.item()], axis=1))"
   ]
  },
  {
   "cell_type": "code",
   "execution_count": 439,
   "id": "1fc1037f-9e91-42a4-bd54-7f813a857d8f",
   "metadata": {},
   "outputs": [
    {
     "name": "stdout",
     "output_type": "stream",
     "text": [
      "1/1 [==============================] - 0s 16ms/step\n"
     ]
    }
   ],
   "source": [
    "actual_scaled = scaled_price(act_temp)\n",
    "seq = actual_scaled[-window_size:]\n",
    "hasil = model.predict(seq.reshape(1, window_size, 1))\n",
    "hasil = inverse_scale(hasil)\n",
    "seq_res = np.append(seq_res, hasil.item())\n",
    "act_temp = np.append(act_temp, np.expand_dims([hasil.item()], axis=1))"
   ]
  },
  {
   "cell_type": "code",
   "execution_count": 440,
   "id": "6807ed05-a58e-4600-91a1-102540a359ab",
   "metadata": {},
   "outputs": [
    {
     "data": {
      "text/plain": [
       "array([28907.18554688, 28949.04882812, 31540.05859375, 31491.31835938,\n",
       "       34230.859375  , 33296.8046875 , 39866.578125  , 37182.96875   ,\n",
       "       39809.39453125, 38608.22265625, 32819.09375   , 31902.87304688,\n",
       "       29372.68554688, 27563.94140625, 25861.77539062, 26431.5546875 ,\n",
       "       23637.1484375 , 23510.765625  , 20535.9765625 , 20686.99804688,\n",
       "       17152.83007812, 18760.50390625, 21348.99023438, 21415.30078125,\n",
       "       19346.83007812, 20049.48828125])"
      ]
     },
     "execution_count": 440,
     "metadata": {},
     "output_type": "execute_result"
    }
   ],
   "source": [
    "seq_res"
   ]
  },
  {
   "cell_type": "code",
   "execution_count": 441,
   "id": "d0ab0717-47a4-46d6-aa61-d731b209989e",
   "metadata": {},
   "outputs": [
    {
     "name": "stdout",
     "output_type": "stream",
     "text": [
      "     Minggu    Harga/week\n",
      "183     184  19357.142857\n",
      "184     185  20000.000000\n"
     ]
    }
   ],
   "source": [
    "print(weekly_data[(weekly_data['Minggu'] > 183) & (weekly_data['Minggu'] <= 185)])"
   ]
  },
  {
   "cell_type": "code",
   "execution_count": 442,
   "id": "4554a72b-cd61-4f51-bd28-9e108897a3ef",
   "metadata": {},
   "outputs": [],
   "source": [
    "actual = np.append(actual, [19357.14, 20000.00])"
   ]
  },
  {
   "cell_type": "code",
   "execution_count": 443,
   "id": "6b8f58f7-bdea-4c50-8e02-ada66fb110cd",
   "metadata": {},
   "outputs": [],
   "source": [
    "act_temp = actual.reshape(-1, 1)\n",
    "# seq_res = np.array([])"
   ]
  },
  {
   "cell_type": "code",
   "execution_count": 444,
   "id": "debc9648-9501-4114-8d61-346080a88eab",
   "metadata": {},
   "outputs": [
    {
     "name": "stdout",
     "output_type": "stream",
     "text": [
      "1/1 [==============================] - 0s 17ms/step\n"
     ]
    }
   ],
   "source": [
    "actual_scaled = scaled_price(act_temp)\n",
    "seq = actual_scaled[-window_size:]\n",
    "hasil = model.predict(seq.reshape(1, window_size, 1))\n",
    "hasil = inverse_scale(hasil)\n",
    "seq_res = np.append(seq_res, hasil.item())\n",
    "act_temp = np.append(act_temp, np.expand_dims([hasil.item()], axis=1))"
   ]
  },
  {
   "cell_type": "code",
   "execution_count": 445,
   "id": "9b635e6c-70be-4df3-bceb-db59c298bbfd",
   "metadata": {},
   "outputs": [
    {
     "name": "stdout",
     "output_type": "stream",
     "text": [
      "1/1 [==============================] - 0s 17ms/step\n"
     ]
    }
   ],
   "source": [
    "actual_scaled = scaled_price(act_temp)\n",
    "seq = actual_scaled[-window_size:]\n",
    "hasil = model.predict(seq.reshape(1, window_size, 1))\n",
    "hasil = inverse_scale(hasil)\n",
    "seq_res = np.append(seq_res, hasil.item())\n",
    "act_temp = np.append(act_temp, np.expand_dims([hasil.item()], axis=1))"
   ]
  },
  {
   "cell_type": "code",
   "execution_count": 446,
   "id": "c88db887-a080-42d0-a582-df48f885a204",
   "metadata": {},
   "outputs": [
    {
     "data": {
      "text/plain": [
       "array([28907.18554688, 28949.04882812, 31540.05859375, 31491.31835938,\n",
       "       34230.859375  , 33296.8046875 , 39866.578125  , 37182.96875   ,\n",
       "       39809.39453125, 38608.22265625, 32819.09375   , 31902.87304688,\n",
       "       29372.68554688, 27563.94140625, 25861.77539062, 26431.5546875 ,\n",
       "       23637.1484375 , 23510.765625  , 20535.9765625 , 20686.99804688,\n",
       "       17152.83007812, 18760.50390625, 21348.99023438, 21415.30078125,\n",
       "       19346.83007812, 20049.48828125, 20408.26171875, 21181.10546875])"
      ]
     },
     "execution_count": 446,
     "metadata": {},
     "output_type": "execute_result"
    }
   ],
   "source": [
    "seq_res"
   ]
  },
  {
   "cell_type": "code",
   "execution_count": 447,
   "id": "1fbbbeb2-1360-4222-812f-42fa0ee6c387",
   "metadata": {},
   "outputs": [
    {
     "name": "stdout",
     "output_type": "stream",
     "text": [
      "     Minggu    Harga/week\n",
      "185     186  20000.000000\n",
      "186     187  20857.142857\n"
     ]
    }
   ],
   "source": [
    "print(weekly_data[(weekly_data['Minggu'] > 185) & (weekly_data['Minggu'] <= 187)])"
   ]
  },
  {
   "cell_type": "code",
   "execution_count": 448,
   "id": "d6b2ee73-0418-49df-b8ed-cf28be4b174d",
   "metadata": {},
   "outputs": [],
   "source": [
    "actual = np.append(actual, [20000.00, 20857.14])"
   ]
  },
  {
   "cell_type": "code",
   "execution_count": 449,
   "id": "6880c0b3-2531-4930-a3c7-f833032b772e",
   "metadata": {},
   "outputs": [],
   "source": [
    "act_temp = actual.reshape(-1, 1)\n",
    "# seq_res = np.array([])"
   ]
  },
  {
   "cell_type": "code",
   "execution_count": 450,
   "id": "e7b6a821-70b2-4c0c-9649-95a8c85fa98a",
   "metadata": {},
   "outputs": [
    {
     "name": "stdout",
     "output_type": "stream",
     "text": [
      "1/1 [==============================] - 0s 19ms/step\n"
     ]
    }
   ],
   "source": [
    "actual_scaled = scaled_price(act_temp)\n",
    "seq = actual_scaled[-window_size:]\n",
    "hasil = model.predict(seq.reshape(1, window_size, 1))\n",
    "hasil = inverse_scale(hasil)\n",
    "seq_res = np.append(seq_res, hasil.item())\n",
    "act_temp = np.append(act_temp, np.expand_dims([hasil.item()], axis=1))"
   ]
  },
  {
   "cell_type": "code",
   "execution_count": 451,
   "id": "9ac68741-6bb3-4f09-9f29-20574c98906c",
   "metadata": {},
   "outputs": [
    {
     "name": "stdout",
     "output_type": "stream",
     "text": [
      "1/1 [==============================] - 0s 22ms/step\n"
     ]
    }
   ],
   "source": [
    "actual_scaled = scaled_price(act_temp)\n",
    "seq = actual_scaled[-window_size:]\n",
    "hasil = model.predict(seq.reshape(1, window_size, 1))\n",
    "hasil = inverse_scale(hasil)\n",
    "seq_res = np.append(seq_res, hasil.item())\n",
    "act_temp = np.append(act_temp, np.expand_dims([hasil.item()], axis=1))"
   ]
  },
  {
   "cell_type": "code",
   "execution_count": 452,
   "id": "1b3f00bd-47b5-4267-b184-e2ce0339b5da",
   "metadata": {},
   "outputs": [
    {
     "data": {
      "text/plain": [
       "array([28907.18554688, 28949.04882812, 31540.05859375, 31491.31835938,\n",
       "       34230.859375  , 33296.8046875 , 39866.578125  , 37182.96875   ,\n",
       "       39809.39453125, 38608.22265625, 32819.09375   , 31902.87304688,\n",
       "       29372.68554688, 27563.94140625, 25861.77539062, 26431.5546875 ,\n",
       "       23637.1484375 , 23510.765625  , 20535.9765625 , 20686.99804688,\n",
       "       17152.83007812, 18760.50390625, 21348.99023438, 21415.30078125,\n",
       "       19346.83007812, 20049.48828125, 20408.26171875, 21181.10546875,\n",
       "       21909.28320312, 22480.51367188])"
      ]
     },
     "execution_count": 452,
     "metadata": {},
     "output_type": "execute_result"
    }
   ],
   "source": [
    "seq_res"
   ]
  },
  {
   "cell_type": "code",
   "execution_count": 453,
   "id": "0d1f14f4-4544-409b-81f3-c39b6b5270d3",
   "metadata": {},
   "outputs": [
    {
     "name": "stdout",
     "output_type": "stream",
     "text": [
      "     Minggu  Harga/week\n",
      "187     188     22000.0\n",
      "188     189     22000.0\n"
     ]
    }
   ],
   "source": [
    "print(weekly_data[(weekly_data['Minggu'] > 187) & (weekly_data['Minggu'] <= 189)])"
   ]
  },
  {
   "cell_type": "code",
   "execution_count": 454,
   "id": "e14b2cf1-bf37-4741-891f-7a3ca4454652",
   "metadata": {},
   "outputs": [],
   "source": [
    "actual = np.append(actual, [22000.00, 22000.00])"
   ]
  },
  {
   "cell_type": "code",
   "execution_count": 455,
   "id": "14627845-afd0-47aa-bf7a-f1c0de5a43b6",
   "metadata": {},
   "outputs": [],
   "source": [
    "act_temp = actual.reshape(-1, 1)\n",
    "# seq_res = np.array([])"
   ]
  },
  {
   "cell_type": "code",
   "execution_count": 456,
   "id": "76855bd2-cb75-407c-a022-0b3944f5574f",
   "metadata": {},
   "outputs": [
    {
     "name": "stdout",
     "output_type": "stream",
     "text": [
      "1/1 [==============================] - 0s 16ms/step\n"
     ]
    }
   ],
   "source": [
    "actual_scaled = scaled_price(act_temp)\n",
    "seq = actual_scaled[-window_size:]\n",
    "hasil = model.predict(seq.reshape(1, window_size, 1))\n",
    "hasil = inverse_scale(hasil)\n",
    "seq_res = np.append(seq_res, hasil.item())\n",
    "act_temp = np.append(act_temp, np.expand_dims([hasil.item()], axis=1))"
   ]
  },
  {
   "cell_type": "code",
   "execution_count": 457,
   "id": "95081973-0892-42a5-870d-c611f1bd3971",
   "metadata": {},
   "outputs": [
    {
     "name": "stdout",
     "output_type": "stream",
     "text": [
      "1/1 [==============================] - 0s 15ms/step\n"
     ]
    }
   ],
   "source": [
    "actual_scaled = scaled_price(act_temp)\n",
    "seq = actual_scaled[-window_size:]\n",
    "hasil = model.predict(seq.reshape(1, window_size, 1))\n",
    "hasil = inverse_scale(hasil)\n",
    "seq_res = np.append(seq_res, hasil.item())\n",
    "act_temp = np.append(act_temp, np.expand_dims([hasil.item()], axis=1))"
   ]
  },
  {
   "cell_type": "code",
   "execution_count": 458,
   "id": "e3a323cd-d4ad-434f-a4da-b13e568805c3",
   "metadata": {},
   "outputs": [
    {
     "data": {
      "text/plain": [
       "array([28907.18554688, 28949.04882812, 31540.05859375, 31491.31835938,\n",
       "       34230.859375  , 33296.8046875 , 39866.578125  , 37182.96875   ,\n",
       "       39809.39453125, 38608.22265625, 32819.09375   , 31902.87304688,\n",
       "       29372.68554688, 27563.94140625, 25861.77539062, 26431.5546875 ,\n",
       "       23637.1484375 , 23510.765625  , 20535.9765625 , 20686.99804688,\n",
       "       17152.83007812, 18760.50390625, 21348.99023438, 21415.30078125,\n",
       "       19346.83007812, 20049.48828125, 20408.26171875, 21181.10546875,\n",
       "       21909.28320312, 22480.51367188, 22195.88671875, 22941.4765625 ])"
      ]
     },
     "execution_count": 458,
     "metadata": {},
     "output_type": "execute_result"
    }
   ],
   "source": [
    "seq_res"
   ]
  },
  {
   "cell_type": "code",
   "execution_count": 459,
   "id": "9d95e206-6280-4b75-96b2-cf7a2161c3f0",
   "metadata": {},
   "outputs": [
    {
     "data": {
      "text/plain": [
       "array([28000.        , 29428.57142857, 26142.85      , 30714.28      ,\n",
       "       39285.71      , 35714.28      , 41785.71      , 41428.57      ,\n",
       "       38857.14      , 40000.        , 42857.14      , 36857.14      ,\n",
       "       30714.28      , 30000.        , 29428.57      , 25000.        ,\n",
       "       25000.        , 25000.        , 21428.57      , 19142.85      ,\n",
       "       18000.        , 17428.57      , 18714.28      , 20000.        ,\n",
       "       21428.57      , 19142.85      , 19357.14      , 20000.        ,\n",
       "       20000.        , 20857.14      , 22000.        , 22000.        ])"
      ]
     },
     "execution_count": 459,
     "metadata": {},
     "output_type": "execute_result"
    }
   ],
   "source": [
    "actual[-32:]"
   ]
  },
  {
   "cell_type": "code",
   "execution_count": 460,
   "id": "95a92423-6392-41f8-949c-436c1cdb6e1f",
   "metadata": {},
   "outputs": [],
   "source": [
    "actual = np.append(actual, [28000.00, 28000.00])"
   ]
  },
  {
   "cell_type": "code",
   "execution_count": 461,
   "id": "e7d377e2-ecfc-424b-8c77-950eab907e76",
   "metadata": {},
   "outputs": [
    {
     "data": {
      "text/plain": [
       "<matplotlib.legend.Legend at 0x200494241f0>"
      ]
     },
     "execution_count": 461,
     "metadata": {},
     "output_type": "execute_result"
    },
    {
     "data": {
      "image/png": "[encoded data removed]",
      "text/plain": [
       "<Figure size 640x480 with 1 Axes>"
      ]
     },
     "metadata": {},
     "output_type": "display_data"
    }
   ],
   "source": [
    "plt.plot(seq_res, label='prediction')\n",
    "plt.plot(actual[-32:], label='actual')\n",
    "plt.legend()"
   ]
  },
  {
   "cell_type": "code",
   "execution_count": 462,
   "id": "8532e906-6df0-4f51-b616-86b2cc578553",
   "metadata": {},
   "outputs": [
    {
     "name": "stdout",
     "output_type": "stream",
     "text": [
      "mae: 2483.77\n",
      "mse: 11264275.94\n",
      "rmse: 3356.23\n"
     ]
    }
   ],
   "source": [
    "mae = mean_absolute_error(seq_res, actual[-32:])\n",
    "mse = mean_squared_error(seq_res, actual[-32:])\n",
    "rmse = np.sqrt(mse)\n",
    "\n",
    "print(f'mae: {mae:.2f}')\n",
    "print(f'mse: {mse:.2f}')\n",
    "print(f'rmse: {rmse:.2f}')"
   ]
  },
  {
   "cell_type": "code",
   "execution_count": 463,
   "id": "c0327bb2-e4dd-4966-87be-9cc6e4b17368",
   "metadata": {},
   "outputs": [
    {
     "name": "stdout",
     "output_type": "stream",
     "text": [
      "Akurasi prediksi: 90.93%\n"
     ]
    }
   ],
   "source": [
    "mape = np.mean(np.abs((seq_res - actual[-32:]) / seq_res)) * 100\n",
    "accuracy = 100 - mape\n",
    "print(f\"Akurasi prediksi: {accuracy:.2f}%\")"
   ]
  }
 ],
 "metadata": {
  "kernelspec": {
   "display_name": "Python 3 (ipykernel)",
   "language": "python",
   "name": "python3"
  },
  "language_info": {
   "codemirror_mode": {
    "name": "ipython",
    "version": 3
   },
   "file_extension": ".py",
   "mimetype": "text/x-python",
   "name": "python",
   "nbconvert_exporter": "python",
   "pygments_lexer": "ipython3",
   "version": "3.10.15"
  }
 },
 "nbformat": 4,
 "nbformat_minor": 5
}

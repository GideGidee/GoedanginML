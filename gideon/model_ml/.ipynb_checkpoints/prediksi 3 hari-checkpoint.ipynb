{
 "cells": [
  {
   "cell_type": "markdown",
   "id": "d52784cf-62e9-4422-8c4e-96ae1a4b3c3c",
   "metadata": {},
   "source": [
    "# Forecast Harga Pasar Komoditas Bawang Merah di Brebes"
   ]
  },
  {
   "cell_type": "markdown",
   "id": "c168926e-8e59-4897-881d-868bfafb83ed",
   "metadata": {},
   "source": [
    "## Import Libraries"
   ]
  },
  {
   "cell_type": "code",
   "execution_count": 19,
   "id": "2febd797-71b8-468d-a1dd-e0e408035229",
   "metadata": {},
   "outputs": [],
   "source": [
    "import tensorflow as tf\n",
    "import pandas as pd\n",
    "import numpy as np\n",
    "import matplotlib.pyplot as plt\n",
    "import math\n",
    "from sklearn.metrics import mean_absolute_error, mean_squared_error\n",
    "from tensorflow import keras\n",
    "from tensorflow.keras.layers import Input, LSTM, Dense, Dropout, Flatten"
   ]
  },
  {
   "cell_type": "markdown",
   "id": "a0cfe503-c1bc-47b8-915c-072d111e099b",
   "metadata": {},
   "source": [
    "## Data Collections"
   ]
  },
  {
   "cell_type": "code",
   "execution_count": 20,
   "id": "b5001090-84ee-4281-9c66-8f6523fdbc0a",
   "metadata": {},
   "outputs": [
    {
     "data": {
      "text/html": [
       "<div>\n",
       "<style scoped>\n",
       "    .dataframe tbody tr th:only-of-type {\n",
       "        vertical-align: middle;\n",
       "    }\n",
       "\n",
       "    .dataframe tbody tr th {\n",
       "        vertical-align: top;\n",
       "    }\n",
       "\n",
       "    .dataframe thead th {\n",
       "        text-align: right;\n",
       "    }\n",
       "</style>\n",
       "<table border=\"1\" class=\"dataframe\">\n",
       "  <thead>\n",
       "    <tr style=\"text-align: right;\">\n",
       "      <th></th>\n",
       "      <th>3 Hari</th>\n",
       "      <th>Harga/3 hari</th>\n",
       "    </tr>\n",
       "  </thead>\n",
       "  <tbody>\n",
       "    <tr>\n",
       "      <th>0</th>\n",
       "      <td>1</td>\n",
       "      <td>28000.000000</td>\n",
       "    </tr>\n",
       "    <tr>\n",
       "      <th>1</th>\n",
       "      <td>2</td>\n",
       "      <td>27666.666667</td>\n",
       "    </tr>\n",
       "    <tr>\n",
       "      <th>2</th>\n",
       "      <td>3</td>\n",
       "      <td>27000.000000</td>\n",
       "    </tr>\n",
       "    <tr>\n",
       "      <th>3</th>\n",
       "      <td>4</td>\n",
       "      <td>29000.000000</td>\n",
       "    </tr>\n",
       "    <tr>\n",
       "      <th>4</th>\n",
       "      <td>5</td>\n",
       "      <td>30000.000000</td>\n",
       "    </tr>\n",
       "    <tr>\n",
       "      <th>...</th>\n",
       "      <td>...</td>\n",
       "      <td>...</td>\n",
       "    </tr>\n",
       "    <tr>\n",
       "      <th>451</th>\n",
       "      <td>452</td>\n",
       "      <td>35000.000000</td>\n",
       "    </tr>\n",
       "    <tr>\n",
       "      <th>452</th>\n",
       "      <td>453</td>\n",
       "      <td>35000.000000</td>\n",
       "    </tr>\n",
       "    <tr>\n",
       "      <th>453</th>\n",
       "      <td>454</td>\n",
       "      <td>32666.666667</td>\n",
       "    </tr>\n",
       "    <tr>\n",
       "      <th>454</th>\n",
       "      <td>455</td>\n",
       "      <td>32000.000000</td>\n",
       "    </tr>\n",
       "    <tr>\n",
       "      <th>455</th>\n",
       "      <td>456</td>\n",
       "      <td>32000.000000</td>\n",
       "    </tr>\n",
       "  </tbody>\n",
       "</table>\n",
       "<p>456 rows × 2 columns</p>\n",
       "</div>"
      ],
      "text/plain": [
       "     3 Hari  Harga/3 hari\n",
       "0         1  28000.000000\n",
       "1         2  27666.666667\n",
       "2         3  27000.000000\n",
       "3         4  29000.000000\n",
       "4         5  30000.000000\n",
       "..      ...           ...\n",
       "451     452  35000.000000\n",
       "452     453  35000.000000\n",
       "453     454  32666.666667\n",
       "454     455  32000.000000\n",
       "455     456  32000.000000\n",
       "\n",
       "[456 rows x 2 columns]"
      ]
     },
     "execution_count": 20,
     "metadata": {},
     "output_type": "execute_result"
    }
   ],
   "source": [
    "file_path = \"data3harian.csv\"\n",
    "df = pd.read_csv(file_path)\n",
    "df"
   ]
  },
  {
   "cell_type": "markdown",
   "id": "14139852-7e01-457d-a5e9-c7792bf2b739",
   "metadata": {},
   "source": [
    "## Data Preparation"
   ]
  },
  {
   "cell_type": "code",
   "execution_count": 21,
   "id": "e1e34c4c-856d-4700-ae43-0a3846ec4842",
   "metadata": {},
   "outputs": [
    {
     "data": {
      "text/plain": [
       "((456,), (456,))"
      ]
     },
     "execution_count": 21,
     "metadata": {},
     "output_type": "execute_result"
    }
   ],
   "source": [
    "week = np.array(df[\"3 Hari\"])\n",
    "series = np.array(df['Harga/3 hari'])\n",
    "week.shape, series.shape"
   ]
  },
  {
   "cell_type": "markdown",
   "id": "b838bbac-bc55-4ccc-8baa-116794a96a70",
   "metadata": {},
   "source": [
    "### Future Forecast"
   ]
  },
  {
   "cell_type": "code",
   "execution_count": 22,
   "id": "f512d2d7-8941-4867-ac55-1bd64022da11",
   "metadata": {},
   "outputs": [],
   "source": [
    "window_size = 24"
   ]
  },
  {
   "cell_type": "code",
   "execution_count": 23,
   "id": "d6502105-0ac0-4cdf-9892-765fe5defd90",
   "metadata": {},
   "outputs": [],
   "source": [
    "def scaled_price(data):\n",
    "    return data/1000"
   ]
  },
  {
   "cell_type": "code",
   "execution_count": 24,
   "id": "9fad83f2-a004-4150-98e7-aa3d6dc893ac",
   "metadata": {},
   "outputs": [],
   "source": [
    "def inverse_scale(data):\n",
    "    return data*1000"
   ]
  },
  {
   "cell_type": "markdown",
   "id": "9b905359-1c14-4e35-ada7-e5b469690763",
   "metadata": {},
   "source": [
    "1. Load model"
   ]
  },
  {
   "cell_type": "code",
   "execution_count": 25,
   "id": "4b9d2cf5-3cf3-49b0-8f68-97b70ad61f7f",
   "metadata": {},
   "outputs": [],
   "source": [
    "loaded_model = tf.keras.models.load_model('model_prediksi_3hari.keras')"
   ]
  },
  {
   "cell_type": "code",
   "execution_count": 26,
   "id": "24f0ec6d-f466-439b-a709-8c6259d46778",
   "metadata": {},
   "outputs": [
    {
     "name": "stdout",
     "output_type": "stream",
     "text": [
      "(None, 24, 1)\n"
     ]
    }
   ],
   "source": [
    "print(loaded_model.input_shape)"
   ]
  },
  {
   "cell_type": "code",
   "execution_count": 27,
   "id": "8f9a73c1-e7f6-41b5-8830-eed8674d8e3b",
   "metadata": {},
   "outputs": [],
   "source": [
    "actual = series[-24:]\n",
    "seq_res = np.array([])"
   ]
  },
  {
   "cell_type": "code",
   "execution_count": 28,
   "id": "85b9fab7-3c4b-4024-ac7b-061f400a3e0d",
   "metadata": {},
   "outputs": [
    {
     "data": {
      "text/plain": [
       "(456,)"
      ]
     },
     "execution_count": 28,
     "metadata": {},
     "output_type": "execute_result"
    }
   ],
   "source": [
    "series.shape"
   ]
  },
  {
   "cell_type": "code",
   "execution_count": 29,
   "id": "5123199a-ab53-47bc-82e4-b2f03392f832",
   "metadata": {},
   "outputs": [],
   "source": [
    "act_temp = actual.reshape(-1, 1)"
   ]
  },
  {
   "cell_type": "code",
   "execution_count": 30,
   "id": "405321ee-8d99-4348-bef5-7bb191fe0f5d",
   "metadata": {},
   "outputs": [
    {
     "name": "stdout",
     "output_type": "stream",
     "text": [
      "\u001b[1m1/1\u001b[0m \u001b[32m━━━━━━━━━━━━━━━━━━━━\u001b[0m\u001b[37m\u001b[0m \u001b[1m0s\u001b[0m 82ms/step\n"
     ]
    }
   ],
   "source": [
    "# data dibagi 1000\n",
    "actual_scaled = scaled_price(act_temp)\n",
    "# ambil 24 data terakhir\n",
    "seq = actual_scaled[-window_size:]\n",
    "# prediksi\n",
    "hasil = loaded_model.predict(seq.reshape(1, window_size, 1))\n",
    "# hasil prediksi dikali 1000\n",
    "hasil = inverse_scale(hasil)\n",
    "# hasil prediksi 3 hari pertama masuk ke variabell seq_res\n",
    "seq_res = np.append(seq_res, hasil.item())\n",
    "# hasil predksi masuk ke variabel pertama yang mengambil 24 data terakhir\n",
    "act_temp = np.append(act_temp, np.expand_dims([hasil.item()], axis=1))"
   ]
  },
  {
   "cell_type": "code",
   "execution_count": 31,
   "id": "a838b039-56c1-4fd6-96ac-975d53287ccb",
   "metadata": {},
   "outputs": [
    {
     "data": {
      "text/plain": [
       "array([31755.8203125])"
      ]
     },
     "execution_count": 31,
     "metadata": {},
     "output_type": "execute_result"
    }
   ],
   "source": [
    "seq_res"
   ]
  },
  {
   "cell_type": "code",
   "execution_count": 32,
   "id": "76a702c7-abe7-40d4-a0ab-bcdac15c09c8",
   "metadata": {},
   "outputs": [
    {
     "name": "stdout",
     "output_type": "stream",
     "text": [
      "\u001b[1m1/1\u001b[0m \u001b[32m━━━━━━━━━━━━━━━━━━━━\u001b[0m\u001b[37m\u001b[0m \u001b[1m0s\u001b[0m 48ms/step\n"
     ]
    }
   ],
   "source": [
    "actual_scaled = scaled_price(act_temp)\n",
    "seq = actual_scaled[-window_size:]\n",
    "hasil = loaded_model.predict(seq.reshape(1, window_size, 1))\n",
    "hasil = inverse_scale(hasil)\n",
    "seq_res = np.append(seq_res, hasil.item())\n",
    "act_temp = np.append(act_temp, np.expand_dims([hasil.item()], axis=1))"
   ]
  },
  {
   "cell_type": "code",
   "execution_count": 33,
   "id": "749d0eeb-deb0-46a0-aee6-4b54bae5de9c",
   "metadata": {},
   "outputs": [
    {
     "data": {
      "text/plain": [
       "array([31755.8203125, 31373.671875 ])"
      ]
     },
     "execution_count": 33,
     "metadata": {},
     "output_type": "execute_result"
    }
   ],
   "source": [
    "seq_res"
   ]
  }
 ],
 "metadata": {
  "kernelspec": {
   "display_name": "Python 3 (ipykernel)",
   "language": "python",
   "name": "python3"
  },
  "language_info": {
   "codemirror_mode": {
    "name": "ipython",
    "version": 3
   },
   "file_extension": ".py",
   "mimetype": "text/x-python",
   "name": "python",
   "nbconvert_exporter": "python",
   "pygments_lexer": "ipython3",
   "version": "3.10.15"
  }
 },
 "nbformat": 4,
 "nbformat_minor": 5
}

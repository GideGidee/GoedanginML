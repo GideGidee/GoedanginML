{
 "cells": [
  {
   "cell_type": "code",
   "execution_count": 2,
   "id": "9481af00-2bbb-4b28-a795-bdfa4a509bbf",
   "metadata": {},
   "outputs": [],
   "source": [
    "import tensorflow as tf\n",
    "from tensorflow.keras.models import load_model\n",
    "import numpy as np\n",
    "import pandas as pd\n",
    "import matplotlib.pyplot as plt"
   ]
  },
  {
   "cell_type": "code",
   "execution_count": 3,
   "id": "ce1576ce-4486-4c18-86ac-a27511d5ef34",
   "metadata": {},
   "outputs": [],
   "source": [
    "def scaled_price(data):\n",
    "    return data/1000\n",
    "\n",
    "def inverse_scale(data):\n",
    "    return data*1000"
   ]
  },
  {
   "cell_type": "code",
   "execution_count": null,
   "id": "adab7e2f-9678-461c-87cf-c53c2bbe175b",
   "metadata": {},
   "outputs": [],
   "source": [
    "loaded_model = "
   ]
  }
 ],
 "metadata": {
  "kernelspec": {
   "display_name": "Python 3 (ipykernel)",
   "language": "python",
   "name": "python3"
  },
  "language_info": {
   "codemirror_mode": {
    "name": "ipython",
    "version": 3
   },
   "file_extension": ".py",
   "mimetype": "text/x-python",
   "name": "python",
   "nbconvert_exporter": "python",
   "pygments_lexer": "ipython3",
   "version": "3.10.15"
  }
 },
 "nbformat": 4,
 "nbformat_minor": 5
}

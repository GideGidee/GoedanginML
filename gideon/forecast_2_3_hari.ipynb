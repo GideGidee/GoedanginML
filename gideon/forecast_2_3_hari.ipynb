{
 "cells": [
  {
   "cell_type": "markdown",
   "id": "d52784cf-62e9-4422-8c4e-96ae1a4b3c3c",
   "metadata": {},
   "source": [
    "# Forecast Harga Pasar Komoditas Bawang Merah di Brebes"
   ]
  },
  {
   "cell_type": "markdown",
   "id": "c168926e-8e59-4897-881d-868bfafb83ed",
   "metadata": {},
   "source": [
    "## Import Libraries"
   ]
  },
  {
   "cell_type": "code",
   "execution_count": 1,
   "id": "2febd797-71b8-468d-a1dd-e0e408035229",
   "metadata": {},
   "outputs": [],
   "source": [
    "import tensorflow as tf\n",
    "import pandas as pd\n",
    "import numpy as np\n",
    "import matplotlib.pyplot as plt\n",
    "import math\n",
    "from sklearn.metrics import mean_absolute_error, mean_squared_error\n",
    "from tensorflow import keras\n",
    "from tensorflow.keras.layers import Input, LSTM, Dense, Dropout, Flatten"
   ]
  },
  {
   "cell_type": "markdown",
   "id": "a0cfe503-c1bc-47b8-915c-072d111e099b",
   "metadata": {},
   "source": [
    "## Data Collections"
   ]
  },
  {
   "cell_type": "code",
   "execution_count": 2,
   "id": "b5001090-84ee-4281-9c66-8f6523fdbc0a",
   "metadata": {},
   "outputs": [
    {
     "data": {
      "text/html": [
       "<div>\n",
       "<style scoped>\n",
       "    .dataframe tbody tr th:only-of-type {\n",
       "        vertical-align: middle;\n",
       "    }\n",
       "\n",
       "    .dataframe tbody tr th {\n",
       "        vertical-align: top;\n",
       "    }\n",
       "\n",
       "    .dataframe thead th {\n",
       "        text-align: right;\n",
       "    }\n",
       "</style>\n",
       "<table border=\"1\" class=\"dataframe\">\n",
       "  <thead>\n",
       "    <tr style=\"text-align: right;\">\n",
       "      <th></th>\n",
       "      <th>Komoditas (Rp)</th>\n",
       "      <th>15/03/2021</th>\n",
       "      <th>16/03/2021</th>\n",
       "      <th>17/03/2021</th>\n",
       "      <th>18/03/2021</th>\n",
       "      <th>19/03/2021</th>\n",
       "      <th>20/03/2021</th>\n",
       "      <th>21/03/2021</th>\n",
       "      <th>22/03/2021</th>\n",
       "      <th>23/03/2021</th>\n",
       "      <th>...</th>\n",
       "      <th>21/10/2024</th>\n",
       "      <th>22/10/2024</th>\n",
       "      <th>23/10/2024</th>\n",
       "      <th>24/10/2024</th>\n",
       "      <th>25/10/2024</th>\n",
       "      <th>26/10/2024</th>\n",
       "      <th>27/10/2024</th>\n",
       "      <th>28/10/2024</th>\n",
       "      <th>29/10/2024</th>\n",
       "      <th>30/10/2024</th>\n",
       "    </tr>\n",
       "  </thead>\n",
       "  <tbody>\n",
       "    <tr>\n",
       "      <th>0</th>\n",
       "      <td>Beras Premium</td>\n",
       "      <td>11.500</td>\n",
       "      <td>11.500</td>\n",
       "      <td>11.500</td>\n",
       "      <td>11.500</td>\n",
       "      <td>11.500</td>\n",
       "      <td>11.500</td>\n",
       "      <td>-</td>\n",
       "      <td>11.500</td>\n",
       "      <td>-</td>\n",
       "      <td>...</td>\n",
       "      <td>16.0</td>\n",
       "      <td>16.0</td>\n",
       "      <td>16.0</td>\n",
       "      <td>-</td>\n",
       "      <td>-</td>\n",
       "      <td>16.0</td>\n",
       "      <td>16.0</td>\n",
       "      <td>-</td>\n",
       "      <td>16.0</td>\n",
       "      <td>15.0</td>\n",
       "    </tr>\n",
       "    <tr>\n",
       "      <th>1</th>\n",
       "      <td>Beras Medium</td>\n",
       "      <td>9.000</td>\n",
       "      <td>9.000</td>\n",
       "      <td>9.000</td>\n",
       "      <td>9.000</td>\n",
       "      <td>9.000</td>\n",
       "      <td>9.000</td>\n",
       "      <td>-</td>\n",
       "      <td>9.000</td>\n",
       "      <td>-</td>\n",
       "      <td>...</td>\n",
       "      <td>14.0</td>\n",
       "      <td>14.0</td>\n",
       "      <td>14.0</td>\n",
       "      <td>-</td>\n",
       "      <td>-</td>\n",
       "      <td>14.0</td>\n",
       "      <td>14.0</td>\n",
       "      <td>-</td>\n",
       "      <td>14.0</td>\n",
       "      <td>13.5</td>\n",
       "    </tr>\n",
       "    <tr>\n",
       "      <th>2</th>\n",
       "      <td>Kedelai Biji Kering (Impor)</td>\n",
       "      <td>11.000</td>\n",
       "      <td>11.000</td>\n",
       "      <td>11.000</td>\n",
       "      <td>11.000</td>\n",
       "      <td>11.000</td>\n",
       "      <td>11.000</td>\n",
       "      <td>-</td>\n",
       "      <td>10.000</td>\n",
       "      <td>-</td>\n",
       "      <td>...</td>\n",
       "      <td>10.3</td>\n",
       "      <td>10.3</td>\n",
       "      <td>10.3</td>\n",
       "      <td>-</td>\n",
       "      <td>-</td>\n",
       "      <td>10.3</td>\n",
       "      <td>10.3</td>\n",
       "      <td>-</td>\n",
       "      <td>10.3</td>\n",
       "      <td>10.3</td>\n",
       "    </tr>\n",
       "    <tr>\n",
       "      <th>3</th>\n",
       "      <td>Bawang Merah</td>\n",
       "      <td>28.000</td>\n",
       "      <td>28.000</td>\n",
       "      <td>28.000</td>\n",
       "      <td>28.000</td>\n",
       "      <td>28.000</td>\n",
       "      <td>27.000</td>\n",
       "      <td>-</td>\n",
       "      <td>27.000</td>\n",
       "      <td>-</td>\n",
       "      <td>...</td>\n",
       "      <td>22.0</td>\n",
       "      <td>22.0</td>\n",
       "      <td>22.0</td>\n",
       "      <td>-</td>\n",
       "      <td>-</td>\n",
       "      <td>22.0</td>\n",
       "      <td>22.0</td>\n",
       "      <td>-</td>\n",
       "      <td>28.0</td>\n",
       "      <td>28.0</td>\n",
       "    </tr>\n",
       "    <tr>\n",
       "      <th>4</th>\n",
       "      <td>Bawang Putih Bonggol</td>\n",
       "      <td>22.000</td>\n",
       "      <td>22.000</td>\n",
       "      <td>22.000</td>\n",
       "      <td>22.000</td>\n",
       "      <td>22.000</td>\n",
       "      <td>22.000</td>\n",
       "      <td>-</td>\n",
       "      <td>22.000</td>\n",
       "      <td>-</td>\n",
       "      <td>...</td>\n",
       "      <td>35.0</td>\n",
       "      <td>35.0</td>\n",
       "      <td>35.0</td>\n",
       "      <td>-</td>\n",
       "      <td>-</td>\n",
       "      <td>35.0</td>\n",
       "      <td>35.0</td>\n",
       "      <td>-</td>\n",
       "      <td>35.0</td>\n",
       "      <td>35.0</td>\n",
       "    </tr>\n",
       "    <tr>\n",
       "      <th>5</th>\n",
       "      <td>Cabai Merah Keriting</td>\n",
       "      <td>50.000</td>\n",
       "      <td>50.000</td>\n",
       "      <td>50.000</td>\n",
       "      <td>50.000</td>\n",
       "      <td>50.000</td>\n",
       "      <td>50.000</td>\n",
       "      <td>-</td>\n",
       "      <td>50.000</td>\n",
       "      <td>-</td>\n",
       "      <td>...</td>\n",
       "      <td>25.0</td>\n",
       "      <td>25.0</td>\n",
       "      <td>25.0</td>\n",
       "      <td>-</td>\n",
       "      <td>-</td>\n",
       "      <td>25.0</td>\n",
       "      <td>25.0</td>\n",
       "      <td>-</td>\n",
       "      <td>30.0</td>\n",
       "      <td>30.0</td>\n",
       "    </tr>\n",
       "    <tr>\n",
       "      <th>6</th>\n",
       "      <td>Cabai Rawit Merah</td>\n",
       "      <td>115.000</td>\n",
       "      <td>115.000</td>\n",
       "      <td>115.000</td>\n",
       "      <td>115.000</td>\n",
       "      <td>110.000</td>\n",
       "      <td>115.000</td>\n",
       "      <td>-</td>\n",
       "      <td>115.000</td>\n",
       "      <td>-</td>\n",
       "      <td>...</td>\n",
       "      <td>35.0</td>\n",
       "      <td>35.0</td>\n",
       "      <td>35.0</td>\n",
       "      <td>-</td>\n",
       "      <td>-</td>\n",
       "      <td>35.0</td>\n",
       "      <td>35.0</td>\n",
       "      <td>-</td>\n",
       "      <td>40.0</td>\n",
       "      <td>40.0</td>\n",
       "    </tr>\n",
       "    <tr>\n",
       "      <th>7</th>\n",
       "      <td>Daging Sapi Murni</td>\n",
       "      <td>120.000</td>\n",
       "      <td>120.000</td>\n",
       "      <td>120.000</td>\n",
       "      <td>120.000</td>\n",
       "      <td>120.000</td>\n",
       "      <td>120.000</td>\n",
       "      <td>-</td>\n",
       "      <td>120.000</td>\n",
       "      <td>-</td>\n",
       "      <td>...</td>\n",
       "      <td>143.0</td>\n",
       "      <td>143.0</td>\n",
       "      <td>143.0</td>\n",
       "      <td>-</td>\n",
       "      <td>-</td>\n",
       "      <td>143.0</td>\n",
       "      <td>143.0</td>\n",
       "      <td>-</td>\n",
       "      <td>143.0</td>\n",
       "      <td>143.0</td>\n",
       "    </tr>\n",
       "    <tr>\n",
       "      <th>8</th>\n",
       "      <td>Daging Ayam Ras</td>\n",
       "      <td>36.000</td>\n",
       "      <td>36.000</td>\n",
       "      <td>36.000</td>\n",
       "      <td>36.000</td>\n",
       "      <td>36.000</td>\n",
       "      <td>36.000</td>\n",
       "      <td>-</td>\n",
       "      <td>36.000</td>\n",
       "      <td>-</td>\n",
       "      <td>...</td>\n",
       "      <td>37.0</td>\n",
       "      <td>37.0</td>\n",
       "      <td>37.0</td>\n",
       "      <td>-</td>\n",
       "      <td>-</td>\n",
       "      <td>37.0</td>\n",
       "      <td>38.0</td>\n",
       "      <td>-</td>\n",
       "      <td>38.0</td>\n",
       "      <td>37.0</td>\n",
       "    </tr>\n",
       "    <tr>\n",
       "      <th>9</th>\n",
       "      <td>Telur Ayam Ras</td>\n",
       "      <td>22.000</td>\n",
       "      <td>22.000</td>\n",
       "      <td>22.000</td>\n",
       "      <td>22.000</td>\n",
       "      <td>22.000</td>\n",
       "      <td>22.000</td>\n",
       "      <td>-</td>\n",
       "      <td>22.000</td>\n",
       "      <td>-</td>\n",
       "      <td>...</td>\n",
       "      <td>26.5</td>\n",
       "      <td>26.5</td>\n",
       "      <td>26.5</td>\n",
       "      <td>-</td>\n",
       "      <td>-</td>\n",
       "      <td>26.0</td>\n",
       "      <td>26.0</td>\n",
       "      <td>-</td>\n",
       "      <td>26.5</td>\n",
       "      <td>27.0</td>\n",
       "    </tr>\n",
       "    <tr>\n",
       "      <th>10</th>\n",
       "      <td>Gula Konsumsi</td>\n",
       "      <td>12.500</td>\n",
       "      <td>12.500</td>\n",
       "      <td>12.500</td>\n",
       "      <td>12.500</td>\n",
       "      <td>12.500</td>\n",
       "      <td>12.500</td>\n",
       "      <td>-</td>\n",
       "      <td>12.500</td>\n",
       "      <td>-</td>\n",
       "      <td>...</td>\n",
       "      <td>17.5</td>\n",
       "      <td>17.5</td>\n",
       "      <td>17.5</td>\n",
       "      <td>-</td>\n",
       "      <td>-</td>\n",
       "      <td>17.5</td>\n",
       "      <td>17.5</td>\n",
       "      <td>-</td>\n",
       "      <td>17.5</td>\n",
       "      <td>17.5</td>\n",
       "    </tr>\n",
       "    <tr>\n",
       "      <th>11</th>\n",
       "      <td>Minyak Goreng Kemasan Sederhana</td>\n",
       "      <td>14.000</td>\n",
       "      <td>14.000</td>\n",
       "      <td>14.000</td>\n",
       "      <td>14.000</td>\n",
       "      <td>14.000</td>\n",
       "      <td>14.000</td>\n",
       "      <td>-</td>\n",
       "      <td>14.000</td>\n",
       "      <td>-</td>\n",
       "      <td>...</td>\n",
       "      <td>19.0</td>\n",
       "      <td>19.0</td>\n",
       "      <td>19.0</td>\n",
       "      <td>-</td>\n",
       "      <td>-</td>\n",
       "      <td>19.0</td>\n",
       "      <td>19.0</td>\n",
       "      <td>-</td>\n",
       "      <td>19.0</td>\n",
       "      <td>19.0</td>\n",
       "    </tr>\n",
       "    <tr>\n",
       "      <th>12</th>\n",
       "      <td>Tepung Terigu (Curah)</td>\n",
       "      <td>7.000</td>\n",
       "      <td>7.000</td>\n",
       "      <td>7.000</td>\n",
       "      <td>7.000</td>\n",
       "      <td>7.000</td>\n",
       "      <td>7.000</td>\n",
       "      <td>-</td>\n",
       "      <td>7.000</td>\n",
       "      <td>-</td>\n",
       "      <td>...</td>\n",
       "      <td>9.0</td>\n",
       "      <td>9.0</td>\n",
       "      <td>9.0</td>\n",
       "      <td>-</td>\n",
       "      <td>-</td>\n",
       "      <td>9.0</td>\n",
       "      <td>9.0</td>\n",
       "      <td>-</td>\n",
       "      <td>9.0</td>\n",
       "      <td>9.0</td>\n",
       "    </tr>\n",
       "    <tr>\n",
       "      <th>13</th>\n",
       "      <td>Minyak Goreng Curah</td>\n",
       "      <td>-</td>\n",
       "      <td>-</td>\n",
       "      <td>-</td>\n",
       "      <td>-</td>\n",
       "      <td>-</td>\n",
       "      <td>-</td>\n",
       "      <td>-</td>\n",
       "      <td>-</td>\n",
       "      <td>-</td>\n",
       "      <td>...</td>\n",
       "      <td>17.0</td>\n",
       "      <td>17.0</td>\n",
       "      <td>17.0</td>\n",
       "      <td>-</td>\n",
       "      <td>-</td>\n",
       "      <td>17.0</td>\n",
       "      <td>17.0</td>\n",
       "      <td>-</td>\n",
       "      <td>17.0</td>\n",
       "      <td>17.0</td>\n",
       "    </tr>\n",
       "    <tr>\n",
       "      <th>14</th>\n",
       "      <td>Jagung Tk Peternak</td>\n",
       "      <td>-</td>\n",
       "      <td>-</td>\n",
       "      <td>-</td>\n",
       "      <td>-</td>\n",
       "      <td>-</td>\n",
       "      <td>-</td>\n",
       "      <td>-</td>\n",
       "      <td>-</td>\n",
       "      <td>-</td>\n",
       "      <td>...</td>\n",
       "      <td>5.1</td>\n",
       "      <td>5.1</td>\n",
       "      <td>5.1</td>\n",
       "      <td>-</td>\n",
       "      <td>-</td>\n",
       "      <td>5.1</td>\n",
       "      <td>5.1</td>\n",
       "      <td>-</td>\n",
       "      <td>5.1</td>\n",
       "      <td>5.1</td>\n",
       "    </tr>\n",
       "    <tr>\n",
       "      <th>15</th>\n",
       "      <td>Ikan Kembung</td>\n",
       "      <td>-</td>\n",
       "      <td>-</td>\n",
       "      <td>-</td>\n",
       "      <td>-</td>\n",
       "      <td>-</td>\n",
       "      <td>-</td>\n",
       "      <td>-</td>\n",
       "      <td>-</td>\n",
       "      <td>-</td>\n",
       "      <td>...</td>\n",
       "      <td>28.0</td>\n",
       "      <td>28.0</td>\n",
       "      <td>28.0</td>\n",
       "      <td>-</td>\n",
       "      <td>-</td>\n",
       "      <td>28.0</td>\n",
       "      <td>28.0</td>\n",
       "      <td>-</td>\n",
       "      <td>28.0</td>\n",
       "      <td>30.0</td>\n",
       "    </tr>\n",
       "    <tr>\n",
       "      <th>16</th>\n",
       "      <td>Ikan Tongkol</td>\n",
       "      <td>-</td>\n",
       "      <td>-</td>\n",
       "      <td>-</td>\n",
       "      <td>-</td>\n",
       "      <td>-</td>\n",
       "      <td>-</td>\n",
       "      <td>-</td>\n",
       "      <td>-</td>\n",
       "      <td>-</td>\n",
       "      <td>...</td>\n",
       "      <td>28.0</td>\n",
       "      <td>28.0</td>\n",
       "      <td>28.0</td>\n",
       "      <td>-</td>\n",
       "      <td>-</td>\n",
       "      <td>28.0</td>\n",
       "      <td>28.0</td>\n",
       "      <td>-</td>\n",
       "      <td>28.0</td>\n",
       "      <td>30.0</td>\n",
       "    </tr>\n",
       "    <tr>\n",
       "      <th>17</th>\n",
       "      <td>Ikan Bandeng</td>\n",
       "      <td>-</td>\n",
       "      <td>-</td>\n",
       "      <td>-</td>\n",
       "      <td>-</td>\n",
       "      <td>-</td>\n",
       "      <td>-</td>\n",
       "      <td>-</td>\n",
       "      <td>-</td>\n",
       "      <td>-</td>\n",
       "      <td>...</td>\n",
       "      <td>32.0</td>\n",
       "      <td>32.0</td>\n",
       "      <td>32.0</td>\n",
       "      <td>-</td>\n",
       "      <td>-</td>\n",
       "      <td>32.0</td>\n",
       "      <td>32.0</td>\n",
       "      <td>-</td>\n",
       "      <td>30.0</td>\n",
       "      <td>33.0</td>\n",
       "    </tr>\n",
       "    <tr>\n",
       "      <th>18</th>\n",
       "      <td>Garam Halus Beryodium</td>\n",
       "      <td>-</td>\n",
       "      <td>-</td>\n",
       "      <td>-</td>\n",
       "      <td>-</td>\n",
       "      <td>-</td>\n",
       "      <td>-</td>\n",
       "      <td>-</td>\n",
       "      <td>-</td>\n",
       "      <td>-</td>\n",
       "      <td>...</td>\n",
       "      <td>10.0</td>\n",
       "      <td>10.0</td>\n",
       "      <td>10.0</td>\n",
       "      <td>-</td>\n",
       "      <td>-</td>\n",
       "      <td>10.0</td>\n",
       "      <td>10.0</td>\n",
       "      <td>-</td>\n",
       "      <td>10.0</td>\n",
       "      <td>10.0</td>\n",
       "    </tr>\n",
       "    <tr>\n",
       "      <th>19</th>\n",
       "      <td>Tepung Terigu Kemasan (non-curah)</td>\n",
       "      <td>-</td>\n",
       "      <td>-</td>\n",
       "      <td>-</td>\n",
       "      <td>-</td>\n",
       "      <td>-</td>\n",
       "      <td>-</td>\n",
       "      <td>-</td>\n",
       "      <td>-</td>\n",
       "      <td>-</td>\n",
       "      <td>...</td>\n",
       "      <td>12.0</td>\n",
       "      <td>12.0</td>\n",
       "      <td>12.0</td>\n",
       "      <td>-</td>\n",
       "      <td>-</td>\n",
       "      <td>12.0</td>\n",
       "      <td>12.0</td>\n",
       "      <td>-</td>\n",
       "      <td>12.0</td>\n",
       "      <td>12.0</td>\n",
       "    </tr>\n",
       "    <tr>\n",
       "      <th>20</th>\n",
       "      <td>Beras SPHP</td>\n",
       "      <td>-</td>\n",
       "      <td>-</td>\n",
       "      <td>-</td>\n",
       "      <td>-</td>\n",
       "      <td>-</td>\n",
       "      <td>-</td>\n",
       "      <td>-</td>\n",
       "      <td>-</td>\n",
       "      <td>-</td>\n",
       "      <td>...</td>\n",
       "      <td>12.0</td>\n",
       "      <td>12.0</td>\n",
       "      <td>12.0</td>\n",
       "      <td>-</td>\n",
       "      <td>-</td>\n",
       "      <td>12.0</td>\n",
       "      <td>12.0</td>\n",
       "      <td>-</td>\n",
       "      <td>12.0</td>\n",
       "      <td>12.0</td>\n",
       "    </tr>\n",
       "  </tbody>\n",
       "</table>\n",
       "<p>21 rows × 1327 columns</p>\n",
       "</div>"
      ],
      "text/plain": [
       "                      Komoditas (Rp)  15/03/2021 16/03/2021 17/03/2021  \\\n",
       "0                       Beras Premium     11.500     11.500     11.500   \n",
       "1                        Beras Medium      9.000      9.000      9.000   \n",
       "2         Kedelai Biji Kering (Impor)     11.000     11.000     11.000   \n",
       "3                        Bawang Merah     28.000     28.000     28.000   \n",
       "4                Bawang Putih Bonggol     22.000     22.000     22.000   \n",
       "5                Cabai Merah Keriting     50.000     50.000     50.000   \n",
       "6                   Cabai Rawit Merah    115.000    115.000    115.000   \n",
       "7                   Daging Sapi Murni    120.000    120.000    120.000   \n",
       "8                     Daging Ayam Ras     36.000     36.000     36.000   \n",
       "9                      Telur Ayam Ras     22.000     22.000     22.000   \n",
       "10                      Gula Konsumsi     12.500     12.500     12.500   \n",
       "11    Minyak Goreng Kemasan Sederhana     14.000     14.000     14.000   \n",
       "12              Tepung Terigu (Curah)      7.000      7.000      7.000   \n",
       "13                Minyak Goreng Curah          -          -          -   \n",
       "14                 Jagung Tk Peternak          -          -          -   \n",
       "15                       Ikan Kembung          -          -          -   \n",
       "16                       Ikan Tongkol          -          -          -   \n",
       "17                       Ikan Bandeng          -          -          -   \n",
       "18              Garam Halus Beryodium          -          -          -   \n",
       "19  Tepung Terigu Kemasan (non-curah)          -          -          -   \n",
       "20                         Beras SPHP          -          -          -   \n",
       "\n",
       "   18/03/2021 19/03/2021 20/03/2021 21/03/2021 22/03/2021 23/03/2021  ...  \\\n",
       "0      11.500     11.500     11.500          -     11.500          -  ...   \n",
       "1       9.000      9.000      9.000          -      9.000          -  ...   \n",
       "2      11.000     11.000     11.000          -     10.000          -  ...   \n",
       "3      28.000     28.000     27.000          -     27.000          -  ...   \n",
       "4      22.000     22.000     22.000          -     22.000          -  ...   \n",
       "5      50.000     50.000     50.000          -     50.000          -  ...   \n",
       "6     115.000    110.000    115.000          -    115.000          -  ...   \n",
       "7     120.000    120.000    120.000          -    120.000          -  ...   \n",
       "8      36.000     36.000     36.000          -     36.000          -  ...   \n",
       "9      22.000     22.000     22.000          -     22.000          -  ...   \n",
       "10     12.500     12.500     12.500          -     12.500          -  ...   \n",
       "11     14.000     14.000     14.000          -     14.000          -  ...   \n",
       "12      7.000      7.000      7.000          -      7.000          -  ...   \n",
       "13          -          -          -          -          -          -  ...   \n",
       "14          -          -          -          -          -          -  ...   \n",
       "15          -          -          -          -          -          -  ...   \n",
       "16          -          -          -          -          -          -  ...   \n",
       "17          -          -          -          -          -          -  ...   \n",
       "18          -          -          -          -          -          -  ...   \n",
       "19          -          -          -          -          -          -  ...   \n",
       "20          -          -          -          -          -          -  ...   \n",
       "\n",
       "   21/10/2024 22/10/2024 23/10/2024 24/10/2024 25/10/2024 26/10/2024  \\\n",
       "0        16.0       16.0       16.0          -          -       16.0   \n",
       "1        14.0       14.0       14.0          -          -       14.0   \n",
       "2        10.3       10.3       10.3          -          -       10.3   \n",
       "3        22.0       22.0       22.0          -          -       22.0   \n",
       "4        35.0       35.0       35.0          -          -       35.0   \n",
       "5        25.0       25.0       25.0          -          -       25.0   \n",
       "6        35.0       35.0       35.0          -          -       35.0   \n",
       "7       143.0      143.0      143.0          -          -      143.0   \n",
       "8        37.0       37.0       37.0          -          -       37.0   \n",
       "9        26.5       26.5       26.5          -          -       26.0   \n",
       "10       17.5       17.5       17.5          -          -       17.5   \n",
       "11       19.0       19.0       19.0          -          -       19.0   \n",
       "12        9.0        9.0        9.0          -          -        9.0   \n",
       "13       17.0       17.0       17.0          -          -       17.0   \n",
       "14        5.1        5.1        5.1          -          -        5.1   \n",
       "15       28.0       28.0       28.0          -          -       28.0   \n",
       "16       28.0       28.0       28.0          -          -       28.0   \n",
       "17       32.0       32.0       32.0          -          -       32.0   \n",
       "18       10.0       10.0       10.0          -          -       10.0   \n",
       "19       12.0       12.0       12.0          -          -       12.0   \n",
       "20       12.0       12.0       12.0          -          -       12.0   \n",
       "\n",
       "   27/10/2024 28/10/2024 29/10/2024 30/10/2024  \n",
       "0        16.0          -       16.0       15.0  \n",
       "1        14.0          -       14.0       13.5  \n",
       "2        10.3          -       10.3       10.3  \n",
       "3        22.0          -       28.0       28.0  \n",
       "4        35.0          -       35.0       35.0  \n",
       "5        25.0          -       30.0       30.0  \n",
       "6        35.0          -       40.0       40.0  \n",
       "7       143.0          -      143.0      143.0  \n",
       "8        38.0          -       38.0       37.0  \n",
       "9        26.0          -       26.5       27.0  \n",
       "10       17.5          -       17.5       17.5  \n",
       "11       19.0          -       19.0       19.0  \n",
       "12        9.0          -        9.0        9.0  \n",
       "13       17.0          -       17.0       17.0  \n",
       "14        5.1          -        5.1        5.1  \n",
       "15       28.0          -       28.0       30.0  \n",
       "16       28.0          -       28.0       30.0  \n",
       "17       32.0          -       30.0       33.0  \n",
       "18       10.0          -       10.0       10.0  \n",
       "19       12.0          -       12.0       12.0  \n",
       "20       12.0          -       12.0       12.0  \n",
       "\n",
       "[21 rows x 1327 columns]"
      ]
     },
     "execution_count": 2,
     "metadata": {},
     "output_type": "execute_result"
    }
   ],
   "source": [
    "file_path = \"dataset_harga_brebes.csv\"\n",
    "df = pd.read_csv(file_path)\n",
    "df"
   ]
  },
  {
   "cell_type": "markdown",
   "id": "2af51775-851b-4cd2-9cb8-9947e57096fe",
   "metadata": {},
   "source": [
    "## Data Cleaning"
   ]
  },
  {
   "cell_type": "code",
   "execution_count": 3,
   "id": "8f0ad1ee-1d57-4e7c-9a40-be9424dabc7f",
   "metadata": {},
   "outputs": [
    {
     "name": "stdout",
     "output_type": "stream",
     "text": [
      "tanggal                              datetime64[ns]\n",
      "Beras Premium                               float64\n",
      "Beras Medium                                float64\n",
      "Kedelai Biji Kering (Impor)                 float64\n",
      "Bawang Merah                                float64\n",
      "Bawang Putih Bonggol                        float64\n",
      "Cabai Merah Keriting                        float64\n",
      "Cabai Rawit Merah                           float64\n",
      "Daging Sapi Murni                           float64\n",
      "Daging Ayam Ras                             float64\n",
      "Telur Ayam Ras                              float64\n",
      "Gula Konsumsi                               float64\n",
      "Minyak Goreng Kemasan Sederhana             float64\n",
      "Tepung Terigu (Curah)                       float64\n",
      "Minyak Goreng Curah                         float64\n",
      "Jagung Tk Peternak                          float64\n",
      "Ikan Kembung                                float64\n",
      "Ikan Tongkol                                float64\n",
      "Ikan Bandeng                                float64\n",
      "Garam Halus Beryodium                       float64\n",
      "Tepung Terigu Kemasan (non-curah)           float64\n",
      "Beras SPHP                                  float64\n",
      "dtype: object\n",
      "tanggal                                 0\n",
      "Beras Premium                         176\n",
      "Beras Medium                          176\n",
      "Kedelai Biji Kering (Impor)           176\n",
      "Bawang Merah                          176\n",
      "Bawang Putih Bonggol                  176\n",
      "Cabai Merah Keriting                  176\n",
      "Cabai Rawit Merah                     176\n",
      "Daging Sapi Murni                     176\n",
      "Daging Ayam Ras                       176\n",
      "Telur Ayam Ras                        176\n",
      "Gula Konsumsi                         176\n",
      "Minyak Goreng Kemasan Sederhana       176\n",
      "Tepung Terigu (Curah)                 176\n",
      "Minyak Goreng Curah                   537\n",
      "Jagung Tk Peternak                    904\n",
      "Ikan Kembung                          729\n",
      "Ikan Tongkol                          809\n",
      "Ikan Bandeng                          809\n",
      "Garam Halus Beryodium                 809\n",
      "Tepung Terigu Kemasan (non-curah)     809\n",
      "Beras SPHP                           1208\n",
      "dtype: int64\n"
     ]
    },
    {
     "name": "stderr",
     "output_type": "stream",
     "text": [
      "C:\\Users\\ACER\\AppData\\Local\\Temp\\ipykernel_25584\\1358906317.py:12: FutureWarning: Downcasting behavior in `replace` is deprecated and will be removed in a future version. To retain the old behavior, explicitly call `result.infer_objects(copy=False)`. To opt-in to the future behavior, set `pd.set_option('future.no_silent_downcasting', True)`\n",
      "  df_transformed.replace([\"\", \"-\", \" \"], np.nan, inplace=True)\n"
     ]
    },
    {
     "data": {
      "text/html": [
       "<div>\n",
       "<style scoped>\n",
       "    .dataframe tbody tr th:only-of-type {\n",
       "        vertical-align: middle;\n",
       "    }\n",
       "\n",
       "    .dataframe tbody tr th {\n",
       "        vertical-align: top;\n",
       "    }\n",
       "\n",
       "    .dataframe thead th {\n",
       "        text-align: right;\n",
       "    }\n",
       "</style>\n",
       "<table border=\"1\" class=\"dataframe\">\n",
       "  <thead>\n",
       "    <tr style=\"text-align: right;\">\n",
       "      <th></th>\n",
       "      <th>tanggal</th>\n",
       "      <th>Beras Premium</th>\n",
       "      <th>Beras Medium</th>\n",
       "      <th>Kedelai Biji Kering (Impor)</th>\n",
       "      <th>Bawang Merah</th>\n",
       "      <th>Bawang Putih Bonggol</th>\n",
       "      <th>Cabai Merah Keriting</th>\n",
       "      <th>Cabai Rawit Merah</th>\n",
       "      <th>Daging Sapi Murni</th>\n",
       "      <th>Daging Ayam Ras</th>\n",
       "      <th>...</th>\n",
       "      <th>Minyak Goreng Kemasan Sederhana</th>\n",
       "      <th>Tepung Terigu (Curah)</th>\n",
       "      <th>Minyak Goreng Curah</th>\n",
       "      <th>Jagung Tk Peternak</th>\n",
       "      <th>Ikan Kembung</th>\n",
       "      <th>Ikan Tongkol</th>\n",
       "      <th>Ikan Bandeng</th>\n",
       "      <th>Garam Halus Beryodium</th>\n",
       "      <th>Tepung Terigu Kemasan (non-curah)</th>\n",
       "      <th>Beras SPHP</th>\n",
       "    </tr>\n",
       "  </thead>\n",
       "  <tbody>\n",
       "    <tr>\n",
       "      <th>0</th>\n",
       "      <td>2021-03-15</td>\n",
       "      <td>11500.0</td>\n",
       "      <td>9000.0</td>\n",
       "      <td>11000.0</td>\n",
       "      <td>28000.0</td>\n",
       "      <td>22000.0</td>\n",
       "      <td>50000.0</td>\n",
       "      <td>115000.0</td>\n",
       "      <td>120000.0</td>\n",
       "      <td>36000.0</td>\n",
       "      <td>...</td>\n",
       "      <td>14000.0</td>\n",
       "      <td>7000.0</td>\n",
       "      <td>NaN</td>\n",
       "      <td>NaN</td>\n",
       "      <td>NaN</td>\n",
       "      <td>NaN</td>\n",
       "      <td>NaN</td>\n",
       "      <td>NaN</td>\n",
       "      <td>NaN</td>\n",
       "      <td>NaN</td>\n",
       "    </tr>\n",
       "    <tr>\n",
       "      <th>1</th>\n",
       "      <td>2021-03-16</td>\n",
       "      <td>11500.0</td>\n",
       "      <td>9000.0</td>\n",
       "      <td>11000.0</td>\n",
       "      <td>28000.0</td>\n",
       "      <td>22000.0</td>\n",
       "      <td>50000.0</td>\n",
       "      <td>115000.0</td>\n",
       "      <td>120000.0</td>\n",
       "      <td>36000.0</td>\n",
       "      <td>...</td>\n",
       "      <td>14000.0</td>\n",
       "      <td>7000.0</td>\n",
       "      <td>NaN</td>\n",
       "      <td>NaN</td>\n",
       "      <td>NaN</td>\n",
       "      <td>NaN</td>\n",
       "      <td>NaN</td>\n",
       "      <td>NaN</td>\n",
       "      <td>NaN</td>\n",
       "      <td>NaN</td>\n",
       "    </tr>\n",
       "    <tr>\n",
       "      <th>2</th>\n",
       "      <td>2021-03-17</td>\n",
       "      <td>11500.0</td>\n",
       "      <td>9000.0</td>\n",
       "      <td>11000.0</td>\n",
       "      <td>28000.0</td>\n",
       "      <td>22000.0</td>\n",
       "      <td>50000.0</td>\n",
       "      <td>115000.0</td>\n",
       "      <td>120000.0</td>\n",
       "      <td>36000.0</td>\n",
       "      <td>...</td>\n",
       "      <td>14000.0</td>\n",
       "      <td>7000.0</td>\n",
       "      <td>NaN</td>\n",
       "      <td>NaN</td>\n",
       "      <td>NaN</td>\n",
       "      <td>NaN</td>\n",
       "      <td>NaN</td>\n",
       "      <td>NaN</td>\n",
       "      <td>NaN</td>\n",
       "      <td>NaN</td>\n",
       "    </tr>\n",
       "    <tr>\n",
       "      <th>3</th>\n",
       "      <td>2021-03-18</td>\n",
       "      <td>11500.0</td>\n",
       "      <td>9000.0</td>\n",
       "      <td>11000.0</td>\n",
       "      <td>28000.0</td>\n",
       "      <td>22000.0</td>\n",
       "      <td>50000.0</td>\n",
       "      <td>115000.0</td>\n",
       "      <td>120000.0</td>\n",
       "      <td>36000.0</td>\n",
       "      <td>...</td>\n",
       "      <td>14000.0</td>\n",
       "      <td>7000.0</td>\n",
       "      <td>NaN</td>\n",
       "      <td>NaN</td>\n",
       "      <td>NaN</td>\n",
       "      <td>NaN</td>\n",
       "      <td>NaN</td>\n",
       "      <td>NaN</td>\n",
       "      <td>NaN</td>\n",
       "      <td>NaN</td>\n",
       "    </tr>\n",
       "    <tr>\n",
       "      <th>4</th>\n",
       "      <td>2021-03-19</td>\n",
       "      <td>11500.0</td>\n",
       "      <td>9000.0</td>\n",
       "      <td>11000.0</td>\n",
       "      <td>28000.0</td>\n",
       "      <td>22000.0</td>\n",
       "      <td>50000.0</td>\n",
       "      <td>110000.0</td>\n",
       "      <td>120000.0</td>\n",
       "      <td>36000.0</td>\n",
       "      <td>...</td>\n",
       "      <td>14000.0</td>\n",
       "      <td>7000.0</td>\n",
       "      <td>NaN</td>\n",
       "      <td>NaN</td>\n",
       "      <td>NaN</td>\n",
       "      <td>NaN</td>\n",
       "      <td>NaN</td>\n",
       "      <td>NaN</td>\n",
       "      <td>NaN</td>\n",
       "      <td>NaN</td>\n",
       "    </tr>\n",
       "    <tr>\n",
       "      <th>...</th>\n",
       "      <td>...</td>\n",
       "      <td>...</td>\n",
       "      <td>...</td>\n",
       "      <td>...</td>\n",
       "      <td>...</td>\n",
       "      <td>...</td>\n",
       "      <td>...</td>\n",
       "      <td>...</td>\n",
       "      <td>...</td>\n",
       "      <td>...</td>\n",
       "      <td>...</td>\n",
       "      <td>...</td>\n",
       "      <td>...</td>\n",
       "      <td>...</td>\n",
       "      <td>...</td>\n",
       "      <td>...</td>\n",
       "      <td>...</td>\n",
       "      <td>...</td>\n",
       "      <td>...</td>\n",
       "      <td>...</td>\n",
       "      <td>...</td>\n",
       "    </tr>\n",
       "    <tr>\n",
       "      <th>1321</th>\n",
       "      <td>2024-10-26</td>\n",
       "      <td>16000.0</td>\n",
       "      <td>14000.0</td>\n",
       "      <td>10300.0</td>\n",
       "      <td>22000.0</td>\n",
       "      <td>35000.0</td>\n",
       "      <td>25000.0</td>\n",
       "      <td>35000.0</td>\n",
       "      <td>143000.0</td>\n",
       "      <td>37000.0</td>\n",
       "      <td>...</td>\n",
       "      <td>19000.0</td>\n",
       "      <td>9000.0</td>\n",
       "      <td>17000.0</td>\n",
       "      <td>5100.0</td>\n",
       "      <td>28000.0</td>\n",
       "      <td>28000.0</td>\n",
       "      <td>32000.0</td>\n",
       "      <td>10000.0</td>\n",
       "      <td>12000.0</td>\n",
       "      <td>12000.0</td>\n",
       "    </tr>\n",
       "    <tr>\n",
       "      <th>1322</th>\n",
       "      <td>2024-10-27</td>\n",
       "      <td>16000.0</td>\n",
       "      <td>14000.0</td>\n",
       "      <td>10300.0</td>\n",
       "      <td>22000.0</td>\n",
       "      <td>35000.0</td>\n",
       "      <td>25000.0</td>\n",
       "      <td>35000.0</td>\n",
       "      <td>143000.0</td>\n",
       "      <td>38000.0</td>\n",
       "      <td>...</td>\n",
       "      <td>19000.0</td>\n",
       "      <td>9000.0</td>\n",
       "      <td>17000.0</td>\n",
       "      <td>5100.0</td>\n",
       "      <td>28000.0</td>\n",
       "      <td>28000.0</td>\n",
       "      <td>32000.0</td>\n",
       "      <td>10000.0</td>\n",
       "      <td>12000.0</td>\n",
       "      <td>12000.0</td>\n",
       "    </tr>\n",
       "    <tr>\n",
       "      <th>1323</th>\n",
       "      <td>2024-10-28</td>\n",
       "      <td>NaN</td>\n",
       "      <td>NaN</td>\n",
       "      <td>NaN</td>\n",
       "      <td>NaN</td>\n",
       "      <td>NaN</td>\n",
       "      <td>NaN</td>\n",
       "      <td>NaN</td>\n",
       "      <td>NaN</td>\n",
       "      <td>NaN</td>\n",
       "      <td>...</td>\n",
       "      <td>NaN</td>\n",
       "      <td>NaN</td>\n",
       "      <td>NaN</td>\n",
       "      <td>NaN</td>\n",
       "      <td>NaN</td>\n",
       "      <td>NaN</td>\n",
       "      <td>NaN</td>\n",
       "      <td>NaN</td>\n",
       "      <td>NaN</td>\n",
       "      <td>NaN</td>\n",
       "    </tr>\n",
       "    <tr>\n",
       "      <th>1324</th>\n",
       "      <td>2024-10-29</td>\n",
       "      <td>16000.0</td>\n",
       "      <td>14000.0</td>\n",
       "      <td>10300.0</td>\n",
       "      <td>28000.0</td>\n",
       "      <td>35000.0</td>\n",
       "      <td>30000.0</td>\n",
       "      <td>40000.0</td>\n",
       "      <td>143000.0</td>\n",
       "      <td>38000.0</td>\n",
       "      <td>...</td>\n",
       "      <td>19000.0</td>\n",
       "      <td>9000.0</td>\n",
       "      <td>17000.0</td>\n",
       "      <td>5100.0</td>\n",
       "      <td>28000.0</td>\n",
       "      <td>28000.0</td>\n",
       "      <td>30000.0</td>\n",
       "      <td>10000.0</td>\n",
       "      <td>12000.0</td>\n",
       "      <td>12000.0</td>\n",
       "    </tr>\n",
       "    <tr>\n",
       "      <th>1325</th>\n",
       "      <td>2024-10-30</td>\n",
       "      <td>15000.0</td>\n",
       "      <td>13500.0</td>\n",
       "      <td>10300.0</td>\n",
       "      <td>28000.0</td>\n",
       "      <td>35000.0</td>\n",
       "      <td>30000.0</td>\n",
       "      <td>40000.0</td>\n",
       "      <td>143000.0</td>\n",
       "      <td>37000.0</td>\n",
       "      <td>...</td>\n",
       "      <td>19000.0</td>\n",
       "      <td>9000.0</td>\n",
       "      <td>17000.0</td>\n",
       "      <td>5100.0</td>\n",
       "      <td>30000.0</td>\n",
       "      <td>30000.0</td>\n",
       "      <td>33000.0</td>\n",
       "      <td>10000.0</td>\n",
       "      <td>12000.0</td>\n",
       "      <td>12000.0</td>\n",
       "    </tr>\n",
       "  </tbody>\n",
       "</table>\n",
       "<p>1326 rows × 22 columns</p>\n",
       "</div>"
      ],
      "text/plain": [
       "        tanggal  Beras Premium  Beras Medium  Kedelai Biji Kering (Impor)  \\\n",
       "0    2021-03-15        11500.0        9000.0                      11000.0   \n",
       "1    2021-03-16        11500.0        9000.0                      11000.0   \n",
       "2    2021-03-17        11500.0        9000.0                      11000.0   \n",
       "3    2021-03-18        11500.0        9000.0                      11000.0   \n",
       "4    2021-03-19        11500.0        9000.0                      11000.0   \n",
       "...         ...            ...           ...                          ...   \n",
       "1321 2024-10-26        16000.0       14000.0                      10300.0   \n",
       "1322 2024-10-27        16000.0       14000.0                      10300.0   \n",
       "1323 2024-10-28            NaN           NaN                          NaN   \n",
       "1324 2024-10-29        16000.0       14000.0                      10300.0   \n",
       "1325 2024-10-30        15000.0       13500.0                      10300.0   \n",
       "\n",
       "      Bawang Merah  Bawang Putih Bonggol  Cabai Merah Keriting  \\\n",
       "0          28000.0               22000.0               50000.0   \n",
       "1          28000.0               22000.0               50000.0   \n",
       "2          28000.0               22000.0               50000.0   \n",
       "3          28000.0               22000.0               50000.0   \n",
       "4          28000.0               22000.0               50000.0   \n",
       "...            ...                   ...                   ...   \n",
       "1321       22000.0               35000.0               25000.0   \n",
       "1322       22000.0               35000.0               25000.0   \n",
       "1323           NaN                   NaN                   NaN   \n",
       "1324       28000.0               35000.0               30000.0   \n",
       "1325       28000.0               35000.0               30000.0   \n",
       "\n",
       "      Cabai Rawit Merah  Daging Sapi Murni  Daging Ayam Ras  ...  \\\n",
       "0              115000.0           120000.0          36000.0  ...   \n",
       "1              115000.0           120000.0          36000.0  ...   \n",
       "2              115000.0           120000.0          36000.0  ...   \n",
       "3              115000.0           120000.0          36000.0  ...   \n",
       "4              110000.0           120000.0          36000.0  ...   \n",
       "...                 ...                ...              ...  ...   \n",
       "1321            35000.0           143000.0          37000.0  ...   \n",
       "1322            35000.0           143000.0          38000.0  ...   \n",
       "1323                NaN                NaN              NaN  ...   \n",
       "1324            40000.0           143000.0          38000.0  ...   \n",
       "1325            40000.0           143000.0          37000.0  ...   \n",
       "\n",
       "      Minyak Goreng Kemasan Sederhana  Tepung Terigu (Curah)  \\\n",
       "0                             14000.0                 7000.0   \n",
       "1                             14000.0                 7000.0   \n",
       "2                             14000.0                 7000.0   \n",
       "3                             14000.0                 7000.0   \n",
       "4                             14000.0                 7000.0   \n",
       "...                               ...                    ...   \n",
       "1321                          19000.0                 9000.0   \n",
       "1322                          19000.0                 9000.0   \n",
       "1323                              NaN                    NaN   \n",
       "1324                          19000.0                 9000.0   \n",
       "1325                          19000.0                 9000.0   \n",
       "\n",
       "      Minyak Goreng Curah  Jagung Tk Peternak  Ikan Kembung  Ikan Tongkol  \\\n",
       "0                     NaN                 NaN           NaN           NaN   \n",
       "1                     NaN                 NaN           NaN           NaN   \n",
       "2                     NaN                 NaN           NaN           NaN   \n",
       "3                     NaN                 NaN           NaN           NaN   \n",
       "4                     NaN                 NaN           NaN           NaN   \n",
       "...                   ...                 ...           ...           ...   \n",
       "1321              17000.0              5100.0       28000.0       28000.0   \n",
       "1322              17000.0              5100.0       28000.0       28000.0   \n",
       "1323                  NaN                 NaN           NaN           NaN   \n",
       "1324              17000.0              5100.0       28000.0       28000.0   \n",
       "1325              17000.0              5100.0       30000.0       30000.0   \n",
       "\n",
       "      Ikan Bandeng  Garam Halus Beryodium  Tepung Terigu Kemasan (non-curah)  \\\n",
       "0              NaN                    NaN                                NaN   \n",
       "1              NaN                    NaN                                NaN   \n",
       "2              NaN                    NaN                                NaN   \n",
       "3              NaN                    NaN                                NaN   \n",
       "4              NaN                    NaN                                NaN   \n",
       "...            ...                    ...                                ...   \n",
       "1321       32000.0                10000.0                            12000.0   \n",
       "1322       32000.0                10000.0                            12000.0   \n",
       "1323           NaN                    NaN                                NaN   \n",
       "1324       30000.0                10000.0                            12000.0   \n",
       "1325       33000.0                10000.0                            12000.0   \n",
       "\n",
       "      Beras SPHP  \n",
       "0            NaN  \n",
       "1            NaN  \n",
       "2            NaN  \n",
       "3            NaN  \n",
       "4            NaN  \n",
       "...          ...  \n",
       "1321     12000.0  \n",
       "1322     12000.0  \n",
       "1323         NaN  \n",
       "1324     12000.0  \n",
       "1325     12000.0  \n",
       "\n",
       "[1326 rows x 22 columns]"
      ]
     },
     "execution_count": 3,
     "metadata": {},
     "output_type": "execute_result"
    }
   ],
   "source": [
    "# Menambah label \"tanggal\" ke dalam list kolom\n",
    "kolom = [\"tanggal\"] + [x.strip() for x in df[\" Komoditas (Rp) \"]]\n",
    "\n",
    "# Ubah nama kolom pada df_transformed sesuai dengan kolom yang diinginkan\n",
    "df_transformed = df.set_index(\" Komoditas (Rp) \").T.reset_index()\n",
    "\n",
    "df_transformed.columns = kolom\n",
    "# mengubah tanggal menjadi tipe data tanggal\n",
    "df_transformed['tanggal'] = pd.to_datetime(df_transformed['tanggal'], format='%d/%m/%Y')\n",
    "\n",
    "# Mengganti nilai kosong atau tanda tertentu dengan NaN\n",
    "df_transformed.replace([\"\", \"-\", \" \"], np.nan, inplace=True)\n",
    "\n",
    "# Mengonversi kolom data (selain tanggal) menjadi float\n",
    "for col in df_transformed.columns[1:]:  # Mulai dari indeks 1 agar kolom 'tanggal' tidak diubah\n",
    "    df_transformed[col] = pd.to_numeric(df_transformed[col], errors='coerce') * 1000\n",
    "\n",
    "# Memeriksa apakah perubahan berhasil\n",
    "print(df_transformed.dtypes)\n",
    "print(df_transformed.isnull().sum())\n",
    "df_transformed"
   ]
  },
  {
   "cell_type": "code",
   "execution_count": 7,
   "id": "0889ed7a-1b36-4c06-b613-4108e06e8ecf",
   "metadata": {},
   "outputs": [
    {
     "data": {
      "text/html": [
       "<div>\n",
       "<style scoped>\n",
       "    .dataframe tbody tr th:only-of-type {\n",
       "        vertical-align: middle;\n",
       "    }\n",
       "\n",
       "    .dataframe tbody tr th {\n",
       "        vertical-align: top;\n",
       "    }\n",
       "\n",
       "    .dataframe thead th {\n",
       "        text-align: right;\n",
       "    }\n",
       "</style>\n",
       "<table border=\"1\" class=\"dataframe\">\n",
       "  <thead>\n",
       "    <tr style=\"text-align: right;\">\n",
       "      <th></th>\n",
       "      <th>3 Hari</th>\n",
       "      <th>Harga/3 hari</th>\n",
       "    </tr>\n",
       "  </thead>\n",
       "  <tbody>\n",
       "    <tr>\n",
       "      <th>0</th>\n",
       "      <td>1</td>\n",
       "      <td>28000.000000</td>\n",
       "    </tr>\n",
       "    <tr>\n",
       "      <th>1</th>\n",
       "      <td>2</td>\n",
       "      <td>27666.666667</td>\n",
       "    </tr>\n",
       "    <tr>\n",
       "      <th>2</th>\n",
       "      <td>3</td>\n",
       "      <td>27000.000000</td>\n",
       "    </tr>\n",
       "    <tr>\n",
       "      <th>3</th>\n",
       "      <td>4</td>\n",
       "      <td>29000.000000</td>\n",
       "    </tr>\n",
       "    <tr>\n",
       "      <th>4</th>\n",
       "      <td>5</td>\n",
       "      <td>30000.000000</td>\n",
       "    </tr>\n",
       "    <tr>\n",
       "      <th>...</th>\n",
       "      <td>...</td>\n",
       "      <td>...</td>\n",
       "    </tr>\n",
       "    <tr>\n",
       "      <th>437</th>\n",
       "      <td>438</td>\n",
       "      <td>22000.000000</td>\n",
       "    </tr>\n",
       "    <tr>\n",
       "      <th>438</th>\n",
       "      <td>439</td>\n",
       "      <td>22000.000000</td>\n",
       "    </tr>\n",
       "    <tr>\n",
       "      <th>439</th>\n",
       "      <td>440</td>\n",
       "      <td>22000.000000</td>\n",
       "    </tr>\n",
       "    <tr>\n",
       "      <th>440</th>\n",
       "      <td>441</td>\n",
       "      <td>22000.000000</td>\n",
       "    </tr>\n",
       "    <tr>\n",
       "      <th>441</th>\n",
       "      <td>442</td>\n",
       "      <td>27000.000000</td>\n",
       "    </tr>\n",
       "  </tbody>\n",
       "</table>\n",
       "<p>442 rows × 2 columns</p>\n",
       "</div>"
      ],
      "text/plain": [
       "     3 Hari  Harga/3 hari\n",
       "0         1  28000.000000\n",
       "1         2  27666.666667\n",
       "2         3  27000.000000\n",
       "3         4  29000.000000\n",
       "4         5  30000.000000\n",
       "..      ...           ...\n",
       "437     438  22000.000000\n",
       "438     439  22000.000000\n",
       "439     440  22000.000000\n",
       "440     441  22000.000000\n",
       "441     442  27000.000000\n",
       "\n",
       "[442 rows x 2 columns]"
      ]
     },
     "execution_count": 7,
     "metadata": {},
     "output_type": "execute_result"
    }
   ],
   "source": [
    "# Buat dataframe barang\n",
    "df_barang = pd.DataFrame()\n",
    "df_barang['tanggal'] = df_transformed['tanggal']\n",
    "df_barang['harga'] = df_transformed['Bawang Merah']\n",
    "\n",
    "# Isi null pada data\n",
    "df_barang['harga'] = df_barang['harga'].interpolate(method='linear').ffill()\n",
    "\n",
    "# Buat kolom minggu dari tanggal\n",
    "df_barang['3 Hari'] = (df_barang.index // 3) + 1\n",
    "\n",
    "#kelompokkan berdasarkan minggu\n",
    "weekly_data = df_barang.groupby(['3 Hari']).agg({\n",
    "    'harga': 'mean'  # Rata-rata harga per minggu\n",
    "}).reset_index()\n",
    "weekly_data.rename(columns={'harga': 'Harga/3 hari'}, inplace=True)\n",
    "\n",
    "weekly_data"
   ]
  },
  {
   "cell_type": "code",
   "execution_count": 8,
   "id": "87859486-b463-4b2f-a024-eaa04112efd7",
   "metadata": {},
   "outputs": [
    {
     "data": {
      "image/png": "[encoded data removed]",
      "text/plain": [
       "<Figure size 640x480 with 1 Axes>"
      ]
     },
     "metadata": {},
     "output_type": "display_data"
    }
   ],
   "source": [
    "plt.plot(weekly_data['Harga/3 hari'])\n",
    "plt.title('Harga berdasarkan Minggu')\n",
    "plt.grid(True)"
   ]
  },
  {
   "cell_type": "code",
   "execution_count": null,
   "id": "7e3f6cfd-6791-4c0f-8b7e-17e60d4074aa",
   "metadata": {},
   "outputs": [],
   "source": [
    "# weekly_data.to_csv(\"weekly_data.csv\", index=False)"
   ]
  },
  {
   "cell_type": "markdown",
   "id": "14139852-7e01-457d-a5e9-c7792bf2b739",
   "metadata": {},
   "source": [
    "## Data Preparation"
   ]
  },
  {
   "cell_type": "code",
   "execution_count": 9,
   "id": "e1e34c4c-856d-4700-ae43-0a3846ec4842",
   "metadata": {},
   "outputs": [
    {
     "data": {
      "text/plain": [
       "((442,), (442,))"
      ]
     },
     "execution_count": 9,
     "metadata": {},
     "output_type": "execute_result"
    }
   ],
   "source": [
    "week = np.array(weekly_data[\"3 Hari\"])\n",
    "series = np.array(weekly_data['Harga/3 hari'])\n",
    "week.shape, series.shape"
   ]
  },
  {
   "cell_type": "code",
   "execution_count": 10,
   "id": "468ea491-77cb-4180-b957-f5d4c349e59e",
   "metadata": {},
   "outputs": [],
   "source": [
    "def create_sequences(data, window_size):\n",
    "    X, y = [], []\n",
    "    for i in range(len(data) - window_size):\n",
    "        X.append(data[i:(i + window_size)])\n",
    "        y.append(data[i + window_size])\n",
    "    return np.array(X), np.array(y)"
   ]
  },
  {
   "cell_type": "code",
   "execution_count": 11,
   "id": "d6502105-0ac0-4cdf-9892-765fe5defd90",
   "metadata": {},
   "outputs": [],
   "source": [
    "def scaled_price(data):\n",
    "    return data/1000"
   ]
  },
  {
   "cell_type": "code",
   "execution_count": 12,
   "id": "be4ba358-f319-4df9-8828-f932215cb4f6",
   "metadata": {},
   "outputs": [],
   "source": [
    "# Model configuration\n",
    "window_size = 24\n",
    "\n",
    "scaled_series = scaled_price(series)\n",
    "\n",
    "X, y = create_sequences(scaled_series, window_size)"
   ]
  },
  {
   "cell_type": "code",
   "execution_count": 13,
   "id": "30ef7a5c-5d77-4c1e-a30a-80cc5a048128",
   "metadata": {},
   "outputs": [
    {
     "data": {
      "text/plain": [
       "((334, 24), (334,), (84, 24), (84,))"
      ]
     },
     "execution_count": 13,
     "metadata": {},
     "output_type": "execute_result"
    }
   ],
   "source": [
    "split_size1 = int(len(X) * 0.8)\n",
    "\n",
    "week_train = week[:split_size1]\n",
    "X_train = X[:split_size1]\n",
    "y_train = y[:split_size1]\n",
    "\n",
    "week_valid = week[split_size1:]\n",
    "X_val = X[split_size1:]\n",
    "y_val = y[split_size1:]\n",
    "X_train.shape, y_train.shape, X_val.shape, y_val.shape"
   ]
  },
  {
   "cell_type": "code",
   "execution_count": 14,
   "id": "c9f4f75a-bc95-4f76-ac9f-4110561cd60b",
   "metadata": {},
   "outputs": [
    {
     "data": {
      "image/png": "[encoded data removed]",
      "text/plain": [
       "<Figure size 1200x500 with 1 Axes>"
      ]
     },
     "metadata": {},
     "output_type": "display_data"
    }
   ],
   "source": [
    "plt.figure(figsize=(12, 5))\n",
    "plt.plot(np.arange(len(y_train)), y_train, label='Train', color='blue')\n",
    "plt.plot(np.arange(len(y_train), len(y_train) + len(y_val)), y_val, label='Validation', color='green')\n",
    "\n",
    "plt.xlabel('Index')\n",
    "plt.ylabel('Target Value')\n",
    "plt.legend()\n",
    "plt.title('Train, Validation, and Test Splits')\n",
    "plt.show()"
   ]
  },
  {
   "cell_type": "markdown",
   "id": "877a4d43-89ef-4e69-b6db-c45c782a6ef6",
   "metadata": {},
   "source": [
    "## Train Model"
   ]
  },
  {
   "cell_type": "markdown",
   "id": "121e6d5f-3e13-48f1-97bc-9f2dc9fd4cec",
   "metadata": {},
   "source": [
    "### Model 1"
   ]
  },
  {
   "cell_type": "code",
   "execution_count": 161,
   "id": "d5852ad4-0721-4353-8b85-2880c36101f6",
   "metadata": {},
   "outputs": [],
   "source": [
    "def create_model(window_size):\n",
    "    model = keras.Sequential([\n",
    "        Input(shape=(window_size, 1)),\n",
    "        Flatten(),\n",
    "        # Dense(64, activation='relu'),\n",
    "        Dense(128, activation='relu'),\n",
    "        Dense(32, activation='relu'),\n",
    "        Dense(1, activation='linear')\n",
    "    ])\n",
    "    return model"
   ]
  },
  {
   "cell_type": "code",
   "execution_count": 162,
   "id": "f15a6ca5-fae4-4932-b1ea-0c8ae524b042",
   "metadata": {},
   "outputs": [
    {
     "name": "stdout",
     "output_type": "stream",
     "text": [
      "Model: \"sequential_8\"\n",
      "_________________________________________________________________\n",
      " Layer (type)                Output Shape              Param #   \n",
      "=================================================================\n",
      " flatten_8 (Flatten)         (None, 24)                0         \n",
      "                                                                 \n",
      " dense_24 (Dense)            (None, 128)               3200      \n",
      "                                                                 \n",
      " dense_25 (Dense)            (None, 32)                4128      \n",
      "                                                                 \n",
      " dense_26 (Dense)            (None, 1)                 33        \n",
      "                                                                 \n",
      "=================================================================\n",
      "Total params: 7,361\n",
      "Trainable params: 7,361\n",
      "Non-trainable params: 0\n",
      "_________________________________________________________________\n"
     ]
    }
   ],
   "source": [
    "model_uncomplete = create_model(window_size)\n",
    "\n",
    "model_uncomplete.summary()"
   ]
  },
  {
   "cell_type": "markdown",
   "id": "6ce8f22a-e791-4773-804f-def5c9b51eef",
   "metadata": {},
   "source": [
    "### Find lr"
   ]
  },
  {
   "cell_type": "code",
   "execution_count": 163,
   "id": "e6267ea4-3a08-48d3-a161-5b8f092d46b0",
   "metadata": {},
   "outputs": [
    {
     "name": "stdout",
     "output_type": "stream",
     "text": [
      "Epoch 1/140\n",
      "84/84 [==============================] - 1s 3ms/step - loss: 19.9748 - val_loss: 18.6977 - lr: 1.0000e-08\n",
      "Epoch 2/140\n",
      "84/84 [==============================] - 0s 1ms/step - loss: 19.9686 - val_loss: 18.6914 - lr: 1.1220e-08\n",
      "Epoch 3/140\n",
      "84/84 [==============================] - 0s 1ms/step - loss: 19.9615 - val_loss: 18.6842 - lr: 1.2589e-08\n",
      "Epoch 4/140\n",
      "84/84 [==============================] - 0s 1ms/step - loss: 19.9537 - val_loss: 18.6766 - lr: 1.4125e-08\n",
      "Epoch 5/140\n",
      "84/84 [==============================] - 0s 1ms/step - loss: 19.9455 - val_loss: 18.6686 - lr: 1.5849e-08\n",
      "Epoch 6/140\n",
      "84/84 [==============================] - 0s 1ms/step - loss: 19.9369 - val_loss: 18.6600 - lr: 1.7783e-08\n",
      "Epoch 7/140\n",
      "84/84 [==============================] - 0s 1ms/step - loss: 19.9272 - val_loss: 18.6501 - lr: 1.9953e-08\n",
      "Epoch 8/140\n",
      "84/84 [==============================] - 0s 1ms/step - loss: 19.9161 - val_loss: 18.6386 - lr: 2.2387e-08\n",
      "Epoch 9/140\n",
      "84/84 [==============================] - 0s 1ms/step - loss: 19.9029 - val_loss: 18.6251 - lr: 2.5119e-08\n",
      "Epoch 10/140\n",
      "84/84 [==============================] - 0s 1ms/step - loss: 19.8879 - val_loss: 18.6098 - lr: 2.8184e-08\n",
      "Epoch 11/140\n",
      "84/84 [==============================] - 0s 1ms/step - loss: 19.8716 - val_loss: 18.5938 - lr: 3.1623e-08\n",
      "Epoch 12/140\n",
      "84/84 [==============================] - 0s 1ms/step - loss: 19.8539 - val_loss: 18.5760 - lr: 3.5481e-08\n",
      "Epoch 13/140\n",
      "84/84 [==============================] - 0s 1ms/step - loss: 19.8335 - val_loss: 18.5548 - lr: 3.9811e-08\n",
      "Epoch 14/140\n",
      "84/84 [==============================] - 0s 1ms/step - loss: 19.8102 - val_loss: 18.5315 - lr: 4.4668e-08\n",
      "Epoch 15/140\n",
      "84/84 [==============================] - 0s 1ms/step - loss: 19.7846 - val_loss: 18.5059 - lr: 5.0119e-08\n",
      "Epoch 16/140\n",
      "84/84 [==============================] - 0s 1ms/step - loss: 19.7557 - val_loss: 18.4760 - lr: 5.6234e-08\n",
      "Epoch 17/140\n",
      "84/84 [==============================] - 0s 1ms/step - loss: 19.7231 - val_loss: 18.4437 - lr: 6.3096e-08\n",
      "Epoch 18/140\n",
      "84/84 [==============================] - 0s 1ms/step - loss: 19.6867 - val_loss: 18.4066 - lr: 7.0795e-08\n",
      "Epoch 19/140\n",
      "84/84 [==============================] - 0s 1ms/step - loss: 19.6457 - val_loss: 18.3656 - lr: 7.9433e-08\n",
      "Epoch 20/140\n",
      "84/84 [==============================] - 0s 1ms/step - loss: 19.5998 - val_loss: 18.3189 - lr: 8.9125e-08\n",
      "Epoch 21/140\n",
      "84/84 [==============================] - 0s 1ms/step - loss: 19.5480 - val_loss: 18.2666 - lr: 1.0000e-07\n",
      "Epoch 22/140\n",
      "84/84 [==============================] - 0s 1ms/step - loss: 19.4899 - val_loss: 18.2078 - lr: 1.1220e-07\n",
      "Epoch 23/140\n",
      "84/84 [==============================] - 0s 1ms/step - loss: 19.4249 - val_loss: 18.1423 - lr: 1.2589e-07\n",
      "Epoch 24/140\n",
      "84/84 [==============================] - 0s 1ms/step - loss: 19.3519 - val_loss: 18.0679 - lr: 1.4125e-07\n",
      "Epoch 25/140\n",
      "84/84 [==============================] - 0s 1ms/step - loss: 19.2700 - val_loss: 17.9854 - lr: 1.5849e-07\n",
      "Epoch 26/140\n",
      "84/84 [==============================] - 0s 1ms/step - loss: 19.1782 - val_loss: 17.8925 - lr: 1.7783e-07\n",
      "Epoch 27/140\n",
      "84/84 [==============================] - 0s 1ms/step - loss: 19.0748 - val_loss: 17.7879 - lr: 1.9953e-07\n",
      "Epoch 28/140\n",
      "84/84 [==============================] - 0s 1ms/step - loss: 18.9588 - val_loss: 17.6696 - lr: 2.2387e-07\n",
      "Epoch 29/140\n",
      "84/84 [==============================] - 0s 1ms/step - loss: 18.8284 - val_loss: 17.5374 - lr: 2.5119e-07\n",
      "Epoch 30/140\n",
      "84/84 [==============================] - 0s 1ms/step - loss: 18.6817 - val_loss: 17.3883 - lr: 2.8184e-07\n",
      "Epoch 31/140\n",
      "84/84 [==============================] - 0s 1ms/step - loss: 18.5170 - val_loss: 17.2204 - lr: 3.1623e-07\n",
      "Epoch 32/140\n",
      "84/84 [==============================] - 0s 1ms/step - loss: 18.3317 - val_loss: 17.0328 - lr: 3.5481e-07\n",
      "Epoch 33/140\n",
      "84/84 [==============================] - 0s 1ms/step - loss: 18.1234 - val_loss: 16.8194 - lr: 3.9811e-07\n",
      "Epoch 34/140\n",
      "84/84 [==============================] - 0s 1ms/step - loss: 17.8896 - val_loss: 16.5811 - lr: 4.4668e-07\n",
      "Epoch 35/140\n",
      "84/84 [==============================] - 0s 1ms/step - loss: 17.6276 - val_loss: 16.3111 - lr: 5.0119e-07\n",
      "Epoch 36/140\n",
      "84/84 [==============================] - 0s 2ms/step - loss: 17.3324 - val_loss: 16.0083 - lr: 5.6234e-07\n",
      "Epoch 37/140\n",
      "84/84 [==============================] - 0s 1ms/step - loss: 17.0014 - val_loss: 15.6668 - lr: 6.3096e-07\n",
      "Epoch 38/140\n",
      "84/84 [==============================] - 0s 1ms/step - loss: 16.6286 - val_loss: 15.2836 - lr: 7.0795e-07\n",
      "Epoch 39/140\n",
      "84/84 [==============================] - 0s 1ms/step - loss: 16.2089 - val_loss: 14.8533 - lr: 7.9433e-07\n",
      "Epoch 40/140\n",
      "84/84 [==============================] - 0s 1ms/step - loss: 15.7367 - val_loss: 14.3691 - lr: 8.9125e-07\n",
      "Epoch 41/140\n",
      "84/84 [==============================] - 0s 1ms/step - loss: 15.2063 - val_loss: 13.8265 - lr: 1.0000e-06\n",
      "Epoch 42/140\n",
      "84/84 [==============================] - 0s 1ms/step - loss: 14.6088 - val_loss: 13.2164 - lr: 1.1220e-06\n",
      "Epoch 43/140\n",
      "84/84 [==============================] - 0s 1ms/step - loss: 13.9382 - val_loss: 12.5359 - lr: 1.2589e-06\n",
      "Epoch 44/140\n",
      "84/84 [==============================] - 0s 1ms/step - loss: 13.1838 - val_loss: 11.8000 - lr: 1.4125e-06\n",
      "Epoch 45/140\n",
      "84/84 [==============================] - 0s 1ms/step - loss: 12.3388 - val_loss: 11.0240 - lr: 1.5849e-06\n",
      "Epoch 46/140\n",
      "84/84 [==============================] - 0s 1ms/step - loss: 11.3980 - val_loss: 10.2166 - lr: 1.7783e-06\n",
      "Epoch 47/140\n",
      "84/84 [==============================] - 0s 1ms/step - loss: 10.3560 - val_loss: 9.3747 - lr: 1.9953e-06\n",
      "Epoch 48/140\n",
      "84/84 [==============================] - 0s 1ms/step - loss: 9.2181 - val_loss: 8.5894 - lr: 2.2387e-06\n",
      "Epoch 49/140\n",
      "84/84 [==============================] - 0s 1ms/step - loss: 8.0556 - val_loss: 7.8823 - lr: 2.5119e-06\n",
      "Epoch 50/140\n",
      "84/84 [==============================] - 0s 1ms/step - loss: 6.9410 - val_loss: 7.2267 - lr: 2.8184e-06\n",
      "Epoch 51/140\n",
      "84/84 [==============================] - 0s 1ms/step - loss: 5.8742 - val_loss: 6.7024 - lr: 3.1623e-06\n",
      "Epoch 52/140\n",
      "84/84 [==============================] - 0s 1ms/step - loss: 5.0374 - val_loss: 6.3558 - lr: 3.5481e-06\n",
      "Epoch 53/140\n",
      "84/84 [==============================] - 0s 1ms/step - loss: 4.5264 - val_loss: 6.1280 - lr: 3.9811e-06\n",
      "Epoch 54/140\n",
      "84/84 [==============================] - 0s 1ms/step - loss: 4.2325 - val_loss: 5.9681 - lr: 4.4668e-06\n",
      "Epoch 55/140\n",
      "84/84 [==============================] - 0s 1ms/step - loss: 4.0814 - val_loss: 5.8376 - lr: 5.0119e-06\n",
      "Epoch 56/140\n",
      "84/84 [==============================] - 0s 1ms/step - loss: 3.9784 - val_loss: 5.7137 - lr: 5.6234e-06\n",
      "Epoch 57/140\n",
      "84/84 [==============================] - 0s 1ms/step - loss: 3.8891 - val_loss: 5.5839 - lr: 6.3096e-06\n",
      "Epoch 58/140\n",
      "84/84 [==============================] - 0s 1ms/step - loss: 3.7870 - val_loss: 5.4292 - lr: 7.0795e-06\n",
      "Epoch 59/140\n",
      "84/84 [==============================] - 0s 1ms/step - loss: 3.6664 - val_loss: 5.2639 - lr: 7.9433e-06\n",
      "Epoch 60/140\n",
      "84/84 [==============================] - 0s 1ms/step - loss: 3.5338 - val_loss: 5.0672 - lr: 8.9125e-06\n",
      "Epoch 61/140\n",
      "84/84 [==============================] - 0s 1ms/step - loss: 3.3592 - val_loss: 4.7762 - lr: 1.0000e-05\n",
      "Epoch 62/140\n",
      "84/84 [==============================] - 0s 1ms/step - loss: 3.1347 - val_loss: 4.4667 - lr: 1.1220e-05\n",
      "Epoch 63/140\n",
      "84/84 [==============================] - 0s 1ms/step - loss: 2.9510 - val_loss: 4.1958 - lr: 1.2589e-05\n",
      "Epoch 64/140\n",
      "84/84 [==============================] - 0s 1ms/step - loss: 2.7829 - val_loss: 3.9282 - lr: 1.4125e-05\n",
      "Epoch 65/140\n",
      "84/84 [==============================] - 0s 1ms/step - loss: 2.6084 - val_loss: 3.6680 - lr: 1.5849e-05\n",
      "Epoch 66/140\n",
      "84/84 [==============================] - 0s 1ms/step - loss: 2.4566 - val_loss: 3.4134 - lr: 1.7783e-05\n",
      "Epoch 67/140\n",
      "84/84 [==============================] - 0s 1ms/step - loss: 2.3131 - val_loss: 3.1913 - lr: 1.9953e-05\n",
      "Epoch 68/140\n",
      "84/84 [==============================] - 0s 1ms/step - loss: 2.2122 - val_loss: 2.9975 - lr: 2.2387e-05\n",
      "Epoch 69/140\n",
      "84/84 [==============================] - 0s 1ms/step - loss: 2.1048 - val_loss: 2.8456 - lr: 2.5119e-05\n",
      "Epoch 70/140\n",
      "84/84 [==============================] - 0s 1ms/step - loss: 2.0164 - val_loss: 2.6894 - lr: 2.8184e-05\n",
      "Epoch 71/140\n",
      "84/84 [==============================] - 0s 1ms/step - loss: 1.9374 - val_loss: 2.6095 - lr: 3.1623e-05\n",
      "Epoch 72/140\n",
      "84/84 [==============================] - 0s 1ms/step - loss: 1.8478 - val_loss: 2.4307 - lr: 3.5481e-05\n",
      "Epoch 73/140\n",
      "84/84 [==============================] - 0s 1ms/step - loss: 1.7792 - val_loss: 2.4768 - lr: 3.9811e-05\n",
      "Epoch 74/140\n",
      "84/84 [==============================] - 0s 1ms/step - loss: 1.6999 - val_loss: 2.2570 - lr: 4.4668e-05\n",
      "Epoch 75/140\n",
      "84/84 [==============================] - 0s 1ms/step - loss: 1.6286 - val_loss: 2.3751 - lr: 5.0119e-05\n",
      "Epoch 76/140\n",
      "84/84 [==============================] - 0s 1ms/step - loss: 1.5305 - val_loss: 2.3496 - lr: 5.6234e-05\n",
      "Epoch 77/140\n",
      "84/84 [==============================] - 0s 1ms/step - loss: 1.4067 - val_loss: 1.8854 - lr: 6.3096e-05\n",
      "Epoch 78/140\n",
      "84/84 [==============================] - 0s 1ms/step - loss: 1.3063 - val_loss: 1.8648 - lr: 7.0795e-05\n",
      "Epoch 79/140\n",
      "84/84 [==============================] - 0s 1ms/step - loss: 1.2548 - val_loss: 1.8169 - lr: 7.9433e-05\n",
      "Epoch 80/140\n",
      "84/84 [==============================] - 0s 1ms/step - loss: 1.2396 - val_loss: 2.0625 - lr: 8.9125e-05\n",
      "Epoch 81/140\n",
      "84/84 [==============================] - 0s 1ms/step - loss: 1.2907 - val_loss: 1.7748 - lr: 1.0000e-04\n",
      "Epoch 82/140\n",
      "84/84 [==============================] - 0s 1ms/step - loss: 1.1785 - val_loss: 1.9005 - lr: 1.1220e-04\n",
      "Epoch 83/140\n",
      "84/84 [==============================] - 0s 1ms/step - loss: 1.1966 - val_loss: 1.6671 - lr: 1.2589e-04\n",
      "Epoch 84/140\n",
      "84/84 [==============================] - 0s 1ms/step - loss: 1.1686 - val_loss: 1.6825 - lr: 1.4125e-04\n",
      "Epoch 85/140\n",
      "84/84 [==============================] - 0s 1ms/step - loss: 1.1827 - val_loss: 1.7277 - lr: 1.5849e-04\n",
      "Epoch 86/140\n",
      "84/84 [==============================] - 0s 1ms/step - loss: 1.0520 - val_loss: 1.5838 - lr: 1.7783e-04\n",
      "Epoch 87/140\n",
      "84/84 [==============================] - 0s 1ms/step - loss: 1.1312 - val_loss: 1.5759 - lr: 1.9953e-04\n",
      "Epoch 88/140\n",
      "84/84 [==============================] - 0s 1ms/step - loss: 1.1185 - val_loss: 1.5816 - lr: 2.2387e-04\n",
      "Epoch 89/140\n",
      "84/84 [==============================] - 0s 1ms/step - loss: 1.1314 - val_loss: 1.4447 - lr: 2.5119e-04\n",
      "Epoch 90/140\n",
      "84/84 [==============================] - 0s 1ms/step - loss: 0.9676 - val_loss: 1.4754 - lr: 2.8184e-04\n",
      "Epoch 91/140\n",
      "84/84 [==============================] - 0s 1ms/step - loss: 1.1076 - val_loss: 1.3598 - lr: 3.1623e-04\n",
      "Epoch 92/140\n",
      "84/84 [==============================] - 0s 1ms/step - loss: 0.9398 - val_loss: 1.3228 - lr: 3.5481e-04\n",
      "Epoch 93/140\n",
      "84/84 [==============================] - 0s 1ms/step - loss: 1.0087 - val_loss: 1.2817 - lr: 3.9811e-04\n",
      "Epoch 94/140\n",
      "84/84 [==============================] - 0s 1ms/step - loss: 1.1126 - val_loss: 1.5629 - lr: 4.4668e-04\n",
      "Epoch 95/140\n",
      "84/84 [==============================] - 0s 1ms/step - loss: 1.0743 - val_loss: 2.1747 - lr: 5.0119e-04\n",
      "Epoch 96/140\n",
      "84/84 [==============================] - 0s 1ms/step - loss: 1.1132 - val_loss: 1.8567 - lr: 5.6234e-04\n",
      "Epoch 97/140\n",
      "84/84 [==============================] - 0s 1ms/step - loss: 1.3817 - val_loss: 1.3698 - lr: 6.3096e-04\n",
      "Epoch 98/140\n",
      "84/84 [==============================] - 0s 2ms/step - loss: 1.0320 - val_loss: 1.5216 - lr: 7.0795e-04\n",
      "Epoch 99/140\n",
      "84/84 [==============================] - 0s 1ms/step - loss: 1.0295 - val_loss: 1.2425 - lr: 7.9433e-04\n",
      "Epoch 100/140\n",
      "84/84 [==============================] - 0s 1ms/step - loss: 1.3153 - val_loss: 1.9041 - lr: 8.9125e-04\n",
      "Epoch 101/140\n",
      "84/84 [==============================] - 0s 1ms/step - loss: 1.2213 - val_loss: 1.1953 - lr: 0.0010\n",
      "Epoch 102/140\n",
      "84/84 [==============================] - 0s 1ms/step - loss: 1.5359 - val_loss: 1.6145 - lr: 0.0011\n",
      "Epoch 103/140\n",
      "84/84 [==============================] - 0s 1ms/step - loss: 1.2949 - val_loss: 1.3021 - lr: 0.0013\n",
      "Epoch 104/140\n",
      "84/84 [==============================] - 0s 1ms/step - loss: 1.1441 - val_loss: 1.5030 - lr: 0.0014\n",
      "Epoch 105/140\n",
      "84/84 [==============================] - 0s 1ms/step - loss: 1.2188 - val_loss: 1.1676 - lr: 0.0016\n",
      "Epoch 106/140\n",
      "84/84 [==============================] - 0s 1ms/step - loss: 1.4708 - val_loss: 1.5714 - lr: 0.0018\n",
      "Epoch 107/140\n",
      "84/84 [==============================] - 0s 1ms/step - loss: 2.2097 - val_loss: 1.4480 - lr: 0.0020\n",
      "Epoch 108/140\n",
      "84/84 [==============================] - 0s 1ms/step - loss: 1.3045 - val_loss: 1.1935 - lr: 0.0022\n",
      "Epoch 109/140\n",
      "84/84 [==============================] - 0s 1ms/step - loss: 1.2905 - val_loss: 1.8728 - lr: 0.0025\n",
      "Epoch 110/140\n",
      "84/84 [==============================] - 0s 1ms/step - loss: 1.0384 - val_loss: 1.8880 - lr: 0.0028\n",
      "Epoch 111/140\n",
      "84/84 [==============================] - 0s 1ms/step - loss: 1.5532 - val_loss: 1.6685 - lr: 0.0032\n",
      "Epoch 112/140\n",
      "84/84 [==============================] - 0s 1ms/step - loss: 1.3796 - val_loss: 1.6178 - lr: 0.0035\n",
      "Epoch 113/140\n",
      "84/84 [==============================] - 0s 1ms/step - loss: 1.5420 - val_loss: 2.0847 - lr: 0.0040\n",
      "Epoch 114/140\n",
      "84/84 [==============================] - 0s 1ms/step - loss: 2.2833 - val_loss: 2.2750 - lr: 0.0045\n",
      "Epoch 115/140\n",
      "84/84 [==============================] - 0s 1ms/step - loss: 1.2413 - val_loss: 1.5381 - lr: 0.0050\n",
      "Epoch 116/140\n",
      "84/84 [==============================] - 0s 1ms/step - loss: 1.4321 - val_loss: 1.4054 - lr: 0.0056\n",
      "Epoch 117/140\n",
      "84/84 [==============================] - 0s 1ms/step - loss: 1.8305 - val_loss: 2.8042 - lr: 0.0063\n",
      "Epoch 118/140\n",
      "84/84 [==============================] - 0s 1ms/step - loss: 1.5025 - val_loss: 1.8132 - lr: 0.0071\n",
      "Epoch 119/140\n",
      "84/84 [==============================] - 0s 1ms/step - loss: 2.4475 - val_loss: 2.6552 - lr: 0.0079\n",
      "Epoch 120/140\n",
      "84/84 [==============================] - 0s 1ms/step - loss: 2.0283 - val_loss: 1.9153 - lr: 0.0089\n",
      "Epoch 121/140\n",
      "84/84 [==============================] - 0s 1ms/step - loss: 1.3360 - val_loss: 1.3770 - lr: 0.0100\n",
      "Epoch 122/140\n",
      "84/84 [==============================] - 0s 1ms/step - loss: 1.9335 - val_loss: 1.9410 - lr: 0.0112\n",
      "Epoch 123/140\n",
      "84/84 [==============================] - 0s 1ms/step - loss: 1.4596 - val_loss: 1.7451 - lr: 0.0126\n",
      "Epoch 124/140\n",
      "84/84 [==============================] - 0s 1ms/step - loss: 1.6380 - val_loss: 1.7474 - lr: 0.0141\n",
      "Epoch 125/140\n",
      "84/84 [==============================] - 0s 1ms/step - loss: 2.0716 - val_loss: 1.6451 - lr: 0.0158\n",
      "Epoch 126/140\n",
      "84/84 [==============================] - 0s 1ms/step - loss: 1.4556 - val_loss: 1.8493 - lr: 0.0178\n",
      "Epoch 127/140\n",
      "84/84 [==============================] - 0s 1ms/step - loss: 1.8950 - val_loss: 4.0979 - lr: 0.0200\n",
      "Epoch 128/140\n",
      "84/84 [==============================] - 0s 1ms/step - loss: 2.9351 - val_loss: 2.9391 - lr: 0.0224\n",
      "Epoch 129/140\n",
      "84/84 [==============================] - 0s 1ms/step - loss: 2.7485 - val_loss: 2.7063 - lr: 0.0251\n",
      "Epoch 130/140\n",
      "84/84 [==============================] - 0s 1ms/step - loss: 2.6856 - val_loss: 1.4918 - lr: 0.0282\n",
      "Epoch 131/140\n",
      "84/84 [==============================] - 0s 1ms/step - loss: 1.8834 - val_loss: 2.9342 - lr: 0.0316\n",
      "Epoch 132/140\n",
      "84/84 [==============================] - 0s 1ms/step - loss: 2.3925 - val_loss: 2.0094 - lr: 0.0355\n",
      "Epoch 133/140\n",
      "84/84 [==============================] - 0s 1ms/step - loss: 2.8637 - val_loss: 1.7017 - lr: 0.0398\n",
      "Epoch 134/140\n",
      "84/84 [==============================] - 0s 1ms/step - loss: 2.4050 - val_loss: 2.1803 - lr: 0.0447\n",
      "Epoch 135/140\n",
      "84/84 [==============================] - 0s 1ms/step - loss: 3.6760 - val_loss: 2.0633 - lr: 0.0501\n",
      "Epoch 136/140\n",
      "84/84 [==============================] - 0s 1ms/step - loss: 2.2397 - val_loss: 1.3547 - lr: 0.0562\n",
      "Epoch 137/140\n",
      "84/84 [==============================] - 0s 1ms/step - loss: 1.9044 - val_loss: 1.4391 - lr: 0.0631\n",
      "Epoch 138/140\n",
      "84/84 [==============================] - 0s 1ms/step - loss: 1.7566 - val_loss: 3.2063 - lr: 0.0708\n",
      "Epoch 139/140\n",
      "84/84 [==============================] - 0s 1ms/step - loss: 2.5113 - val_loss: 2.7439 - lr: 0.0794\n",
      "Epoch 140/140\n",
      "84/84 [==============================] - 0s 1ms/step - loss: 2.1271 - val_loss: 1.6334 - lr: 0.0891\n"
     ]
    }
   ],
   "source": [
    "# Set the learning rate scheduler\n",
    "lr_schedule = tf.keras.callbacks.LearningRateScheduler(\n",
    "    lambda epoch: 1e-8 * 10**(epoch / 20))\n",
    "\n",
    "# Initialize the optimizer\n",
    "optimizer = tf.keras.optimizers.Adam()\n",
    "\n",
    "# Set the training parameters\n",
    "model_uncomplete.compile(loss=tf.keras.losses.Huber(), optimizer=optimizer)\n",
    "\n",
    "# Train the model\n",
    "history = model_uncomplete.fit(X_train, y_train, validation_data=(X_val, y_val), epochs=140, batch_size=4, callbacks=[lr_schedule])"
   ]
  },
  {
   "cell_type": "code",
   "execution_count": 164,
   "id": "5e4fa6cc-894c-4c06-bb28-63b13647973d",
   "metadata": {},
   "outputs": [
    {
     "data": {
      "image/png": "[encoded data removed]",
      "text/plain": [
       "<Figure size 1000x600 with 1 Axes>"
      ]
     },
     "metadata": {},
     "output_type": "display_data"
    }
   ],
   "source": [
    "# Define the learning rate array\n",
    "lrs = 1e-8 * (10 ** (np.arange(140) / 20))\n",
    "\n",
    "# Set the figure size\n",
    "plt.figure(figsize=(10, 6))\n",
    "\n",
    "# Set the grid\n",
    "plt.grid(True)\n",
    "\n",
    "# Plot the loss in log scale\n",
    "plt.semilogx(lrs, history.history[\"loss\"])\n",
    "\n",
    "# Increase the tickmarks size\n",
    "plt.tick_params('both', length=10, width=1, which='both')\n",
    "\n",
    "# Set the plot boundaries\n",
    "# plt.axis([1e-8, 1e-3, 0, 50])"
   ]
  },
  {
   "cell_type": "markdown",
   "id": "1781ad40-8686-4314-91ee-ff3a194cfb6e",
   "metadata": {},
   "source": [
    "### fit model 1"
   ]
  },
  {
   "cell_type": "code",
   "execution_count": 23,
   "id": "30a57025-c2ed-4312-82d8-a2b2e29038cc",
   "metadata": {},
   "outputs": [],
   "source": [
    "def custom_mape(y_true, y_pred):\n",
    "    return tf.reduce_mean(tf.abs((y_true - y_pred) / y_true)) * 100"
   ]
  },
  {
   "cell_type": "code",
   "execution_count": 168,
   "id": "725267d3-2d64-4a20-b456-ee37033d92b0",
   "metadata": {},
   "outputs": [],
   "source": [
    "class myCallback(tf.keras.callbacks.Callback):\n",
    "    def on_epoch_end(self, epoch, logs=None):\n",
    "        # Check the loss\n",
    "        if logs['val_loss'] < 0.9:\n",
    "            # Stop if threshold is met\n",
    "            print(\"\\Validation loss is lower than 0.9 so cancelling training!\")\n",
    "            self.model.stop_training = True"
   ]
  },
  {
   "cell_type": "code",
   "execution_count": 183,
   "id": "f09f5b80-3f93-4882-8ff4-fdcc8d50d2f5",
   "metadata": {},
   "outputs": [],
   "source": [
    "# Training Parameters\n",
    "model = create_model(window_size)\n",
    "optimizer = tf.keras.optimizers.Adam(learning_rate=0.0016)\n",
    "model.compile(optimizer=optimizer, loss=tf.keras.losses.Huber(), metrics=[custom_mape])"
   ]
  },
  {
   "cell_type": "code",
   "execution_count": 184,
   "id": "83a7ce80-ab2c-4463-95c4-468b58d306e0",
   "metadata": {},
   "outputs": [
    {
     "name": "stdout",
     "output_type": "stream",
     "text": [
      "Epoch 1/500\n",
      "14/14 [==============================] - 1s 13ms/step - loss: 3.9752 - custom_mape: 15.5048 - val_loss: 3.4442 - val_custom_mape: 13.8680\n",
      "Epoch 2/500\n",
      "14/14 [==============================] - 0s 3ms/step - loss: 3.1453 - custom_mape: 12.2725 - val_loss: 3.4760 - val_custom_mape: 13.8670\n",
      "Epoch 3/500\n",
      "14/14 [==============================] - 0s 3ms/step - loss: 2.4374 - custom_mape: 10.1122 - val_loss: 2.6782 - val_custom_mape: 11.2983\n",
      "Epoch 4/500\n",
      "14/14 [==============================] - 0s 3ms/step - loss: 2.1756 - custom_mape: 9.1108 - val_loss: 2.4130 - val_custom_mape: 10.1275\n",
      "Epoch 5/500\n",
      "14/14 [==============================] - 0s 3ms/step - loss: 1.8888 - custom_mape: 8.0907 - val_loss: 2.3268 - val_custom_mape: 9.8542\n",
      "Epoch 6/500\n",
      "14/14 [==============================] - 0s 3ms/step - loss: 1.7413 - custom_mape: 7.5220 - val_loss: 2.2000 - val_custom_mape: 9.3332\n",
      "Epoch 7/500\n",
      "14/14 [==============================] - 0s 3ms/step - loss: 1.6596 - custom_mape: 7.2623 - val_loss: 2.3411 - val_custom_mape: 9.8759\n",
      "Epoch 8/500\n",
      "14/14 [==============================] - 0s 3ms/step - loss: 1.5269 - custom_mape: 6.8323 - val_loss: 2.5912 - val_custom_mape: 10.6633\n",
      "Epoch 9/500\n",
      "14/14 [==============================] - 0s 3ms/step - loss: 1.5994 - custom_mape: 7.0953 - val_loss: 1.9932 - val_custom_mape: 8.6191\n",
      "Epoch 10/500\n",
      "14/14 [==============================] - 0s 3ms/step - loss: 1.4153 - custom_mape: 6.3981 - val_loss: 1.9965 - val_custom_mape: 8.8993\n",
      "Epoch 11/500\n",
      "14/14 [==============================] - 0s 3ms/step - loss: 1.4763 - custom_mape: 6.6601 - val_loss: 2.4332 - val_custom_mape: 10.1894\n",
      "Epoch 12/500\n",
      "14/14 [==============================] - 0s 3ms/step - loss: 1.3033 - custom_mape: 6.0331 - val_loss: 2.2009 - val_custom_mape: 9.3302\n",
      "Epoch 13/500\n",
      "14/14 [==============================] - 0s 3ms/step - loss: 1.4197 - custom_mape: 6.4748 - val_loss: 2.0271 - val_custom_mape: 9.1997\n",
      "Epoch 14/500\n",
      "14/14 [==============================] - 0s 3ms/step - loss: 1.4977 - custom_mape: 6.7168 - val_loss: 1.9600 - val_custom_mape: 8.4279\n",
      "Epoch 15/500\n",
      "14/14 [==============================] - 0s 3ms/step - loss: 1.2359 - custom_mape: 5.7578 - val_loss: 1.7041 - val_custom_mape: 7.6022\n",
      "Epoch 16/500\n",
      "14/14 [==============================] - 0s 3ms/step - loss: 1.1208 - custom_mape: 5.3216 - val_loss: 1.7134 - val_custom_mape: 7.6964\n",
      "Epoch 17/500\n",
      "14/14 [==============================] - 0s 7ms/step - loss: 1.3116 - custom_mape: 6.1412 - val_loss: 1.6780 - val_custom_mape: 7.5037\n",
      "Epoch 18/500\n",
      "14/14 [==============================] - 0s 5ms/step - loss: 1.1309 - custom_mape: 5.3375 - val_loss: 1.7849 - val_custom_mape: 7.7526\n",
      "Epoch 19/500\n",
      "14/14 [==============================] - 0s 4ms/step - loss: 1.0983 - custom_mape: 5.3456 - val_loss: 1.5527 - val_custom_mape: 6.9379\n",
      "Epoch 20/500\n",
      "14/14 [==============================] - 0s 3ms/step - loss: 1.0697 - custom_mape: 5.1713 - val_loss: 1.5793 - val_custom_mape: 7.0683\n",
      "Epoch 21/500\n",
      "14/14 [==============================] - 0s 3ms/step - loss: 1.2491 - custom_mape: 5.8339 - val_loss: 1.5536 - val_custom_mape: 6.9879\n",
      "Epoch 22/500\n",
      "14/14 [==============================] - 0s 3ms/step - loss: 1.1128 - custom_mape: 5.4005 - val_loss: 1.4687 - val_custom_mape: 6.6015\n",
      "Epoch 23/500\n",
      "14/14 [==============================] - 0s 4ms/step - loss: 1.2012 - custom_mape: 5.6982 - val_loss: 1.7127 - val_custom_mape: 7.7088\n",
      "Epoch 24/500\n",
      "14/14 [==============================] - 0s 4ms/step - loss: 1.0706 - custom_mape: 5.1194 - val_loss: 1.4665 - val_custom_mape: 6.6311\n",
      "Epoch 25/500\n",
      "14/14 [==============================] - 0s 4ms/step - loss: 1.0656 - custom_mape: 5.1713 - val_loss: 1.7271 - val_custom_mape: 7.8846\n",
      "Epoch 26/500\n",
      "14/14 [==============================] - 0s 3ms/step - loss: 1.3168 - custom_mape: 6.1338 - val_loss: 1.6492 - val_custom_mape: 7.4194\n",
      "Epoch 27/500\n",
      "14/14 [==============================] - 0s 3ms/step - loss: 1.0552 - custom_mape: 5.1699 - val_loss: 1.5431 - val_custom_mape: 6.9484\n",
      "Epoch 28/500\n",
      "14/14 [==============================] - 0s 3ms/step - loss: 0.9654 - custom_mape: 4.6770 - val_loss: 1.7506 - val_custom_mape: 7.9941\n",
      "Epoch 29/500\n",
      "14/14 [==============================] - 0s 3ms/step - loss: 0.9942 - custom_mape: 4.9619 - val_loss: 1.4065 - val_custom_mape: 6.3817\n",
      "Epoch 30/500\n",
      "14/14 [==============================] - 0s 3ms/step - loss: 0.9380 - custom_mape: 4.6842 - val_loss: 1.4037 - val_custom_mape: 6.3590\n",
      "Epoch 31/500\n",
      "14/14 [==============================] - 0s 3ms/step - loss: 0.8802 - custom_mape: 4.3159 - val_loss: 1.3545 - val_custom_mape: 6.0740\n",
      "Epoch 32/500\n",
      "14/14 [==============================] - 0s 3ms/step - loss: 0.9761 - custom_mape: 4.7214 - val_loss: 1.6238 - val_custom_mape: 7.4787\n",
      "Epoch 33/500\n",
      "14/14 [==============================] - 0s 3ms/step - loss: 0.8663 - custom_mape: 4.3707 - val_loss: 1.4996 - val_custom_mape: 6.8641\n",
      "Epoch 34/500\n",
      "14/14 [==============================] - 0s 3ms/step - loss: 0.9319 - custom_mape: 4.6215 - val_loss: 1.3818 - val_custom_mape: 6.2719\n",
      "Epoch 35/500\n",
      "14/14 [==============================] - 0s 3ms/step - loss: 0.8164 - custom_mape: 4.1541 - val_loss: 1.5104 - val_custom_mape: 6.9987\n",
      "Epoch 36/500\n",
      "14/14 [==============================] - 0s 4ms/step - loss: 0.7758 - custom_mape: 3.9669 - val_loss: 1.2946 - val_custom_mape: 5.7629\n",
      "Epoch 37/500\n",
      "14/14 [==============================] - 0s 3ms/step - loss: 0.7628 - custom_mape: 3.9252 - val_loss: 1.2710 - val_custom_mape: 5.6555\n",
      "Epoch 38/500\n",
      "14/14 [==============================] - 0s 3ms/step - loss: 0.9004 - custom_mape: 4.5120 - val_loss: 1.3045 - val_custom_mape: 5.9313\n",
      "Epoch 39/500\n",
      "14/14 [==============================] - 0s 3ms/step - loss: 0.7839 - custom_mape: 4.0517 - val_loss: 1.4154 - val_custom_mape: 6.5450\n",
      "Epoch 40/500\n",
      "14/14 [==============================] - 0s 4ms/step - loss: 1.0513 - custom_mape: 5.1676 - val_loss: 1.3145 - val_custom_mape: 6.0764\n",
      "Epoch 41/500\n",
      "14/14 [==============================] - 0s 4ms/step - loss: 0.7415 - custom_mape: 3.7955 - val_loss: 1.4781 - val_custom_mape: 6.8599\n",
      "Epoch 42/500\n",
      "14/14 [==============================] - 0s 4ms/step - loss: 1.0920 - custom_mape: 5.2991 - val_loss: 1.9544 - val_custom_mape: 8.9085\n",
      "Epoch 43/500\n",
      "14/14 [==============================] - 0s 3ms/step - loss: 1.3391 - custom_mape: 6.2134 - val_loss: 1.4877 - val_custom_mape: 6.8600\n",
      "Epoch 44/500\n",
      "14/14 [==============================] - 0s 3ms/step - loss: 0.9741 - custom_mape: 4.8962 - val_loss: 1.2411 - val_custom_mape: 5.5927\n",
      "Epoch 45/500\n",
      "14/14 [==============================] - 0s 3ms/step - loss: 0.7952 - custom_mape: 4.0404 - val_loss: 1.3153 - val_custom_mape: 6.0257\n",
      "Epoch 46/500\n",
      "14/14 [==============================] - 0s 3ms/step - loss: 0.8346 - custom_mape: 4.2745 - val_loss: 1.4116 - val_custom_mape: 6.5485\n",
      "Epoch 47/500\n",
      "14/14 [==============================] - 0s 3ms/step - loss: 0.8357 - custom_mape: 4.2836 - val_loss: 1.4176 - val_custom_mape: 6.6427\n",
      "Epoch 48/500\n",
      "14/14 [==============================] - 0s 3ms/step - loss: 0.8510 - custom_mape: 4.3325 - val_loss: 1.4475 - val_custom_mape: 6.8238\n",
      "Epoch 49/500\n",
      "14/14 [==============================] - 0s 3ms/step - loss: 0.7013 - custom_mape: 3.6556 - val_loss: 1.2082 - val_custom_mape: 5.4339\n",
      "Epoch 50/500\n",
      "14/14 [==============================] - 0s 4ms/step - loss: 0.7601 - custom_mape: 3.9034 - val_loss: 1.2070 - val_custom_mape: 5.5903\n",
      "Epoch 51/500\n",
      "14/14 [==============================] - 0s 3ms/step - loss: 0.7220 - custom_mape: 3.6991 - val_loss: 1.2992 - val_custom_mape: 6.0148\n",
      "Epoch 52/500\n",
      "14/14 [==============================] - 0s 4ms/step - loss: 0.6828 - custom_mape: 3.5351 - val_loss: 1.2156 - val_custom_mape: 5.5659\n",
      "Epoch 53/500\n",
      "14/14 [==============================] - 0s 4ms/step - loss: 0.6451 - custom_mape: 3.3230 - val_loss: 1.3073 - val_custom_mape: 6.1507\n",
      "Epoch 54/500\n",
      "14/14 [==============================] - 0s 3ms/step - loss: 0.6574 - custom_mape: 3.4270 - val_loss: 1.1586 - val_custom_mape: 5.2162\n",
      "Epoch 55/500\n",
      "14/14 [==============================] - 0s 3ms/step - loss: 0.7177 - custom_mape: 3.7492 - val_loss: 1.4406 - val_custom_mape: 6.8106\n",
      "Epoch 56/500\n",
      "14/14 [==============================] - 0s 3ms/step - loss: 0.7821 - custom_mape: 4.0966 - val_loss: 1.1815 - val_custom_mape: 5.3809\n",
      "Epoch 57/500\n",
      "14/14 [==============================] - 0s 3ms/step - loss: 0.7293 - custom_mape: 3.7634 - val_loss: 1.1577 - val_custom_mape: 5.1766\n",
      "Epoch 58/500\n",
      "14/14 [==============================] - 0s 3ms/step - loss: 0.6592 - custom_mape: 3.5023 - val_loss: 1.1743 - val_custom_mape: 5.3853\n",
      "Epoch 59/500\n",
      "14/14 [==============================] - 0s 3ms/step - loss: 0.7453 - custom_mape: 3.9122 - val_loss: 1.3260 - val_custom_mape: 6.2041\n",
      "Epoch 60/500\n",
      "14/14 [==============================] - 0s 3ms/step - loss: 0.8150 - custom_mape: 4.2175 - val_loss: 1.1886 - val_custom_mape: 5.5097\n",
      "Epoch 61/500\n",
      "14/14 [==============================] - 0s 4ms/step - loss: 0.7452 - custom_mape: 3.9681 - val_loss: 1.2758 - val_custom_mape: 5.9560\n",
      "Epoch 62/500\n",
      "14/14 [==============================] - 0s 4ms/step - loss: 0.8815 - custom_mape: 4.5406 - val_loss: 1.3962 - val_custom_mape: 6.5353\n",
      "Epoch 63/500\n",
      "14/14 [==============================] - 0s 3ms/step - loss: 0.8829 - custom_mape: 4.5654 - val_loss: 1.2563 - val_custom_mape: 5.8534\n",
      "Epoch 64/500\n",
      "14/14 [==============================] - 0s 3ms/step - loss: 0.7389 - custom_mape: 3.8862 - val_loss: 1.1670 - val_custom_mape: 5.3714\n",
      "Epoch 65/500\n",
      "14/14 [==============================] - 0s 3ms/step - loss: 0.6626 - custom_mape: 3.5260 - val_loss: 1.2051 - val_custom_mape: 5.6085\n",
      "Epoch 66/500\n",
      "14/14 [==============================] - 0s 4ms/step - loss: 0.7514 - custom_mape: 3.9176 - val_loss: 1.2525 - val_custom_mape: 5.8861\n",
      "Epoch 67/500\n",
      "14/14 [==============================] - 0s 4ms/step - loss: 0.7013 - custom_mape: 3.7242 - val_loss: 1.1352 - val_custom_mape: 5.1664\n",
      "Epoch 68/500\n",
      "14/14 [==============================] - 0s 3ms/step - loss: 0.7164 - custom_mape: 3.7990 - val_loss: 1.1240 - val_custom_mape: 5.0876\n",
      "Epoch 69/500\n",
      "14/14 [==============================] - 0s 3ms/step - loss: 0.7811 - custom_mape: 4.0448 - val_loss: 1.1687 - val_custom_mape: 5.4320\n",
      "Epoch 70/500\n",
      "14/14 [==============================] - 0s 3ms/step - loss: 0.7945 - custom_mape: 4.1782 - val_loss: 1.2118 - val_custom_mape: 5.6884\n",
      "Epoch 71/500\n",
      "14/14 [==============================] - 0s 3ms/step - loss: 0.7887 - custom_mape: 4.1296 - val_loss: 1.1421 - val_custom_mape: 5.1923\n",
      "Epoch 72/500\n",
      "14/14 [==============================] - 0s 9ms/step - loss: 0.7387 - custom_mape: 3.9451 - val_loss: 1.2668 - val_custom_mape: 5.9515\n",
      "Epoch 73/500\n",
      "14/14 [==============================] - 0s 6ms/step - loss: 0.7440 - custom_mape: 3.9049 - val_loss: 1.1443 - val_custom_mape: 5.3775\n",
      "Epoch 74/500\n",
      "14/14 [==============================] - 0s 3ms/step - loss: 0.6375 - custom_mape: 3.4423 - val_loss: 1.1135 - val_custom_mape: 5.0798\n",
      "Epoch 75/500\n",
      "14/14 [==============================] - 0s 3ms/step - loss: 0.7787 - custom_mape: 4.1071 - val_loss: 1.1986 - val_custom_mape: 5.5724\n",
      "Epoch 76/500\n",
      "14/14 [==============================] - 0s 3ms/step - loss: 0.8419 - custom_mape: 4.3927 - val_loss: 1.2533 - val_custom_mape: 5.8836\n",
      "Epoch 77/500\n",
      "14/14 [==============================] - 0s 3ms/step - loss: 0.7350 - custom_mape: 3.9309 - val_loss: 1.1306 - val_custom_mape: 5.1726\n",
      "Epoch 78/500\n",
      "14/14 [==============================] - 0s 3ms/step - loss: 0.7902 - custom_mape: 4.1267 - val_loss: 1.1022 - val_custom_mape: 4.9915\n",
      "Epoch 79/500\n",
      "14/14 [==============================] - 0s 3ms/step - loss: 0.8151 - custom_mape: 4.3033 - val_loss: 1.2325 - val_custom_mape: 5.7172\n",
      "Epoch 80/500\n",
      "14/14 [==============================] - 0s 3ms/step - loss: 0.8969 - custom_mape: 4.6183 - val_loss: 1.7935 - val_custom_mape: 8.4181\n",
      "Epoch 81/500\n",
      "14/14 [==============================] - 0s 3ms/step - loss: 0.9130 - custom_mape: 4.6797 - val_loss: 1.1411 - val_custom_mape: 5.2004\n",
      "Epoch 82/500\n",
      "14/14 [==============================] - 0s 3ms/step - loss: 0.6724 - custom_mape: 3.6562 - val_loss: 1.1369 - val_custom_mape: 5.2837\n",
      "Epoch 83/500\n",
      "14/14 [==============================] - 0s 3ms/step - loss: 0.6412 - custom_mape: 3.3548 - val_loss: 1.1715 - val_custom_mape: 5.3866\n",
      "Epoch 84/500\n",
      "14/14 [==============================] - 0s 3ms/step - loss: 0.6972 - custom_mape: 3.6497 - val_loss: 1.4123 - val_custom_mape: 6.7506\n",
      "Epoch 85/500\n",
      "14/14 [==============================] - 0s 3ms/step - loss: 0.7232 - custom_mape: 3.8720 - val_loss: 1.0839 - val_custom_mape: 4.9377\n",
      "Epoch 86/500\n",
      "14/14 [==============================] - 0s 3ms/step - loss: 0.6372 - custom_mape: 3.3601 - val_loss: 1.0959 - val_custom_mape: 4.9829\n",
      "Epoch 87/500\n",
      "14/14 [==============================] - 0s 3ms/step - loss: 0.6283 - custom_mape: 3.3666 - val_loss: 1.0990 - val_custom_mape: 5.0331\n",
      "Epoch 88/500\n",
      "14/14 [==============================] - 0s 3ms/step - loss: 0.7122 - custom_mape: 3.8078 - val_loss: 1.1145 - val_custom_mape: 5.1379\n",
      "Epoch 89/500\n",
      "14/14 [==============================] - 0s 3ms/step - loss: 0.7700 - custom_mape: 4.0219 - val_loss: 1.1293 - val_custom_mape: 5.2475\n",
      "Epoch 90/500\n",
      "14/14 [==============================] - 0s 3ms/step - loss: 0.7547 - custom_mape: 3.9813 - val_loss: 1.1441 - val_custom_mape: 5.2856\n",
      "Epoch 91/500\n",
      "14/14 [==============================] - 0s 3ms/step - loss: 0.6269 - custom_mape: 3.2864 - val_loss: 1.1336 - val_custom_mape: 5.2834\n",
      "Epoch 92/500\n",
      "14/14 [==============================] - 0s 3ms/step - loss: 0.7501 - custom_mape: 3.9982 - val_loss: 1.2319 - val_custom_mape: 5.7677\n",
      "Epoch 93/500\n",
      "14/14 [==============================] - 0s 3ms/step - loss: 0.6835 - custom_mape: 3.7258 - val_loss: 1.1319 - val_custom_mape: 5.2643\n",
      "Epoch 94/500\n",
      "14/14 [==============================] - 0s 3ms/step - loss: 0.5769 - custom_mape: 3.0401 - val_loss: 1.0899 - val_custom_mape: 5.0241\n",
      "Epoch 95/500\n",
      "14/14 [==============================] - 0s 3ms/step - loss: 0.6619 - custom_mape: 3.5416 - val_loss: 1.1482 - val_custom_mape: 5.4370\n",
      "Epoch 96/500\n",
      "14/14 [==============================] - 0s 3ms/step - loss: 0.6449 - custom_mape: 3.4555 - val_loss: 1.6864 - val_custom_mape: 7.9523\n",
      "Epoch 97/500\n",
      "14/14 [==============================] - 0s 3ms/step - loss: 0.7479 - custom_mape: 3.9013 - val_loss: 1.1534 - val_custom_mape: 5.4242\n",
      "Epoch 98/500\n",
      "14/14 [==============================] - 0s 3ms/step - loss: 0.6225 - custom_mape: 3.4112 - val_loss: 1.0820 - val_custom_mape: 4.9453\n",
      "Epoch 99/500\n",
      "14/14 [==============================] - 0s 3ms/step - loss: 0.7628 - custom_mape: 4.0342 - val_loss: 1.1075 - val_custom_mape: 5.1338\n",
      "Epoch 100/500\n",
      "14/14 [==============================] - 0s 3ms/step - loss: 0.7893 - custom_mape: 4.1870 - val_loss: 1.9403 - val_custom_mape: 9.0355\n",
      "Epoch 101/500\n",
      "14/14 [==============================] - 0s 3ms/step - loss: 1.1633 - custom_mape: 5.6207 - val_loss: 1.1699 - val_custom_mape: 5.4034\n",
      "Epoch 102/500\n",
      "14/14 [==============================] - 0s 3ms/step - loss: 0.7310 - custom_mape: 3.8829 - val_loss: 1.3743 - val_custom_mape: 6.5382\n",
      "Epoch 103/500\n",
      "14/14 [==============================] - 0s 3ms/step - loss: 0.6976 - custom_mape: 3.6798 - val_loss: 1.2610 - val_custom_mape: 5.9657\n",
      "Epoch 104/500\n",
      "14/14 [==============================] - 0s 3ms/step - loss: 0.6569 - custom_mape: 3.5486 - val_loss: 1.1661 - val_custom_mape: 5.4937\n",
      "Epoch 105/500\n",
      "14/14 [==============================] - 0s 3ms/step - loss: 0.6541 - custom_mape: 3.5735 - val_loss: 1.4251 - val_custom_mape: 6.7349\n",
      "Epoch 106/500\n",
      "14/14 [==============================] - 0s 3ms/step - loss: 0.8139 - custom_mape: 4.3106 - val_loss: 1.0964 - val_custom_mape: 4.9977\n",
      "Epoch 107/500\n",
      "14/14 [==============================] - 0s 3ms/step - loss: 1.1399 - custom_mape: 5.4711 - val_loss: 1.7019 - val_custom_mape: 7.9716\n",
      "Epoch 108/500\n",
      "14/14 [==============================] - 0s 3ms/step - loss: 0.7800 - custom_mape: 4.2124 - val_loss: 1.2122 - val_custom_mape: 5.6165\n",
      "Epoch 109/500\n",
      "14/14 [==============================] - 0s 3ms/step - loss: 0.7533 - custom_mape: 3.9527 - val_loss: 1.1040 - val_custom_mape: 5.1731\n",
      "Epoch 110/500\n",
      "14/14 [==============================] - 0s 3ms/step - loss: 0.6290 - custom_mape: 3.4129 - val_loss: 1.1933 - val_custom_mape: 5.6655\n",
      "Epoch 111/500\n",
      "14/14 [==============================] - 0s 3ms/step - loss: 0.5838 - custom_mape: 3.1325 - val_loss: 1.0829 - val_custom_mape: 4.9830\n",
      "Epoch 112/500\n",
      "14/14 [==============================] - 0s 3ms/step - loss: 0.6387 - custom_mape: 3.4289 - val_loss: 1.1094 - val_custom_mape: 5.1695\n",
      "Epoch 113/500\n",
      "14/14 [==============================] - 0s 3ms/step - loss: 0.5942 - custom_mape: 3.1299 - val_loss: 1.1720 - val_custom_mape: 5.4278\n",
      "Epoch 114/500\n",
      "14/14 [==============================] - 0s 3ms/step - loss: 0.6612 - custom_mape: 3.5192 - val_loss: 1.1155 - val_custom_mape: 5.1266\n",
      "Epoch 115/500\n",
      "14/14 [==============================] - 0s 3ms/step - loss: 0.5946 - custom_mape: 3.2789 - val_loss: 1.2369 - val_custom_mape: 5.9199\n",
      "Epoch 116/500\n",
      "14/14 [==============================] - 0s 3ms/step - loss: 0.6536 - custom_mape: 3.5510 - val_loss: 1.2588 - val_custom_mape: 6.0286\n",
      "Epoch 117/500\n",
      "14/14 [==============================] - 0s 3ms/step - loss: 0.6303 - custom_mape: 3.4117 - val_loss: 1.3956 - val_custom_mape: 6.5884\n",
      "Epoch 118/500\n",
      "14/14 [==============================] - 0s 3ms/step - loss: 0.7151 - custom_mape: 3.8431 - val_loss: 1.0921 - val_custom_mape: 5.1494\n",
      "Epoch 119/500\n",
      "14/14 [==============================] - 0s 3ms/step - loss: 0.6020 - custom_mape: 3.2218 - val_loss: 1.0631 - val_custom_mape: 4.9355\n",
      "Epoch 120/500\n",
      "14/14 [==============================] - 0s 3ms/step - loss: 0.5561 - custom_mape: 3.0149 - val_loss: 1.0836 - val_custom_mape: 4.9542\n",
      "Epoch 121/500\n",
      "14/14 [==============================] - 0s 3ms/step - loss: 0.5815 - custom_mape: 3.1305 - val_loss: 1.0881 - val_custom_mape: 4.9908\n",
      "Epoch 122/500\n",
      "14/14 [==============================] - 0s 3ms/step - loss: 0.6038 - custom_mape: 3.2518 - val_loss: 1.0909 - val_custom_mape: 5.0681\n",
      "Epoch 123/500\n",
      "14/14 [==============================] - 0s 3ms/step - loss: 0.5573 - custom_mape: 3.0273 - val_loss: 1.1348 - val_custom_mape: 5.3667\n",
      "Epoch 124/500\n",
      "14/14 [==============================] - 0s 3ms/step - loss: 0.5916 - custom_mape: 3.2385 - val_loss: 1.0764 - val_custom_mape: 5.0131\n",
      "Epoch 125/500\n",
      "14/14 [==============================] - 0s 3ms/step - loss: 0.5935 - custom_mape: 3.2679 - val_loss: 1.1610 - val_custom_mape: 5.4824\n",
      "Epoch 126/500\n",
      "14/14 [==============================] - 0s 3ms/step - loss: 0.6483 - custom_mape: 3.5571 - val_loss: 1.0726 - val_custom_mape: 4.9919\n",
      "Epoch 127/500\n",
      "14/14 [==============================] - 0s 3ms/step - loss: 0.6242 - custom_mape: 3.4763 - val_loss: 1.0772 - val_custom_mape: 4.9068\n",
      "Epoch 128/500\n",
      "14/14 [==============================] - 0s 3ms/step - loss: 0.7774 - custom_mape: 4.1074 - val_loss: 1.4430 - val_custom_mape: 6.7482\n",
      "Epoch 129/500\n",
      "14/14 [==============================] - 0s 3ms/step - loss: 0.8515 - custom_mape: 4.3883 - val_loss: 1.2056 - val_custom_mape: 5.7159\n",
      "Epoch 130/500\n",
      "14/14 [==============================] - 0s 3ms/step - loss: 0.8957 - custom_mape: 4.6377 - val_loss: 1.1878 - val_custom_mape: 5.5216\n",
      "Epoch 131/500\n",
      "14/14 [==============================] - 0s 3ms/step - loss: 0.7677 - custom_mape: 4.1958 - val_loss: 1.1348 - val_custom_mape: 5.3194\n",
      "Epoch 132/500\n",
      "14/14 [==============================] - 0s 3ms/step - loss: 0.8268 - custom_mape: 4.3321 - val_loss: 1.1333 - val_custom_mape: 5.1528\n",
      "Epoch 133/500\n",
      "14/14 [==============================] - 0s 3ms/step - loss: 0.8210 - custom_mape: 4.3203 - val_loss: 1.1515 - val_custom_mape: 5.3604\n",
      "Epoch 134/500\n",
      "14/14 [==============================] - 0s 7ms/step - loss: 0.6576 - custom_mape: 3.5559 - val_loss: 1.0839 - val_custom_mape: 5.0058\n",
      "Epoch 135/500\n",
      "14/14 [==============================] - 0s 4ms/step - loss: 0.5836 - custom_mape: 3.1856 - val_loss: 1.0648 - val_custom_mape: 4.8855\n",
      "Epoch 136/500\n",
      "14/14 [==============================] - 0s 4ms/step - loss: 0.5759 - custom_mape: 3.0656 - val_loss: 1.0929 - val_custom_mape: 5.0793\n",
      "Epoch 137/500\n",
      "14/14 [==============================] - 0s 3ms/step - loss: 0.5868 - custom_mape: 3.1875 - val_loss: 1.0765 - val_custom_mape: 4.9058\n",
      "Epoch 138/500\n",
      "14/14 [==============================] - 0s 3ms/step - loss: 0.6513 - custom_mape: 3.5328 - val_loss: 1.2182 - val_custom_mape: 5.7855\n",
      "Epoch 139/500\n",
      "14/14 [==============================] - 0s 3ms/step - loss: 0.6091 - custom_mape: 3.3147 - val_loss: 1.1116 - val_custom_mape: 5.2239\n",
      "Epoch 140/500\n",
      "14/14 [==============================] - 0s 3ms/step - loss: 0.6428 - custom_mape: 3.4793 - val_loss: 1.1044 - val_custom_mape: 5.0442\n",
      "Epoch 141/500\n",
      "14/14 [==============================] - 0s 3ms/step - loss: 0.6812 - custom_mape: 3.6992 - val_loss: 1.1408 - val_custom_mape: 5.4617\n",
      "Epoch 142/500\n",
      "14/14 [==============================] - 0s 3ms/step - loss: 0.6938 - custom_mape: 3.6928 - val_loss: 1.2747 - val_custom_mape: 6.1489\n",
      "Epoch 143/500\n",
      "14/14 [==============================] - 0s 3ms/step - loss: 0.7163 - custom_mape: 3.9107 - val_loss: 1.0703 - val_custom_mape: 4.8601\n",
      "Epoch 144/500\n",
      "14/14 [==============================] - 0s 3ms/step - loss: 0.5799 - custom_mape: 3.1591 - val_loss: 1.0472 - val_custom_mape: 4.7053\n",
      "Epoch 145/500\n",
      "14/14 [==============================] - 0s 3ms/step - loss: 0.5717 - custom_mape: 3.0855 - val_loss: 1.1010 - val_custom_mape: 5.1282\n",
      "Epoch 146/500\n",
      "14/14 [==============================] - 0s 3ms/step - loss: 0.6875 - custom_mape: 3.7040 - val_loss: 1.2128 - val_custom_mape: 5.6916\n",
      "Epoch 147/500\n",
      "14/14 [==============================] - 0s 3ms/step - loss: 0.8303 - custom_mape: 4.3636 - val_loss: 1.0971 - val_custom_mape: 5.0979\n",
      "Epoch 148/500\n",
      "14/14 [==============================] - 0s 3ms/step - loss: 0.6465 - custom_mape: 3.4454 - val_loss: 1.1013 - val_custom_mape: 5.1818\n",
      "Epoch 149/500\n",
      "14/14 [==============================] - 0s 3ms/step - loss: 0.7046 - custom_mape: 3.8670 - val_loss: 1.1369 - val_custom_mape: 5.3966\n",
      "Epoch 150/500\n",
      "14/14 [==============================] - 0s 3ms/step - loss: 0.9799 - custom_mape: 4.8801 - val_loss: 1.1584 - val_custom_mape: 5.3687\n",
      "Epoch 151/500\n",
      "14/14 [==============================] - 0s 3ms/step - loss: 0.7387 - custom_mape: 4.0185 - val_loss: 1.3148 - val_custom_mape: 6.3466\n",
      "Epoch 152/500\n",
      "14/14 [==============================] - 0s 3ms/step - loss: 0.9670 - custom_mape: 4.9140 - val_loss: 1.3436 - val_custom_mape: 6.2867\n",
      "Epoch 153/500\n",
      "14/14 [==============================] - 0s 3ms/step - loss: 0.7929 - custom_mape: 4.1919 - val_loss: 1.1988 - val_custom_mape: 5.6628\n",
      "Epoch 154/500\n",
      "14/14 [==============================] - 0s 3ms/step - loss: 0.6683 - custom_mape: 3.6616 - val_loss: 1.2311 - val_custom_mape: 5.7672\n",
      "Epoch 155/500\n",
      "14/14 [==============================] - 0s 3ms/step - loss: 0.6311 - custom_mape: 3.4331 - val_loss: 1.1259 - val_custom_mape: 5.2736\n",
      "Epoch 156/500\n",
      "14/14 [==============================] - 0s 3ms/step - loss: 0.6666 - custom_mape: 3.5837 - val_loss: 1.1049 - val_custom_mape: 5.2041\n",
      "Epoch 157/500\n",
      "14/14 [==============================] - 0s 3ms/step - loss: 0.5987 - custom_mape: 3.2892 - val_loss: 1.0667 - val_custom_mape: 4.8305\n",
      "Epoch 158/500\n",
      "14/14 [==============================] - 0s 3ms/step - loss: 0.7071 - custom_mape: 3.8385 - val_loss: 1.1014 - val_custom_mape: 5.0053\n",
      "Epoch 159/500\n",
      "14/14 [==============================] - 0s 3ms/step - loss: 0.6309 - custom_mape: 3.4782 - val_loss: 1.0935 - val_custom_mape: 5.1345\n",
      "Epoch 160/500\n",
      "14/14 [==============================] - 0s 3ms/step - loss: 0.6642 - custom_mape: 3.6445 - val_loss: 1.2228 - val_custom_mape: 5.8748\n",
      "Epoch 161/500\n",
      "14/14 [==============================] - 0s 3ms/step - loss: 0.6220 - custom_mape: 3.3448 - val_loss: 1.0574 - val_custom_mape: 4.8750\n",
      "Epoch 162/500\n",
      "14/14 [==============================] - 0s 3ms/step - loss: 0.5543 - custom_mape: 3.0099 - val_loss: 1.0774 - val_custom_mape: 5.0036\n",
      "Epoch 163/500\n",
      "14/14 [==============================] - 0s 3ms/step - loss: 0.6883 - custom_mape: 3.7035 - val_loss: 1.0786 - val_custom_mape: 4.8846\n",
      "Epoch 164/500\n",
      "14/14 [==============================] - 0s 3ms/step - loss: 0.6750 - custom_mape: 3.6269 - val_loss: 1.1369 - val_custom_mape: 5.1862\n",
      "Epoch 165/500\n",
      "14/14 [==============================] - 0s 3ms/step - loss: 0.7037 - custom_mape: 3.7951 - val_loss: 1.1490 - val_custom_mape: 5.4852\n",
      "Epoch 166/500\n",
      "14/14 [==============================] - 0s 3ms/step - loss: 0.6489 - custom_mape: 3.5599 - val_loss: 1.0883 - val_custom_mape: 4.9715\n",
      "Epoch 167/500\n",
      "14/14 [==============================] - 0s 3ms/step - loss: 0.7808 - custom_mape: 4.0992 - val_loss: 1.4103 - val_custom_mape: 6.7568\n",
      "Epoch 168/500\n",
      "14/14 [==============================] - 0s 3ms/step - loss: 0.6562 - custom_mape: 3.5062 - val_loss: 1.2254 - val_custom_mape: 5.8577\n",
      "Epoch 169/500\n",
      "14/14 [==============================] - 0s 3ms/step - loss: 0.6262 - custom_mape: 3.3968 - val_loss: 1.0977 - val_custom_mape: 5.0713\n",
      "Epoch 170/500\n",
      "14/14 [==============================] - 0s 3ms/step - loss: 0.6392 - custom_mape: 3.5486 - val_loss: 1.0903 - val_custom_mape: 4.9116\n",
      "Epoch 171/500\n",
      "14/14 [==============================] - 0s 3ms/step - loss: 0.6160 - custom_mape: 3.4438 - val_loss: 1.0605 - val_custom_mape: 4.9265\n",
      "Epoch 172/500\n",
      "14/14 [==============================] - 0s 3ms/step - loss: 0.5680 - custom_mape: 3.0804 - val_loss: 1.1543 - val_custom_mape: 5.5033\n",
      "Epoch 173/500\n",
      "14/14 [==============================] - 0s 3ms/step - loss: 0.6760 - custom_mape: 3.7035 - val_loss: 1.0741 - val_custom_mape: 4.9235\n",
      "Epoch 174/500\n",
      "14/14 [==============================] - 0s 3ms/step - loss: 0.6255 - custom_mape: 3.4906 - val_loss: 1.0771 - val_custom_mape: 4.9504\n",
      "Epoch 175/500\n",
      "14/14 [==============================] - 0s 3ms/step - loss: 0.5637 - custom_mape: 3.0055 - val_loss: 1.1243 - val_custom_mape: 5.2538\n",
      "Epoch 176/500\n",
      "14/14 [==============================] - 0s 3ms/step - loss: 0.5491 - custom_mape: 2.9778 - val_loss: 1.1559 - val_custom_mape: 5.4791\n",
      "Epoch 177/500\n",
      "14/14 [==============================] - 0s 3ms/step - loss: 0.5785 - custom_mape: 3.1791 - val_loss: 1.0816 - val_custom_mape: 4.9628\n",
      "Epoch 178/500\n",
      "14/14 [==============================] - 0s 3ms/step - loss: 0.5956 - custom_mape: 3.3460 - val_loss: 1.0709 - val_custom_mape: 4.9578\n",
      "Epoch 179/500\n",
      "14/14 [==============================] - 0s 5ms/step - loss: 0.7497 - custom_mape: 3.9738 - val_loss: 1.3629 - val_custom_mape: 6.5724\n",
      "Epoch 180/500\n",
      "14/14 [==============================] - 0s 4ms/step - loss: 0.7109 - custom_mape: 3.8938 - val_loss: 1.1023 - val_custom_mape: 5.0482\n",
      "Epoch 181/500\n",
      "14/14 [==============================] - 0s 4ms/step - loss: 0.6657 - custom_mape: 3.6302 - val_loss: 1.0809 - val_custom_mape: 4.9564\n",
      "Epoch 182/500\n",
      "14/14 [==============================] - 0s 4ms/step - loss: 0.5641 - custom_mape: 3.0757 - val_loss: 1.1386 - val_custom_mape: 5.3568\n",
      "Epoch 183/500\n",
      "14/14 [==============================] - 0s 3ms/step - loss: 0.5451 - custom_mape: 2.9547 - val_loss: 1.0720 - val_custom_mape: 5.0494\n",
      "Epoch 184/500\n",
      "14/14 [==============================] - 0s 3ms/step - loss: 0.5805 - custom_mape: 3.2084 - val_loss: 1.0477 - val_custom_mape: 4.7144\n",
      "Epoch 185/500\n",
      "14/14 [==============================] - 0s 3ms/step - loss: 0.5579 - custom_mape: 3.0513 - val_loss: 1.1980 - val_custom_mape: 5.6804\n",
      "Epoch 186/500\n",
      "14/14 [==============================] - 0s 3ms/step - loss: 0.6584 - custom_mape: 3.5768 - val_loss: 1.0680 - val_custom_mape: 4.9367\n",
      "Epoch 187/500\n",
      "14/14 [==============================] - 0s 3ms/step - loss: 0.7061 - custom_mape: 3.9195 - val_loss: 1.0678 - val_custom_mape: 4.8952\n",
      "Epoch 188/500\n",
      "14/14 [==============================] - 0s 4ms/step - loss: 0.6419 - custom_mape: 3.5150 - val_loss: 1.1739 - val_custom_mape: 5.6049\n",
      "Epoch 189/500\n",
      "14/14 [==============================] - 0s 3ms/step - loss: 0.5598 - custom_mape: 3.0805 - val_loss: 1.1606 - val_custom_mape: 5.5528\n",
      "Epoch 190/500\n",
      "14/14 [==============================] - 0s 4ms/step - loss: 0.5641 - custom_mape: 3.1017 - val_loss: 1.0846 - val_custom_mape: 4.9534\n",
      "Epoch 191/500\n",
      "14/14 [==============================] - 0s 3ms/step - loss: 0.6341 - custom_mape: 3.5199 - val_loss: 1.0550 - val_custom_mape: 4.8326\n",
      "Epoch 192/500\n",
      "14/14 [==============================] - 0s 3ms/step - loss: 0.6057 - custom_mape: 3.3292 - val_loss: 1.1026 - val_custom_mape: 5.2200\n",
      "Epoch 193/500\n",
      "14/14 [==============================] - 0s 3ms/step - loss: 0.5704 - custom_mape: 3.1855 - val_loss: 1.1455 - val_custom_mape: 5.3695\n",
      "Epoch 194/500\n",
      "14/14 [==============================] - 0s 3ms/step - loss: 0.5943 - custom_mape: 3.2534 - val_loss: 1.1294 - val_custom_mape: 5.3240\n",
      "Epoch 195/500\n",
      "14/14 [==============================] - 0s 3ms/step - loss: 0.5563 - custom_mape: 3.0066 - val_loss: 1.2540 - val_custom_mape: 6.0209\n",
      "Epoch 196/500\n",
      "14/14 [==============================] - 0s 3ms/step - loss: 0.6807 - custom_mape: 3.7604 - val_loss: 1.1037 - val_custom_mape: 5.2100\n",
      "Epoch 197/500\n",
      "14/14 [==============================] - 0s 3ms/step - loss: 0.7258 - custom_mape: 4.0011 - val_loss: 1.2617 - val_custom_mape: 5.8459\n",
      "Epoch 198/500\n",
      "14/14 [==============================] - 0s 3ms/step - loss: 0.8898 - custom_mape: 4.5478 - val_loss: 1.4841 - val_custom_mape: 7.1013\n",
      "Epoch 199/500\n",
      "14/14 [==============================] - 0s 3ms/step - loss: 0.7173 - custom_mape: 3.8858 - val_loss: 1.1424 - val_custom_mape: 5.3084\n",
      "Epoch 200/500\n",
      "14/14 [==============================] - 0s 3ms/step - loss: 0.6701 - custom_mape: 3.6801 - val_loss: 1.0888 - val_custom_mape: 5.0961\n",
      "Epoch 201/500\n",
      "14/14 [==============================] - 0s 3ms/step - loss: 0.5644 - custom_mape: 3.1312 - val_loss: 1.1029 - val_custom_mape: 5.1497\n",
      "Epoch 202/500\n",
      "14/14 [==============================] - 0s 3ms/step - loss: 0.5410 - custom_mape: 2.9270 - val_loss: 1.0816 - val_custom_mape: 4.9223\n",
      "Epoch 203/500\n",
      "14/14 [==============================] - 0s 3ms/step - loss: 0.6191 - custom_mape: 3.4840 - val_loss: 1.1495 - val_custom_mape: 5.4641\n",
      "Epoch 204/500\n",
      "14/14 [==============================] - 0s 3ms/step - loss: 0.6192 - custom_mape: 3.4451 - val_loss: 1.0781 - val_custom_mape: 4.8982\n",
      "Epoch 205/500\n",
      "14/14 [==============================] - 0s 3ms/step - loss: 0.6032 - custom_mape: 3.3280 - val_loss: 1.0704 - val_custom_mape: 4.8953\n",
      "Epoch 206/500\n",
      "14/14 [==============================] - 0s 3ms/step - loss: 0.5462 - custom_mape: 3.0749 - val_loss: 1.0803 - val_custom_mape: 4.8975\n",
      "Epoch 207/500\n",
      "14/14 [==============================] - 0s 3ms/step - loss: 0.5834 - custom_mape: 3.3076 - val_loss: 1.1690 - val_custom_mape: 5.4119\n",
      "Epoch 208/500\n",
      "14/14 [==============================] - 0s 3ms/step - loss: 0.6494 - custom_mape: 3.4970 - val_loss: 1.1738 - val_custom_mape: 5.7054\n",
      "Epoch 209/500\n",
      "14/14 [==============================] - 0s 3ms/step - loss: 0.5673 - custom_mape: 3.1746 - val_loss: 1.0485 - val_custom_mape: 4.8280\n",
      "Epoch 210/500\n",
      "14/14 [==============================] - 0s 3ms/step - loss: 0.6023 - custom_mape: 3.3042 - val_loss: 1.0529 - val_custom_mape: 4.7611\n",
      "Epoch 211/500\n",
      "14/14 [==============================] - 0s 3ms/step - loss: 0.6346 - custom_mape: 3.5116 - val_loss: 1.1180 - val_custom_mape: 5.0791\n",
      "Epoch 212/500\n",
      "14/14 [==============================] - 0s 3ms/step - loss: 0.6231 - custom_mape: 3.4709 - val_loss: 1.0553 - val_custom_mape: 4.7914\n",
      "Epoch 213/500\n",
      "14/14 [==============================] - 0s 3ms/step - loss: 0.5319 - custom_mape: 2.8969 - val_loss: 1.0417 - val_custom_mape: 4.7575\n",
      "Epoch 214/500\n",
      "14/14 [==============================] - 0s 3ms/step - loss: 0.5869 - custom_mape: 3.2493 - val_loss: 1.0683 - val_custom_mape: 4.9655\n",
      "Epoch 215/500\n",
      "14/14 [==============================] - 0s 3ms/step - loss: 0.7146 - custom_mape: 3.8957 - val_loss: 1.1112 - val_custom_mape: 5.0288\n",
      "Epoch 216/500\n",
      "14/14 [==============================] - 0s 3ms/step - loss: 0.6622 - custom_mape: 3.6878 - val_loss: 1.0818 - val_custom_mape: 5.1207\n",
      "Epoch 217/500\n",
      "14/14 [==============================] - 0s 8ms/step - loss: 0.6460 - custom_mape: 3.5805 - val_loss: 1.3391 - val_custom_mape: 6.4122\n",
      "Epoch 218/500\n",
      "14/14 [==============================] - 0s 3ms/step - loss: 0.5773 - custom_mape: 3.1416 - val_loss: 1.1064 - val_custom_mape: 5.2044\n",
      "Epoch 219/500\n",
      "14/14 [==============================] - 0s 3ms/step - loss: 0.5874 - custom_mape: 3.2912 - val_loss: 1.0846 - val_custom_mape: 4.8790\n",
      "Epoch 220/500\n",
      "14/14 [==============================] - 0s 3ms/step - loss: 0.5945 - custom_mape: 3.3771 - val_loss: 1.0583 - val_custom_mape: 4.9434\n",
      "Epoch 221/500\n",
      "14/14 [==============================] - 0s 3ms/step - loss: 0.5310 - custom_mape: 2.9404 - val_loss: 1.0532 - val_custom_mape: 4.6987\n",
      "Epoch 222/500\n",
      "14/14 [==============================] - 0s 3ms/step - loss: 0.6366 - custom_mape: 3.5263 - val_loss: 1.0919 - val_custom_mape: 4.9261\n",
      "Epoch 223/500\n",
      "14/14 [==============================] - 0s 3ms/step - loss: 0.5543 - custom_mape: 3.0507 - val_loss: 1.1639 - val_custom_mape: 5.5530\n",
      "Epoch 224/500\n",
      "14/14 [==============================] - 0s 3ms/step - loss: 0.5774 - custom_mape: 3.2141 - val_loss: 1.0797 - val_custom_mape: 5.0732\n",
      "Epoch 225/500\n",
      "14/14 [==============================] - 0s 3ms/step - loss: 0.7370 - custom_mape: 4.0227 - val_loss: 1.1910 - val_custom_mape: 5.5095\n",
      "Epoch 226/500\n",
      "14/14 [==============================] - 0s 3ms/step - loss: 0.5756 - custom_mape: 3.1609 - val_loss: 1.1949 - val_custom_mape: 5.6999\n",
      "Epoch 227/500\n",
      "14/14 [==============================] - 0s 3ms/step - loss: 0.6117 - custom_mape: 3.4213 - val_loss: 1.0915 - val_custom_mape: 5.1025\n",
      "Epoch 228/500\n",
      "14/14 [==============================] - 0s 3ms/step - loss: 0.6194 - custom_mape: 3.4716 - val_loss: 1.0640 - val_custom_mape: 4.8428\n",
      "Epoch 229/500\n",
      "14/14 [==============================] - 0s 3ms/step - loss: 0.5674 - custom_mape: 3.2287 - val_loss: 1.0379 - val_custom_mape: 4.6275\n",
      "Epoch 230/500\n",
      "14/14 [==============================] - 0s 3ms/step - loss: 0.5983 - custom_mape: 3.3418 - val_loss: 1.1411 - val_custom_mape: 5.4820\n",
      "Epoch 231/500\n",
      "14/14 [==============================] - 0s 3ms/step - loss: 0.5304 - custom_mape: 2.9522 - val_loss: 1.0530 - val_custom_mape: 4.9042\n",
      "Epoch 232/500\n",
      "14/14 [==============================] - 0s 3ms/step - loss: 0.5826 - custom_mape: 3.2961 - val_loss: 1.0932 - val_custom_mape: 5.1582\n",
      "Epoch 233/500\n",
      "14/14 [==============================] - 0s 3ms/step - loss: 0.6163 - custom_mape: 3.4563 - val_loss: 1.0590 - val_custom_mape: 4.7903\n",
      "Epoch 234/500\n",
      "14/14 [==============================] - 0s 3ms/step - loss: 0.5387 - custom_mape: 2.9950 - val_loss: 1.0273 - val_custom_mape: 4.5890\n",
      "Epoch 235/500\n",
      "14/14 [==============================] - 0s 3ms/step - loss: 0.6229 - custom_mape: 3.4506 - val_loss: 1.0468 - val_custom_mape: 4.7386\n",
      "Epoch 236/500\n",
      "14/14 [==============================] - 0s 3ms/step - loss: 0.5483 - custom_mape: 3.0329 - val_loss: 1.1422 - val_custom_mape: 5.4425\n",
      "Epoch 237/500\n",
      "14/14 [==============================] - 0s 3ms/step - loss: 0.5759 - custom_mape: 3.1989 - val_loss: 1.1928 - val_custom_mape: 5.7386\n",
      "Epoch 238/500\n",
      "14/14 [==============================] - 0s 3ms/step - loss: 0.6165 - custom_mape: 3.4443 - val_loss: 1.0663 - val_custom_mape: 4.8083\n",
      "Epoch 239/500\n",
      "14/14 [==============================] - 0s 3ms/step - loss: 0.5646 - custom_mape: 3.1350 - val_loss: 1.3104 - val_custom_mape: 6.3327\n",
      "Epoch 240/500\n",
      "14/14 [==============================] - 0s 3ms/step - loss: 0.5795 - custom_mape: 3.2405 - val_loss: 1.0391 - val_custom_mape: 4.6527\n",
      "Epoch 241/500\n",
      "14/14 [==============================] - 0s 3ms/step - loss: 0.5830 - custom_mape: 3.2833 - val_loss: 1.0647 - val_custom_mape: 4.8538\n",
      "Epoch 242/500\n",
      "14/14 [==============================] - 0s 3ms/step - loss: 0.5221 - custom_mape: 2.9017 - val_loss: 1.0420 - val_custom_mape: 4.7910\n",
      "Epoch 243/500\n",
      "14/14 [==============================] - 0s 3ms/step - loss: 0.5219 - custom_mape: 2.8919 - val_loss: 1.0540 - val_custom_mape: 4.7452\n",
      "Epoch 244/500\n",
      "14/14 [==============================] - 0s 3ms/step - loss: 0.5415 - custom_mape: 3.0179 - val_loss: 1.1369 - val_custom_mape: 5.4803\n",
      "Epoch 245/500\n",
      "14/14 [==============================] - 0s 3ms/step - loss: 0.5867 - custom_mape: 3.3170 - val_loss: 1.0797 - val_custom_mape: 4.8836\n",
      "Epoch 246/500\n",
      "14/14 [==============================] - 0s 3ms/step - loss: 0.5303 - custom_mape: 2.9843 - val_loss: 1.0943 - val_custom_mape: 5.2448\n",
      "Epoch 247/500\n",
      "14/14 [==============================] - 0s 3ms/step - loss: 0.5559 - custom_mape: 3.1158 - val_loss: 1.0413 - val_custom_mape: 4.7873\n",
      "Epoch 248/500\n",
      "14/14 [==============================] - 0s 3ms/step - loss: 0.6484 - custom_mape: 3.6119 - val_loss: 1.1844 - val_custom_mape: 5.3311\n",
      "Epoch 249/500\n",
      "14/14 [==============================] - 0s 3ms/step - loss: 0.6600 - custom_mape: 3.6825 - val_loss: 1.0582 - val_custom_mape: 4.7905\n",
      "Epoch 250/500\n",
      "14/14 [==============================] - 0s 4ms/step - loss: 0.5593 - custom_mape: 3.0691 - val_loss: 1.0578 - val_custom_mape: 4.6949\n",
      "Epoch 251/500\n",
      "14/14 [==============================] - 0s 5ms/step - loss: 0.5505 - custom_mape: 3.0601 - val_loss: 1.2925 - val_custom_mape: 6.1531\n",
      "Epoch 252/500\n",
      "14/14 [==============================] - 0s 4ms/step - loss: 0.5903 - custom_mape: 3.3153 - val_loss: 1.1228 - val_custom_mape: 5.2921\n",
      "Epoch 253/500\n",
      "14/14 [==============================] - 0s 3ms/step - loss: 0.5186 - custom_mape: 2.9088 - val_loss: 1.0684 - val_custom_mape: 5.0325\n",
      "Epoch 254/500\n",
      "14/14 [==============================] - 0s 3ms/step - loss: 0.5937 - custom_mape: 3.4006 - val_loss: 1.8423 - val_custom_mape: 8.1462\n",
      "Epoch 255/500\n",
      "14/14 [==============================] - 0s 3ms/step - loss: 1.0785 - custom_mape: 5.4249 - val_loss: 1.1944 - val_custom_mape: 5.5137\n",
      "Epoch 256/500\n",
      "14/14 [==============================] - 0s 3ms/step - loss: 0.6296 - custom_mape: 3.4753 - val_loss: 1.0468 - val_custom_mape: 4.7056\n",
      "Epoch 257/500\n",
      "14/14 [==============================] - 0s 3ms/step - loss: 0.5591 - custom_mape: 3.0137 - val_loss: 1.1389 - val_custom_mape: 5.5295\n",
      "Epoch 258/500\n",
      "14/14 [==============================] - 0s 3ms/step - loss: 0.5581 - custom_mape: 3.0424 - val_loss: 1.1022 - val_custom_mape: 5.2302\n",
      "Epoch 259/500\n",
      "14/14 [==============================] - 0s 3ms/step - loss: 0.5269 - custom_mape: 2.9924 - val_loss: 1.0598 - val_custom_mape: 4.9672\n",
      "Epoch 260/500\n",
      "14/14 [==============================] - 0s 3ms/step - loss: 0.5215 - custom_mape: 2.8821 - val_loss: 1.0575 - val_custom_mape: 4.9840\n",
      "Epoch 261/500\n",
      "14/14 [==============================] - 0s 3ms/step - loss: 0.6443 - custom_mape: 3.5270 - val_loss: 1.2933 - val_custom_mape: 6.2677\n",
      "Epoch 262/500\n",
      "14/14 [==============================] - 0s 3ms/step - loss: 0.6273 - custom_mape: 3.5128 - val_loss: 1.1809 - val_custom_mape: 5.4006\n",
      "Epoch 263/500\n",
      "14/14 [==============================] - 0s 3ms/step - loss: 0.6387 - custom_mape: 3.5453 - val_loss: 1.1342 - val_custom_mape: 5.4133\n",
      "Epoch 264/500\n",
      "14/14 [==============================] - 0s 3ms/step - loss: 0.5668 - custom_mape: 3.1741 - val_loss: 1.0478 - val_custom_mape: 4.7952\n",
      "Epoch 265/500\n",
      "14/14 [==============================] - 0s 3ms/step - loss: 0.7475 - custom_mape: 4.0372 - val_loss: 1.0843 - val_custom_mape: 5.0498\n",
      "Epoch 266/500\n",
      "14/14 [==============================] - 0s 3ms/step - loss: 0.7092 - custom_mape: 3.8071 - val_loss: 1.2370 - val_custom_mape: 5.9764\n",
      "Epoch 267/500\n",
      "14/14 [==============================] - 0s 3ms/step - loss: 0.6008 - custom_mape: 3.4062 - val_loss: 1.0382 - val_custom_mape: 4.6673\n",
      "Epoch 268/500\n",
      "14/14 [==============================] - 0s 3ms/step - loss: 0.6008 - custom_mape: 3.3540 - val_loss: 1.0472 - val_custom_mape: 4.8267\n",
      "Epoch 269/500\n",
      "14/14 [==============================] - 0s 3ms/step - loss: 0.5342 - custom_mape: 2.9627 - val_loss: 1.0592 - val_custom_mape: 5.0363\n",
      "Epoch 270/500\n",
      "14/14 [==============================] - 0s 3ms/step - loss: 0.5844 - custom_mape: 3.2288 - val_loss: 1.0424 - val_custom_mape: 4.8972\n",
      "Epoch 271/500\n",
      "14/14 [==============================] - 0s 3ms/step - loss: 0.5305 - custom_mape: 2.8755 - val_loss: 1.0474 - val_custom_mape: 4.6979\n",
      "Epoch 272/500\n",
      "14/14 [==============================] - 0s 3ms/step - loss: 0.5717 - custom_mape: 3.1704 - val_loss: 1.0497 - val_custom_mape: 4.7476\n",
      "Epoch 273/500\n",
      "14/14 [==============================] - 0s 3ms/step - loss: 0.5771 - custom_mape: 3.2596 - val_loss: 1.0664 - val_custom_mape: 5.0003\n",
      "Epoch 274/500\n",
      "14/14 [==============================] - 0s 3ms/step - loss: 0.5532 - custom_mape: 3.1477 - val_loss: 1.1391 - val_custom_mape: 5.5162\n",
      "Epoch 275/500\n",
      "14/14 [==============================] - 0s 3ms/step - loss: 0.5242 - custom_mape: 2.9094 - val_loss: 1.1469 - val_custom_mape: 5.5544\n",
      "Epoch 276/500\n",
      "14/14 [==============================] - 0s 3ms/step - loss: 0.5487 - custom_mape: 3.0663 - val_loss: 1.2571 - val_custom_mape: 6.1267\n",
      "Epoch 277/500\n",
      "14/14 [==============================] - 0s 3ms/step - loss: 0.6034 - custom_mape: 3.3476 - val_loss: 1.1212 - val_custom_mape: 5.4498\n",
      "Epoch 278/500\n",
      "14/14 [==============================] - 0s 3ms/step - loss: 0.6639 - custom_mape: 3.7293 - val_loss: 1.0600 - val_custom_mape: 4.9425\n",
      "Epoch 279/500\n",
      "14/14 [==============================] - 0s 3ms/step - loss: 0.7013 - custom_mape: 3.8762 - val_loss: 1.0471 - val_custom_mape: 4.8881\n",
      "Epoch 280/500\n",
      "14/14 [==============================] - 0s 4ms/step - loss: 0.8682 - custom_mape: 4.4864 - val_loss: 1.1027 - val_custom_mape: 5.0960\n",
      "Epoch 281/500\n",
      "14/14 [==============================] - 0s 5ms/step - loss: 0.7398 - custom_mape: 4.0236 - val_loss: 1.0600 - val_custom_mape: 4.7454\n",
      "Epoch 282/500\n",
      "14/14 [==============================] - 0s 4ms/step - loss: 0.6154 - custom_mape: 3.4117 - val_loss: 1.0932 - val_custom_mape: 5.2557\n",
      "Epoch 283/500\n",
      "14/14 [==============================] - 0s 3ms/step - loss: 0.6466 - custom_mape: 3.5738 - val_loss: 1.3686 - val_custom_mape: 6.6294\n",
      "Epoch 284/500\n",
      "14/14 [==============================] - 0s 3ms/step - loss: 0.5598 - custom_mape: 3.1455 - val_loss: 1.0593 - val_custom_mape: 4.7554\n",
      "Epoch 285/500\n",
      "14/14 [==============================] - 0s 3ms/step - loss: 0.5751 - custom_mape: 3.2484 - val_loss: 1.0686 - val_custom_mape: 4.7812\n",
      "Epoch 286/500\n",
      "14/14 [==============================] - 0s 3ms/step - loss: 0.5687 - custom_mape: 3.1656 - val_loss: 1.0679 - val_custom_mape: 5.0047\n",
      "Epoch 287/500\n",
      "14/14 [==============================] - 0s 3ms/step - loss: 0.5481 - custom_mape: 3.0799 - val_loss: 1.2342 - val_custom_mape: 5.7023\n",
      "Epoch 288/500\n",
      "14/14 [==============================] - 0s 3ms/step - loss: 0.6716 - custom_mape: 3.8399 - val_loss: 1.2142 - val_custom_mape: 5.8776\n",
      "Epoch 289/500\n",
      "14/14 [==============================] - 0s 3ms/step - loss: 0.5456 - custom_mape: 3.0137 - val_loss: 1.0368 - val_custom_mape: 4.7543\n",
      "Epoch 290/500\n",
      "14/14 [==============================] - 0s 3ms/step - loss: 0.5326 - custom_mape: 2.9508 - val_loss: 1.0388 - val_custom_mape: 4.7971\n",
      "Epoch 291/500\n",
      "14/14 [==============================] - 0s 3ms/step - loss: 0.5414 - custom_mape: 3.0009 - val_loss: 1.0856 - val_custom_mape: 4.8317\n",
      "Epoch 292/500\n",
      "14/14 [==============================] - 0s 3ms/step - loss: 0.5730 - custom_mape: 3.2056 - val_loss: 1.0517 - val_custom_mape: 4.7032\n",
      "Epoch 293/500\n",
      "14/14 [==============================] - 0s 3ms/step - loss: 0.5216 - custom_mape: 2.9364 - val_loss: 1.0419 - val_custom_mape: 4.8377\n",
      "Epoch 294/500\n",
      "14/14 [==============================] - 0s 3ms/step - loss: 0.5616 - custom_mape: 3.1295 - val_loss: 1.2172 - val_custom_mape: 5.6272\n",
      "Epoch 295/500\n",
      "14/14 [==============================] - 0s 3ms/step - loss: 0.7207 - custom_mape: 4.0562 - val_loss: 1.0821 - val_custom_mape: 5.1000\n",
      "Epoch 296/500\n",
      "14/14 [==============================] - 0s 3ms/step - loss: 0.5970 - custom_mape: 3.3623 - val_loss: 1.1086 - val_custom_mape: 5.3032\n",
      "Epoch 297/500\n",
      "14/14 [==============================] - 0s 3ms/step - loss: 0.5642 - custom_mape: 3.1520 - val_loss: 1.1508 - val_custom_mape: 5.5929\n",
      "Epoch 298/500\n",
      "14/14 [==============================] - 0s 3ms/step - loss: 0.6245 - custom_mape: 3.5042 - val_loss: 1.0446 - val_custom_mape: 4.7254\n",
      "Epoch 299/500\n",
      "14/14 [==============================] - 0s 3ms/step - loss: 0.5476 - custom_mape: 3.1724 - val_loss: 1.0316 - val_custom_mape: 4.7306\n",
      "Epoch 300/500\n",
      "14/14 [==============================] - 0s 3ms/step - loss: 0.5419 - custom_mape: 3.0186 - val_loss: 1.0440 - val_custom_mape: 4.7146\n",
      "Epoch 301/500\n",
      "14/14 [==============================] - 0s 3ms/step - loss: 0.5105 - custom_mape: 2.8851 - val_loss: 1.0998 - val_custom_mape: 4.9191\n",
      "Epoch 302/500\n",
      "14/14 [==============================] - 0s 3ms/step - loss: 0.5791 - custom_mape: 3.3457 - val_loss: 1.2284 - val_custom_mape: 5.9734\n",
      "Epoch 303/500\n",
      "14/14 [==============================] - 0s 3ms/step - loss: 0.5790 - custom_mape: 3.3549 - val_loss: 1.1929 - val_custom_mape: 5.4450\n",
      "Epoch 304/500\n",
      "14/14 [==============================] - 0s 3ms/step - loss: 0.6693 - custom_mape: 3.7717 - val_loss: 1.1106 - val_custom_mape: 5.3808\n",
      "Epoch 305/500\n",
      "14/14 [==============================] - 0s 3ms/step - loss: 0.6106 - custom_mape: 3.3854 - val_loss: 1.0593 - val_custom_mape: 4.8982\n",
      "Epoch 306/500\n",
      "14/14 [==============================] - 0s 3ms/step - loss: 0.5620 - custom_mape: 3.1544 - val_loss: 1.1233 - val_custom_mape: 5.3967\n",
      "Epoch 307/500\n",
      "14/14 [==============================] - 0s 3ms/step - loss: 0.5372 - custom_mape: 3.0327 - val_loss: 1.0667 - val_custom_mape: 5.0840\n",
      "Epoch 308/500\n",
      "14/14 [==============================] - 0s 3ms/step - loss: 0.7275 - custom_mape: 3.9545 - val_loss: 1.2102 - val_custom_mape: 5.5575\n",
      "Epoch 309/500\n",
      "14/14 [==============================] - 0s 5ms/step - loss: 0.7738 - custom_mape: 4.1199 - val_loss: 1.2275 - val_custom_mape: 5.9860\n",
      "Epoch 310/500\n",
      "14/14 [==============================] - 0s 3ms/step - loss: 0.6912 - custom_mape: 3.8441 - val_loss: 1.0771 - val_custom_mape: 4.7873\n",
      "Epoch 311/500\n",
      "14/14 [==============================] - 0s 3ms/step - loss: 0.6094 - custom_mape: 3.2757 - val_loss: 1.0541 - val_custom_mape: 4.9196\n",
      "Epoch 312/500\n",
      "14/14 [==============================] - 0s 3ms/step - loss: 0.5342 - custom_mape: 2.9714 - val_loss: 1.0837 - val_custom_mape: 5.1831\n",
      "Epoch 313/500\n",
      "14/14 [==============================] - 0s 3ms/step - loss: 0.5384 - custom_mape: 3.0047 - val_loss: 1.0676 - val_custom_mape: 4.8101\n",
      "Epoch 314/500\n",
      "14/14 [==============================] - 0s 3ms/step - loss: 0.5290 - custom_mape: 2.9820 - val_loss: 1.0843 - val_custom_mape: 5.1218\n",
      "Epoch 315/500\n",
      "14/14 [==============================] - 0s 3ms/step - loss: 0.5256 - custom_mape: 2.9618 - val_loss: 1.0672 - val_custom_mape: 4.7631\n",
      "Epoch 316/500\n",
      "14/14 [==============================] - 0s 3ms/step - loss: 0.6193 - custom_mape: 3.5320 - val_loss: 1.2216 - val_custom_mape: 5.9106\n",
      "Epoch 317/500\n",
      "14/14 [==============================] - 0s 3ms/step - loss: 0.6123 - custom_mape: 3.4815 - val_loss: 1.1230 - val_custom_mape: 5.0080\n",
      "Epoch 318/500\n",
      "14/14 [==============================] - 0s 3ms/step - loss: 0.6168 - custom_mape: 3.4017 - val_loss: 1.0800 - val_custom_mape: 5.0735\n",
      "Epoch 319/500\n",
      "14/14 [==============================] - 0s 3ms/step - loss: 0.5189 - custom_mape: 2.9029 - val_loss: 1.0352 - val_custom_mape: 4.7639\n",
      "Epoch 320/500\n",
      "14/14 [==============================] - 0s 3ms/step - loss: 0.5494 - custom_mape: 3.1318 - val_loss: 1.0923 - val_custom_mape: 5.1865\n",
      "Epoch 321/500\n",
      "14/14 [==============================] - 0s 3ms/step - loss: 0.5279 - custom_mape: 2.9720 - val_loss: 1.0420 - val_custom_mape: 4.7133\n",
      "Epoch 322/500\n",
      "14/14 [==============================] - 0s 3ms/step - loss: 0.5292 - custom_mape: 2.9862 - val_loss: 1.1737 - val_custom_mape: 5.7068\n",
      "Epoch 323/500\n",
      "14/14 [==============================] - 0s 3ms/step - loss: 0.5492 - custom_mape: 3.1319 - val_loss: 1.1015 - val_custom_mape: 5.2071\n",
      "Epoch 324/500\n",
      "14/14 [==============================] - 0s 3ms/step - loss: 0.4970 - custom_mape: 2.7809 - val_loss: 1.0797 - val_custom_mape: 5.1438\n",
      "Epoch 325/500\n",
      "14/14 [==============================] - 0s 3ms/step - loss: 0.4974 - custom_mape: 2.7910 - val_loss: 1.0588 - val_custom_mape: 4.7803\n",
      "Epoch 326/500\n",
      "14/14 [==============================] - 0s 3ms/step - loss: 0.5354 - custom_mape: 3.0730 - val_loss: 1.1564 - val_custom_mape: 5.5897\n",
      "Epoch 327/500\n",
      "14/14 [==============================] - 0s 3ms/step - loss: 0.5443 - custom_mape: 3.0501 - val_loss: 1.1432 - val_custom_mape: 5.5968\n",
      "Epoch 328/500\n",
      "14/14 [==============================] - 0s 3ms/step - loss: 0.5670 - custom_mape: 3.1657 - val_loss: 1.0871 - val_custom_mape: 5.0751\n",
      "Epoch 329/500\n",
      "14/14 [==============================] - 0s 3ms/step - loss: 0.5596 - custom_mape: 3.1079 - val_loss: 1.0320 - val_custom_mape: 4.7286\n",
      "Epoch 330/500\n",
      "14/14 [==============================] - 0s 3ms/step - loss: 0.5782 - custom_mape: 3.2198 - val_loss: 1.0802 - val_custom_mape: 5.1083\n",
      "Epoch 331/500\n",
      "14/14 [==============================] - 0s 3ms/step - loss: 0.5476 - custom_mape: 3.0409 - val_loss: 1.0464 - val_custom_mape: 4.8146\n",
      "Epoch 332/500\n",
      "14/14 [==============================] - 0s 3ms/step - loss: 0.6741 - custom_mape: 3.8233 - val_loss: 1.1631 - val_custom_mape: 5.6601\n",
      "Epoch 333/500\n",
      "14/14 [==============================] - 0s 3ms/step - loss: 0.7558 - custom_mape: 4.1081 - val_loss: 1.2183 - val_custom_mape: 5.6558\n",
      "Epoch 334/500\n",
      "14/14 [==============================] - 0s 6ms/step - loss: 0.6546 - custom_mape: 3.6319 - val_loss: 1.1483 - val_custom_mape: 5.5649\n",
      "Epoch 335/500\n",
      "14/14 [==============================] - 0s 4ms/step - loss: 0.5566 - custom_mape: 3.1602 - val_loss: 1.0331 - val_custom_mape: 4.8298\n",
      "Epoch 336/500\n",
      "14/14 [==============================] - 0s 3ms/step - loss: 0.5133 - custom_mape: 2.8793 - val_loss: 1.0564 - val_custom_mape: 4.9708\n",
      "Epoch 337/500\n",
      "14/14 [==============================] - 0s 3ms/step - loss: 0.6365 - custom_mape: 3.5311 - val_loss: 1.2063 - val_custom_mape: 5.8820\n",
      "Epoch 338/500\n",
      "14/14 [==============================] - 0s 3ms/step - loss: 0.5449 - custom_mape: 3.0365 - val_loss: 1.1086 - val_custom_mape: 5.2696\n",
      "Epoch 339/500\n",
      "14/14 [==============================] - 0s 3ms/step - loss: 0.5023 - custom_mape: 2.8863 - val_loss: 1.1187 - val_custom_mape: 5.3516\n",
      "Epoch 340/500\n",
      "14/14 [==============================] - 0s 3ms/step - loss: 0.5079 - custom_mape: 2.9027 - val_loss: 1.0838 - val_custom_mape: 4.8066\n",
      "Epoch 341/500\n",
      "14/14 [==============================] - 0s 3ms/step - loss: 0.5571 - custom_mape: 3.1769 - val_loss: 1.1109 - val_custom_mape: 4.8628\n",
      "Epoch 342/500\n",
      "14/14 [==============================] - 0s 3ms/step - loss: 0.7448 - custom_mape: 4.0312 - val_loss: 1.0893 - val_custom_mape: 5.1369\n",
      "Epoch 343/500\n",
      "14/14 [==============================] - 0s 3ms/step - loss: 0.7217 - custom_mape: 3.8955 - val_loss: 1.0781 - val_custom_mape: 5.0681\n",
      "Epoch 344/500\n",
      "14/14 [==============================] - 0s 3ms/step - loss: 0.5774 - custom_mape: 3.3367 - val_loss: 1.0965 - val_custom_mape: 4.9387\n",
      "Epoch 345/500\n",
      "14/14 [==============================] - 0s 3ms/step - loss: 0.6018 - custom_mape: 3.4096 - val_loss: 1.2573 - val_custom_mape: 6.1752\n",
      "Epoch 346/500\n",
      "14/14 [==============================] - 0s 3ms/step - loss: 0.5530 - custom_mape: 3.1446 - val_loss: 1.1284 - val_custom_mape: 4.9158\n",
      "Epoch 347/500\n",
      "14/14 [==============================] - 0s 3ms/step - loss: 0.5194 - custom_mape: 2.9619 - val_loss: 1.0820 - val_custom_mape: 4.8049\n",
      "Epoch 348/500\n",
      "14/14 [==============================] - 0s 3ms/step - loss: 0.5123 - custom_mape: 2.8627 - val_loss: 1.1061 - val_custom_mape: 4.8678\n",
      "Epoch 349/500\n",
      "14/14 [==============================] - 0s 3ms/step - loss: 0.5276 - custom_mape: 2.9814 - val_loss: 1.1325 - val_custom_mape: 5.4550\n",
      "Epoch 350/500\n",
      "14/14 [==============================] - 0s 3ms/step - loss: 0.5648 - custom_mape: 3.2302 - val_loss: 1.1110 - val_custom_mape: 5.0570\n",
      "Epoch 351/500\n",
      "14/14 [==============================] - 0s 3ms/step - loss: 0.5774 - custom_mape: 3.3058 - val_loss: 1.3521 - val_custom_mape: 6.6503\n",
      "Epoch 352/500\n",
      "14/14 [==============================] - 0s 3ms/step - loss: 0.6620 - custom_mape: 3.7385 - val_loss: 1.1232 - val_custom_mape: 4.9420\n",
      "Epoch 353/500\n",
      "14/14 [==============================] - 0s 3ms/step - loss: 0.6004 - custom_mape: 3.4203 - val_loss: 1.1071 - val_custom_mape: 5.1354\n",
      "Epoch 354/500\n",
      "14/14 [==============================] - 0s 3ms/step - loss: 0.5426 - custom_mape: 3.1356 - val_loss: 1.0592 - val_custom_mape: 4.7920\n",
      "Epoch 355/500\n",
      "14/14 [==============================] - 0s 3ms/step - loss: 0.5197 - custom_mape: 2.9332 - val_loss: 1.0769 - val_custom_mape: 4.8405\n",
      "Epoch 356/500\n",
      "14/14 [==============================] - 0s 6ms/step - loss: 0.5048 - custom_mape: 2.8514 - val_loss: 1.0773 - val_custom_mape: 4.9916\n",
      "Epoch 357/500\n",
      "14/14 [==============================] - 0s 3ms/step - loss: 0.5744 - custom_mape: 3.2371 - val_loss: 1.0919 - val_custom_mape: 4.8524\n",
      "Epoch 358/500\n",
      "14/14 [==============================] - 0s 3ms/step - loss: 0.6169 - custom_mape: 3.5743 - val_loss: 1.3086 - val_custom_mape: 6.3667\n",
      "Epoch 359/500\n",
      "14/14 [==============================] - 0s 3ms/step - loss: 0.6582 - custom_mape: 3.6497 - val_loss: 1.1278 - val_custom_mape: 4.8898\n",
      "Epoch 360/500\n",
      "14/14 [==============================] - 0s 3ms/step - loss: 0.6301 - custom_mape: 3.5544 - val_loss: 1.1301 - val_custom_mape: 5.4238\n",
      "Epoch 361/500\n",
      "14/14 [==============================] - 0s 3ms/step - loss: 0.6158 - custom_mape: 3.3782 - val_loss: 1.2775 - val_custom_mape: 6.2538\n",
      "Epoch 362/500\n",
      "14/14 [==============================] - 0s 3ms/step - loss: 0.6770 - custom_mape: 3.7189 - val_loss: 1.1476 - val_custom_mape: 5.6313\n",
      "Epoch 363/500\n",
      "14/14 [==============================] - 0s 3ms/step - loss: 0.6038 - custom_mape: 3.3311 - val_loss: 1.0575 - val_custom_mape: 5.0077\n",
      "Epoch 364/500\n",
      "14/14 [==============================] - 0s 3ms/step - loss: 0.5452 - custom_mape: 3.1424 - val_loss: 1.0895 - val_custom_mape: 4.8567\n",
      "Epoch 365/500\n",
      "14/14 [==============================] - 0s 3ms/step - loss: 0.9055 - custom_mape: 4.7334 - val_loss: 1.1231 - val_custom_mape: 5.1090\n",
      "Epoch 366/500\n",
      "14/14 [==============================] - 0s 3ms/step - loss: 0.8503 - custom_mape: 4.3920 - val_loss: 1.2233 - val_custom_mape: 5.8852\n",
      "Epoch 367/500\n",
      "14/14 [==============================] - 0s 3ms/step - loss: 0.5619 - custom_mape: 3.1209 - val_loss: 1.1122 - val_custom_mape: 5.3196\n",
      "Epoch 368/500\n",
      "14/14 [==============================] - 0s 3ms/step - loss: 0.5845 - custom_mape: 3.3352 - val_loss: 1.1621 - val_custom_mape: 5.1342\n",
      "Epoch 369/500\n",
      "14/14 [==============================] - 0s 3ms/step - loss: 0.6301 - custom_mape: 3.5771 - val_loss: 1.1797 - val_custom_mape: 5.7474\n",
      "Epoch 370/500\n",
      "14/14 [==============================] - 0s 3ms/step - loss: 0.4988 - custom_mape: 2.8257 - val_loss: 1.0522 - val_custom_mape: 4.8895\n",
      "Epoch 371/500\n",
      "14/14 [==============================] - 0s 3ms/step - loss: 0.5174 - custom_mape: 2.9040 - val_loss: 1.0865 - val_custom_mape: 4.8007\n",
      "Epoch 372/500\n",
      "14/14 [==============================] - 0s 3ms/step - loss: 0.5098 - custom_mape: 2.8808 - val_loss: 1.1076 - val_custom_mape: 5.3127\n",
      "Epoch 373/500\n",
      "14/14 [==============================] - 0s 3ms/step - loss: 0.5186 - custom_mape: 2.9274 - val_loss: 1.0885 - val_custom_mape: 4.9344\n",
      "Epoch 374/500\n",
      "14/14 [==============================] - 0s 3ms/step - loss: 0.6919 - custom_mape: 3.8921 - val_loss: 1.1932 - val_custom_mape: 5.8486\n",
      "Epoch 375/500\n",
      "14/14 [==============================] - 0s 3ms/step - loss: 0.6219 - custom_mape: 3.4849 - val_loss: 1.1015 - val_custom_mape: 5.1481\n",
      "Epoch 376/500\n",
      "14/14 [==============================] - 0s 3ms/step - loss: 0.5533 - custom_mape: 3.1971 - val_loss: 1.0823 - val_custom_mape: 4.7962\n",
      "Epoch 377/500\n",
      "14/14 [==============================] - 0s 3ms/step - loss: 0.5263 - custom_mape: 3.0034 - val_loss: 1.1047 - val_custom_mape: 5.2432\n",
      "Epoch 378/500\n",
      "14/14 [==============================] - 0s 3ms/step - loss: 0.5036 - custom_mape: 2.8892 - val_loss: 1.0532 - val_custom_mape: 4.8875\n",
      "Epoch 379/500\n",
      "14/14 [==============================] - 0s 6ms/step - loss: 0.5143 - custom_mape: 2.9527 - val_loss: 1.0783 - val_custom_mape: 5.0382\n",
      "Epoch 380/500\n",
      "14/14 [==============================] - 0s 3ms/step - loss: 0.5341 - custom_mape: 3.0420 - val_loss: 1.1058 - val_custom_mape: 5.2678\n",
      "Epoch 381/500\n",
      "14/14 [==============================] - 0s 4ms/step - loss: 0.5605 - custom_mape: 3.1836 - val_loss: 1.0736 - val_custom_mape: 4.8003\n",
      "Epoch 382/500\n",
      "14/14 [==============================] - 0s 3ms/step - loss: 0.6270 - custom_mape: 3.5160 - val_loss: 1.2582 - val_custom_mape: 6.1728\n",
      "Epoch 383/500\n",
      "14/14 [==============================] - 0s 3ms/step - loss: 0.5840 - custom_mape: 3.3073 - val_loss: 1.0731 - val_custom_mape: 4.9025\n",
      "Epoch 384/500\n",
      "14/14 [==============================] - 0s 3ms/step - loss: 0.5362 - custom_mape: 3.0358 - val_loss: 1.0802 - val_custom_mape: 4.9560\n",
      "Epoch 385/500\n",
      "14/14 [==============================] - 0s 3ms/step - loss: 0.5264 - custom_mape: 2.9588 - val_loss: 1.0973 - val_custom_mape: 4.8234\n",
      "Epoch 386/500\n",
      "14/14 [==============================] - 0s 3ms/step - loss: 0.5830 - custom_mape: 3.3646 - val_loss: 1.2156 - val_custom_mape: 5.9578\n",
      "Epoch 387/500\n",
      "14/14 [==============================] - 0s 3ms/step - loss: 0.6073 - custom_mape: 3.4224 - val_loss: 1.1338 - val_custom_mape: 5.0426\n",
      "Epoch 388/500\n",
      "14/14 [==============================] - 0s 3ms/step - loss: 0.6577 - custom_mape: 3.7580 - val_loss: 1.3141 - val_custom_mape: 6.3774\n",
      "Epoch 389/500\n",
      "14/14 [==============================] - 0s 3ms/step - loss: 0.5766 - custom_mape: 3.3371 - val_loss: 1.1010 - val_custom_mape: 4.8289\n",
      "Epoch 390/500\n",
      "14/14 [==============================] - 0s 3ms/step - loss: 0.5696 - custom_mape: 3.2624 - val_loss: 1.2729 - val_custom_mape: 6.2482\n",
      "Epoch 391/500\n",
      "14/14 [==============================] - 0s 3ms/step - loss: 0.6228 - custom_mape: 3.4908 - val_loss: 1.1044 - val_custom_mape: 4.8819\n",
      "Epoch 392/500\n",
      "14/14 [==============================] - 0s 3ms/step - loss: 0.5635 - custom_mape: 3.1514 - val_loss: 1.1461 - val_custom_mape: 5.5461\n",
      "Epoch 393/500\n",
      "14/14 [==============================] - 0s 3ms/step - loss: 0.6049 - custom_mape: 3.4072 - val_loss: 1.1820 - val_custom_mape: 5.2878\n",
      "Epoch 394/500\n",
      "14/14 [==============================] - 0s 3ms/step - loss: 0.6436 - custom_mape: 3.5346 - val_loss: 1.1093 - val_custom_mape: 5.1557\n",
      "Epoch 395/500\n",
      "14/14 [==============================] - 0s 3ms/step - loss: 0.5613 - custom_mape: 3.1047 - val_loss: 1.0729 - val_custom_mape: 5.1442\n",
      "Epoch 396/500\n",
      "14/14 [==============================] - 0s 3ms/step - loss: 0.5468 - custom_mape: 3.0786 - val_loss: 1.0907 - val_custom_mape: 5.0793\n",
      "Epoch 397/500\n",
      "14/14 [==============================] - 0s 3ms/step - loss: 0.7859 - custom_mape: 4.2216 - val_loss: 1.2206 - val_custom_mape: 5.8910\n",
      "Epoch 398/500\n",
      "14/14 [==============================] - 0s 3ms/step - loss: 0.7291 - custom_mape: 3.8665 - val_loss: 1.0555 - val_custom_mape: 4.8941\n",
      "Epoch 399/500\n",
      "14/14 [==============================] - 0s 3ms/step - loss: 0.5739 - custom_mape: 3.2414 - val_loss: 1.0816 - val_custom_mape: 5.1060\n",
      "Epoch 400/500\n",
      "14/14 [==============================] - 0s 3ms/step - loss: 0.5297 - custom_mape: 2.9754 - val_loss: 1.1020 - val_custom_mape: 5.0790\n",
      "Epoch 401/500\n",
      "14/14 [==============================] - 0s 6ms/step - loss: 0.5201 - custom_mape: 2.9594 - val_loss: 1.0789 - val_custom_mape: 4.8484\n",
      "Epoch 402/500\n",
      "14/14 [==============================] - 0s 3ms/step - loss: 0.5079 - custom_mape: 2.9116 - val_loss: 1.1027 - val_custom_mape: 5.1286\n",
      "Epoch 403/500\n",
      "14/14 [==============================] - 0s 3ms/step - loss: 0.4946 - custom_mape: 2.8610 - val_loss: 1.0930 - val_custom_mape: 5.0137\n",
      "Epoch 404/500\n",
      "14/14 [==============================] - 0s 3ms/step - loss: 0.5142 - custom_mape: 2.8897 - val_loss: 1.1505 - val_custom_mape: 5.5197\n",
      "Epoch 405/500\n",
      "14/14 [==============================] - 0s 3ms/step - loss: 0.5188 - custom_mape: 3.0113 - val_loss: 1.0744 - val_custom_mape: 4.8328\n",
      "Epoch 406/500\n",
      "14/14 [==============================] - 0s 3ms/step - loss: 0.5677 - custom_mape: 3.2367 - val_loss: 1.1089 - val_custom_mape: 5.1078\n",
      "Epoch 407/500\n",
      "14/14 [==============================] - 0s 3ms/step - loss: 0.4990 - custom_mape: 2.8430 - val_loss: 1.0873 - val_custom_mape: 4.8365\n",
      "Epoch 408/500\n",
      "14/14 [==============================] - 0s 3ms/step - loss: 0.5470 - custom_mape: 3.0735 - val_loss: 1.2744 - val_custom_mape: 6.2085\n",
      "Epoch 409/500\n",
      "14/14 [==============================] - 0s 3ms/step - loss: 0.6298 - custom_mape: 3.5853 - val_loss: 1.0435 - val_custom_mape: 4.6867\n",
      "Epoch 410/500\n",
      "14/14 [==============================] - 0s 3ms/step - loss: 0.5660 - custom_mape: 3.1642 - val_loss: 1.3559 - val_custom_mape: 6.6281\n",
      "Epoch 411/500\n",
      "14/14 [==============================] - 0s 3ms/step - loss: 0.6012 - custom_mape: 3.4590 - val_loss: 1.0762 - val_custom_mape: 4.9603\n",
      "Epoch 412/500\n",
      "14/14 [==============================] - 0s 3ms/step - loss: 0.5332 - custom_mape: 3.0479 - val_loss: 1.0596 - val_custom_mape: 4.8579\n",
      "Epoch 413/500\n",
      "14/14 [==============================] - 0s 3ms/step - loss: 0.5066 - custom_mape: 2.9020 - val_loss: 1.1634 - val_custom_mape: 5.6659\n",
      "Epoch 414/500\n",
      "14/14 [==============================] - 0s 3ms/step - loss: 0.7346 - custom_mape: 4.0623 - val_loss: 1.3041 - val_custom_mape: 5.6575\n",
      "Epoch 415/500\n",
      "14/14 [==============================] - 0s 3ms/step - loss: 0.7202 - custom_mape: 4.0013 - val_loss: 1.5754 - val_custom_mape: 7.6705\n",
      "Epoch 416/500\n",
      "14/14 [==============================] - 0s 3ms/step - loss: 0.8390 - custom_mape: 4.4688 - val_loss: 1.1026 - val_custom_mape: 5.3263\n",
      "Epoch 417/500\n",
      "14/14 [==============================] - 0s 3ms/step - loss: 0.7743 - custom_mape: 4.1976 - val_loss: 1.2606 - val_custom_mape: 5.5137\n",
      "Epoch 418/500\n",
      "14/14 [==============================] - 0s 3ms/step - loss: 0.7613 - custom_mape: 4.0249 - val_loss: 1.1073 - val_custom_mape: 4.8913\n",
      "Epoch 419/500\n",
      "14/14 [==============================] - 0s 3ms/step - loss: 0.5735 - custom_mape: 3.2305 - val_loss: 1.0266 - val_custom_mape: 4.6875\n",
      "Epoch 420/500\n",
      "14/14 [==============================] - 0s 3ms/step - loss: 0.5215 - custom_mape: 2.9549 - val_loss: 1.1152 - val_custom_mape: 5.3036\n",
      "Epoch 421/500\n",
      "14/14 [==============================] - 0s 5ms/step - loss: 0.5062 - custom_mape: 2.8471 - val_loss: 1.0950 - val_custom_mape: 5.3140\n",
      "Epoch 422/500\n",
      "14/14 [==============================] - 0s 4ms/step - loss: 0.5229 - custom_mape: 2.9474 - val_loss: 1.0685 - val_custom_mape: 4.8319\n",
      "Epoch 423/500\n",
      "14/14 [==============================] - 0s 3ms/step - loss: 0.5086 - custom_mape: 2.9736 - val_loss: 1.0741 - val_custom_mape: 4.7976\n",
      "Epoch 424/500\n",
      "14/14 [==============================] - 0s 3ms/step - loss: 0.5238 - custom_mape: 2.9689 - val_loss: 1.0811 - val_custom_mape: 4.8510\n",
      "Epoch 425/500\n",
      "14/14 [==============================] - 0s 3ms/step - loss: 0.5196 - custom_mape: 2.9868 - val_loss: 1.1025 - val_custom_mape: 5.4348\n",
      "Epoch 426/500\n",
      "14/14 [==============================] - 0s 2ms/step - loss: 0.5275 - custom_mape: 3.0257 - val_loss: 1.0715 - val_custom_mape: 4.7609\n",
      "Epoch 427/500\n",
      "14/14 [==============================] - 0s 3ms/step - loss: 0.5193 - custom_mape: 2.9952 - val_loss: 1.0444 - val_custom_mape: 4.7107\n",
      "Epoch 428/500\n",
      "14/14 [==============================] - 0s 3ms/step - loss: 0.5175 - custom_mape: 3.0285 - val_loss: 1.3701 - val_custom_mape: 6.7263\n",
      "Epoch 429/500\n",
      "14/14 [==============================] - 0s 3ms/step - loss: 0.6127 - custom_mape: 3.4708 - val_loss: 1.3612 - val_custom_mape: 6.1385\n",
      "Epoch 430/500\n",
      "14/14 [==============================] - 0s 3ms/step - loss: 0.7943 - custom_mape: 4.2406 - val_loss: 1.2568 - val_custom_mape: 6.1976\n",
      "Epoch 431/500\n",
      "14/14 [==============================] - 0s 3ms/step - loss: 0.5751 - custom_mape: 3.3183 - val_loss: 1.1324 - val_custom_mape: 4.8953\n",
      "Epoch 432/500\n",
      "14/14 [==============================] - 0s 3ms/step - loss: 0.5402 - custom_mape: 3.1259 - val_loss: 1.2115 - val_custom_mape: 5.8842\n",
      "Epoch 433/500\n",
      "14/14 [==============================] - 0s 3ms/step - loss: 0.5766 - custom_mape: 3.3609 - val_loss: 1.0786 - val_custom_mape: 4.8073\n",
      "Epoch 434/500\n",
      "14/14 [==============================] - 0s 3ms/step - loss: 0.5269 - custom_mape: 3.0492 - val_loss: 1.0849 - val_custom_mape: 5.1489\n",
      "Epoch 435/500\n",
      "14/14 [==============================] - 0s 3ms/step - loss: 0.4822 - custom_mape: 2.7138 - val_loss: 1.0681 - val_custom_mape: 5.2103\n",
      "Epoch 436/500\n",
      "14/14 [==============================] - 0s 3ms/step - loss: 0.6074 - custom_mape: 3.4598 - val_loss: 1.1109 - val_custom_mape: 4.8725\n",
      "Epoch 437/500\n",
      "14/14 [==============================] - 0s 3ms/step - loss: 0.5043 - custom_mape: 2.9109 - val_loss: 1.0711 - val_custom_mape: 4.8014\n",
      "Epoch 438/500\n",
      "14/14 [==============================] - 0s 3ms/step - loss: 0.6354 - custom_mape: 3.5633 - val_loss: 1.5116 - val_custom_mape: 7.3801\n",
      "Epoch 439/500\n",
      "14/14 [==============================] - 0s 3ms/step - loss: 0.8107 - custom_mape: 4.4168 - val_loss: 1.1109 - val_custom_mape: 4.9259\n",
      "Epoch 440/500\n",
      "14/14 [==============================] - 0s 3ms/step - loss: 0.6419 - custom_mape: 3.6991 - val_loss: 1.1597 - val_custom_mape: 5.0548\n",
      "Epoch 441/500\n",
      "14/14 [==============================] - 0s 6ms/step - loss: 0.5878 - custom_mape: 3.4385 - val_loss: 1.3210 - val_custom_mape: 6.5550\n",
      "Epoch 442/500\n",
      "14/14 [==============================] - 0s 4ms/step - loss: 0.5694 - custom_mape: 3.2391 - val_loss: 1.1000 - val_custom_mape: 4.9564\n",
      "Epoch 443/500\n",
      "14/14 [==============================] - 0s 2ms/step - loss: 0.6205 - custom_mape: 3.6006 - val_loss: 1.1213 - val_custom_mape: 5.3412\n",
      "Epoch 444/500\n",
      "14/14 [==============================] - 0s 3ms/step - loss: 0.5359 - custom_mape: 3.0782 - val_loss: 1.1864 - val_custom_mape: 5.8137\n",
      "Epoch 445/500\n",
      "14/14 [==============================] - 0s 3ms/step - loss: 0.5681 - custom_mape: 3.3482 - val_loss: 1.1181 - val_custom_mape: 4.8648\n",
      "Epoch 446/500\n",
      "14/14 [==============================] - 0s 3ms/step - loss: 0.4995 - custom_mape: 2.8745 - val_loss: 1.0905 - val_custom_mape: 4.8704\n",
      "Epoch 447/500\n",
      "14/14 [==============================] - 0s 3ms/step - loss: 0.5443 - custom_mape: 3.1515 - val_loss: 1.1778 - val_custom_mape: 5.7730\n",
      "Epoch 448/500\n",
      "14/14 [==============================] - 0s 2ms/step - loss: 0.5647 - custom_mape: 3.3189 - val_loss: 1.0903 - val_custom_mape: 4.8635\n",
      "Epoch 449/500\n",
      "14/14 [==============================] - 0s 3ms/step - loss: 0.5318 - custom_mape: 3.0654 - val_loss: 1.1405 - val_custom_mape: 5.5721\n",
      "Epoch 450/500\n",
      "14/14 [==============================] - 0s 3ms/step - loss: 0.5236 - custom_mape: 3.0818 - val_loss: 1.0742 - val_custom_mape: 4.9299\n",
      "Epoch 451/500\n",
      "14/14 [==============================] - 0s 3ms/step - loss: 0.4769 - custom_mape: 2.8073 - val_loss: 1.0937 - val_custom_mape: 4.8426\n",
      "Epoch 452/500\n",
      "14/14 [==============================] - 0s 3ms/step - loss: 0.5992 - custom_mape: 3.4588 - val_loss: 1.0947 - val_custom_mape: 4.8860\n",
      "Epoch 453/500\n",
      "14/14 [==============================] - 0s 3ms/step - loss: 0.5191 - custom_mape: 2.9886 - val_loss: 1.1285 - val_custom_mape: 5.5094\n",
      "Epoch 454/500\n",
      "14/14 [==============================] - 0s 3ms/step - loss: 0.5192 - custom_mape: 3.0150 - val_loss: 1.0719 - val_custom_mape: 5.0115\n",
      "Epoch 455/500\n",
      "14/14 [==============================] - 0s 3ms/step - loss: 0.4840 - custom_mape: 2.8042 - val_loss: 1.1830 - val_custom_mape: 5.8018\n",
      "Epoch 456/500\n",
      "14/14 [==============================] - 0s 3ms/step - loss: 0.5136 - custom_mape: 3.0479 - val_loss: 1.0953 - val_custom_mape: 4.9780\n",
      "Epoch 457/500\n",
      "14/14 [==============================] - 0s 3ms/step - loss: 0.5486 - custom_mape: 3.2109 - val_loss: 1.1079 - val_custom_mape: 4.8895\n",
      "Epoch 458/500\n",
      "14/14 [==============================] - 0s 3ms/step - loss: 0.5889 - custom_mape: 3.4122 - val_loss: 1.3793 - val_custom_mape: 6.7559\n",
      "Epoch 459/500\n",
      "14/14 [==============================] - 0s 6ms/step - loss: 0.6126 - custom_mape: 3.4625 - val_loss: 1.1235 - val_custom_mape: 4.9157\n",
      "Epoch 460/500\n",
      "14/14 [==============================] - 0s 3ms/step - loss: 0.4907 - custom_mape: 2.8494 - val_loss: 1.1171 - val_custom_mape: 5.3191\n",
      "Epoch 461/500\n",
      "14/14 [==============================] - 0s 3ms/step - loss: 0.4937 - custom_mape: 2.8401 - val_loss: 1.0389 - val_custom_mape: 4.9017\n",
      "Epoch 462/500\n",
      "14/14 [==============================] - 0s 3ms/step - loss: 0.5198 - custom_mape: 2.9960 - val_loss: 1.0926 - val_custom_mape: 5.1733\n",
      "Epoch 463/500\n",
      "14/14 [==============================] - 0s 3ms/step - loss: 0.4961 - custom_mape: 2.8874 - val_loss: 1.0400 - val_custom_mape: 4.8317\n",
      "Epoch 464/500\n",
      "14/14 [==============================] - 0s 3ms/step - loss: 0.5239 - custom_mape: 3.0442 - val_loss: 1.0838 - val_custom_mape: 4.8364\n",
      "Epoch 465/500\n",
      "14/14 [==============================] - 0s 3ms/step - loss: 0.6045 - custom_mape: 3.4010 - val_loss: 1.1728 - val_custom_mape: 5.7506\n",
      "Epoch 466/500\n",
      "14/14 [==============================] - 0s 3ms/step - loss: 0.5755 - custom_mape: 3.2838 - val_loss: 1.1388 - val_custom_mape: 5.0865\n",
      "Epoch 467/500\n",
      "14/14 [==============================] - 0s 3ms/step - loss: 0.5392 - custom_mape: 3.0522 - val_loss: 1.0685 - val_custom_mape: 4.8101\n",
      "Epoch 468/500\n",
      "14/14 [==============================] - 0s 3ms/step - loss: 0.6494 - custom_mape: 3.6420 - val_loss: 1.1214 - val_custom_mape: 5.1746\n",
      "Epoch 469/500\n",
      "14/14 [==============================] - 0s 3ms/step - loss: 0.6157 - custom_mape: 3.5276 - val_loss: 1.1847 - val_custom_mape: 5.9687\n",
      "Epoch 470/500\n",
      "14/14 [==============================] - 0s 3ms/step - loss: 0.6382 - custom_mape: 3.6341 - val_loss: 1.1329 - val_custom_mape: 4.9765\n",
      "Epoch 471/500\n",
      "14/14 [==============================] - 0s 3ms/step - loss: 0.5386 - custom_mape: 3.1247 - val_loss: 1.1268 - val_custom_mape: 5.0399\n",
      "Epoch 472/500\n",
      "14/14 [==============================] - 0s 3ms/step - loss: 0.5067 - custom_mape: 2.9558 - val_loss: 1.0975 - val_custom_mape: 5.3466\n",
      "Epoch 473/500\n",
      "14/14 [==============================] - 0s 3ms/step - loss: 0.5057 - custom_mape: 2.9174 - val_loss: 1.1380 - val_custom_mape: 5.4694\n",
      "Epoch 474/500\n",
      "14/14 [==============================] - 0s 3ms/step - loss: 0.5029 - custom_mape: 2.9367 - val_loss: 1.0658 - val_custom_mape: 4.7613\n",
      "Epoch 475/500\n",
      "14/14 [==============================] - 0s 3ms/step - loss: 0.5174 - custom_mape: 2.9731 - val_loss: 1.1769 - val_custom_mape: 5.7835\n",
      "Epoch 476/500\n",
      "14/14 [==============================] - 0s 3ms/step - loss: 0.5013 - custom_mape: 2.9347 - val_loss: 1.0826 - val_custom_mape: 4.8955\n",
      "Epoch 477/500\n",
      "14/14 [==============================] - 0s 6ms/step - loss: 0.5802 - custom_mape: 3.3479 - val_loss: 1.2299 - val_custom_mape: 6.2078\n",
      "Epoch 478/500\n",
      "14/14 [==============================] - 0s 3ms/step - loss: 0.5721 - custom_mape: 3.2651 - val_loss: 1.1222 - val_custom_mape: 5.0760\n",
      "Epoch 479/500\n",
      "14/14 [==============================] - 0s 2ms/step - loss: 0.4884 - custom_mape: 2.7833 - val_loss: 1.1745 - val_custom_mape: 5.8042\n",
      "Epoch 480/500\n",
      "14/14 [==============================] - 0s 3ms/step - loss: 0.5829 - custom_mape: 3.3809 - val_loss: 1.2306 - val_custom_mape: 5.2612\n",
      "Epoch 481/500\n",
      "14/14 [==============================] - 0s 3ms/step - loss: 0.5933 - custom_mape: 3.4654 - val_loss: 1.0911 - val_custom_mape: 4.8747\n",
      "Epoch 482/500\n",
      "14/14 [==============================] - 0s 3ms/step - loss: 0.4879 - custom_mape: 2.8381 - val_loss: 1.1205 - val_custom_mape: 5.3967\n",
      "Epoch 483/500\n",
      "14/14 [==============================] - 0s 3ms/step - loss: 0.4972 - custom_mape: 2.9144 - val_loss: 1.0926 - val_custom_mape: 4.8696\n",
      "Epoch 484/500\n",
      "14/14 [==============================] - 0s 3ms/step - loss: 0.5635 - custom_mape: 3.2599 - val_loss: 1.3196 - val_custom_mape: 6.5469\n",
      "Epoch 485/500\n",
      "14/14 [==============================] - 0s 3ms/step - loss: 0.5594 - custom_mape: 3.2569 - val_loss: 1.1040 - val_custom_mape: 4.9217\n",
      "Epoch 486/500\n",
      "14/14 [==============================] - 0s 3ms/step - loss: 0.4937 - custom_mape: 2.8423 - val_loss: 1.1559 - val_custom_mape: 5.6107\n",
      "Epoch 487/500\n",
      "14/14 [==============================] - 0s 3ms/step - loss: 0.5230 - custom_mape: 3.1432 - val_loss: 1.0745 - val_custom_mape: 5.2102\n",
      "Epoch 488/500\n",
      "14/14 [==============================] - 0s 3ms/step - loss: 0.5159 - custom_mape: 2.9785 - val_loss: 1.0877 - val_custom_mape: 4.8123\n",
      "Epoch 489/500\n",
      "14/14 [==============================] - 0s 3ms/step - loss: 0.5258 - custom_mape: 3.0445 - val_loss: 1.1719 - val_custom_mape: 5.8163\n",
      "Epoch 490/500\n",
      "14/14 [==============================] - 0s 3ms/step - loss: 0.5195 - custom_mape: 3.0319 - val_loss: 1.1305 - val_custom_mape: 5.0597\n",
      "Epoch 491/500\n",
      "14/14 [==============================] - 0s 3ms/step - loss: 0.5490 - custom_mape: 3.1668 - val_loss: 1.1121 - val_custom_mape: 5.4120\n",
      "Epoch 492/500\n",
      "14/14 [==============================] - 0s 3ms/step - loss: 0.5517 - custom_mape: 3.1554 - val_loss: 1.1073 - val_custom_mape: 5.3525\n",
      "Epoch 493/500\n",
      "14/14 [==============================] - 0s 3ms/step - loss: 0.5706 - custom_mape: 3.2482 - val_loss: 1.0768 - val_custom_mape: 4.8510\n",
      "Epoch 494/500\n",
      "14/14 [==============================] - 0s 3ms/step - loss: 0.5431 - custom_mape: 3.2138 - val_loss: 1.0877 - val_custom_mape: 4.9109\n",
      "Epoch 495/500\n",
      "14/14 [==============================] - 0s 5ms/step - loss: 0.5105 - custom_mape: 2.9521 - val_loss: 1.0965 - val_custom_mape: 5.2842\n",
      "Epoch 496/500\n",
      "14/14 [==============================] - 0s 3ms/step - loss: 0.5565 - custom_mape: 3.2247 - val_loss: 1.0655 - val_custom_mape: 4.7730\n",
      "Epoch 497/500\n",
      "14/14 [==============================] - 0s 3ms/step - loss: 0.4870 - custom_mape: 2.8553 - val_loss: 1.1181 - val_custom_mape: 5.0121\n",
      "Epoch 498/500\n",
      "14/14 [==============================] - 0s 3ms/step - loss: 0.5583 - custom_mape: 3.2924 - val_loss: 1.0705 - val_custom_mape: 5.1997\n",
      "Epoch 499/500\n",
      "14/14 [==============================] - 0s 3ms/step - loss: 0.6056 - custom_mape: 3.3701 - val_loss: 1.0758 - val_custom_mape: 4.9728\n",
      "Epoch 500/500\n",
      "14/14 [==============================] - 0s 3ms/step - loss: 0.4667 - custom_mape: 2.6828 - val_loss: 1.1069 - val_custom_mape: 5.2542\n"
     ]
    }
   ],
   "source": [
    "# Model Training\n",
    "history = model.fit(X_train, y_train, validation_data=(X_val, y_val), epochs=500, batch_size=24, verbose=1, callbacks=[myCallback()])"
   ]
  },
  {
   "cell_type": "markdown",
   "id": "f028bfb1-5802-454a-a96c-5099a4a6b94d",
   "metadata": {},
   "source": [
    "### Visualisasi loss"
   ]
  },
  {
   "cell_type": "code",
   "execution_count": 40,
   "id": "1c7d9be8-c33e-4055-aa77-d4f425296985",
   "metadata": {},
   "outputs": [
    {
     "data": {
      "image/png": "[encoded data removed]",
      "text/plain": [
       "<Figure size 1000x500 with 1 Axes>"
      ]
     },
     "metadata": {},
     "output_type": "display_data"
    }
   ],
   "source": [
    "plt.figure(figsize=(10, 5))\n",
    "plt.plot(history.history['loss'], label='Training Loss')\n",
    "plt.plot(history.history['val_loss'], label='Validation Loss')\n",
    "plt.title('Model Loss')\n",
    "plt.xlabel('Epochs')\n",
    "plt.ylabel('Loss')\n",
    "plt.legend()\n",
    "plt.grid(True)\n",
    "plt.show()"
   ]
  },
  {
   "cell_type": "markdown",
   "id": "5e1b4fad-7b8f-45a6-a296-449f16a27417",
   "metadata": {
    "jp-MarkdownHeadingCollapsed": true
   },
   "source": [
    "### Noise Dataset"
   ]
  },
  {
   "cell_type": "code",
   "execution_count": null,
   "id": "02ad9289-7be8-4232-b020-22d78c1b7231",
   "metadata": {},
   "outputs": [],
   "source": [
    "# Data Augmentation (di sini pakai Random Noise)\n",
    "# tambah random noise ke training data\n",
    "noise = np.random.normal(0, 0.1, X_train.shape)\n",
    "X_train_noisy = X_train + noise\n",
    "model.fit(X_train_noisy, y_train, epochs=50, batch_size=32, validation_split=0.2, callbacks=[early_stopping])"
   ]
  },
  {
   "cell_type": "code",
   "execution_count": null,
   "id": "bc2d7aec-8ad8-4312-a5f1-2d469844122e",
   "metadata": {},
   "outputs": [],
   "source": [
    "plt.figure(figsize=(10, 5))\n",
    "plt.plot(history.history['loss'], label='Training Loss')\n",
    "plt.plot(history.history['val_loss'], label='Validation Loss')\n",
    "plt.title('Model Loss')\n",
    "plt.xlabel('Epochs')\n",
    "plt.ylabel('Loss')\n",
    "plt.legend()\n",
    "plt.grid(True)\n",
    "plt.show()"
   ]
  },
  {
   "cell_type": "markdown",
   "id": "dc25f842-076a-473c-90dc-e17c9a6577c7",
   "metadata": {
    "jp-MarkdownHeadingCollapsed": true
   },
   "source": [
    "### Regularization"
   ]
  },
  {
   "cell_type": "code",
   "execution_count": null,
   "id": "1ab8a038-6e77-46ba-96e8-b9b84881765d",
   "metadata": {},
   "outputs": [],
   "source": [
    "# Regularization (L2 Regularization)\n",
    "model = keras.Sequential()\n",
    "model.add(LSTM(128, activation='relu', return_sequences=True, input_shape=(WINDOW_SIZE, 1), kernel_regularizer=l2(0.01)))\n",
    "model.add(LSTM(128, activation='relu', return_sequences=True, kernel_regularizer=l2(0.01)))\n",
    "model.add(LSTM(128, activation='relu', kernel_regularizer=l2(0.01)))\n",
    "model.add(Dense(64, activation='relu', kernel_regularizer=l2(0.01)))\n",
    "model.add(Dense(1))"
   ]
  },
  {
   "cell_type": "markdown",
   "id": "bb005a94-f78e-4d43-a9ae-a623e4c4496e",
   "metadata": {
    "jp-MarkdownHeadingCollapsed": true
   },
   "source": [
    "### Cross Validation"
   ]
  },
  {
   "cell_type": "code",
   "execution_count": null,
   "id": "666081da-5b0d-4726-a777-6ec25a7c2289",
   "metadata": {},
   "outputs": [],
   "source": [
    "# Membuat objek KFold dengan 5 fold\n",
    "kf = KFold(n_splits=5, shuffle=True, random_state=42)\n",
    "\n",
    "# Menyimpan hasil cross-validation\n",
    "cv_results = []\n",
    "true_values = []\n",
    "predictions = []\n",
    "\n",
    "for train_index, val_index in kf.split(X):\n",
    "    # Membagi data menjadi train dan validation set untuk setiap fold\n",
    "    X_train_fold, X_val_fold = X[train_index], X[val_index]\n",
    "    y_train_fold, y_val_fold = y[train_index], y[val_index]\n",
    "\n",
    "    # Membuat model\n",
    "    model = keras.Sequential()\n",
    "    model.add(Dense(128, activation='relu', input_shape=(WINDOW_SIZE, 1)))\n",
    "    model.add(Dropout(0.2))\n",
    "    model.add(Dense(128, activation='relu'))\n",
    "    model.add(Dropout(0.2))\n",
    "    model.add(Dense(128, activation='relu'))\n",
    "    model.add(Dropout(0.2))\n",
    "    model.add(Dense(64, activation='relu'))\n",
    "    model.add(Dropout(0.2))\n",
    "    model.add(Dense(1))\n",
    "\n",
    "    # Kompilasi model\n",
    "    model.compile(optimizer='adam', loss=tf.keras.losses.Huber())\n",
    "\n",
    "    # Latih model\n",
    "    history = model.fit(X_train_fold, y_train_fold, epochs=50, batch_size=8, validation_data=(X_val_fold, y_val_fold), verbose=0)\n",
    "\n",
    "    # Evaluasi model pada data validasi\n",
    "    val_loss = model.evaluate(X_val_fold, y_val_fold, verbose=0)\n",
    "\n",
    "    # Menyimpan hasil evaluasi untuk setiap fold\n",
    "    cv_results.append(val_loss)\n",
    "\n",
    "    # Menyimpan true values dan predictions\n",
    "    y_pred_fold = model.predict(X_val_fold)\n",
    "    true_values.extend(y_val_fold)\n",
    "    predictions.extend(y_pred_fold)\n",
    "\n",
    "# Menghitung rata-rata dan standar deviasi loss dari cross-validation\n",
    "mean_loss = np.mean(cv_results)\n",
    "std_loss = np.std(cv_results)\n",
    "\n",
    "# Menghitung MAE dan RMSE\n",
    "mae = mean_absolute_error(true_values, predictions)\n",
    "rmse = np.sqrt(mean_squared_error(true_values, predictions))\n",
    "\n",
    "print(f'Rata-rata Loss dari Cross-Validation: {mean_loss}')\n",
    "print(f'Standar Deviasi Loss dari Cross-Validation: {std_loss}')\n",
    "print(f'Mean Absolute Error (MAE): {mae}')\n",
    "print(f'Root Mean Squared Error (RMSE): {rmse}')"
   ]
  },
  {
   "cell_type": "markdown",
   "id": "dc4b3cef-6ce8-435a-8713-af0b13bb94b7",
   "metadata": {},
   "source": [
    "## Forecast"
   ]
  },
  {
   "cell_type": "markdown",
   "id": "661baa41-81e5-44a7-a0f6-28b75d534a47",
   "metadata": {},
   "source": [
    "### Train Forecast"
   ]
  },
  {
   "cell_type": "code",
   "execution_count": 41,
   "id": "8e74c1f4-1790-4383-84e2-3691cd66b6d6",
   "metadata": {},
   "outputs": [],
   "source": [
    "def inverse_scale(data):\n",
    "    return data*1000"
   ]
  },
  {
   "cell_type": "code",
   "execution_count": 42,
   "id": "5c0055af-f41d-4769-ab8b-c330f6638e24",
   "metadata": {},
   "outputs": [
    {
     "name": "stdout",
     "output_type": "stream",
     "text": [
      "14/14 [==============================] - 0s 2ms/step\n"
     ]
    }
   ],
   "source": [
    "predict = model.predict(X)\n",
    "predict = inverse_scale(predict.flatten())\n",
    "y_inverse = inverse_scale(y)"
   ]
  },
  {
   "cell_type": "code",
   "execution_count": 43,
   "id": "bdde9fca-d7f7-4106-bde6-a7fc9ecaaab7",
   "metadata": {},
   "outputs": [
    {
     "data": {
      "text/plain": [
       "(418,)"
      ]
     },
     "execution_count": 43,
     "metadata": {},
     "output_type": "execute_result"
    }
   ],
   "source": [
    "predict.shape"
   ]
  },
  {
   "cell_type": "code",
   "execution_count": 44,
   "id": "4abece7d-8338-4df7-bb21-aec6fa053f94",
   "metadata": {},
   "outputs": [
    {
     "data": {
      "text/html": [
       "<div>\n",
       "<style scoped>\n",
       "    .dataframe tbody tr th:only-of-type {\n",
       "        vertical-align: middle;\n",
       "    }\n",
       "\n",
       "    .dataframe tbody tr th {\n",
       "        vertical-align: top;\n",
       "    }\n",
       "\n",
       "    .dataframe thead th {\n",
       "        text-align: right;\n",
       "    }\n",
       "</style>\n",
       "<table border=\"1\" class=\"dataframe\">\n",
       "  <thead>\n",
       "    <tr style=\"text-align: right;\">\n",
       "      <th></th>\n",
       "      <th>Week</th>\n",
       "      <th>Prediction</th>\n",
       "      <th>actuals</th>\n",
       "    </tr>\n",
       "  </thead>\n",
       "  <tbody>\n",
       "    <tr>\n",
       "      <th>0</th>\n",
       "      <td>25</td>\n",
       "      <td>19917.802734</td>\n",
       "      <td>20000.0</td>\n",
       "    </tr>\n",
       "    <tr>\n",
       "      <th>1</th>\n",
       "      <td>26</td>\n",
       "      <td>19765.462891</td>\n",
       "      <td>20000.0</td>\n",
       "    </tr>\n",
       "    <tr>\n",
       "      <th>2</th>\n",
       "      <td>27</td>\n",
       "      <td>19824.121094</td>\n",
       "      <td>20000.0</td>\n",
       "    </tr>\n",
       "    <tr>\n",
       "      <th>3</th>\n",
       "      <td>28</td>\n",
       "      <td>19783.808594</td>\n",
       "      <td>22000.0</td>\n",
       "    </tr>\n",
       "    <tr>\n",
       "      <th>4</th>\n",
       "      <td>29</td>\n",
       "      <td>22141.154297</td>\n",
       "      <td>22000.0</td>\n",
       "    </tr>\n",
       "    <tr>\n",
       "      <th>...</th>\n",
       "      <td>...</td>\n",
       "      <td>...</td>\n",
       "      <td>...</td>\n",
       "    </tr>\n",
       "    <tr>\n",
       "      <th>413</th>\n",
       "      <td>438</td>\n",
       "      <td>22173.814453</td>\n",
       "      <td>22000.0</td>\n",
       "    </tr>\n",
       "    <tr>\n",
       "      <th>414</th>\n",
       "      <td>439</td>\n",
       "      <td>21995.310547</td>\n",
       "      <td>22000.0</td>\n",
       "    </tr>\n",
       "    <tr>\n",
       "      <th>415</th>\n",
       "      <td>440</td>\n",
       "      <td>21795.443359</td>\n",
       "      <td>22000.0</td>\n",
       "    </tr>\n",
       "    <tr>\n",
       "      <th>416</th>\n",
       "      <td>441</td>\n",
       "      <td>21958.005859</td>\n",
       "      <td>22000.0</td>\n",
       "    </tr>\n",
       "    <tr>\n",
       "      <th>417</th>\n",
       "      <td>442</td>\n",
       "      <td>22038.695312</td>\n",
       "      <td>27000.0</td>\n",
       "    </tr>\n",
       "  </tbody>\n",
       "</table>\n",
       "<p>418 rows × 3 columns</p>\n",
       "</div>"
      ],
      "text/plain": [
       "     Week    Prediction  actuals\n",
       "0      25  19917.802734  20000.0\n",
       "1      26  19765.462891  20000.0\n",
       "2      27  19824.121094  20000.0\n",
       "3      28  19783.808594  22000.0\n",
       "4      29  22141.154297  22000.0\n",
       "..    ...           ...      ...\n",
       "413   438  22173.814453  22000.0\n",
       "414   439  21995.310547  22000.0\n",
       "415   440  21795.443359  22000.0\n",
       "416   441  21958.005859  22000.0\n",
       "417   442  22038.695312  27000.0\n",
       "\n",
       "[418 rows x 3 columns]"
      ]
     },
     "execution_count": 44,
     "metadata": {},
     "output_type": "execute_result"
    }
   ],
   "source": [
    "predict_result = pd.DataFrame(data={'Week':week[window_size:], 'Prediction':predict, 'actuals':y_inverse})\n",
    "predict_result"
   ]
  },
  {
   "cell_type": "code",
   "execution_count": 45,
   "id": "325ffa88-e5e8-4e49-90c9-8d50f5876151",
   "metadata": {},
   "outputs": [
    {
     "data": {
      "image/png": "[encoded data removed]",
      "text/plain": [
       "<Figure size 1200x600 with 1 Axes>"
      ]
     },
     "metadata": {},
     "output_type": "display_data"
    }
   ],
   "source": [
    "week_selected = 0\n",
    "plt.figure(figsize=(12, 6))\n",
    "plt.plot(predict_result['Week'][week_selected:], predict_result['Prediction'][week_selected:], label='Prediction', color='blue')\n",
    "plt.plot(predict_result['Week'][week_selected:], predict_result['actuals'][week_selected:], label='Actuals', color='orange')\n",
    "\n",
    "plt.xlabel('Date')\n",
    "plt.ylabel('Value')\n",
    "plt.title('Predicted vs Actual Values Over Time')\n",
    "plt.legend()\n",
    "plt.xticks(rotation=45)\n",
    "plt.tight_layout()\n",
    "\n",
    "plt.show()"
   ]
  },
  {
   "cell_type": "markdown",
   "id": "62dd2078-1f21-409d-a417-42ea0e84a7ab",
   "metadata": {},
   "source": [
    "### Validation Forecast"
   ]
  },
  {
   "cell_type": "code",
   "execution_count": 46,
   "id": "ee789e6e-d324-4285-b2af-fd24283ff693",
   "metadata": {},
   "outputs": [
    {
     "name": "stdout",
     "output_type": "stream",
     "text": [
      "mae: 987.43\n",
      "mse: 2707034.95\n",
      "rmse: 1645.31\n"
     ]
    }
   ],
   "source": [
    "from sklearn.metrics import mean_absolute_error, mean_squared_error\n",
    "\n",
    "mae = mean_absolute_error(y_inverse, predict)\n",
    "mse = mean_squared_error(y_inverse, predict)\n",
    "rmse = np.sqrt(mse)\n",
    "\n",
    "print(f'mae: {mae:.2f}')\n",
    "print(f'mse: {mse:.2f}')\n",
    "print(f'rmse: {rmse:.2f}')"
   ]
  },
  {
   "cell_type": "code",
   "execution_count": 47,
   "id": "6a5d4d86-78c7-4e0c-a5c2-771dc4b75af8",
   "metadata": {},
   "outputs": [
    {
     "name": "stdout",
     "output_type": "stream",
     "text": [
      "Akurasi prediksi: 96.58%\n"
     ]
    }
   ],
   "source": [
    "mape = np.mean(np.abs((y_inverse - predict) / y_inverse)) * 100\n",
    "accuracy = 100 - mape\n",
    "print(f\"Akurasi prediksi: {accuracy:.2f}%\")"
   ]
  },
  {
   "cell_type": "markdown",
   "id": "b838bbac-bc55-4ccc-8baa-116794a96a70",
   "metadata": {},
   "source": [
    "### Future Forecast"
   ]
  },
  {
   "cell_type": "code",
   "execution_count": 48,
   "id": "9fad83f2-a004-4150-98e7-aa3d6dc893ac",
   "metadata": {},
   "outputs": [],
   "source": [
    "def inverse_scale(data):\n",
    "    return data*1000"
   ]
  },
  {
   "cell_type": "code",
   "execution_count": null,
   "id": "b5c4fe6a-14e8-496b-8753-0922bef9ecac",
   "metadata": {},
   "outputs": [],
   "source": [
    "def prediction(data):\n",
    "    # scaling actual data\n",
    "    actual_scaled = scaled_price(data)\n",
    "    # select seq from scaled data\n",
    "    seq = actual_scaled[-window_size:]\n",
    "    # predict\n",
    "    hasil = model.predict(seq.reshape(1, window_size, 1))\n",
    "    # reshape hasil\n",
    "    hasil = inverse_scale(hasil)\n",
    "    # append hasil to result\n",
    "    seq_res.append(hasil.item())"
   ]
  },
  {
   "cell_type": "code",
   "execution_count": 49,
   "id": "f885d8e0-7630-4d28-a069-d8adb2538f2f",
   "metadata": {},
   "outputs": [],
   "source": [
    "def predict_2_weeks(data, result):\n",
    "    seq_res = result\n",
    "    act_temp = data.reshape(-1, 1)\n",
    "    for i in range(2):\n",
    "        actual_scaled = scaled_price(act_temp)\n",
    "        seq = actual_scaled[-window_size:]\n",
    "        hasil = model.predict(seq.reshape(1, window_size, 1))\n",
    "        hasil = inverse_scale(hasil)\n",
    "        seq_res = np.append(seq_res, hasil.item())\n",
    "        act_temp = np.append(act_temp, np.expand_dims([hasil.item()], axis=1))\n",
    "    return seq_res"
   ]
  },
  {
   "cell_type": "code",
   "execution_count": null,
   "id": "24f0ec6d-f466-439b-a709-8c6259d46778",
   "metadata": {},
   "outputs": [],
   "source": [
    "print(model.input_shape)"
   ]
  },
  {
   "cell_type": "code",
   "execution_count": 53,
   "id": "8f9a73c1-e7f6-41b5-8830-eed8674d8e3b",
   "metadata": {},
   "outputs": [],
   "source": [
    "actual = series[:-30]\n",
    "seq_res = np.array([])\n",
    "\n",
    "# seq_res = predict_n_weeks(4, actual, seq_res)\n",
    "# prediction(actual)\n",
    "# seq_res"
   ]
  },
  {
   "cell_type": "code",
   "execution_count": 52,
   "id": "85b9fab7-3c4b-4024-ac7b-061f400a3e0d",
   "metadata": {},
   "outputs": [
    {
     "data": {
      "text/plain": [
       "(442,)"
      ]
     },
     "execution_count": 52,
     "metadata": {},
     "output_type": "execute_result"
    }
   ],
   "source": [
    "series.shape"
   ]
  },
  {
   "cell_type": "code",
   "execution_count": 54,
   "id": "5123199a-ab53-47bc-82e4-b2f03392f832",
   "metadata": {},
   "outputs": [],
   "source": [
    "act_temp = actual.reshape(-1, 1)"
   ]
  },
  {
   "cell_type": "code",
   "execution_count": 55,
   "id": "405321ee-8d99-4348-bef5-7bb191fe0f5d",
   "metadata": {},
   "outputs": [
    {
     "name": "stdout",
     "output_type": "stream",
     "text": [
      "1/1 [==============================] - 0s 68ms/step\n"
     ]
    }
   ],
   "source": [
    "actual_scaled = scaled_price(act_temp)\n",
    "seq = actual_scaled[-window_size:]\n",
    "hasil = model.predict(seq.reshape(1, window_size, 1))\n",
    "hasil = inverse_scale(hasil)\n",
    "seq_res = np.append(seq_res, hasil.item())\n",
    "act_temp = np.append(act_temp, np.expand_dims([hasil.item()], axis=1))"
   ]
  },
  {
   "cell_type": "code",
   "execution_count": 56,
   "id": "a838b039-56c1-4fd6-96ac-975d53287ccb",
   "metadata": {},
   "outputs": [
    {
     "data": {
      "text/plain": [
       "array([20546.59375])"
      ]
     },
     "execution_count": 56,
     "metadata": {},
     "output_type": "execute_result"
    }
   ],
   "source": [
    "seq_res"
   ]
  },
  {
   "cell_type": "code",
   "execution_count": 57,
   "id": "76a702c7-abe7-40d4-a0ab-bcdac15c09c8",
   "metadata": {},
   "outputs": [
    {
     "name": "stdout",
     "output_type": "stream",
     "text": [
      "1/1 [==============================] - 0s 15ms/step\n"
     ]
    }
   ],
   "source": [
    "actual_scaled = scaled_price(act_temp)\n",
    "seq = actual_scaled[-window_size:]\n",
    "hasil = model.predict(seq.reshape(1, window_size, 1))\n",
    "hasil = inverse_scale(hasil)\n",
    "seq_res = np.append(seq_res, hasil.item())\n",
    "act_temp = np.append(act_temp, np.expand_dims([hasil.item()], axis=1))"
   ]
  },
  {
   "cell_type": "code",
   "execution_count": 58,
   "id": "749d0eeb-deb0-46a0-aee6-4b54bae5de9c",
   "metadata": {},
   "outputs": [
    {
     "data": {
      "text/plain": [
       "array([20546.59375   , 21174.99414062])"
      ]
     },
     "execution_count": 58,
     "metadata": {},
     "output_type": "execute_result"
    }
   ],
   "source": [
    "seq_res"
   ]
  },
  {
   "cell_type": "code",
   "execution_count": 62,
   "id": "2dfe1d2b-f4ef-47cc-a9ee-6188840bda7a",
   "metadata": {},
   "outputs": [
    {
     "name": "stdout",
     "output_type": "stream",
     "text": [
      "     3 Hari  Harga/3 hari\n",
      "412     413       18000.0\n",
      "413     414       18000.0\n"
     ]
    }
   ],
   "source": [
    "print(weekly_data[(weekly_data['3 Hari'] > 412) & (weekly_data['3 Hari'] <= 414)])"
   ]
  },
  {
   "cell_type": "code",
   "execution_count": 63,
   "id": "dcf9db77-c770-442d-8c82-b4fe803802ff",
   "metadata": {},
   "outputs": [],
   "source": [
    "actual = np.append(actual, [18000.00, 18000.00])"
   ]
  },
  {
   "cell_type": "code",
   "execution_count": 64,
   "id": "7ebc3e48-839e-4979-8b5a-f57f878c7239",
   "metadata": {},
   "outputs": [],
   "source": [
    "act_temp = actual.reshape(-1, 1)\n",
    "# seq_res = np.array([])"
   ]
  },
  {
   "cell_type": "code",
   "execution_count": 65,
   "id": "90885ea2-29d3-44a2-9994-9a714aacd5df",
   "metadata": {},
   "outputs": [
    {
     "name": "stdout",
     "output_type": "stream",
     "text": [
      "1/1 [==============================] - 0s 14ms/step\n"
     ]
    }
   ],
   "source": [
    "actual_scaled = scaled_price(act_temp)\n",
    "seq = actual_scaled[-window_size:]\n",
    "hasil = model.predict(seq.reshape(1, window_size, 1))\n",
    "hasil = inverse_scale(hasil)\n",
    "seq_res = np.append(seq_res, hasil.item())\n",
    "act_temp = np.append(act_temp, np.expand_dims([hasil.item()], axis=1))"
   ]
  },
  {
   "cell_type": "code",
   "execution_count": 66,
   "id": "e150546b-67b9-49db-a0df-7c16a0b985c2",
   "metadata": {},
   "outputs": [
    {
     "data": {
      "text/plain": [
       "array([20546.59375   , 21174.99414062, 17941.86914062])"
      ]
     },
     "execution_count": 66,
     "metadata": {},
     "output_type": "execute_result"
    }
   ],
   "source": [
    "seq_res"
   ]
  },
  {
   "cell_type": "code",
   "execution_count": 67,
   "id": "13c097ca-6876-4ee7-aa65-ec607a517f99",
   "metadata": {},
   "outputs": [
    {
     "name": "stdout",
     "output_type": "stream",
     "text": [
      "1/1 [==============================] - 0s 15ms/step\n"
     ]
    }
   ],
   "source": [
    "actual_scaled = scaled_price(act_temp)\n",
    "seq = actual_scaled[-window_size:]\n",
    "hasil = model.predict(seq.reshape(1, window_size, 1))\n",
    "hasil = inverse_scale(hasil)\n",
    "seq_res = np.append(seq_res, hasil.item())\n",
    "act_temp = np.append(act_temp, np.expand_dims([hasil.item()], axis=1))"
   ]
  },
  {
   "cell_type": "code",
   "execution_count": 68,
   "id": "9d751a90-5abd-4418-80f7-e42292c3eae2",
   "metadata": {},
   "outputs": [
    {
     "data": {
      "text/plain": [
       "array([20546.59375   , 21174.99414062, 17941.86914062, 18213.17578125])"
      ]
     },
     "execution_count": 68,
     "metadata": {},
     "output_type": "execute_result"
    }
   ],
   "source": [
    "seq_res"
   ]
  },
  {
   "cell_type": "code",
   "execution_count": 69,
   "id": "0b1f87d3-ab9d-4678-aa95-2f2c475b4c04",
   "metadata": {},
   "outputs": [
    {
     "name": "stdout",
     "output_type": "stream",
     "text": [
      "     3 Hari  Harga/3 hari\n",
      "414     415       18000.0\n",
      "415     416       18000.0\n"
     ]
    }
   ],
   "source": [
    "print(weekly_data[(weekly_data['3 Hari'] > 414) & (weekly_data['3 Hari'] <= 416)])"
   ]
  },
  {
   "cell_type": "code",
   "execution_count": 70,
   "id": "3bd02290-484e-4de9-872f-bd528eddb2fb",
   "metadata": {},
   "outputs": [],
   "source": [
    "actual = np.append(actual, [18000.00, 18000.00])"
   ]
  },
  {
   "cell_type": "code",
   "execution_count": 71,
   "id": "af031b70-9b39-4d77-941b-74dbff2328ed",
   "metadata": {},
   "outputs": [],
   "source": [
    "act_temp = actual.reshape(-1, 1)\n",
    "# seq_res = np.array([])"
   ]
  },
  {
   "cell_type": "code",
   "execution_count": 72,
   "id": "786034d4-3c22-4850-ad0b-f6ae667cd32b",
   "metadata": {},
   "outputs": [
    {
     "name": "stdout",
     "output_type": "stream",
     "text": [
      "1/1 [==============================] - 0s 15ms/step\n"
     ]
    }
   ],
   "source": [
    "actual_scaled = scaled_price(act_temp)\n",
    "seq = actual_scaled[-window_size:]\n",
    "hasil = model.predict(seq.reshape(1, window_size, 1))\n",
    "hasil = inverse_scale(hasil)\n",
    "seq_res = np.append(seq_res, hasil.item())\n",
    "act_temp = np.append(act_temp, np.expand_dims([hasil.item()], axis=1))"
   ]
  },
  {
   "cell_type": "code",
   "execution_count": 73,
   "id": "847397f9-f14c-483f-bfc3-dd8e6caaadcb",
   "metadata": {},
   "outputs": [
    {
     "data": {
      "text/plain": [
       "array([20546.59375   , 21174.99414062, 17941.86914062, 18213.17578125,\n",
       "       18101.4609375 ])"
      ]
     },
     "execution_count": 73,
     "metadata": {},
     "output_type": "execute_result"
    }
   ],
   "source": [
    "seq_res"
   ]
  },
  {
   "cell_type": "code",
   "execution_count": 74,
   "id": "9fef105a-691b-4dd1-ab13-acc9cf405cfb",
   "metadata": {},
   "outputs": [
    {
     "name": "stdout",
     "output_type": "stream",
     "text": [
      "1/1 [==============================] - 0s 14ms/step\n"
     ]
    }
   ],
   "source": [
    "actual_scaled = scaled_price(act_temp)\n",
    "seq = actual_scaled[-window_size:]\n",
    "hasil = model.predict(seq.reshape(1, window_size, 1))\n",
    "hasil = inverse_scale(hasil)\n",
    "seq_res = np.append(seq_res, hasil.item())\n",
    "act_temp = np.append(act_temp, np.expand_dims([hasil.item()], axis=1))"
   ]
  },
  {
   "cell_type": "code",
   "execution_count": 75,
   "id": "7a9496eb-6f7a-4a20-9f0f-8a19ddb36f1b",
   "metadata": {},
   "outputs": [
    {
     "data": {
      "text/plain": [
       "array([20546.59375   , 21174.99414062, 17941.86914062, 18213.17578125,\n",
       "       18101.4609375 , 18131.33789062])"
      ]
     },
     "execution_count": 75,
     "metadata": {},
     "output_type": "execute_result"
    }
   ],
   "source": [
    "seq_res"
   ]
  },
  {
   "cell_type": "code",
   "execution_count": 76,
   "id": "26eb8e24-3f2b-4679-ba8c-3d1c0c9bdd9d",
   "metadata": {},
   "outputs": [
    {
     "name": "stdout",
     "output_type": "stream",
     "text": [
      "     3 Hari  Harga/3 hari\n",
      "416     417  17333.333333\n",
      "417     418  17000.000000\n"
     ]
    }
   ],
   "source": [
    "print(weekly_data[(weekly_data['3 Hari'] > 416) & (weekly_data['3 Hari'] <= 418)])"
   ]
  },
  {
   "cell_type": "code",
   "execution_count": 77,
   "id": "af1a27b5-5d51-48f9-872d-d5406ec7c019",
   "metadata": {},
   "outputs": [],
   "source": [
    "actual = np.append(actual, [17333.33, 17000.00])"
   ]
  },
  {
   "cell_type": "code",
   "execution_count": 78,
   "id": "c52d20d4-2df9-48bd-a34e-d46cbd05d887",
   "metadata": {},
   "outputs": [],
   "source": [
    "act_temp = actual.reshape(-1, 1)\n",
    "# seq_res = np.array([])"
   ]
  },
  {
   "cell_type": "code",
   "execution_count": 79,
   "id": "256c8571-6d66-41b8-b3a1-38ba2d21006f",
   "metadata": {},
   "outputs": [
    {
     "name": "stdout",
     "output_type": "stream",
     "text": [
      "1/1 [==============================] - 0s 15ms/step\n"
     ]
    }
   ],
   "source": [
    "actual_scaled = scaled_price(act_temp)\n",
    "seq = actual_scaled[-window_size:]\n",
    "hasil = model.predict(seq.reshape(1, window_size, 1))\n",
    "hasil = inverse_scale(hasil)\n",
    "seq_res = np.append(seq_res, hasil.item())\n",
    "act_temp = np.append(act_temp, np.expand_dims([hasil.item()], axis=1))"
   ]
  },
  {
   "cell_type": "code",
   "execution_count": 80,
   "id": "e5628eef-2198-4f2c-a175-678c09f6d1d3",
   "metadata": {},
   "outputs": [
    {
     "data": {
      "text/plain": [
       "array([20546.59375   , 21174.99414062, 17941.86914062, 18213.17578125,\n",
       "       18101.4609375 , 18131.33789062, 16547.16015625])"
      ]
     },
     "execution_count": 80,
     "metadata": {},
     "output_type": "execute_result"
    }
   ],
   "source": [
    "seq_res"
   ]
  },
  {
   "cell_type": "code",
   "execution_count": 81,
   "id": "14d9ddf6-bf4c-488e-97d1-1f0a6fc99307",
   "metadata": {},
   "outputs": [
    {
     "name": "stdout",
     "output_type": "stream",
     "text": [
      "1/1 [==============================] - 0s 15ms/step\n"
     ]
    }
   ],
   "source": [
    "actual_scaled = scaled_price(act_temp)\n",
    "seq = actual_scaled[-window_size:]\n",
    "hasil = model.predict(seq.reshape(1, window_size, 1))\n",
    "hasil = inverse_scale(hasil)\n",
    "seq_res = np.append(seq_res, hasil.item())\n",
    "act_temp = np.append(act_temp, np.expand_dims([hasil.item()], axis=1))"
   ]
  },
  {
   "cell_type": "code",
   "execution_count": 82,
   "id": "75d5f492-3fdc-41e6-9f7d-2977d641576c",
   "metadata": {},
   "outputs": [
    {
     "data": {
      "text/plain": [
       "array([20546.59375   , 21174.99414062, 17941.86914062, 18213.17578125,\n",
       "       18101.4609375 , 18131.33789062, 16547.16015625, 16456.9375    ])"
      ]
     },
     "execution_count": 82,
     "metadata": {},
     "output_type": "execute_result"
    }
   ],
   "source": [
    "seq_res"
   ]
  },
  {
   "cell_type": "code",
   "execution_count": 83,
   "id": "93c2fa41-e376-4ca6-aa65-275dfc0feff2",
   "metadata": {},
   "outputs": [
    {
     "name": "stdout",
     "output_type": "stream",
     "text": [
      "     3 Hari  Harga/3 hari\n",
      "418     419       18000.0\n",
      "419     420       20000.0\n"
     ]
    }
   ],
   "source": [
    "print(weekly_data[(weekly_data['3 Hari'] > 418) & (weekly_data['3 Hari'] <= 420)])"
   ]
  },
  {
   "cell_type": "code",
   "execution_count": 84,
   "id": "ca597695-6118-498f-a8fb-fe695002aff0",
   "metadata": {},
   "outputs": [],
   "source": [
    "actual = np.append(actual, [18000.00, 20000.00])"
   ]
  },
  {
   "cell_type": "code",
   "execution_count": 85,
   "id": "143ae337-ce65-48a2-b3a7-41aa5d3c2423",
   "metadata": {},
   "outputs": [],
   "source": [
    "act_temp = actual.reshape(-1, 1)\n",
    "# seq_res = np.array([])"
   ]
  },
  {
   "cell_type": "code",
   "execution_count": 86,
   "id": "64b1d72e-6af9-4501-979d-6ff7ecde8fa7",
   "metadata": {},
   "outputs": [
    {
     "name": "stdout",
     "output_type": "stream",
     "text": [
      "1/1 [==============================] - 0s 15ms/step\n"
     ]
    }
   ],
   "source": [
    "actual_scaled = scaled_price(act_temp)\n",
    "seq = actual_scaled[-window_size:]\n",
    "hasil = model.predict(seq.reshape(1, window_size, 1))\n",
    "hasil = inverse_scale(hasil)\n",
    "seq_res = np.append(seq_res, hasil.item())\n",
    "act_temp = np.append(act_temp, np.expand_dims([hasil.item()], axis=1))"
   ]
  },
  {
   "cell_type": "code",
   "execution_count": 87,
   "id": "21f572a5-7d7c-4f94-a543-99412263aba3",
   "metadata": {},
   "outputs": [
    {
     "data": {
      "text/plain": [
       "array([20546.59375   , 21174.99414062, 17941.86914062, 18213.17578125,\n",
       "       18101.4609375 , 18131.33789062, 16547.16015625, 16456.9375    ,\n",
       "       20563.70117188])"
      ]
     },
     "execution_count": 87,
     "metadata": {},
     "output_type": "execute_result"
    }
   ],
   "source": [
    "seq_res"
   ]
  },
  {
   "cell_type": "code",
   "execution_count": 88,
   "id": "39aafbc4-f0a8-4dc7-a96e-00baceb23260",
   "metadata": {},
   "outputs": [
    {
     "name": "stdout",
     "output_type": "stream",
     "text": [
      "1/1 [==============================] - 0s 15ms/step\n"
     ]
    }
   ],
   "source": [
    "actual_scaled = scaled_price(act_temp)\n",
    "seq = actual_scaled[-window_size:]\n",
    "hasil = model.predict(seq.reshape(1, window_size, 1))\n",
    "hasil = inverse_scale(hasil)\n",
    "seq_res = np.append(seq_res, hasil.item())\n",
    "act_temp = np.append(act_temp, np.expand_dims([hasil.item()], axis=1))"
   ]
  },
  {
   "cell_type": "code",
   "execution_count": 89,
   "id": "b1889596-ca9e-4b74-b0f9-46144df30ef1",
   "metadata": {},
   "outputs": [
    {
     "data": {
      "text/plain": [
       "array([20546.59375   , 21174.99414062, 17941.86914062, 18213.17578125,\n",
       "       18101.4609375 , 18131.33789062, 16547.16015625, 16456.9375    ,\n",
       "       20563.70117188, 21039.5234375 ])"
      ]
     },
     "execution_count": 89,
     "metadata": {},
     "output_type": "execute_result"
    }
   ],
   "source": [
    "seq_res"
   ]
  },
  {
   "cell_type": "code",
   "execution_count": 90,
   "id": "aa50e1db-e364-40bc-adef-8c75f071d5d5",
   "metadata": {},
   "outputs": [
    {
     "name": "stdout",
     "output_type": "stream",
     "text": [
      "     3 Hari  Harga/3 hari\n",
      "420     421       20000.0\n",
      "421     422       20000.0\n"
     ]
    }
   ],
   "source": [
    "print(weekly_data[(weekly_data['3 Hari'] > 420) & (weekly_data['3 Hari'] <= 422)])"
   ]
  },
  {
   "cell_type": "code",
   "execution_count": 91,
   "id": "4e31ffec-c657-4f63-99fb-413503aa01d6",
   "metadata": {},
   "outputs": [],
   "source": [
    "actual = np.append(actual, [20000.00, 20000.14])"
   ]
  },
  {
   "cell_type": "code",
   "execution_count": 92,
   "id": "24f6bfb7-4a33-4481-9fb2-ed586980a6d8",
   "metadata": {},
   "outputs": [],
   "source": [
    "act_temp = actual.reshape(-1, 1)\n",
    "# seq_res = np.array([])"
   ]
  },
  {
   "cell_type": "code",
   "execution_count": 93,
   "id": "6c894220-c3b8-448b-af57-1db1ca034880",
   "metadata": {},
   "outputs": [
    {
     "name": "stdout",
     "output_type": "stream",
     "text": [
      "1/1 [==============================] - 0s 16ms/step\n"
     ]
    }
   ],
   "source": [
    "actual_scaled = scaled_price(act_temp)\n",
    "seq = actual_scaled[-window_size:]\n",
    "hasil = model.predict(seq.reshape(1, window_size, 1))\n",
    "hasil = inverse_scale(hasil)\n",
    "seq_res = np.append(seq_res, hasil.item())\n",
    "act_temp = np.append(act_temp, np.expand_dims([hasil.item()], axis=1))"
   ]
  },
  {
   "cell_type": "code",
   "execution_count": 94,
   "id": "624d454c-2efa-463b-adf1-995c9989023f",
   "metadata": {},
   "outputs": [
    {
     "data": {
      "text/plain": [
       "array([20546.59375   , 21174.99414062, 17941.86914062, 18213.17578125,\n",
       "       18101.4609375 , 18131.33789062, 16547.16015625, 16456.9375    ,\n",
       "       20563.70117188, 21039.5234375 , 20016.58398438])"
      ]
     },
     "execution_count": 94,
     "metadata": {},
     "output_type": "execute_result"
    }
   ],
   "source": [
    "seq_res"
   ]
  },
  {
   "cell_type": "code",
   "execution_count": 95,
   "id": "c76af1e8-064f-4216-8c93-41c66fe5b8c2",
   "metadata": {},
   "outputs": [
    {
     "name": "stdout",
     "output_type": "stream",
     "text": [
      "1/1 [==============================] - 0s 15ms/step\n"
     ]
    }
   ],
   "source": [
    "actual_scaled = scaled_price(act_temp)\n",
    "seq = actual_scaled[-window_size:]\n",
    "hasil = model.predict(seq.reshape(1, window_size, 1))\n",
    "hasil = inverse_scale(hasil)\n",
    "seq_res = np.append(seq_res, hasil.item())\n",
    "act_temp = np.append(act_temp, np.expand_dims([hasil.item()], axis=1))"
   ]
  },
  {
   "cell_type": "code",
   "execution_count": 96,
   "id": "938de9f4-e88d-414d-a8fa-d40492ee1859",
   "metadata": {},
   "outputs": [
    {
     "data": {
      "text/plain": [
       "array([20546.59375   , 21174.99414062, 17941.86914062, 18213.17578125,\n",
       "       18101.4609375 , 18131.33789062, 16547.16015625, 16456.9375    ,\n",
       "       20563.70117188, 21039.5234375 , 20016.58398438, 20396.45703125])"
      ]
     },
     "execution_count": 96,
     "metadata": {},
     "output_type": "execute_result"
    }
   ],
   "source": [
    "seq_res"
   ]
  },
  {
   "cell_type": "code",
   "execution_count": 97,
   "id": "8dae9ff7-fedd-4fd5-a437-ec5b3b0fc088",
   "metadata": {},
   "outputs": [
    {
     "name": "stdout",
     "output_type": "stream",
     "text": [
      "     3 Hari  Harga/3 hari\n",
      "422     423  20000.000000\n",
      "423     424  23333.333333\n"
     ]
    }
   ],
   "source": [
    "print(weekly_data[(weekly_data['3 Hari'] > 422) & (weekly_data['3 Hari'] <= 424)])"
   ]
  },
  {
   "cell_type": "code",
   "execution_count": 98,
   "id": "84f7d107-2725-45d0-927c-50f4b4083772",
   "metadata": {},
   "outputs": [],
   "source": [
    "actual = np.append(actual, [20000.00, 23333.00])"
   ]
  },
  {
   "cell_type": "code",
   "execution_count": 99,
   "id": "23d21c34-0347-4b94-8182-f520b4834a59",
   "metadata": {},
   "outputs": [],
   "source": [
    "act_temp = actual.reshape(-1, 1)\n",
    "# seq_res = np.array([])"
   ]
  },
  {
   "cell_type": "code",
   "execution_count": 100,
   "id": "0c68d2ac-68b3-4858-80eb-3e8c4c9f7ad8",
   "metadata": {},
   "outputs": [
    {
     "name": "stdout",
     "output_type": "stream",
     "text": [
      "1/1 [==============================] - 0s 14ms/step\n"
     ]
    }
   ],
   "source": [
    "actual_scaled = scaled_price(act_temp)\n",
    "seq = actual_scaled[-window_size:]\n",
    "hasil = model.predict(seq.reshape(1, window_size, 1))\n",
    "hasil = inverse_scale(hasil)\n",
    "seq_res = np.append(seq_res, hasil.item())\n",
    "act_temp = np.append(act_temp, np.expand_dims([hasil.item()], axis=1))"
   ]
  },
  {
   "cell_type": "code",
   "execution_count": 101,
   "id": "8c732da6-eca4-4664-9f66-1bbcecab31f3",
   "metadata": {},
   "outputs": [
    {
     "data": {
      "text/plain": [
       "array([20546.59375   , 21174.99414062, 17941.86914062, 18213.17578125,\n",
       "       18101.4609375 , 18131.33789062, 16547.16015625, 16456.9375    ,\n",
       "       20563.70117188, 21039.5234375 , 20016.58398438, 20396.45703125,\n",
       "       23095.51757812])"
      ]
     },
     "execution_count": 101,
     "metadata": {},
     "output_type": "execute_result"
    }
   ],
   "source": [
    "seq_res"
   ]
  },
  {
   "cell_type": "code",
   "execution_count": 102,
   "id": "b60c455e-0633-4f9c-bd21-15e150b2033d",
   "metadata": {},
   "outputs": [
    {
     "name": "stdout",
     "output_type": "stream",
     "text": [
      "1/1 [==============================] - 0s 16ms/step\n"
     ]
    }
   ],
   "source": [
    "actual_scaled = scaled_price(act_temp)\n",
    "seq = actual_scaled[-window_size:]\n",
    "hasil = model.predict(seq.reshape(1, window_size, 1))\n",
    "hasil = inverse_scale(hasil)\n",
    "seq_res = np.append(seq_res, hasil.item())\n",
    "act_temp = np.append(act_temp, np.expand_dims([hasil.item()], axis=1))"
   ]
  },
  {
   "cell_type": "code",
   "execution_count": 103,
   "id": "8da9c4cc-f3c7-41a2-9511-b4bdbccf67bd",
   "metadata": {},
   "outputs": [
    {
     "data": {
      "text/plain": [
       "array([20546.59375   , 21174.99414062, 17941.86914062, 18213.17578125,\n",
       "       18101.4609375 , 18131.33789062, 16547.16015625, 16456.9375    ,\n",
       "       20563.70117188, 21039.5234375 , 20016.58398438, 20396.45703125,\n",
       "       23095.51757812, 22849.328125  ])"
      ]
     },
     "execution_count": 103,
     "metadata": {},
     "output_type": "execute_result"
    }
   ],
   "source": [
    "seq_res"
   ]
  },
  {
   "cell_type": "code",
   "execution_count": 104,
   "id": "75857a85-2fc7-467a-8ba7-ed6725410313",
   "metadata": {},
   "outputs": [
    {
     "name": "stdout",
     "output_type": "stream",
     "text": [
      "     3 Hari  Harga/3 hari\n",
      "424     425       20000.0\n",
      "425     426       20000.0\n"
     ]
    }
   ],
   "source": [
    "print(weekly_data[(weekly_data['3 Hari'] > 424) & (weekly_data['3 Hari'] <= 426)])"
   ]
  },
  {
   "cell_type": "code",
   "execution_count": 105,
   "id": "beb58de1-f469-4ded-9f50-100a00f3d705",
   "metadata": {},
   "outputs": [],
   "source": [
    "actual = np.append(actual, [20000.00, 20000.00])"
   ]
  },
  {
   "cell_type": "code",
   "execution_count": 106,
   "id": "38f7ab21-83e4-4725-ae03-986916aec33b",
   "metadata": {},
   "outputs": [],
   "source": [
    "act_temp = actual.reshape(-1, 1)\n",
    "# seq_res = np.array([])"
   ]
  },
  {
   "cell_type": "code",
   "execution_count": 107,
   "id": "59d3db26-7d23-46c3-8ae2-64eddbd975ea",
   "metadata": {},
   "outputs": [
    {
     "name": "stdout",
     "output_type": "stream",
     "text": [
      "1/1 [==============================] - 0s 24ms/step\n"
     ]
    }
   ],
   "source": [
    "actual_scaled = scaled_price(act_temp)\n",
    "seq = actual_scaled[-window_size:]\n",
    "hasil = model.predict(seq.reshape(1, window_size, 1))\n",
    "hasil = inverse_scale(hasil)\n",
    "seq_res = np.append(seq_res, hasil.item())\n",
    "act_temp = np.append(act_temp, np.expand_dims([hasil.item()], axis=1))"
   ]
  },
  {
   "cell_type": "code",
   "execution_count": 108,
   "id": "4b3ffcf8-44ce-4875-b875-c23380c070b7",
   "metadata": {},
   "outputs": [
    {
     "data": {
      "text/plain": [
       "array([20546.59375   , 21174.99414062, 17941.86914062, 18213.17578125,\n",
       "       18101.4609375 , 18131.33789062, 16547.16015625, 16456.9375    ,\n",
       "       20563.70117188, 21039.5234375 , 20016.58398438, 20396.45703125,\n",
       "       23095.51757812, 22849.328125  , 19652.2109375 ])"
      ]
     },
     "execution_count": 108,
     "metadata": {},
     "output_type": "execute_result"
    }
   ],
   "source": [
    "seq_res"
   ]
  },
  {
   "cell_type": "code",
   "execution_count": 109,
   "id": "5b9f529d-992c-47e6-88d6-bfb2c4e719dc",
   "metadata": {},
   "outputs": [
    {
     "name": "stdout",
     "output_type": "stream",
     "text": [
      "1/1 [==============================] - 0s 18ms/step\n"
     ]
    }
   ],
   "source": [
    "actual_scaled = scaled_price(act_temp)\n",
    "seq = actual_scaled[-window_size:]\n",
    "hasil = model.predict(seq.reshape(1, window_size, 1))\n",
    "hasil = inverse_scale(hasil)\n",
    "seq_res = np.append(seq_res, hasil.item())\n",
    "act_temp = np.append(act_temp, np.expand_dims([hasil.item()], axis=1))"
   ]
  },
  {
   "cell_type": "code",
   "execution_count": 110,
   "id": "19e9cbc1-2c4f-47f6-917b-81ff7c517a25",
   "metadata": {},
   "outputs": [
    {
     "data": {
      "text/plain": [
       "array([20546.59375   , 21174.99414062, 17941.86914062, 18213.17578125,\n",
       "       18101.4609375 , 18131.33789062, 16547.16015625, 16456.9375    ,\n",
       "       20563.70117188, 21039.5234375 , 20016.58398438, 20396.45703125,\n",
       "       23095.51757812, 22849.328125  , 19652.2109375 , 19664.3671875 ])"
      ]
     },
     "execution_count": 110,
     "metadata": {},
     "output_type": "execute_result"
    }
   ],
   "source": [
    "seq_res"
   ]
  },
  {
   "cell_type": "code",
   "execution_count": 111,
   "id": "354ebeca-23af-47db-84e5-6d9ad8f14df5",
   "metadata": {},
   "outputs": [
    {
     "name": "stdout",
     "output_type": "stream",
     "text": [
      "     3 Hari  Harga/3 hari\n",
      "426     427       18000.0\n",
      "427     428       18500.0\n"
     ]
    }
   ],
   "source": [
    "print(weekly_data[(weekly_data['3 Hari'] > 426) & (weekly_data['3 Hari'] <= 428)])"
   ]
  },
  {
   "cell_type": "code",
   "execution_count": 112,
   "id": "3487f846-d320-46da-a019-3b410a16d0a7",
   "metadata": {},
   "outputs": [],
   "source": [
    "actual = np.append(actual, [18000.00, 18500.00])"
   ]
  },
  {
   "cell_type": "code",
   "execution_count": 113,
   "id": "49b5c2e0-31e0-440a-9468-89fabc72bd49",
   "metadata": {},
   "outputs": [],
   "source": [
    "act_temp = actual.reshape(-1, 1)\n",
    "# seq_res = np.array([])"
   ]
  },
  {
   "cell_type": "code",
   "execution_count": 114,
   "id": "e1947240-05e7-46fe-b65e-c050551fbc30",
   "metadata": {},
   "outputs": [
    {
     "name": "stdout",
     "output_type": "stream",
     "text": [
      "1/1 [==============================] - 0s 18ms/step\n"
     ]
    }
   ],
   "source": [
    "actual_scaled = scaled_price(act_temp)\n",
    "seq = actual_scaled[-window_size:]\n",
    "hasil = model.predict(seq.reshape(1, window_size, 1))\n",
    "hasil = inverse_scale(hasil)\n",
    "seq_res = np.append(seq_res, hasil.item())\n",
    "act_temp = np.append(act_temp, np.expand_dims([hasil.item()], axis=1))"
   ]
  },
  {
   "cell_type": "code",
   "execution_count": 115,
   "id": "a1303ebe-f840-4efb-9e1d-8c3ec3a8dedd",
   "metadata": {},
   "outputs": [
    {
     "data": {
      "text/plain": [
       "array([20546.59375   , 21174.99414062, 17941.86914062, 18213.17578125,\n",
       "       18101.4609375 , 18131.33789062, 16547.16015625, 16456.9375    ,\n",
       "       20563.70117188, 21039.5234375 , 20016.58398438, 20396.45703125,\n",
       "       23095.51757812, 22849.328125  , 19652.2109375 , 19664.3671875 ,\n",
       "       18727.21484375])"
      ]
     },
     "execution_count": 115,
     "metadata": {},
     "output_type": "execute_result"
    }
   ],
   "source": [
    "seq_res"
   ]
  },
  {
   "cell_type": "code",
   "execution_count": 116,
   "id": "2ae7d860-80c4-45df-b452-1891e16473b1",
   "metadata": {},
   "outputs": [
    {
     "name": "stdout",
     "output_type": "stream",
     "text": [
      "1/1 [==============================] - 0s 30ms/step\n"
     ]
    }
   ],
   "source": [
    "actual_scaled = scaled_price(act_temp)\n",
    "seq = actual_scaled[-window_size:]\n",
    "hasil = model.predict(seq.reshape(1, window_size, 1))\n",
    "hasil = inverse_scale(hasil)\n",
    "seq_res = np.append(seq_res, hasil.item())\n",
    "act_temp = np.append(act_temp, np.expand_dims([hasil.item()], axis=1))"
   ]
  },
  {
   "cell_type": "code",
   "execution_count": 117,
   "id": "dbd951dc-10bd-4d14-a635-c54b811d1ee0",
   "metadata": {},
   "outputs": [
    {
     "data": {
      "text/plain": [
       "array([20546.59375   , 21174.99414062, 17941.86914062, 18213.17578125,\n",
       "       18101.4609375 , 18131.33789062, 16547.16015625, 16456.9375    ,\n",
       "       20563.70117188, 21039.5234375 , 20016.58398438, 20396.45703125,\n",
       "       23095.51757812, 22849.328125  , 19652.2109375 , 19664.3671875 ,\n",
       "       18727.21484375, 18924.578125  ])"
      ]
     },
     "execution_count": 117,
     "metadata": {},
     "output_type": "execute_result"
    }
   ],
   "source": [
    "seq_res"
   ]
  },
  {
   "cell_type": "code",
   "execution_count": 118,
   "id": "a325f410-b7c3-45d8-b3e9-e59927c6fb60",
   "metadata": {},
   "outputs": [
    {
     "name": "stdout",
     "output_type": "stream",
     "text": [
      "     3 Hari  Harga/3 hari\n",
      "428     429       20000.0\n",
      "429     430       20000.0\n"
     ]
    }
   ],
   "source": [
    "print(weekly_data[(weekly_data['3 Hari'] > 428) & (weekly_data['3 Hari'] <= 430)])"
   ]
  },
  {
   "cell_type": "code",
   "execution_count": 119,
   "id": "45db148c-fa80-4704-8d39-5fe2dc2d2aa8",
   "metadata": {},
   "outputs": [],
   "source": [
    "actual = np.append(actual, [20000.00, 20000.00])"
   ]
  },
  {
   "cell_type": "code",
   "execution_count": 120,
   "id": "0b56d6be-ad64-4259-8a2a-d9bb51f80773",
   "metadata": {},
   "outputs": [],
   "source": [
    "act_temp = actual.reshape(-1, 1)\n",
    "# seq_res = np.array([])"
   ]
  },
  {
   "cell_type": "code",
   "execution_count": 121,
   "id": "42b1bb34-e45f-4373-baa4-587977b09b95",
   "metadata": {},
   "outputs": [
    {
     "name": "stdout",
     "output_type": "stream",
     "text": [
      "1/1 [==============================] - 0s 16ms/step\n"
     ]
    }
   ],
   "source": [
    "actual_scaled = scaled_price(act_temp)\n",
    "seq = actual_scaled[-window_size:]\n",
    "hasil = model.predict(seq.reshape(1, window_size, 1))\n",
    "hasil = inverse_scale(hasil)\n",
    "seq_res = np.append(seq_res, hasil.item())\n",
    "act_temp = np.append(act_temp, np.expand_dims([hasil.item()], axis=1))"
   ]
  },
  {
   "cell_type": "code",
   "execution_count": 122,
   "id": "d6da4336-db5d-4f62-9933-be8da721c50b",
   "metadata": {},
   "outputs": [
    {
     "data": {
      "text/plain": [
       "array([20546.59375   , 21174.99414062, 17941.86914062, 18213.17578125,\n",
       "       18101.4609375 , 18131.33789062, 16547.16015625, 16456.9375    ,\n",
       "       20563.70117188, 21039.5234375 , 20016.58398438, 20396.45703125,\n",
       "       23095.51757812, 22849.328125  , 19652.2109375 , 19664.3671875 ,\n",
       "       18727.21484375, 18924.578125  , 20048.69140625])"
      ]
     },
     "execution_count": 122,
     "metadata": {},
     "output_type": "execute_result"
    }
   ],
   "source": [
    "seq_res"
   ]
  },
  {
   "cell_type": "code",
   "execution_count": 123,
   "id": "de0a5c5a-bd95-4179-912c-edf646079ded",
   "metadata": {},
   "outputs": [
    {
     "name": "stdout",
     "output_type": "stream",
     "text": [
      "1/1 [==============================] - 0s 15ms/step\n"
     ]
    }
   ],
   "source": [
    "actual_scaled = scaled_price(act_temp)\n",
    "seq = actual_scaled[-window_size:]\n",
    "hasil = model.predict(seq.reshape(1, window_size, 1))\n",
    "hasil = inverse_scale(hasil)\n",
    "seq_res = np.append(seq_res, hasil.item())\n",
    "act_temp = np.append(act_temp, np.expand_dims([hasil.item()], axis=1))"
   ]
  },
  {
   "cell_type": "code",
   "execution_count": 124,
   "id": "5aa2d730-ee6e-48e1-a076-58422a5f92cf",
   "metadata": {},
   "outputs": [
    {
     "data": {
      "text/plain": [
       "array([20546.59375   , 21174.99414062, 17941.86914062, 18213.17578125,\n",
       "       18101.4609375 , 18131.33789062, 16547.16015625, 16456.9375    ,\n",
       "       20563.70117188, 21039.5234375 , 20016.58398438, 20396.45703125,\n",
       "       23095.51757812, 22849.328125  , 19652.2109375 , 19664.3671875 ,\n",
       "       18727.21484375, 18924.578125  , 20048.69140625, 20393.32617188])"
      ]
     },
     "execution_count": 124,
     "metadata": {},
     "output_type": "execute_result"
    }
   ],
   "source": [
    "seq_res"
   ]
  },
  {
   "cell_type": "code",
   "execution_count": 125,
   "id": "51141f29-d7cb-4ab9-9d92-ec0eddffa7cf",
   "metadata": {},
   "outputs": [
    {
     "name": "stdout",
     "output_type": "stream",
     "text": [
      "     3 Hari  Harga/3 hari\n",
      "430     431       20000.0\n",
      "431     432       20000.0\n"
     ]
    }
   ],
   "source": [
    "print(weekly_data[(weekly_data['3 Hari'] > 430) & (weekly_data['3 Hari'] <= 432)])"
   ]
  },
  {
   "cell_type": "code",
   "execution_count": 126,
   "id": "e3b24b46-e747-4132-99b2-c38281e2f383",
   "metadata": {},
   "outputs": [],
   "source": [
    "actual = np.append(actual, [20000.00, 20000.00])"
   ]
  },
  {
   "cell_type": "code",
   "execution_count": 127,
   "id": "44fde3ad-b345-43fe-8225-4706a6b0b7c6",
   "metadata": {},
   "outputs": [],
   "source": [
    "act_temp = actual.reshape(-1, 1)\n",
    "# seq_res = np.array([])"
   ]
  },
  {
   "cell_type": "code",
   "execution_count": 128,
   "id": "8c8b07eb-6944-43ba-b385-e599df873375",
   "metadata": {},
   "outputs": [
    {
     "name": "stdout",
     "output_type": "stream",
     "text": [
      "1/1 [==============================] - 0s 15ms/step\n"
     ]
    }
   ],
   "source": [
    "actual_scaled = scaled_price(act_temp)\n",
    "seq = actual_scaled[-window_size:]\n",
    "hasil = model.predict(seq.reshape(1, window_size, 1))\n",
    "hasil = inverse_scale(hasil)\n",
    "seq_res = np.append(seq_res, hasil.item())\n",
    "act_temp = np.append(act_temp, np.expand_dims([hasil.item()], axis=1))"
   ]
  },
  {
   "cell_type": "code",
   "execution_count": 129,
   "id": "236fd706-ec5e-47e3-83cf-a81036aecabe",
   "metadata": {},
   "outputs": [
    {
     "data": {
      "text/plain": [
       "array([20546.59375   , 21174.99414062, 17941.86914062, 18213.17578125,\n",
       "       18101.4609375 , 18131.33789062, 16547.16015625, 16456.9375    ,\n",
       "       20563.70117188, 21039.5234375 , 20016.58398438, 20396.45703125,\n",
       "       23095.51757812, 22849.328125  , 19652.2109375 , 19664.3671875 ,\n",
       "       18727.21484375, 18924.578125  , 20048.69140625, 20393.32617188,\n",
       "       20047.13085938])"
      ]
     },
     "execution_count": 129,
     "metadata": {},
     "output_type": "execute_result"
    }
   ],
   "source": [
    "seq_res"
   ]
  },
  {
   "cell_type": "code",
   "execution_count": 130,
   "id": "bebc2512-e5ff-4d84-8a15-782ab65be19d",
   "metadata": {},
   "outputs": [
    {
     "name": "stdout",
     "output_type": "stream",
     "text": [
      "1/1 [==============================] - 0s 16ms/step\n"
     ]
    }
   ],
   "source": [
    "actual_scaled = scaled_price(act_temp)\n",
    "seq = actual_scaled[-window_size:]\n",
    "hasil = model.predict(seq.reshape(1, window_size, 1))\n",
    "hasil = inverse_scale(hasil)\n",
    "seq_res = np.append(seq_res, hasil.item())\n",
    "act_temp = np.append(act_temp, np.expand_dims([hasil.item()], axis=1))"
   ]
  },
  {
   "cell_type": "code",
   "execution_count": 131,
   "id": "7e532193-e4bb-4e7f-9388-c1d15e12c902",
   "metadata": {},
   "outputs": [
    {
     "data": {
      "text/plain": [
       "array([20546.59375   , 21174.99414062, 17941.86914062, 18213.17578125,\n",
       "       18101.4609375 , 18131.33789062, 16547.16015625, 16456.9375    ,\n",
       "       20563.70117188, 21039.5234375 , 20016.58398438, 20396.45703125,\n",
       "       23095.51757812, 22849.328125  , 19652.2109375 , 19664.3671875 ,\n",
       "       18727.21484375, 18924.578125  , 20048.69140625, 20393.32617188,\n",
       "       20047.13085938, 20117.66210938])"
      ]
     },
     "execution_count": 131,
     "metadata": {},
     "output_type": "execute_result"
    }
   ],
   "source": [
    "seq_res"
   ]
  },
  {
   "cell_type": "code",
   "execution_count": 132,
   "id": "7391b8ad-adfa-4694-856e-826e0c933952",
   "metadata": {},
   "outputs": [
    {
     "name": "stdout",
     "output_type": "stream",
     "text": [
      "     3 Hari  Harga/3 hari\n",
      "432     433       20000.0\n",
      "433     434       20000.0\n"
     ]
    }
   ],
   "source": [
    "print(weekly_data[(weekly_data['3 Hari'] > 432) & (weekly_data['3 Hari'] <= 434)])"
   ]
  },
  {
   "cell_type": "code",
   "execution_count": 133,
   "id": "a63acd13-bbf3-4faa-8ed9-c0914d9e6317",
   "metadata": {},
   "outputs": [],
   "source": [
    "actual = np.append(actual, [20000.00, 20000.00])"
   ]
  },
  {
   "cell_type": "code",
   "execution_count": 134,
   "id": "2b4e09ed-5469-42f6-b4f6-f2aa80a53d04",
   "metadata": {},
   "outputs": [],
   "source": [
    "act_temp = actual.reshape(-1, 1)\n",
    "# seq_res = np.array([])"
   ]
  },
  {
   "cell_type": "code",
   "execution_count": 135,
   "id": "55548f20-39d9-4dda-8f99-3c6a60562a31",
   "metadata": {},
   "outputs": [
    {
     "name": "stdout",
     "output_type": "stream",
     "text": [
      "1/1 [==============================] - 0s 18ms/step\n"
     ]
    }
   ],
   "source": [
    "actual_scaled = scaled_price(act_temp)\n",
    "seq = actual_scaled[-window_size:]\n",
    "hasil = model.predict(seq.reshape(1, window_size, 1))\n",
    "hasil = inverse_scale(hasil)\n",
    "seq_res = np.append(seq_res, hasil.item())\n",
    "act_temp = np.append(act_temp, np.expand_dims([hasil.item()], axis=1))"
   ]
  },
  {
   "cell_type": "code",
   "execution_count": 136,
   "id": "a9aae0db-6839-4ce3-978a-df07cf3ad5d2",
   "metadata": {},
   "outputs": [
    {
     "data": {
      "text/plain": [
       "array([20546.59375   , 21174.99414062, 17941.86914062, 18213.17578125,\n",
       "       18101.4609375 , 18131.33789062, 16547.16015625, 16456.9375    ,\n",
       "       20563.70117188, 21039.5234375 , 20016.58398438, 20396.45703125,\n",
       "       23095.51757812, 22849.328125  , 19652.2109375 , 19664.3671875 ,\n",
       "       18727.21484375, 18924.578125  , 20048.69140625, 20393.32617188,\n",
       "       20047.13085938, 20117.66210938, 20043.7109375 ])"
      ]
     },
     "execution_count": 136,
     "metadata": {},
     "output_type": "execute_result"
    }
   ],
   "source": [
    "seq_res"
   ]
  },
  {
   "cell_type": "code",
   "execution_count": 137,
   "id": "44eb5d85-b076-4783-b07c-ae5aff7ae43a",
   "metadata": {},
   "outputs": [
    {
     "name": "stdout",
     "output_type": "stream",
     "text": [
      "1/1 [==============================] - 0s 17ms/step\n"
     ]
    }
   ],
   "source": [
    "actual_scaled = scaled_price(act_temp)\n",
    "seq = actual_scaled[-window_size:]\n",
    "hasil = model.predict(seq.reshape(1, window_size, 1))\n",
    "hasil = inverse_scale(hasil)\n",
    "seq_res = np.append(seq_res, hasil.item())\n",
    "act_temp = np.append(act_temp, np.expand_dims([hasil.item()], axis=1))"
   ]
  },
  {
   "cell_type": "code",
   "execution_count": 138,
   "id": "bc004e76-fe1c-4123-a08a-93143c6f9b74",
   "metadata": {},
   "outputs": [
    {
     "data": {
      "text/plain": [
       "array([20546.59375   , 21174.99414062, 17941.86914062, 18213.17578125,\n",
       "       18101.4609375 , 18131.33789062, 16547.16015625, 16456.9375    ,\n",
       "       20563.70117188, 21039.5234375 , 20016.58398438, 20396.45703125,\n",
       "       23095.51757812, 22849.328125  , 19652.2109375 , 19664.3671875 ,\n",
       "       18727.21484375, 18924.578125  , 20048.69140625, 20393.32617188,\n",
       "       20047.13085938, 20117.66210938, 20043.7109375 , 20151.85351562])"
      ]
     },
     "execution_count": 138,
     "metadata": {},
     "output_type": "execute_result"
    }
   ],
   "source": [
    "seq_res"
   ]
  },
  {
   "cell_type": "code",
   "execution_count": 139,
   "id": "5152137d-3fb7-41b7-8186-340beab8b960",
   "metadata": {},
   "outputs": [
    {
     "name": "stdout",
     "output_type": "stream",
     "text": [
      "     3 Hari  Harga/3 hari\n",
      "434     435  20000.000000\n",
      "435     436  21333.333333\n"
     ]
    }
   ],
   "source": [
    "print(weekly_data[(weekly_data['3 Hari'] > 434) & (weekly_data['3 Hari'] <= 436)])"
   ]
  },
  {
   "cell_type": "code",
   "execution_count": 140,
   "id": "461026f1-3f2d-4d69-8a35-a130a369c08d",
   "metadata": {},
   "outputs": [],
   "source": [
    "actual = np.append(actual, [20000.00, 21333.33])"
   ]
  },
  {
   "cell_type": "code",
   "execution_count": 141,
   "id": "5c4c487c-5f6a-48f5-8ad0-3299dc595365",
   "metadata": {},
   "outputs": [],
   "source": [
    "act_temp = actual.reshape(-1, 1)\n",
    "# seq_res = np.array([])"
   ]
  },
  {
   "cell_type": "code",
   "execution_count": 142,
   "id": "38327050-247a-465a-adeb-90ce865a2569",
   "metadata": {},
   "outputs": [
    {
     "name": "stdout",
     "output_type": "stream",
     "text": [
      "1/1 [==============================] - 0s 19ms/step\n"
     ]
    }
   ],
   "source": [
    "actual_scaled = scaled_price(act_temp)\n",
    "seq = actual_scaled[-window_size:]\n",
    "hasil = model.predict(seq.reshape(1, window_size, 1))\n",
    "hasil = inverse_scale(hasil)\n",
    "seq_res = np.append(seq_res, hasil.item())\n",
    "act_temp = np.append(act_temp, np.expand_dims([hasil.item()], axis=1))"
   ]
  },
  {
   "cell_type": "code",
   "execution_count": 143,
   "id": "1fc1037f-9e91-42a4-bd54-7f813a857d8f",
   "metadata": {},
   "outputs": [
    {
     "name": "stdout",
     "output_type": "stream",
     "text": [
      "1/1 [==============================] - 0s 15ms/step\n"
     ]
    }
   ],
   "source": [
    "actual_scaled = scaled_price(act_temp)\n",
    "seq = actual_scaled[-window_size:]\n",
    "hasil = model.predict(seq.reshape(1, window_size, 1))\n",
    "hasil = inverse_scale(hasil)\n",
    "seq_res = np.append(seq_res, hasil.item())\n",
    "act_temp = np.append(act_temp, np.expand_dims([hasil.item()], axis=1))"
   ]
  },
  {
   "cell_type": "code",
   "execution_count": 144,
   "id": "6807ed05-a58e-4600-91a1-102540a359ab",
   "metadata": {},
   "outputs": [
    {
     "data": {
      "text/plain": [
       "array([20546.59375   , 21174.99414062, 17941.86914062, 18213.17578125,\n",
       "       18101.4609375 , 18131.33789062, 16547.16015625, 16456.9375    ,\n",
       "       20563.70117188, 21039.5234375 , 20016.58398438, 20396.45703125,\n",
       "       23095.51757812, 22849.328125  , 19652.2109375 , 19664.3671875 ,\n",
       "       18727.21484375, 18924.578125  , 20048.69140625, 20393.32617188,\n",
       "       20047.13085938, 20117.66210938, 20043.7109375 , 20151.85351562,\n",
       "       21917.23828125, 22074.63085938])"
      ]
     },
     "execution_count": 144,
     "metadata": {},
     "output_type": "execute_result"
    }
   ],
   "source": [
    "seq_res"
   ]
  },
  {
   "cell_type": "code",
   "execution_count": 145,
   "id": "d0ab0717-47a4-46d6-aa61-d731b209989e",
   "metadata": {},
   "outputs": [
    {
     "name": "stdout",
     "output_type": "stream",
     "text": [
      "     3 Hari  Harga/3 hari\n",
      "436     437       22000.0\n",
      "437     438       22000.0\n"
     ]
    }
   ],
   "source": [
    "print(weekly_data[(weekly_data['3 Hari'] > 436) & (weekly_data['3 Hari'] <= 438)])"
   ]
  },
  {
   "cell_type": "code",
   "execution_count": 146,
   "id": "4554a72b-cd61-4f51-bd28-9e108897a3ef",
   "metadata": {},
   "outputs": [],
   "source": [
    "actual = np.append(actual, [22000.00, 22000.00])"
   ]
  },
  {
   "cell_type": "code",
   "execution_count": 147,
   "id": "6b8f58f7-bdea-4c50-8e02-ada66fb110cd",
   "metadata": {},
   "outputs": [],
   "source": [
    "act_temp = actual.reshape(-1, 1)\n",
    "# seq_res = np.array([])"
   ]
  },
  {
   "cell_type": "code",
   "execution_count": 148,
   "id": "debc9648-9501-4114-8d61-346080a88eab",
   "metadata": {},
   "outputs": [
    {
     "name": "stdout",
     "output_type": "stream",
     "text": [
      "1/1 [==============================] - 0s 15ms/step\n"
     ]
    }
   ],
   "source": [
    "actual_scaled = scaled_price(act_temp)\n",
    "seq = actual_scaled[-window_size:]\n",
    "hasil = model.predict(seq.reshape(1, window_size, 1))\n",
    "hasil = inverse_scale(hasil)\n",
    "seq_res = np.append(seq_res, hasil.item())\n",
    "act_temp = np.append(act_temp, np.expand_dims([hasil.item()], axis=1))"
   ]
  },
  {
   "cell_type": "code",
   "execution_count": 149,
   "id": "9b635e6c-70be-4df3-bceb-db59c298bbfd",
   "metadata": {},
   "outputs": [
    {
     "name": "stdout",
     "output_type": "stream",
     "text": [
      "1/1 [==============================] - 0s 19ms/step\n"
     ]
    }
   ],
   "source": [
    "actual_scaled = scaled_price(act_temp)\n",
    "seq = actual_scaled[-window_size:]\n",
    "hasil = model.predict(seq.reshape(1, window_size, 1))\n",
    "hasil = inverse_scale(hasil)\n",
    "seq_res = np.append(seq_res, hasil.item())\n",
    "act_temp = np.append(act_temp, np.expand_dims([hasil.item()], axis=1))"
   ]
  },
  {
   "cell_type": "code",
   "execution_count": 150,
   "id": "c88db887-a080-42d0-a582-df48f885a204",
   "metadata": {},
   "outputs": [
    {
     "data": {
      "text/plain": [
       "array([20546.59375   , 21174.99414062, 17941.86914062, 18213.17578125,\n",
       "       18101.4609375 , 18131.33789062, 16547.16015625, 16456.9375    ,\n",
       "       20563.70117188, 21039.5234375 , 20016.58398438, 20396.45703125,\n",
       "       23095.51757812, 22849.328125  , 19652.2109375 , 19664.3671875 ,\n",
       "       18727.21484375, 18924.578125  , 20048.69140625, 20393.32617188,\n",
       "       20047.13085938, 20117.66210938, 20043.7109375 , 20151.85351562,\n",
       "       21917.23828125, 22074.63085938, 21995.30078125, 21790.02539062])"
      ]
     },
     "execution_count": 150,
     "metadata": {},
     "output_type": "execute_result"
    }
   ],
   "source": [
    "seq_res"
   ]
  },
  {
   "cell_type": "code",
   "execution_count": 151,
   "id": "1fbbbeb2-1360-4222-812f-42fa0ee6c387",
   "metadata": {},
   "outputs": [
    {
     "name": "stdout",
     "output_type": "stream",
     "text": [
      "     3 Hari  Harga/3 hari\n",
      "438     439       22000.0\n",
      "439     440       22000.0\n"
     ]
    }
   ],
   "source": [
    "print(weekly_data[(weekly_data['3 Hari'] > 438) & (weekly_data['3 Hari'] <= 440)])"
   ]
  },
  {
   "cell_type": "code",
   "execution_count": 152,
   "id": "d6b2ee73-0418-49df-b8ed-cf28be4b174d",
   "metadata": {},
   "outputs": [],
   "source": [
    "actual = np.append(actual, [22000.00, 22000.00])"
   ]
  },
  {
   "cell_type": "code",
   "execution_count": null,
   "id": "6880c0b3-2531-4930-a3c7-f833032b772e",
   "metadata": {},
   "outputs": [],
   "source": [
    "act_temp = actual.reshape(-1, 1)\n",
    "# seq_res = np.array([])"
   ]
  },
  {
   "cell_type": "code",
   "execution_count": null,
   "id": "e7b6a821-70b2-4c0c-9649-95a8c85fa98a",
   "metadata": {},
   "outputs": [],
   "source": [
    "actual_scaled = scaled_price(act_temp)\n",
    "seq = actual_scaled[-window_size:]\n",
    "hasil = model.predict(seq.reshape(1, window_size, 1))\n",
    "hasil = inverse_scale(hasil)\n",
    "seq_res = np.append(seq_res, hasil.item())\n",
    "act_temp = np.append(act_temp, np.expand_dims([hasil.item()], axis=1))"
   ]
  },
  {
   "cell_type": "code",
   "execution_count": null,
   "id": "9ac68741-6bb3-4f09-9f29-20574c98906c",
   "metadata": {},
   "outputs": [],
   "source": [
    "actual_scaled = scaled_price(act_temp)\n",
    "seq = actual_scaled[-window_size:]\n",
    "hasil = model.predict(seq.reshape(1, window_size, 1))\n",
    "hasil = inverse_scale(hasil)\n",
    "seq_res = np.append(seq_res, hasil.item())\n",
    "act_temp = np.append(act_temp, np.expand_dims([hasil.item()], axis=1))"
   ]
  },
  {
   "cell_type": "code",
   "execution_count": null,
   "id": "1b3f00bd-47b5-4267-b184-e2ce0339b5da",
   "metadata": {},
   "outputs": [],
   "source": [
    "seq_res"
   ]
  },
  {
   "cell_type": "code",
   "execution_count": null,
   "id": "0d1f14f4-4544-409b-81f3-c39b6b5270d3",
   "metadata": {},
   "outputs": [],
   "source": [
    "print(weekly_data[(weekly_data['Minggu'] > 187) & (weekly_data['Minggu'] <= 189)])"
   ]
  },
  {
   "cell_type": "code",
   "execution_count": null,
   "id": "e14b2cf1-bf37-4741-891f-7a3ca4454652",
   "metadata": {},
   "outputs": [],
   "source": [
    "actual = np.append(actual, [22000.00, 22000.00])"
   ]
  },
  {
   "cell_type": "code",
   "execution_count": null,
   "id": "14627845-afd0-47aa-bf7a-f1c0de5a43b6",
   "metadata": {},
   "outputs": [],
   "source": [
    "act_temp = actual.reshape(-1, 1)\n",
    "# seq_res = np.array([])"
   ]
  },
  {
   "cell_type": "code",
   "execution_count": null,
   "id": "76855bd2-cb75-407c-a022-0b3944f5574f",
   "metadata": {},
   "outputs": [],
   "source": [
    "actual_scaled = scaled_price(act_temp)\n",
    "seq = actual_scaled[-window_size:]\n",
    "hasil = model.predict(seq.reshape(1, window_size, 1))\n",
    "hasil = inverse_scale(hasil)\n",
    "seq_res = np.append(seq_res, hasil.item())\n",
    "act_temp = np.append(act_temp, np.expand_dims([hasil.item()], axis=1))"
   ]
  },
  {
   "cell_type": "code",
   "execution_count": null,
   "id": "95081973-0892-42a5-870d-c611f1bd3971",
   "metadata": {},
   "outputs": [],
   "source": [
    "actual_scaled = scaled_price(act_temp)\n",
    "seq = actual_scaled[-window_size:]\n",
    "hasil = model.predict(seq.reshape(1, window_size, 1))\n",
    "hasil = inverse_scale(hasil)\n",
    "seq_res = np.append(seq_res, hasil.item())\n",
    "act_temp = np.append(act_temp, np.expand_dims([hasil.item()], axis=1))"
   ]
  },
  {
   "cell_type": "code",
   "execution_count": null,
   "id": "e3a323cd-d4ad-434f-a4da-b13e568805c3",
   "metadata": {},
   "outputs": [],
   "source": [
    "seq_res"
   ]
  },
  {
   "cell_type": "code",
   "execution_count": null,
   "id": "9d95e206-6280-4b75-96b2-cf7a2161c3f0",
   "metadata": {},
   "outputs": [],
   "source": [
    "actual[-32:]"
   ]
  },
  {
   "cell_type": "code",
   "execution_count": null,
   "id": "95a92423-6392-41f8-949c-436c1cdb6e1f",
   "metadata": {},
   "outputs": [],
   "source": [
    "actual = np.append(actual, [28000.00, 28000.00])"
   ]
  },
  {
   "cell_type": "code",
   "execution_count": 153,
   "id": "b5810e34-5f50-477b-9774-1a512e60b177",
   "metadata": {},
   "outputs": [
    {
     "data": {
      "text/plain": [
       "(28,)"
      ]
     },
     "execution_count": 153,
     "metadata": {},
     "output_type": "execute_result"
    }
   ],
   "source": [
    "seq_res.shape"
   ]
  },
  {
   "cell_type": "code",
   "execution_count": 154,
   "id": "e7d377e2-ecfc-424b-8c77-950eab907e76",
   "metadata": {},
   "outputs": [
    {
     "data": {
      "text/plain": [
       "<matplotlib.legend.Legend at 0x166a721d960>"
      ]
     },
     "execution_count": 154,
     "metadata": {},
     "output_type": "execute_result"
    },
    {
     "data": {
      "image/png": "[encoded data removed]",
      "text/plain": [
       "<Figure size 640x480 with 1 Axes>"
      ]
     },
     "metadata": {},
     "output_type": "display_data"
    }
   ],
   "source": [
    "plt.plot(seq_res, label='prediction')\n",
    "plt.plot(actual[-28:], label='actual')\n",
    "plt.legend()"
   ]
  },
  {
   "cell_type": "code",
   "execution_count": 156,
   "id": "8532e906-6df0-4f51-b616-86b2cc578553",
   "metadata": {},
   "outputs": [
    {
     "name": "stdout",
     "output_type": "stream",
     "text": [
      "mae: 1098.51\n",
      "mse: 2477164.62\n",
      "rmse: 1573.90\n"
     ]
    }
   ],
   "source": [
    "mae = mean_absolute_error(seq_res, actual[-28:])\n",
    "mse = mean_squared_error(seq_res, actual[-28:])\n",
    "rmse = np.sqrt(mse)\n",
    "\n",
    "print(f'mae: {mae:.2f}')\n",
    "print(f'mse: {mse:.2f}')\n",
    "print(f'rmse: {rmse:.2f}')"
   ]
  },
  {
   "cell_type": "code",
   "execution_count": 157,
   "id": "c0327bb2-e4dd-4966-87be-9cc6e4b17368",
   "metadata": {},
   "outputs": [
    {
     "name": "stdout",
     "output_type": "stream",
     "text": [
      "Akurasi prediksi: 94.45%\n"
     ]
    }
   ],
   "source": [
    "mape = np.mean(np.abs((seq_res - actual[-28:]) / seq_res)) * 100\n",
    "accuracy = 100 - mape\n",
    "print(f\"Akurasi prediksi: {accuracy:.2f}%\")"
   ]
  },
  {
   "cell_type": "code",
   "execution_count": null,
   "id": "34529700-cb6f-4824-9311-380e56ed38cc",
   "metadata": {},
   "outputs": [],
   "source": [
    "def predict_2_weeks(actual):\n",
    "    act_temp = actual.reshape(-1, 1)\n",
    "    seq_res = np.array([])\n",
    "    for i in range(2):\n",
    "        actual_scaled = scaled_price(act_temp)\n",
    "        seq = actual_scaled[-window_size:]\n",
    "        hasil = model.predict(seq.reshape(1, window_size, 1))\n",
    "        hasil = inverse_scale(hasil)\n",
    "        seq_res = np.append(seq_res, hasil.item())\n",
    "        act_temp = np.append(act_temp, np.expand_dims([hasil.item()], axis=1))\n",
    "    return act_temp, seq_res"
   ]
  },
  {
   "cell_type": "markdown",
   "id": "152b7597-ccd7-48a4-b580-b7d092c5bc3d",
   "metadata": {},
   "source": [
    "## Deploy Model"
   ]
  },
  {
   "cell_type": "code",
   "execution_count": null,
   "id": "45cfc3d3-9192-43b2-8f5b-684c4f95cb92",
   "metadata": {},
   "outputs": [],
   "source": [
    "export_dir = 'saved_model/1'\n",
    "\n",
    "tf.saved_model.save(model, export_dir)"
   ]
  },
  {
   "cell_type": "code",
   "execution_count": null,
   "id": "15a96927-e080-4723-b3f1-495b2b99717b",
   "metadata": {},
   "outputs": [],
   "source": [
    "# Select mode of optimization\n",
    "mode = \"Default\" \n",
    "\n",
    "if mode == 'Storage':\n",
    "    optimization = tf.lite.Optimize.OPTIMIZE_FOR_SIZE\n",
    "elif mode == 'Speed':\n",
    "    optimization = tf.lite.Optimize.OPTIMIZE_FOR_LATENCY\n",
    "else:\n",
    "    optimization = tf.lite.Optimize.DEFAULT"
   ]
  },
  {
   "cell_type": "code",
   "execution_count": null,
   "id": "9bb80f97-9d0c-47b4-9788-75b9c2797440",
   "metadata": {},
   "outputs": [],
   "source": [
    "converter = tf.lite.TFLiteConverter.from_saved_model(export_dir)\n",
    "\n",
    "# Set the optimzations\n",
    "converter.optimizations = [optimization]\n",
    "\n",
    "# Invoke the converter to finally generate the TFLite model\n",
    "tflite_model = converter.convert();"
   ]
  },
  {
   "cell_type": "code",
   "execution_count": null,
   "id": "d5bc73bd-f524-404e-ac76-ec00ed0f692c",
   "metadata": {},
   "outputs": [],
   "source": [
    "import pathlib\n",
    "\n",
    "tflite_model_file = pathlib.Path('./model.tflite')\n",
    "tflite_model_file.write_bytes(tflite_model)"
   ]
  },
  {
   "cell_type": "markdown",
   "id": "2525c094-22dc-4e95-a046-34dcac261888",
   "metadata": {},
   "source": [
    "## Load Model"
   ]
  },
  {
   "cell_type": "code",
   "execution_count": null,
   "id": "a2fa76cf-9f46-4cf4-8642-06b6a399b828",
   "metadata": {},
   "outputs": [],
   "source": [
    "# Load TFLite model and allocate tensors.\n",
    "interpreter = tf.lite.Interpreter(model_content=tflite_model)\n",
    "interpreter.allocate_tensors()\n",
    "\n",
    "input_index = interpreter.get_input_details()[0][\"index\"]\n",
    "output_index = interpreter.get_output_details()[0][\"index\"]"
   ]
  },
  {
   "cell_type": "code",
   "execution_count": null,
   "id": "5c9d007a-2911-4564-8d64-ebec8adfcbce",
   "metadata": {},
   "outputs": [],
   "source": []
  }
 ],
 "metadata": {
  "kernelspec": {
   "display_name": "Python 3 (ipykernel)",
   "language": "python",
   "name": "python3"
  },
  "language_info": {
   "codemirror_mode": {
    "name": "ipython",
    "version": 3
   },
   "file_extension": ".py",
   "mimetype": "text/x-python",
   "name": "python",
   "nbconvert_exporter": "python",
   "pygments_lexer": "ipython3",
   "version": "3.10.15"
  }
 },
 "nbformat": 4,
 "nbformat_minor": 5
}
